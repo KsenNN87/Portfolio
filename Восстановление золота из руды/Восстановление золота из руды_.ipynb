{
 "cells": [
  {
   "cell_type": "markdown",
   "metadata": {},
   "source": [
    "# Восстановление золота из руды"
   ]
  },
  {
   "cell_type": "markdown",
   "metadata": {},
   "source": [
    "Необходимо подготовить прототип модели машинного обучения для «Цифры». Компания разрабатывает решения для эффективной работы промышленных предприятий. Модель должна предсказать коэффициент восстановления золота из золотосодержащей руды для оптимизации производства и для запуска предприятия с безубыточными характеристиками. Можно использовать данные с параметрами добычи и очистки. \n",
    "\n",
    "Нам нужно:\n",
    "1. Обработать данные;\n",
    "2. Провести исследовательский анализ данных;\n",
    "3. Построить и обучить модель."
   ]
  },
  {
   "cell_type": "markdown",
   "metadata": {},
   "source": [
    "## Подготовка данных"
   ]
  },
  {
   "cell_type": "markdown",
   "metadata": {},
   "source": [
    "### Импортируем библиотеки и модули"
   ]
  },
  {
   "cell_type": "code",
   "execution_count": 1,
   "metadata": {},
   "outputs": [],
   "source": [
    "import pandas as pd\n",
    "\n",
    "import matplotlib.pyplot as plt\n",
    "\n",
    "import numpy as np\n",
    "\n",
    "import warnings\n",
    "\n",
    "from numpy.random import RandomState\n",
    "\n",
    "from sklearn.dummy import DummyRegressor\n",
    "from sklearn.ensemble import RandomForestRegressor\n",
    "from sklearn.linear_model import LinearRegression\n",
    "from sklearn.metrics import make_scorer\n",
    "from sklearn.metrics import mean_absolute_error\n",
    "from sklearn.model_selection import GridSearchCV\n",
    "from sklearn.model_selection import cross_val_score\n",
    "from sklearn.preprocessing import StandardScaler\n",
    "from sklearn.tree import DecisionTreeRegressor\n"
   ]
  },
  {
   "cell_type": "markdown",
   "metadata": {},
   "source": [
    "### Отключим некритические предупреждения в коде"
   ]
  },
  {
   "cell_type": "code",
   "execution_count": 2,
   "metadata": {},
   "outputs": [],
   "source": [
    "warnings.filterwarnings(\"ignore\")"
   ]
  },
  {
   "cell_type": "markdown",
   "metadata": {},
   "source": [
    "### Откроем файлы с данными"
   ]
  },
  {
   "cell_type": "code",
   "execution_count": 3,
   "metadata": {},
   "outputs": [],
   "source": [
    "gold_recovery_train_new = pd.read_csv('/datasets/gold_recovery_train_new.csv')\n",
    "gold_recovery_test_new = pd.read_csv('/datasets/gold_recovery_test_new.csv')\n",
    "gold_recovery_full_new = pd.read_csv('/datasets/gold_recovery_full_new.csv')"
   ]
  },
  {
   "cell_type": "markdown",
   "metadata": {},
   "source": [
    "### Посмотрим общую информацию о файлах"
   ]
  },
  {
   "cell_type": "code",
   "execution_count": 4,
   "metadata": {
    "scrolled": true
   },
   "outputs": [
    {
     "name": "stdout",
     "output_type": "stream",
     "text": [
      "<class 'pandas.core.frame.DataFrame'>\n",
      "RangeIndex: 14149 entries, 0 to 14148\n",
      "Data columns (total 87 columns):\n",
      " #   Column                                              Non-Null Count  Dtype  \n",
      "---  ------                                              --------------  -----  \n",
      " 0   date                                                14149 non-null  object \n",
      " 1   final.output.concentrate_ag                         14148 non-null  float64\n",
      " 2   final.output.concentrate_pb                         14148 non-null  float64\n",
      " 3   final.output.concentrate_sol                        13938 non-null  float64\n",
      " 4   final.output.concentrate_au                         14149 non-null  float64\n",
      " 5   final.output.recovery                               14149 non-null  float64\n",
      " 6   final.output.tail_ag                                14149 non-null  float64\n",
      " 7   final.output.tail_pb                                14049 non-null  float64\n",
      " 8   final.output.tail_sol                               14144 non-null  float64\n",
      " 9   final.output.tail_au                                14149 non-null  float64\n",
      " 10  primary_cleaner.input.sulfate                       14129 non-null  float64\n",
      " 11  primary_cleaner.input.depressant                    14117 non-null  float64\n",
      " 12  primary_cleaner.input.feed_size                     14149 non-null  float64\n",
      " 13  primary_cleaner.input.xanthate                      14049 non-null  float64\n",
      " 14  primary_cleaner.output.concentrate_ag               14149 non-null  float64\n",
      " 15  primary_cleaner.output.concentrate_pb               14063 non-null  float64\n",
      " 16  primary_cleaner.output.concentrate_sol              13863 non-null  float64\n",
      " 17  primary_cleaner.output.concentrate_au               14149 non-null  float64\n",
      " 18  primary_cleaner.output.tail_ag                      14148 non-null  float64\n",
      " 19  primary_cleaner.output.tail_pb                      14134 non-null  float64\n",
      " 20  primary_cleaner.output.tail_sol                     14103 non-null  float64\n",
      " 21  primary_cleaner.output.tail_au                      14149 non-null  float64\n",
      " 22  primary_cleaner.state.floatbank8_a_air              14145 non-null  float64\n",
      " 23  primary_cleaner.state.floatbank8_a_level            14148 non-null  float64\n",
      " 24  primary_cleaner.state.floatbank8_b_air              14145 non-null  float64\n",
      " 25  primary_cleaner.state.floatbank8_b_level            14148 non-null  float64\n",
      " 26  primary_cleaner.state.floatbank8_c_air              14147 non-null  float64\n",
      " 27  primary_cleaner.state.floatbank8_c_level            14148 non-null  float64\n",
      " 28  primary_cleaner.state.floatbank8_d_air              14146 non-null  float64\n",
      " 29  primary_cleaner.state.floatbank8_d_level            14148 non-null  float64\n",
      " 30  rougher.calculation.sulfate_to_au_concentrate       14148 non-null  float64\n",
      " 31  rougher.calculation.floatbank10_sulfate_to_au_feed  14148 non-null  float64\n",
      " 32  rougher.calculation.floatbank11_sulfate_to_au_feed  14148 non-null  float64\n",
      " 33  rougher.calculation.au_pb_ratio                     14149 non-null  float64\n",
      " 34  rougher.input.feed_ag                               14149 non-null  float64\n",
      " 35  rougher.input.feed_pb                               14049 non-null  float64\n",
      " 36  rougher.input.feed_rate                             14141 non-null  float64\n",
      " 37  rougher.input.feed_size                             14005 non-null  float64\n",
      " 38  rougher.input.feed_sol                              14071 non-null  float64\n",
      " 39  rougher.input.feed_au                               14149 non-null  float64\n",
      " 40  rougher.input.floatbank10_sulfate                   14120 non-null  float64\n",
      " 41  rougher.input.floatbank10_xanthate                  14141 non-null  float64\n",
      " 42  rougher.input.floatbank11_sulfate                   14113 non-null  float64\n",
      " 43  rougher.input.floatbank11_xanthate                  13721 non-null  float64\n",
      " 44  rougher.output.concentrate_ag                       14149 non-null  float64\n",
      " 45  rougher.output.concentrate_pb                       14149 non-null  float64\n",
      " 46  rougher.output.concentrate_sol                      14127 non-null  float64\n",
      " 47  rougher.output.concentrate_au                       14149 non-null  float64\n",
      " 48  rougher.output.recovery                             14149 non-null  float64\n",
      " 49  rougher.output.tail_ag                              14148 non-null  float64\n",
      " 50  rougher.output.tail_pb                              14149 non-null  float64\n",
      " 51  rougher.output.tail_sol                             14149 non-null  float64\n",
      " 52  rougher.output.tail_au                              14149 non-null  float64\n",
      " 53  rougher.state.floatbank10_a_air                     14148 non-null  float64\n",
      " 54  rougher.state.floatbank10_a_level                   14148 non-null  float64\n",
      " 55  rougher.state.floatbank10_b_air                     14148 non-null  float64\n",
      " 56  rougher.state.floatbank10_b_level                   14148 non-null  float64\n",
      " 57  rougher.state.floatbank10_c_air                     14148 non-null  float64\n",
      " 58  rougher.state.floatbank10_c_level                   14148 non-null  float64\n",
      " 59  rougher.state.floatbank10_d_air                     14149 non-null  float64\n",
      " 60  rougher.state.floatbank10_d_level                   14149 non-null  float64\n",
      " 61  rougher.state.floatbank10_e_air                     13713 non-null  float64\n",
      " 62  rougher.state.floatbank10_e_level                   14149 non-null  float64\n",
      " 63  rougher.state.floatbank10_f_air                     14149 non-null  float64\n",
      " 64  rougher.state.floatbank10_f_level                   14149 non-null  float64\n",
      " 65  secondary_cleaner.output.tail_ag                    14147 non-null  float64\n",
      " 66  secondary_cleaner.output.tail_pb                    14139 non-null  float64\n",
      " 67  secondary_cleaner.output.tail_sol                   12544 non-null  float64\n",
      " 68  secondary_cleaner.output.tail_au                    14149 non-null  float64\n",
      " 69  secondary_cleaner.state.floatbank2_a_air            13932 non-null  float64\n",
      " 70  secondary_cleaner.state.floatbank2_a_level          14148 non-null  float64\n",
      " 71  secondary_cleaner.state.floatbank2_b_air            14128 non-null  float64\n",
      " 72  secondary_cleaner.state.floatbank2_b_level          14148 non-null  float64\n",
      " 73  secondary_cleaner.state.floatbank3_a_air            14145 non-null  float64\n",
      " 74  secondary_cleaner.state.floatbank3_a_level          14148 non-null  float64\n",
      " 75  secondary_cleaner.state.floatbank3_b_air            14148 non-null  float64\n",
      " 76  secondary_cleaner.state.floatbank3_b_level          14148 non-null  float64\n",
      " 77  secondary_cleaner.state.floatbank4_a_air            14143 non-null  float64\n",
      " 78  secondary_cleaner.state.floatbank4_a_level          14148 non-null  float64\n",
      " 79  secondary_cleaner.state.floatbank4_b_air            14148 non-null  float64\n",
      " 80  secondary_cleaner.state.floatbank4_b_level          14148 non-null  float64\n",
      " 81  secondary_cleaner.state.floatbank5_a_air            14148 non-null  float64\n",
      " 82  secondary_cleaner.state.floatbank5_a_level          14148 non-null  float64\n",
      " 83  secondary_cleaner.state.floatbank5_b_air            14148 non-null  float64\n",
      " 84  secondary_cleaner.state.floatbank5_b_level          14148 non-null  float64\n",
      " 85  secondary_cleaner.state.floatbank6_a_air            14147 non-null  float64\n",
      " 86  secondary_cleaner.state.floatbank6_a_level          14148 non-null  float64\n",
      "dtypes: float64(86), object(1)\n",
      "memory usage: 9.4+ MB\n"
     ]
    }
   ],
   "source": [
    "gold_recovery_train_new.info()"
   ]
  },
  {
   "cell_type": "code",
   "execution_count": 5,
   "metadata": {
    "scrolled": true
   },
   "outputs": [
    {
     "name": "stdout",
     "output_type": "stream",
     "text": [
      "<class 'pandas.core.frame.DataFrame'>\n",
      "RangeIndex: 5290 entries, 0 to 5289\n",
      "Data columns (total 53 columns):\n",
      " #   Column                                      Non-Null Count  Dtype  \n",
      "---  ------                                      --------------  -----  \n",
      " 0   date                                        5290 non-null   object \n",
      " 1   primary_cleaner.input.sulfate               5286 non-null   float64\n",
      " 2   primary_cleaner.input.depressant            5285 non-null   float64\n",
      " 3   primary_cleaner.input.feed_size             5290 non-null   float64\n",
      " 4   primary_cleaner.input.xanthate              5286 non-null   float64\n",
      " 5   primary_cleaner.state.floatbank8_a_air      5290 non-null   float64\n",
      " 6   primary_cleaner.state.floatbank8_a_level    5290 non-null   float64\n",
      " 7   primary_cleaner.state.floatbank8_b_air      5290 non-null   float64\n",
      " 8   primary_cleaner.state.floatbank8_b_level    5290 non-null   float64\n",
      " 9   primary_cleaner.state.floatbank8_c_air      5290 non-null   float64\n",
      " 10  primary_cleaner.state.floatbank8_c_level    5290 non-null   float64\n",
      " 11  primary_cleaner.state.floatbank8_d_air      5290 non-null   float64\n",
      " 12  primary_cleaner.state.floatbank8_d_level    5290 non-null   float64\n",
      " 13  rougher.input.feed_ag                       5290 non-null   float64\n",
      " 14  rougher.input.feed_pb                       5290 non-null   float64\n",
      " 15  rougher.input.feed_rate                     5287 non-null   float64\n",
      " 16  rougher.input.feed_size                     5289 non-null   float64\n",
      " 17  rougher.input.feed_sol                      5269 non-null   float64\n",
      " 18  rougher.input.feed_au                       5290 non-null   float64\n",
      " 19  rougher.input.floatbank10_sulfate           5285 non-null   float64\n",
      " 20  rougher.input.floatbank10_xanthate          5290 non-null   float64\n",
      " 21  rougher.input.floatbank11_sulfate           5282 non-null   float64\n",
      " 22  rougher.input.floatbank11_xanthate          5265 non-null   float64\n",
      " 23  rougher.state.floatbank10_a_air             5290 non-null   float64\n",
      " 24  rougher.state.floatbank10_a_level           5290 non-null   float64\n",
      " 25  rougher.state.floatbank10_b_air             5290 non-null   float64\n",
      " 26  rougher.state.floatbank10_b_level           5290 non-null   float64\n",
      " 27  rougher.state.floatbank10_c_air             5290 non-null   float64\n",
      " 28  rougher.state.floatbank10_c_level           5290 non-null   float64\n",
      " 29  rougher.state.floatbank10_d_air             5290 non-null   float64\n",
      " 30  rougher.state.floatbank10_d_level           5290 non-null   float64\n",
      " 31  rougher.state.floatbank10_e_air             5290 non-null   float64\n",
      " 32  rougher.state.floatbank10_e_level           5290 non-null   float64\n",
      " 33  rougher.state.floatbank10_f_air             5290 non-null   float64\n",
      " 34  rougher.state.floatbank10_f_level           5290 non-null   float64\n",
      " 35  secondary_cleaner.state.floatbank2_a_air    5287 non-null   float64\n",
      " 36  secondary_cleaner.state.floatbank2_a_level  5290 non-null   float64\n",
      " 37  secondary_cleaner.state.floatbank2_b_air    5288 non-null   float64\n",
      " 38  secondary_cleaner.state.floatbank2_b_level  5290 non-null   float64\n",
      " 39  secondary_cleaner.state.floatbank3_a_air    5281 non-null   float64\n",
      " 40  secondary_cleaner.state.floatbank3_a_level  5290 non-null   float64\n",
      " 41  secondary_cleaner.state.floatbank3_b_air    5290 non-null   float64\n",
      " 42  secondary_cleaner.state.floatbank3_b_level  5290 non-null   float64\n",
      " 43  secondary_cleaner.state.floatbank4_a_air    5290 non-null   float64\n",
      " 44  secondary_cleaner.state.floatbank4_a_level  5290 non-null   float64\n",
      " 45  secondary_cleaner.state.floatbank4_b_air    5290 non-null   float64\n",
      " 46  secondary_cleaner.state.floatbank4_b_level  5290 non-null   float64\n",
      " 47  secondary_cleaner.state.floatbank5_a_air    5290 non-null   float64\n",
      " 48  secondary_cleaner.state.floatbank5_a_level  5290 non-null   float64\n",
      " 49  secondary_cleaner.state.floatbank5_b_air    5290 non-null   float64\n",
      " 50  secondary_cleaner.state.floatbank5_b_level  5290 non-null   float64\n",
      " 51  secondary_cleaner.state.floatbank6_a_air    5290 non-null   float64\n",
      " 52  secondary_cleaner.state.floatbank6_a_level  5290 non-null   float64\n",
      "dtypes: float64(52), object(1)\n",
      "memory usage: 2.1+ MB\n"
     ]
    }
   ],
   "source": [
    "gold_recovery_test_new.info()"
   ]
  },
  {
   "cell_type": "code",
   "execution_count": 6,
   "metadata": {
    "scrolled": true
   },
   "outputs": [
    {
     "name": "stdout",
     "output_type": "stream",
     "text": [
      "<class 'pandas.core.frame.DataFrame'>\n",
      "RangeIndex: 19439 entries, 0 to 19438\n",
      "Data columns (total 87 columns):\n",
      " #   Column                                              Non-Null Count  Dtype  \n",
      "---  ------                                              --------------  -----  \n",
      " 0   date                                                19439 non-null  object \n",
      " 1   final.output.concentrate_ag                         19438 non-null  float64\n",
      " 2   final.output.concentrate_pb                         19438 non-null  float64\n",
      " 3   final.output.concentrate_sol                        19228 non-null  float64\n",
      " 4   final.output.concentrate_au                         19439 non-null  float64\n",
      " 5   final.output.recovery                               19439 non-null  float64\n",
      " 6   final.output.tail_ag                                19438 non-null  float64\n",
      " 7   final.output.tail_pb                                19338 non-null  float64\n",
      " 8   final.output.tail_sol                               19433 non-null  float64\n",
      " 9   final.output.tail_au                                19439 non-null  float64\n",
      " 10  primary_cleaner.input.sulfate                       19415 non-null  float64\n",
      " 11  primary_cleaner.input.depressant                    19402 non-null  float64\n",
      " 12  primary_cleaner.input.feed_size                     19439 non-null  float64\n",
      " 13  primary_cleaner.input.xanthate                      19335 non-null  float64\n",
      " 14  primary_cleaner.output.concentrate_ag               19439 non-null  float64\n",
      " 15  primary_cleaner.output.concentrate_pb               19323 non-null  float64\n",
      " 16  primary_cleaner.output.concentrate_sol              19069 non-null  float64\n",
      " 17  primary_cleaner.output.concentrate_au               19439 non-null  float64\n",
      " 18  primary_cleaner.output.tail_ag                      19435 non-null  float64\n",
      " 19  primary_cleaner.output.tail_pb                      19418 non-null  float64\n",
      " 20  primary_cleaner.output.tail_sol                     19377 non-null  float64\n",
      " 21  primary_cleaner.output.tail_au                      19439 non-null  float64\n",
      " 22  primary_cleaner.state.floatbank8_a_air              19435 non-null  float64\n",
      " 23  primary_cleaner.state.floatbank8_a_level            19438 non-null  float64\n",
      " 24  primary_cleaner.state.floatbank8_b_air              19435 non-null  float64\n",
      " 25  primary_cleaner.state.floatbank8_b_level            19438 non-null  float64\n",
      " 26  primary_cleaner.state.floatbank8_c_air              19437 non-null  float64\n",
      " 27  primary_cleaner.state.floatbank8_c_level            19438 non-null  float64\n",
      " 28  primary_cleaner.state.floatbank8_d_air              19436 non-null  float64\n",
      " 29  primary_cleaner.state.floatbank8_d_level            19438 non-null  float64\n",
      " 30  rougher.calculation.sulfate_to_au_concentrate       19437 non-null  float64\n",
      " 31  rougher.calculation.floatbank10_sulfate_to_au_feed  19437 non-null  float64\n",
      " 32  rougher.calculation.floatbank11_sulfate_to_au_feed  19437 non-null  float64\n",
      " 33  rougher.calculation.au_pb_ratio                     19439 non-null  float64\n",
      " 34  rougher.input.feed_ag                               19439 non-null  float64\n",
      " 35  rougher.input.feed_pb                               19339 non-null  float64\n",
      " 36  rougher.input.feed_rate                             19428 non-null  float64\n",
      " 37  rougher.input.feed_size                             19294 non-null  float64\n",
      " 38  rougher.input.feed_sol                              19340 non-null  float64\n",
      " 39  rougher.input.feed_au                               19439 non-null  float64\n",
      " 40  rougher.input.floatbank10_sulfate                   19405 non-null  float64\n",
      " 41  rougher.input.floatbank10_xanthate                  19431 non-null  float64\n",
      " 42  rougher.input.floatbank11_sulfate                   19395 non-null  float64\n",
      " 43  rougher.input.floatbank11_xanthate                  18986 non-null  float64\n",
      " 44  rougher.output.concentrate_ag                       19439 non-null  float64\n",
      " 45  rougher.output.concentrate_pb                       19439 non-null  float64\n",
      " 46  rougher.output.concentrate_sol                      19416 non-null  float64\n",
      " 47  rougher.output.concentrate_au                       19439 non-null  float64\n",
      " 48  rougher.output.recovery                             19439 non-null  float64\n",
      " 49  rougher.output.tail_ag                              19438 non-null  float64\n",
      " 50  rougher.output.tail_pb                              19439 non-null  float64\n",
      " 51  rougher.output.tail_sol                             19439 non-null  float64\n",
      " 52  rougher.output.tail_au                              19439 non-null  float64\n",
      " 53  rougher.state.floatbank10_a_air                     19438 non-null  float64\n",
      " 54  rougher.state.floatbank10_a_level                   19438 non-null  float64\n",
      " 55  rougher.state.floatbank10_b_air                     19438 non-null  float64\n",
      " 56  rougher.state.floatbank10_b_level                   19438 non-null  float64\n",
      " 57  rougher.state.floatbank10_c_air                     19438 non-null  float64\n",
      " 58  rougher.state.floatbank10_c_level                   19438 non-null  float64\n",
      " 59  rougher.state.floatbank10_d_air                     19439 non-null  float64\n",
      " 60  rougher.state.floatbank10_d_level                   19439 non-null  float64\n",
      " 61  rougher.state.floatbank10_e_air                     19003 non-null  float64\n",
      " 62  rougher.state.floatbank10_e_level                   19439 non-null  float64\n",
      " 63  rougher.state.floatbank10_f_air                     19439 non-null  float64\n",
      " 64  rougher.state.floatbank10_f_level                   19439 non-null  float64\n",
      " 65  secondary_cleaner.output.tail_ag                    19437 non-null  float64\n",
      " 66  secondary_cleaner.output.tail_pb                    19427 non-null  float64\n",
      " 67  secondary_cleaner.output.tail_sol                   17691 non-null  float64\n",
      " 68  secondary_cleaner.output.tail_au                    19439 non-null  float64\n",
      " 69  secondary_cleaner.state.floatbank2_a_air            19219 non-null  float64\n",
      " 70  secondary_cleaner.state.floatbank2_a_level          19438 non-null  float64\n",
      " 71  secondary_cleaner.state.floatbank2_b_air            19416 non-null  float64\n",
      " 72  secondary_cleaner.state.floatbank2_b_level          19438 non-null  float64\n",
      " 73  secondary_cleaner.state.floatbank3_a_air            19426 non-null  float64\n",
      " 74  secondary_cleaner.state.floatbank3_a_level          19438 non-null  float64\n",
      " 75  secondary_cleaner.state.floatbank3_b_air            19438 non-null  float64\n",
      " 76  secondary_cleaner.state.floatbank3_b_level          19438 non-null  float64\n",
      " 77  secondary_cleaner.state.floatbank4_a_air            19433 non-null  float64\n",
      " 78  secondary_cleaner.state.floatbank4_a_level          19438 non-null  float64\n",
      " 79  secondary_cleaner.state.floatbank4_b_air            19438 non-null  float64\n",
      " 80  secondary_cleaner.state.floatbank4_b_level          19438 non-null  float64\n",
      " 81  secondary_cleaner.state.floatbank5_a_air            19438 non-null  float64\n",
      " 82  secondary_cleaner.state.floatbank5_a_level          19438 non-null  float64\n",
      " 83  secondary_cleaner.state.floatbank5_b_air            19438 non-null  float64\n",
      " 84  secondary_cleaner.state.floatbank5_b_level          19438 non-null  float64\n",
      " 85  secondary_cleaner.state.floatbank6_a_air            19437 non-null  float64\n",
      " 86  secondary_cleaner.state.floatbank6_a_level          19438 non-null  float64\n",
      "dtypes: float64(86), object(1)\n",
      "memory usage: 12.9+ MB\n"
     ]
    }
   ],
   "source": [
    "gold_recovery_full_new.info()"
   ]
  },
  {
   "cell_type": "markdown",
   "metadata": {},
   "source": [
    "Видно, что в тестовой выборке отсутствует ряд признаков: \"final.output\", \"primary_cleaner.output\"."
   ]
  },
  {
   "cell_type": "markdown",
   "metadata": {},
   "source": [
    "### Проверим датасеты на наличие явных дубликатов"
   ]
  },
  {
   "cell_type": "code",
   "execution_count": 7,
   "metadata": {},
   "outputs": [
    {
     "data": {
      "text/plain": [
       "0"
      ]
     },
     "execution_count": 7,
     "metadata": {},
     "output_type": "execute_result"
    }
   ],
   "source": [
    "gold_recovery_train_new.duplicated().sum()"
   ]
  },
  {
   "cell_type": "code",
   "execution_count": 8,
   "metadata": {},
   "outputs": [
    {
     "data": {
      "text/plain": [
       "0"
      ]
     },
     "execution_count": 8,
     "metadata": {},
     "output_type": "execute_result"
    }
   ],
   "source": [
    "gold_recovery_test_new.duplicated().sum()"
   ]
  },
  {
   "cell_type": "code",
   "execution_count": 9,
   "metadata": {},
   "outputs": [
    {
     "data": {
      "text/plain": [
       "0"
      ]
     },
     "execution_count": 9,
     "metadata": {},
     "output_type": "execute_result"
    }
   ],
   "source": [
    "gold_recovery_full_new.duplicated().sum()"
   ]
  },
  {
   "cell_type": "markdown",
   "metadata": {},
   "source": [
    "### Посмотрим на количество пропущенных значений"
   ]
  },
  {
   "cell_type": "code",
   "execution_count": 10,
   "metadata": {
    "scrolled": true
   },
   "outputs": [
    {
     "data": {
      "text/plain": [
       "date                                            0\n",
       "final.output.concentrate_ag                     1\n",
       "final.output.concentrate_pb                     1\n",
       "final.output.concentrate_sol                  211\n",
       "final.output.concentrate_au                     0\n",
       "                                             ... \n",
       "secondary_cleaner.state.floatbank5_a_level      1\n",
       "secondary_cleaner.state.floatbank5_b_air        1\n",
       "secondary_cleaner.state.floatbank5_b_level      1\n",
       "secondary_cleaner.state.floatbank6_a_air        2\n",
       "secondary_cleaner.state.floatbank6_a_level      1\n",
       "Length: 87, dtype: int64"
      ]
     },
     "execution_count": 10,
     "metadata": {},
     "output_type": "execute_result"
    }
   ],
   "source": [
    "gold_recovery_train_new.isna().sum()"
   ]
  },
  {
   "cell_type": "code",
   "execution_count": 11,
   "metadata": {
    "scrolled": true
   },
   "outputs": [
    {
     "data": {
      "text/plain": [
       "date                                           0\n",
       "primary_cleaner.input.sulfate                  4\n",
       "primary_cleaner.input.depressant               5\n",
       "primary_cleaner.input.feed_size                0\n",
       "primary_cleaner.input.xanthate                 4\n",
       "primary_cleaner.state.floatbank8_a_air         0\n",
       "primary_cleaner.state.floatbank8_a_level       0\n",
       "primary_cleaner.state.floatbank8_b_air         0\n",
       "primary_cleaner.state.floatbank8_b_level       0\n",
       "primary_cleaner.state.floatbank8_c_air         0\n",
       "primary_cleaner.state.floatbank8_c_level       0\n",
       "primary_cleaner.state.floatbank8_d_air         0\n",
       "primary_cleaner.state.floatbank8_d_level       0\n",
       "rougher.input.feed_ag                          0\n",
       "rougher.input.feed_pb                          0\n",
       "rougher.input.feed_rate                        3\n",
       "rougher.input.feed_size                        1\n",
       "rougher.input.feed_sol                        21\n",
       "rougher.input.feed_au                          0\n",
       "rougher.input.floatbank10_sulfate              5\n",
       "rougher.input.floatbank10_xanthate             0\n",
       "rougher.input.floatbank11_sulfate              8\n",
       "rougher.input.floatbank11_xanthate            25\n",
       "rougher.state.floatbank10_a_air                0\n",
       "rougher.state.floatbank10_a_level              0\n",
       "rougher.state.floatbank10_b_air                0\n",
       "rougher.state.floatbank10_b_level              0\n",
       "rougher.state.floatbank10_c_air                0\n",
       "rougher.state.floatbank10_c_level              0\n",
       "rougher.state.floatbank10_d_air                0\n",
       "rougher.state.floatbank10_d_level              0\n",
       "rougher.state.floatbank10_e_air                0\n",
       "rougher.state.floatbank10_e_level              0\n",
       "rougher.state.floatbank10_f_air                0\n",
       "rougher.state.floatbank10_f_level              0\n",
       "secondary_cleaner.state.floatbank2_a_air       3\n",
       "secondary_cleaner.state.floatbank2_a_level     0\n",
       "secondary_cleaner.state.floatbank2_b_air       2\n",
       "secondary_cleaner.state.floatbank2_b_level     0\n",
       "secondary_cleaner.state.floatbank3_a_air       9\n",
       "secondary_cleaner.state.floatbank3_a_level     0\n",
       "secondary_cleaner.state.floatbank3_b_air       0\n",
       "secondary_cleaner.state.floatbank3_b_level     0\n",
       "secondary_cleaner.state.floatbank4_a_air       0\n",
       "secondary_cleaner.state.floatbank4_a_level     0\n",
       "secondary_cleaner.state.floatbank4_b_air       0\n",
       "secondary_cleaner.state.floatbank4_b_level     0\n",
       "secondary_cleaner.state.floatbank5_a_air       0\n",
       "secondary_cleaner.state.floatbank5_a_level     0\n",
       "secondary_cleaner.state.floatbank5_b_air       0\n",
       "secondary_cleaner.state.floatbank5_b_level     0\n",
       "secondary_cleaner.state.floatbank6_a_air       0\n",
       "secondary_cleaner.state.floatbank6_a_level     0\n",
       "dtype: int64"
      ]
     },
     "execution_count": 11,
     "metadata": {},
     "output_type": "execute_result"
    }
   ],
   "source": [
    "gold_recovery_test_new.isna().sum()"
   ]
  },
  {
   "cell_type": "code",
   "execution_count": 12,
   "metadata": {},
   "outputs": [
    {
     "data": {
      "text/plain": [
       "date                                            0\n",
       "final.output.concentrate_ag                     1\n",
       "final.output.concentrate_pb                     1\n",
       "final.output.concentrate_sol                  211\n",
       "final.output.concentrate_au                     0\n",
       "                                             ... \n",
       "secondary_cleaner.state.floatbank5_a_level      1\n",
       "secondary_cleaner.state.floatbank5_b_air        1\n",
       "secondary_cleaner.state.floatbank5_b_level      1\n",
       "secondary_cleaner.state.floatbank6_a_air        2\n",
       "secondary_cleaner.state.floatbank6_a_level      1\n",
       "Length: 87, dtype: int64"
      ]
     },
     "execution_count": 12,
     "metadata": {},
     "output_type": "execute_result"
    }
   ],
   "source": [
    "gold_recovery_full_new.isna().sum()"
   ]
  },
  {
   "cell_type": "markdown",
   "metadata": {},
   "source": [
    "Во всех датасетах имеются пропуски в различных столбцах. Столбец \"date\" заполнен во всех  датасетах. "
   ]
  },
  {
   "cell_type": "markdown",
   "metadata": {},
   "source": [
    "### Посмотрим на числовые характеристики в датасетах"
   ]
  },
  {
   "cell_type": "code",
   "execution_count": 13,
   "metadata": {
    "scrolled": true
   },
   "outputs": [
    {
     "data": {
      "text/html": [
       "<div>\n",
       "<style scoped>\n",
       "    .dataframe tbody tr th:only-of-type {\n",
       "        vertical-align: middle;\n",
       "    }\n",
       "\n",
       "    .dataframe tbody tr th {\n",
       "        vertical-align: top;\n",
       "    }\n",
       "\n",
       "    .dataframe thead th {\n",
       "        text-align: right;\n",
       "    }\n",
       "</style>\n",
       "<table border=\"1\" class=\"dataframe\">\n",
       "  <thead>\n",
       "    <tr style=\"text-align: right;\">\n",
       "      <th></th>\n",
       "      <th>final.output.concentrate_ag</th>\n",
       "      <th>final.output.concentrate_pb</th>\n",
       "      <th>final.output.concentrate_sol</th>\n",
       "      <th>final.output.concentrate_au</th>\n",
       "      <th>final.output.recovery</th>\n",
       "      <th>final.output.tail_ag</th>\n",
       "      <th>final.output.tail_pb</th>\n",
       "      <th>final.output.tail_sol</th>\n",
       "      <th>final.output.tail_au</th>\n",
       "      <th>primary_cleaner.input.sulfate</th>\n",
       "      <th>...</th>\n",
       "      <th>secondary_cleaner.state.floatbank4_a_air</th>\n",
       "      <th>secondary_cleaner.state.floatbank4_a_level</th>\n",
       "      <th>secondary_cleaner.state.floatbank4_b_air</th>\n",
       "      <th>secondary_cleaner.state.floatbank4_b_level</th>\n",
       "      <th>secondary_cleaner.state.floatbank5_a_air</th>\n",
       "      <th>secondary_cleaner.state.floatbank5_a_level</th>\n",
       "      <th>secondary_cleaner.state.floatbank5_b_air</th>\n",
       "      <th>secondary_cleaner.state.floatbank5_b_level</th>\n",
       "      <th>secondary_cleaner.state.floatbank6_a_air</th>\n",
       "      <th>secondary_cleaner.state.floatbank6_a_level</th>\n",
       "    </tr>\n",
       "  </thead>\n",
       "  <tbody>\n",
       "    <tr>\n",
       "      <th>count</th>\n",
       "      <td>14148.000000</td>\n",
       "      <td>14148.000000</td>\n",
       "      <td>13938.000000</td>\n",
       "      <td>14149.000000</td>\n",
       "      <td>14149.000000</td>\n",
       "      <td>14149.000000</td>\n",
       "      <td>14049.000000</td>\n",
       "      <td>14144.000000</td>\n",
       "      <td>14149.000000</td>\n",
       "      <td>14129.000000</td>\n",
       "      <td>...</td>\n",
       "      <td>14143.000000</td>\n",
       "      <td>14148.000000</td>\n",
       "      <td>14148.000000</td>\n",
       "      <td>14148.000000</td>\n",
       "      <td>14148.000000</td>\n",
       "      <td>14148.000000</td>\n",
       "      <td>14148.000000</td>\n",
       "      <td>14148.000000</td>\n",
       "      <td>14147.000000</td>\n",
       "      <td>14148.000000</td>\n",
       "    </tr>\n",
       "    <tr>\n",
       "      <th>mean</th>\n",
       "      <td>5.142034</td>\n",
       "      <td>10.132960</td>\n",
       "      <td>9.202849</td>\n",
       "      <td>44.003792</td>\n",
       "      <td>66.518832</td>\n",
       "      <td>9.607035</td>\n",
       "      <td>2.597298</td>\n",
       "      <td>10.512122</td>\n",
       "      <td>2.918421</td>\n",
       "      <td>133.320659</td>\n",
       "      <td>...</td>\n",
       "      <td>19.985454</td>\n",
       "      <td>-478.696836</td>\n",
       "      <td>15.487065</td>\n",
       "      <td>-460.229416</td>\n",
       "      <td>16.775136</td>\n",
       "      <td>-483.956022</td>\n",
       "      <td>13.064590</td>\n",
       "      <td>-483.966564</td>\n",
       "      <td>19.577539</td>\n",
       "      <td>-506.798480</td>\n",
       "    </tr>\n",
       "    <tr>\n",
       "      <th>std</th>\n",
       "      <td>1.369586</td>\n",
       "      <td>1.654930</td>\n",
       "      <td>2.790516</td>\n",
       "      <td>4.905261</td>\n",
       "      <td>10.295402</td>\n",
       "      <td>2.319069</td>\n",
       "      <td>0.971843</td>\n",
       "      <td>3.003617</td>\n",
       "      <td>0.903712</td>\n",
       "      <td>39.431659</td>\n",
       "      <td>...</td>\n",
       "      <td>5.657723</td>\n",
       "      <td>50.736021</td>\n",
       "      <td>5.255655</td>\n",
       "      <td>58.843586</td>\n",
       "      <td>5.831906</td>\n",
       "      <td>37.892788</td>\n",
       "      <td>5.765617</td>\n",
       "      <td>39.207913</td>\n",
       "      <td>5.764417</td>\n",
       "      <td>37.079249</td>\n",
       "    </tr>\n",
       "    <tr>\n",
       "      <th>min</th>\n",
       "      <td>0.000000</td>\n",
       "      <td>0.000000</td>\n",
       "      <td>0.000000</td>\n",
       "      <td>0.000000</td>\n",
       "      <td>0.000000</td>\n",
       "      <td>0.000000</td>\n",
       "      <td>0.000000</td>\n",
       "      <td>0.000000</td>\n",
       "      <td>0.000000</td>\n",
       "      <td>0.003112</td>\n",
       "      <td>...</td>\n",
       "      <td>0.000000</td>\n",
       "      <td>-799.709069</td>\n",
       "      <td>0.000000</td>\n",
       "      <td>-799.889113</td>\n",
       "      <td>-0.372054</td>\n",
       "      <td>-797.142475</td>\n",
       "      <td>0.646208</td>\n",
       "      <td>-800.006180</td>\n",
       "      <td>0.195324</td>\n",
       "      <td>-809.398668</td>\n",
       "    </tr>\n",
       "    <tr>\n",
       "      <th>25%</th>\n",
       "      <td>4.211620</td>\n",
       "      <td>9.297355</td>\n",
       "      <td>7.484645</td>\n",
       "      <td>43.276111</td>\n",
       "      <td>62.545817</td>\n",
       "      <td>7.997429</td>\n",
       "      <td>1.905973</td>\n",
       "      <td>8.811324</td>\n",
       "      <td>2.368607</td>\n",
       "      <td>107.006651</td>\n",
       "      <td>...</td>\n",
       "      <td>14.990775</td>\n",
       "      <td>-500.628656</td>\n",
       "      <td>11.894558</td>\n",
       "      <td>-500.149000</td>\n",
       "      <td>11.083980</td>\n",
       "      <td>-500.363177</td>\n",
       "      <td>8.994405</td>\n",
       "      <td>-500.105994</td>\n",
       "      <td>14.989304</td>\n",
       "      <td>-500.745104</td>\n",
       "    </tr>\n",
       "    <tr>\n",
       "      <th>50%</th>\n",
       "      <td>4.994652</td>\n",
       "      <td>10.297144</td>\n",
       "      <td>8.845462</td>\n",
       "      <td>44.872436</td>\n",
       "      <td>67.432775</td>\n",
       "      <td>9.480270</td>\n",
       "      <td>2.592022</td>\n",
       "      <td>10.514621</td>\n",
       "      <td>2.851025</td>\n",
       "      <td>133.018328</td>\n",
       "      <td>...</td>\n",
       "      <td>20.001789</td>\n",
       "      <td>-499.681450</td>\n",
       "      <td>14.975536</td>\n",
       "      <td>-499.388738</td>\n",
       "      <td>17.932223</td>\n",
       "      <td>-499.702452</td>\n",
       "      <td>11.997547</td>\n",
       "      <td>-499.914556</td>\n",
       "      <td>19.984175</td>\n",
       "      <td>-500.061431</td>\n",
       "    </tr>\n",
       "    <tr>\n",
       "      <th>75%</th>\n",
       "      <td>5.859540</td>\n",
       "      <td>11.170603</td>\n",
       "      <td>10.487508</td>\n",
       "      <td>46.166425</td>\n",
       "      <td>72.346428</td>\n",
       "      <td>11.003707</td>\n",
       "      <td>3.241723</td>\n",
       "      <td>11.933009</td>\n",
       "      <td>3.434764</td>\n",
       "      <td>159.825396</td>\n",
       "      <td>...</td>\n",
       "      <td>24.990826</td>\n",
       "      <td>-477.472413</td>\n",
       "      <td>20.059375</td>\n",
       "      <td>-400.039008</td>\n",
       "      <td>21.346550</td>\n",
       "      <td>-487.712108</td>\n",
       "      <td>17.982903</td>\n",
       "      <td>-453.186936</td>\n",
       "      <td>24.991623</td>\n",
       "      <td>-499.536466</td>\n",
       "    </tr>\n",
       "    <tr>\n",
       "      <th>max</th>\n",
       "      <td>16.001945</td>\n",
       "      <td>17.031899</td>\n",
       "      <td>18.124851</td>\n",
       "      <td>52.756638</td>\n",
       "      <td>100.000000</td>\n",
       "      <td>19.552149</td>\n",
       "      <td>5.639565</td>\n",
       "      <td>22.317730</td>\n",
       "      <td>8.197408</td>\n",
       "      <td>250.127834</td>\n",
       "      <td>...</td>\n",
       "      <td>30.115735</td>\n",
       "      <td>-245.239184</td>\n",
       "      <td>24.007913</td>\n",
       "      <td>-145.071088</td>\n",
       "      <td>43.709931</td>\n",
       "      <td>-275.073125</td>\n",
       "      <td>27.926001</td>\n",
       "      <td>-157.396071</td>\n",
       "      <td>32.188906</td>\n",
       "      <td>-104.427459</td>\n",
       "    </tr>\n",
       "  </tbody>\n",
       "</table>\n",
       "<p>8 rows × 86 columns</p>\n",
       "</div>"
      ],
      "text/plain": [
       "       final.output.concentrate_ag  final.output.concentrate_pb  \\\n",
       "count                 14148.000000                 14148.000000   \n",
       "mean                      5.142034                    10.132960   \n",
       "std                       1.369586                     1.654930   \n",
       "min                       0.000000                     0.000000   \n",
       "25%                       4.211620                     9.297355   \n",
       "50%                       4.994652                    10.297144   \n",
       "75%                       5.859540                    11.170603   \n",
       "max                      16.001945                    17.031899   \n",
       "\n",
       "       final.output.concentrate_sol  final.output.concentrate_au  \\\n",
       "count                  13938.000000                 14149.000000   \n",
       "mean                       9.202849                    44.003792   \n",
       "std                        2.790516                     4.905261   \n",
       "min                        0.000000                     0.000000   \n",
       "25%                        7.484645                    43.276111   \n",
       "50%                        8.845462                    44.872436   \n",
       "75%                       10.487508                    46.166425   \n",
       "max                       18.124851                    52.756638   \n",
       "\n",
       "       final.output.recovery  final.output.tail_ag  final.output.tail_pb  \\\n",
       "count           14149.000000          14149.000000          14049.000000   \n",
       "mean               66.518832              9.607035              2.597298   \n",
       "std                10.295402              2.319069              0.971843   \n",
       "min                 0.000000              0.000000              0.000000   \n",
       "25%                62.545817              7.997429              1.905973   \n",
       "50%                67.432775              9.480270              2.592022   \n",
       "75%                72.346428             11.003707              3.241723   \n",
       "max               100.000000             19.552149              5.639565   \n",
       "\n",
       "       final.output.tail_sol  final.output.tail_au  \\\n",
       "count           14144.000000          14149.000000   \n",
       "mean               10.512122              2.918421   \n",
       "std                 3.003617              0.903712   \n",
       "min                 0.000000              0.000000   \n",
       "25%                 8.811324              2.368607   \n",
       "50%                10.514621              2.851025   \n",
       "75%                11.933009              3.434764   \n",
       "max                22.317730              8.197408   \n",
       "\n",
       "       primary_cleaner.input.sulfate  ...  \\\n",
       "count                   14129.000000  ...   \n",
       "mean                      133.320659  ...   \n",
       "std                        39.431659  ...   \n",
       "min                         0.003112  ...   \n",
       "25%                       107.006651  ...   \n",
       "50%                       133.018328  ...   \n",
       "75%                       159.825396  ...   \n",
       "max                       250.127834  ...   \n",
       "\n",
       "       secondary_cleaner.state.floatbank4_a_air  \\\n",
       "count                              14143.000000   \n",
       "mean                                  19.985454   \n",
       "std                                    5.657723   \n",
       "min                                    0.000000   \n",
       "25%                                   14.990775   \n",
       "50%                                   20.001789   \n",
       "75%                                   24.990826   \n",
       "max                                   30.115735   \n",
       "\n",
       "       secondary_cleaner.state.floatbank4_a_level  \\\n",
       "count                                14148.000000   \n",
       "mean                                  -478.696836   \n",
       "std                                     50.736021   \n",
       "min                                   -799.709069   \n",
       "25%                                   -500.628656   \n",
       "50%                                   -499.681450   \n",
       "75%                                   -477.472413   \n",
       "max                                   -245.239184   \n",
       "\n",
       "       secondary_cleaner.state.floatbank4_b_air  \\\n",
       "count                              14148.000000   \n",
       "mean                                  15.487065   \n",
       "std                                    5.255655   \n",
       "min                                    0.000000   \n",
       "25%                                   11.894558   \n",
       "50%                                   14.975536   \n",
       "75%                                   20.059375   \n",
       "max                                   24.007913   \n",
       "\n",
       "       secondary_cleaner.state.floatbank4_b_level  \\\n",
       "count                                14148.000000   \n",
       "mean                                  -460.229416   \n",
       "std                                     58.843586   \n",
       "min                                   -799.889113   \n",
       "25%                                   -500.149000   \n",
       "50%                                   -499.388738   \n",
       "75%                                   -400.039008   \n",
       "max                                   -145.071088   \n",
       "\n",
       "       secondary_cleaner.state.floatbank5_a_air  \\\n",
       "count                              14148.000000   \n",
       "mean                                  16.775136   \n",
       "std                                    5.831906   \n",
       "min                                   -0.372054   \n",
       "25%                                   11.083980   \n",
       "50%                                   17.932223   \n",
       "75%                                   21.346550   \n",
       "max                                   43.709931   \n",
       "\n",
       "       secondary_cleaner.state.floatbank5_a_level  \\\n",
       "count                                14148.000000   \n",
       "mean                                  -483.956022   \n",
       "std                                     37.892788   \n",
       "min                                   -797.142475   \n",
       "25%                                   -500.363177   \n",
       "50%                                   -499.702452   \n",
       "75%                                   -487.712108   \n",
       "max                                   -275.073125   \n",
       "\n",
       "       secondary_cleaner.state.floatbank5_b_air  \\\n",
       "count                              14148.000000   \n",
       "mean                                  13.064590   \n",
       "std                                    5.765617   \n",
       "min                                    0.646208   \n",
       "25%                                    8.994405   \n",
       "50%                                   11.997547   \n",
       "75%                                   17.982903   \n",
       "max                                   27.926001   \n",
       "\n",
       "       secondary_cleaner.state.floatbank5_b_level  \\\n",
       "count                                14148.000000   \n",
       "mean                                  -483.966564   \n",
       "std                                     39.207913   \n",
       "min                                   -800.006180   \n",
       "25%                                   -500.105994   \n",
       "50%                                   -499.914556   \n",
       "75%                                   -453.186936   \n",
       "max                                   -157.396071   \n",
       "\n",
       "       secondary_cleaner.state.floatbank6_a_air  \\\n",
       "count                              14147.000000   \n",
       "mean                                  19.577539   \n",
       "std                                    5.764417   \n",
       "min                                    0.195324   \n",
       "25%                                   14.989304   \n",
       "50%                                   19.984175   \n",
       "75%                                   24.991623   \n",
       "max                                   32.188906   \n",
       "\n",
       "       secondary_cleaner.state.floatbank6_a_level  \n",
       "count                                14148.000000  \n",
       "mean                                  -506.798480  \n",
       "std                                     37.079249  \n",
       "min                                   -809.398668  \n",
       "25%                                   -500.745104  \n",
       "50%                                   -500.061431  \n",
       "75%                                   -499.536466  \n",
       "max                                   -104.427459  \n",
       "\n",
       "[8 rows x 86 columns]"
      ]
     },
     "execution_count": 13,
     "metadata": {},
     "output_type": "execute_result"
    }
   ],
   "source": [
    "pd.set_option('display.max_rows', None)\n",
    "gold_recovery_train_new.describe()"
   ]
  },
  {
   "cell_type": "code",
   "execution_count": 14,
   "metadata": {},
   "outputs": [
    {
     "data": {
      "text/html": [
       "<div>\n",
       "<style scoped>\n",
       "    .dataframe tbody tr th:only-of-type {\n",
       "        vertical-align: middle;\n",
       "    }\n",
       "\n",
       "    .dataframe tbody tr th {\n",
       "        vertical-align: top;\n",
       "    }\n",
       "\n",
       "    .dataframe thead th {\n",
       "        text-align: right;\n",
       "    }\n",
       "</style>\n",
       "<table border=\"1\" class=\"dataframe\">\n",
       "  <thead>\n",
       "    <tr style=\"text-align: right;\">\n",
       "      <th></th>\n",
       "      <th>primary_cleaner.input.sulfate</th>\n",
       "      <th>primary_cleaner.input.depressant</th>\n",
       "      <th>primary_cleaner.input.feed_size</th>\n",
       "      <th>primary_cleaner.input.xanthate</th>\n",
       "      <th>primary_cleaner.state.floatbank8_a_air</th>\n",
       "      <th>primary_cleaner.state.floatbank8_a_level</th>\n",
       "      <th>primary_cleaner.state.floatbank8_b_air</th>\n",
       "      <th>primary_cleaner.state.floatbank8_b_level</th>\n",
       "      <th>primary_cleaner.state.floatbank8_c_air</th>\n",
       "      <th>primary_cleaner.state.floatbank8_c_level</th>\n",
       "      <th>...</th>\n",
       "      <th>secondary_cleaner.state.floatbank4_a_air</th>\n",
       "      <th>secondary_cleaner.state.floatbank4_a_level</th>\n",
       "      <th>secondary_cleaner.state.floatbank4_b_air</th>\n",
       "      <th>secondary_cleaner.state.floatbank4_b_level</th>\n",
       "      <th>secondary_cleaner.state.floatbank5_a_air</th>\n",
       "      <th>secondary_cleaner.state.floatbank5_a_level</th>\n",
       "      <th>secondary_cleaner.state.floatbank5_b_air</th>\n",
       "      <th>secondary_cleaner.state.floatbank5_b_level</th>\n",
       "      <th>secondary_cleaner.state.floatbank6_a_air</th>\n",
       "      <th>secondary_cleaner.state.floatbank6_a_level</th>\n",
       "    </tr>\n",
       "  </thead>\n",
       "  <tbody>\n",
       "    <tr>\n",
       "      <th>count</th>\n",
       "      <td>5286.000000</td>\n",
       "      <td>5285.000000</td>\n",
       "      <td>5290.000000</td>\n",
       "      <td>5286.000000</td>\n",
       "      <td>5.290000e+03</td>\n",
       "      <td>5290.000000</td>\n",
       "      <td>5.290000e+03</td>\n",
       "      <td>5290.000000</td>\n",
       "      <td>5.290000e+03</td>\n",
       "      <td>5290.000000</td>\n",
       "      <td>...</td>\n",
       "      <td>5.290000e+03</td>\n",
       "      <td>5290.000000</td>\n",
       "      <td>5.290000e+03</td>\n",
       "      <td>5290.000000</td>\n",
       "      <td>5290.000000</td>\n",
       "      <td>5290.000000</td>\n",
       "      <td>5290.000000</td>\n",
       "      <td>5290.000000</td>\n",
       "      <td>5290.000000</td>\n",
       "      <td>5290.000000</td>\n",
       "    </tr>\n",
       "    <tr>\n",
       "      <th>mean</th>\n",
       "      <td>174.839652</td>\n",
       "      <td>8.683596</td>\n",
       "      <td>7.266339</td>\n",
       "      <td>1.383803</td>\n",
       "      <td>1.539494e+03</td>\n",
       "      <td>-497.665883</td>\n",
       "      <td>1.545174e+03</td>\n",
       "      <td>-500.273098</td>\n",
       "      <td>1.527272e+03</td>\n",
       "      <td>-498.330680</td>\n",
       "      <td>...</td>\n",
       "      <td>1.632007e+01</td>\n",
       "      <td>-505.144570</td>\n",
       "      <td>1.373544e+01</td>\n",
       "      <td>-463.349858</td>\n",
       "      <td>12.804186</td>\n",
       "      <td>-501.329122</td>\n",
       "      <td>9.881145</td>\n",
       "      <td>-495.663398</td>\n",
       "      <td>17.304935</td>\n",
       "      <td>-501.793193</td>\n",
       "    </tr>\n",
       "    <tr>\n",
       "      <th>std</th>\n",
       "      <td>43.027080</td>\n",
       "      <td>3.072050</td>\n",
       "      <td>0.610219</td>\n",
       "      <td>0.643474</td>\n",
       "      <td>1.167979e+02</td>\n",
       "      <td>19.952431</td>\n",
       "      <td>1.222246e+02</td>\n",
       "      <td>32.968307</td>\n",
       "      <td>1.225380e+02</td>\n",
       "      <td>21.964876</td>\n",
       "      <td>...</td>\n",
       "      <td>3.493583e+00</td>\n",
       "      <td>31.427337</td>\n",
       "      <td>3.430484e+00</td>\n",
       "      <td>86.189107</td>\n",
       "      <td>3.026591</td>\n",
       "      <td>17.951495</td>\n",
       "      <td>2.868205</td>\n",
       "      <td>34.535007</td>\n",
       "      <td>4.536544</td>\n",
       "      <td>39.044215</td>\n",
       "    </tr>\n",
       "    <tr>\n",
       "      <th>min</th>\n",
       "      <td>2.566156</td>\n",
       "      <td>0.003839</td>\n",
       "      <td>5.650000</td>\n",
       "      <td>0.004984</td>\n",
       "      <td>5.445860e-32</td>\n",
       "      <td>-795.316337</td>\n",
       "      <td>6.647490e-32</td>\n",
       "      <td>-799.997015</td>\n",
       "      <td>4.033736e-32</td>\n",
       "      <td>-799.960571</td>\n",
       "      <td>...</td>\n",
       "      <td>1.079872e-16</td>\n",
       "      <td>-799.798523</td>\n",
       "      <td>2.489718e-17</td>\n",
       "      <td>-800.836914</td>\n",
       "      <td>0.069227</td>\n",
       "      <td>-797.323986</td>\n",
       "      <td>0.528083</td>\n",
       "      <td>-800.220337</td>\n",
       "      <td>-0.079426</td>\n",
       "      <td>-809.741464</td>\n",
       "    </tr>\n",
       "    <tr>\n",
       "      <th>25%</th>\n",
       "      <td>147.121401</td>\n",
       "      <td>6.489555</td>\n",
       "      <td>6.890000</td>\n",
       "      <td>0.907623</td>\n",
       "      <td>1.498936e+03</td>\n",
       "      <td>-500.357298</td>\n",
       "      <td>1.498971e+03</td>\n",
       "      <td>-500.703002</td>\n",
       "      <td>1.473230e+03</td>\n",
       "      <td>-501.018117</td>\n",
       "      <td>...</td>\n",
       "      <td>1.403618e+01</td>\n",
       "      <td>-500.868258</td>\n",
       "      <td>1.202862e+01</td>\n",
       "      <td>-500.323028</td>\n",
       "      <td>10.914838</td>\n",
       "      <td>-500.726841</td>\n",
       "      <td>8.036719</td>\n",
       "      <td>-500.194668</td>\n",
       "      <td>13.997317</td>\n",
       "      <td>-500.690984</td>\n",
       "    </tr>\n",
       "    <tr>\n",
       "      <th>50%</th>\n",
       "      <td>177.828489</td>\n",
       "      <td>8.052207</td>\n",
       "      <td>7.250000</td>\n",
       "      <td>1.197610</td>\n",
       "      <td>1.585129e+03</td>\n",
       "      <td>-499.969164</td>\n",
       "      <td>1.595622e+03</td>\n",
       "      <td>-500.028514</td>\n",
       "      <td>1.549595e+03</td>\n",
       "      <td>-500.017711</td>\n",
       "      <td>...</td>\n",
       "      <td>1.700847e+01</td>\n",
       "      <td>-500.115727</td>\n",
       "      <td>1.496486e+01</td>\n",
       "      <td>-499.576513</td>\n",
       "      <td>12.954182</td>\n",
       "      <td>-499.990332</td>\n",
       "      <td>10.004301</td>\n",
       "      <td>-499.990535</td>\n",
       "      <td>16.014935</td>\n",
       "      <td>-500.007126</td>\n",
       "    </tr>\n",
       "    <tr>\n",
       "      <th>75%</th>\n",
       "      <td>208.125438</td>\n",
       "      <td>10.027764</td>\n",
       "      <td>7.600000</td>\n",
       "      <td>1.797819</td>\n",
       "      <td>1.602077e+03</td>\n",
       "      <td>-499.568951</td>\n",
       "      <td>1.602324e+03</td>\n",
       "      <td>-499.293257</td>\n",
       "      <td>1.601144e+03</td>\n",
       "      <td>-498.994130</td>\n",
       "      <td>...</td>\n",
       "      <td>1.803862e+01</td>\n",
       "      <td>-499.404224</td>\n",
       "      <td>1.596213e+01</td>\n",
       "      <td>-400.933805</td>\n",
       "      <td>15.097528</td>\n",
       "      <td>-499.283191</td>\n",
       "      <td>11.997467</td>\n",
       "      <td>-499.719913</td>\n",
       "      <td>21.020013</td>\n",
       "      <td>-499.373018</td>\n",
       "    </tr>\n",
       "    <tr>\n",
       "      <th>max</th>\n",
       "      <td>265.983123</td>\n",
       "      <td>40.000000</td>\n",
       "      <td>15.500000</td>\n",
       "      <td>4.102454</td>\n",
       "      <td>2.103104e+03</td>\n",
       "      <td>-57.195404</td>\n",
       "      <td>1.813084e+03</td>\n",
       "      <td>-142.527229</td>\n",
       "      <td>1.715054e+03</td>\n",
       "      <td>-150.937035</td>\n",
       "      <td>...</td>\n",
       "      <td>3.005180e+01</td>\n",
       "      <td>-401.565212</td>\n",
       "      <td>3.126971e+01</td>\n",
       "      <td>-6.506986</td>\n",
       "      <td>25.258848</td>\n",
       "      <td>-244.483566</td>\n",
       "      <td>14.086866</td>\n",
       "      <td>-137.740004</td>\n",
       "      <td>26.705889</td>\n",
       "      <td>-123.307487</td>\n",
       "    </tr>\n",
       "  </tbody>\n",
       "</table>\n",
       "<p>8 rows × 52 columns</p>\n",
       "</div>"
      ],
      "text/plain": [
       "       primary_cleaner.input.sulfate  primary_cleaner.input.depressant  \\\n",
       "count                    5286.000000                       5285.000000   \n",
       "mean                      174.839652                          8.683596   \n",
       "std                        43.027080                          3.072050   \n",
       "min                         2.566156                          0.003839   \n",
       "25%                       147.121401                          6.489555   \n",
       "50%                       177.828489                          8.052207   \n",
       "75%                       208.125438                         10.027764   \n",
       "max                       265.983123                         40.000000   \n",
       "\n",
       "       primary_cleaner.input.feed_size  primary_cleaner.input.xanthate  \\\n",
       "count                      5290.000000                     5286.000000   \n",
       "mean                          7.266339                        1.383803   \n",
       "std                           0.610219                        0.643474   \n",
       "min                           5.650000                        0.004984   \n",
       "25%                           6.890000                        0.907623   \n",
       "50%                           7.250000                        1.197610   \n",
       "75%                           7.600000                        1.797819   \n",
       "max                          15.500000                        4.102454   \n",
       "\n",
       "       primary_cleaner.state.floatbank8_a_air  \\\n",
       "count                            5.290000e+03   \n",
       "mean                             1.539494e+03   \n",
       "std                              1.167979e+02   \n",
       "min                              5.445860e-32   \n",
       "25%                              1.498936e+03   \n",
       "50%                              1.585129e+03   \n",
       "75%                              1.602077e+03   \n",
       "max                              2.103104e+03   \n",
       "\n",
       "       primary_cleaner.state.floatbank8_a_level  \\\n",
       "count                               5290.000000   \n",
       "mean                                -497.665883   \n",
       "std                                   19.952431   \n",
       "min                                 -795.316337   \n",
       "25%                                 -500.357298   \n",
       "50%                                 -499.969164   \n",
       "75%                                 -499.568951   \n",
       "max                                  -57.195404   \n",
       "\n",
       "       primary_cleaner.state.floatbank8_b_air  \\\n",
       "count                            5.290000e+03   \n",
       "mean                             1.545174e+03   \n",
       "std                              1.222246e+02   \n",
       "min                              6.647490e-32   \n",
       "25%                              1.498971e+03   \n",
       "50%                              1.595622e+03   \n",
       "75%                              1.602324e+03   \n",
       "max                              1.813084e+03   \n",
       "\n",
       "       primary_cleaner.state.floatbank8_b_level  \\\n",
       "count                               5290.000000   \n",
       "mean                                -500.273098   \n",
       "std                                   32.968307   \n",
       "min                                 -799.997015   \n",
       "25%                                 -500.703002   \n",
       "50%                                 -500.028514   \n",
       "75%                                 -499.293257   \n",
       "max                                 -142.527229   \n",
       "\n",
       "       primary_cleaner.state.floatbank8_c_air  \\\n",
       "count                            5.290000e+03   \n",
       "mean                             1.527272e+03   \n",
       "std                              1.225380e+02   \n",
       "min                              4.033736e-32   \n",
       "25%                              1.473230e+03   \n",
       "50%                              1.549595e+03   \n",
       "75%                              1.601144e+03   \n",
       "max                              1.715054e+03   \n",
       "\n",
       "       primary_cleaner.state.floatbank8_c_level  ...  \\\n",
       "count                               5290.000000  ...   \n",
       "mean                                -498.330680  ...   \n",
       "std                                   21.964876  ...   \n",
       "min                                 -799.960571  ...   \n",
       "25%                                 -501.018117  ...   \n",
       "50%                                 -500.017711  ...   \n",
       "75%                                 -498.994130  ...   \n",
       "max                                 -150.937035  ...   \n",
       "\n",
       "       secondary_cleaner.state.floatbank4_a_air  \\\n",
       "count                              5.290000e+03   \n",
       "mean                               1.632007e+01   \n",
       "std                                3.493583e+00   \n",
       "min                                1.079872e-16   \n",
       "25%                                1.403618e+01   \n",
       "50%                                1.700847e+01   \n",
       "75%                                1.803862e+01   \n",
       "max                                3.005180e+01   \n",
       "\n",
       "       secondary_cleaner.state.floatbank4_a_level  \\\n",
       "count                                 5290.000000   \n",
       "mean                                  -505.144570   \n",
       "std                                     31.427337   \n",
       "min                                   -799.798523   \n",
       "25%                                   -500.868258   \n",
       "50%                                   -500.115727   \n",
       "75%                                   -499.404224   \n",
       "max                                   -401.565212   \n",
       "\n",
       "       secondary_cleaner.state.floatbank4_b_air  \\\n",
       "count                              5.290000e+03   \n",
       "mean                               1.373544e+01   \n",
       "std                                3.430484e+00   \n",
       "min                                2.489718e-17   \n",
       "25%                                1.202862e+01   \n",
       "50%                                1.496486e+01   \n",
       "75%                                1.596213e+01   \n",
       "max                                3.126971e+01   \n",
       "\n",
       "       secondary_cleaner.state.floatbank4_b_level  \\\n",
       "count                                 5290.000000   \n",
       "mean                                  -463.349858   \n",
       "std                                     86.189107   \n",
       "min                                   -800.836914   \n",
       "25%                                   -500.323028   \n",
       "50%                                   -499.576513   \n",
       "75%                                   -400.933805   \n",
       "max                                     -6.506986   \n",
       "\n",
       "       secondary_cleaner.state.floatbank5_a_air  \\\n",
       "count                               5290.000000   \n",
       "mean                                  12.804186   \n",
       "std                                    3.026591   \n",
       "min                                    0.069227   \n",
       "25%                                   10.914838   \n",
       "50%                                   12.954182   \n",
       "75%                                   15.097528   \n",
       "max                                   25.258848   \n",
       "\n",
       "       secondary_cleaner.state.floatbank5_a_level  \\\n",
       "count                                 5290.000000   \n",
       "mean                                  -501.329122   \n",
       "std                                     17.951495   \n",
       "min                                   -797.323986   \n",
       "25%                                   -500.726841   \n",
       "50%                                   -499.990332   \n",
       "75%                                   -499.283191   \n",
       "max                                   -244.483566   \n",
       "\n",
       "       secondary_cleaner.state.floatbank5_b_air  \\\n",
       "count                               5290.000000   \n",
       "mean                                   9.881145   \n",
       "std                                    2.868205   \n",
       "min                                    0.528083   \n",
       "25%                                    8.036719   \n",
       "50%                                   10.004301   \n",
       "75%                                   11.997467   \n",
       "max                                   14.086866   \n",
       "\n",
       "       secondary_cleaner.state.floatbank5_b_level  \\\n",
       "count                                 5290.000000   \n",
       "mean                                  -495.663398   \n",
       "std                                     34.535007   \n",
       "min                                   -800.220337   \n",
       "25%                                   -500.194668   \n",
       "50%                                   -499.990535   \n",
       "75%                                   -499.719913   \n",
       "max                                   -137.740004   \n",
       "\n",
       "       secondary_cleaner.state.floatbank6_a_air  \\\n",
       "count                               5290.000000   \n",
       "mean                                  17.304935   \n",
       "std                                    4.536544   \n",
       "min                                   -0.079426   \n",
       "25%                                   13.997317   \n",
       "50%                                   16.014935   \n",
       "75%                                   21.020013   \n",
       "max                                   26.705889   \n",
       "\n",
       "       secondary_cleaner.state.floatbank6_a_level  \n",
       "count                                 5290.000000  \n",
       "mean                                  -501.793193  \n",
       "std                                     39.044215  \n",
       "min                                   -809.741464  \n",
       "25%                                   -500.690984  \n",
       "50%                                   -500.007126  \n",
       "75%                                   -499.373018  \n",
       "max                                   -123.307487  \n",
       "\n",
       "[8 rows x 52 columns]"
      ]
     },
     "execution_count": 14,
     "metadata": {},
     "output_type": "execute_result"
    }
   ],
   "source": [
    "gold_recovery_test_new.describe()"
   ]
  },
  {
   "cell_type": "code",
   "execution_count": 15,
   "metadata": {},
   "outputs": [
    {
     "data": {
      "text/html": [
       "<div>\n",
       "<style scoped>\n",
       "    .dataframe tbody tr th:only-of-type {\n",
       "        vertical-align: middle;\n",
       "    }\n",
       "\n",
       "    .dataframe tbody tr th {\n",
       "        vertical-align: top;\n",
       "    }\n",
       "\n",
       "    .dataframe thead th {\n",
       "        text-align: right;\n",
       "    }\n",
       "</style>\n",
       "<table border=\"1\" class=\"dataframe\">\n",
       "  <thead>\n",
       "    <tr style=\"text-align: right;\">\n",
       "      <th></th>\n",
       "      <th>final.output.concentrate_ag</th>\n",
       "      <th>final.output.concentrate_pb</th>\n",
       "      <th>final.output.concentrate_sol</th>\n",
       "      <th>final.output.concentrate_au</th>\n",
       "      <th>final.output.recovery</th>\n",
       "      <th>final.output.tail_ag</th>\n",
       "      <th>final.output.tail_pb</th>\n",
       "      <th>final.output.tail_sol</th>\n",
       "      <th>final.output.tail_au</th>\n",
       "      <th>primary_cleaner.input.sulfate</th>\n",
       "      <th>...</th>\n",
       "      <th>secondary_cleaner.state.floatbank4_a_air</th>\n",
       "      <th>secondary_cleaner.state.floatbank4_a_level</th>\n",
       "      <th>secondary_cleaner.state.floatbank4_b_air</th>\n",
       "      <th>secondary_cleaner.state.floatbank4_b_level</th>\n",
       "      <th>secondary_cleaner.state.floatbank5_a_air</th>\n",
       "      <th>secondary_cleaner.state.floatbank5_a_level</th>\n",
       "      <th>secondary_cleaner.state.floatbank5_b_air</th>\n",
       "      <th>secondary_cleaner.state.floatbank5_b_level</th>\n",
       "      <th>secondary_cleaner.state.floatbank6_a_air</th>\n",
       "      <th>secondary_cleaner.state.floatbank6_a_level</th>\n",
       "    </tr>\n",
       "  </thead>\n",
       "  <tbody>\n",
       "    <tr>\n",
       "      <th>count</th>\n",
       "      <td>19438.000000</td>\n",
       "      <td>19438.000000</td>\n",
       "      <td>19228.000000</td>\n",
       "      <td>19439.000000</td>\n",
       "      <td>19439.000000</td>\n",
       "      <td>19438.000000</td>\n",
       "      <td>19338.000000</td>\n",
       "      <td>19433.000000</td>\n",
       "      <td>19439.000000</td>\n",
       "      <td>19415.000000</td>\n",
       "      <td>...</td>\n",
       "      <td>19433.000000</td>\n",
       "      <td>19438.000000</td>\n",
       "      <td>19438.000000</td>\n",
       "      <td>19438.000000</td>\n",
       "      <td>19438.000000</td>\n",
       "      <td>19438.000000</td>\n",
       "      <td>19438.000000</td>\n",
       "      <td>19438.000000</td>\n",
       "      <td>19437.000000</td>\n",
       "      <td>19438.000000</td>\n",
       "    </tr>\n",
       "    <tr>\n",
       "      <th>mean</th>\n",
       "      <td>5.168470</td>\n",
       "      <td>9.978895</td>\n",
       "      <td>9.501224</td>\n",
       "      <td>44.076513</td>\n",
       "      <td>67.050208</td>\n",
       "      <td>9.688589</td>\n",
       "      <td>2.705795</td>\n",
       "      <td>10.583728</td>\n",
       "      <td>3.042467</td>\n",
       "      <td>144.624774</td>\n",
       "      <td>...</td>\n",
       "      <td>18.987674</td>\n",
       "      <td>-485.894516</td>\n",
       "      <td>15.010366</td>\n",
       "      <td>-461.078636</td>\n",
       "      <td>15.694452</td>\n",
       "      <td>-488.684065</td>\n",
       "      <td>12.198224</td>\n",
       "      <td>-487.149827</td>\n",
       "      <td>18.959024</td>\n",
       "      <td>-505.436305</td>\n",
       "    </tr>\n",
       "    <tr>\n",
       "      <th>std</th>\n",
       "      <td>1.372348</td>\n",
       "      <td>1.669240</td>\n",
       "      <td>2.787537</td>\n",
       "      <td>5.129784</td>\n",
       "      <td>10.125840</td>\n",
       "      <td>2.328642</td>\n",
       "      <td>0.949077</td>\n",
       "      <td>2.868782</td>\n",
       "      <td>0.922808</td>\n",
       "      <td>44.464071</td>\n",
       "      <td>...</td>\n",
       "      <td>5.411058</td>\n",
       "      <td>47.758570</td>\n",
       "      <td>4.890228</td>\n",
       "      <td>67.405524</td>\n",
       "      <td>5.510974</td>\n",
       "      <td>34.533396</td>\n",
       "      <td>5.333024</td>\n",
       "      <td>38.347312</td>\n",
       "      <td>5.550498</td>\n",
       "      <td>37.689057</td>\n",
       "    </tr>\n",
       "    <tr>\n",
       "      <th>min</th>\n",
       "      <td>0.000000</td>\n",
       "      <td>0.000000</td>\n",
       "      <td>0.000000</td>\n",
       "      <td>0.000000</td>\n",
       "      <td>0.000000</td>\n",
       "      <td>0.000000</td>\n",
       "      <td>0.000000</td>\n",
       "      <td>0.000000</td>\n",
       "      <td>0.000000</td>\n",
       "      <td>0.003112</td>\n",
       "      <td>...</td>\n",
       "      <td>0.000000</td>\n",
       "      <td>-799.798523</td>\n",
       "      <td>0.000000</td>\n",
       "      <td>-800.836914</td>\n",
       "      <td>-0.372054</td>\n",
       "      <td>-797.323986</td>\n",
       "      <td>0.528083</td>\n",
       "      <td>-800.220337</td>\n",
       "      <td>-0.079426</td>\n",
       "      <td>-809.741464</td>\n",
       "    </tr>\n",
       "    <tr>\n",
       "      <th>25%</th>\n",
       "      <td>4.251240</td>\n",
       "      <td>9.137262</td>\n",
       "      <td>7.722820</td>\n",
       "      <td>43.402215</td>\n",
       "      <td>63.299712</td>\n",
       "      <td>8.062878</td>\n",
       "      <td>2.040119</td>\n",
       "      <td>8.938947</td>\n",
       "      <td>2.461138</td>\n",
       "      <td>114.107029</td>\n",
       "      <td>...</td>\n",
       "      <td>14.975734</td>\n",
       "      <td>-500.704892</td>\n",
       "      <td>11.940294</td>\n",
       "      <td>-500.187742</td>\n",
       "      <td>10.988606</td>\n",
       "      <td>-500.458467</td>\n",
       "      <td>8.971105</td>\n",
       "      <td>-500.129462</td>\n",
       "      <td>14.983037</td>\n",
       "      <td>-500.728067</td>\n",
       "    </tr>\n",
       "    <tr>\n",
       "      <th>50%</th>\n",
       "      <td>5.066094</td>\n",
       "      <td>10.102433</td>\n",
       "      <td>9.218961</td>\n",
       "      <td>45.011244</td>\n",
       "      <td>68.172738</td>\n",
       "      <td>9.743623</td>\n",
       "      <td>2.748730</td>\n",
       "      <td>10.622456</td>\n",
       "      <td>2.984909</td>\n",
       "      <td>143.232103</td>\n",
       "      <td>...</td>\n",
       "      <td>18.017481</td>\n",
       "      <td>-499.837793</td>\n",
       "      <td>14.971014</td>\n",
       "      <td>-499.459786</td>\n",
       "      <td>15.000036</td>\n",
       "      <td>-499.802605</td>\n",
       "      <td>11.019433</td>\n",
       "      <td>-499.935317</td>\n",
       "      <td>19.960541</td>\n",
       "      <td>-500.048400</td>\n",
       "    </tr>\n",
       "    <tr>\n",
       "      <th>75%</th>\n",
       "      <td>5.895527</td>\n",
       "      <td>11.035769</td>\n",
       "      <td>10.947813</td>\n",
       "      <td>46.275313</td>\n",
       "      <td>72.686642</td>\n",
       "      <td>11.134294</td>\n",
       "      <td>3.333216</td>\n",
       "      <td>12.104271</td>\n",
       "      <td>3.571351</td>\n",
       "      <td>175.075656</td>\n",
       "      <td>...</td>\n",
       "      <td>23.012470</td>\n",
       "      <td>-498.249730</td>\n",
       "      <td>19.034162</td>\n",
       "      <td>-400.118106</td>\n",
       "      <td>18.026190</td>\n",
       "      <td>-498.384187</td>\n",
       "      <td>14.019088</td>\n",
       "      <td>-499.436708</td>\n",
       "      <td>24.003170</td>\n",
       "      <td>-499.495378</td>\n",
       "    </tr>\n",
       "    <tr>\n",
       "      <th>max</th>\n",
       "      <td>16.001945</td>\n",
       "      <td>17.031899</td>\n",
       "      <td>19.615720</td>\n",
       "      <td>52.756638</td>\n",
       "      <td>100.000000</td>\n",
       "      <td>19.552149</td>\n",
       "      <td>5.804178</td>\n",
       "      <td>22.317730</td>\n",
       "      <td>8.245022</td>\n",
       "      <td>265.983123</td>\n",
       "      <td>...</td>\n",
       "      <td>30.115735</td>\n",
       "      <td>-245.239184</td>\n",
       "      <td>31.269706</td>\n",
       "      <td>-6.506986</td>\n",
       "      <td>43.709931</td>\n",
       "      <td>-244.483566</td>\n",
       "      <td>27.926001</td>\n",
       "      <td>-137.740004</td>\n",
       "      <td>32.188906</td>\n",
       "      <td>-104.427459</td>\n",
       "    </tr>\n",
       "  </tbody>\n",
       "</table>\n",
       "<p>8 rows × 86 columns</p>\n",
       "</div>"
      ],
      "text/plain": [
       "       final.output.concentrate_ag  final.output.concentrate_pb  \\\n",
       "count                 19438.000000                 19438.000000   \n",
       "mean                      5.168470                     9.978895   \n",
       "std                       1.372348                     1.669240   \n",
       "min                       0.000000                     0.000000   \n",
       "25%                       4.251240                     9.137262   \n",
       "50%                       5.066094                    10.102433   \n",
       "75%                       5.895527                    11.035769   \n",
       "max                      16.001945                    17.031899   \n",
       "\n",
       "       final.output.concentrate_sol  final.output.concentrate_au  \\\n",
       "count                  19228.000000                 19439.000000   \n",
       "mean                       9.501224                    44.076513   \n",
       "std                        2.787537                     5.129784   \n",
       "min                        0.000000                     0.000000   \n",
       "25%                        7.722820                    43.402215   \n",
       "50%                        9.218961                    45.011244   \n",
       "75%                       10.947813                    46.275313   \n",
       "max                       19.615720                    52.756638   \n",
       "\n",
       "       final.output.recovery  final.output.tail_ag  final.output.tail_pb  \\\n",
       "count           19439.000000          19438.000000          19338.000000   \n",
       "mean               67.050208              9.688589              2.705795   \n",
       "std                10.125840              2.328642              0.949077   \n",
       "min                 0.000000              0.000000              0.000000   \n",
       "25%                63.299712              8.062878              2.040119   \n",
       "50%                68.172738              9.743623              2.748730   \n",
       "75%                72.686642             11.134294              3.333216   \n",
       "max               100.000000             19.552149              5.804178   \n",
       "\n",
       "       final.output.tail_sol  final.output.tail_au  \\\n",
       "count           19433.000000          19439.000000   \n",
       "mean               10.583728              3.042467   \n",
       "std                 2.868782              0.922808   \n",
       "min                 0.000000              0.000000   \n",
       "25%                 8.938947              2.461138   \n",
       "50%                10.622456              2.984909   \n",
       "75%                12.104271              3.571351   \n",
       "max                22.317730              8.245022   \n",
       "\n",
       "       primary_cleaner.input.sulfate  ...  \\\n",
       "count                   19415.000000  ...   \n",
       "mean                      144.624774  ...   \n",
       "std                        44.464071  ...   \n",
       "min                         0.003112  ...   \n",
       "25%                       114.107029  ...   \n",
       "50%                       143.232103  ...   \n",
       "75%                       175.075656  ...   \n",
       "max                       265.983123  ...   \n",
       "\n",
       "       secondary_cleaner.state.floatbank4_a_air  \\\n",
       "count                              19433.000000   \n",
       "mean                                  18.987674   \n",
       "std                                    5.411058   \n",
       "min                                    0.000000   \n",
       "25%                                   14.975734   \n",
       "50%                                   18.017481   \n",
       "75%                                   23.012470   \n",
       "max                                   30.115735   \n",
       "\n",
       "       secondary_cleaner.state.floatbank4_a_level  \\\n",
       "count                                19438.000000   \n",
       "mean                                  -485.894516   \n",
       "std                                     47.758570   \n",
       "min                                   -799.798523   \n",
       "25%                                   -500.704892   \n",
       "50%                                   -499.837793   \n",
       "75%                                   -498.249730   \n",
       "max                                   -245.239184   \n",
       "\n",
       "       secondary_cleaner.state.floatbank4_b_air  \\\n",
       "count                              19438.000000   \n",
       "mean                                  15.010366   \n",
       "std                                    4.890228   \n",
       "min                                    0.000000   \n",
       "25%                                   11.940294   \n",
       "50%                                   14.971014   \n",
       "75%                                   19.034162   \n",
       "max                                   31.269706   \n",
       "\n",
       "       secondary_cleaner.state.floatbank4_b_level  \\\n",
       "count                                19438.000000   \n",
       "mean                                  -461.078636   \n",
       "std                                     67.405524   \n",
       "min                                   -800.836914   \n",
       "25%                                   -500.187742   \n",
       "50%                                   -499.459786   \n",
       "75%                                   -400.118106   \n",
       "max                                     -6.506986   \n",
       "\n",
       "       secondary_cleaner.state.floatbank5_a_air  \\\n",
       "count                              19438.000000   \n",
       "mean                                  15.694452   \n",
       "std                                    5.510974   \n",
       "min                                   -0.372054   \n",
       "25%                                   10.988606   \n",
       "50%                                   15.000036   \n",
       "75%                                   18.026190   \n",
       "max                                   43.709931   \n",
       "\n",
       "       secondary_cleaner.state.floatbank5_a_level  \\\n",
       "count                                19438.000000   \n",
       "mean                                  -488.684065   \n",
       "std                                     34.533396   \n",
       "min                                   -797.323986   \n",
       "25%                                   -500.458467   \n",
       "50%                                   -499.802605   \n",
       "75%                                   -498.384187   \n",
       "max                                   -244.483566   \n",
       "\n",
       "       secondary_cleaner.state.floatbank5_b_air  \\\n",
       "count                              19438.000000   \n",
       "mean                                  12.198224   \n",
       "std                                    5.333024   \n",
       "min                                    0.528083   \n",
       "25%                                    8.971105   \n",
       "50%                                   11.019433   \n",
       "75%                                   14.019088   \n",
       "max                                   27.926001   \n",
       "\n",
       "       secondary_cleaner.state.floatbank5_b_level  \\\n",
       "count                                19438.000000   \n",
       "mean                                  -487.149827   \n",
       "std                                     38.347312   \n",
       "min                                   -800.220337   \n",
       "25%                                   -500.129462   \n",
       "50%                                   -499.935317   \n",
       "75%                                   -499.436708   \n",
       "max                                   -137.740004   \n",
       "\n",
       "       secondary_cleaner.state.floatbank6_a_air  \\\n",
       "count                              19437.000000   \n",
       "mean                                  18.959024   \n",
       "std                                    5.550498   \n",
       "min                                   -0.079426   \n",
       "25%                                   14.983037   \n",
       "50%                                   19.960541   \n",
       "75%                                   24.003170   \n",
       "max                                   32.188906   \n",
       "\n",
       "       secondary_cleaner.state.floatbank6_a_level  \n",
       "count                                19438.000000  \n",
       "mean                                  -505.436305  \n",
       "std                                     37.689057  \n",
       "min                                   -809.741464  \n",
       "25%                                   -500.728067  \n",
       "50%                                   -500.048400  \n",
       "75%                                   -499.495378  \n",
       "max                                   -104.427459  \n",
       "\n",
       "[8 rows x 86 columns]"
      ]
     },
     "execution_count": 15,
     "metadata": {},
     "output_type": "execute_result"
    }
   ],
   "source": [
    "gold_recovery_full_new.describe()"
   ]
  },
  {
   "cell_type": "markdown",
   "metadata": {},
   "source": [
    "В столбцах \"rougher.calculation.floatbank10_sulfate_to_au_feed\", \"rougher.calculation.floatbank11_sulfate_to_au_feed\", \"rougher.calculation.au_pb_ratio\" есть большие отрицательные выбросы. Эти столбцы не используются в тестовой выборке, поэтому не будем заострять на них внимание. Так же есть столбцы, в которых наличие отрицательного значения является нормальным - признаки технологического процесса. в целевых признаках имеются нулевые значения, такие значения необходимо будет удалить."
   ]
  },
  {
   "cell_type": "code",
   "execution_count": 16,
   "metadata": {
    "scrolled": true
   },
   "outputs": [
    {
     "data": {
      "text/html": [
       "<div>\n",
       "<style scoped>\n",
       "    .dataframe tbody tr th:only-of-type {\n",
       "        vertical-align: middle;\n",
       "    }\n",
       "\n",
       "    .dataframe tbody tr th {\n",
       "        vertical-align: top;\n",
       "    }\n",
       "\n",
       "    .dataframe thead th {\n",
       "        text-align: right;\n",
       "    }\n",
       "</style>\n",
       "<table border=\"1\" class=\"dataframe\">\n",
       "  <thead>\n",
       "    <tr style=\"text-align: right;\">\n",
       "      <th></th>\n",
       "      <th>final.output.concentrate_ag</th>\n",
       "      <th>final.output.concentrate_pb</th>\n",
       "      <th>final.output.concentrate_sol</th>\n",
       "      <th>final.output.concentrate_au</th>\n",
       "      <th>final.output.recovery</th>\n",
       "      <th>final.output.tail_ag</th>\n",
       "      <th>final.output.tail_pb</th>\n",
       "      <th>final.output.tail_sol</th>\n",
       "      <th>final.output.tail_au</th>\n",
       "      <th>primary_cleaner.input.sulfate</th>\n",
       "      <th>...</th>\n",
       "      <th>secondary_cleaner.state.floatbank4_a_air</th>\n",
       "      <th>secondary_cleaner.state.floatbank4_a_level</th>\n",
       "      <th>secondary_cleaner.state.floatbank4_b_air</th>\n",
       "      <th>secondary_cleaner.state.floatbank4_b_level</th>\n",
       "      <th>secondary_cleaner.state.floatbank5_a_air</th>\n",
       "      <th>secondary_cleaner.state.floatbank5_a_level</th>\n",
       "      <th>secondary_cleaner.state.floatbank5_b_air</th>\n",
       "      <th>secondary_cleaner.state.floatbank5_b_level</th>\n",
       "      <th>secondary_cleaner.state.floatbank6_a_air</th>\n",
       "      <th>secondary_cleaner.state.floatbank6_a_level</th>\n",
       "    </tr>\n",
       "  </thead>\n",
       "  <tbody>\n",
       "    <tr>\n",
       "      <th>final.output.concentrate_ag</th>\n",
       "      <td>1.000000</td>\n",
       "      <td>-0.133217</td>\n",
       "      <td>0.355702</td>\n",
       "      <td>-0.538221</td>\n",
       "      <td>0.205496</td>\n",
       "      <td>0.426064</td>\n",
       "      <td>-0.052236</td>\n",
       "      <td>0.004063</td>\n",
       "      <td>0.240620</td>\n",
       "      <td>0.121849</td>\n",
       "      <td>...</td>\n",
       "      <td>0.072498</td>\n",
       "      <td>0.090862</td>\n",
       "      <td>0.080606</td>\n",
       "      <td>-0.087386</td>\n",
       "      <td>-0.019289</td>\n",
       "      <td>0.117634</td>\n",
       "      <td>-0.026817</td>\n",
       "      <td>0.135991</td>\n",
       "      <td>0.175653</td>\n",
       "      <td>0.028209</td>\n",
       "    </tr>\n",
       "    <tr>\n",
       "      <th>final.output.concentrate_pb</th>\n",
       "      <td>-0.133217</td>\n",
       "      <td>1.000000</td>\n",
       "      <td>-0.264318</td>\n",
       "      <td>-0.230656</td>\n",
       "      <td>-0.074712</td>\n",
       "      <td>-0.265291</td>\n",
       "      <td>0.212001</td>\n",
       "      <td>0.024636</td>\n",
       "      <td>-0.123648</td>\n",
       "      <td>0.003646</td>\n",
       "      <td>...</td>\n",
       "      <td>0.068265</td>\n",
       "      <td>0.021637</td>\n",
       "      <td>0.105081</td>\n",
       "      <td>0.165283</td>\n",
       "      <td>0.174043</td>\n",
       "      <td>0.010493</td>\n",
       "      <td>0.187575</td>\n",
       "      <td>-0.011836</td>\n",
       "      <td>-0.057658</td>\n",
       "      <td>0.041410</td>\n",
       "    </tr>\n",
       "    <tr>\n",
       "      <th>final.output.concentrate_sol</th>\n",
       "      <td>0.355702</td>\n",
       "      <td>-0.264318</td>\n",
       "      <td>1.000000</td>\n",
       "      <td>-0.021947</td>\n",
       "      <td>0.219260</td>\n",
       "      <td>0.357980</td>\n",
       "      <td>0.195127</td>\n",
       "      <td>0.065391</td>\n",
       "      <td>0.355097</td>\n",
       "      <td>0.380830</td>\n",
       "      <td>...</td>\n",
       "      <td>-0.044809</td>\n",
       "      <td>0.112129</td>\n",
       "      <td>0.042485</td>\n",
       "      <td>-0.036590</td>\n",
       "      <td>-0.038024</td>\n",
       "      <td>0.118013</td>\n",
       "      <td>-0.044056</td>\n",
       "      <td>0.140756</td>\n",
       "      <td>0.285139</td>\n",
       "      <td>-0.105192</td>\n",
       "    </tr>\n",
       "    <tr>\n",
       "      <th>final.output.concentrate_au</th>\n",
       "      <td>-0.538221</td>\n",
       "      <td>-0.230656</td>\n",
       "      <td>-0.021947</td>\n",
       "      <td>1.000000</td>\n",
       "      <td>-0.069849</td>\n",
       "      <td>-0.087398</td>\n",
       "      <td>0.025612</td>\n",
       "      <td>0.060743</td>\n",
       "      <td>-0.060766</td>\n",
       "      <td>-0.026337</td>\n",
       "      <td>...</td>\n",
       "      <td>-0.028802</td>\n",
       "      <td>-0.075941</td>\n",
       "      <td>-0.039540</td>\n",
       "      <td>-0.021376</td>\n",
       "      <td>-0.034420</td>\n",
       "      <td>-0.095931</td>\n",
       "      <td>-0.029534</td>\n",
       "      <td>-0.109506</td>\n",
       "      <td>-0.179073</td>\n",
       "      <td>-0.031732</td>\n",
       "    </tr>\n",
       "    <tr>\n",
       "      <th>final.output.recovery</th>\n",
       "      <td>0.205496</td>\n",
       "      <td>-0.074712</td>\n",
       "      <td>0.219260</td>\n",
       "      <td>-0.069849</td>\n",
       "      <td>1.000000</td>\n",
       "      <td>0.305778</td>\n",
       "      <td>-0.110294</td>\n",
       "      <td>-0.031981</td>\n",
       "      <td>-0.356753</td>\n",
       "      <td>0.407667</td>\n",
       "      <td>...</td>\n",
       "      <td>0.235736</td>\n",
       "      <td>0.016564</td>\n",
       "      <td>0.238980</td>\n",
       "      <td>-0.102008</td>\n",
       "      <td>0.081991</td>\n",
       "      <td>0.008575</td>\n",
       "      <td>0.070459</td>\n",
       "      <td>0.009833</td>\n",
       "      <td>-0.051076</td>\n",
       "      <td>-0.024563</td>\n",
       "    </tr>\n",
       "    <tr>\n",
       "      <th>final.output.tail_ag</th>\n",
       "      <td>0.426064</td>\n",
       "      <td>-0.265291</td>\n",
       "      <td>0.357980</td>\n",
       "      <td>-0.087398</td>\n",
       "      <td>0.305778</td>\n",
       "      <td>1.000000</td>\n",
       "      <td>0.206894</td>\n",
       "      <td>-0.011166</td>\n",
       "      <td>0.404023</td>\n",
       "      <td>0.413941</td>\n",
       "      <td>...</td>\n",
       "      <td>0.155838</td>\n",
       "      <td>-0.013138</td>\n",
       "      <td>0.228847</td>\n",
       "      <td>-0.276851</td>\n",
       "      <td>-0.027818</td>\n",
       "      <td>-0.012373</td>\n",
       "      <td>0.005650</td>\n",
       "      <td>0.007290</td>\n",
       "      <td>-0.036925</td>\n",
       "      <td>-0.084447</td>\n",
       "    </tr>\n",
       "    <tr>\n",
       "      <th>final.output.tail_pb</th>\n",
       "      <td>-0.052236</td>\n",
       "      <td>0.212001</td>\n",
       "      <td>0.195127</td>\n",
       "      <td>0.025612</td>\n",
       "      <td>-0.110294</td>\n",
       "      <td>0.206894</td>\n",
       "      <td>1.000000</td>\n",
       "      <td>-0.187152</td>\n",
       "      <td>0.582865</td>\n",
       "      <td>0.373386</td>\n",
       "      <td>...</td>\n",
       "      <td>0.117258</td>\n",
       "      <td>0.086182</td>\n",
       "      <td>0.191456</td>\n",
       "      <td>0.193111</td>\n",
       "      <td>0.130399</td>\n",
       "      <td>0.052937</td>\n",
       "      <td>0.148369</td>\n",
       "      <td>0.057651</td>\n",
       "      <td>0.012857</td>\n",
       "      <td>-0.085712</td>\n",
       "    </tr>\n",
       "    <tr>\n",
       "      <th>final.output.tail_sol</th>\n",
       "      <td>0.004063</td>\n",
       "      <td>0.024636</td>\n",
       "      <td>0.065391</td>\n",
       "      <td>0.060743</td>\n",
       "      <td>-0.031981</td>\n",
       "      <td>-0.011166</td>\n",
       "      <td>-0.187152</td>\n",
       "      <td>1.000000</td>\n",
       "      <td>-0.011086</td>\n",
       "      <td>0.257189</td>\n",
       "      <td>...</td>\n",
       "      <td>-0.283326</td>\n",
       "      <td>-0.050423</td>\n",
       "      <td>-0.182318</td>\n",
       "      <td>-0.002349</td>\n",
       "      <td>-0.250519</td>\n",
       "      <td>-0.032610</td>\n",
       "      <td>-0.205337</td>\n",
       "      <td>-0.066513</td>\n",
       "      <td>-0.094998</td>\n",
       "      <td>0.023733</td>\n",
       "    </tr>\n",
       "    <tr>\n",
       "      <th>final.output.tail_au</th>\n",
       "      <td>0.240620</td>\n",
       "      <td>-0.123648</td>\n",
       "      <td>0.355097</td>\n",
       "      <td>-0.060766</td>\n",
       "      <td>-0.356753</td>\n",
       "      <td>0.404023</td>\n",
       "      <td>0.582865</td>\n",
       "      <td>-0.011086</td>\n",
       "      <td>1.000000</td>\n",
       "      <td>0.287969</td>\n",
       "      <td>...</td>\n",
       "      <td>-0.171873</td>\n",
       "      <td>0.071898</td>\n",
       "      <td>-0.097827</td>\n",
       "      <td>-0.006514</td>\n",
       "      <td>-0.226556</td>\n",
       "      <td>0.072687</td>\n",
       "      <td>-0.179644</td>\n",
       "      <td>0.078652</td>\n",
       "      <td>0.091832</td>\n",
       "      <td>-0.040219</td>\n",
       "    </tr>\n",
       "    <tr>\n",
       "      <th>primary_cleaner.input.sulfate</th>\n",
       "      <td>0.121849</td>\n",
       "      <td>0.003646</td>\n",
       "      <td>0.380830</td>\n",
       "      <td>-0.026337</td>\n",
       "      <td>0.407667</td>\n",
       "      <td>0.413941</td>\n",
       "      <td>0.373386</td>\n",
       "      <td>0.257189</td>\n",
       "      <td>0.287969</td>\n",
       "      <td>1.000000</td>\n",
       "      <td>...</td>\n",
       "      <td>0.024696</td>\n",
       "      <td>-0.044485</td>\n",
       "      <td>0.122278</td>\n",
       "      <td>-0.053913</td>\n",
       "      <td>-0.116529</td>\n",
       "      <td>-0.052914</td>\n",
       "      <td>-0.059648</td>\n",
       "      <td>-0.054708</td>\n",
       "      <td>-0.172772</td>\n",
       "      <td>-0.057580</td>\n",
       "    </tr>\n",
       "    <tr>\n",
       "      <th>primary_cleaner.input.depressant</th>\n",
       "      <td>0.157213</td>\n",
       "      <td>-0.015023</td>\n",
       "      <td>0.139111</td>\n",
       "      <td>-0.089411</td>\n",
       "      <td>0.189422</td>\n",
       "      <td>0.505490</td>\n",
       "      <td>0.088155</td>\n",
       "      <td>0.195882</td>\n",
       "      <td>0.226973</td>\n",
       "      <td>0.398755</td>\n",
       "      <td>...</td>\n",
       "      <td>-0.102712</td>\n",
       "      <td>-0.093834</td>\n",
       "      <td>-0.050049</td>\n",
       "      <td>-0.234576</td>\n",
       "      <td>-0.198854</td>\n",
       "      <td>-0.092412</td>\n",
       "      <td>-0.144113</td>\n",
       "      <td>-0.085704</td>\n",
       "      <td>-0.168232</td>\n",
       "      <td>-0.079389</td>\n",
       "    </tr>\n",
       "    <tr>\n",
       "      <th>primary_cleaner.input.feed_size</th>\n",
       "      <td>0.043382</td>\n",
       "      <td>-0.110734</td>\n",
       "      <td>0.259207</td>\n",
       "      <td>-0.054493</td>\n",
       "      <td>0.032140</td>\n",
       "      <td>0.110120</td>\n",
       "      <td>-0.158547</td>\n",
       "      <td>0.288509</td>\n",
       "      <td>0.082217</td>\n",
       "      <td>0.092422</td>\n",
       "      <td>...</td>\n",
       "      <td>-0.242681</td>\n",
       "      <td>0.075861</td>\n",
       "      <td>-0.217228</td>\n",
       "      <td>-0.071488</td>\n",
       "      <td>-0.211150</td>\n",
       "      <td>0.078061</td>\n",
       "      <td>-0.238198</td>\n",
       "      <td>0.068870</td>\n",
       "      <td>0.139186</td>\n",
       "      <td>0.024412</td>\n",
       "    </tr>\n",
       "    <tr>\n",
       "      <th>primary_cleaner.input.xanthate</th>\n",
       "      <td>0.168028</td>\n",
       "      <td>-0.162933</td>\n",
       "      <td>0.083192</td>\n",
       "      <td>0.074158</td>\n",
       "      <td>0.257805</td>\n",
       "      <td>0.231781</td>\n",
       "      <td>-0.049431</td>\n",
       "      <td>0.231885</td>\n",
       "      <td>-0.010560</td>\n",
       "      <td>0.404168</td>\n",
       "      <td>...</td>\n",
       "      <td>-0.045978</td>\n",
       "      <td>-0.196750</td>\n",
       "      <td>0.046005</td>\n",
       "      <td>-0.180543</td>\n",
       "      <td>-0.142396</td>\n",
       "      <td>-0.195555</td>\n",
       "      <td>-0.116119</td>\n",
       "      <td>-0.190290</td>\n",
       "      <td>-0.254020</td>\n",
       "      <td>-0.017429</td>\n",
       "    </tr>\n",
       "    <tr>\n",
       "      <th>primary_cleaner.output.concentrate_ag</th>\n",
       "      <td>0.626704</td>\n",
       "      <td>-0.164475</td>\n",
       "      <td>0.455225</td>\n",
       "      <td>-0.316217</td>\n",
       "      <td>0.375611</td>\n",
       "      <td>0.542405</td>\n",
       "      <td>0.015886</td>\n",
       "      <td>0.207248</td>\n",
       "      <td>0.204204</td>\n",
       "      <td>0.437418</td>\n",
       "      <td>...</td>\n",
       "      <td>0.062042</td>\n",
       "      <td>-0.016927</td>\n",
       "      <td>0.132350</td>\n",
       "      <td>-0.113308</td>\n",
       "      <td>-0.072413</td>\n",
       "      <td>0.000134</td>\n",
       "      <td>-0.057117</td>\n",
       "      <td>0.009141</td>\n",
       "      <td>0.032903</td>\n",
       "      <td>-0.043765</td>\n",
       "    </tr>\n",
       "    <tr>\n",
       "      <th>primary_cleaner.output.concentrate_pb</th>\n",
       "      <td>-0.210998</td>\n",
       "      <td>0.423818</td>\n",
       "      <td>-0.045415</td>\n",
       "      <td>0.036671</td>\n",
       "      <td>0.140207</td>\n",
       "      <td>-0.014609</td>\n",
       "      <td>0.499338</td>\n",
       "      <td>-0.010910</td>\n",
       "      <td>0.086693</td>\n",
       "      <td>0.366679</td>\n",
       "      <td>...</td>\n",
       "      <td>0.168709</td>\n",
       "      <td>-0.067226</td>\n",
       "      <td>0.111283</td>\n",
       "      <td>0.147558</td>\n",
       "      <td>0.041824</td>\n",
       "      <td>-0.075113</td>\n",
       "      <td>0.019532</td>\n",
       "      <td>-0.083682</td>\n",
       "      <td>-0.249349</td>\n",
       "      <td>-0.045786</td>\n",
       "    </tr>\n",
       "    <tr>\n",
       "      <th>primary_cleaner.output.concentrate_sol</th>\n",
       "      <td>0.395593</td>\n",
       "      <td>-0.226483</td>\n",
       "      <td>0.322290</td>\n",
       "      <td>-0.125560</td>\n",
       "      <td>0.272906</td>\n",
       "      <td>0.603161</td>\n",
       "      <td>-0.009347</td>\n",
       "      <td>0.287783</td>\n",
       "      <td>0.286021</td>\n",
       "      <td>0.424954</td>\n",
       "      <td>...</td>\n",
       "      <td>-0.140577</td>\n",
       "      <td>-0.131366</td>\n",
       "      <td>-0.064319</td>\n",
       "      <td>-0.257807</td>\n",
       "      <td>-0.288051</td>\n",
       "      <td>-0.101855</td>\n",
       "      <td>-0.249871</td>\n",
       "      <td>-0.102781</td>\n",
       "      <td>-0.106193</td>\n",
       "      <td>-0.080165</td>\n",
       "    </tr>\n",
       "    <tr>\n",
       "      <th>primary_cleaner.output.concentrate_au</th>\n",
       "      <td>-0.380292</td>\n",
       "      <td>-0.102240</td>\n",
       "      <td>-0.196575</td>\n",
       "      <td>0.426357</td>\n",
       "      <td>-0.335572</td>\n",
       "      <td>-0.295073</td>\n",
       "      <td>-0.203805</td>\n",
       "      <td>-0.000158</td>\n",
       "      <td>-0.028334</td>\n",
       "      <td>-0.398914</td>\n",
       "      <td>...</td>\n",
       "      <td>-0.304645</td>\n",
       "      <td>-0.027110</td>\n",
       "      <td>-0.354226</td>\n",
       "      <td>-0.022444</td>\n",
       "      <td>-0.173395</td>\n",
       "      <td>-0.026942</td>\n",
       "      <td>-0.191647</td>\n",
       "      <td>-0.042640</td>\n",
       "      <td>-0.016095</td>\n",
       "      <td>0.040543</td>\n",
       "    </tr>\n",
       "    <tr>\n",
       "      <th>primary_cleaner.output.tail_ag</th>\n",
       "      <td>0.108606</td>\n",
       "      <td>-0.124495</td>\n",
       "      <td>-0.005082</td>\n",
       "      <td>0.131177</td>\n",
       "      <td>0.288888</td>\n",
       "      <td>0.587991</td>\n",
       "      <td>0.149882</td>\n",
       "      <td>-0.257786</td>\n",
       "      <td>0.049744</td>\n",
       "      <td>0.217359</td>\n",
       "      <td>...</td>\n",
       "      <td>0.334730</td>\n",
       "      <td>-0.172985</td>\n",
       "      <td>0.303585</td>\n",
       "      <td>-0.318230</td>\n",
       "      <td>0.098230</td>\n",
       "      <td>-0.189042</td>\n",
       "      <td>0.106369</td>\n",
       "      <td>-0.177132</td>\n",
       "      <td>-0.323913</td>\n",
       "      <td>-0.113889</td>\n",
       "    </tr>\n",
       "    <tr>\n",
       "      <th>primary_cleaner.output.tail_pb</th>\n",
       "      <td>0.025052</td>\n",
       "      <td>-0.015861</td>\n",
       "      <td>-0.045805</td>\n",
       "      <td>0.128372</td>\n",
       "      <td>0.244568</td>\n",
       "      <td>0.548740</td>\n",
       "      <td>0.285693</td>\n",
       "      <td>-0.167690</td>\n",
       "      <td>0.141917</td>\n",
       "      <td>0.337564</td>\n",
       "      <td>...</td>\n",
       "      <td>0.301566</td>\n",
       "      <td>-0.186724</td>\n",
       "      <td>0.301740</td>\n",
       "      <td>-0.294682</td>\n",
       "      <td>0.071249</td>\n",
       "      <td>-0.210306</td>\n",
       "      <td>0.093118</td>\n",
       "      <td>-0.198699</td>\n",
       "      <td>-0.370150</td>\n",
       "      <td>-0.111927</td>\n",
       "    </tr>\n",
       "    <tr>\n",
       "      <th>primary_cleaner.output.tail_sol</th>\n",
       "      <td>0.201725</td>\n",
       "      <td>-0.144861</td>\n",
       "      <td>0.487021</td>\n",
       "      <td>-0.012944</td>\n",
       "      <td>0.171884</td>\n",
       "      <td>0.245523</td>\n",
       "      <td>0.117970</td>\n",
       "      <td>0.515113</td>\n",
       "      <td>0.300655</td>\n",
       "      <td>0.527104</td>\n",
       "      <td>...</td>\n",
       "      <td>-0.159522</td>\n",
       "      <td>0.072634</td>\n",
       "      <td>-0.063298</td>\n",
       "      <td>0.052443</td>\n",
       "      <td>-0.189185</td>\n",
       "      <td>0.076529</td>\n",
       "      <td>-0.176003</td>\n",
       "      <td>0.093580</td>\n",
       "      <td>0.126802</td>\n",
       "      <td>-0.002552</td>\n",
       "    </tr>\n",
       "    <tr>\n",
       "      <th>primary_cleaner.output.tail_au</th>\n",
       "      <td>0.162538</td>\n",
       "      <td>-0.181059</td>\n",
       "      <td>0.124304</td>\n",
       "      <td>-0.042621</td>\n",
       "      <td>-0.365287</td>\n",
       "      <td>0.091445</td>\n",
       "      <td>0.206006</td>\n",
       "      <td>-0.060554</td>\n",
       "      <td>0.626464</td>\n",
       "      <td>-0.000444</td>\n",
       "      <td>...</td>\n",
       "      <td>-0.279369</td>\n",
       "      <td>0.073401</td>\n",
       "      <td>-0.304433</td>\n",
       "      <td>-0.034896</td>\n",
       "      <td>-0.333486</td>\n",
       "      <td>0.081831</td>\n",
       "      <td>-0.346567</td>\n",
       "      <td>0.072699</td>\n",
       "      <td>0.078901</td>\n",
       "      <td>0.018980</td>\n",
       "    </tr>\n",
       "    <tr>\n",
       "      <th>primary_cleaner.state.floatbank8_a_air</th>\n",
       "      <td>0.164930</td>\n",
       "      <td>0.026053</td>\n",
       "      <td>0.089688</td>\n",
       "      <td>-0.106662</td>\n",
       "      <td>0.119827</td>\n",
       "      <td>0.106172</td>\n",
       "      <td>-0.011450</td>\n",
       "      <td>-0.134207</td>\n",
       "      <td>-0.083802</td>\n",
       "      <td>-0.088254</td>\n",
       "      <td>...</td>\n",
       "      <td>0.565529</td>\n",
       "      <td>0.275286</td>\n",
       "      <td>0.495260</td>\n",
       "      <td>0.186828</td>\n",
       "      <td>0.593014</td>\n",
       "      <td>0.258042</td>\n",
       "      <td>0.536579</td>\n",
       "      <td>0.247511</td>\n",
       "      <td>0.338016</td>\n",
       "      <td>0.027917</td>\n",
       "    </tr>\n",
       "    <tr>\n",
       "      <th>primary_cleaner.state.floatbank8_a_level</th>\n",
       "      <td>0.013421</td>\n",
       "      <td>0.077415</td>\n",
       "      <td>-0.085081</td>\n",
       "      <td>-0.079007</td>\n",
       "      <td>0.069453</td>\n",
       "      <td>0.087029</td>\n",
       "      <td>-0.091677</td>\n",
       "      <td>0.063113</td>\n",
       "      <td>-0.069358</td>\n",
       "      <td>-0.033271</td>\n",
       "      <td>...</td>\n",
       "      <td>-0.012888</td>\n",
       "      <td>0.098299</td>\n",
       "      <td>0.037021</td>\n",
       "      <td>0.008897</td>\n",
       "      <td>0.022643</td>\n",
       "      <td>0.135965</td>\n",
       "      <td>0.036082</td>\n",
       "      <td>0.097836</td>\n",
       "      <td>0.058976</td>\n",
       "      <td>0.199960</td>\n",
       "    </tr>\n",
       "    <tr>\n",
       "      <th>primary_cleaner.state.floatbank8_b_air</th>\n",
       "      <td>0.181962</td>\n",
       "      <td>0.007443</td>\n",
       "      <td>0.135754</td>\n",
       "      <td>-0.083062</td>\n",
       "      <td>0.135589</td>\n",
       "      <td>0.129830</td>\n",
       "      <td>-0.006717</td>\n",
       "      <td>-0.147760</td>\n",
       "      <td>-0.055351</td>\n",
       "      <td>-0.069333</td>\n",
       "      <td>...</td>\n",
       "      <td>0.550212</td>\n",
       "      <td>0.277179</td>\n",
       "      <td>0.507868</td>\n",
       "      <td>0.147591</td>\n",
       "      <td>0.587309</td>\n",
       "      <td>0.264092</td>\n",
       "      <td>0.537828</td>\n",
       "      <td>0.263118</td>\n",
       "      <td>0.367790</td>\n",
       "      <td>0.019830</td>\n",
       "    </tr>\n",
       "    <tr>\n",
       "      <th>primary_cleaner.state.floatbank8_b_level</th>\n",
       "      <td>0.017863</td>\n",
       "      <td>0.089543</td>\n",
       "      <td>-0.051681</td>\n",
       "      <td>-0.086121</td>\n",
       "      <td>0.036887</td>\n",
       "      <td>0.083418</td>\n",
       "      <td>-0.079732</td>\n",
       "      <td>0.067705</td>\n",
       "      <td>-0.071995</td>\n",
       "      <td>-0.048882</td>\n",
       "      <td>...</td>\n",
       "      <td>-0.024142</td>\n",
       "      <td>-0.054123</td>\n",
       "      <td>0.014537</td>\n",
       "      <td>-0.042717</td>\n",
       "      <td>0.011717</td>\n",
       "      <td>-0.020818</td>\n",
       "      <td>0.028323</td>\n",
       "      <td>0.009660</td>\n",
       "      <td>0.078511</td>\n",
       "      <td>-0.021544</td>\n",
       "    </tr>\n",
       "    <tr>\n",
       "      <th>primary_cleaner.state.floatbank8_c_air</th>\n",
       "      <td>0.139971</td>\n",
       "      <td>0.031751</td>\n",
       "      <td>0.104613</td>\n",
       "      <td>-0.067133</td>\n",
       "      <td>0.109819</td>\n",
       "      <td>0.107417</td>\n",
       "      <td>-0.029576</td>\n",
       "      <td>-0.203080</td>\n",
       "      <td>-0.088300</td>\n",
       "      <td>-0.099351</td>\n",
       "      <td>...</td>\n",
       "      <td>0.590837</td>\n",
       "      <td>0.264092</td>\n",
       "      <td>0.554005</td>\n",
       "      <td>0.171408</td>\n",
       "      <td>0.626433</td>\n",
       "      <td>0.246453</td>\n",
       "      <td>0.616104</td>\n",
       "      <td>0.243347</td>\n",
       "      <td>0.348013</td>\n",
       "      <td>0.011768</td>\n",
       "    </tr>\n",
       "    <tr>\n",
       "      <th>primary_cleaner.state.floatbank8_c_level</th>\n",
       "      <td>0.027472</td>\n",
       "      <td>0.071892</td>\n",
       "      <td>-0.055578</td>\n",
       "      <td>-0.083320</td>\n",
       "      <td>0.069703</td>\n",
       "      <td>0.087835</td>\n",
       "      <td>-0.086990</td>\n",
       "      <td>0.058453</td>\n",
       "      <td>-0.078500</td>\n",
       "      <td>-0.047736</td>\n",
       "      <td>...</td>\n",
       "      <td>-0.006745</td>\n",
       "      <td>0.034049</td>\n",
       "      <td>0.036827</td>\n",
       "      <td>-0.016236</td>\n",
       "      <td>0.029627</td>\n",
       "      <td>0.059172</td>\n",
       "      <td>0.040579</td>\n",
       "      <td>0.049052</td>\n",
       "      <td>0.082650</td>\n",
       "      <td>0.055786</td>\n",
       "    </tr>\n",
       "    <tr>\n",
       "      <th>primary_cleaner.state.floatbank8_d_air</th>\n",
       "      <td>0.114702</td>\n",
       "      <td>0.014077</td>\n",
       "      <td>0.141938</td>\n",
       "      <td>-0.016501</td>\n",
       "      <td>0.086306</td>\n",
       "      <td>0.017090</td>\n",
       "      <td>0.135920</td>\n",
       "      <td>-0.226853</td>\n",
       "      <td>0.032121</td>\n",
       "      <td>0.011507</td>\n",
       "      <td>...</td>\n",
       "      <td>0.523280</td>\n",
       "      <td>0.152663</td>\n",
       "      <td>0.468235</td>\n",
       "      <td>0.144713</td>\n",
       "      <td>0.467691</td>\n",
       "      <td>0.161100</td>\n",
       "      <td>0.472847</td>\n",
       "      <td>0.145052</td>\n",
       "      <td>0.170148</td>\n",
       "      <td>-0.010938</td>\n",
       "    </tr>\n",
       "    <tr>\n",
       "      <th>primary_cleaner.state.floatbank8_d_level</th>\n",
       "      <td>-0.038304</td>\n",
       "      <td>0.087321</td>\n",
       "      <td>-0.109826</td>\n",
       "      <td>-0.047034</td>\n",
       "      <td>-0.012854</td>\n",
       "      <td>0.037491</td>\n",
       "      <td>-0.075724</td>\n",
       "      <td>0.050294</td>\n",
       "      <td>-0.066469</td>\n",
       "      <td>-0.080646</td>\n",
       "      <td>...</td>\n",
       "      <td>-0.017774</td>\n",
       "      <td>0.020908</td>\n",
       "      <td>0.015489</td>\n",
       "      <td>-0.020876</td>\n",
       "      <td>0.042257</td>\n",
       "      <td>0.023440</td>\n",
       "      <td>0.066325</td>\n",
       "      <td>0.015181</td>\n",
       "      <td>0.058134</td>\n",
       "      <td>0.001804</td>\n",
       "    </tr>\n",
       "    <tr>\n",
       "      <th>rougher.calculation.sulfate_to_au_concentrate</th>\n",
       "      <td>-0.027188</td>\n",
       "      <td>0.236665</td>\n",
       "      <td>0.124630</td>\n",
       "      <td>-0.110404</td>\n",
       "      <td>-0.029013</td>\n",
       "      <td>0.046503</td>\n",
       "      <td>0.378602</td>\n",
       "      <td>-0.016560</td>\n",
       "      <td>0.121570</td>\n",
       "      <td>0.390453</td>\n",
       "      <td>...</td>\n",
       "      <td>0.090522</td>\n",
       "      <td>0.052319</td>\n",
       "      <td>0.239183</td>\n",
       "      <td>0.146874</td>\n",
       "      <td>0.156666</td>\n",
       "      <td>0.036120</td>\n",
       "      <td>0.227958</td>\n",
       "      <td>0.022305</td>\n",
       "      <td>0.047102</td>\n",
       "      <td>0.003943</td>\n",
       "    </tr>\n",
       "    <tr>\n",
       "      <th>rougher.calculation.floatbank10_sulfate_to_au_feed</th>\n",
       "      <td>-0.154938</td>\n",
       "      <td>0.166535</td>\n",
       "      <td>-0.078233</td>\n",
       "      <td>0.000578</td>\n",
       "      <td>-0.240266</td>\n",
       "      <td>-0.378279</td>\n",
       "      <td>0.229153</td>\n",
       "      <td>0.022094</td>\n",
       "      <td>-0.023225</td>\n",
       "      <td>-0.150813</td>\n",
       "      <td>...</td>\n",
       "      <td>-0.046418</td>\n",
       "      <td>0.117990</td>\n",
       "      <td>0.020602</td>\n",
       "      <td>0.433264</td>\n",
       "      <td>0.149550</td>\n",
       "      <td>0.089407</td>\n",
       "      <td>0.172048</td>\n",
       "      <td>0.082067</td>\n",
       "      <td>0.131192</td>\n",
       "      <td>0.054880</td>\n",
       "    </tr>\n",
       "    <tr>\n",
       "      <th>rougher.calculation.floatbank11_sulfate_to_au_feed</th>\n",
       "      <td>-0.193896</td>\n",
       "      <td>0.183479</td>\n",
       "      <td>-0.025177</td>\n",
       "      <td>0.013760</td>\n",
       "      <td>-0.223257</td>\n",
       "      <td>-0.372834</td>\n",
       "      <td>0.193847</td>\n",
       "      <td>0.120995</td>\n",
       "      <td>-0.064715</td>\n",
       "      <td>-0.046761</td>\n",
       "      <td>...</td>\n",
       "      <td>-0.122215</td>\n",
       "      <td>0.045303</td>\n",
       "      <td>-0.062641</td>\n",
       "      <td>0.369204</td>\n",
       "      <td>0.078120</td>\n",
       "      <td>0.024591</td>\n",
       "      <td>0.100259</td>\n",
       "      <td>0.018229</td>\n",
       "      <td>0.080482</td>\n",
       "      <td>0.048098</td>\n",
       "    </tr>\n",
       "    <tr>\n",
       "      <th>rougher.calculation.au_pb_ratio</th>\n",
       "      <td>0.278217</td>\n",
       "      <td>-0.618351</td>\n",
       "      <td>0.287531</td>\n",
       "      <td>0.094682</td>\n",
       "      <td>0.098132</td>\n",
       "      <td>0.193479</td>\n",
       "      <td>-0.530039</td>\n",
       "      <td>0.219378</td>\n",
       "      <td>0.042771</td>\n",
       "      <td>-0.045960</td>\n",
       "      <td>...</td>\n",
       "      <td>-0.277672</td>\n",
       "      <td>-0.008129</td>\n",
       "      <td>-0.237617</td>\n",
       "      <td>-0.155751</td>\n",
       "      <td>-0.292955</td>\n",
       "      <td>0.020836</td>\n",
       "      <td>-0.273180</td>\n",
       "      <td>0.032416</td>\n",
       "      <td>0.133609</td>\n",
       "      <td>0.008863</td>\n",
       "    </tr>\n",
       "    <tr>\n",
       "      <th>rougher.input.feed_ag</th>\n",
       "      <td>0.534669</td>\n",
       "      <td>-0.338606</td>\n",
       "      <td>0.575608</td>\n",
       "      <td>-0.119881</td>\n",
       "      <td>0.371178</td>\n",
       "      <td>0.813525</td>\n",
       "      <td>0.250815</td>\n",
       "      <td>0.009709</td>\n",
       "      <td>0.533867</td>\n",
       "      <td>0.514148</td>\n",
       "      <td>...</td>\n",
       "      <td>0.091825</td>\n",
       "      <td>0.088206</td>\n",
       "      <td>0.142764</td>\n",
       "      <td>-0.164460</td>\n",
       "      <td>-0.089815</td>\n",
       "      <td>0.087117</td>\n",
       "      <td>-0.072977</td>\n",
       "      <td>0.099107</td>\n",
       "      <td>0.073366</td>\n",
       "      <td>-0.059371</td>\n",
       "    </tr>\n",
       "    <tr>\n",
       "      <th>rougher.input.feed_pb</th>\n",
       "      <td>0.091846</td>\n",
       "      <td>0.303909</td>\n",
       "      <td>0.190946</td>\n",
       "      <td>-0.119583</td>\n",
       "      <td>0.210476</td>\n",
       "      <td>0.362866</td>\n",
       "      <td>0.781353</td>\n",
       "      <td>-0.183134</td>\n",
       "      <td>0.480653</td>\n",
       "      <td>0.503488</td>\n",
       "      <td>...</td>\n",
       "      <td>0.197995</td>\n",
       "      <td>0.062852</td>\n",
       "      <td>0.240091</td>\n",
       "      <td>0.021364</td>\n",
       "      <td>0.078535</td>\n",
       "      <td>0.036740</td>\n",
       "      <td>0.102607</td>\n",
       "      <td>0.035321</td>\n",
       "      <td>-0.056428</td>\n",
       "      <td>-0.051108</td>\n",
       "    </tr>\n",
       "    <tr>\n",
       "      <th>rougher.input.feed_rate</th>\n",
       "      <td>-0.177623</td>\n",
       "      <td>0.059472</td>\n",
       "      <td>-0.240248</td>\n",
       "      <td>0.161739</td>\n",
       "      <td>0.181525</td>\n",
       "      <td>-0.115988</td>\n",
       "      <td>-0.310031</td>\n",
       "      <td>0.481968</td>\n",
       "      <td>-0.392167</td>\n",
       "      <td>0.276997</td>\n",
       "      <td>...</td>\n",
       "      <td>0.032840</td>\n",
       "      <td>-0.170466</td>\n",
       "      <td>-0.040931</td>\n",
       "      <td>-0.094150</td>\n",
       "      <td>-0.101364</td>\n",
       "      <td>-0.170257</td>\n",
       "      <td>-0.109993</td>\n",
       "      <td>-0.205024</td>\n",
       "      <td>-0.372023</td>\n",
       "      <td>0.024536</td>\n",
       "    </tr>\n",
       "    <tr>\n",
       "      <th>rougher.input.feed_size</th>\n",
       "      <td>-0.089167</td>\n",
       "      <td>0.086044</td>\n",
       "      <td>-0.361128</td>\n",
       "      <td>0.090948</td>\n",
       "      <td>0.144929</td>\n",
       "      <td>-0.102028</td>\n",
       "      <td>-0.232344</td>\n",
       "      <td>0.182819</td>\n",
       "      <td>-0.355951</td>\n",
       "      <td>0.008280</td>\n",
       "      <td>...</td>\n",
       "      <td>0.250103</td>\n",
       "      <td>-0.055473</td>\n",
       "      <td>0.100223</td>\n",
       "      <td>0.001583</td>\n",
       "      <td>0.043683</td>\n",
       "      <td>-0.053855</td>\n",
       "      <td>-0.011644</td>\n",
       "      <td>-0.085563</td>\n",
       "      <td>-0.316097</td>\n",
       "      <td>0.041809</td>\n",
       "    </tr>\n",
       "    <tr>\n",
       "      <th>rougher.input.feed_sol</th>\n",
       "      <td>-0.035813</td>\n",
       "      <td>0.058711</td>\n",
       "      <td>-0.049078</td>\n",
       "      <td>0.162997</td>\n",
       "      <td>0.245440</td>\n",
       "      <td>-0.032358</td>\n",
       "      <td>-0.054927</td>\n",
       "      <td>0.431790</td>\n",
       "      <td>-0.175112</td>\n",
       "      <td>0.392207</td>\n",
       "      <td>...</td>\n",
       "      <td>0.192992</td>\n",
       "      <td>-0.049532</td>\n",
       "      <td>0.128450</td>\n",
       "      <td>0.067288</td>\n",
       "      <td>0.022621</td>\n",
       "      <td>-0.057893</td>\n",
       "      <td>0.017428</td>\n",
       "      <td>-0.077091</td>\n",
       "      <td>-0.296568</td>\n",
       "      <td>0.007669</td>\n",
       "    </tr>\n",
       "    <tr>\n",
       "      <th>rougher.input.feed_au</th>\n",
       "      <td>0.392612</td>\n",
       "      <td>-0.206226</td>\n",
       "      <td>0.548665</td>\n",
       "      <td>-0.074985</td>\n",
       "      <td>0.360717</td>\n",
       "      <td>0.638244</td>\n",
       "      <td>0.478746</td>\n",
       "      <td>-0.022190</td>\n",
       "      <td>0.680712</td>\n",
       "      <td>0.625150</td>\n",
       "      <td>...</td>\n",
       "      <td>0.006009</td>\n",
       "      <td>0.080644</td>\n",
       "      <td>0.086866</td>\n",
       "      <td>-0.092102</td>\n",
       "      <td>-0.168458</td>\n",
       "      <td>0.074432</td>\n",
       "      <td>-0.127423</td>\n",
       "      <td>0.084303</td>\n",
       "      <td>0.041881</td>\n",
       "      <td>-0.066190</td>\n",
       "    </tr>\n",
       "    <tr>\n",
       "      <th>rougher.input.floatbank10_sulfate</th>\n",
       "      <td>-0.083838</td>\n",
       "      <td>0.089106</td>\n",
       "      <td>0.137330</td>\n",
       "      <td>0.042989</td>\n",
       "      <td>0.056157</td>\n",
       "      <td>-0.087222</td>\n",
       "      <td>0.373288</td>\n",
       "      <td>0.265049</td>\n",
       "      <td>0.205621</td>\n",
       "      <td>0.521794</td>\n",
       "      <td>...</td>\n",
       "      <td>-0.127835</td>\n",
       "      <td>0.023801</td>\n",
       "      <td>-0.070799</td>\n",
       "      <td>0.370991</td>\n",
       "      <td>-0.074111</td>\n",
       "      <td>0.001200</td>\n",
       "      <td>-0.039502</td>\n",
       "      <td>-0.019003</td>\n",
       "      <td>-0.139049</td>\n",
       "      <td>0.003943</td>\n",
       "    </tr>\n",
       "    <tr>\n",
       "      <th>rougher.input.floatbank10_xanthate</th>\n",
       "      <td>0.122290</td>\n",
       "      <td>-0.111325</td>\n",
       "      <td>-0.032962</td>\n",
       "      <td>0.027506</td>\n",
       "      <td>0.346284</td>\n",
       "      <td>0.333526</td>\n",
       "      <td>-0.194390</td>\n",
       "      <td>0.255554</td>\n",
       "      <td>-0.074117</td>\n",
       "      <td>0.446320</td>\n",
       "      <td>...</td>\n",
       "      <td>0.002242</td>\n",
       "      <td>-0.197002</td>\n",
       "      <td>0.013118</td>\n",
       "      <td>-0.268911</td>\n",
       "      <td>-0.197158</td>\n",
       "      <td>-0.173801</td>\n",
       "      <td>-0.151810</td>\n",
       "      <td>-0.169781</td>\n",
       "      <td>-0.339890</td>\n",
       "      <td>0.013110</td>\n",
       "    </tr>\n",
       "    <tr>\n",
       "      <th>rougher.input.floatbank11_sulfate</th>\n",
       "      <td>-0.104181</td>\n",
       "      <td>0.095658</td>\n",
       "      <td>0.163731</td>\n",
       "      <td>0.043330</td>\n",
       "      <td>0.061984</td>\n",
       "      <td>-0.079548</td>\n",
       "      <td>0.345752</td>\n",
       "      <td>0.314242</td>\n",
       "      <td>0.182738</td>\n",
       "      <td>0.568635</td>\n",
       "      <td>...</td>\n",
       "      <td>-0.166067</td>\n",
       "      <td>-0.015165</td>\n",
       "      <td>-0.113922</td>\n",
       "      <td>0.320429</td>\n",
       "      <td>-0.115716</td>\n",
       "      <td>-0.033673</td>\n",
       "      <td>-0.082519</td>\n",
       "      <td>-0.051950</td>\n",
       "      <td>-0.164466</td>\n",
       "      <td>0.000236</td>\n",
       "    </tr>\n",
       "    <tr>\n",
       "      <th>rougher.input.floatbank11_xanthate</th>\n",
       "      <td>0.146890</td>\n",
       "      <td>-0.114589</td>\n",
       "      <td>-0.048552</td>\n",
       "      <td>0.015930</td>\n",
       "      <td>0.333525</td>\n",
       "      <td>0.323947</td>\n",
       "      <td>-0.194501</td>\n",
       "      <td>0.242401</td>\n",
       "      <td>-0.056203</td>\n",
       "      <td>0.417690</td>\n",
       "      <td>...</td>\n",
       "      <td>-0.002719</td>\n",
       "      <td>-0.184121</td>\n",
       "      <td>0.022238</td>\n",
       "      <td>-0.260109</td>\n",
       "      <td>-0.192525</td>\n",
       "      <td>-0.160321</td>\n",
       "      <td>-0.140725</td>\n",
       "      <td>-0.157230</td>\n",
       "      <td>-0.333066</td>\n",
       "      <td>0.015793</td>\n",
       "    </tr>\n",
       "    <tr>\n",
       "      <th>rougher.output.concentrate_ag</th>\n",
       "      <td>0.446125</td>\n",
       "      <td>-0.437628</td>\n",
       "      <td>0.480205</td>\n",
       "      <td>-0.040998</td>\n",
       "      <td>0.331798</td>\n",
       "      <td>0.599446</td>\n",
       "      <td>0.068505</td>\n",
       "      <td>-0.029439</td>\n",
       "      <td>0.201806</td>\n",
       "      <td>0.318721</td>\n",
       "      <td>...</td>\n",
       "      <td>0.159292</td>\n",
       "      <td>0.005762</td>\n",
       "      <td>0.188364</td>\n",
       "      <td>-0.200329</td>\n",
       "      <td>-0.009702</td>\n",
       "      <td>0.011426</td>\n",
       "      <td>-0.006363</td>\n",
       "      <td>0.029322</td>\n",
       "      <td>0.082997</td>\n",
       "      <td>-0.112524</td>\n",
       "    </tr>\n",
       "    <tr>\n",
       "      <th>rougher.output.concentrate_pb</th>\n",
       "      <td>-0.201471</td>\n",
       "      <td>0.658725</td>\n",
       "      <td>-0.218898</td>\n",
       "      <td>-0.127391</td>\n",
       "      <td>-0.061944</td>\n",
       "      <td>-0.091336</td>\n",
       "      <td>0.544141</td>\n",
       "      <td>-0.150075</td>\n",
       "      <td>0.066905</td>\n",
       "      <td>0.121158</td>\n",
       "      <td>...</td>\n",
       "      <td>0.163035</td>\n",
       "      <td>0.003527</td>\n",
       "      <td>0.238093</td>\n",
       "      <td>0.144310</td>\n",
       "      <td>0.236066</td>\n",
       "      <td>-0.019661</td>\n",
       "      <td>0.262444</td>\n",
       "      <td>-0.029682</td>\n",
       "      <td>-0.081791</td>\n",
       "      <td>-0.029927</td>\n",
       "    </tr>\n",
       "    <tr>\n",
       "      <th>rougher.output.concentrate_sol</th>\n",
       "      <td>-0.051898</td>\n",
       "      <td>-0.052308</td>\n",
       "      <td>0.226060</td>\n",
       "      <td>0.121663</td>\n",
       "      <td>0.043114</td>\n",
       "      <td>0.075102</td>\n",
       "      <td>0.329714</td>\n",
       "      <td>0.015995</td>\n",
       "      <td>0.271783</td>\n",
       "      <td>0.221566</td>\n",
       "      <td>...</td>\n",
       "      <td>-0.112007</td>\n",
       "      <td>-0.081880</td>\n",
       "      <td>-0.023259</td>\n",
       "      <td>0.003328</td>\n",
       "      <td>-0.153622</td>\n",
       "      <td>-0.101947</td>\n",
       "      <td>-0.117332</td>\n",
       "      <td>-0.113286</td>\n",
       "      <td>-0.115281</td>\n",
       "      <td>-0.118563</td>\n",
       "    </tr>\n",
       "    <tr>\n",
       "      <th>rougher.output.concentrate_au</th>\n",
       "      <td>0.043157</td>\n",
       "      <td>-0.186661</td>\n",
       "      <td>0.366788</td>\n",
       "      <td>0.103121</td>\n",
       "      <td>-0.077546</td>\n",
       "      <td>0.054856</td>\n",
       "      <td>0.214705</td>\n",
       "      <td>-0.113948</td>\n",
       "      <td>0.422446</td>\n",
       "      <td>0.061884</td>\n",
       "      <td>...</td>\n",
       "      <td>-0.237747</td>\n",
       "      <td>0.046027</td>\n",
       "      <td>-0.181594</td>\n",
       "      <td>-0.019809</td>\n",
       "      <td>-0.195457</td>\n",
       "      <td>0.045940</td>\n",
       "      <td>-0.192624</td>\n",
       "      <td>0.048728</td>\n",
       "      <td>0.202531</td>\n",
       "      <td>-0.060206</td>\n",
       "    </tr>\n",
       "    <tr>\n",
       "      <th>rougher.output.recovery</th>\n",
       "      <td>0.182391</td>\n",
       "      <td>-0.039354</td>\n",
       "      <td>0.183311</td>\n",
       "      <td>0.021111</td>\n",
       "      <td>0.618854</td>\n",
       "      <td>0.423712</td>\n",
       "      <td>0.170688</td>\n",
       "      <td>-0.114074</td>\n",
       "      <td>-0.084517</td>\n",
       "      <td>0.451715</td>\n",
       "      <td>...</td>\n",
       "      <td>0.367206</td>\n",
       "      <td>0.002513</td>\n",
       "      <td>0.394567</td>\n",
       "      <td>-0.083329</td>\n",
       "      <td>0.181282</td>\n",
       "      <td>-0.007193</td>\n",
       "      <td>0.189801</td>\n",
       "      <td>0.006123</td>\n",
       "      <td>-0.134241</td>\n",
       "      <td>-0.037680</td>\n",
       "    </tr>\n",
       "    <tr>\n",
       "      <th>rougher.output.tail_ag</th>\n",
       "      <td>0.217245</td>\n",
       "      <td>-0.246467</td>\n",
       "      <td>0.444412</td>\n",
       "      <td>-0.096034</td>\n",
       "      <td>-0.162964</td>\n",
       "      <td>0.296318</td>\n",
       "      <td>0.216245</td>\n",
       "      <td>-0.049946</td>\n",
       "      <td>0.590279</td>\n",
       "      <td>0.073652</td>\n",
       "      <td>...</td>\n",
       "      <td>-0.151841</td>\n",
       "      <td>0.172491</td>\n",
       "      <td>-0.103886</td>\n",
       "      <td>-0.037718</td>\n",
       "      <td>-0.099681</td>\n",
       "      <td>0.174938</td>\n",
       "      <td>-0.083874</td>\n",
       "      <td>0.183604</td>\n",
       "      <td>0.375855</td>\n",
       "      <td>-0.036597</td>\n",
       "    </tr>\n",
       "    <tr>\n",
       "      <th>rougher.output.tail_pb</th>\n",
       "      <td>-0.079905</td>\n",
       "      <td>0.190770</td>\n",
       "      <td>-0.085457</td>\n",
       "      <td>-0.041270</td>\n",
       "      <td>-0.369260</td>\n",
       "      <td>-0.185156</td>\n",
       "      <td>0.098953</td>\n",
       "      <td>0.316932</td>\n",
       "      <td>0.351382</td>\n",
       "      <td>0.043304</td>\n",
       "      <td>...</td>\n",
       "      <td>-0.233841</td>\n",
       "      <td>0.056406</td>\n",
       "      <td>-0.252034</td>\n",
       "      <td>0.091718</td>\n",
       "      <td>-0.202221</td>\n",
       "      <td>0.065907</td>\n",
       "      <td>-0.206577</td>\n",
       "      <td>0.040606</td>\n",
       "      <td>-0.020038</td>\n",
       "      <td>0.040034</td>\n",
       "    </tr>\n",
       "    <tr>\n",
       "      <th>rougher.output.tail_sol</th>\n",
       "      <td>0.029676</td>\n",
       "      <td>-0.206685</td>\n",
       "      <td>0.000048</td>\n",
       "      <td>0.137720</td>\n",
       "      <td>0.206865</td>\n",
       "      <td>-0.061198</td>\n",
       "      <td>-0.473152</td>\n",
       "      <td>0.489607</td>\n",
       "      <td>-0.380247</td>\n",
       "      <td>0.116606</td>\n",
       "      <td>...</td>\n",
       "      <td>0.154975</td>\n",
       "      <td>0.025317</td>\n",
       "      <td>0.127725</td>\n",
       "      <td>-0.003303</td>\n",
       "      <td>0.087252</td>\n",
       "      <td>0.037498</td>\n",
       "      <td>0.064365</td>\n",
       "      <td>0.027285</td>\n",
       "      <td>-0.019201</td>\n",
       "      <td>0.040676</td>\n",
       "    </tr>\n",
       "    <tr>\n",
       "      <th>rougher.output.tail_au</th>\n",
       "      <td>0.139095</td>\n",
       "      <td>-0.104870</td>\n",
       "      <td>0.205897</td>\n",
       "      <td>-0.135446</td>\n",
       "      <td>-0.355054</td>\n",
       "      <td>0.094665</td>\n",
       "      <td>0.197684</td>\n",
       "      <td>0.066345</td>\n",
       "      <td>0.652569</td>\n",
       "      <td>0.044654</td>\n",
       "      <td>...</td>\n",
       "      <td>-0.352925</td>\n",
       "      <td>0.038313</td>\n",
       "      <td>-0.325857</td>\n",
       "      <td>-0.037280</td>\n",
       "      <td>-0.326973</td>\n",
       "      <td>0.053398</td>\n",
       "      <td>-0.300196</td>\n",
       "      <td>0.053780</td>\n",
       "      <td>0.172328</td>\n",
       "      <td>-0.011135</td>\n",
       "    </tr>\n",
       "    <tr>\n",
       "      <th>rougher.state.floatbank10_a_air</th>\n",
       "      <td>0.121154</td>\n",
       "      <td>0.039577</td>\n",
       "      <td>-0.010507</td>\n",
       "      <td>0.019188</td>\n",
       "      <td>0.216649</td>\n",
       "      <td>0.217955</td>\n",
       "      <td>0.098146</td>\n",
       "      <td>-0.061398</td>\n",
       "      <td>-0.041801</td>\n",
       "      <td>0.095143</td>\n",
       "      <td>...</td>\n",
       "      <td>0.528778</td>\n",
       "      <td>0.149235</td>\n",
       "      <td>0.482458</td>\n",
       "      <td>-0.040019</td>\n",
       "      <td>0.367505</td>\n",
       "      <td>0.118839</td>\n",
       "      <td>0.345162</td>\n",
       "      <td>0.110299</td>\n",
       "      <td>-0.046309</td>\n",
       "      <td>0.000171</td>\n",
       "    </tr>\n",
       "    <tr>\n",
       "      <th>rougher.state.floatbank10_a_level</th>\n",
       "      <td>-0.171429</td>\n",
       "      <td>0.190669</td>\n",
       "      <td>-0.283384</td>\n",
       "      <td>0.137569</td>\n",
       "      <td>0.098890</td>\n",
       "      <td>-0.109191</td>\n",
       "      <td>0.237592</td>\n",
       "      <td>-0.113611</td>\n",
       "      <td>-0.176304</td>\n",
       "      <td>0.054040</td>\n",
       "      <td>...</td>\n",
       "      <td>0.498341</td>\n",
       "      <td>0.060214</td>\n",
       "      <td>0.399651</td>\n",
       "      <td>0.243163</td>\n",
       "      <td>0.368397</td>\n",
       "      <td>0.004543</td>\n",
       "      <td>0.377775</td>\n",
       "      <td>-0.010323</td>\n",
       "      <td>-0.267727</td>\n",
       "      <td>0.026410</td>\n",
       "    </tr>\n",
       "    <tr>\n",
       "      <th>rougher.state.floatbank10_b_air</th>\n",
       "      <td>0.078164</td>\n",
       "      <td>0.019467</td>\n",
       "      <td>0.099355</td>\n",
       "      <td>-0.121200</td>\n",
       "      <td>-0.189383</td>\n",
       "      <td>-0.131713</td>\n",
       "      <td>-0.152065</td>\n",
       "      <td>0.064703</td>\n",
       "      <td>0.045559</td>\n",
       "      <td>-0.195346</td>\n",
       "      <td>...</td>\n",
       "      <td>-0.182339</td>\n",
       "      <td>0.237821</td>\n",
       "      <td>-0.102283</td>\n",
       "      <td>0.137159</td>\n",
       "      <td>0.057452</td>\n",
       "      <td>0.263740</td>\n",
       "      <td>0.042197</td>\n",
       "      <td>0.269026</td>\n",
       "      <td>0.444641</td>\n",
       "      <td>0.096650</td>\n",
       "    </tr>\n",
       "    <tr>\n",
       "      <th>rougher.state.floatbank10_b_level</th>\n",
       "      <td>0.094275</td>\n",
       "      <td>-0.006868</td>\n",
       "      <td>0.131727</td>\n",
       "      <td>-0.107062</td>\n",
       "      <td>-0.114514</td>\n",
       "      <td>-0.139616</td>\n",
       "      <td>-0.011763</td>\n",
       "      <td>-0.032264</td>\n",
       "      <td>0.051911</td>\n",
       "      <td>-0.133814</td>\n",
       "      <td>...</td>\n",
       "      <td>0.061127</td>\n",
       "      <td>0.259066</td>\n",
       "      <td>-0.015814</td>\n",
       "      <td>0.251016</td>\n",
       "      <td>0.113106</td>\n",
       "      <td>0.276307</td>\n",
       "      <td>0.070649</td>\n",
       "      <td>0.270332</td>\n",
       "      <td>0.374271</td>\n",
       "      <td>0.080376</td>\n",
       "    </tr>\n",
       "    <tr>\n",
       "      <th>rougher.state.floatbank10_c_air</th>\n",
       "      <td>0.076101</td>\n",
       "      <td>0.019450</td>\n",
       "      <td>0.122598</td>\n",
       "      <td>-0.128897</td>\n",
       "      <td>-0.214395</td>\n",
       "      <td>-0.141450</td>\n",
       "      <td>-0.133747</td>\n",
       "      <td>0.067344</td>\n",
       "      <td>0.081456</td>\n",
       "      <td>-0.211433</td>\n",
       "      <td>...</td>\n",
       "      <td>-0.204231</td>\n",
       "      <td>0.243438</td>\n",
       "      <td>-0.115556</td>\n",
       "      <td>0.152110</td>\n",
       "      <td>0.042631</td>\n",
       "      <td>0.271699</td>\n",
       "      <td>0.039851</td>\n",
       "      <td>0.277979</td>\n",
       "      <td>0.483862</td>\n",
       "      <td>0.097904</td>\n",
       "    </tr>\n",
       "    <tr>\n",
       "      <th>rougher.state.floatbank10_c_level</th>\n",
       "      <td>0.092951</td>\n",
       "      <td>0.001426</td>\n",
       "      <td>0.127442</td>\n",
       "      <td>-0.101527</td>\n",
       "      <td>-0.106677</td>\n",
       "      <td>-0.145605</td>\n",
       "      <td>0.007123</td>\n",
       "      <td>-0.048882</td>\n",
       "      <td>0.043989</td>\n",
       "      <td>-0.131185</td>\n",
       "      <td>...</td>\n",
       "      <td>0.075950</td>\n",
       "      <td>0.258526</td>\n",
       "      <td>-0.010106</td>\n",
       "      <td>0.262427</td>\n",
       "      <td>0.122456</td>\n",
       "      <td>0.269858</td>\n",
       "      <td>0.074669</td>\n",
       "      <td>0.275325</td>\n",
       "      <td>0.356833</td>\n",
       "      <td>0.090902</td>\n",
       "    </tr>\n",
       "    <tr>\n",
       "      <th>rougher.state.floatbank10_d_air</th>\n",
       "      <td>0.096979</td>\n",
       "      <td>-0.005196</td>\n",
       "      <td>0.111253</td>\n",
       "      <td>-0.129453</td>\n",
       "      <td>-0.204859</td>\n",
       "      <td>-0.149427</td>\n",
       "      <td>-0.175172</td>\n",
       "      <td>0.054160</td>\n",
       "      <td>0.041377</td>\n",
       "      <td>-0.233927</td>\n",
       "      <td>...</td>\n",
       "      <td>-0.261325</td>\n",
       "      <td>0.166461</td>\n",
       "      <td>-0.158011</td>\n",
       "      <td>0.074088</td>\n",
       "      <td>0.027731</td>\n",
       "      <td>0.187383</td>\n",
       "      <td>0.026908</td>\n",
       "      <td>0.201487</td>\n",
       "      <td>0.464642</td>\n",
       "      <td>0.082867</td>\n",
       "    </tr>\n",
       "    <tr>\n",
       "      <th>rougher.state.floatbank10_d_level</th>\n",
       "      <td>0.089360</td>\n",
       "      <td>-0.005847</td>\n",
       "      <td>0.130240</td>\n",
       "      <td>-0.093632</td>\n",
       "      <td>-0.111314</td>\n",
       "      <td>-0.134553</td>\n",
       "      <td>0.005416</td>\n",
       "      <td>-0.042068</td>\n",
       "      <td>0.052668</td>\n",
       "      <td>-0.127255</td>\n",
       "      <td>...</td>\n",
       "      <td>0.086299</td>\n",
       "      <td>0.308949</td>\n",
       "      <td>0.001976</td>\n",
       "      <td>0.285720</td>\n",
       "      <td>0.132340</td>\n",
       "      <td>0.365733</td>\n",
       "      <td>0.083153</td>\n",
       "      <td>0.323660</td>\n",
       "      <td>0.362249</td>\n",
       "      <td>0.248866</td>\n",
       "    </tr>\n",
       "    <tr>\n",
       "      <th>rougher.state.floatbank10_e_air</th>\n",
       "      <td>0.136011</td>\n",
       "      <td>-0.021124</td>\n",
       "      <td>-0.022788</td>\n",
       "      <td>-0.132187</td>\n",
       "      <td>-0.148745</td>\n",
       "      <td>-0.097331</td>\n",
       "      <td>-0.347038</td>\n",
       "      <td>0.040329</td>\n",
       "      <td>-0.043785</td>\n",
       "      <td>-0.267853</td>\n",
       "      <td>...</td>\n",
       "      <td>-0.087943</td>\n",
       "      <td>0.111340</td>\n",
       "      <td>-0.072599</td>\n",
       "      <td>0.011808</td>\n",
       "      <td>0.054473</td>\n",
       "      <td>0.148285</td>\n",
       "      <td>0.052609</td>\n",
       "      <td>0.158427</td>\n",
       "      <td>0.309866</td>\n",
       "      <td>0.135243</td>\n",
       "    </tr>\n",
       "    <tr>\n",
       "      <th>rougher.state.floatbank10_e_level</th>\n",
       "      <td>0.090442</td>\n",
       "      <td>-0.007780</td>\n",
       "      <td>0.146156</td>\n",
       "      <td>-0.087165</td>\n",
       "      <td>-0.106530</td>\n",
       "      <td>-0.148171</td>\n",
       "      <td>0.016957</td>\n",
       "      <td>-0.067215</td>\n",
       "      <td>0.065883</td>\n",
       "      <td>-0.141016</td>\n",
       "      <td>...</td>\n",
       "      <td>0.076763</td>\n",
       "      <td>0.279722</td>\n",
       "      <td>0.005377</td>\n",
       "      <td>0.281760</td>\n",
       "      <td>0.133936</td>\n",
       "      <td>0.328737</td>\n",
       "      <td>0.088729</td>\n",
       "      <td>0.304811</td>\n",
       "      <td>0.380050</td>\n",
       "      <td>0.175042</td>\n",
       "    </tr>\n",
       "    <tr>\n",
       "      <th>rougher.state.floatbank10_f_air</th>\n",
       "      <td>0.049871</td>\n",
       "      <td>0.089656</td>\n",
       "      <td>-0.079077</td>\n",
       "      <td>-0.102054</td>\n",
       "      <td>-0.156541</td>\n",
       "      <td>-0.189685</td>\n",
       "      <td>-0.262485</td>\n",
       "      <td>0.063225</td>\n",
       "      <td>-0.111133</td>\n",
       "      <td>-0.257207</td>\n",
       "      <td>...</td>\n",
       "      <td>-0.043978</td>\n",
       "      <td>0.151650</td>\n",
       "      <td>0.025649</td>\n",
       "      <td>0.087040</td>\n",
       "      <td>0.175835</td>\n",
       "      <td>0.170133</td>\n",
       "      <td>0.204693</td>\n",
       "      <td>0.171914</td>\n",
       "      <td>0.324381</td>\n",
       "      <td>0.133287</td>\n",
       "    </tr>\n",
       "    <tr>\n",
       "      <th>rougher.state.floatbank10_f_level</th>\n",
       "      <td>0.086044</td>\n",
       "      <td>-0.006720</td>\n",
       "      <td>0.131379</td>\n",
       "      <td>-0.090434</td>\n",
       "      <td>-0.121881</td>\n",
       "      <td>-0.150044</td>\n",
       "      <td>0.003682</td>\n",
       "      <td>-0.066751</td>\n",
       "      <td>0.057357</td>\n",
       "      <td>-0.148891</td>\n",
       "      <td>...</td>\n",
       "      <td>0.073380</td>\n",
       "      <td>0.272284</td>\n",
       "      <td>-0.004401</td>\n",
       "      <td>0.257637</td>\n",
       "      <td>0.135197</td>\n",
       "      <td>0.300288</td>\n",
       "      <td>0.091308</td>\n",
       "      <td>0.282791</td>\n",
       "      <td>0.377656</td>\n",
       "      <td>0.127549</td>\n",
       "    </tr>\n",
       "    <tr>\n",
       "      <th>secondary_cleaner.output.tail_ag</th>\n",
       "      <td>0.000267</td>\n",
       "      <td>-0.105454</td>\n",
       "      <td>-0.016439</td>\n",
       "      <td>0.172850</td>\n",
       "      <td>0.328169</td>\n",
       "      <td>0.335924</td>\n",
       "      <td>0.072459</td>\n",
       "      <td>-0.019718</td>\n",
       "      <td>-0.121174</td>\n",
       "      <td>0.319555</td>\n",
       "      <td>...</td>\n",
       "      <td>0.234068</td>\n",
       "      <td>-0.235773</td>\n",
       "      <td>0.147157</td>\n",
       "      <td>-0.085246</td>\n",
       "      <td>0.007646</td>\n",
       "      <td>-0.260007</td>\n",
       "      <td>0.022036</td>\n",
       "      <td>-0.259748</td>\n",
       "      <td>-0.480255</td>\n",
       "      <td>-0.058209</td>\n",
       "    </tr>\n",
       "    <tr>\n",
       "      <th>secondary_cleaner.output.tail_pb</th>\n",
       "      <td>-0.313943</td>\n",
       "      <td>0.319342</td>\n",
       "      <td>-0.463258</td>\n",
       "      <td>0.159534</td>\n",
       "      <td>-0.009861</td>\n",
       "      <td>-0.062337</td>\n",
       "      <td>0.219571</td>\n",
       "      <td>-0.090330</td>\n",
       "      <td>-0.156780</td>\n",
       "      <td>0.076455</td>\n",
       "      <td>...</td>\n",
       "      <td>0.204670</td>\n",
       "      <td>-0.247511</td>\n",
       "      <td>0.109734</td>\n",
       "      <td>0.031902</td>\n",
       "      <td>0.085876</td>\n",
       "      <td>-0.262886</td>\n",
       "      <td>0.094618</td>\n",
       "      <td>-0.279031</td>\n",
       "      <td>-0.552077</td>\n",
       "      <td>0.001197</td>\n",
       "    </tr>\n",
       "    <tr>\n",
       "      <th>secondary_cleaner.output.tail_sol</th>\n",
       "      <td>0.147706</td>\n",
       "      <td>-0.121224</td>\n",
       "      <td>0.408394</td>\n",
       "      <td>-0.111005</td>\n",
       "      <td>-0.036326</td>\n",
       "      <td>0.244120</td>\n",
       "      <td>-0.057159</td>\n",
       "      <td>0.254331</td>\n",
       "      <td>0.267603</td>\n",
       "      <td>0.169630</td>\n",
       "      <td>...</td>\n",
       "      <td>-0.318161</td>\n",
       "      <td>0.072441</td>\n",
       "      <td>-0.172976</td>\n",
       "      <td>-0.217219</td>\n",
       "      <td>-0.192019</td>\n",
       "      <td>0.080079</td>\n",
       "      <td>-0.165841</td>\n",
       "      <td>0.094048</td>\n",
       "      <td>0.372371</td>\n",
       "      <td>-0.036005</td>\n",
       "    </tr>\n",
       "    <tr>\n",
       "      <th>secondary_cleaner.output.tail_au</th>\n",
       "      <td>0.071776</td>\n",
       "      <td>-0.130423</td>\n",
       "      <td>-0.033183</td>\n",
       "      <td>0.034425</td>\n",
       "      <td>-0.287344</td>\n",
       "      <td>0.089939</td>\n",
       "      <td>0.133354</td>\n",
       "      <td>-0.083889</td>\n",
       "      <td>0.385749</td>\n",
       "      <td>0.029695</td>\n",
       "      <td>...</td>\n",
       "      <td>-0.034763</td>\n",
       "      <td>-0.057393</td>\n",
       "      <td>-0.178881</td>\n",
       "      <td>0.033637</td>\n",
       "      <td>-0.214404</td>\n",
       "      <td>-0.041036</td>\n",
       "      <td>-0.232402</td>\n",
       "      <td>-0.042872</td>\n",
       "      <td>-0.209097</td>\n",
       "      <td>0.044823</td>\n",
       "    </tr>\n",
       "    <tr>\n",
       "      <th>secondary_cleaner.state.floatbank2_a_air</th>\n",
       "      <td>-0.067204</td>\n",
       "      <td>0.171807</td>\n",
       "      <td>-0.060934</td>\n",
       "      <td>-0.001585</td>\n",
       "      <td>0.169679</td>\n",
       "      <td>0.036622</td>\n",
       "      <td>0.023481</td>\n",
       "      <td>-0.107926</td>\n",
       "      <td>-0.279600</td>\n",
       "      <td>-0.024202</td>\n",
       "      <td>...</td>\n",
       "      <td>0.603908</td>\n",
       "      <td>0.076534</td>\n",
       "      <td>0.585919</td>\n",
       "      <td>0.004671</td>\n",
       "      <td>0.596029</td>\n",
       "      <td>0.033822</td>\n",
       "      <td>0.610873</td>\n",
       "      <td>0.042062</td>\n",
       "      <td>0.098225</td>\n",
       "      <td>-0.030024</td>\n",
       "    </tr>\n",
       "    <tr>\n",
       "      <th>secondary_cleaner.state.floatbank2_a_level</th>\n",
       "      <td>0.033593</td>\n",
       "      <td>0.001591</td>\n",
       "      <td>-0.022510</td>\n",
       "      <td>-0.061325</td>\n",
       "      <td>0.011582</td>\n",
       "      <td>0.023554</td>\n",
       "      <td>-0.070333</td>\n",
       "      <td>0.018721</td>\n",
       "      <td>0.013298</td>\n",
       "      <td>0.004206</td>\n",
       "      <td>...</td>\n",
       "      <td>-0.066632</td>\n",
       "      <td>0.154843</td>\n",
       "      <td>-0.106414</td>\n",
       "      <td>0.042835</td>\n",
       "      <td>-0.081972</td>\n",
       "      <td>0.169523</td>\n",
       "      <td>-0.107784</td>\n",
       "      <td>0.110718</td>\n",
       "      <td>0.050271</td>\n",
       "      <td>0.160008</td>\n",
       "    </tr>\n",
       "    <tr>\n",
       "      <th>secondary_cleaner.state.floatbank2_b_air</th>\n",
       "      <td>-0.003811</td>\n",
       "      <td>0.184762</td>\n",
       "      <td>-0.032356</td>\n",
       "      <td>-0.060443</td>\n",
       "      <td>0.159815</td>\n",
       "      <td>0.116483</td>\n",
       "      <td>-0.033638</td>\n",
       "      <td>-0.018838</td>\n",
       "      <td>-0.218843</td>\n",
       "      <td>-0.012431</td>\n",
       "      <td>...</td>\n",
       "      <td>0.528628</td>\n",
       "      <td>0.073439</td>\n",
       "      <td>0.648554</td>\n",
       "      <td>-0.091179</td>\n",
       "      <td>0.554045</td>\n",
       "      <td>0.032872</td>\n",
       "      <td>0.623075</td>\n",
       "      <td>0.046564</td>\n",
       "      <td>0.167376</td>\n",
       "      <td>-0.053268</td>\n",
       "    </tr>\n",
       "    <tr>\n",
       "      <th>secondary_cleaner.state.floatbank2_b_level</th>\n",
       "      <td>0.016974</td>\n",
       "      <td>0.036432</td>\n",
       "      <td>-0.003760</td>\n",
       "      <td>-0.057023</td>\n",
       "      <td>0.016016</td>\n",
       "      <td>0.031893</td>\n",
       "      <td>-0.035587</td>\n",
       "      <td>0.005277</td>\n",
       "      <td>-0.000032</td>\n",
       "      <td>0.033930</td>\n",
       "      <td>...</td>\n",
       "      <td>-0.015834</td>\n",
       "      <td>0.112952</td>\n",
       "      <td>-0.042418</td>\n",
       "      <td>0.053808</td>\n",
       "      <td>-0.032213</td>\n",
       "      <td>0.136117</td>\n",
       "      <td>-0.048050</td>\n",
       "      <td>0.113033</td>\n",
       "      <td>0.060155</td>\n",
       "      <td>0.116961</td>\n",
       "    </tr>\n",
       "    <tr>\n",
       "      <th>secondary_cleaner.state.floatbank3_a_air</th>\n",
       "      <td>0.096255</td>\n",
       "      <td>0.055181</td>\n",
       "      <td>0.110639</td>\n",
       "      <td>-0.047750</td>\n",
       "      <td>0.190999</td>\n",
       "      <td>0.131635</td>\n",
       "      <td>0.028469</td>\n",
       "      <td>-0.151211</td>\n",
       "      <td>-0.125002</td>\n",
       "      <td>-0.015577</td>\n",
       "      <td>...</td>\n",
       "      <td>0.634520</td>\n",
       "      <td>0.172236</td>\n",
       "      <td>0.687286</td>\n",
       "      <td>-0.060608</td>\n",
       "      <td>0.675515</td>\n",
       "      <td>0.116850</td>\n",
       "      <td>0.696546</td>\n",
       "      <td>0.137072</td>\n",
       "      <td>0.369321</td>\n",
       "      <td>-0.018131</td>\n",
       "    </tr>\n",
       "    <tr>\n",
       "      <th>secondary_cleaner.state.floatbank3_a_level</th>\n",
       "      <td>0.101443</td>\n",
       "      <td>0.023129</td>\n",
       "      <td>0.070280</td>\n",
       "      <td>-0.079897</td>\n",
       "      <td>-0.012744</td>\n",
       "      <td>0.003657</td>\n",
       "      <td>0.027219</td>\n",
       "      <td>-0.030519</td>\n",
       "      <td>0.082085</td>\n",
       "      <td>-0.089325</td>\n",
       "      <td>...</td>\n",
       "      <td>0.173415</td>\n",
       "      <td>0.571458</td>\n",
       "      <td>0.126337</td>\n",
       "      <td>0.320528</td>\n",
       "      <td>0.128552</td>\n",
       "      <td>0.567720</td>\n",
       "      <td>0.094059</td>\n",
       "      <td>0.499372</td>\n",
       "      <td>0.376814</td>\n",
       "      <td>0.241016</td>\n",
       "    </tr>\n",
       "    <tr>\n",
       "      <th>secondary_cleaner.state.floatbank3_b_air</th>\n",
       "      <td>0.079718</td>\n",
       "      <td>0.090730</td>\n",
       "      <td>0.116903</td>\n",
       "      <td>-0.122266</td>\n",
       "      <td>0.062396</td>\n",
       "      <td>0.123396</td>\n",
       "      <td>0.029568</td>\n",
       "      <td>-0.039783</td>\n",
       "      <td>-0.005067</td>\n",
       "      <td>-0.020727</td>\n",
       "      <td>...</td>\n",
       "      <td>0.336335</td>\n",
       "      <td>0.106592</td>\n",
       "      <td>0.565563</td>\n",
       "      <td>-0.148744</td>\n",
       "      <td>0.474047</td>\n",
       "      <td>0.077856</td>\n",
       "      <td>0.591186</td>\n",
       "      <td>0.099386</td>\n",
       "      <td>0.420233</td>\n",
       "      <td>-0.023919</td>\n",
       "    </tr>\n",
       "    <tr>\n",
       "      <th>secondary_cleaner.state.floatbank3_b_level</th>\n",
       "      <td>0.107178</td>\n",
       "      <td>-0.051190</td>\n",
       "      <td>0.019921</td>\n",
       "      <td>-0.083123</td>\n",
       "      <td>0.008393</td>\n",
       "      <td>0.018925</td>\n",
       "      <td>-0.092594</td>\n",
       "      <td>-0.019660</td>\n",
       "      <td>0.027966</td>\n",
       "      <td>-0.063106</td>\n",
       "      <td>...</td>\n",
       "      <td>-0.038000</td>\n",
       "      <td>0.287212</td>\n",
       "      <td>-0.151820</td>\n",
       "      <td>0.134492</td>\n",
       "      <td>-0.124382</td>\n",
       "      <td>0.334498</td>\n",
       "      <td>-0.166159</td>\n",
       "      <td>0.286208</td>\n",
       "      <td>0.119813</td>\n",
       "      <td>0.240907</td>\n",
       "    </tr>\n",
       "    <tr>\n",
       "      <th>secondary_cleaner.state.floatbank4_a_air</th>\n",
       "      <td>0.072498</td>\n",
       "      <td>0.068265</td>\n",
       "      <td>-0.044809</td>\n",
       "      <td>-0.028802</td>\n",
       "      <td>0.235736</td>\n",
       "      <td>0.155838</td>\n",
       "      <td>0.117258</td>\n",
       "      <td>-0.283326</td>\n",
       "      <td>-0.171873</td>\n",
       "      <td>0.024696</td>\n",
       "      <td>...</td>\n",
       "      <td>1.000000</td>\n",
       "      <td>0.235740</td>\n",
       "      <td>0.840637</td>\n",
       "      <td>0.132908</td>\n",
       "      <td>0.760354</td>\n",
       "      <td>0.184450</td>\n",
       "      <td>0.706942</td>\n",
       "      <td>0.200121</td>\n",
       "      <td>0.198894</td>\n",
       "      <td>-0.021104</td>\n",
       "    </tr>\n",
       "    <tr>\n",
       "      <th>secondary_cleaner.state.floatbank4_a_level</th>\n",
       "      <td>0.090862</td>\n",
       "      <td>0.021637</td>\n",
       "      <td>0.112129</td>\n",
       "      <td>-0.075941</td>\n",
       "      <td>0.016564</td>\n",
       "      <td>-0.013138</td>\n",
       "      <td>0.086182</td>\n",
       "      <td>-0.050423</td>\n",
       "      <td>0.071898</td>\n",
       "      <td>-0.044485</td>\n",
       "      <td>...</td>\n",
       "      <td>0.235740</td>\n",
       "      <td>1.000000</td>\n",
       "      <td>0.182030</td>\n",
       "      <td>0.471440</td>\n",
       "      <td>0.200858</td>\n",
       "      <td>0.664757</td>\n",
       "      <td>0.156490</td>\n",
       "      <td>0.542585</td>\n",
       "      <td>0.389748</td>\n",
       "      <td>0.310106</td>\n",
       "    </tr>\n",
       "    <tr>\n",
       "      <th>secondary_cleaner.state.floatbank4_b_air</th>\n",
       "      <td>0.080606</td>\n",
       "      <td>0.105081</td>\n",
       "      <td>0.042485</td>\n",
       "      <td>-0.039540</td>\n",
       "      <td>0.238980</td>\n",
       "      <td>0.228847</td>\n",
       "      <td>0.191456</td>\n",
       "      <td>-0.182318</td>\n",
       "      <td>-0.097827</td>\n",
       "      <td>0.122278</td>\n",
       "      <td>...</td>\n",
       "      <td>0.840637</td>\n",
       "      <td>0.182030</td>\n",
       "      <td>1.000000</td>\n",
       "      <td>0.049242</td>\n",
       "      <td>0.751498</td>\n",
       "      <td>0.131784</td>\n",
       "      <td>0.813928</td>\n",
       "      <td>0.154738</td>\n",
       "      <td>0.255248</td>\n",
       "      <td>-0.066024</td>\n",
       "    </tr>\n",
       "    <tr>\n",
       "      <th>secondary_cleaner.state.floatbank4_b_level</th>\n",
       "      <td>-0.087386</td>\n",
       "      <td>0.165283</td>\n",
       "      <td>-0.036590</td>\n",
       "      <td>-0.021376</td>\n",
       "      <td>-0.102008</td>\n",
       "      <td>-0.276851</td>\n",
       "      <td>0.193111</td>\n",
       "      <td>-0.002349</td>\n",
       "      <td>-0.006514</td>\n",
       "      <td>-0.053913</td>\n",
       "      <td>...</td>\n",
       "      <td>0.132908</td>\n",
       "      <td>0.471440</td>\n",
       "      <td>0.049242</td>\n",
       "      <td>1.000000</td>\n",
       "      <td>0.161232</td>\n",
       "      <td>0.398310</td>\n",
       "      <td>0.109750</td>\n",
       "      <td>0.337146</td>\n",
       "      <td>0.072910</td>\n",
       "      <td>0.212146</td>\n",
       "    </tr>\n",
       "    <tr>\n",
       "      <th>secondary_cleaner.state.floatbank5_a_air</th>\n",
       "      <td>-0.019289</td>\n",
       "      <td>0.174043</td>\n",
       "      <td>-0.038024</td>\n",
       "      <td>-0.034420</td>\n",
       "      <td>0.081991</td>\n",
       "      <td>-0.027818</td>\n",
       "      <td>0.130399</td>\n",
       "      <td>-0.250519</td>\n",
       "      <td>-0.226556</td>\n",
       "      <td>-0.116529</td>\n",
       "      <td>...</td>\n",
       "      <td>0.760354</td>\n",
       "      <td>0.200858</td>\n",
       "      <td>0.751498</td>\n",
       "      <td>0.161232</td>\n",
       "      <td>1.000000</td>\n",
       "      <td>0.142005</td>\n",
       "      <td>0.885098</td>\n",
       "      <td>0.152725</td>\n",
       "      <td>0.389792</td>\n",
       "      <td>-0.028690</td>\n",
       "    </tr>\n",
       "    <tr>\n",
       "      <th>secondary_cleaner.state.floatbank5_a_level</th>\n",
       "      <td>0.117634</td>\n",
       "      <td>0.010493</td>\n",
       "      <td>0.118013</td>\n",
       "      <td>-0.095931</td>\n",
       "      <td>0.008575</td>\n",
       "      <td>-0.012373</td>\n",
       "      <td>0.052937</td>\n",
       "      <td>-0.032610</td>\n",
       "      <td>0.072687</td>\n",
       "      <td>-0.052914</td>\n",
       "      <td>...</td>\n",
       "      <td>0.184450</td>\n",
       "      <td>0.664757</td>\n",
       "      <td>0.131784</td>\n",
       "      <td>0.398310</td>\n",
       "      <td>0.142005</td>\n",
       "      <td>1.000000</td>\n",
       "      <td>0.100559</td>\n",
       "      <td>0.649676</td>\n",
       "      <td>0.368563</td>\n",
       "      <td>0.420568</td>\n",
       "    </tr>\n",
       "    <tr>\n",
       "      <th>secondary_cleaner.state.floatbank5_b_air</th>\n",
       "      <td>-0.026817</td>\n",
       "      <td>0.187575</td>\n",
       "      <td>-0.044056</td>\n",
       "      <td>-0.029534</td>\n",
       "      <td>0.070459</td>\n",
       "      <td>0.005650</td>\n",
       "      <td>0.148369</td>\n",
       "      <td>-0.205337</td>\n",
       "      <td>-0.179644</td>\n",
       "      <td>-0.059648</td>\n",
       "      <td>...</td>\n",
       "      <td>0.706942</td>\n",
       "      <td>0.156490</td>\n",
       "      <td>0.813928</td>\n",
       "      <td>0.109750</td>\n",
       "      <td>0.885098</td>\n",
       "      <td>0.100559</td>\n",
       "      <td>1.000000</td>\n",
       "      <td>0.109756</td>\n",
       "      <td>0.365477</td>\n",
       "      <td>-0.019739</td>\n",
       "    </tr>\n",
       "    <tr>\n",
       "      <th>secondary_cleaner.state.floatbank5_b_level</th>\n",
       "      <td>0.135991</td>\n",
       "      <td>-0.011836</td>\n",
       "      <td>0.140756</td>\n",
       "      <td>-0.109506</td>\n",
       "      <td>0.009833</td>\n",
       "      <td>0.007290</td>\n",
       "      <td>0.057651</td>\n",
       "      <td>-0.066513</td>\n",
       "      <td>0.078652</td>\n",
       "      <td>-0.054708</td>\n",
       "      <td>...</td>\n",
       "      <td>0.200121</td>\n",
       "      <td>0.542585</td>\n",
       "      <td>0.154738</td>\n",
       "      <td>0.337146</td>\n",
       "      <td>0.152725</td>\n",
       "      <td>0.649676</td>\n",
       "      <td>0.109756</td>\n",
       "      <td>1.000000</td>\n",
       "      <td>0.372981</td>\n",
       "      <td>0.284830</td>\n",
       "    </tr>\n",
       "    <tr>\n",
       "      <th>secondary_cleaner.state.floatbank6_a_air</th>\n",
       "      <td>0.175653</td>\n",
       "      <td>-0.057658</td>\n",
       "      <td>0.285139</td>\n",
       "      <td>-0.179073</td>\n",
       "      <td>-0.051076</td>\n",
       "      <td>-0.036925</td>\n",
       "      <td>0.012857</td>\n",
       "      <td>-0.094998</td>\n",
       "      <td>0.091832</td>\n",
       "      <td>-0.172772</td>\n",
       "      <td>...</td>\n",
       "      <td>0.198894</td>\n",
       "      <td>0.389748</td>\n",
       "      <td>0.255248</td>\n",
       "      <td>0.072910</td>\n",
       "      <td>0.389792</td>\n",
       "      <td>0.368563</td>\n",
       "      <td>0.365477</td>\n",
       "      <td>0.372981</td>\n",
       "      <td>1.000000</td>\n",
       "      <td>0.025731</td>\n",
       "    </tr>\n",
       "    <tr>\n",
       "      <th>secondary_cleaner.state.floatbank6_a_level</th>\n",
       "      <td>0.028209</td>\n",
       "      <td>0.041410</td>\n",
       "      <td>-0.105192</td>\n",
       "      <td>-0.031732</td>\n",
       "      <td>-0.024563</td>\n",
       "      <td>-0.084447</td>\n",
       "      <td>-0.085712</td>\n",
       "      <td>0.023733</td>\n",
       "      <td>-0.040219</td>\n",
       "      <td>-0.057580</td>\n",
       "      <td>...</td>\n",
       "      <td>-0.021104</td>\n",
       "      <td>0.310106</td>\n",
       "      <td>-0.066024</td>\n",
       "      <td>0.212146</td>\n",
       "      <td>-0.028690</td>\n",
       "      <td>0.420568</td>\n",
       "      <td>-0.019739</td>\n",
       "      <td>0.284830</td>\n",
       "      <td>0.025731</td>\n",
       "      <td>1.000000</td>\n",
       "    </tr>\n",
       "  </tbody>\n",
       "</table>\n",
       "<p>86 rows × 86 columns</p>\n",
       "</div>"
      ],
      "text/plain": [
       "                                                    final.output.concentrate_ag  \\\n",
       "final.output.concentrate_ag                                            1.000000   \n",
       "final.output.concentrate_pb                                           -0.133217   \n",
       "final.output.concentrate_sol                                           0.355702   \n",
       "final.output.concentrate_au                                           -0.538221   \n",
       "final.output.recovery                                                  0.205496   \n",
       "final.output.tail_ag                                                   0.426064   \n",
       "final.output.tail_pb                                                  -0.052236   \n",
       "final.output.tail_sol                                                  0.004063   \n",
       "final.output.tail_au                                                   0.240620   \n",
       "primary_cleaner.input.sulfate                                          0.121849   \n",
       "primary_cleaner.input.depressant                                       0.157213   \n",
       "primary_cleaner.input.feed_size                                        0.043382   \n",
       "primary_cleaner.input.xanthate                                         0.168028   \n",
       "primary_cleaner.output.concentrate_ag                                  0.626704   \n",
       "primary_cleaner.output.concentrate_pb                                 -0.210998   \n",
       "primary_cleaner.output.concentrate_sol                                 0.395593   \n",
       "primary_cleaner.output.concentrate_au                                 -0.380292   \n",
       "primary_cleaner.output.tail_ag                                         0.108606   \n",
       "primary_cleaner.output.tail_pb                                         0.025052   \n",
       "primary_cleaner.output.tail_sol                                        0.201725   \n",
       "primary_cleaner.output.tail_au                                         0.162538   \n",
       "primary_cleaner.state.floatbank8_a_air                                 0.164930   \n",
       "primary_cleaner.state.floatbank8_a_level                               0.013421   \n",
       "primary_cleaner.state.floatbank8_b_air                                 0.181962   \n",
       "primary_cleaner.state.floatbank8_b_level                               0.017863   \n",
       "primary_cleaner.state.floatbank8_c_air                                 0.139971   \n",
       "primary_cleaner.state.floatbank8_c_level                               0.027472   \n",
       "primary_cleaner.state.floatbank8_d_air                                 0.114702   \n",
       "primary_cleaner.state.floatbank8_d_level                              -0.038304   \n",
       "rougher.calculation.sulfate_to_au_concentrate                         -0.027188   \n",
       "rougher.calculation.floatbank10_sulfate_to_au_feed                    -0.154938   \n",
       "rougher.calculation.floatbank11_sulfate_to_au_feed                    -0.193896   \n",
       "rougher.calculation.au_pb_ratio                                        0.278217   \n",
       "rougher.input.feed_ag                                                  0.534669   \n",
       "rougher.input.feed_pb                                                  0.091846   \n",
       "rougher.input.feed_rate                                               -0.177623   \n",
       "rougher.input.feed_size                                               -0.089167   \n",
       "rougher.input.feed_sol                                                -0.035813   \n",
       "rougher.input.feed_au                                                  0.392612   \n",
       "rougher.input.floatbank10_sulfate                                     -0.083838   \n",
       "rougher.input.floatbank10_xanthate                                     0.122290   \n",
       "rougher.input.floatbank11_sulfate                                     -0.104181   \n",
       "rougher.input.floatbank11_xanthate                                     0.146890   \n",
       "rougher.output.concentrate_ag                                          0.446125   \n",
       "rougher.output.concentrate_pb                                         -0.201471   \n",
       "rougher.output.concentrate_sol                                        -0.051898   \n",
       "rougher.output.concentrate_au                                          0.043157   \n",
       "rougher.output.recovery                                                0.182391   \n",
       "rougher.output.tail_ag                                                 0.217245   \n",
       "rougher.output.tail_pb                                                -0.079905   \n",
       "rougher.output.tail_sol                                                0.029676   \n",
       "rougher.output.tail_au                                                 0.139095   \n",
       "rougher.state.floatbank10_a_air                                        0.121154   \n",
       "rougher.state.floatbank10_a_level                                     -0.171429   \n",
       "rougher.state.floatbank10_b_air                                        0.078164   \n",
       "rougher.state.floatbank10_b_level                                      0.094275   \n",
       "rougher.state.floatbank10_c_air                                        0.076101   \n",
       "rougher.state.floatbank10_c_level                                      0.092951   \n",
       "rougher.state.floatbank10_d_air                                        0.096979   \n",
       "rougher.state.floatbank10_d_level                                      0.089360   \n",
       "rougher.state.floatbank10_e_air                                        0.136011   \n",
       "rougher.state.floatbank10_e_level                                      0.090442   \n",
       "rougher.state.floatbank10_f_air                                        0.049871   \n",
       "rougher.state.floatbank10_f_level                                      0.086044   \n",
       "secondary_cleaner.output.tail_ag                                       0.000267   \n",
       "secondary_cleaner.output.tail_pb                                      -0.313943   \n",
       "secondary_cleaner.output.tail_sol                                      0.147706   \n",
       "secondary_cleaner.output.tail_au                                       0.071776   \n",
       "secondary_cleaner.state.floatbank2_a_air                              -0.067204   \n",
       "secondary_cleaner.state.floatbank2_a_level                             0.033593   \n",
       "secondary_cleaner.state.floatbank2_b_air                              -0.003811   \n",
       "secondary_cleaner.state.floatbank2_b_level                             0.016974   \n",
       "secondary_cleaner.state.floatbank3_a_air                               0.096255   \n",
       "secondary_cleaner.state.floatbank3_a_level                             0.101443   \n",
       "secondary_cleaner.state.floatbank3_b_air                               0.079718   \n",
       "secondary_cleaner.state.floatbank3_b_level                             0.107178   \n",
       "secondary_cleaner.state.floatbank4_a_air                               0.072498   \n",
       "secondary_cleaner.state.floatbank4_a_level                             0.090862   \n",
       "secondary_cleaner.state.floatbank4_b_air                               0.080606   \n",
       "secondary_cleaner.state.floatbank4_b_level                            -0.087386   \n",
       "secondary_cleaner.state.floatbank5_a_air                              -0.019289   \n",
       "secondary_cleaner.state.floatbank5_a_level                             0.117634   \n",
       "secondary_cleaner.state.floatbank5_b_air                              -0.026817   \n",
       "secondary_cleaner.state.floatbank5_b_level                             0.135991   \n",
       "secondary_cleaner.state.floatbank6_a_air                               0.175653   \n",
       "secondary_cleaner.state.floatbank6_a_level                             0.028209   \n",
       "\n",
       "                                                    final.output.concentrate_pb  \\\n",
       "final.output.concentrate_ag                                           -0.133217   \n",
       "final.output.concentrate_pb                                            1.000000   \n",
       "final.output.concentrate_sol                                          -0.264318   \n",
       "final.output.concentrate_au                                           -0.230656   \n",
       "final.output.recovery                                                 -0.074712   \n",
       "final.output.tail_ag                                                  -0.265291   \n",
       "final.output.tail_pb                                                   0.212001   \n",
       "final.output.tail_sol                                                  0.024636   \n",
       "final.output.tail_au                                                  -0.123648   \n",
       "primary_cleaner.input.sulfate                                          0.003646   \n",
       "primary_cleaner.input.depressant                                      -0.015023   \n",
       "primary_cleaner.input.feed_size                                       -0.110734   \n",
       "primary_cleaner.input.xanthate                                        -0.162933   \n",
       "primary_cleaner.output.concentrate_ag                                 -0.164475   \n",
       "primary_cleaner.output.concentrate_pb                                  0.423818   \n",
       "primary_cleaner.output.concentrate_sol                                -0.226483   \n",
       "primary_cleaner.output.concentrate_au                                 -0.102240   \n",
       "primary_cleaner.output.tail_ag                                        -0.124495   \n",
       "primary_cleaner.output.tail_pb                                        -0.015861   \n",
       "primary_cleaner.output.tail_sol                                       -0.144861   \n",
       "primary_cleaner.output.tail_au                                        -0.181059   \n",
       "primary_cleaner.state.floatbank8_a_air                                 0.026053   \n",
       "primary_cleaner.state.floatbank8_a_level                               0.077415   \n",
       "primary_cleaner.state.floatbank8_b_air                                 0.007443   \n",
       "primary_cleaner.state.floatbank8_b_level                               0.089543   \n",
       "primary_cleaner.state.floatbank8_c_air                                 0.031751   \n",
       "primary_cleaner.state.floatbank8_c_level                               0.071892   \n",
       "primary_cleaner.state.floatbank8_d_air                                 0.014077   \n",
       "primary_cleaner.state.floatbank8_d_level                               0.087321   \n",
       "rougher.calculation.sulfate_to_au_concentrate                          0.236665   \n",
       "rougher.calculation.floatbank10_sulfate_to_au_feed                     0.166535   \n",
       "rougher.calculation.floatbank11_sulfate_to_au_feed                     0.183479   \n",
       "rougher.calculation.au_pb_ratio                                       -0.618351   \n",
       "rougher.input.feed_ag                                                 -0.338606   \n",
       "rougher.input.feed_pb                                                  0.303909   \n",
       "rougher.input.feed_rate                                                0.059472   \n",
       "rougher.input.feed_size                                                0.086044   \n",
       "rougher.input.feed_sol                                                 0.058711   \n",
       "rougher.input.feed_au                                                 -0.206226   \n",
       "rougher.input.floatbank10_sulfate                                      0.089106   \n",
       "rougher.input.floatbank10_xanthate                                    -0.111325   \n",
       "rougher.input.floatbank11_sulfate                                      0.095658   \n",
       "rougher.input.floatbank11_xanthate                                    -0.114589   \n",
       "rougher.output.concentrate_ag                                         -0.437628   \n",
       "rougher.output.concentrate_pb                                          0.658725   \n",
       "rougher.output.concentrate_sol                                        -0.052308   \n",
       "rougher.output.concentrate_au                                         -0.186661   \n",
       "rougher.output.recovery                                               -0.039354   \n",
       "rougher.output.tail_ag                                                -0.246467   \n",
       "rougher.output.tail_pb                                                 0.190770   \n",
       "rougher.output.tail_sol                                               -0.206685   \n",
       "rougher.output.tail_au                                                -0.104870   \n",
       "rougher.state.floatbank10_a_air                                        0.039577   \n",
       "rougher.state.floatbank10_a_level                                      0.190669   \n",
       "rougher.state.floatbank10_b_air                                        0.019467   \n",
       "rougher.state.floatbank10_b_level                                     -0.006868   \n",
       "rougher.state.floatbank10_c_air                                        0.019450   \n",
       "rougher.state.floatbank10_c_level                                      0.001426   \n",
       "rougher.state.floatbank10_d_air                                       -0.005196   \n",
       "rougher.state.floatbank10_d_level                                     -0.005847   \n",
       "rougher.state.floatbank10_e_air                                       -0.021124   \n",
       "rougher.state.floatbank10_e_level                                     -0.007780   \n",
       "rougher.state.floatbank10_f_air                                        0.089656   \n",
       "rougher.state.floatbank10_f_level                                     -0.006720   \n",
       "secondary_cleaner.output.tail_ag                                      -0.105454   \n",
       "secondary_cleaner.output.tail_pb                                       0.319342   \n",
       "secondary_cleaner.output.tail_sol                                     -0.121224   \n",
       "secondary_cleaner.output.tail_au                                      -0.130423   \n",
       "secondary_cleaner.state.floatbank2_a_air                               0.171807   \n",
       "secondary_cleaner.state.floatbank2_a_level                             0.001591   \n",
       "secondary_cleaner.state.floatbank2_b_air                               0.184762   \n",
       "secondary_cleaner.state.floatbank2_b_level                             0.036432   \n",
       "secondary_cleaner.state.floatbank3_a_air                               0.055181   \n",
       "secondary_cleaner.state.floatbank3_a_level                             0.023129   \n",
       "secondary_cleaner.state.floatbank3_b_air                               0.090730   \n",
       "secondary_cleaner.state.floatbank3_b_level                            -0.051190   \n",
       "secondary_cleaner.state.floatbank4_a_air                               0.068265   \n",
       "secondary_cleaner.state.floatbank4_a_level                             0.021637   \n",
       "secondary_cleaner.state.floatbank4_b_air                               0.105081   \n",
       "secondary_cleaner.state.floatbank4_b_level                             0.165283   \n",
       "secondary_cleaner.state.floatbank5_a_air                               0.174043   \n",
       "secondary_cleaner.state.floatbank5_a_level                             0.010493   \n",
       "secondary_cleaner.state.floatbank5_b_air                               0.187575   \n",
       "secondary_cleaner.state.floatbank5_b_level                            -0.011836   \n",
       "secondary_cleaner.state.floatbank6_a_air                              -0.057658   \n",
       "secondary_cleaner.state.floatbank6_a_level                             0.041410   \n",
       "\n",
       "                                                    final.output.concentrate_sol  \\\n",
       "final.output.concentrate_ag                                             0.355702   \n",
       "final.output.concentrate_pb                                            -0.264318   \n",
       "final.output.concentrate_sol                                            1.000000   \n",
       "final.output.concentrate_au                                            -0.021947   \n",
       "final.output.recovery                                                   0.219260   \n",
       "final.output.tail_ag                                                    0.357980   \n",
       "final.output.tail_pb                                                    0.195127   \n",
       "final.output.tail_sol                                                   0.065391   \n",
       "final.output.tail_au                                                    0.355097   \n",
       "primary_cleaner.input.sulfate                                           0.380830   \n",
       "primary_cleaner.input.depressant                                        0.139111   \n",
       "primary_cleaner.input.feed_size                                         0.259207   \n",
       "primary_cleaner.input.xanthate                                          0.083192   \n",
       "primary_cleaner.output.concentrate_ag                                   0.455225   \n",
       "primary_cleaner.output.concentrate_pb                                  -0.045415   \n",
       "primary_cleaner.output.concentrate_sol                                  0.322290   \n",
       "primary_cleaner.output.concentrate_au                                  -0.196575   \n",
       "primary_cleaner.output.tail_ag                                         -0.005082   \n",
       "primary_cleaner.output.tail_pb                                         -0.045805   \n",
       "primary_cleaner.output.tail_sol                                         0.487021   \n",
       "primary_cleaner.output.tail_au                                          0.124304   \n",
       "primary_cleaner.state.floatbank8_a_air                                  0.089688   \n",
       "primary_cleaner.state.floatbank8_a_level                               -0.085081   \n",
       "primary_cleaner.state.floatbank8_b_air                                  0.135754   \n",
       "primary_cleaner.state.floatbank8_b_level                               -0.051681   \n",
       "primary_cleaner.state.floatbank8_c_air                                  0.104613   \n",
       "primary_cleaner.state.floatbank8_c_level                               -0.055578   \n",
       "primary_cleaner.state.floatbank8_d_air                                  0.141938   \n",
       "primary_cleaner.state.floatbank8_d_level                               -0.109826   \n",
       "rougher.calculation.sulfate_to_au_concentrate                           0.124630   \n",
       "rougher.calculation.floatbank10_sulfate_to_au_feed                     -0.078233   \n",
       "rougher.calculation.floatbank11_sulfate_to_au_feed                     -0.025177   \n",
       "rougher.calculation.au_pb_ratio                                         0.287531   \n",
       "rougher.input.feed_ag                                                   0.575608   \n",
       "rougher.input.feed_pb                                                   0.190946   \n",
       "rougher.input.feed_rate                                                -0.240248   \n",
       "rougher.input.feed_size                                                -0.361128   \n",
       "rougher.input.feed_sol                                                 -0.049078   \n",
       "rougher.input.feed_au                                                   0.548665   \n",
       "rougher.input.floatbank10_sulfate                                       0.137330   \n",
       "rougher.input.floatbank10_xanthate                                     -0.032962   \n",
       "rougher.input.floatbank11_sulfate                                       0.163731   \n",
       "rougher.input.floatbank11_xanthate                                     -0.048552   \n",
       "rougher.output.concentrate_ag                                           0.480205   \n",
       "rougher.output.concentrate_pb                                          -0.218898   \n",
       "rougher.output.concentrate_sol                                          0.226060   \n",
       "rougher.output.concentrate_au                                           0.366788   \n",
       "rougher.output.recovery                                                 0.183311   \n",
       "rougher.output.tail_ag                                                  0.444412   \n",
       "rougher.output.tail_pb                                                 -0.085457   \n",
       "rougher.output.tail_sol                                                 0.000048   \n",
       "rougher.output.tail_au                                                  0.205897   \n",
       "rougher.state.floatbank10_a_air                                        -0.010507   \n",
       "rougher.state.floatbank10_a_level                                      -0.283384   \n",
       "rougher.state.floatbank10_b_air                                         0.099355   \n",
       "rougher.state.floatbank10_b_level                                       0.131727   \n",
       "rougher.state.floatbank10_c_air                                         0.122598   \n",
       "rougher.state.floatbank10_c_level                                       0.127442   \n",
       "rougher.state.floatbank10_d_air                                         0.111253   \n",
       "rougher.state.floatbank10_d_level                                       0.130240   \n",
       "rougher.state.floatbank10_e_air                                        -0.022788   \n",
       "rougher.state.floatbank10_e_level                                       0.146156   \n",
       "rougher.state.floatbank10_f_air                                        -0.079077   \n",
       "rougher.state.floatbank10_f_level                                       0.131379   \n",
       "secondary_cleaner.output.tail_ag                                       -0.016439   \n",
       "secondary_cleaner.output.tail_pb                                       -0.463258   \n",
       "secondary_cleaner.output.tail_sol                                       0.408394   \n",
       "secondary_cleaner.output.tail_au                                       -0.033183   \n",
       "secondary_cleaner.state.floatbank2_a_air                               -0.060934   \n",
       "secondary_cleaner.state.floatbank2_a_level                             -0.022510   \n",
       "secondary_cleaner.state.floatbank2_b_air                               -0.032356   \n",
       "secondary_cleaner.state.floatbank2_b_level                             -0.003760   \n",
       "secondary_cleaner.state.floatbank3_a_air                                0.110639   \n",
       "secondary_cleaner.state.floatbank3_a_level                              0.070280   \n",
       "secondary_cleaner.state.floatbank3_b_air                                0.116903   \n",
       "secondary_cleaner.state.floatbank3_b_level                              0.019921   \n",
       "secondary_cleaner.state.floatbank4_a_air                               -0.044809   \n",
       "secondary_cleaner.state.floatbank4_a_level                              0.112129   \n",
       "secondary_cleaner.state.floatbank4_b_air                                0.042485   \n",
       "secondary_cleaner.state.floatbank4_b_level                             -0.036590   \n",
       "secondary_cleaner.state.floatbank5_a_air                               -0.038024   \n",
       "secondary_cleaner.state.floatbank5_a_level                              0.118013   \n",
       "secondary_cleaner.state.floatbank5_b_air                               -0.044056   \n",
       "secondary_cleaner.state.floatbank5_b_level                              0.140756   \n",
       "secondary_cleaner.state.floatbank6_a_air                                0.285139   \n",
       "secondary_cleaner.state.floatbank6_a_level                             -0.105192   \n",
       "\n",
       "                                                    final.output.concentrate_au  \\\n",
       "final.output.concentrate_ag                                           -0.538221   \n",
       "final.output.concentrate_pb                                           -0.230656   \n",
       "final.output.concentrate_sol                                          -0.021947   \n",
       "final.output.concentrate_au                                            1.000000   \n",
       "final.output.recovery                                                 -0.069849   \n",
       "final.output.tail_ag                                                  -0.087398   \n",
       "final.output.tail_pb                                                   0.025612   \n",
       "final.output.tail_sol                                                  0.060743   \n",
       "final.output.tail_au                                                  -0.060766   \n",
       "primary_cleaner.input.sulfate                                         -0.026337   \n",
       "primary_cleaner.input.depressant                                      -0.089411   \n",
       "primary_cleaner.input.feed_size                                       -0.054493   \n",
       "primary_cleaner.input.xanthate                                         0.074158   \n",
       "primary_cleaner.output.concentrate_ag                                 -0.316217   \n",
       "primary_cleaner.output.concentrate_pb                                  0.036671   \n",
       "primary_cleaner.output.concentrate_sol                                -0.125560   \n",
       "primary_cleaner.output.concentrate_au                                  0.426357   \n",
       "primary_cleaner.output.tail_ag                                         0.131177   \n",
       "primary_cleaner.output.tail_pb                                         0.128372   \n",
       "primary_cleaner.output.tail_sol                                       -0.012944   \n",
       "primary_cleaner.output.tail_au                                        -0.042621   \n",
       "primary_cleaner.state.floatbank8_a_air                                -0.106662   \n",
       "primary_cleaner.state.floatbank8_a_level                              -0.079007   \n",
       "primary_cleaner.state.floatbank8_b_air                                -0.083062   \n",
       "primary_cleaner.state.floatbank8_b_level                              -0.086121   \n",
       "primary_cleaner.state.floatbank8_c_air                                -0.067133   \n",
       "primary_cleaner.state.floatbank8_c_level                              -0.083320   \n",
       "primary_cleaner.state.floatbank8_d_air                                -0.016501   \n",
       "primary_cleaner.state.floatbank8_d_level                              -0.047034   \n",
       "rougher.calculation.sulfate_to_au_concentrate                         -0.110404   \n",
       "rougher.calculation.floatbank10_sulfate_to_au_feed                     0.000578   \n",
       "rougher.calculation.floatbank11_sulfate_to_au_feed                     0.013760   \n",
       "rougher.calculation.au_pb_ratio                                        0.094682   \n",
       "rougher.input.feed_ag                                                 -0.119881   \n",
       "rougher.input.feed_pb                                                 -0.119583   \n",
       "rougher.input.feed_rate                                                0.161739   \n",
       "rougher.input.feed_size                                                0.090948   \n",
       "rougher.input.feed_sol                                                 0.162997   \n",
       "rougher.input.feed_au                                                 -0.074985   \n",
       "rougher.input.floatbank10_sulfate                                      0.042989   \n",
       "rougher.input.floatbank10_xanthate                                     0.027506   \n",
       "rougher.input.floatbank11_sulfate                                      0.043330   \n",
       "rougher.input.floatbank11_xanthate                                     0.015930   \n",
       "rougher.output.concentrate_ag                                         -0.040998   \n",
       "rougher.output.concentrate_pb                                         -0.127391   \n",
       "rougher.output.concentrate_sol                                         0.121663   \n",
       "rougher.output.concentrate_au                                          0.103121   \n",
       "rougher.output.recovery                                                0.021111   \n",
       "rougher.output.tail_ag                                                -0.096034   \n",
       "rougher.output.tail_pb                                                -0.041270   \n",
       "rougher.output.tail_sol                                                0.137720   \n",
       "rougher.output.tail_au                                                -0.135446   \n",
       "rougher.state.floatbank10_a_air                                        0.019188   \n",
       "rougher.state.floatbank10_a_level                                      0.137569   \n",
       "rougher.state.floatbank10_b_air                                       -0.121200   \n",
       "rougher.state.floatbank10_b_level                                     -0.107062   \n",
       "rougher.state.floatbank10_c_air                                       -0.128897   \n",
       "rougher.state.floatbank10_c_level                                     -0.101527   \n",
       "rougher.state.floatbank10_d_air                                       -0.129453   \n",
       "rougher.state.floatbank10_d_level                                     -0.093632   \n",
       "rougher.state.floatbank10_e_air                                       -0.132187   \n",
       "rougher.state.floatbank10_e_level                                     -0.087165   \n",
       "rougher.state.floatbank10_f_air                                       -0.102054   \n",
       "rougher.state.floatbank10_f_level                                     -0.090434   \n",
       "secondary_cleaner.output.tail_ag                                       0.172850   \n",
       "secondary_cleaner.output.tail_pb                                       0.159534   \n",
       "secondary_cleaner.output.tail_sol                                     -0.111005   \n",
       "secondary_cleaner.output.tail_au                                       0.034425   \n",
       "secondary_cleaner.state.floatbank2_a_air                              -0.001585   \n",
       "secondary_cleaner.state.floatbank2_a_level                            -0.061325   \n",
       "secondary_cleaner.state.floatbank2_b_air                              -0.060443   \n",
       "secondary_cleaner.state.floatbank2_b_level                            -0.057023   \n",
       "secondary_cleaner.state.floatbank3_a_air                              -0.047750   \n",
       "secondary_cleaner.state.floatbank3_a_level                            -0.079897   \n",
       "secondary_cleaner.state.floatbank3_b_air                              -0.122266   \n",
       "secondary_cleaner.state.floatbank3_b_level                            -0.083123   \n",
       "secondary_cleaner.state.floatbank4_a_air                              -0.028802   \n",
       "secondary_cleaner.state.floatbank4_a_level                            -0.075941   \n",
       "secondary_cleaner.state.floatbank4_b_air                              -0.039540   \n",
       "secondary_cleaner.state.floatbank4_b_level                            -0.021376   \n",
       "secondary_cleaner.state.floatbank5_a_air                              -0.034420   \n",
       "secondary_cleaner.state.floatbank5_a_level                            -0.095931   \n",
       "secondary_cleaner.state.floatbank5_b_air                              -0.029534   \n",
       "secondary_cleaner.state.floatbank5_b_level                            -0.109506   \n",
       "secondary_cleaner.state.floatbank6_a_air                              -0.179073   \n",
       "secondary_cleaner.state.floatbank6_a_level                            -0.031732   \n",
       "\n",
       "                                                    final.output.recovery  \\\n",
       "final.output.concentrate_ag                                      0.205496   \n",
       "final.output.concentrate_pb                                     -0.074712   \n",
       "final.output.concentrate_sol                                     0.219260   \n",
       "final.output.concentrate_au                                     -0.069849   \n",
       "final.output.recovery                                            1.000000   \n",
       "final.output.tail_ag                                             0.305778   \n",
       "final.output.tail_pb                                            -0.110294   \n",
       "final.output.tail_sol                                           -0.031981   \n",
       "final.output.tail_au                                            -0.356753   \n",
       "primary_cleaner.input.sulfate                                    0.407667   \n",
       "primary_cleaner.input.depressant                                 0.189422   \n",
       "primary_cleaner.input.feed_size                                  0.032140   \n",
       "primary_cleaner.input.xanthate                                   0.257805   \n",
       "primary_cleaner.output.concentrate_ag                            0.375611   \n",
       "primary_cleaner.output.concentrate_pb                            0.140207   \n",
       "primary_cleaner.output.concentrate_sol                           0.272906   \n",
       "primary_cleaner.output.concentrate_au                           -0.335572   \n",
       "primary_cleaner.output.tail_ag                                   0.288888   \n",
       "primary_cleaner.output.tail_pb                                   0.244568   \n",
       "primary_cleaner.output.tail_sol                                  0.171884   \n",
       "primary_cleaner.output.tail_au                                  -0.365287   \n",
       "primary_cleaner.state.floatbank8_a_air                           0.119827   \n",
       "primary_cleaner.state.floatbank8_a_level                         0.069453   \n",
       "primary_cleaner.state.floatbank8_b_air                           0.135589   \n",
       "primary_cleaner.state.floatbank8_b_level                         0.036887   \n",
       "primary_cleaner.state.floatbank8_c_air                           0.109819   \n",
       "primary_cleaner.state.floatbank8_c_level                         0.069703   \n",
       "primary_cleaner.state.floatbank8_d_air                           0.086306   \n",
       "primary_cleaner.state.floatbank8_d_level                        -0.012854   \n",
       "rougher.calculation.sulfate_to_au_concentrate                   -0.029013   \n",
       "rougher.calculation.floatbank10_sulfate_to_au_feed              -0.240266   \n",
       "rougher.calculation.floatbank11_sulfate_to_au_feed              -0.223257   \n",
       "rougher.calculation.au_pb_ratio                                  0.098132   \n",
       "rougher.input.feed_ag                                            0.371178   \n",
       "rougher.input.feed_pb                                            0.210476   \n",
       "rougher.input.feed_rate                                          0.181525   \n",
       "rougher.input.feed_size                                          0.144929   \n",
       "rougher.input.feed_sol                                           0.245440   \n",
       "rougher.input.feed_au                                            0.360717   \n",
       "rougher.input.floatbank10_sulfate                                0.056157   \n",
       "rougher.input.floatbank10_xanthate                               0.346284   \n",
       "rougher.input.floatbank11_sulfate                                0.061984   \n",
       "rougher.input.floatbank11_xanthate                               0.333525   \n",
       "rougher.output.concentrate_ag                                    0.331798   \n",
       "rougher.output.concentrate_pb                                   -0.061944   \n",
       "rougher.output.concentrate_sol                                   0.043114   \n",
       "rougher.output.concentrate_au                                   -0.077546   \n",
       "rougher.output.recovery                                          0.618854   \n",
       "rougher.output.tail_ag                                          -0.162964   \n",
       "rougher.output.tail_pb                                          -0.369260   \n",
       "rougher.output.tail_sol                                          0.206865   \n",
       "rougher.output.tail_au                                          -0.355054   \n",
       "rougher.state.floatbank10_a_air                                  0.216649   \n",
       "rougher.state.floatbank10_a_level                                0.098890   \n",
       "rougher.state.floatbank10_b_air                                 -0.189383   \n",
       "rougher.state.floatbank10_b_level                               -0.114514   \n",
       "rougher.state.floatbank10_c_air                                 -0.214395   \n",
       "rougher.state.floatbank10_c_level                               -0.106677   \n",
       "rougher.state.floatbank10_d_air                                 -0.204859   \n",
       "rougher.state.floatbank10_d_level                               -0.111314   \n",
       "rougher.state.floatbank10_e_air                                 -0.148745   \n",
       "rougher.state.floatbank10_e_level                               -0.106530   \n",
       "rougher.state.floatbank10_f_air                                 -0.156541   \n",
       "rougher.state.floatbank10_f_level                               -0.121881   \n",
       "secondary_cleaner.output.tail_ag                                 0.328169   \n",
       "secondary_cleaner.output.tail_pb                                -0.009861   \n",
       "secondary_cleaner.output.tail_sol                               -0.036326   \n",
       "secondary_cleaner.output.tail_au                                -0.287344   \n",
       "secondary_cleaner.state.floatbank2_a_air                         0.169679   \n",
       "secondary_cleaner.state.floatbank2_a_level                       0.011582   \n",
       "secondary_cleaner.state.floatbank2_b_air                         0.159815   \n",
       "secondary_cleaner.state.floatbank2_b_level                       0.016016   \n",
       "secondary_cleaner.state.floatbank3_a_air                         0.190999   \n",
       "secondary_cleaner.state.floatbank3_a_level                      -0.012744   \n",
       "secondary_cleaner.state.floatbank3_b_air                         0.062396   \n",
       "secondary_cleaner.state.floatbank3_b_level                       0.008393   \n",
       "secondary_cleaner.state.floatbank4_a_air                         0.235736   \n",
       "secondary_cleaner.state.floatbank4_a_level                       0.016564   \n",
       "secondary_cleaner.state.floatbank4_b_air                         0.238980   \n",
       "secondary_cleaner.state.floatbank4_b_level                      -0.102008   \n",
       "secondary_cleaner.state.floatbank5_a_air                         0.081991   \n",
       "secondary_cleaner.state.floatbank5_a_level                       0.008575   \n",
       "secondary_cleaner.state.floatbank5_b_air                         0.070459   \n",
       "secondary_cleaner.state.floatbank5_b_level                       0.009833   \n",
       "secondary_cleaner.state.floatbank6_a_air                        -0.051076   \n",
       "secondary_cleaner.state.floatbank6_a_level                      -0.024563   \n",
       "\n",
       "                                                    final.output.tail_ag  \\\n",
       "final.output.concentrate_ag                                     0.426064   \n",
       "final.output.concentrate_pb                                    -0.265291   \n",
       "final.output.concentrate_sol                                    0.357980   \n",
       "final.output.concentrate_au                                    -0.087398   \n",
       "final.output.recovery                                           0.305778   \n",
       "final.output.tail_ag                                            1.000000   \n",
       "final.output.tail_pb                                            0.206894   \n",
       "final.output.tail_sol                                          -0.011166   \n",
       "final.output.tail_au                                            0.404023   \n",
       "primary_cleaner.input.sulfate                                   0.413941   \n",
       "primary_cleaner.input.depressant                                0.505490   \n",
       "primary_cleaner.input.feed_size                                 0.110120   \n",
       "primary_cleaner.input.xanthate                                  0.231781   \n",
       "primary_cleaner.output.concentrate_ag                           0.542405   \n",
       "primary_cleaner.output.concentrate_pb                          -0.014609   \n",
       "primary_cleaner.output.concentrate_sol                          0.603161   \n",
       "primary_cleaner.output.concentrate_au                          -0.295073   \n",
       "primary_cleaner.output.tail_ag                                  0.587991   \n",
       "primary_cleaner.output.tail_pb                                  0.548740   \n",
       "primary_cleaner.output.tail_sol                                 0.245523   \n",
       "primary_cleaner.output.tail_au                                  0.091445   \n",
       "primary_cleaner.state.floatbank8_a_air                          0.106172   \n",
       "primary_cleaner.state.floatbank8_a_level                        0.087029   \n",
       "primary_cleaner.state.floatbank8_b_air                          0.129830   \n",
       "primary_cleaner.state.floatbank8_b_level                        0.083418   \n",
       "primary_cleaner.state.floatbank8_c_air                          0.107417   \n",
       "primary_cleaner.state.floatbank8_c_level                        0.087835   \n",
       "primary_cleaner.state.floatbank8_d_air                          0.017090   \n",
       "primary_cleaner.state.floatbank8_d_level                        0.037491   \n",
       "rougher.calculation.sulfate_to_au_concentrate                   0.046503   \n",
       "rougher.calculation.floatbank10_sulfate_to_au_feed             -0.378279   \n",
       "rougher.calculation.floatbank11_sulfate_to_au_feed             -0.372834   \n",
       "rougher.calculation.au_pb_ratio                                 0.193479   \n",
       "rougher.input.feed_ag                                           0.813525   \n",
       "rougher.input.feed_pb                                           0.362866   \n",
       "rougher.input.feed_rate                                        -0.115988   \n",
       "rougher.input.feed_size                                        -0.102028   \n",
       "rougher.input.feed_sol                                         -0.032358   \n",
       "rougher.input.feed_au                                           0.638244   \n",
       "rougher.input.floatbank10_sulfate                              -0.087222   \n",
       "rougher.input.floatbank10_xanthate                              0.333526   \n",
       "rougher.input.floatbank11_sulfate                              -0.079548   \n",
       "rougher.input.floatbank11_xanthate                              0.323947   \n",
       "rougher.output.concentrate_ag                                   0.599446   \n",
       "rougher.output.concentrate_pb                                  -0.091336   \n",
       "rougher.output.concentrate_sol                                  0.075102   \n",
       "rougher.output.concentrate_au                                   0.054856   \n",
       "rougher.output.recovery                                         0.423712   \n",
       "rougher.output.tail_ag                                          0.296318   \n",
       "rougher.output.tail_pb                                         -0.185156   \n",
       "rougher.output.tail_sol                                        -0.061198   \n",
       "rougher.output.tail_au                                          0.094665   \n",
       "rougher.state.floatbank10_a_air                                 0.217955   \n",
       "rougher.state.floatbank10_a_level                              -0.109191   \n",
       "rougher.state.floatbank10_b_air                                -0.131713   \n",
       "rougher.state.floatbank10_b_level                              -0.139616   \n",
       "rougher.state.floatbank10_c_air                                -0.141450   \n",
       "rougher.state.floatbank10_c_level                              -0.145605   \n",
       "rougher.state.floatbank10_d_air                                -0.149427   \n",
       "rougher.state.floatbank10_d_level                              -0.134553   \n",
       "rougher.state.floatbank10_e_air                                -0.097331   \n",
       "rougher.state.floatbank10_e_level                              -0.148171   \n",
       "rougher.state.floatbank10_f_air                                -0.189685   \n",
       "rougher.state.floatbank10_f_level                              -0.150044   \n",
       "secondary_cleaner.output.tail_ag                                0.335924   \n",
       "secondary_cleaner.output.tail_pb                               -0.062337   \n",
       "secondary_cleaner.output.tail_sol                               0.244120   \n",
       "secondary_cleaner.output.tail_au                                0.089939   \n",
       "secondary_cleaner.state.floatbank2_a_air                        0.036622   \n",
       "secondary_cleaner.state.floatbank2_a_level                      0.023554   \n",
       "secondary_cleaner.state.floatbank2_b_air                        0.116483   \n",
       "secondary_cleaner.state.floatbank2_b_level                      0.031893   \n",
       "secondary_cleaner.state.floatbank3_a_air                        0.131635   \n",
       "secondary_cleaner.state.floatbank3_a_level                      0.003657   \n",
       "secondary_cleaner.state.floatbank3_b_air                        0.123396   \n",
       "secondary_cleaner.state.floatbank3_b_level                      0.018925   \n",
       "secondary_cleaner.state.floatbank4_a_air                        0.155838   \n",
       "secondary_cleaner.state.floatbank4_a_level                     -0.013138   \n",
       "secondary_cleaner.state.floatbank4_b_air                        0.228847   \n",
       "secondary_cleaner.state.floatbank4_b_level                     -0.276851   \n",
       "secondary_cleaner.state.floatbank5_a_air                       -0.027818   \n",
       "secondary_cleaner.state.floatbank5_a_level                     -0.012373   \n",
       "secondary_cleaner.state.floatbank5_b_air                        0.005650   \n",
       "secondary_cleaner.state.floatbank5_b_level                      0.007290   \n",
       "secondary_cleaner.state.floatbank6_a_air                       -0.036925   \n",
       "secondary_cleaner.state.floatbank6_a_level                     -0.084447   \n",
       "\n",
       "                                                    final.output.tail_pb  \\\n",
       "final.output.concentrate_ag                                    -0.052236   \n",
       "final.output.concentrate_pb                                     0.212001   \n",
       "final.output.concentrate_sol                                    0.195127   \n",
       "final.output.concentrate_au                                     0.025612   \n",
       "final.output.recovery                                          -0.110294   \n",
       "final.output.tail_ag                                            0.206894   \n",
       "final.output.tail_pb                                            1.000000   \n",
       "final.output.tail_sol                                          -0.187152   \n",
       "final.output.tail_au                                            0.582865   \n",
       "primary_cleaner.input.sulfate                                   0.373386   \n",
       "primary_cleaner.input.depressant                                0.088155   \n",
       "primary_cleaner.input.feed_size                                -0.158547   \n",
       "primary_cleaner.input.xanthate                                 -0.049431   \n",
       "primary_cleaner.output.concentrate_ag                           0.015886   \n",
       "primary_cleaner.output.concentrate_pb                           0.499338   \n",
       "primary_cleaner.output.concentrate_sol                         -0.009347   \n",
       "primary_cleaner.output.concentrate_au                          -0.203805   \n",
       "primary_cleaner.output.tail_ag                                  0.149882   \n",
       "primary_cleaner.output.tail_pb                                  0.285693   \n",
       "primary_cleaner.output.tail_sol                                 0.117970   \n",
       "primary_cleaner.output.tail_au                                  0.206006   \n",
       "primary_cleaner.state.floatbank8_a_air                         -0.011450   \n",
       "primary_cleaner.state.floatbank8_a_level                       -0.091677   \n",
       "primary_cleaner.state.floatbank8_b_air                         -0.006717   \n",
       "primary_cleaner.state.floatbank8_b_level                       -0.079732   \n",
       "primary_cleaner.state.floatbank8_c_air                         -0.029576   \n",
       "primary_cleaner.state.floatbank8_c_level                       -0.086990   \n",
       "primary_cleaner.state.floatbank8_d_air                          0.135920   \n",
       "primary_cleaner.state.floatbank8_d_level                       -0.075724   \n",
       "rougher.calculation.sulfate_to_au_concentrate                   0.378602   \n",
       "rougher.calculation.floatbank10_sulfate_to_au_feed              0.229153   \n",
       "rougher.calculation.floatbank11_sulfate_to_au_feed              0.193847   \n",
       "rougher.calculation.au_pb_ratio                                -0.530039   \n",
       "rougher.input.feed_ag                                           0.250815   \n",
       "rougher.input.feed_pb                                           0.781353   \n",
       "rougher.input.feed_rate                                        -0.310031   \n",
       "rougher.input.feed_size                                        -0.232344   \n",
       "rougher.input.feed_sol                                         -0.054927   \n",
       "rougher.input.feed_au                                           0.478746   \n",
       "rougher.input.floatbank10_sulfate                               0.373288   \n",
       "rougher.input.floatbank10_xanthate                             -0.194390   \n",
       "rougher.input.floatbank11_sulfate                               0.345752   \n",
       "rougher.input.floatbank11_xanthate                             -0.194501   \n",
       "rougher.output.concentrate_ag                                   0.068505   \n",
       "rougher.output.concentrate_pb                                   0.544141   \n",
       "rougher.output.concentrate_sol                                  0.329714   \n",
       "rougher.output.concentrate_au                                   0.214705   \n",
       "rougher.output.recovery                                         0.170688   \n",
       "rougher.output.tail_ag                                          0.216245   \n",
       "rougher.output.tail_pb                                          0.098953   \n",
       "rougher.output.tail_sol                                        -0.473152   \n",
       "rougher.output.tail_au                                          0.197684   \n",
       "rougher.state.floatbank10_a_air                                 0.098146   \n",
       "rougher.state.floatbank10_a_level                               0.237592   \n",
       "rougher.state.floatbank10_b_air                                -0.152065   \n",
       "rougher.state.floatbank10_b_level                              -0.011763   \n",
       "rougher.state.floatbank10_c_air                                -0.133747   \n",
       "rougher.state.floatbank10_c_level                               0.007123   \n",
       "rougher.state.floatbank10_d_air                                -0.175172   \n",
       "rougher.state.floatbank10_d_level                               0.005416   \n",
       "rougher.state.floatbank10_e_air                                -0.347038   \n",
       "rougher.state.floatbank10_e_level                               0.016957   \n",
       "rougher.state.floatbank10_f_air                                -0.262485   \n",
       "rougher.state.floatbank10_f_level                               0.003682   \n",
       "secondary_cleaner.output.tail_ag                                0.072459   \n",
       "secondary_cleaner.output.tail_pb                                0.219571   \n",
       "secondary_cleaner.output.tail_sol                              -0.057159   \n",
       "secondary_cleaner.output.tail_au                                0.133354   \n",
       "secondary_cleaner.state.floatbank2_a_air                        0.023481   \n",
       "secondary_cleaner.state.floatbank2_a_level                     -0.070333   \n",
       "secondary_cleaner.state.floatbank2_b_air                       -0.033638   \n",
       "secondary_cleaner.state.floatbank2_b_level                     -0.035587   \n",
       "secondary_cleaner.state.floatbank3_a_air                        0.028469   \n",
       "secondary_cleaner.state.floatbank3_a_level                      0.027219   \n",
       "secondary_cleaner.state.floatbank3_b_air                        0.029568   \n",
       "secondary_cleaner.state.floatbank3_b_level                     -0.092594   \n",
       "secondary_cleaner.state.floatbank4_a_air                        0.117258   \n",
       "secondary_cleaner.state.floatbank4_a_level                      0.086182   \n",
       "secondary_cleaner.state.floatbank4_b_air                        0.191456   \n",
       "secondary_cleaner.state.floatbank4_b_level                      0.193111   \n",
       "secondary_cleaner.state.floatbank5_a_air                        0.130399   \n",
       "secondary_cleaner.state.floatbank5_a_level                      0.052937   \n",
       "secondary_cleaner.state.floatbank5_b_air                        0.148369   \n",
       "secondary_cleaner.state.floatbank5_b_level                      0.057651   \n",
       "secondary_cleaner.state.floatbank6_a_air                        0.012857   \n",
       "secondary_cleaner.state.floatbank6_a_level                     -0.085712   \n",
       "\n",
       "                                                    final.output.tail_sol  \\\n",
       "final.output.concentrate_ag                                      0.004063   \n",
       "final.output.concentrate_pb                                      0.024636   \n",
       "final.output.concentrate_sol                                     0.065391   \n",
       "final.output.concentrate_au                                      0.060743   \n",
       "final.output.recovery                                           -0.031981   \n",
       "final.output.tail_ag                                            -0.011166   \n",
       "final.output.tail_pb                                            -0.187152   \n",
       "final.output.tail_sol                                            1.000000   \n",
       "final.output.tail_au                                            -0.011086   \n",
       "primary_cleaner.input.sulfate                                    0.257189   \n",
       "primary_cleaner.input.depressant                                 0.195882   \n",
       "primary_cleaner.input.feed_size                                  0.288509   \n",
       "primary_cleaner.input.xanthate                                   0.231885   \n",
       "primary_cleaner.output.concentrate_ag                            0.207248   \n",
       "primary_cleaner.output.concentrate_pb                           -0.010910   \n",
       "primary_cleaner.output.concentrate_sol                           0.287783   \n",
       "primary_cleaner.output.concentrate_au                           -0.000158   \n",
       "primary_cleaner.output.tail_ag                                  -0.257786   \n",
       "primary_cleaner.output.tail_pb                                  -0.167690   \n",
       "primary_cleaner.output.tail_sol                                  0.515113   \n",
       "primary_cleaner.output.tail_au                                  -0.060554   \n",
       "primary_cleaner.state.floatbank8_a_air                          -0.134207   \n",
       "primary_cleaner.state.floatbank8_a_level                         0.063113   \n",
       "primary_cleaner.state.floatbank8_b_air                          -0.147760   \n",
       "primary_cleaner.state.floatbank8_b_level                         0.067705   \n",
       "primary_cleaner.state.floatbank8_c_air                          -0.203080   \n",
       "primary_cleaner.state.floatbank8_c_level                         0.058453   \n",
       "primary_cleaner.state.floatbank8_d_air                          -0.226853   \n",
       "primary_cleaner.state.floatbank8_d_level                         0.050294   \n",
       "rougher.calculation.sulfate_to_au_concentrate                   -0.016560   \n",
       "rougher.calculation.floatbank10_sulfate_to_au_feed               0.022094   \n",
       "rougher.calculation.floatbank11_sulfate_to_au_feed               0.120995   \n",
       "rougher.calculation.au_pb_ratio                                  0.219378   \n",
       "rougher.input.feed_ag                                            0.009709   \n",
       "rougher.input.feed_pb                                           -0.183134   \n",
       "rougher.input.feed_rate                                          0.481968   \n",
       "rougher.input.feed_size                                          0.182819   \n",
       "rougher.input.feed_sol                                           0.431790   \n",
       "rougher.input.feed_au                                           -0.022190   \n",
       "rougher.input.floatbank10_sulfate                                0.265049   \n",
       "rougher.input.floatbank10_xanthate                               0.255554   \n",
       "rougher.input.floatbank11_sulfate                                0.314242   \n",
       "rougher.input.floatbank11_xanthate                               0.242401   \n",
       "rougher.output.concentrate_ag                                   -0.029439   \n",
       "rougher.output.concentrate_pb                                   -0.150075   \n",
       "rougher.output.concentrate_sol                                   0.015995   \n",
       "rougher.output.concentrate_au                                   -0.113948   \n",
       "rougher.output.recovery                                         -0.114074   \n",
       "rougher.output.tail_ag                                          -0.049946   \n",
       "rougher.output.tail_pb                                           0.316932   \n",
       "rougher.output.tail_sol                                          0.489607   \n",
       "rougher.output.tail_au                                           0.066345   \n",
       "rougher.state.floatbank10_a_air                                 -0.061398   \n",
       "rougher.state.floatbank10_a_level                               -0.113611   \n",
       "rougher.state.floatbank10_b_air                                  0.064703   \n",
       "rougher.state.floatbank10_b_level                               -0.032264   \n",
       "rougher.state.floatbank10_c_air                                  0.067344   \n",
       "rougher.state.floatbank10_c_level                               -0.048882   \n",
       "rougher.state.floatbank10_d_air                                  0.054160   \n",
       "rougher.state.floatbank10_d_level                               -0.042068   \n",
       "rougher.state.floatbank10_e_air                                  0.040329   \n",
       "rougher.state.floatbank10_e_level                               -0.067215   \n",
       "rougher.state.floatbank10_f_air                                  0.063225   \n",
       "rougher.state.floatbank10_f_level                               -0.066751   \n",
       "secondary_cleaner.output.tail_ag                                -0.019718   \n",
       "secondary_cleaner.output.tail_pb                                -0.090330   \n",
       "secondary_cleaner.output.tail_sol                                0.254331   \n",
       "secondary_cleaner.output.tail_au                                -0.083889   \n",
       "secondary_cleaner.state.floatbank2_a_air                        -0.107926   \n",
       "secondary_cleaner.state.floatbank2_a_level                       0.018721   \n",
       "secondary_cleaner.state.floatbank2_b_air                        -0.018838   \n",
       "secondary_cleaner.state.floatbank2_b_level                       0.005277   \n",
       "secondary_cleaner.state.floatbank3_a_air                        -0.151211   \n",
       "secondary_cleaner.state.floatbank3_a_level                      -0.030519   \n",
       "secondary_cleaner.state.floatbank3_b_air                        -0.039783   \n",
       "secondary_cleaner.state.floatbank3_b_level                      -0.019660   \n",
       "secondary_cleaner.state.floatbank4_a_air                        -0.283326   \n",
       "secondary_cleaner.state.floatbank4_a_level                      -0.050423   \n",
       "secondary_cleaner.state.floatbank4_b_air                        -0.182318   \n",
       "secondary_cleaner.state.floatbank4_b_level                      -0.002349   \n",
       "secondary_cleaner.state.floatbank5_a_air                        -0.250519   \n",
       "secondary_cleaner.state.floatbank5_a_level                      -0.032610   \n",
       "secondary_cleaner.state.floatbank5_b_air                        -0.205337   \n",
       "secondary_cleaner.state.floatbank5_b_level                      -0.066513   \n",
       "secondary_cleaner.state.floatbank6_a_air                        -0.094998   \n",
       "secondary_cleaner.state.floatbank6_a_level                       0.023733   \n",
       "\n",
       "                                                    final.output.tail_au  \\\n",
       "final.output.concentrate_ag                                     0.240620   \n",
       "final.output.concentrate_pb                                    -0.123648   \n",
       "final.output.concentrate_sol                                    0.355097   \n",
       "final.output.concentrate_au                                    -0.060766   \n",
       "final.output.recovery                                          -0.356753   \n",
       "final.output.tail_ag                                            0.404023   \n",
       "final.output.tail_pb                                            0.582865   \n",
       "final.output.tail_sol                                          -0.011086   \n",
       "final.output.tail_au                                            1.000000   \n",
       "primary_cleaner.input.sulfate                                   0.287969   \n",
       "primary_cleaner.input.depressant                                0.226973   \n",
       "primary_cleaner.input.feed_size                                 0.082217   \n",
       "primary_cleaner.input.xanthate                                 -0.010560   \n",
       "primary_cleaner.output.concentrate_ag                           0.204204   \n",
       "primary_cleaner.output.concentrate_pb                           0.086693   \n",
       "primary_cleaner.output.concentrate_sol                          0.286021   \n",
       "primary_cleaner.output.concentrate_au                          -0.028334   \n",
       "primary_cleaner.output.tail_ag                                  0.049744   \n",
       "primary_cleaner.output.tail_pb                                  0.141917   \n",
       "primary_cleaner.output.tail_sol                                 0.300655   \n",
       "primary_cleaner.output.tail_au                                  0.626464   \n",
       "primary_cleaner.state.floatbank8_a_air                         -0.083802   \n",
       "primary_cleaner.state.floatbank8_a_level                       -0.069358   \n",
       "primary_cleaner.state.floatbank8_b_air                         -0.055351   \n",
       "primary_cleaner.state.floatbank8_b_level                       -0.071995   \n",
       "primary_cleaner.state.floatbank8_c_air                         -0.088300   \n",
       "primary_cleaner.state.floatbank8_c_level                       -0.078500   \n",
       "primary_cleaner.state.floatbank8_d_air                          0.032121   \n",
       "primary_cleaner.state.floatbank8_d_level                       -0.066469   \n",
       "rougher.calculation.sulfate_to_au_concentrate                   0.121570   \n",
       "rougher.calculation.floatbank10_sulfate_to_au_feed             -0.023225   \n",
       "rougher.calculation.floatbank11_sulfate_to_au_feed             -0.064715   \n",
       "rougher.calculation.au_pb_ratio                                 0.042771   \n",
       "rougher.input.feed_ag                                           0.533867   \n",
       "rougher.input.feed_pb                                           0.480653   \n",
       "rougher.input.feed_rate                                        -0.392167   \n",
       "rougher.input.feed_size                                        -0.355951   \n",
       "rougher.input.feed_sol                                         -0.175112   \n",
       "rougher.input.feed_au                                           0.680712   \n",
       "rougher.input.floatbank10_sulfate                               0.205621   \n",
       "rougher.input.floatbank10_xanthate                             -0.074117   \n",
       "rougher.input.floatbank11_sulfate                               0.182738   \n",
       "rougher.input.floatbank11_xanthate                             -0.056203   \n",
       "rougher.output.concentrate_ag                                   0.201806   \n",
       "rougher.output.concentrate_pb                                   0.066905   \n",
       "rougher.output.concentrate_sol                                  0.271783   \n",
       "rougher.output.concentrate_au                                   0.422446   \n",
       "rougher.output.recovery                                        -0.084517   \n",
       "rougher.output.tail_ag                                          0.590279   \n",
       "rougher.output.tail_pb                                          0.351382   \n",
       "rougher.output.tail_sol                                        -0.380247   \n",
       "rougher.output.tail_au                                          0.652569   \n",
       "rougher.state.floatbank10_a_air                                -0.041801   \n",
       "rougher.state.floatbank10_a_level                              -0.176304   \n",
       "rougher.state.floatbank10_b_air                                 0.045559   \n",
       "rougher.state.floatbank10_b_level                               0.051911   \n",
       "rougher.state.floatbank10_c_air                                 0.081456   \n",
       "rougher.state.floatbank10_c_level                               0.043989   \n",
       "rougher.state.floatbank10_d_air                                 0.041377   \n",
       "rougher.state.floatbank10_d_level                               0.052668   \n",
       "rougher.state.floatbank10_e_air                                -0.043785   \n",
       "rougher.state.floatbank10_e_level                               0.065883   \n",
       "rougher.state.floatbank10_f_air                                -0.111133   \n",
       "rougher.state.floatbank10_f_level                               0.057357   \n",
       "secondary_cleaner.output.tail_ag                               -0.121174   \n",
       "secondary_cleaner.output.tail_pb                               -0.156780   \n",
       "secondary_cleaner.output.tail_sol                               0.267603   \n",
       "secondary_cleaner.output.tail_au                                0.385749   \n",
       "secondary_cleaner.state.floatbank2_a_air                       -0.279600   \n",
       "secondary_cleaner.state.floatbank2_a_level                      0.013298   \n",
       "secondary_cleaner.state.floatbank2_b_air                       -0.218843   \n",
       "secondary_cleaner.state.floatbank2_b_level                     -0.000032   \n",
       "secondary_cleaner.state.floatbank3_a_air                       -0.125002   \n",
       "secondary_cleaner.state.floatbank3_a_level                      0.082085   \n",
       "secondary_cleaner.state.floatbank3_b_air                       -0.005067   \n",
       "secondary_cleaner.state.floatbank3_b_level                      0.027966   \n",
       "secondary_cleaner.state.floatbank4_a_air                       -0.171873   \n",
       "secondary_cleaner.state.floatbank4_a_level                      0.071898   \n",
       "secondary_cleaner.state.floatbank4_b_air                       -0.097827   \n",
       "secondary_cleaner.state.floatbank4_b_level                     -0.006514   \n",
       "secondary_cleaner.state.floatbank5_a_air                       -0.226556   \n",
       "secondary_cleaner.state.floatbank5_a_level                      0.072687   \n",
       "secondary_cleaner.state.floatbank5_b_air                       -0.179644   \n",
       "secondary_cleaner.state.floatbank5_b_level                      0.078652   \n",
       "secondary_cleaner.state.floatbank6_a_air                        0.091832   \n",
       "secondary_cleaner.state.floatbank6_a_level                     -0.040219   \n",
       "\n",
       "                                                    primary_cleaner.input.sulfate  \\\n",
       "final.output.concentrate_ag                                              0.121849   \n",
       "final.output.concentrate_pb                                              0.003646   \n",
       "final.output.concentrate_sol                                             0.380830   \n",
       "final.output.concentrate_au                                             -0.026337   \n",
       "final.output.recovery                                                    0.407667   \n",
       "final.output.tail_ag                                                     0.413941   \n",
       "final.output.tail_pb                                                     0.373386   \n",
       "final.output.tail_sol                                                    0.257189   \n",
       "final.output.tail_au                                                     0.287969   \n",
       "primary_cleaner.input.sulfate                                            1.000000   \n",
       "primary_cleaner.input.depressant                                         0.398755   \n",
       "primary_cleaner.input.feed_size                                          0.092422   \n",
       "primary_cleaner.input.xanthate                                           0.404168   \n",
       "primary_cleaner.output.concentrate_ag                                    0.437418   \n",
       "primary_cleaner.output.concentrate_pb                                    0.366679   \n",
       "primary_cleaner.output.concentrate_sol                                   0.424954   \n",
       "primary_cleaner.output.concentrate_au                                   -0.398914   \n",
       "primary_cleaner.output.tail_ag                                           0.217359   \n",
       "primary_cleaner.output.tail_pb                                           0.337564   \n",
       "primary_cleaner.output.tail_sol                                          0.527104   \n",
       "primary_cleaner.output.tail_au                                          -0.000444   \n",
       "primary_cleaner.state.floatbank8_a_air                                  -0.088254   \n",
       "primary_cleaner.state.floatbank8_a_level                                -0.033271   \n",
       "primary_cleaner.state.floatbank8_b_air                                  -0.069333   \n",
       "primary_cleaner.state.floatbank8_b_level                                -0.048882   \n",
       "primary_cleaner.state.floatbank8_c_air                                  -0.099351   \n",
       "primary_cleaner.state.floatbank8_c_level                                -0.047736   \n",
       "primary_cleaner.state.floatbank8_d_air                                   0.011507   \n",
       "primary_cleaner.state.floatbank8_d_level                                -0.080646   \n",
       "rougher.calculation.sulfate_to_au_concentrate                            0.390453   \n",
       "rougher.calculation.floatbank10_sulfate_to_au_feed                      -0.150813   \n",
       "rougher.calculation.floatbank11_sulfate_to_au_feed                      -0.046761   \n",
       "rougher.calculation.au_pb_ratio                                         -0.045960   \n",
       "rougher.input.feed_ag                                                    0.514148   \n",
       "rougher.input.feed_pb                                                    0.503488   \n",
       "rougher.input.feed_rate                                                  0.276997   \n",
       "rougher.input.feed_size                                                  0.008280   \n",
       "rougher.input.feed_sol                                                   0.392207   \n",
       "rougher.input.feed_au                                                    0.625150   \n",
       "rougher.input.floatbank10_sulfate                                        0.521794   \n",
       "rougher.input.floatbank10_xanthate                                       0.446320   \n",
       "rougher.input.floatbank11_sulfate                                        0.568635   \n",
       "rougher.input.floatbank11_xanthate                                       0.417690   \n",
       "rougher.output.concentrate_ag                                            0.318721   \n",
       "rougher.output.concentrate_pb                                            0.121158   \n",
       "rougher.output.concentrate_sol                                           0.221566   \n",
       "rougher.output.concentrate_au                                            0.061884   \n",
       "rougher.output.recovery                                                  0.451715   \n",
       "rougher.output.tail_ag                                                   0.073652   \n",
       "rougher.output.tail_pb                                                   0.043304   \n",
       "rougher.output.tail_sol                                                  0.116606   \n",
       "rougher.output.tail_au                                                   0.044654   \n",
       "rougher.state.floatbank10_a_air                                          0.095143   \n",
       "rougher.state.floatbank10_a_level                                        0.054040   \n",
       "rougher.state.floatbank10_b_air                                         -0.195346   \n",
       "rougher.state.floatbank10_b_level                                       -0.133814   \n",
       "rougher.state.floatbank10_c_air                                         -0.211433   \n",
       "rougher.state.floatbank10_c_level                                       -0.131185   \n",
       "rougher.state.floatbank10_d_air                                         -0.233927   \n",
       "rougher.state.floatbank10_d_level                                       -0.127255   \n",
       "rougher.state.floatbank10_e_air                                         -0.267853   \n",
       "rougher.state.floatbank10_e_level                                       -0.141016   \n",
       "rougher.state.floatbank10_f_air                                         -0.257207   \n",
       "rougher.state.floatbank10_f_level                                       -0.148891   \n",
       "secondary_cleaner.output.tail_ag                                         0.319555   \n",
       "secondary_cleaner.output.tail_pb                                         0.076455   \n",
       "secondary_cleaner.output.tail_sol                                        0.169630   \n",
       "secondary_cleaner.output.tail_au                                         0.029695   \n",
       "secondary_cleaner.state.floatbank2_a_air                                -0.024202   \n",
       "secondary_cleaner.state.floatbank2_a_level                               0.004206   \n",
       "secondary_cleaner.state.floatbank2_b_air                                -0.012431   \n",
       "secondary_cleaner.state.floatbank2_b_level                               0.033930   \n",
       "secondary_cleaner.state.floatbank3_a_air                                -0.015577   \n",
       "secondary_cleaner.state.floatbank3_a_level                              -0.089325   \n",
       "secondary_cleaner.state.floatbank3_b_air                                -0.020727   \n",
       "secondary_cleaner.state.floatbank3_b_level                              -0.063106   \n",
       "secondary_cleaner.state.floatbank4_a_air                                 0.024696   \n",
       "secondary_cleaner.state.floatbank4_a_level                              -0.044485   \n",
       "secondary_cleaner.state.floatbank4_b_air                                 0.122278   \n",
       "secondary_cleaner.state.floatbank4_b_level                              -0.053913   \n",
       "secondary_cleaner.state.floatbank5_a_air                                -0.116529   \n",
       "secondary_cleaner.state.floatbank5_a_level                              -0.052914   \n",
       "secondary_cleaner.state.floatbank5_b_air                                -0.059648   \n",
       "secondary_cleaner.state.floatbank5_b_level                              -0.054708   \n",
       "secondary_cleaner.state.floatbank6_a_air                                -0.172772   \n",
       "secondary_cleaner.state.floatbank6_a_level                              -0.057580   \n",
       "\n",
       "                                                    ...  \\\n",
       "final.output.concentrate_ag                         ...   \n",
       "final.output.concentrate_pb                         ...   \n",
       "final.output.concentrate_sol                        ...   \n",
       "final.output.concentrate_au                         ...   \n",
       "final.output.recovery                               ...   \n",
       "final.output.tail_ag                                ...   \n",
       "final.output.tail_pb                                ...   \n",
       "final.output.tail_sol                               ...   \n",
       "final.output.tail_au                                ...   \n",
       "primary_cleaner.input.sulfate                       ...   \n",
       "primary_cleaner.input.depressant                    ...   \n",
       "primary_cleaner.input.feed_size                     ...   \n",
       "primary_cleaner.input.xanthate                      ...   \n",
       "primary_cleaner.output.concentrate_ag               ...   \n",
       "primary_cleaner.output.concentrate_pb               ...   \n",
       "primary_cleaner.output.concentrate_sol              ...   \n",
       "primary_cleaner.output.concentrate_au               ...   \n",
       "primary_cleaner.output.tail_ag                      ...   \n",
       "primary_cleaner.output.tail_pb                      ...   \n",
       "primary_cleaner.output.tail_sol                     ...   \n",
       "primary_cleaner.output.tail_au                      ...   \n",
       "primary_cleaner.state.floatbank8_a_air              ...   \n",
       "primary_cleaner.state.floatbank8_a_level            ...   \n",
       "primary_cleaner.state.floatbank8_b_air              ...   \n",
       "primary_cleaner.state.floatbank8_b_level            ...   \n",
       "primary_cleaner.state.floatbank8_c_air              ...   \n",
       "primary_cleaner.state.floatbank8_c_level            ...   \n",
       "primary_cleaner.state.floatbank8_d_air              ...   \n",
       "primary_cleaner.state.floatbank8_d_level            ...   \n",
       "rougher.calculation.sulfate_to_au_concentrate       ...   \n",
       "rougher.calculation.floatbank10_sulfate_to_au_feed  ...   \n",
       "rougher.calculation.floatbank11_sulfate_to_au_feed  ...   \n",
       "rougher.calculation.au_pb_ratio                     ...   \n",
       "rougher.input.feed_ag                               ...   \n",
       "rougher.input.feed_pb                               ...   \n",
       "rougher.input.feed_rate                             ...   \n",
       "rougher.input.feed_size                             ...   \n",
       "rougher.input.feed_sol                              ...   \n",
       "rougher.input.feed_au                               ...   \n",
       "rougher.input.floatbank10_sulfate                   ...   \n",
       "rougher.input.floatbank10_xanthate                  ...   \n",
       "rougher.input.floatbank11_sulfate                   ...   \n",
       "rougher.input.floatbank11_xanthate                  ...   \n",
       "rougher.output.concentrate_ag                       ...   \n",
       "rougher.output.concentrate_pb                       ...   \n",
       "rougher.output.concentrate_sol                      ...   \n",
       "rougher.output.concentrate_au                       ...   \n",
       "rougher.output.recovery                             ...   \n",
       "rougher.output.tail_ag                              ...   \n",
       "rougher.output.tail_pb                              ...   \n",
       "rougher.output.tail_sol                             ...   \n",
       "rougher.output.tail_au                              ...   \n",
       "rougher.state.floatbank10_a_air                     ...   \n",
       "rougher.state.floatbank10_a_level                   ...   \n",
       "rougher.state.floatbank10_b_air                     ...   \n",
       "rougher.state.floatbank10_b_level                   ...   \n",
       "rougher.state.floatbank10_c_air                     ...   \n",
       "rougher.state.floatbank10_c_level                   ...   \n",
       "rougher.state.floatbank10_d_air                     ...   \n",
       "rougher.state.floatbank10_d_level                   ...   \n",
       "rougher.state.floatbank10_e_air                     ...   \n",
       "rougher.state.floatbank10_e_level                   ...   \n",
       "rougher.state.floatbank10_f_air                     ...   \n",
       "rougher.state.floatbank10_f_level                   ...   \n",
       "secondary_cleaner.output.tail_ag                    ...   \n",
       "secondary_cleaner.output.tail_pb                    ...   \n",
       "secondary_cleaner.output.tail_sol                   ...   \n",
       "secondary_cleaner.output.tail_au                    ...   \n",
       "secondary_cleaner.state.floatbank2_a_air            ...   \n",
       "secondary_cleaner.state.floatbank2_a_level          ...   \n",
       "secondary_cleaner.state.floatbank2_b_air            ...   \n",
       "secondary_cleaner.state.floatbank2_b_level          ...   \n",
       "secondary_cleaner.state.floatbank3_a_air            ...   \n",
       "secondary_cleaner.state.floatbank3_a_level          ...   \n",
       "secondary_cleaner.state.floatbank3_b_air            ...   \n",
       "secondary_cleaner.state.floatbank3_b_level          ...   \n",
       "secondary_cleaner.state.floatbank4_a_air            ...   \n",
       "secondary_cleaner.state.floatbank4_a_level          ...   \n",
       "secondary_cleaner.state.floatbank4_b_air            ...   \n",
       "secondary_cleaner.state.floatbank4_b_level          ...   \n",
       "secondary_cleaner.state.floatbank5_a_air            ...   \n",
       "secondary_cleaner.state.floatbank5_a_level          ...   \n",
       "secondary_cleaner.state.floatbank5_b_air            ...   \n",
       "secondary_cleaner.state.floatbank5_b_level          ...   \n",
       "secondary_cleaner.state.floatbank6_a_air            ...   \n",
       "secondary_cleaner.state.floatbank6_a_level          ...   \n",
       "\n",
       "                                                    secondary_cleaner.state.floatbank4_a_air  \\\n",
       "final.output.concentrate_ag                                                         0.072498   \n",
       "final.output.concentrate_pb                                                         0.068265   \n",
       "final.output.concentrate_sol                                                       -0.044809   \n",
       "final.output.concentrate_au                                                        -0.028802   \n",
       "final.output.recovery                                                               0.235736   \n",
       "final.output.tail_ag                                                                0.155838   \n",
       "final.output.tail_pb                                                                0.117258   \n",
       "final.output.tail_sol                                                              -0.283326   \n",
       "final.output.tail_au                                                               -0.171873   \n",
       "primary_cleaner.input.sulfate                                                       0.024696   \n",
       "primary_cleaner.input.depressant                                                   -0.102712   \n",
       "primary_cleaner.input.feed_size                                                    -0.242681   \n",
       "primary_cleaner.input.xanthate                                                     -0.045978   \n",
       "primary_cleaner.output.concentrate_ag                                               0.062042   \n",
       "primary_cleaner.output.concentrate_pb                                               0.168709   \n",
       "primary_cleaner.output.concentrate_sol                                             -0.140577   \n",
       "primary_cleaner.output.concentrate_au                                              -0.304645   \n",
       "primary_cleaner.output.tail_ag                                                      0.334730   \n",
       "primary_cleaner.output.tail_pb                                                      0.301566   \n",
       "primary_cleaner.output.tail_sol                                                    -0.159522   \n",
       "primary_cleaner.output.tail_au                                                     -0.279369   \n",
       "primary_cleaner.state.floatbank8_a_air                                              0.565529   \n",
       "primary_cleaner.state.floatbank8_a_level                                           -0.012888   \n",
       "primary_cleaner.state.floatbank8_b_air                                              0.550212   \n",
       "primary_cleaner.state.floatbank8_b_level                                           -0.024142   \n",
       "primary_cleaner.state.floatbank8_c_air                                              0.590837   \n",
       "primary_cleaner.state.floatbank8_c_level                                           -0.006745   \n",
       "primary_cleaner.state.floatbank8_d_air                                              0.523280   \n",
       "primary_cleaner.state.floatbank8_d_level                                           -0.017774   \n",
       "rougher.calculation.sulfate_to_au_concentrate                                       0.090522   \n",
       "rougher.calculation.floatbank10_sulfate_to_au_feed                                 -0.046418   \n",
       "rougher.calculation.floatbank11_sulfate_to_au_feed                                 -0.122215   \n",
       "rougher.calculation.au_pb_ratio                                                    -0.277672   \n",
       "rougher.input.feed_ag                                                               0.091825   \n",
       "rougher.input.feed_pb                                                               0.197995   \n",
       "rougher.input.feed_rate                                                             0.032840   \n",
       "rougher.input.feed_size                                                             0.250103   \n",
       "rougher.input.feed_sol                                                              0.192992   \n",
       "rougher.input.feed_au                                                               0.006009   \n",
       "rougher.input.floatbank10_sulfate                                                  -0.127835   \n",
       "rougher.input.floatbank10_xanthate                                                  0.002242   \n",
       "rougher.input.floatbank11_sulfate                                                  -0.166067   \n",
       "rougher.input.floatbank11_xanthate                                                 -0.002719   \n",
       "rougher.output.concentrate_ag                                                       0.159292   \n",
       "rougher.output.concentrate_pb                                                       0.163035   \n",
       "rougher.output.concentrate_sol                                                     -0.112007   \n",
       "rougher.output.concentrate_au                                                      -0.237747   \n",
       "rougher.output.recovery                                                             0.367206   \n",
       "rougher.output.tail_ag                                                             -0.151841   \n",
       "rougher.output.tail_pb                                                             -0.233841   \n",
       "rougher.output.tail_sol                                                             0.154975   \n",
       "rougher.output.tail_au                                                             -0.352925   \n",
       "rougher.state.floatbank10_a_air                                                     0.528778   \n",
       "rougher.state.floatbank10_a_level                                                   0.498341   \n",
       "rougher.state.floatbank10_b_air                                                    -0.182339   \n",
       "rougher.state.floatbank10_b_level                                                   0.061127   \n",
       "rougher.state.floatbank10_c_air                                                    -0.204231   \n",
       "rougher.state.floatbank10_c_level                                                   0.075950   \n",
       "rougher.state.floatbank10_d_air                                                    -0.261325   \n",
       "rougher.state.floatbank10_d_level                                                   0.086299   \n",
       "rougher.state.floatbank10_e_air                                                    -0.087943   \n",
       "rougher.state.floatbank10_e_level                                                   0.076763   \n",
       "rougher.state.floatbank10_f_air                                                    -0.043978   \n",
       "rougher.state.floatbank10_f_level                                                   0.073380   \n",
       "secondary_cleaner.output.tail_ag                                                    0.234068   \n",
       "secondary_cleaner.output.tail_pb                                                    0.204670   \n",
       "secondary_cleaner.output.tail_sol                                                  -0.318161   \n",
       "secondary_cleaner.output.tail_au                                                   -0.034763   \n",
       "secondary_cleaner.state.floatbank2_a_air                                            0.603908   \n",
       "secondary_cleaner.state.floatbank2_a_level                                         -0.066632   \n",
       "secondary_cleaner.state.floatbank2_b_air                                            0.528628   \n",
       "secondary_cleaner.state.floatbank2_b_level                                         -0.015834   \n",
       "secondary_cleaner.state.floatbank3_a_air                                            0.634520   \n",
       "secondary_cleaner.state.floatbank3_a_level                                          0.173415   \n",
       "secondary_cleaner.state.floatbank3_b_air                                            0.336335   \n",
       "secondary_cleaner.state.floatbank3_b_level                                         -0.038000   \n",
       "secondary_cleaner.state.floatbank4_a_air                                            1.000000   \n",
       "secondary_cleaner.state.floatbank4_a_level                                          0.235740   \n",
       "secondary_cleaner.state.floatbank4_b_air                                            0.840637   \n",
       "secondary_cleaner.state.floatbank4_b_level                                          0.132908   \n",
       "secondary_cleaner.state.floatbank5_a_air                                            0.760354   \n",
       "secondary_cleaner.state.floatbank5_a_level                                          0.184450   \n",
       "secondary_cleaner.state.floatbank5_b_air                                            0.706942   \n",
       "secondary_cleaner.state.floatbank5_b_level                                          0.200121   \n",
       "secondary_cleaner.state.floatbank6_a_air                                            0.198894   \n",
       "secondary_cleaner.state.floatbank6_a_level                                         -0.021104   \n",
       "\n",
       "                                                    secondary_cleaner.state.floatbank4_a_level  \\\n",
       "final.output.concentrate_ag                                                           0.090862   \n",
       "final.output.concentrate_pb                                                           0.021637   \n",
       "final.output.concentrate_sol                                                          0.112129   \n",
       "final.output.concentrate_au                                                          -0.075941   \n",
       "final.output.recovery                                                                 0.016564   \n",
       "final.output.tail_ag                                                                 -0.013138   \n",
       "final.output.tail_pb                                                                  0.086182   \n",
       "final.output.tail_sol                                                                -0.050423   \n",
       "final.output.tail_au                                                                  0.071898   \n",
       "primary_cleaner.input.sulfate                                                        -0.044485   \n",
       "primary_cleaner.input.depressant                                                     -0.093834   \n",
       "primary_cleaner.input.feed_size                                                       0.075861   \n",
       "primary_cleaner.input.xanthate                                                       -0.196750   \n",
       "primary_cleaner.output.concentrate_ag                                                -0.016927   \n",
       "primary_cleaner.output.concentrate_pb                                                -0.067226   \n",
       "primary_cleaner.output.concentrate_sol                                               -0.131366   \n",
       "primary_cleaner.output.concentrate_au                                                -0.027110   \n",
       "primary_cleaner.output.tail_ag                                                       -0.172985   \n",
       "primary_cleaner.output.tail_pb                                                       -0.186724   \n",
       "primary_cleaner.output.tail_sol                                                       0.072634   \n",
       "primary_cleaner.output.tail_au                                                        0.073401   \n",
       "primary_cleaner.state.floatbank8_a_air                                                0.275286   \n",
       "primary_cleaner.state.floatbank8_a_level                                              0.098299   \n",
       "primary_cleaner.state.floatbank8_b_air                                                0.277179   \n",
       "primary_cleaner.state.floatbank8_b_level                                             -0.054123   \n",
       "primary_cleaner.state.floatbank8_c_air                                                0.264092   \n",
       "primary_cleaner.state.floatbank8_c_level                                              0.034049   \n",
       "primary_cleaner.state.floatbank8_d_air                                                0.152663   \n",
       "primary_cleaner.state.floatbank8_d_level                                              0.020908   \n",
       "rougher.calculation.sulfate_to_au_concentrate                                         0.052319   \n",
       "rougher.calculation.floatbank10_sulfate_to_au_feed                                    0.117990   \n",
       "rougher.calculation.floatbank11_sulfate_to_au_feed                                    0.045303   \n",
       "rougher.calculation.au_pb_ratio                                                      -0.008129   \n",
       "rougher.input.feed_ag                                                                 0.088206   \n",
       "rougher.input.feed_pb                                                                 0.062852   \n",
       "rougher.input.feed_rate                                                              -0.170466   \n",
       "rougher.input.feed_size                                                              -0.055473   \n",
       "rougher.input.feed_sol                                                               -0.049532   \n",
       "rougher.input.feed_au                                                                 0.080644   \n",
       "rougher.input.floatbank10_sulfate                                                     0.023801   \n",
       "rougher.input.floatbank10_xanthate                                                   -0.197002   \n",
       "rougher.input.floatbank11_sulfate                                                    -0.015165   \n",
       "rougher.input.floatbank11_xanthate                                                   -0.184121   \n",
       "rougher.output.concentrate_ag                                                         0.005762   \n",
       "rougher.output.concentrate_pb                                                         0.003527   \n",
       "rougher.output.concentrate_sol                                                       -0.081880   \n",
       "rougher.output.concentrate_au                                                         0.046027   \n",
       "rougher.output.recovery                                                               0.002513   \n",
       "rougher.output.tail_ag                                                                0.172491   \n",
       "rougher.output.tail_pb                                                                0.056406   \n",
       "rougher.output.tail_sol                                                               0.025317   \n",
       "rougher.output.tail_au                                                                0.038313   \n",
       "rougher.state.floatbank10_a_air                                                       0.149235   \n",
       "rougher.state.floatbank10_a_level                                                     0.060214   \n",
       "rougher.state.floatbank10_b_air                                                       0.237821   \n",
       "rougher.state.floatbank10_b_level                                                     0.259066   \n",
       "rougher.state.floatbank10_c_air                                                       0.243438   \n",
       "rougher.state.floatbank10_c_level                                                     0.258526   \n",
       "rougher.state.floatbank10_d_air                                                       0.166461   \n",
       "rougher.state.floatbank10_d_level                                                     0.308949   \n",
       "rougher.state.floatbank10_e_air                                                       0.111340   \n",
       "rougher.state.floatbank10_e_level                                                     0.279722   \n",
       "rougher.state.floatbank10_f_air                                                       0.151650   \n",
       "rougher.state.floatbank10_f_level                                                     0.272284   \n",
       "secondary_cleaner.output.tail_ag                                                     -0.235773   \n",
       "secondary_cleaner.output.tail_pb                                                     -0.247511   \n",
       "secondary_cleaner.output.tail_sol                                                     0.072441   \n",
       "secondary_cleaner.output.tail_au                                                     -0.057393   \n",
       "secondary_cleaner.state.floatbank2_a_air                                              0.076534   \n",
       "secondary_cleaner.state.floatbank2_a_level                                            0.154843   \n",
       "secondary_cleaner.state.floatbank2_b_air                                              0.073439   \n",
       "secondary_cleaner.state.floatbank2_b_level                                            0.112952   \n",
       "secondary_cleaner.state.floatbank3_a_air                                              0.172236   \n",
       "secondary_cleaner.state.floatbank3_a_level                                            0.571458   \n",
       "secondary_cleaner.state.floatbank3_b_air                                              0.106592   \n",
       "secondary_cleaner.state.floatbank3_b_level                                            0.287212   \n",
       "secondary_cleaner.state.floatbank4_a_air                                              0.235740   \n",
       "secondary_cleaner.state.floatbank4_a_level                                            1.000000   \n",
       "secondary_cleaner.state.floatbank4_b_air                                              0.182030   \n",
       "secondary_cleaner.state.floatbank4_b_level                                            0.471440   \n",
       "secondary_cleaner.state.floatbank5_a_air                                              0.200858   \n",
       "secondary_cleaner.state.floatbank5_a_level                                            0.664757   \n",
       "secondary_cleaner.state.floatbank5_b_air                                              0.156490   \n",
       "secondary_cleaner.state.floatbank5_b_level                                            0.542585   \n",
       "secondary_cleaner.state.floatbank6_a_air                                              0.389748   \n",
       "secondary_cleaner.state.floatbank6_a_level                                            0.310106   \n",
       "\n",
       "                                                    secondary_cleaner.state.floatbank4_b_air  \\\n",
       "final.output.concentrate_ag                                                         0.080606   \n",
       "final.output.concentrate_pb                                                         0.105081   \n",
       "final.output.concentrate_sol                                                        0.042485   \n",
       "final.output.concentrate_au                                                        -0.039540   \n",
       "final.output.recovery                                                               0.238980   \n",
       "final.output.tail_ag                                                                0.228847   \n",
       "final.output.tail_pb                                                                0.191456   \n",
       "final.output.tail_sol                                                              -0.182318   \n",
       "final.output.tail_au                                                               -0.097827   \n",
       "primary_cleaner.input.sulfate                                                       0.122278   \n",
       "primary_cleaner.input.depressant                                                   -0.050049   \n",
       "primary_cleaner.input.feed_size                                                    -0.217228   \n",
       "primary_cleaner.input.xanthate                                                      0.046005   \n",
       "primary_cleaner.output.concentrate_ag                                               0.132350   \n",
       "primary_cleaner.output.concentrate_pb                                               0.111283   \n",
       "primary_cleaner.output.concentrate_sol                                             -0.064319   \n",
       "primary_cleaner.output.concentrate_au                                              -0.354226   \n",
       "primary_cleaner.output.tail_ag                                                      0.303585   \n",
       "primary_cleaner.output.tail_pb                                                      0.301740   \n",
       "primary_cleaner.output.tail_sol                                                    -0.063298   \n",
       "primary_cleaner.output.tail_au                                                     -0.304433   \n",
       "primary_cleaner.state.floatbank8_a_air                                              0.495260   \n",
       "primary_cleaner.state.floatbank8_a_level                                            0.037021   \n",
       "primary_cleaner.state.floatbank8_b_air                                              0.507868   \n",
       "primary_cleaner.state.floatbank8_b_level                                            0.014537   \n",
       "primary_cleaner.state.floatbank8_c_air                                              0.554005   \n",
       "primary_cleaner.state.floatbank8_c_level                                            0.036827   \n",
       "primary_cleaner.state.floatbank8_d_air                                              0.468235   \n",
       "primary_cleaner.state.floatbank8_d_level                                            0.015489   \n",
       "rougher.calculation.sulfate_to_au_concentrate                                       0.239183   \n",
       "rougher.calculation.floatbank10_sulfate_to_au_feed                                  0.020602   \n",
       "rougher.calculation.floatbank11_sulfate_to_au_feed                                 -0.062641   \n",
       "rougher.calculation.au_pb_ratio                                                    -0.237617   \n",
       "rougher.input.feed_ag                                                               0.142764   \n",
       "rougher.input.feed_pb                                                               0.240091   \n",
       "rougher.input.feed_rate                                                            -0.040931   \n",
       "rougher.input.feed_size                                                             0.100223   \n",
       "rougher.input.feed_sol                                                              0.128450   \n",
       "rougher.input.feed_au                                                               0.086866   \n",
       "rougher.input.floatbank10_sulfate                                                  -0.070799   \n",
       "rougher.input.floatbank10_xanthate                                                  0.013118   \n",
       "rougher.input.floatbank11_sulfate                                                  -0.113922   \n",
       "rougher.input.floatbank11_xanthate                                                  0.022238   \n",
       "rougher.output.concentrate_ag                                                       0.188364   \n",
       "rougher.output.concentrate_pb                                                       0.238093   \n",
       "rougher.output.concentrate_sol                                                     -0.023259   \n",
       "rougher.output.concentrate_au                                                      -0.181594   \n",
       "rougher.output.recovery                                                             0.394567   \n",
       "rougher.output.tail_ag                                                             -0.103886   \n",
       "rougher.output.tail_pb                                                             -0.252034   \n",
       "rougher.output.tail_sol                                                             0.127725   \n",
       "rougher.output.tail_au                                                             -0.325857   \n",
       "rougher.state.floatbank10_a_air                                                     0.482458   \n",
       "rougher.state.floatbank10_a_level                                                   0.399651   \n",
       "rougher.state.floatbank10_b_air                                                    -0.102283   \n",
       "rougher.state.floatbank10_b_level                                                  -0.015814   \n",
       "rougher.state.floatbank10_c_air                                                    -0.115556   \n",
       "rougher.state.floatbank10_c_level                                                  -0.010106   \n",
       "rougher.state.floatbank10_d_air                                                    -0.158011   \n",
       "rougher.state.floatbank10_d_level                                                   0.001976   \n",
       "rougher.state.floatbank10_e_air                                                    -0.072599   \n",
       "rougher.state.floatbank10_e_level                                                   0.005377   \n",
       "rougher.state.floatbank10_f_air                                                     0.025649   \n",
       "rougher.state.floatbank10_f_level                                                  -0.004401   \n",
       "secondary_cleaner.output.tail_ag                                                    0.147157   \n",
       "secondary_cleaner.output.tail_pb                                                    0.109734   \n",
       "secondary_cleaner.output.tail_sol                                                  -0.172976   \n",
       "secondary_cleaner.output.tail_au                                                   -0.178881   \n",
       "secondary_cleaner.state.floatbank2_a_air                                            0.585919   \n",
       "secondary_cleaner.state.floatbank2_a_level                                         -0.106414   \n",
       "secondary_cleaner.state.floatbank2_b_air                                            0.648554   \n",
       "secondary_cleaner.state.floatbank2_b_level                                         -0.042418   \n",
       "secondary_cleaner.state.floatbank3_a_air                                            0.687286   \n",
       "secondary_cleaner.state.floatbank3_a_level                                          0.126337   \n",
       "secondary_cleaner.state.floatbank3_b_air                                            0.565563   \n",
       "secondary_cleaner.state.floatbank3_b_level                                         -0.151820   \n",
       "secondary_cleaner.state.floatbank4_a_air                                            0.840637   \n",
       "secondary_cleaner.state.floatbank4_a_level                                          0.182030   \n",
       "secondary_cleaner.state.floatbank4_b_air                                            1.000000   \n",
       "secondary_cleaner.state.floatbank4_b_level                                          0.049242   \n",
       "secondary_cleaner.state.floatbank5_a_air                                            0.751498   \n",
       "secondary_cleaner.state.floatbank5_a_level                                          0.131784   \n",
       "secondary_cleaner.state.floatbank5_b_air                                            0.813928   \n",
       "secondary_cleaner.state.floatbank5_b_level                                          0.154738   \n",
       "secondary_cleaner.state.floatbank6_a_air                                            0.255248   \n",
       "secondary_cleaner.state.floatbank6_a_level                                         -0.066024   \n",
       "\n",
       "                                                    secondary_cleaner.state.floatbank4_b_level  \\\n",
       "final.output.concentrate_ag                                                          -0.087386   \n",
       "final.output.concentrate_pb                                                           0.165283   \n",
       "final.output.concentrate_sol                                                         -0.036590   \n",
       "final.output.concentrate_au                                                          -0.021376   \n",
       "final.output.recovery                                                                -0.102008   \n",
       "final.output.tail_ag                                                                 -0.276851   \n",
       "final.output.tail_pb                                                                  0.193111   \n",
       "final.output.tail_sol                                                                -0.002349   \n",
       "final.output.tail_au                                                                 -0.006514   \n",
       "primary_cleaner.input.sulfate                                                        -0.053913   \n",
       "primary_cleaner.input.depressant                                                     -0.234576   \n",
       "primary_cleaner.input.feed_size                                                      -0.071488   \n",
       "primary_cleaner.input.xanthate                                                       -0.180543   \n",
       "primary_cleaner.output.concentrate_ag                                                -0.113308   \n",
       "primary_cleaner.output.concentrate_pb                                                 0.147558   \n",
       "primary_cleaner.output.concentrate_sol                                               -0.257807   \n",
       "primary_cleaner.output.concentrate_au                                                -0.022444   \n",
       "primary_cleaner.output.tail_ag                                                       -0.318230   \n",
       "primary_cleaner.output.tail_pb                                                       -0.294682   \n",
       "primary_cleaner.output.tail_sol                                                       0.052443   \n",
       "primary_cleaner.output.tail_au                                                       -0.034896   \n",
       "primary_cleaner.state.floatbank8_a_air                                                0.186828   \n",
       "primary_cleaner.state.floatbank8_a_level                                              0.008897   \n",
       "primary_cleaner.state.floatbank8_b_air                                                0.147591   \n",
       "primary_cleaner.state.floatbank8_b_level                                             -0.042717   \n",
       "primary_cleaner.state.floatbank8_c_air                                                0.171408   \n",
       "primary_cleaner.state.floatbank8_c_level                                             -0.016236   \n",
       "primary_cleaner.state.floatbank8_d_air                                                0.144713   \n",
       "primary_cleaner.state.floatbank8_d_level                                             -0.020876   \n",
       "rougher.calculation.sulfate_to_au_concentrate                                         0.146874   \n",
       "rougher.calculation.floatbank10_sulfate_to_au_feed                                    0.433264   \n",
       "rougher.calculation.floatbank11_sulfate_to_au_feed                                    0.369204   \n",
       "rougher.calculation.au_pb_ratio                                                      -0.155751   \n",
       "rougher.input.feed_ag                                                                -0.164460   \n",
       "rougher.input.feed_pb                                                                 0.021364   \n",
       "rougher.input.feed_rate                                                              -0.094150   \n",
       "rougher.input.feed_size                                                               0.001583   \n",
       "rougher.input.feed_sol                                                                0.067288   \n",
       "rougher.input.feed_au                                                                -0.092102   \n",
       "rougher.input.floatbank10_sulfate                                                     0.370991   \n",
       "rougher.input.floatbank10_xanthate                                                   -0.268911   \n",
       "rougher.input.floatbank11_sulfate                                                     0.320429   \n",
       "rougher.input.floatbank11_xanthate                                                   -0.260109   \n",
       "rougher.output.concentrate_ag                                                        -0.200329   \n",
       "rougher.output.concentrate_pb                                                         0.144310   \n",
       "rougher.output.concentrate_sol                                                        0.003328   \n",
       "rougher.output.concentrate_au                                                        -0.019809   \n",
       "rougher.output.recovery                                                              -0.083329   \n",
       "rougher.output.tail_ag                                                               -0.037718   \n",
       "rougher.output.tail_pb                                                                0.091718   \n",
       "rougher.output.tail_sol                                                              -0.003303   \n",
       "rougher.output.tail_au                                                               -0.037280   \n",
       "rougher.state.floatbank10_a_air                                                      -0.040019   \n",
       "rougher.state.floatbank10_a_level                                                     0.243163   \n",
       "rougher.state.floatbank10_b_air                                                       0.137159   \n",
       "rougher.state.floatbank10_b_level                                                     0.251016   \n",
       "rougher.state.floatbank10_c_air                                                       0.152110   \n",
       "rougher.state.floatbank10_c_level                                                     0.262427   \n",
       "rougher.state.floatbank10_d_air                                                       0.074088   \n",
       "rougher.state.floatbank10_d_level                                                     0.285720   \n",
       "rougher.state.floatbank10_e_air                                                       0.011808   \n",
       "rougher.state.floatbank10_e_level                                                     0.281760   \n",
       "rougher.state.floatbank10_f_air                                                       0.087040   \n",
       "rougher.state.floatbank10_f_level                                                     0.257637   \n",
       "secondary_cleaner.output.tail_ag                                                     -0.085246   \n",
       "secondary_cleaner.output.tail_pb                                                      0.031902   \n",
       "secondary_cleaner.output.tail_sol                                                    -0.217219   \n",
       "secondary_cleaner.output.tail_au                                                      0.033637   \n",
       "secondary_cleaner.state.floatbank2_a_air                                              0.004671   \n",
       "secondary_cleaner.state.floatbank2_a_level                                            0.042835   \n",
       "secondary_cleaner.state.floatbank2_b_air                                             -0.091179   \n",
       "secondary_cleaner.state.floatbank2_b_level                                            0.053808   \n",
       "secondary_cleaner.state.floatbank3_a_air                                             -0.060608   \n",
       "secondary_cleaner.state.floatbank3_a_level                                            0.320528   \n",
       "secondary_cleaner.state.floatbank3_b_air                                             -0.148744   \n",
       "secondary_cleaner.state.floatbank3_b_level                                            0.134492   \n",
       "secondary_cleaner.state.floatbank4_a_air                                              0.132908   \n",
       "secondary_cleaner.state.floatbank4_a_level                                            0.471440   \n",
       "secondary_cleaner.state.floatbank4_b_air                                              0.049242   \n",
       "secondary_cleaner.state.floatbank4_b_level                                            1.000000   \n",
       "secondary_cleaner.state.floatbank5_a_air                                              0.161232   \n",
       "secondary_cleaner.state.floatbank5_a_level                                            0.398310   \n",
       "secondary_cleaner.state.floatbank5_b_air                                              0.109750   \n",
       "secondary_cleaner.state.floatbank5_b_level                                            0.337146   \n",
       "secondary_cleaner.state.floatbank6_a_air                                              0.072910   \n",
       "secondary_cleaner.state.floatbank6_a_level                                            0.212146   \n",
       "\n",
       "                                                    secondary_cleaner.state.floatbank5_a_air  \\\n",
       "final.output.concentrate_ag                                                        -0.019289   \n",
       "final.output.concentrate_pb                                                         0.174043   \n",
       "final.output.concentrate_sol                                                       -0.038024   \n",
       "final.output.concentrate_au                                                        -0.034420   \n",
       "final.output.recovery                                                               0.081991   \n",
       "final.output.tail_ag                                                               -0.027818   \n",
       "final.output.tail_pb                                                                0.130399   \n",
       "final.output.tail_sol                                                              -0.250519   \n",
       "final.output.tail_au                                                               -0.226556   \n",
       "primary_cleaner.input.sulfate                                                      -0.116529   \n",
       "primary_cleaner.input.depressant                                                   -0.198854   \n",
       "primary_cleaner.input.feed_size                                                    -0.211150   \n",
       "primary_cleaner.input.xanthate                                                     -0.142396   \n",
       "primary_cleaner.output.concentrate_ag                                              -0.072413   \n",
       "primary_cleaner.output.concentrate_pb                                               0.041824   \n",
       "primary_cleaner.output.concentrate_sol                                             -0.288051   \n",
       "primary_cleaner.output.concentrate_au                                              -0.173395   \n",
       "primary_cleaner.output.tail_ag                                                      0.098230   \n",
       "primary_cleaner.output.tail_pb                                                      0.071249   \n",
       "primary_cleaner.output.tail_sol                                                    -0.189185   \n",
       "primary_cleaner.output.tail_au                                                     -0.333486   \n",
       "primary_cleaner.state.floatbank8_a_air                                              0.593014   \n",
       "primary_cleaner.state.floatbank8_a_level                                            0.022643   \n",
       "primary_cleaner.state.floatbank8_b_air                                              0.587309   \n",
       "primary_cleaner.state.floatbank8_b_level                                            0.011717   \n",
       "primary_cleaner.state.floatbank8_c_air                                              0.626433   \n",
       "primary_cleaner.state.floatbank8_c_level                                            0.029627   \n",
       "primary_cleaner.state.floatbank8_d_air                                              0.467691   \n",
       "primary_cleaner.state.floatbank8_d_level                                            0.042257   \n",
       "rougher.calculation.sulfate_to_au_concentrate                                       0.156666   \n",
       "rougher.calculation.floatbank10_sulfate_to_au_feed                                  0.149550   \n",
       "rougher.calculation.floatbank11_sulfate_to_au_feed                                  0.078120   \n",
       "rougher.calculation.au_pb_ratio                                                    -0.292955   \n",
       "rougher.input.feed_ag                                                              -0.089815   \n",
       "rougher.input.feed_pb                                                               0.078535   \n",
       "rougher.input.feed_rate                                                            -0.101364   \n",
       "rougher.input.feed_size                                                             0.043683   \n",
       "rougher.input.feed_sol                                                              0.022621   \n",
       "rougher.input.feed_au                                                              -0.168458   \n",
       "rougher.input.floatbank10_sulfate                                                  -0.074111   \n",
       "rougher.input.floatbank10_xanthate                                                 -0.197158   \n",
       "rougher.input.floatbank11_sulfate                                                  -0.115716   \n",
       "rougher.input.floatbank11_xanthate                                                 -0.192525   \n",
       "rougher.output.concentrate_ag                                                      -0.009702   \n",
       "rougher.output.concentrate_pb                                                       0.236066   \n",
       "rougher.output.concentrate_sol                                                     -0.153622   \n",
       "rougher.output.concentrate_au                                                      -0.195457   \n",
       "rougher.output.recovery                                                             0.181282   \n",
       "rougher.output.tail_ag                                                             -0.099681   \n",
       "rougher.output.tail_pb                                                             -0.202221   \n",
       "rougher.output.tail_sol                                                             0.087252   \n",
       "rougher.output.tail_au                                                             -0.326973   \n",
       "rougher.state.floatbank10_a_air                                                     0.367505   \n",
       "rougher.state.floatbank10_a_level                                                   0.368397   \n",
       "rougher.state.floatbank10_b_air                                                     0.057452   \n",
       "rougher.state.floatbank10_b_level                                                   0.113106   \n",
       "rougher.state.floatbank10_c_air                                                     0.042631   \n",
       "rougher.state.floatbank10_c_level                                                   0.122456   \n",
       "rougher.state.floatbank10_d_air                                                     0.027731   \n",
       "rougher.state.floatbank10_d_level                                                   0.132340   \n",
       "rougher.state.floatbank10_e_air                                                     0.054473   \n",
       "rougher.state.floatbank10_e_level                                                   0.133936   \n",
       "rougher.state.floatbank10_f_air                                                     0.175835   \n",
       "rougher.state.floatbank10_f_level                                                   0.135197   \n",
       "secondary_cleaner.output.tail_ag                                                    0.007646   \n",
       "secondary_cleaner.output.tail_pb                                                    0.085876   \n",
       "secondary_cleaner.output.tail_sol                                                  -0.192019   \n",
       "secondary_cleaner.output.tail_au                                                   -0.214404   \n",
       "secondary_cleaner.state.floatbank2_a_air                                            0.596029   \n",
       "secondary_cleaner.state.floatbank2_a_level                                         -0.081972   \n",
       "secondary_cleaner.state.floatbank2_b_air                                            0.554045   \n",
       "secondary_cleaner.state.floatbank2_b_level                                         -0.032213   \n",
       "secondary_cleaner.state.floatbank3_a_air                                            0.675515   \n",
       "secondary_cleaner.state.floatbank3_a_level                                          0.128552   \n",
       "secondary_cleaner.state.floatbank3_b_air                                            0.474047   \n",
       "secondary_cleaner.state.floatbank3_b_level                                         -0.124382   \n",
       "secondary_cleaner.state.floatbank4_a_air                                            0.760354   \n",
       "secondary_cleaner.state.floatbank4_a_level                                          0.200858   \n",
       "secondary_cleaner.state.floatbank4_b_air                                            0.751498   \n",
       "secondary_cleaner.state.floatbank4_b_level                                          0.161232   \n",
       "secondary_cleaner.state.floatbank5_a_air                                            1.000000   \n",
       "secondary_cleaner.state.floatbank5_a_level                                          0.142005   \n",
       "secondary_cleaner.state.floatbank5_b_air                                            0.885098   \n",
       "secondary_cleaner.state.floatbank5_b_level                                          0.152725   \n",
       "secondary_cleaner.state.floatbank6_a_air                                            0.389792   \n",
       "secondary_cleaner.state.floatbank6_a_level                                         -0.028690   \n",
       "\n",
       "                                                    secondary_cleaner.state.floatbank5_a_level  \\\n",
       "final.output.concentrate_ag                                                           0.117634   \n",
       "final.output.concentrate_pb                                                           0.010493   \n",
       "final.output.concentrate_sol                                                          0.118013   \n",
       "final.output.concentrate_au                                                          -0.095931   \n",
       "final.output.recovery                                                                 0.008575   \n",
       "final.output.tail_ag                                                                 -0.012373   \n",
       "final.output.tail_pb                                                                  0.052937   \n",
       "final.output.tail_sol                                                                -0.032610   \n",
       "final.output.tail_au                                                                  0.072687   \n",
       "primary_cleaner.input.sulfate                                                        -0.052914   \n",
       "primary_cleaner.input.depressant                                                     -0.092412   \n",
       "primary_cleaner.input.feed_size                                                       0.078061   \n",
       "primary_cleaner.input.xanthate                                                       -0.195555   \n",
       "primary_cleaner.output.concentrate_ag                                                 0.000134   \n",
       "primary_cleaner.output.concentrate_pb                                                -0.075113   \n",
       "primary_cleaner.output.concentrate_sol                                               -0.101855   \n",
       "primary_cleaner.output.concentrate_au                                                -0.026942   \n",
       "primary_cleaner.output.tail_ag                                                       -0.189042   \n",
       "primary_cleaner.output.tail_pb                                                       -0.210306   \n",
       "primary_cleaner.output.tail_sol                                                       0.076529   \n",
       "primary_cleaner.output.tail_au                                                        0.081831   \n",
       "primary_cleaner.state.floatbank8_a_air                                                0.258042   \n",
       "primary_cleaner.state.floatbank8_a_level                                              0.135965   \n",
       "primary_cleaner.state.floatbank8_b_air                                                0.264092   \n",
       "primary_cleaner.state.floatbank8_b_level                                             -0.020818   \n",
       "primary_cleaner.state.floatbank8_c_air                                                0.246453   \n",
       "primary_cleaner.state.floatbank8_c_level                                              0.059172   \n",
       "primary_cleaner.state.floatbank8_d_air                                                0.161100   \n",
       "primary_cleaner.state.floatbank8_d_level                                              0.023440   \n",
       "rougher.calculation.sulfate_to_au_concentrate                                         0.036120   \n",
       "rougher.calculation.floatbank10_sulfate_to_au_feed                                    0.089407   \n",
       "rougher.calculation.floatbank11_sulfate_to_au_feed                                    0.024591   \n",
       "rougher.calculation.au_pb_ratio                                                       0.020836   \n",
       "rougher.input.feed_ag                                                                 0.087117   \n",
       "rougher.input.feed_pb                                                                 0.036740   \n",
       "rougher.input.feed_rate                                                              -0.170257   \n",
       "rougher.input.feed_size                                                              -0.053855   \n",
       "rougher.input.feed_sol                                                               -0.057893   \n",
       "rougher.input.feed_au                                                                 0.074432   \n",
       "rougher.input.floatbank10_sulfate                                                     0.001200   \n",
       "rougher.input.floatbank10_xanthate                                                   -0.173801   \n",
       "rougher.input.floatbank11_sulfate                                                    -0.033673   \n",
       "rougher.input.floatbank11_xanthate                                                   -0.160321   \n",
       "rougher.output.concentrate_ag                                                         0.011426   \n",
       "rougher.output.concentrate_pb                                                        -0.019661   \n",
       "rougher.output.concentrate_sol                                                       -0.101947   \n",
       "rougher.output.concentrate_au                                                         0.045940   \n",
       "rougher.output.recovery                                                              -0.007193   \n",
       "rougher.output.tail_ag                                                                0.174938   \n",
       "rougher.output.tail_pb                                                                0.065907   \n",
       "rougher.output.tail_sol                                                               0.037498   \n",
       "rougher.output.tail_au                                                                0.053398   \n",
       "rougher.state.floatbank10_a_air                                                       0.118839   \n",
       "rougher.state.floatbank10_a_level                                                     0.004543   \n",
       "rougher.state.floatbank10_b_air                                                       0.263740   \n",
       "rougher.state.floatbank10_b_level                                                     0.276307   \n",
       "rougher.state.floatbank10_c_air                                                       0.271699   \n",
       "rougher.state.floatbank10_c_level                                                     0.269858   \n",
       "rougher.state.floatbank10_d_air                                                       0.187383   \n",
       "rougher.state.floatbank10_d_level                                                     0.365733   \n",
       "rougher.state.floatbank10_e_air                                                       0.148285   \n",
       "rougher.state.floatbank10_e_level                                                     0.328737   \n",
       "rougher.state.floatbank10_f_air                                                       0.170133   \n",
       "rougher.state.floatbank10_f_level                                                     0.300288   \n",
       "secondary_cleaner.output.tail_ag                                                     -0.260007   \n",
       "secondary_cleaner.output.tail_pb                                                     -0.262886   \n",
       "secondary_cleaner.output.tail_sol                                                     0.080079   \n",
       "secondary_cleaner.output.tail_au                                                     -0.041036   \n",
       "secondary_cleaner.state.floatbank2_a_air                                              0.033822   \n",
       "secondary_cleaner.state.floatbank2_a_level                                            0.169523   \n",
       "secondary_cleaner.state.floatbank2_b_air                                              0.032872   \n",
       "secondary_cleaner.state.floatbank2_b_level                                            0.136117   \n",
       "secondary_cleaner.state.floatbank3_a_air                                              0.116850   \n",
       "secondary_cleaner.state.floatbank3_a_level                                            0.567720   \n",
       "secondary_cleaner.state.floatbank3_b_air                                              0.077856   \n",
       "secondary_cleaner.state.floatbank3_b_level                                            0.334498   \n",
       "secondary_cleaner.state.floatbank4_a_air                                              0.184450   \n",
       "secondary_cleaner.state.floatbank4_a_level                                            0.664757   \n",
       "secondary_cleaner.state.floatbank4_b_air                                              0.131784   \n",
       "secondary_cleaner.state.floatbank4_b_level                                            0.398310   \n",
       "secondary_cleaner.state.floatbank5_a_air                                              0.142005   \n",
       "secondary_cleaner.state.floatbank5_a_level                                            1.000000   \n",
       "secondary_cleaner.state.floatbank5_b_air                                              0.100559   \n",
       "secondary_cleaner.state.floatbank5_b_level                                            0.649676   \n",
       "secondary_cleaner.state.floatbank6_a_air                                              0.368563   \n",
       "secondary_cleaner.state.floatbank6_a_level                                            0.420568   \n",
       "\n",
       "                                                    secondary_cleaner.state.floatbank5_b_air  \\\n",
       "final.output.concentrate_ag                                                        -0.026817   \n",
       "final.output.concentrate_pb                                                         0.187575   \n",
       "final.output.concentrate_sol                                                       -0.044056   \n",
       "final.output.concentrate_au                                                        -0.029534   \n",
       "final.output.recovery                                                               0.070459   \n",
       "final.output.tail_ag                                                                0.005650   \n",
       "final.output.tail_pb                                                                0.148369   \n",
       "final.output.tail_sol                                                              -0.205337   \n",
       "final.output.tail_au                                                               -0.179644   \n",
       "primary_cleaner.input.sulfate                                                      -0.059648   \n",
       "primary_cleaner.input.depressant                                                   -0.144113   \n",
       "primary_cleaner.input.feed_size                                                    -0.238198   \n",
       "primary_cleaner.input.xanthate                                                     -0.116119   \n",
       "primary_cleaner.output.concentrate_ag                                              -0.057117   \n",
       "primary_cleaner.output.concentrate_pb                                               0.019532   \n",
       "primary_cleaner.output.concentrate_sol                                             -0.249871   \n",
       "primary_cleaner.output.concentrate_au                                              -0.191647   \n",
       "primary_cleaner.output.tail_ag                                                      0.106369   \n",
       "primary_cleaner.output.tail_pb                                                      0.093118   \n",
       "primary_cleaner.output.tail_sol                                                    -0.176003   \n",
       "primary_cleaner.output.tail_au                                                     -0.346567   \n",
       "primary_cleaner.state.floatbank8_a_air                                              0.536579   \n",
       "primary_cleaner.state.floatbank8_a_level                                            0.036082   \n",
       "primary_cleaner.state.floatbank8_b_air                                              0.537828   \n",
       "primary_cleaner.state.floatbank8_b_level                                            0.028323   \n",
       "primary_cleaner.state.floatbank8_c_air                                              0.616104   \n",
       "primary_cleaner.state.floatbank8_c_level                                            0.040579   \n",
       "primary_cleaner.state.floatbank8_d_air                                              0.472847   \n",
       "primary_cleaner.state.floatbank8_d_level                                            0.066325   \n",
       "rougher.calculation.sulfate_to_au_concentrate                                       0.227958   \n",
       "rougher.calculation.floatbank10_sulfate_to_au_feed                                  0.172048   \n",
       "rougher.calculation.floatbank11_sulfate_to_au_feed                                  0.100259   \n",
       "rougher.calculation.au_pb_ratio                                                    -0.273180   \n",
       "rougher.input.feed_ag                                                              -0.072977   \n",
       "rougher.input.feed_pb                                                               0.102607   \n",
       "rougher.input.feed_rate                                                            -0.109993   \n",
       "rougher.input.feed_size                                                            -0.011644   \n",
       "rougher.input.feed_sol                                                              0.017428   \n",
       "rougher.input.feed_au                                                              -0.127423   \n",
       "rougher.input.floatbank10_sulfate                                                  -0.039502   \n",
       "rougher.input.floatbank10_xanthate                                                 -0.151810   \n",
       "rougher.input.floatbank11_sulfate                                                  -0.082519   \n",
       "rougher.input.floatbank11_xanthate                                                 -0.140725   \n",
       "rougher.output.concentrate_ag                                                      -0.006363   \n",
       "rougher.output.concentrate_pb                                                       0.262444   \n",
       "rougher.output.concentrate_sol                                                     -0.117332   \n",
       "rougher.output.concentrate_au                                                      -0.192624   \n",
       "rougher.output.recovery                                                             0.189801   \n",
       "rougher.output.tail_ag                                                             -0.083874   \n",
       "rougher.output.tail_pb                                                             -0.206577   \n",
       "rougher.output.tail_sol                                                             0.064365   \n",
       "rougher.output.tail_au                                                             -0.300196   \n",
       "rougher.state.floatbank10_a_air                                                     0.345162   \n",
       "rougher.state.floatbank10_a_level                                                   0.377775   \n",
       "rougher.state.floatbank10_b_air                                                     0.042197   \n",
       "rougher.state.floatbank10_b_level                                                   0.070649   \n",
       "rougher.state.floatbank10_c_air                                                     0.039851   \n",
       "rougher.state.floatbank10_c_level                                                   0.074669   \n",
       "rougher.state.floatbank10_d_air                                                     0.026908   \n",
       "rougher.state.floatbank10_d_level                                                   0.083153   \n",
       "rougher.state.floatbank10_e_air                                                     0.052609   \n",
       "rougher.state.floatbank10_e_level                                                   0.088729   \n",
       "rougher.state.floatbank10_f_air                                                     0.204693   \n",
       "rougher.state.floatbank10_f_level                                                   0.091308   \n",
       "secondary_cleaner.output.tail_ag                                                    0.022036   \n",
       "secondary_cleaner.output.tail_pb                                                    0.094618   \n",
       "secondary_cleaner.output.tail_sol                                                  -0.165841   \n",
       "secondary_cleaner.output.tail_au                                                   -0.232402   \n",
       "secondary_cleaner.state.floatbank2_a_air                                            0.610873   \n",
       "secondary_cleaner.state.floatbank2_a_level                                         -0.107784   \n",
       "secondary_cleaner.state.floatbank2_b_air                                            0.623075   \n",
       "secondary_cleaner.state.floatbank2_b_level                                         -0.048050   \n",
       "secondary_cleaner.state.floatbank3_a_air                                            0.696546   \n",
       "secondary_cleaner.state.floatbank3_a_level                                          0.094059   \n",
       "secondary_cleaner.state.floatbank3_b_air                                            0.591186   \n",
       "secondary_cleaner.state.floatbank3_b_level                                         -0.166159   \n",
       "secondary_cleaner.state.floatbank4_a_air                                            0.706942   \n",
       "secondary_cleaner.state.floatbank4_a_level                                          0.156490   \n",
       "secondary_cleaner.state.floatbank4_b_air                                            0.813928   \n",
       "secondary_cleaner.state.floatbank4_b_level                                          0.109750   \n",
       "secondary_cleaner.state.floatbank5_a_air                                            0.885098   \n",
       "secondary_cleaner.state.floatbank5_a_level                                          0.100559   \n",
       "secondary_cleaner.state.floatbank5_b_air                                            1.000000   \n",
       "secondary_cleaner.state.floatbank5_b_level                                          0.109756   \n",
       "secondary_cleaner.state.floatbank6_a_air                                            0.365477   \n",
       "secondary_cleaner.state.floatbank6_a_level                                         -0.019739   \n",
       "\n",
       "                                                    secondary_cleaner.state.floatbank5_b_level  \\\n",
       "final.output.concentrate_ag                                                           0.135991   \n",
       "final.output.concentrate_pb                                                          -0.011836   \n",
       "final.output.concentrate_sol                                                          0.140756   \n",
       "final.output.concentrate_au                                                          -0.109506   \n",
       "final.output.recovery                                                                 0.009833   \n",
       "final.output.tail_ag                                                                  0.007290   \n",
       "final.output.tail_pb                                                                  0.057651   \n",
       "final.output.tail_sol                                                                -0.066513   \n",
       "final.output.tail_au                                                                  0.078652   \n",
       "primary_cleaner.input.sulfate                                                        -0.054708   \n",
       "primary_cleaner.input.depressant                                                     -0.085704   \n",
       "primary_cleaner.input.feed_size                                                       0.068870   \n",
       "primary_cleaner.input.xanthate                                                       -0.190290   \n",
       "primary_cleaner.output.concentrate_ag                                                 0.009141   \n",
       "primary_cleaner.output.concentrate_pb                                                -0.083682   \n",
       "primary_cleaner.output.concentrate_sol                                               -0.102781   \n",
       "primary_cleaner.output.concentrate_au                                                -0.042640   \n",
       "primary_cleaner.output.tail_ag                                                       -0.177132   \n",
       "primary_cleaner.output.tail_pb                                                       -0.198699   \n",
       "primary_cleaner.output.tail_sol                                                       0.093580   \n",
       "primary_cleaner.output.tail_au                                                        0.072699   \n",
       "primary_cleaner.state.floatbank8_a_air                                                0.247511   \n",
       "primary_cleaner.state.floatbank8_a_level                                              0.097836   \n",
       "primary_cleaner.state.floatbank8_b_air                                                0.263118   \n",
       "primary_cleaner.state.floatbank8_b_level                                              0.009660   \n",
       "primary_cleaner.state.floatbank8_c_air                                                0.243347   \n",
       "primary_cleaner.state.floatbank8_c_level                                              0.049052   \n",
       "primary_cleaner.state.floatbank8_d_air                                                0.145052   \n",
       "primary_cleaner.state.floatbank8_d_level                                              0.015181   \n",
       "rougher.calculation.sulfate_to_au_concentrate                                         0.022305   \n",
       "rougher.calculation.floatbank10_sulfate_to_au_feed                                    0.082067   \n",
       "rougher.calculation.floatbank11_sulfate_to_au_feed                                    0.018229   \n",
       "rougher.calculation.au_pb_ratio                                                       0.032416   \n",
       "rougher.input.feed_ag                                                                 0.099107   \n",
       "rougher.input.feed_pb                                                                 0.035321   \n",
       "rougher.input.feed_rate                                                              -0.205024   \n",
       "rougher.input.feed_size                                                              -0.085563   \n",
       "rougher.input.feed_sol                                                               -0.077091   \n",
       "rougher.input.feed_au                                                                 0.084303   \n",
       "rougher.input.floatbank10_sulfate                                                    -0.019003   \n",
       "rougher.input.floatbank10_xanthate                                                   -0.169781   \n",
       "rougher.input.floatbank11_sulfate                                                    -0.051950   \n",
       "rougher.input.floatbank11_xanthate                                                   -0.157230   \n",
       "rougher.output.concentrate_ag                                                         0.029322   \n",
       "rougher.output.concentrate_pb                                                        -0.029682   \n",
       "rougher.output.concentrate_sol                                                       -0.113286   \n",
       "rougher.output.concentrate_au                                                         0.048728   \n",
       "rougher.output.recovery                                                               0.006123   \n",
       "rougher.output.tail_ag                                                                0.183604   \n",
       "rougher.output.tail_pb                                                                0.040606   \n",
       "rougher.output.tail_sol                                                               0.027285   \n",
       "rougher.output.tail_au                                                                0.053780   \n",
       "rougher.state.floatbank10_a_air                                                       0.110299   \n",
       "rougher.state.floatbank10_a_level                                                    -0.010323   \n",
       "rougher.state.floatbank10_b_air                                                       0.269026   \n",
       "rougher.state.floatbank10_b_level                                                     0.270332   \n",
       "rougher.state.floatbank10_c_air                                                       0.277979   \n",
       "rougher.state.floatbank10_c_level                                                     0.275325   \n",
       "rougher.state.floatbank10_d_air                                                       0.201487   \n",
       "rougher.state.floatbank10_d_level                                                     0.323660   \n",
       "rougher.state.floatbank10_e_air                                                       0.158427   \n",
       "rougher.state.floatbank10_e_level                                                     0.304811   \n",
       "rougher.state.floatbank10_f_air                                                       0.171914   \n",
       "rougher.state.floatbank10_f_level                                                     0.282791   \n",
       "secondary_cleaner.output.tail_ag                                                     -0.259748   \n",
       "secondary_cleaner.output.tail_pb                                                     -0.279031   \n",
       "secondary_cleaner.output.tail_sol                                                     0.094048   \n",
       "secondary_cleaner.output.tail_au                                                     -0.042872   \n",
       "secondary_cleaner.state.floatbank2_a_air                                              0.042062   \n",
       "secondary_cleaner.state.floatbank2_a_level                                            0.110718   \n",
       "secondary_cleaner.state.floatbank2_b_air                                              0.046564   \n",
       "secondary_cleaner.state.floatbank2_b_level                                            0.113033   \n",
       "secondary_cleaner.state.floatbank3_a_air                                              0.137072   \n",
       "secondary_cleaner.state.floatbank3_a_level                                            0.499372   \n",
       "secondary_cleaner.state.floatbank3_b_air                                              0.099386   \n",
       "secondary_cleaner.state.floatbank3_b_level                                            0.286208   \n",
       "secondary_cleaner.state.floatbank4_a_air                                              0.200121   \n",
       "secondary_cleaner.state.floatbank4_a_level                                            0.542585   \n",
       "secondary_cleaner.state.floatbank4_b_air                                              0.154738   \n",
       "secondary_cleaner.state.floatbank4_b_level                                            0.337146   \n",
       "secondary_cleaner.state.floatbank5_a_air                                              0.152725   \n",
       "secondary_cleaner.state.floatbank5_a_level                                            0.649676   \n",
       "secondary_cleaner.state.floatbank5_b_air                                              0.109756   \n",
       "secondary_cleaner.state.floatbank5_b_level                                            1.000000   \n",
       "secondary_cleaner.state.floatbank6_a_air                                              0.372981   \n",
       "secondary_cleaner.state.floatbank6_a_level                                            0.284830   \n",
       "\n",
       "                                                    secondary_cleaner.state.floatbank6_a_air  \\\n",
       "final.output.concentrate_ag                                                         0.175653   \n",
       "final.output.concentrate_pb                                                        -0.057658   \n",
       "final.output.concentrate_sol                                                        0.285139   \n",
       "final.output.concentrate_au                                                        -0.179073   \n",
       "final.output.recovery                                                              -0.051076   \n",
       "final.output.tail_ag                                                               -0.036925   \n",
       "final.output.tail_pb                                                                0.012857   \n",
       "final.output.tail_sol                                                              -0.094998   \n",
       "final.output.tail_au                                                                0.091832   \n",
       "primary_cleaner.input.sulfate                                                      -0.172772   \n",
       "primary_cleaner.input.depressant                                                   -0.168232   \n",
       "primary_cleaner.input.feed_size                                                     0.139186   \n",
       "primary_cleaner.input.xanthate                                                     -0.254020   \n",
       "primary_cleaner.output.concentrate_ag                                               0.032903   \n",
       "primary_cleaner.output.concentrate_pb                                              -0.249349   \n",
       "primary_cleaner.output.concentrate_sol                                             -0.106193   \n",
       "primary_cleaner.output.concentrate_au                                              -0.016095   \n",
       "primary_cleaner.output.tail_ag                                                     -0.323913   \n",
       "primary_cleaner.output.tail_pb                                                     -0.370150   \n",
       "primary_cleaner.output.tail_sol                                                     0.126802   \n",
       "primary_cleaner.output.tail_au                                                      0.078901   \n",
       "primary_cleaner.state.floatbank8_a_air                                              0.338016   \n",
       "primary_cleaner.state.floatbank8_a_level                                            0.058976   \n",
       "primary_cleaner.state.floatbank8_b_air                                              0.367790   \n",
       "primary_cleaner.state.floatbank8_b_level                                            0.078511   \n",
       "primary_cleaner.state.floatbank8_c_air                                              0.348013   \n",
       "primary_cleaner.state.floatbank8_c_level                                            0.082650   \n",
       "primary_cleaner.state.floatbank8_d_air                                              0.170148   \n",
       "primary_cleaner.state.floatbank8_d_level                                            0.058134   \n",
       "rougher.calculation.sulfate_to_au_concentrate                                       0.047102   \n",
       "rougher.calculation.floatbank10_sulfate_to_au_feed                                  0.131192   \n",
       "rougher.calculation.floatbank11_sulfate_to_au_feed                                  0.080482   \n",
       "rougher.calculation.au_pb_ratio                                                     0.133609   \n",
       "rougher.input.feed_ag                                                               0.073366   \n",
       "rougher.input.feed_pb                                                              -0.056428   \n",
       "rougher.input.feed_rate                                                            -0.372023   \n",
       "rougher.input.feed_size                                                            -0.316097   \n",
       "rougher.input.feed_sol                                                             -0.296568   \n",
       "rougher.input.feed_au                                                               0.041881   \n",
       "rougher.input.floatbank10_sulfate                                                  -0.139049   \n",
       "rougher.input.floatbank10_xanthate                                                 -0.339890   \n",
       "rougher.input.floatbank11_sulfate                                                  -0.164466   \n",
       "rougher.input.floatbank11_xanthate                                                 -0.333066   \n",
       "rougher.output.concentrate_ag                                                       0.082997   \n",
       "rougher.output.concentrate_pb                                                      -0.081791   \n",
       "rougher.output.concentrate_sol                                                     -0.115281   \n",
       "rougher.output.concentrate_au                                                       0.202531   \n",
       "rougher.output.recovery                                                            -0.134241   \n",
       "rougher.output.tail_ag                                                              0.375855   \n",
       "rougher.output.tail_pb                                                             -0.020038   \n",
       "rougher.output.tail_sol                                                            -0.019201   \n",
       "rougher.output.tail_au                                                              0.172328   \n",
       "rougher.state.floatbank10_a_air                                                    -0.046309   \n",
       "rougher.state.floatbank10_a_level                                                  -0.267727   \n",
       "rougher.state.floatbank10_b_air                                                     0.444641   \n",
       "rougher.state.floatbank10_b_level                                                   0.374271   \n",
       "rougher.state.floatbank10_c_air                                                     0.483862   \n",
       "rougher.state.floatbank10_c_level                                                   0.356833   \n",
       "rougher.state.floatbank10_d_air                                                     0.464642   \n",
       "rougher.state.floatbank10_d_level                                                   0.362249   \n",
       "rougher.state.floatbank10_e_air                                                     0.309866   \n",
       "rougher.state.floatbank10_e_level                                                   0.380050   \n",
       "rougher.state.floatbank10_f_air                                                     0.324381   \n",
       "rougher.state.floatbank10_f_level                                                   0.377656   \n",
       "secondary_cleaner.output.tail_ag                                                   -0.480255   \n",
       "secondary_cleaner.output.tail_pb                                                   -0.552077   \n",
       "secondary_cleaner.output.tail_sol                                                   0.372371   \n",
       "secondary_cleaner.output.tail_au                                                   -0.209097   \n",
       "secondary_cleaner.state.floatbank2_a_air                                            0.098225   \n",
       "secondary_cleaner.state.floatbank2_a_level                                          0.050271   \n",
       "secondary_cleaner.state.floatbank2_b_air                                            0.167376   \n",
       "secondary_cleaner.state.floatbank2_b_level                                          0.060155   \n",
       "secondary_cleaner.state.floatbank3_a_air                                            0.369321   \n",
       "secondary_cleaner.state.floatbank3_a_level                                          0.376814   \n",
       "secondary_cleaner.state.floatbank3_b_air                                            0.420233   \n",
       "secondary_cleaner.state.floatbank3_b_level                                          0.119813   \n",
       "secondary_cleaner.state.floatbank4_a_air                                            0.198894   \n",
       "secondary_cleaner.state.floatbank4_a_level                                          0.389748   \n",
       "secondary_cleaner.state.floatbank4_b_air                                            0.255248   \n",
       "secondary_cleaner.state.floatbank4_b_level                                          0.072910   \n",
       "secondary_cleaner.state.floatbank5_a_air                                            0.389792   \n",
       "secondary_cleaner.state.floatbank5_a_level                                          0.368563   \n",
       "secondary_cleaner.state.floatbank5_b_air                                            0.365477   \n",
       "secondary_cleaner.state.floatbank5_b_level                                          0.372981   \n",
       "secondary_cleaner.state.floatbank6_a_air                                            1.000000   \n",
       "secondary_cleaner.state.floatbank6_a_level                                          0.025731   \n",
       "\n",
       "                                                    secondary_cleaner.state.floatbank6_a_level  \n",
       "final.output.concentrate_ag                                                           0.028209  \n",
       "final.output.concentrate_pb                                                           0.041410  \n",
       "final.output.concentrate_sol                                                         -0.105192  \n",
       "final.output.concentrate_au                                                          -0.031732  \n",
       "final.output.recovery                                                                -0.024563  \n",
       "final.output.tail_ag                                                                 -0.084447  \n",
       "final.output.tail_pb                                                                 -0.085712  \n",
       "final.output.tail_sol                                                                 0.023733  \n",
       "final.output.tail_au                                                                 -0.040219  \n",
       "primary_cleaner.input.sulfate                                                        -0.057580  \n",
       "primary_cleaner.input.depressant                                                     -0.079389  \n",
       "primary_cleaner.input.feed_size                                                       0.024412  \n",
       "primary_cleaner.input.xanthate                                                       -0.017429  \n",
       "primary_cleaner.output.concentrate_ag                                                -0.043765  \n",
       "primary_cleaner.output.concentrate_pb                                                -0.045786  \n",
       "primary_cleaner.output.concentrate_sol                                               -0.080165  \n",
       "primary_cleaner.output.concentrate_au                                                 0.040543  \n",
       "primary_cleaner.output.tail_ag                                                       -0.113889  \n",
       "primary_cleaner.output.tail_pb                                                       -0.111927  \n",
       "primary_cleaner.output.tail_sol                                                      -0.002552  \n",
       "primary_cleaner.output.tail_au                                                        0.018980  \n",
       "primary_cleaner.state.floatbank8_a_air                                                0.027917  \n",
       "primary_cleaner.state.floatbank8_a_level                                              0.199960  \n",
       "primary_cleaner.state.floatbank8_b_air                                                0.019830  \n",
       "primary_cleaner.state.floatbank8_b_level                                             -0.021544  \n",
       "primary_cleaner.state.floatbank8_c_air                                                0.011768  \n",
       "primary_cleaner.state.floatbank8_c_level                                              0.055786  \n",
       "primary_cleaner.state.floatbank8_d_air                                               -0.010938  \n",
       "primary_cleaner.state.floatbank8_d_level                                              0.001804  \n",
       "rougher.calculation.sulfate_to_au_concentrate                                         0.003943  \n",
       "rougher.calculation.floatbank10_sulfate_to_au_feed                                    0.054880  \n",
       "rougher.calculation.floatbank11_sulfate_to_au_feed                                    0.048098  \n",
       "rougher.calculation.au_pb_ratio                                                       0.008863  \n",
       "rougher.input.feed_ag                                                                -0.059371  \n",
       "rougher.input.feed_pb                                                                -0.051108  \n",
       "rougher.input.feed_rate                                                               0.024536  \n",
       "rougher.input.feed_size                                                               0.041809  \n",
       "rougher.input.feed_sol                                                                0.007669  \n",
       "rougher.input.feed_au                                                                -0.066190  \n",
       "rougher.input.floatbank10_sulfate                                                     0.003943  \n",
       "rougher.input.floatbank10_xanthate                                                    0.013110  \n",
       "rougher.input.floatbank11_sulfate                                                     0.000236  \n",
       "rougher.input.floatbank11_xanthate                                                    0.015793  \n",
       "rougher.output.concentrate_ag                                                        -0.112524  \n",
       "rougher.output.concentrate_pb                                                        -0.029927  \n",
       "rougher.output.concentrate_sol                                                       -0.118563  \n",
       "rougher.output.concentrate_au                                                        -0.060206  \n",
       "rougher.output.recovery                                                              -0.037680  \n",
       "rougher.output.tail_ag                                                               -0.036597  \n",
       "rougher.output.tail_pb                                                                0.040034  \n",
       "rougher.output.tail_sol                                                               0.040676  \n",
       "rougher.output.tail_au                                                               -0.011135  \n",
       "rougher.state.floatbank10_a_air                                                       0.000171  \n",
       "rougher.state.floatbank10_a_level                                                     0.026410  \n",
       "rougher.state.floatbank10_b_air                                                       0.096650  \n",
       "rougher.state.floatbank10_b_level                                                     0.080376  \n",
       "rougher.state.floatbank10_c_air                                                       0.097904  \n",
       "rougher.state.floatbank10_c_level                                                     0.090902  \n",
       "rougher.state.floatbank10_d_air                                                       0.082867  \n",
       "rougher.state.floatbank10_d_level                                                     0.248866  \n",
       "rougher.state.floatbank10_e_air                                                       0.135243  \n",
       "rougher.state.floatbank10_e_level                                                     0.175042  \n",
       "rougher.state.floatbank10_f_air                                                       0.133287  \n",
       "rougher.state.floatbank10_f_level                                                     0.127549  \n",
       "secondary_cleaner.output.tail_ag                                                     -0.058209  \n",
       "secondary_cleaner.output.tail_pb                                                      0.001197  \n",
       "secondary_cleaner.output.tail_sol                                                    -0.036005  \n",
       "secondary_cleaner.output.tail_au                                                      0.044823  \n",
       "secondary_cleaner.state.floatbank2_a_air                                             -0.030024  \n",
       "secondary_cleaner.state.floatbank2_a_level                                            0.160008  \n",
       "secondary_cleaner.state.floatbank2_b_air                                             -0.053268  \n",
       "secondary_cleaner.state.floatbank2_b_level                                            0.116961  \n",
       "secondary_cleaner.state.floatbank3_a_air                                             -0.018131  \n",
       "secondary_cleaner.state.floatbank3_a_level                                            0.241016  \n",
       "secondary_cleaner.state.floatbank3_b_air                                             -0.023919  \n",
       "secondary_cleaner.state.floatbank3_b_level                                            0.240907  \n",
       "secondary_cleaner.state.floatbank4_a_air                                             -0.021104  \n",
       "secondary_cleaner.state.floatbank4_a_level                                            0.310106  \n",
       "secondary_cleaner.state.floatbank4_b_air                                             -0.066024  \n",
       "secondary_cleaner.state.floatbank4_b_level                                            0.212146  \n",
       "secondary_cleaner.state.floatbank5_a_air                                             -0.028690  \n",
       "secondary_cleaner.state.floatbank5_a_level                                            0.420568  \n",
       "secondary_cleaner.state.floatbank5_b_air                                             -0.019739  \n",
       "secondary_cleaner.state.floatbank5_b_level                                            0.284830  \n",
       "secondary_cleaner.state.floatbank6_a_air                                              0.025731  \n",
       "secondary_cleaner.state.floatbank6_a_level                                            1.000000  \n",
       "\n",
       "[86 rows x 86 columns]"
      ]
     },
     "execution_count": 16,
     "metadata": {},
     "output_type": "execute_result"
    }
   ],
   "source": [
    "corr_full = gold_recovery_full_new.corr(method='spearman')\n",
    "corr_full"
   ]
  },
  {
   "cell_type": "markdown",
   "metadata": {},
   "source": [
    "Так как идет в данной ситуации идет процесс производсва добычи и очистки золота из золотосодержащей руды, то многие стадии этого процесса взаимосвязаны между собой."
   ]
  },
  {
   "cell_type": "markdown",
   "metadata": {},
   "source": [
    "### Проведем проверку расчета эффективности обогащения"
   ]
  },
  {
   "cell_type": "markdown",
   "metadata": {},
   "source": [
    "Создадим выборку столбцов для расчета эффективности обогащения и MAE."
   ]
  },
  {
   "cell_type": "code",
   "execution_count": 17,
   "metadata": {},
   "outputs": [],
   "source": [
    "mae_recovery_columns = ['rougher.output.recovery', 'rougher.output.concentrate_au', 'rougher.input.feed_au', 'rougher.output.tail_au']"
   ]
  },
  {
   "cell_type": "markdown",
   "metadata": {},
   "source": [
    "Создадим тренировочную выборку."
   ]
  },
  {
   "cell_type": "code",
   "execution_count": 18,
   "metadata": {},
   "outputs": [],
   "source": [
    "mae_rougher_output_recovery = gold_recovery_train_new[mae_recovery_columns]"
   ]
  },
  {
   "cell_type": "markdown",
   "metadata": {},
   "source": [
    "Удалим строки со значением Nan, которые мешают при расчете MAE."
   ]
  },
  {
   "cell_type": "code",
   "execution_count": 19,
   "metadata": {},
   "outputs": [],
   "source": [
    "mae_rougher_output_recovery.dropna(inplace=True)"
   ]
  },
  {
   "cell_type": "markdown",
   "metadata": {},
   "source": [
    "Расчитаем MAE."
   ]
  },
  {
   "cell_type": "code",
   "execution_count": 20,
   "metadata": {},
   "outputs": [],
   "source": [
    "mae_rougher_output_recovery['mae_rougher_output_recovery'] = (mae_rougher_output_recovery['rougher.output.concentrate_au']*(mae_rougher_output_recovery['rougher.input.feed_au']-mae_rougher_output_recovery['rougher.output.tail_au'])) / (mae_rougher_output_recovery['rougher.input.feed_au']*(mae_rougher_output_recovery['rougher.output.concentrate_au']-mae_rougher_output_recovery['rougher.output.tail_au'])) * 100"
   ]
  },
  {
   "cell_type": "code",
   "execution_count": 21,
   "metadata": {},
   "outputs": [
    {
     "name": "stdout",
     "output_type": "stream",
     "text": [
      "MAE = 9.73512347450521e-15\n"
     ]
    }
   ],
   "source": [
    "print('MAE =', mean_absolute_error(mae_rougher_output_recovery['rougher.output.recovery'], mae_rougher_output_recovery['mae_rougher_output_recovery']))"
   ]
  },
  {
   "cell_type": "markdown",
   "metadata": {},
   "source": [
    "Величина MAE небольшая, а значит \"rougher.output.recovery\" расчитано верно."
   ]
  },
  {
   "cell_type": "markdown",
   "metadata": {},
   "source": [
    "### Проведем анализ признаков, отсутствующих в тестовой выборке"
   ]
  },
  {
   "cell_type": "markdown",
   "metadata": {},
   "source": [
    "В тестовой выборке отсутствуют признаки, которые согласно технологического процесса могут быть расчитаны только после получения финальных сплавов. Поэтому эти признаки не могут использоваться при обучении модели. Исключения это целевые призаки: final.output.recovery и rougher.output.recovery."
   ]
  },
  {
   "cell_type": "code",
   "execution_count": 22,
   "metadata": {},
   "outputs": [
    {
     "data": {
      "text/plain": [
       "{'final.output.concentrate_ag',\n",
       " 'final.output.concentrate_au',\n",
       " 'final.output.concentrate_pb',\n",
       " 'final.output.concentrate_sol',\n",
       " 'final.output.recovery',\n",
       " 'final.output.tail_ag',\n",
       " 'final.output.tail_au',\n",
       " 'final.output.tail_pb',\n",
       " 'final.output.tail_sol',\n",
       " 'primary_cleaner.output.concentrate_ag',\n",
       " 'primary_cleaner.output.concentrate_au',\n",
       " 'primary_cleaner.output.concentrate_pb',\n",
       " 'primary_cleaner.output.concentrate_sol',\n",
       " 'primary_cleaner.output.tail_ag',\n",
       " 'primary_cleaner.output.tail_au',\n",
       " 'primary_cleaner.output.tail_pb',\n",
       " 'primary_cleaner.output.tail_sol',\n",
       " 'rougher.calculation.au_pb_ratio',\n",
       " 'rougher.calculation.floatbank10_sulfate_to_au_feed',\n",
       " 'rougher.calculation.floatbank11_sulfate_to_au_feed',\n",
       " 'rougher.calculation.sulfate_to_au_concentrate',\n",
       " 'rougher.output.concentrate_ag',\n",
       " 'rougher.output.concentrate_au',\n",
       " 'rougher.output.concentrate_pb',\n",
       " 'rougher.output.concentrate_sol',\n",
       " 'rougher.output.recovery',\n",
       " 'rougher.output.tail_ag',\n",
       " 'rougher.output.tail_au',\n",
       " 'rougher.output.tail_pb',\n",
       " 'rougher.output.tail_sol',\n",
       " 'secondary_cleaner.output.tail_ag',\n",
       " 'secondary_cleaner.output.tail_au',\n",
       " 'secondary_cleaner.output.tail_pb',\n",
       " 'secondary_cleaner.output.tail_sol'}"
      ]
     },
     "execution_count": 22,
     "metadata": {},
     "output_type": "execute_result"
    }
   ],
   "source": [
    "del_signs = set(gold_recovery_train_new.columns) - set(gold_recovery_test_new.columns)\n",
    "del_signs"
   ]
  },
  {
   "cell_type": "markdown",
   "metadata": {},
   "source": [
    "### Предобработка данных"
   ]
  },
  {
   "cell_type": "markdown",
   "metadata": {},
   "source": [
    "Напишем функцию для заполнения Nan строк."
   ]
  },
  {
   "cell_type": "code",
   "execution_count": 23,
   "metadata": {},
   "outputs": [],
   "source": [
    "def fill_nan(df):\n",
    "    df = df.fillna(method = 'ffill')\n",
    "    return df"
   ]
  },
  {
   "cell_type": "markdown",
   "metadata": {},
   "source": [
    "Применим функцию для заполнения Nan строк в датасетах."
   ]
  },
  {
   "cell_type": "code",
   "execution_count": 24,
   "metadata": {},
   "outputs": [],
   "source": [
    "gold_recovery_train_new_clean = fill_nan(gold_recovery_train_new)\n",
    "gold_recovery_test_new_clean = fill_nan(gold_recovery_test_new)\n",
    "gold_recovery_full_new_clean= fill_nan(gold_recovery_full_new)"
   ]
  },
  {
   "cell_type": "markdown",
   "metadata": {},
   "source": [
    "Проверим на наличие Nan в датасетах."
   ]
  },
  {
   "cell_type": "code",
   "execution_count": 25,
   "metadata": {
    "scrolled": true
   },
   "outputs": [
    {
     "data": {
      "text/plain": [
       "date                                                  0\n",
       "final.output.concentrate_ag                           0\n",
       "final.output.concentrate_pb                           0\n",
       "final.output.concentrate_sol                          0\n",
       "final.output.concentrate_au                           0\n",
       "final.output.recovery                                 0\n",
       "final.output.tail_ag                                  0\n",
       "final.output.tail_pb                                  0\n",
       "final.output.tail_sol                                 0\n",
       "final.output.tail_au                                  0\n",
       "primary_cleaner.input.sulfate                         0\n",
       "primary_cleaner.input.depressant                      0\n",
       "primary_cleaner.input.feed_size                       0\n",
       "primary_cleaner.input.xanthate                        0\n",
       "primary_cleaner.output.concentrate_ag                 0\n",
       "primary_cleaner.output.concentrate_pb                 0\n",
       "primary_cleaner.output.concentrate_sol                0\n",
       "primary_cleaner.output.concentrate_au                 0\n",
       "primary_cleaner.output.tail_ag                        0\n",
       "primary_cleaner.output.tail_pb                        0\n",
       "primary_cleaner.output.tail_sol                       0\n",
       "primary_cleaner.output.tail_au                        0\n",
       "primary_cleaner.state.floatbank8_a_air                0\n",
       "primary_cleaner.state.floatbank8_a_level              0\n",
       "primary_cleaner.state.floatbank8_b_air                0\n",
       "primary_cleaner.state.floatbank8_b_level              0\n",
       "primary_cleaner.state.floatbank8_c_air                0\n",
       "primary_cleaner.state.floatbank8_c_level              0\n",
       "primary_cleaner.state.floatbank8_d_air                0\n",
       "primary_cleaner.state.floatbank8_d_level              0\n",
       "rougher.calculation.sulfate_to_au_concentrate         0\n",
       "rougher.calculation.floatbank10_sulfate_to_au_feed    0\n",
       "rougher.calculation.floatbank11_sulfate_to_au_feed    0\n",
       "rougher.calculation.au_pb_ratio                       0\n",
       "rougher.input.feed_ag                                 0\n",
       "rougher.input.feed_pb                                 0\n",
       "rougher.input.feed_rate                               0\n",
       "rougher.input.feed_size                               0\n",
       "rougher.input.feed_sol                                0\n",
       "rougher.input.feed_au                                 0\n",
       "rougher.input.floatbank10_sulfate                     0\n",
       "rougher.input.floatbank10_xanthate                    0\n",
       "rougher.input.floatbank11_sulfate                     0\n",
       "rougher.input.floatbank11_xanthate                    0\n",
       "rougher.output.concentrate_ag                         0\n",
       "rougher.output.concentrate_pb                         0\n",
       "rougher.output.concentrate_sol                        0\n",
       "rougher.output.concentrate_au                         0\n",
       "rougher.output.recovery                               0\n",
       "rougher.output.tail_ag                                0\n",
       "rougher.output.tail_pb                                0\n",
       "rougher.output.tail_sol                               0\n",
       "rougher.output.tail_au                                0\n",
       "rougher.state.floatbank10_a_air                       0\n",
       "rougher.state.floatbank10_a_level                     0\n",
       "rougher.state.floatbank10_b_air                       0\n",
       "rougher.state.floatbank10_b_level                     0\n",
       "rougher.state.floatbank10_c_air                       0\n",
       "rougher.state.floatbank10_c_level                     0\n",
       "rougher.state.floatbank10_d_air                       0\n",
       "rougher.state.floatbank10_d_level                     0\n",
       "rougher.state.floatbank10_e_air                       0\n",
       "rougher.state.floatbank10_e_level                     0\n",
       "rougher.state.floatbank10_f_air                       0\n",
       "rougher.state.floatbank10_f_level                     0\n",
       "secondary_cleaner.output.tail_ag                      0\n",
       "secondary_cleaner.output.tail_pb                      0\n",
       "secondary_cleaner.output.tail_sol                     0\n",
       "secondary_cleaner.output.tail_au                      0\n",
       "secondary_cleaner.state.floatbank2_a_air              0\n",
       "secondary_cleaner.state.floatbank2_a_level            0\n",
       "secondary_cleaner.state.floatbank2_b_air              0\n",
       "secondary_cleaner.state.floatbank2_b_level            0\n",
       "secondary_cleaner.state.floatbank3_a_air              0\n",
       "secondary_cleaner.state.floatbank3_a_level            0\n",
       "secondary_cleaner.state.floatbank3_b_air              0\n",
       "secondary_cleaner.state.floatbank3_b_level            0\n",
       "secondary_cleaner.state.floatbank4_a_air              0\n",
       "secondary_cleaner.state.floatbank4_a_level            0\n",
       "secondary_cleaner.state.floatbank4_b_air              0\n",
       "secondary_cleaner.state.floatbank4_b_level            0\n",
       "secondary_cleaner.state.floatbank5_a_air              0\n",
       "secondary_cleaner.state.floatbank5_a_level            0\n",
       "secondary_cleaner.state.floatbank5_b_air              0\n",
       "secondary_cleaner.state.floatbank5_b_level            0\n",
       "secondary_cleaner.state.floatbank6_a_air              0\n",
       "secondary_cleaner.state.floatbank6_a_level            0\n",
       "dtype: int64"
      ]
     },
     "execution_count": 25,
     "metadata": {},
     "output_type": "execute_result"
    }
   ],
   "source": [
    "gold_recovery_train_new_clean.isna().sum()"
   ]
  },
  {
   "cell_type": "code",
   "execution_count": 26,
   "metadata": {
    "scrolled": true
   },
   "outputs": [
    {
     "data": {
      "text/plain": [
       "date                                          0\n",
       "primary_cleaner.input.sulfate                 0\n",
       "primary_cleaner.input.depressant              0\n",
       "primary_cleaner.input.feed_size               0\n",
       "primary_cleaner.input.xanthate                0\n",
       "primary_cleaner.state.floatbank8_a_air        0\n",
       "primary_cleaner.state.floatbank8_a_level      0\n",
       "primary_cleaner.state.floatbank8_b_air        0\n",
       "primary_cleaner.state.floatbank8_b_level      0\n",
       "primary_cleaner.state.floatbank8_c_air        0\n",
       "primary_cleaner.state.floatbank8_c_level      0\n",
       "primary_cleaner.state.floatbank8_d_air        0\n",
       "primary_cleaner.state.floatbank8_d_level      0\n",
       "rougher.input.feed_ag                         0\n",
       "rougher.input.feed_pb                         0\n",
       "rougher.input.feed_rate                       0\n",
       "rougher.input.feed_size                       0\n",
       "rougher.input.feed_sol                        0\n",
       "rougher.input.feed_au                         0\n",
       "rougher.input.floatbank10_sulfate             0\n",
       "rougher.input.floatbank10_xanthate            0\n",
       "rougher.input.floatbank11_sulfate             0\n",
       "rougher.input.floatbank11_xanthate            0\n",
       "rougher.state.floatbank10_a_air               0\n",
       "rougher.state.floatbank10_a_level             0\n",
       "rougher.state.floatbank10_b_air               0\n",
       "rougher.state.floatbank10_b_level             0\n",
       "rougher.state.floatbank10_c_air               0\n",
       "rougher.state.floatbank10_c_level             0\n",
       "rougher.state.floatbank10_d_air               0\n",
       "rougher.state.floatbank10_d_level             0\n",
       "rougher.state.floatbank10_e_air               0\n",
       "rougher.state.floatbank10_e_level             0\n",
       "rougher.state.floatbank10_f_air               0\n",
       "rougher.state.floatbank10_f_level             0\n",
       "secondary_cleaner.state.floatbank2_a_air      0\n",
       "secondary_cleaner.state.floatbank2_a_level    0\n",
       "secondary_cleaner.state.floatbank2_b_air      0\n",
       "secondary_cleaner.state.floatbank2_b_level    0\n",
       "secondary_cleaner.state.floatbank3_a_air      0\n",
       "secondary_cleaner.state.floatbank3_a_level    0\n",
       "secondary_cleaner.state.floatbank3_b_air      0\n",
       "secondary_cleaner.state.floatbank3_b_level    0\n",
       "secondary_cleaner.state.floatbank4_a_air      0\n",
       "secondary_cleaner.state.floatbank4_a_level    0\n",
       "secondary_cleaner.state.floatbank4_b_air      0\n",
       "secondary_cleaner.state.floatbank4_b_level    0\n",
       "secondary_cleaner.state.floatbank5_a_air      0\n",
       "secondary_cleaner.state.floatbank5_a_level    0\n",
       "secondary_cleaner.state.floatbank5_b_air      0\n",
       "secondary_cleaner.state.floatbank5_b_level    0\n",
       "secondary_cleaner.state.floatbank6_a_air      0\n",
       "secondary_cleaner.state.floatbank6_a_level    0\n",
       "dtype: int64"
      ]
     },
     "execution_count": 26,
     "metadata": {},
     "output_type": "execute_result"
    }
   ],
   "source": [
    "gold_recovery_test_new_clean.isna().sum()"
   ]
  },
  {
   "cell_type": "code",
   "execution_count": 27,
   "metadata": {
    "scrolled": true
   },
   "outputs": [
    {
     "data": {
      "text/plain": [
       "date                                                  0\n",
       "final.output.concentrate_ag                           0\n",
       "final.output.concentrate_pb                           0\n",
       "final.output.concentrate_sol                          0\n",
       "final.output.concentrate_au                           0\n",
       "final.output.recovery                                 0\n",
       "final.output.tail_ag                                  0\n",
       "final.output.tail_pb                                  0\n",
       "final.output.tail_sol                                 0\n",
       "final.output.tail_au                                  0\n",
       "primary_cleaner.input.sulfate                         0\n",
       "primary_cleaner.input.depressant                      0\n",
       "primary_cleaner.input.feed_size                       0\n",
       "primary_cleaner.input.xanthate                        0\n",
       "primary_cleaner.output.concentrate_ag                 0\n",
       "primary_cleaner.output.concentrate_pb                 0\n",
       "primary_cleaner.output.concentrate_sol                0\n",
       "primary_cleaner.output.concentrate_au                 0\n",
       "primary_cleaner.output.tail_ag                        0\n",
       "primary_cleaner.output.tail_pb                        0\n",
       "primary_cleaner.output.tail_sol                       0\n",
       "primary_cleaner.output.tail_au                        0\n",
       "primary_cleaner.state.floatbank8_a_air                0\n",
       "primary_cleaner.state.floatbank8_a_level              0\n",
       "primary_cleaner.state.floatbank8_b_air                0\n",
       "primary_cleaner.state.floatbank8_b_level              0\n",
       "primary_cleaner.state.floatbank8_c_air                0\n",
       "primary_cleaner.state.floatbank8_c_level              0\n",
       "primary_cleaner.state.floatbank8_d_air                0\n",
       "primary_cleaner.state.floatbank8_d_level              0\n",
       "rougher.calculation.sulfate_to_au_concentrate         0\n",
       "rougher.calculation.floatbank10_sulfate_to_au_feed    0\n",
       "rougher.calculation.floatbank11_sulfate_to_au_feed    0\n",
       "rougher.calculation.au_pb_ratio                       0\n",
       "rougher.input.feed_ag                                 0\n",
       "rougher.input.feed_pb                                 0\n",
       "rougher.input.feed_rate                               0\n",
       "rougher.input.feed_size                               0\n",
       "rougher.input.feed_sol                                0\n",
       "rougher.input.feed_au                                 0\n",
       "rougher.input.floatbank10_sulfate                     0\n",
       "rougher.input.floatbank10_xanthate                    0\n",
       "rougher.input.floatbank11_sulfate                     0\n",
       "rougher.input.floatbank11_xanthate                    0\n",
       "rougher.output.concentrate_ag                         0\n",
       "rougher.output.concentrate_pb                         0\n",
       "rougher.output.concentrate_sol                        0\n",
       "rougher.output.concentrate_au                         0\n",
       "rougher.output.recovery                               0\n",
       "rougher.output.tail_ag                                0\n",
       "rougher.output.tail_pb                                0\n",
       "rougher.output.tail_sol                               0\n",
       "rougher.output.tail_au                                0\n",
       "rougher.state.floatbank10_a_air                       0\n",
       "rougher.state.floatbank10_a_level                     0\n",
       "rougher.state.floatbank10_b_air                       0\n",
       "rougher.state.floatbank10_b_level                     0\n",
       "rougher.state.floatbank10_c_air                       0\n",
       "rougher.state.floatbank10_c_level                     0\n",
       "rougher.state.floatbank10_d_air                       0\n",
       "rougher.state.floatbank10_d_level                     0\n",
       "rougher.state.floatbank10_e_air                       0\n",
       "rougher.state.floatbank10_e_level                     0\n",
       "rougher.state.floatbank10_f_air                       0\n",
       "rougher.state.floatbank10_f_level                     0\n",
       "secondary_cleaner.output.tail_ag                      0\n",
       "secondary_cleaner.output.tail_pb                      0\n",
       "secondary_cleaner.output.tail_sol                     0\n",
       "secondary_cleaner.output.tail_au                      0\n",
       "secondary_cleaner.state.floatbank2_a_air              0\n",
       "secondary_cleaner.state.floatbank2_a_level            0\n",
       "secondary_cleaner.state.floatbank2_b_air              0\n",
       "secondary_cleaner.state.floatbank2_b_level            0\n",
       "secondary_cleaner.state.floatbank3_a_air              0\n",
       "secondary_cleaner.state.floatbank3_a_level            0\n",
       "secondary_cleaner.state.floatbank3_b_air              0\n",
       "secondary_cleaner.state.floatbank3_b_level            0\n",
       "secondary_cleaner.state.floatbank4_a_air              0\n",
       "secondary_cleaner.state.floatbank4_a_level            0\n",
       "secondary_cleaner.state.floatbank4_b_air              0\n",
       "secondary_cleaner.state.floatbank4_b_level            0\n",
       "secondary_cleaner.state.floatbank5_a_air              0\n",
       "secondary_cleaner.state.floatbank5_a_level            0\n",
       "secondary_cleaner.state.floatbank5_b_air              0\n",
       "secondary_cleaner.state.floatbank5_b_level            0\n",
       "secondary_cleaner.state.floatbank6_a_air              0\n",
       "secondary_cleaner.state.floatbank6_a_level            0\n",
       "dtype: int64"
      ]
     },
     "execution_count": 27,
     "metadata": {},
     "output_type": "execute_result"
    }
   ],
   "source": [
    "gold_recovery_full_new_clean.isna().sum()"
   ]
  },
  {
   "cell_type": "markdown",
   "metadata": {},
   "source": [
    "Выведем размеры обучающей выборки, тестовой выборки и общего датасета."
   ]
  },
  {
   "cell_type": "code",
   "execution_count": 28,
   "metadata": {},
   "outputs": [
    {
     "data": {
      "text/plain": [
       "(14149, 87)"
      ]
     },
     "execution_count": 28,
     "metadata": {},
     "output_type": "execute_result"
    }
   ],
   "source": [
    "gold_recovery_train_new_clean.shape"
   ]
  },
  {
   "cell_type": "code",
   "execution_count": 29,
   "metadata": {},
   "outputs": [
    {
     "data": {
      "text/plain": [
       "(5290, 53)"
      ]
     },
     "execution_count": 29,
     "metadata": {},
     "output_type": "execute_result"
    }
   ],
   "source": [
    "gold_recovery_test_new_clean.shape"
   ]
  },
  {
   "cell_type": "code",
   "execution_count": 30,
   "metadata": {},
   "outputs": [
    {
     "data": {
      "text/plain": [
       "(19439, 87)"
      ]
     },
     "execution_count": 30,
     "metadata": {},
     "output_type": "execute_result"
    }
   ],
   "source": [
    "gold_recovery_full_new_clean.shape"
   ]
  },
  {
   "cell_type": "markdown",
   "metadata": {},
   "source": [
    "***Вывод***"
   ]
  },
  {
   "cell_type": "markdown",
   "metadata": {},
   "source": [
    "Итого согласно документации, перед нами три выборки: \"gold_recovery_train_new\" - обучающая, \"gold_recovery_test_new.csv\" - тестовая и \"gold_recovery_full_new.csv\" - исходные данные. Посмотрели общую информацию о датасетах. Явные дубликаты отсутствуют, много пропусков. Посмотрели на числовые характеристики в датасетах. В столбцах \"rougher.calculation.floatbank10_sulfate_to_au_feed\", \"rougher.calculation.floatbank11_sulfate_to_au_feed\", \"rougher.calculation.au_pb_ratio\" есть большие отрицательные выбросы. Провели проверку расчета эффективности обогащения. MAE = 9.735. Величина MAE небольшая, а значит \"rougher.output.recovery\" рассчитано верно. Провели анализ признаков, отсутствующих в тестовой выборке. В тестовой выборке недоступны некоторые расчетные (calculation) и выходные (output) характеристики процесса, ведь их невозможно получить либо замерить во время выполнения технологического процесса. Провели предобработку данных. Пропуски Nan в столбцах заполнили данными предыдущих значений. Вывели размеры обучающей выборки, тестовой выборки и общего датасета."
   ]
  },
  {
   "cell_type": "markdown",
   "metadata": {},
   "source": [
    "## Анализ данных"
   ]
  },
  {
   "cell_type": "markdown",
   "metadata": {},
   "source": [
    "### Посмотрим, как меняется концентрация металлов (Au, Ag, Pb) на различных этапах очистки"
   ]
  },
  {
   "cell_type": "markdown",
   "metadata": {},
   "source": [
    "Распределение концентрации материала Ag."
   ]
  },
  {
   "cell_type": "code",
   "execution_count": 31,
   "metadata": {},
   "outputs": [],
   "source": [
    "data_ag = gold_recovery_full_new_clean[['rougher.output.concentrate_ag', 'primary_cleaner.output.concentrate_ag', 'final.output.concentrate_ag','rougher.input.feed_ag']]"
   ]
  },
  {
   "cell_type": "code",
   "execution_count": 32,
   "metadata": {
    "scrolled": true
   },
   "outputs": [
    {
     "data": {
      "text/plain": [
       "(-5.0, 30.0)"
      ]
     },
     "execution_count": 32,
     "metadata": {},
     "output_type": "execute_result"
    },
    {
     "data": {
      "image/png": "[encoded data removed]",
      "text/plain": [
       "<Figure size 1080x360 with 1 Axes>"
      ]
     },
     "metadata": {
      "needs_background": "light"
     },
     "output_type": "display_data"
    }
   ],
   "source": [
    "data_ag.plot(kind='kde', style='-', figsize=(15, 5), title=' материал Ag')\n",
    "plt.xlim(-5,30)"
   ]
  },
  {
   "cell_type": "markdown",
   "metadata": {},
   "source": [
    "На каждом этапе технологического процесса концентраия Ag сначала увеличивается, а потом идет на спад. Чем ближе технологический процесс к финальной очистке, тем меньше значение дисперсии. Есть аномальные нулевые значения. Это связано с недополучением с данных приборов или их остановкой. Этот процесс свидетильствует о стадии извлечения Ag."
   ]
  },
  {
   "cell_type": "markdown",
   "metadata": {},
   "source": [
    "Распределение концентрации материала Au."
   ]
  },
  {
   "cell_type": "code",
   "execution_count": 33,
   "metadata": {},
   "outputs": [],
   "source": [
    "data_au = gold_recovery_full_new_clean[['rougher.output.concentrate_au', 'primary_cleaner.output.concentrate_au', 'final.output.concentrate_au', 'rougher.input.feed_au']]"
   ]
  },
  {
   "cell_type": "code",
   "execution_count": 34,
   "metadata": {
    "scrolled": true
   },
   "outputs": [
    {
     "data": {
      "text/plain": [
       "(-5.0, 60.0)"
      ]
     },
     "execution_count": 34,
     "metadata": {},
     "output_type": "execute_result"
    },
    {
     "data": {
      "image/png": "[encoded data removed]",
      "text/plain": [
       "<Figure size 864x360 with 1 Axes>"
      ]
     },
     "metadata": {
      "needs_background": "light"
     },
     "output_type": "display_data"
    }
   ],
   "source": [
    "data_au.plot(kind='kde', style='-', figsize=(12, 5), title=' материал Au')\n",
    "plt.xlim(-5,60)"
   ]
  },
  {
   "cell_type": "markdown",
   "metadata": {},
   "source": [
    "На каждом этапе технологического процесса концентрация Au сначала увеличивается, а потом идет на спад. Есть аномальные нулевые значения. Это связано с недополучением данных с приборов или их остановкой. Этот процесс свидетельствует о стадии извлечения Au. Максимальной концентрации Au достигает на самом первом этапе технологического процесса, а именно непосредственно при добыче Au. Концентрация Au после начальной очистки и финальной находятся примерно на одном уровне. Самая низкая концентрация Au на этапе грунтовой очистки."
   ]
  },
  {
   "cell_type": "code",
   "execution_count": 35,
   "metadata": {},
   "outputs": [],
   "source": [
    "data_pb = gold_recovery_full_new_clean[['rougher.output.concentrate_pb', 'primary_cleaner.output.concentrate_pb', 'final.output.concentrate_pb', 'rougher.input.feed_pb']]"
   ]
  },
  {
   "cell_type": "code",
   "execution_count": 36,
   "metadata": {
    "scrolled": true
   },
   "outputs": [
    {
     "data": {
      "text/plain": [
       "(-5.0, 20.0)"
      ]
     },
     "execution_count": 36,
     "metadata": {},
     "output_type": "execute_result"
    },
    {
     "data": {
      "image/png": "[encoded data removed]",
      "text/plain": [
       "<Figure size 864x360 with 1 Axes>"
      ]
     },
     "metadata": {
      "needs_background": "light"
     },
     "output_type": "display_data"
    }
   ],
   "source": [
    "data_pb.plot(kind='kde', style='-', figsize=(12, 5), title=' материал Pb')\n",
    "plt.xlim(-5,20)"
   ]
  },
  {
   "cell_type": "markdown",
   "metadata": {},
   "source": [
    "На каждом этапе технологического процесса концентраия Pb сначала увеличивается, а потом идет на спад. Есть аномальные нулевые значения. Это связано с недополучением данных с приборов или их остановкой. Этот процесс свидетильствует о стадии извлечения Pb. Максимальная концентрация Pb на стадии добычи руды."
   ]
  },
  {
   "cell_type": "markdown",
   "metadata": {},
   "source": [
    "### Сравним распределения размеров гранул сырья на обучающей и тестовой выборках"
   ]
  },
  {
   "cell_type": "code",
   "execution_count": 37,
   "metadata": {},
   "outputs": [
    {
     "data": {
      "image/png": "[encoded data removed]",
      "text/plain": [
       "<Figure size 1080x360 with 1 Axes>"
      ]
     },
     "metadata": {
      "needs_background": "light"
     },
     "output_type": "display_data"
    }
   ],
   "source": [
    "fig, ax = plt.subplots()\n",
    "x = gold_recovery_train_new_clean['rougher.input.feed_size']\n",
    "y = gold_recovery_test_new_clean['rougher.input.feed_size']\n",
    "x.plot(kind = 'kde', figsize = (15,5), title='Распределения размеров гранул сырья')\n",
    "y.plot(kind = 'kde')\n",
    "plt.legend(labels=['size test','size train'])\n",
    "ax.axvline(50.5, color=\"blue\", linestyle=\"--\")\n",
    "ax.axvline(44.5, color=\"orange\", linestyle=\"--\")\n",
    "ax.grid()\n",
    "plt.xlim(0,110)\n",
    "plt.show()"
   ]
  },
  {
   "cell_type": "markdown",
   "metadata": {},
   "source": [
    "Распределение размеров гранул сырья на обучающей и тестовой выборках отличается на 6 значений. Дисперсия на обучающей выборке больше, чем на тестовой."
   ]
  },
  {
   "cell_type": "markdown",
   "metadata": {},
   "source": [
    "### Исследуем суммарную концентрацию всех веществ на разных стадиях: в сырье, в черновом и финальном концентратах"
   ]
  },
  {
   "cell_type": "markdown",
   "metadata": {},
   "source": [
    "Расчитаем суммарную концентрацию всех веществ в сырье."
   ]
  },
  {
   "cell_type": "code",
   "execution_count": 38,
   "metadata": {},
   "outputs": [],
   "source": [
    "concentrate_raw_material = (gold_recovery_full_new_clean['rougher.input.feed_ag'] + gold_recovery_full_new_clean['rougher.input.feed_pb'] + gold_recovery_full_new_clean['rougher.input.feed_sol'] + gold_recovery_full_new_clean['rougher.input.feed_au'])"
   ]
  },
  {
   "cell_type": "markdown",
   "metadata": {},
   "source": [
    "Расчитаем суммарную концентрацию всех веществ в черновом концентрате."
   ]
  },
  {
   "cell_type": "code",
   "execution_count": 39,
   "metadata": {},
   "outputs": [],
   "source": [
    "concentrate_rougher = (gold_recovery_full_new_clean['rougher.output.concentrate_ag'] + gold_recovery_full_new_clean['rougher.output.concentrate_pb'] + gold_recovery_full_new_clean['rougher.output.concentrate_sol'] + gold_recovery_full_new_clean['rougher.output.concentrate_au'] )"
   ]
  },
  {
   "cell_type": "markdown",
   "metadata": {},
   "source": [
    "Расчитаем суммарную концентрацию всех веществ в финальном концентрате."
   ]
  },
  {
   "cell_type": "code",
   "execution_count": 40,
   "metadata": {},
   "outputs": [],
   "source": [
    "concentrate_final = (gold_recovery_full_new_clean['final.output.concentrate_ag'] + gold_recovery_full_new_clean['final.output.concentrate_pb'] + gold_recovery_full_new_clean['final.output.concentrate_sol']  + gold_recovery_full_new_clean[ 'final.output.concentrate_au'])"
   ]
  },
  {
   "cell_type": "markdown",
   "metadata": {},
   "source": [
    "Сравним суммарную концентрацию всех веществ на разных стадиях: в сырье, в черновом и финальном концентратах."
   ]
  },
  {
   "cell_type": "code",
   "execution_count": 41,
   "metadata": {},
   "outputs": [
    {
     "data": {
      "text/plain": [
       "(-10.0, 100.0)"
      ]
     },
     "execution_count": 41,
     "metadata": {},
     "output_type": "execute_result"
    },
    {
     "data": {
      "image/png": "[encoded data removed]",
      "text/plain": [
       "<Figure size 1080x360 with 1 Axes>"
      ]
     },
     "metadata": {
      "needs_background": "light"
     },
     "output_type": "display_data"
    }
   ],
   "source": [
    "fig, ax = plt.subplots()\n",
    "\n",
    "concentrate_raw_material.plot(kind = 'kde', figsize = (15,5), label = 'concentrate_raw_material')\n",
    "concentrate_rougher.plot(kind = 'kde', figsize = (15,5), label = 'concentrate_rougher')\n",
    "concentrate_final.plot(kind = 'kde', figsize = (15,5), label = 'concentrate_final')\n",
    "ax.grid()\n",
    "plt.legend()\n",
    "plt.xlim(-10,100)"
   ]
  },
  {
   "cell_type": "markdown",
   "metadata": {},
   "source": [
    "Суммарная концентрация веществ в сырье меньше, чем после флотаций и в финальном концентрате. В финальном концентрате распределение стремится к нормальному. Это указывает на работу технологического процесса. Присутствуют аномальные значения близкие к нулю."
   ]
  },
  {
   "cell_type": "markdown",
   "metadata": {},
   "source": [
    "Удалим аномальные значения всех веществ на разных стадиях: в сырье, в черновом и финальном концентратах из обучающей выборки."
   ]
  },
  {
   "cell_type": "code",
   "execution_count": 42,
   "metadata": {},
   "outputs": [],
   "source": [
    "gold_recovery_full_new_clean = gold_recovery_full_new_clean[(gold_recovery_full_new_clean['rougher.input.feed_au'] > 0) & (gold_recovery_full_new_clean['rougher.input.feed_ag'] > 0) & (gold_recovery_full_new_clean['rougher.input.feed_pb'] > 0) & (gold_recovery_full_new_clean['rougher.input.feed_sol'] > 0)]\n",
    "gold_recovery_full_new_clean = gold_recovery_full_new_clean[(gold_recovery_full_new_clean['rougher.output.concentrate_au'] > 0) & (gold_recovery_full_new_clean['rougher.output.concentrate_ag'] > 0) & (gold_recovery_full_new_clean['rougher.output.concentrate_pb'] > 0) & (gold_recovery_full_new_clean['rougher.output.concentrate_sol'] > 0)]\n",
    "gold_recovery_full_new_clean = gold_recovery_full_new_clean[(gold_recovery_full_new_clean['primary_cleaner.output.concentrate_au'] > 0) & (gold_recovery_full_new_clean['primary_cleaner.output.concentrate_ag'] > 0) & (gold_recovery_full_new_clean['primary_cleaner.output.concentrate_pb'] > 0) & (gold_recovery_full_new_clean['primary_cleaner.output.concentrate_sol'] != 0)]\n",
    "gold_recovery_full_new_clean = gold_recovery_full_new_clean[(gold_recovery_full_new_clean['final.output.concentrate_au'] > 0) & (gold_recovery_full_new_clean['final.output.concentrate_ag'] > 0) & (gold_recovery_full_new_clean['final.output.concentrate_pb'] > 0) & (gold_recovery_full_new_clean['final.output.concentrate_sol'] > 0)]\n",
    "\n",
    "gold_recovery_train_new_clean = gold_recovery_train_new_clean[(gold_recovery_train_new_clean['rougher.input.feed_au'] > 0) & (gold_recovery_train_new_clean['rougher.input.feed_ag'] > 0) & (gold_recovery_train_new_clean['rougher.input.feed_pb'] > 0) & (gold_recovery_train_new_clean['rougher.input.feed_sol'] > 0)]\n",
    "gold_recovery_train_new_clean = gold_recovery_train_new_clean[(gold_recovery_train_new_clean['rougher.output.concentrate_au'] > 0) & (gold_recovery_train_new_clean['rougher.output.concentrate_ag'] > 0) & (gold_recovery_train_new_clean['rougher.output.concentrate_pb'] > 0) & (gold_recovery_train_new_clean['rougher.output.concentrate_sol'] > 0)]\n",
    "gold_recovery_train_new_clean = gold_recovery_train_new_clean[(gold_recovery_train_new_clean['primary_cleaner.output.concentrate_au'] > 0) & (gold_recovery_train_new_clean['primary_cleaner.output.concentrate_ag'] > 0) & (gold_recovery_train_new_clean['primary_cleaner.output.concentrate_pb'] > 0) & (gold_recovery_train_new_clean['primary_cleaner.output.concentrate_sol'] > 0)]\n",
    "gold_recovery_train_new_clean = gold_recovery_train_new_clean[(gold_recovery_train_new_clean['final.output.concentrate_au'] > 0) & (gold_recovery_train_new_clean['final.output.concentrate_ag'] > 0) & (gold_recovery_train_new_clean['final.output.concentrate_pb'] > 0) & (gold_recovery_train_new_clean['final.output.concentrate_sol'] > 0)]"
   ]
  },
  {
   "cell_type": "markdown",
   "metadata": {},
   "source": [
    "Посмотрим на размеры очищенных выборок."
   ]
  },
  {
   "cell_type": "code",
   "execution_count": 43,
   "metadata": {},
   "outputs": [
    {
     "data": {
      "text/plain": [
       "(18838, 87)"
      ]
     },
     "execution_count": 43,
     "metadata": {},
     "output_type": "execute_result"
    }
   ],
   "source": [
    "gold_recovery_full_new_clean.shape"
   ]
  },
  {
   "cell_type": "code",
   "execution_count": 44,
   "metadata": {},
   "outputs": [
    {
     "data": {
      "text/plain": [
       "(13716, 87)"
      ]
     },
     "execution_count": 44,
     "metadata": {},
     "output_type": "execute_result"
    }
   ],
   "source": [
    "gold_recovery_train_new_clean.shape"
   ]
  },
  {
   "cell_type": "markdown",
   "metadata": {},
   "source": [
    "***Вывод***"
   ]
  },
  {
   "cell_type": "markdown",
   "metadata": {},
   "source": [
    "Посмотрели, как меняется концентрация металлов (Au, Ag, Pb) на различных этапах очистки, построили графики для каждого металла в отдельности. На каждом этапе технологического процесса концентраия Au сначала увеличивается, а потом идет на спад. Есть аномальные нулевые значения. Это связано с недополучением данных с приборов или их остановкой. Этот процесс свидетильствует о стадии извлечения Au. Максимальной концентрации Au достигает на самом первом этапе технологического процесса, а именно непосредственно при добыче Au. Концентрация Au после начальной очистки и финальной находятся примерно на одном уровне. Самая низкая концентрация Au на этапе грунтовой очистки. Сравнили распределения размеров гранул сырья на обучающей и тестовой выборках. Распределение размеров гранул сырья на обучающей и тестовой выборках отличается на 6 значений. Дисперсия на обучающей выборке больше, чем на тестовой. Исследовали суммарную концентрацию всех веществ на разных стадиях: в сырье, в черновом и финальном концентратах. Суммарная концентрация веществ в сырье меньше, чем после флотаций и в финальном концентрате. В финальном концентрате распределение стремится к нормальному. Это указывает на работу технологического процесса. Присутствуют аномальные значения близкие к нулю. Удалили аномальные значения всех веществ на разных стадиях: в сырье, в черновом и финальном концентратах из обучающей выборки."
   ]
  },
  {
   "cell_type": "markdown",
   "metadata": {},
   "source": [
    "## Модель"
   ]
  },
  {
   "cell_type": "markdown",
   "metadata": {},
   "source": [
    "### Удалим из обучающей выборки признаки, отсутствующие в тестовой выборке"
   ]
  },
  {
   "cell_type": "code",
   "execution_count": 45,
   "metadata": {},
   "outputs": [],
   "source": [
    "target_signs = del_signs - set(['rougher.output.recovery','final.output.recovery'])\n",
    "train_full = gold_recovery_train_new_clean.drop(columns=target_signs, axis=1)"
   ]
  },
  {
   "cell_type": "markdown",
   "metadata": {},
   "source": [
    "### Добавим в тестовую выборку целевые признаки: \"rougher.output.recovery\", \"final.output.recovery\", а так же столбец \"date\" для сортировки по индексу"
   ]
  },
  {
   "cell_type": "code",
   "execution_count": 46,
   "metadata": {},
   "outputs": [],
   "source": [
    "full = gold_recovery_full_new_clean[['date', 'rougher.output.recovery', 'final.output.recovery']]\n",
    "test_full = gold_recovery_test_new_clean.merge(full, how = 'left', on = 'date')"
   ]
  },
  {
   "cell_type": "markdown",
   "metadata": {},
   "source": [
    "### Удалим столбец \"date\", так как он не информативен"
   ]
  },
  {
   "cell_type": "code",
   "execution_count": 47,
   "metadata": {},
   "outputs": [],
   "source": [
    "test_full.drop(['date'], axis=1, inplace=True)\n",
    "train_full.drop(['date'], axis=1, inplace=True)"
   ]
  },
  {
   "cell_type": "markdown",
   "metadata": {},
   "source": [
    "### Напишем функцию для определения SMAPE"
   ]
  },
  {
   "cell_type": "code",
   "execution_count": 48,
   "metadata": {},
   "outputs": [],
   "source": [
    "def calculation_smape(target, predict):\n",
    "    smape = (1/len(target))*np.sum((np.abs(target - predict))/( (np.abs(target)+np.abs(predict))/2))*100\n",
    "    return smape"
   ]
  },
  {
   "cell_type": "code",
   "execution_count": 49,
   "metadata": {},
   "outputs": [],
   "source": [
    "smape_scorer = make_scorer(calculation_smape, best = False)"
   ]
  },
  {
   "cell_type": "code",
   "execution_count": 50,
   "metadata": {},
   "outputs": [],
   "source": [
    "def calculation_final_smape(rougher, final):\n",
    "    final = 0.25*rougher+0.75*final\n",
    "    return final"
   ]
  },
  {
   "cell_type": "markdown",
   "metadata": {},
   "source": [
    "### Подготовим данные для обучения модели"
   ]
  },
  {
   "cell_type": "code",
   "execution_count": 51,
   "metadata": {
    "scrolled": true
   },
   "outputs": [],
   "source": [
    "features_train_full = train_full.drop(['rougher.output.recovery','final.output.recovery'], axis=1)\n",
    "target_rougher_train = train_full['rougher.output.recovery']\n",
    "target_final_train = train_full['final.output.recovery']"
   ]
  },
  {
   "cell_type": "markdown",
   "metadata": {},
   "source": [
    "### Произведем подбор параметров модели"
   ]
  },
  {
   "cell_type": "code",
   "execution_count": 52,
   "metadata": {},
   "outputs": [],
   "source": [
    "smape_score = make_scorer(calculation_smape, greater_is_better= False )"
   ]
  },
  {
   "cell_type": "markdown",
   "metadata": {},
   "source": [
    "### Создадим матрицу гиперпараметров"
   ]
  },
  {
   "cell_type": "code",
   "execution_count": 53,
   "metadata": {},
   "outputs": [],
   "source": [
    "param_dist_dt = {\"max_depth\":range(1,101,10), \"min_samples_leaf\": [ 1, 0.5, 2]}"
   ]
  },
  {
   "cell_type": "markdown",
   "metadata": {},
   "source": [
    "### Обучение и проверка моделей"
   ]
  },
  {
   "cell_type": "markdown",
   "metadata": {},
   "source": [
    "***Дерво решений***"
   ]
  },
  {
   "cell_type": "markdown",
   "metadata": {},
   "source": [
    "Проведем кросс-валидацию и обучение."
   ]
  },
  {
   "cell_type": "code",
   "execution_count": 54,
   "metadata": {},
   "outputs": [
    {
     "name": "stdout",
     "output_type": "stream",
     "text": [
      "Лучшие параметры для Дерева решений : {'max_depth': 1, 'min_samples_leaf': 0.5}\n",
      "Лучшее SMAPE для Дерева решений : -8.130619574436073\n"
     ]
    }
   ],
   "source": [
    "model_dt_cv_r = GridSearchCV(DecisionTreeRegressor(random_state = 12345),param_dist_dt, cv = 4, scoring = smape_score )\n",
    "dt_cv_r = model_dt_cv_r.fit(features_train_full, target_rougher_train)\n",
    "print(\"Лучшие параметры для Дерева решений : {}\".format(dt_cv_r.best_params_))\n",
    "print(\"Лучшее SMAPE для Дерева решений : {}\".format(dt_cv_r.best_score_))"
   ]
  },
  {
   "cell_type": "code",
   "execution_count": 55,
   "metadata": {},
   "outputs": [
    {
     "name": "stdout",
     "output_type": "stream",
     "text": [
      "0    -9.060304\n",
      "1   -11.849677\n",
      "2   -10.312459\n",
      "3    -8.234904\n",
      "4    -7.739118\n",
      "5    -5.402477\n",
      "6    -8.319046\n",
      "7    -8.227048\n",
      "8    -9.089432\n",
      "9    -7.724723\n",
      "dtype: float64\n",
      "-8.59591877570628\n"
     ]
    }
   ],
   "source": [
    "model_dt_r =DecisionTreeRegressor(random_state = 12345, max_depth = 1, min_samples_leaf = 1 )\n",
    "dt_r = model_dt_r.fit(features_train_full, target_rougher_train)\n",
    "predict_dt_r = model_dt_r.predict(features_train_full)\n",
    "dt_scores_r = cross_val_score(dt_r, features_train_full, target_rougher_train, cv = 10, scoring = smape_score)\n",
    "\n",
    "smape_dt_r = pd.Series(dt_scores_r)\n",
    "\n",
    "print(smape_dt_r)\n",
    "print(np.mean(smape_dt_r))"
   ]
  },
  {
   "cell_type": "code",
   "execution_count": 56,
   "metadata": {},
   "outputs": [
    {
     "name": "stdout",
     "output_type": "stream",
     "text": [
      "Лучшие параметры для Дерева решений : {'max_depth': 1, 'min_samples_leaf': 0.5}\n",
      "Лучшее SMAPE для Дерева решений : -10.58735708885068\n"
     ]
    }
   ],
   "source": [
    "model_dt_cv_f = GridSearchCV(DecisionTreeRegressor(random_state = 12345),param_dist_dt, cv = 4, scoring = smape_score )\n",
    "dt_cv_f = model_dt_cv_f.fit(features_train_full, target_final_train)\n",
    "print(\"Лучшие параметры для Дерева решений : {}\".format(dt_cv_f.best_params_))\n",
    "print(\"Лучшее SMAPE для Дерева решений : {}\".format(dt_cv_f.best_score_))"
   ]
  },
  {
   "cell_type": "code",
   "execution_count": 57,
   "metadata": {},
   "outputs": [
    {
     "name": "stdout",
     "output_type": "stream",
     "text": [
      "0   -10.122879\n",
      "1    -9.243586\n",
      "2    -9.896095\n",
      "3    -6.789355\n",
      "4    -8.075955\n",
      "5   -11.908196\n",
      "6   -10.954767\n",
      "7   -12.631109\n",
      "8   -11.514441\n",
      "9   -10.797228\n",
      "dtype: float64\n",
      "-10.193361089175006\n"
     ]
    }
   ],
   "source": [
    "model_dt_f =DecisionTreeRegressor(random_state = 12345, max_depth = 1, min_samples_leaf = 0.5 )\n",
    "dt_f = model_dt_f.fit(features_train_full, target_final_train)\n",
    "predict_dt_f = model_dt_f.predict(features_train_full)\n",
    "dt_scores_f = cross_val_score(dt_f, features_train_full, target_final_train, cv = 10, scoring = smape_score)\n",
    "\n",
    "smape_dt_f = pd.Series(dt_scores_f)\n",
    "\n",
    "print(smape_dt_f)\n",
    "print(np.mean(smape_dt_f))"
   ]
  },
  {
   "cell_type": "markdown",
   "metadata": {},
   "source": [
    "***Линейная регрессия***"
   ]
  },
  {
   "cell_type": "code",
   "execution_count": 58,
   "metadata": {},
   "outputs": [
    {
     "name": "stdout",
     "output_type": "stream",
     "text": [
      "0   -7.337032\n",
      "1   -8.270350\n",
      "2   -6.406632\n",
      "3   -4.658892\n",
      "4   -6.194164\n",
      "5   -5.248249\n",
      "6   -5.275410\n",
      "7   -4.085996\n",
      "8   -6.826668\n",
      "9   -7.856232\n",
      "dtype: float64\n",
      "-6.215962537444928\n"
     ]
    }
   ],
   "source": [
    "model_lr_r = LinearRegression()\n",
    "lr_r = model_lr_r.fit(features_train_full, target_rougher_train)\n",
    "predict_lr_r = lr_r.predict(features_train_full)\n",
    "scores_lr_r = cross_val_score(lr_r, features_train_full, target_rougher_train, cv = 10, scoring = smape_score)\n",
    "\n",
    "smape_lr_r = pd.Series(scores_lr_r)\n",
    "\n",
    "print(smape_lr_r)\n",
    "print(np.mean(smape_lr_r))"
   ]
  },
  {
   "cell_type": "code",
   "execution_count": 59,
   "metadata": {},
   "outputs": [
    {
     "name": "stdout",
     "output_type": "stream",
     "text": [
      "0    -9.570528\n",
      "1   -10.477257\n",
      "2   -11.403522\n",
      "3    -7.097693\n",
      "4    -8.892625\n",
      "5   -10.253067\n",
      "6    -9.994720\n",
      "7    -8.262408\n",
      "8   -10.330798\n",
      "9   -15.422750\n",
      "dtype: float64\n",
      "-10.1705367977712\n"
     ]
    }
   ],
   "source": [
    "model_lr_f = LinearRegression()\n",
    "lr_f = model_lr_f.fit(features_train_full, target_final_train)\n",
    "predict_lr_f = lr_r.predict(features_train_full)\n",
    "scores_lr_f = cross_val_score(lr_r, features_train_full, target_final_train, cv = 10, scoring = smape_score)\n",
    "\n",
    "smape_lr_f = pd.Series(scores_lr_f)\n",
    "\n",
    "print(smape_lr_f)\n",
    "print(np.mean(smape_lr_f))"
   ]
  },
  {
   "cell_type": "code",
   "execution_count": 60,
   "metadata": {},
   "outputs": [
    {
     "data": {
      "image/png": "[encoded data removed]",
      "text/plain": [
       "<Figure size 1080x360 with 1 Axes>"
      ]
     },
     "metadata": {
      "needs_background": "light"
     },
     "output_type": "display_data"
    }
   ],
   "source": [
    "fig, ax = plt.subplots()\n",
    "smape_dt_r.plot(kind = 'kde', figsize = (15,5), label = 'dt smape rougher', grid = True)\n",
    "smape_dt_f.plot(kind = 'kde', figsize = (15,5), label = 'dt smape final', grid = True)\n",
    "smape_lr_r.plot(kind = 'kde', figsize = (15,5), label = 'lr smape rougher', grid = True)\n",
    "smape_lr_f.plot(kind = 'kde', figsize = (15,5), label = 'lr smape final', grid = True)\n",
    "\n",
    "ax.minorticks_on()\n",
    "ax.grid(which='major', color = 'k', linewidth = 2)\n",
    "ax.grid(which='minor', color = 'k', linestyle = ':')\n",
    "plt.legend()\n",
    "plt.xlim(-35,5)\n",
    "\n",
    "plt.show()"
   ]
  },
  {
   "cell_type": "markdown",
   "metadata": {},
   "source": [
    "***Вывод***"
   ]
  },
  {
   "cell_type": "markdown",
   "metadata": {},
   "source": [
    "Исходя из графика метрики SMAPE видно, что кривая линейной регрессии по признаку final.output.recovery близка к нормальному распределению, поэтому тестирование модели будем проводить на ней."
   ]
  },
  {
   "cell_type": "markdown",
   "metadata": {},
   "source": [
    "### Проведем тестирование на лучшей модели"
   ]
  },
  {
   "cell_type": "code",
   "execution_count": 61,
   "metadata": {},
   "outputs": [],
   "source": [
    "features_test_lr = test_full.drop(['rougher.output.recovery','final.output.recovery'], axis=1)\n",
    "target_test_lr_r = test_full['rougher.output.recovery']\n",
    "target_test_lr_f = test_full['final.output.recovery']"
   ]
  },
  {
   "cell_type": "code",
   "execution_count": 62,
   "metadata": {},
   "outputs": [
    {
     "name": "stdout",
     "output_type": "stream",
     "text": [
      "4.71024140994779\n"
     ]
    }
   ],
   "source": [
    "model_test_lr_r = LinearRegression()\n",
    "test_lr_r = model_test_lr_r.fit(features_train_full, target_rougher_train)\n",
    "predict_test_lr_r = pd.Series(model_test_lr_r.predict(features_test_lr))\n",
    "smape_test_lr_r = calculation_smape(target_test_lr_r, predict_test_lr_r)\n",
    "print(smape_test_lr_r)"
   ]
  },
  {
   "cell_type": "code",
   "execution_count": 63,
   "metadata": {},
   "outputs": [
    {
     "name": "stdout",
     "output_type": "stream",
     "text": [
      "7.0786702230710095\n"
     ]
    }
   ],
   "source": [
    "model_test_lr_f = LinearRegression()\n",
    "test_lr_f = model_test_lr_f.fit(features_train_full, target_final_train)\n",
    "predict_test_lr_f = pd.Series(model_test_lr_f.predict(features_test_lr))\n",
    "smape_test_lr_f = calculation_smape(target_test_lr_f, predict_test_lr_f)\n",
    "final_smape_lr_f = calculation_final_smape(smape_test_lr_r, smape_test_lr_f)\n",
    "print(final_smape_lr_f)"
   ]
  },
  {
   "cell_type": "markdown",
   "metadata": {},
   "source": [
    "### Проверим модель на адекватность"
   ]
  },
  {
   "cell_type": "code",
   "execution_count": 64,
   "metadata": {},
   "outputs": [
    {
     "name": "stdout",
     "output_type": "stream",
     "text": [
      "7.522739131628747\n"
     ]
    }
   ],
   "source": [
    "dummy_lr_r = DummyRegressor(strategy=\"mean\")\n",
    "dummy_lr_r.fit(features_train_full, target_rougher_train)\n",
    "dummy_predicted_lr_r = dummy_lr_r.predict(features_test_lr)\n",
    "smape_lr_r = calculation_smape(target_test_lr_r, dummy_predicted_lr_r)\n",
    "\n",
    "dummy_lr_f = DummyRegressor(strategy=\"mean\")\n",
    "dummy_lr_f.fit(features_train_full, target_final_train)\n",
    "dummy_predicted_lr_f = dummy_lr_f.predict(features_test_lr)\n",
    "smape_lr_f = calculation_smape(target_test_lr_f, dummy_predicted_lr_f)\n",
    "\n",
    "final_smape_lr = calculation_final_smape(smape_lr_r, smape_lr_f)\n",
    "print(final_smape_lr)"
   ]
  },
  {
   "cell_type": "markdown",
   "metadata": {},
   "source": [
    "***Вывод***"
   ]
  },
  {
   "cell_type": "markdown",
   "metadata": {},
   "source": [
    "Удалили из обучающей выборки признаки, отсутствующие в тестовой выборке. Добавили в тестовую выборку целевые признаки: \"rougher.output.recovery\", \"final.output.recovery\", а также столбец \"date\" для сортировки по индексу. Удали столбец \"date\", так он не информативен. Напишем функцию для определения SMAPE. Подготовили данные для обучения модели. Произвели подбор параметров модели. Создали матрицу гипперпараметров. Обучение и кросс-валидацию моделей проводили на \"Дереве решений\" и \"Линейной регрессии\". Построили график SMAPE. Исходя из графика метрики SMAPE видно, что кривая линейной регрессии по признаку final.output.recovery близка к нормальному распределению, поэтому тестирование модели будем проводить на ней. Провели тестирование модели на \"Линейной регрессии\". Финальный показатель SMAPE = 7.079. Проверили модель на адекватность. Показатель модели SMAPE 'DummyClassifier' немного выше, чем у модели 'LinearRegression', модель можно считать адекватной и эффективной."
   ]
  }
 ],
 "metadata": {
  "ExecuteTimeLog": [
   {
    "duration": 423,
    "start_time": "2023-01-16T10:28:21.665Z"
   },
   {
    "duration": 90,
    "start_time": "2023-01-16T10:29:22.654Z"
   },
   {
    "duration": 2,
    "start_time": "2023-01-16T10:29:43.005Z"
   },
   {
    "duration": 3,
    "start_time": "2023-01-16T10:29:44.109Z"
   },
   {
    "duration": 7,
    "start_time": "2023-01-16T10:33:13.334Z"
   },
   {
    "duration": 872,
    "start_time": "2023-01-16T10:33:24.394Z"
   },
   {
    "duration": 2388,
    "start_time": "2023-01-16T10:35:58.114Z"
   },
   {
    "duration": 8,
    "start_time": "2023-01-16T10:37:06.715Z"
   },
   {
    "duration": 16,
    "start_time": "2023-01-16T10:37:21.496Z"
   },
   {
    "duration": 14,
    "start_time": "2023-01-16T10:41:01.494Z"
   },
   {
    "duration": 16,
    "start_time": "2023-01-16T10:41:50.144Z"
   },
   {
    "duration": 135,
    "start_time": "2023-01-16T10:46:32.551Z"
   },
   {
    "duration": 127,
    "start_time": "2023-01-16T10:46:55.133Z"
   },
   {
    "duration": 27,
    "start_time": "2023-01-16T10:47:36.669Z"
   },
   {
    "duration": 99,
    "start_time": "2023-01-16T10:48:04.108Z"
   },
   {
    "duration": 24,
    "start_time": "2023-01-16T12:17:18.316Z"
   },
   {
    "duration": 9,
    "start_time": "2023-01-16T12:18:30.304Z"
   },
   {
    "duration": 11,
    "start_time": "2023-01-16T12:26:58.043Z"
   },
   {
    "duration": 10,
    "start_time": "2023-01-16T12:27:48.499Z"
   },
   {
    "duration": 3,
    "start_time": "2023-01-16T12:32:12.745Z"
   },
   {
    "duration": 398,
    "start_time": "2023-01-17T14:05:37.725Z"
   },
   {
    "duration": 3,
    "start_time": "2023-01-17T14:05:38.262Z"
   },
   {
    "duration": 2362,
    "start_time": "2023-01-17T14:05:38.670Z"
   },
   {
    "duration": 18,
    "start_time": "2023-01-17T14:05:41.034Z"
   },
   {
    "duration": 22,
    "start_time": "2023-01-17T14:05:41.054Z"
   },
   {
    "duration": 36,
    "start_time": "2023-01-17T14:05:41.078Z"
   },
   {
    "duration": 120,
    "start_time": "2023-01-17T14:05:41.115Z"
   },
   {
    "duration": 21,
    "start_time": "2023-01-17T14:05:41.237Z"
   },
   {
    "duration": 108,
    "start_time": "2023-01-17T14:05:41.259Z"
   },
   {
    "duration": 8,
    "start_time": "2023-01-17T14:05:41.532Z"
   },
   {
    "duration": 6,
    "start_time": "2023-01-17T14:05:42.018Z"
   },
   {
    "duration": 10,
    "start_time": "2023-01-17T14:05:42.635Z"
   },
   {
    "duration": 8307,
    "start_time": "2023-01-17T14:09:54.307Z"
   },
   {
    "duration": 67,
    "start_time": "2023-01-17T14:19:25.126Z"
   },
   {
    "duration": 230,
    "start_time": "2023-01-17T14:19:46.909Z"
   },
   {
    "duration": 188,
    "start_time": "2023-01-17T14:22:35.050Z"
   },
   {
    "duration": 231,
    "start_time": "2023-01-17T14:22:59.026Z"
   },
   {
    "duration": 7,
    "start_time": "2023-01-17T14:27:46.186Z"
   },
   {
    "duration": 246,
    "start_time": "2023-01-17T14:27:52.631Z"
   },
   {
    "duration": 232,
    "start_time": "2023-01-17T14:28:51.723Z"
   },
   {
    "duration": 240,
    "start_time": "2023-01-17T14:29:51.157Z"
   },
   {
    "duration": 246,
    "start_time": "2023-01-17T14:30:06.511Z"
   },
   {
    "duration": 12,
    "start_time": "2023-01-17T14:30:27.312Z"
   },
   {
    "duration": 262,
    "start_time": "2023-01-17T14:30:41.164Z"
   },
   {
    "duration": 284,
    "start_time": "2023-01-17T14:50:00.134Z"
   },
   {
    "duration": 140,
    "start_time": "2023-01-17T14:55:50.671Z"
   },
   {
    "duration": 11284,
    "start_time": "2023-01-17T15:04:39.360Z"
   },
   {
    "duration": 12281,
    "start_time": "2023-01-17T15:09:30.567Z"
   },
   {
    "duration": 11643,
    "start_time": "2023-01-17T15:11:03.485Z"
   },
   {
    "duration": 11971,
    "start_time": "2023-01-17T15:11:48.276Z"
   },
   {
    "duration": 11594,
    "start_time": "2023-01-17T15:12:12.262Z"
   },
   {
    "duration": 11681,
    "start_time": "2023-01-17T15:14:47.339Z"
   },
   {
    "duration": 11393,
    "start_time": "2023-01-17T15:42:19.039Z"
   },
   {
    "duration": 11248,
    "start_time": "2023-01-17T15:44:05.714Z"
   },
   {
    "duration": 11631,
    "start_time": "2023-01-17T15:45:01.862Z"
   },
   {
    "duration": 12385,
    "start_time": "2023-01-17T15:45:27.352Z"
   },
   {
    "duration": 11645,
    "start_time": "2023-01-17T16:28:30.079Z"
   },
   {
    "duration": 11569,
    "start_time": "2023-01-17T16:28:50.457Z"
   },
   {
    "duration": 11365,
    "start_time": "2023-01-17T16:32:59.531Z"
   },
   {
    "duration": 11568,
    "start_time": "2023-01-17T16:33:36.251Z"
   },
   {
    "duration": 12129,
    "start_time": "2023-01-17T16:36:21.735Z"
   },
   {
    "duration": 11988,
    "start_time": "2023-01-17T16:38:33.963Z"
   },
   {
    "duration": 12338,
    "start_time": "2023-01-17T16:39:34.248Z"
   },
   {
    "duration": 12025,
    "start_time": "2023-01-17T16:39:56.693Z"
   },
   {
    "duration": 11534,
    "start_time": "2023-01-17T16:45:23.028Z"
   },
   {
    "duration": 77,
    "start_time": "2023-01-17T16:50:26.950Z"
   },
   {
    "duration": 70,
    "start_time": "2023-01-17T16:50:36.096Z"
   },
   {
    "duration": 11733,
    "start_time": "2023-01-17T16:51:04.545Z"
   },
   {
    "duration": 11494,
    "start_time": "2023-01-17T16:51:45.657Z"
   },
   {
    "duration": 8,
    "start_time": "2023-01-17T16:58:48.669Z"
   },
   {
    "duration": 7,
    "start_time": "2023-01-17T16:59:02.909Z"
   },
   {
    "duration": 10,
    "start_time": "2023-01-17T16:59:13.648Z"
   },
   {
    "duration": 9,
    "start_time": "2023-01-17T17:03:47.499Z"
   },
   {
    "duration": 7,
    "start_time": "2023-01-17T17:07:36.939Z"
   },
   {
    "duration": 8,
    "start_time": "2023-01-17T17:07:56.045Z"
   },
   {
    "duration": 8,
    "start_time": "2023-01-17T17:10:59.514Z"
   },
   {
    "duration": 298,
    "start_time": "2023-01-17T17:12:39.310Z"
   },
   {
    "duration": 232,
    "start_time": "2023-01-17T17:13:02.324Z"
   },
   {
    "duration": 7,
    "start_time": "2023-01-17T17:36:10.473Z"
   },
   {
    "duration": 11,
    "start_time": "2023-01-17T17:36:25.650Z"
   },
   {
    "duration": 416,
    "start_time": "2023-01-18T07:21:47.448Z"
   },
   {
    "duration": 3,
    "start_time": "2023-01-18T07:21:48.108Z"
   },
   {
    "duration": 3133,
    "start_time": "2023-01-18T07:21:48.605Z"
   },
   {
    "duration": 25,
    "start_time": "2023-01-18T07:21:51.740Z"
   },
   {
    "duration": 14,
    "start_time": "2023-01-18T07:21:51.766Z"
   },
   {
    "duration": 17,
    "start_time": "2023-01-18T07:21:51.782Z"
   },
   {
    "duration": 130,
    "start_time": "2023-01-18T07:21:51.800Z"
   },
   {
    "duration": 35,
    "start_time": "2023-01-18T07:21:51.932Z"
   },
   {
    "duration": 102,
    "start_time": "2023-01-18T07:21:51.969Z"
   },
   {
    "duration": 12,
    "start_time": "2023-01-18T07:21:52.072Z"
   },
   {
    "duration": 12,
    "start_time": "2023-01-18T07:21:52.086Z"
   },
   {
    "duration": 9,
    "start_time": "2023-01-18T07:21:52.100Z"
   },
   {
    "duration": 219,
    "start_time": "2023-01-18T07:21:52.299Z"
   },
   {
    "duration": 145,
    "start_time": "2023-01-18T07:21:52.790Z"
   },
   {
    "duration": 261,
    "start_time": "2023-01-18T07:21:53.387Z"
   },
   {
    "duration": 11865,
    "start_time": "2023-01-18T07:21:54.059Z"
   },
   {
    "duration": 215,
    "start_time": "2023-01-18T07:35:08.689Z"
   },
   {
    "duration": 196,
    "start_time": "2023-01-18T07:35:35.123Z"
   },
   {
    "duration": 244,
    "start_time": "2023-01-18T07:35:48.358Z"
   },
   {
    "duration": 12089,
    "start_time": "2023-01-18T07:36:09.833Z"
   },
   {
    "duration": 237,
    "start_time": "2023-01-18T07:36:58.644Z"
   },
   {
    "duration": 104,
    "start_time": "2023-01-18T07:37:20.277Z"
   },
   {
    "duration": 243,
    "start_time": "2023-01-18T07:37:36.189Z"
   },
   {
    "duration": 232,
    "start_time": "2023-01-18T07:37:55.036Z"
   },
   {
    "duration": 113,
    "start_time": "2023-01-18T07:38:12.723Z"
   },
   {
    "duration": 225,
    "start_time": "2023-01-18T07:38:53.999Z"
   },
   {
    "duration": 1013,
    "start_time": "2023-01-18T08:06:23.029Z"
   },
   {
    "duration": 711,
    "start_time": "2023-01-18T08:07:02.324Z"
   },
   {
    "duration": 24,
    "start_time": "2023-01-18T08:35:24.633Z"
   },
   {
    "duration": 13,
    "start_time": "2023-01-18T08:35:37.671Z"
   },
   {
    "duration": 7519,
    "start_time": "2023-01-18T08:57:27.481Z"
   },
   {
    "duration": 8,
    "start_time": "2023-01-18T09:01:58.835Z"
   },
   {
    "duration": 19,
    "start_time": "2023-01-18T10:11:27.336Z"
   },
   {
    "duration": 15,
    "start_time": "2023-01-18T10:24:36.930Z"
   },
   {
    "duration": 13,
    "start_time": "2023-01-18T10:24:49.367Z"
   },
   {
    "duration": 750,
    "start_time": "2023-01-18T10:26:17.390Z"
   },
   {
    "duration": 3,
    "start_time": "2023-01-18T10:26:27.348Z"
   },
   {
    "duration": 3,
    "start_time": "2023-01-18T10:26:27.644Z"
   },
   {
    "duration": 1179,
    "start_time": "2023-01-18T10:26:27.964Z"
   },
   {
    "duration": 15,
    "start_time": "2023-01-18T10:26:29.145Z"
   },
   {
    "duration": 11,
    "start_time": "2023-01-18T10:26:29.161Z"
   },
   {
    "duration": 20,
    "start_time": "2023-01-18T10:26:29.173Z"
   },
   {
    "duration": 115,
    "start_time": "2023-01-18T10:26:29.220Z"
   },
   {
    "duration": 26,
    "start_time": "2023-01-18T10:26:29.337Z"
   },
   {
    "duration": 88,
    "start_time": "2023-01-18T10:26:29.564Z"
   },
   {
    "duration": 11,
    "start_time": "2023-01-18T10:26:29.881Z"
   },
   {
    "duration": 8,
    "start_time": "2023-01-18T10:26:29.948Z"
   },
   {
    "duration": 12,
    "start_time": "2023-01-18T10:26:30.216Z"
   },
   {
    "duration": 232,
    "start_time": "2023-01-18T10:26:30.626Z"
   },
   {
    "duration": 122,
    "start_time": "2023-01-18T10:26:30.882Z"
   },
   {
    "duration": 236,
    "start_time": "2023-01-18T10:26:31.006Z"
   },
   {
    "duration": 11492,
    "start_time": "2023-01-18T10:26:31.330Z"
   },
   {
    "duration": 26,
    "start_time": "2023-01-18T10:26:42.825Z"
   },
   {
    "duration": 860,
    "start_time": "2023-01-18T10:26:42.853Z"
   },
   {
    "duration": 0,
    "start_time": "2023-01-18T10:26:43.715Z"
   },
   {
    "duration": 15,
    "start_time": "2023-01-18T10:27:23.977Z"
   },
   {
    "duration": 726,
    "start_time": "2023-01-18T10:27:32.621Z"
   },
   {
    "duration": 3,
    "start_time": "2023-01-18T10:28:25.221Z"
   },
   {
    "duration": 4,
    "start_time": "2023-01-18T10:28:35.025Z"
   },
   {
    "duration": 10,
    "start_time": "2023-01-18T10:28:36.305Z"
   },
   {
    "duration": 4,
    "start_time": "2023-01-18T10:31:57.423Z"
   },
   {
    "duration": 5214,
    "start_time": "2023-01-18T10:32:25.292Z"
   },
   {
    "duration": 3,
    "start_time": "2023-01-18T10:49:15.963Z"
   },
   {
    "duration": 15,
    "start_time": "2023-01-18T10:49:17.027Z"
   },
   {
    "duration": 4820,
    "start_time": "2023-01-18T10:49:23.443Z"
   },
   {
    "duration": 5,
    "start_time": "2023-01-18T10:50:26.496Z"
   },
   {
    "duration": 4579,
    "start_time": "2023-01-18T10:50:27.179Z"
   },
   {
    "duration": 4678,
    "start_time": "2023-01-18T10:50:44.833Z"
   },
   {
    "duration": 12,
    "start_time": "2023-01-18T10:51:02.286Z"
   },
   {
    "duration": 5,
    "start_time": "2023-01-18T10:51:14.272Z"
   },
   {
    "duration": 5,
    "start_time": "2023-01-18T10:51:30.729Z"
   },
   {
    "duration": 2,
    "start_time": "2023-01-18T10:52:08.020Z"
   },
   {
    "duration": 4,
    "start_time": "2023-01-18T10:52:19.169Z"
   },
   {
    "duration": 3,
    "start_time": "2023-01-18T10:52:29.588Z"
   },
   {
    "duration": 3,
    "start_time": "2023-01-18T10:55:36.449Z"
   },
   {
    "duration": 12,
    "start_time": "2023-01-18T10:55:42.573Z"
   },
   {
    "duration": 4,
    "start_time": "2023-01-18T10:55:45.276Z"
   },
   {
    "duration": 4,
    "start_time": "2023-01-18T10:55:47.272Z"
   },
   {
    "duration": 12,
    "start_time": "2023-01-18T10:56:16.645Z"
   },
   {
    "duration": 3,
    "start_time": "2023-01-18T10:56:18.201Z"
   },
   {
    "duration": 4,
    "start_time": "2023-01-18T10:56:20.032Z"
   },
   {
    "duration": 6,
    "start_time": "2023-01-18T11:00:09.937Z"
   },
   {
    "duration": 1615,
    "start_time": "2023-01-18T11:01:50.976Z"
   },
   {
    "duration": 41,
    "start_time": "2023-01-18T15:11:36.128Z"
   },
   {
    "duration": 1738,
    "start_time": "2023-01-18T15:11:57.706Z"
   },
   {
    "duration": 25,
    "start_time": "2023-01-18T15:12:30.222Z"
   },
   {
    "duration": 1698,
    "start_time": "2023-01-18T15:12:42.983Z"
   },
   {
    "duration": 49,
    "start_time": "2023-01-18T15:16:48.885Z"
   },
   {
    "duration": 6,
    "start_time": "2023-01-18T15:17:59.007Z"
   },
   {
    "duration": 58,
    "start_time": "2023-01-18T15:18:32.093Z"
   },
   {
    "duration": 128,
    "start_time": "2023-01-18T15:18:40.797Z"
   },
   {
    "duration": 57,
    "start_time": "2023-01-18T15:19:58.002Z"
   },
   {
    "duration": 150,
    "start_time": "2023-01-18T15:20:15.326Z"
   },
   {
    "duration": 52,
    "start_time": "2023-01-18T15:21:36.097Z"
   },
   {
    "duration": 6,
    "start_time": "2023-01-18T15:21:54.593Z"
   },
   {
    "duration": 57,
    "start_time": "2023-01-18T15:22:02.125Z"
   },
   {
    "duration": 117,
    "start_time": "2023-01-18T15:22:33.397Z"
   },
   {
    "duration": 2,
    "start_time": "2023-01-18T15:25:31.418Z"
   },
   {
    "duration": 4,
    "start_time": "2023-01-18T15:25:31.765Z"
   },
   {
    "duration": 1023,
    "start_time": "2023-01-18T15:25:32.097Z"
   },
   {
    "duration": 16,
    "start_time": "2023-01-18T15:25:33.121Z"
   },
   {
    "duration": 24,
    "start_time": "2023-01-18T15:25:33.139Z"
   },
   {
    "duration": 45,
    "start_time": "2023-01-18T15:25:33.165Z"
   },
   {
    "duration": 130,
    "start_time": "2023-01-18T15:25:33.382Z"
   },
   {
    "duration": 23,
    "start_time": "2023-01-18T15:25:33.514Z"
   },
   {
    "duration": 95,
    "start_time": "2023-01-18T15:25:33.696Z"
   },
   {
    "duration": 10,
    "start_time": "2023-01-18T15:25:34.015Z"
   },
   {
    "duration": 6,
    "start_time": "2023-01-18T15:25:34.092Z"
   },
   {
    "duration": 13,
    "start_time": "2023-01-18T15:25:34.368Z"
   },
   {
    "duration": 229,
    "start_time": "2023-01-18T15:25:34.742Z"
   },
   {
    "duration": 125,
    "start_time": "2023-01-18T15:25:35.064Z"
   },
   {
    "duration": 262,
    "start_time": "2023-01-18T15:25:35.191Z"
   },
   {
    "duration": 12261,
    "start_time": "2023-01-18T15:25:35.459Z"
   },
   {
    "duration": 15,
    "start_time": "2023-01-18T15:25:47.723Z"
   },
   {
    "duration": 10,
    "start_time": "2023-01-18T15:25:47.750Z"
   },
   {
    "duration": 9,
    "start_time": "2023-01-18T15:25:47.762Z"
   },
   {
    "duration": 7,
    "start_time": "2023-01-18T15:25:47.773Z"
   },
   {
    "duration": 83,
    "start_time": "2023-01-18T15:25:47.782Z"
   },
   {
    "duration": 59,
    "start_time": "2023-01-18T15:29:58.547Z"
   },
   {
    "duration": 13,
    "start_time": "2023-01-18T15:31:47.215Z"
   },
   {
    "duration": 3,
    "start_time": "2023-01-18T15:31:49.576Z"
   },
   {
    "duration": 3,
    "start_time": "2023-01-18T15:31:52.405Z"
   },
   {
    "duration": 14,
    "start_time": "2023-01-18T15:31:53.645Z"
   },
   {
    "duration": 61,
    "start_time": "2023-01-18T15:31:57.638Z"
   },
   {
    "duration": 3940,
    "start_time": "2023-01-18T15:34:40.505Z"
   },
   {
    "duration": 14,
    "start_time": "2023-01-18T15:36:48.621Z"
   },
   {
    "duration": 3,
    "start_time": "2023-01-18T15:36:51.161Z"
   },
   {
    "duration": 10,
    "start_time": "2023-01-18T15:37:04.789Z"
   },
   {
    "duration": 9,
    "start_time": "2023-01-18T15:52:03.527Z"
   },
   {
    "duration": 17,
    "start_time": "2023-01-18T15:52:40.820Z"
   },
   {
    "duration": 721,
    "start_time": "2023-01-18T15:53:40.918Z"
   },
   {
    "duration": 16,
    "start_time": "2023-01-18T15:54:20.936Z"
   },
   {
    "duration": 3,
    "start_time": "2023-01-18T15:54:29.289Z"
   },
   {
    "duration": 3,
    "start_time": "2023-01-18T15:54:45.048Z"
   },
   {
    "duration": 7,
    "start_time": "2023-01-18T15:54:49.285Z"
   },
   {
    "duration": 47,
    "start_time": "2023-01-18T15:54:50.386Z"
   },
   {
    "duration": 10,
    "start_time": "2023-01-18T15:59:18.297Z"
   },
   {
    "duration": 14,
    "start_time": "2023-01-18T15:59:55.928Z"
   },
   {
    "duration": 3,
    "start_time": "2023-01-18T15:59:59.788Z"
   },
   {
    "duration": 4,
    "start_time": "2023-01-18T16:00:04.997Z"
   },
   {
    "duration": 42,
    "start_time": "2023-01-18T16:00:15.100Z"
   },
   {
    "duration": 3,
    "start_time": "2023-01-18T16:57:24.289Z"
   },
   {
    "duration": 5,
    "start_time": "2023-01-18T16:57:29.118Z"
   },
   {
    "duration": 53,
    "start_time": "2023-01-18T16:58:18.254Z"
   },
   {
    "duration": 40,
    "start_time": "2023-01-18T16:59:08.926Z"
   },
   {
    "duration": 3,
    "start_time": "2023-01-18T16:59:09.774Z"
   },
   {
    "duration": 3,
    "start_time": "2023-01-18T16:59:16.223Z"
   },
   {
    "duration": 8,
    "start_time": "2023-01-18T16:59:18.262Z"
   },
   {
    "duration": 3,
    "start_time": "2023-01-18T17:00:38.073Z"
   },
   {
    "duration": 5,
    "start_time": "2023-01-18T17:00:53.075Z"
   },
   {
    "duration": 6,
    "start_time": "2023-01-18T17:00:59.690Z"
   },
   {
    "duration": 6,
    "start_time": "2023-01-18T17:01:01.240Z"
   },
   {
    "duration": 43,
    "start_time": "2023-01-18T17:01:02.905Z"
   },
   {
    "duration": 4,
    "start_time": "2023-01-18T17:03:12.399Z"
   },
   {
    "duration": 5,
    "start_time": "2023-01-18T17:03:13.860Z"
   },
   {
    "duration": 6,
    "start_time": "2023-01-18T17:03:15.115Z"
   },
   {
    "duration": 7,
    "start_time": "2023-01-18T17:03:16.203Z"
   },
   {
    "duration": 41,
    "start_time": "2023-01-18T17:03:17.504Z"
   },
   {
    "duration": 9,
    "start_time": "2023-01-18T17:06:46.110Z"
   },
   {
    "duration": 22,
    "start_time": "2023-01-18T17:07:07.735Z"
   },
   {
    "duration": 3,
    "start_time": "2023-01-18T17:08:37.431Z"
   },
   {
    "duration": 4,
    "start_time": "2023-01-18T17:08:39.132Z"
   },
   {
    "duration": 6,
    "start_time": "2023-01-18T17:08:40.773Z"
   },
   {
    "duration": 6,
    "start_time": "2023-01-18T17:08:42.941Z"
   },
   {
    "duration": 56,
    "start_time": "2023-01-18T17:09:21.765Z"
   },
   {
    "duration": 6,
    "start_time": "2023-01-18T17:11:46.791Z"
   },
   {
    "duration": 64,
    "start_time": "2023-01-18T17:11:48.107Z"
   },
   {
    "duration": 206,
    "start_time": "2023-01-18T17:15:26.585Z"
   },
   {
    "duration": 139,
    "start_time": "2023-01-18T17:15:52.578Z"
   },
   {
    "duration": 146,
    "start_time": "2023-01-18T17:16:15.868Z"
   },
   {
    "duration": 5,
    "start_time": "2023-01-18T17:17:40.790Z"
   },
   {
    "duration": 3,
    "start_time": "2023-01-18T17:17:54.237Z"
   },
   {
    "duration": 4,
    "start_time": "2023-01-18T17:17:56.087Z"
   },
   {
    "duration": 6,
    "start_time": "2023-01-18T17:17:58.090Z"
   },
   {
    "duration": 6,
    "start_time": "2023-01-18T17:18:45.364Z"
   },
   {
    "duration": 4,
    "start_time": "2023-01-18T17:18:51.336Z"
   },
   {
    "duration": 3,
    "start_time": "2023-01-18T17:19:15.463Z"
   },
   {
    "duration": 4,
    "start_time": "2023-01-18T17:19:16.064Z"
   },
   {
    "duration": 6,
    "start_time": "2023-01-18T17:19:16.676Z"
   },
   {
    "duration": 8,
    "start_time": "2023-01-18T17:19:17.265Z"
   },
   {
    "duration": 6,
    "start_time": "2023-01-18T17:19:18.589Z"
   },
   {
    "duration": 9,
    "start_time": "2023-01-18T17:19:32.686Z"
   },
   {
    "duration": 9,
    "start_time": "2023-01-18T17:19:46.496Z"
   },
   {
    "duration": 167,
    "start_time": "2023-01-18T17:22:50.908Z"
   },
   {
    "duration": 1770,
    "start_time": "2023-01-18T17:23:11.558Z"
   },
   {
    "duration": 5,
    "start_time": "2023-01-18T17:36:36.236Z"
   },
   {
    "duration": 3984,
    "start_time": "2023-01-18T17:37:11.461Z"
   },
   {
    "duration": 5,
    "start_time": "2023-01-18T17:37:47.461Z"
   },
   {
    "duration": 1111,
    "start_time": "2023-01-19T09:16:06.851Z"
   },
   {
    "duration": 3,
    "start_time": "2023-01-19T09:16:07.965Z"
   },
   {
    "duration": 2,
    "start_time": "2023-01-19T09:22:01.837Z"
   },
   {
    "duration": 3,
    "start_time": "2023-01-19T09:22:02.164Z"
   },
   {
    "duration": 3027,
    "start_time": "2023-01-19T09:22:02.770Z"
   },
   {
    "duration": 18,
    "start_time": "2023-01-19T09:22:05.800Z"
   },
   {
    "duration": 12,
    "start_time": "2023-01-19T09:22:05.820Z"
   },
   {
    "duration": 18,
    "start_time": "2023-01-19T09:22:05.834Z"
   },
   {
    "duration": 139,
    "start_time": "2023-01-19T09:22:05.853Z"
   },
   {
    "duration": 20,
    "start_time": "2023-01-19T09:22:05.994Z"
   },
   {
    "duration": 93,
    "start_time": "2023-01-19T09:22:07.151Z"
   },
   {
    "duration": 10,
    "start_time": "2023-01-19T09:22:08.976Z"
   },
   {
    "duration": 6,
    "start_time": "2023-01-19T09:22:09.461Z"
   },
   {
    "duration": 10,
    "start_time": "2023-01-19T09:22:10.138Z"
   },
   {
    "duration": 229,
    "start_time": "2023-01-19T09:22:10.959Z"
   },
   {
    "duration": 134,
    "start_time": "2023-01-19T09:22:11.610Z"
   },
   {
    "duration": 262,
    "start_time": "2023-01-19T09:22:12.315Z"
   },
   {
    "duration": 12164,
    "start_time": "2023-01-19T09:22:18.215Z"
   },
   {
    "duration": 2,
    "start_time": "2023-01-19T09:22:30.382Z"
   },
   {
    "duration": 14,
    "start_time": "2023-01-19T09:22:30.386Z"
   },
   {
    "duration": 24,
    "start_time": "2023-01-19T09:22:30.402Z"
   },
   {
    "duration": 1739,
    "start_time": "2023-01-19T09:22:30.428Z"
   },
   {
    "duration": 12,
    "start_time": "2023-01-19T09:22:32.169Z"
   },
   {
    "duration": 3955,
    "start_time": "2023-01-19T09:22:32.182Z"
   },
   {
    "duration": 3,
    "start_time": "2023-01-19T09:31:24.324Z"
   },
   {
    "duration": 3,
    "start_time": "2023-01-19T09:32:33.437Z"
   },
   {
    "duration": 24,
    "start_time": "2023-01-19T09:35:27.083Z"
   },
   {
    "duration": 16,
    "start_time": "2023-01-19T09:40:58.897Z"
   },
   {
    "duration": 10,
    "start_time": "2023-01-19T09:42:01.124Z"
   },
   {
    "duration": 9,
    "start_time": "2023-01-19T09:45:31.366Z"
   },
   {
    "duration": 98,
    "start_time": "2023-01-19T09:45:50.774Z"
   },
   {
    "duration": 26,
    "start_time": "2023-01-19T09:46:08.860Z"
   },
   {
    "duration": 7,
    "start_time": "2023-01-19T09:46:17.074Z"
   },
   {
    "duration": 11,
    "start_time": "2023-01-19T09:47:01.964Z"
   },
   {
    "duration": 8,
    "start_time": "2023-01-19T09:48:32.761Z"
   },
   {
    "duration": 5,
    "start_time": "2023-01-19T09:48:46.100Z"
   },
   {
    "duration": 4,
    "start_time": "2023-01-19T09:49:03.094Z"
   },
   {
    "duration": 4,
    "start_time": "2023-01-19T09:49:51.924Z"
   },
   {
    "duration": 4,
    "start_time": "2023-01-19T09:49:52.959Z"
   },
   {
    "duration": 4,
    "start_time": "2023-01-19T09:50:15.193Z"
   },
   {
    "duration": 429,
    "start_time": "2023-01-19T09:51:07.936Z"
   },
   {
    "duration": 43,
    "start_time": "2023-01-19T09:53:29.833Z"
   },
   {
    "duration": 1448,
    "start_time": "2023-01-19T12:40:53.247Z"
   },
   {
    "duration": 3,
    "start_time": "2023-01-19T12:40:54.696Z"
   },
   {
    "duration": 1843,
    "start_time": "2023-01-19T12:40:54.701Z"
   },
   {
    "duration": 17,
    "start_time": "2023-01-19T12:40:56.548Z"
   },
   {
    "duration": 13,
    "start_time": "2023-01-19T12:40:56.566Z"
   },
   {
    "duration": 16,
    "start_time": "2023-01-19T12:41:02.347Z"
   },
   {
    "duration": 118,
    "start_time": "2023-01-19T12:41:03.212Z"
   },
   {
    "duration": 21,
    "start_time": "2023-01-19T12:41:03.861Z"
   },
   {
    "duration": 90,
    "start_time": "2023-01-19T12:41:04.495Z"
   },
   {
    "duration": 10,
    "start_time": "2023-01-19T12:41:05.382Z"
   },
   {
    "duration": 7,
    "start_time": "2023-01-19T12:41:06.090Z"
   },
   {
    "duration": 10,
    "start_time": "2023-01-19T12:41:06.804Z"
   },
   {
    "duration": 233,
    "start_time": "2023-01-19T12:41:07.865Z"
   },
   {
    "duration": 128,
    "start_time": "2023-01-19T12:41:08.568Z"
   },
   {
    "duration": 237,
    "start_time": "2023-01-19T12:41:42.064Z"
   },
   {
    "duration": 11589,
    "start_time": "2023-01-19T12:41:47.518Z"
   },
   {
    "duration": 2,
    "start_time": "2023-01-19T12:41:59.112Z"
   },
   {
    "duration": 16,
    "start_time": "2023-01-19T12:41:59.116Z"
   },
   {
    "duration": 11,
    "start_time": "2023-01-19T12:41:59.134Z"
   },
   {
    "duration": 1773,
    "start_time": "2023-01-19T12:41:59.168Z"
   },
   {
    "duration": 5,
    "start_time": "2023-01-19T12:42:00.943Z"
   },
   {
    "duration": 3921,
    "start_time": "2023-01-19T12:42:07.147Z"
   },
   {
    "duration": 3,
    "start_time": "2023-01-19T12:42:59.461Z"
   },
   {
    "duration": 18,
    "start_time": "2023-01-19T12:43:01.511Z"
   },
   {
    "duration": 9,
    "start_time": "2023-01-19T12:43:03.762Z"
   },
   {
    "duration": 6,
    "start_time": "2023-01-19T12:43:04.761Z"
   },
   {
    "duration": 9,
    "start_time": "2023-01-19T12:43:05.701Z"
   },
   {
    "duration": 3,
    "start_time": "2023-01-19T12:43:08.801Z"
   },
   {
    "duration": 4,
    "start_time": "2023-01-19T12:43:09.775Z"
   },
   {
    "duration": 4,
    "start_time": "2023-01-19T12:43:10.664Z"
   },
   {
    "duration": 96,
    "start_time": "2023-01-19T12:43:27.015Z"
   },
   {
    "duration": 9,
    "start_time": "2023-01-19T12:48:53.446Z"
   },
   {
    "duration": 65,
    "start_time": "2023-01-19T12:51:16.499Z"
   },
   {
    "duration": 4,
    "start_time": "2023-01-19T12:51:28.208Z"
   },
   {
    "duration": 635,
    "start_time": "2023-01-19T12:51:30.965Z"
   },
   {
    "duration": 499,
    "start_time": "2023-01-19T12:51:40.864Z"
   },
   {
    "duration": 233,
    "start_time": "2023-01-19T12:52:19.275Z"
   },
   {
    "duration": 225,
    "start_time": "2023-01-19T12:53:13.962Z"
   },
   {
    "duration": 2029,
    "start_time": "2023-01-19T12:54:03.061Z"
   },
   {
    "duration": 1914,
    "start_time": "2023-01-19T12:54:13.471Z"
   },
   {
    "duration": 1991,
    "start_time": "2023-01-19T12:54:53.303Z"
   },
   {
    "duration": 4,
    "start_time": "2023-01-19T13:13:17.118Z"
   },
   {
    "duration": 1804,
    "start_time": "2023-01-19T13:13:19.105Z"
   },
   {
    "duration": 3,
    "start_time": "2023-01-19T13:19:21.308Z"
   },
   {
    "duration": 1659,
    "start_time": "2023-01-19T13:19:49.263Z"
   },
   {
    "duration": 1607,
    "start_time": "2023-01-19T13:20:03.158Z"
   },
   {
    "duration": 1642,
    "start_time": "2023-01-19T13:20:16.208Z"
   },
   {
    "duration": 1594,
    "start_time": "2023-01-19T13:20:24.471Z"
   },
   {
    "duration": 93,
    "start_time": "2023-01-19T13:28:16.748Z"
   },
   {
    "duration": 4,
    "start_time": "2023-01-19T13:30:19.764Z"
   },
   {
    "duration": 1624,
    "start_time": "2023-01-19T13:30:20.868Z"
   },
   {
    "duration": 1616,
    "start_time": "2023-01-19T13:30:35.886Z"
   },
   {
    "duration": 3,
    "start_time": "2023-01-19T13:34:13.509Z"
   },
   {
    "duration": 593,
    "start_time": "2023-01-19T13:41:41.797Z"
   },
   {
    "duration": 688,
    "start_time": "2023-01-19T13:42:28.940Z"
   },
   {
    "duration": 570,
    "start_time": "2023-01-19T13:43:22.047Z"
   },
   {
    "duration": 575,
    "start_time": "2023-01-19T13:47:27.033Z"
   },
   {
    "duration": 590,
    "start_time": "2023-01-19T13:49:29.074Z"
   },
   {
    "duration": 602,
    "start_time": "2023-01-19T13:50:12.646Z"
   },
   {
    "duration": 638,
    "start_time": "2023-01-19T13:51:22.333Z"
   },
   {
    "duration": 638,
    "start_time": "2023-01-19T14:01:48.304Z"
   },
   {
    "duration": 599,
    "start_time": "2023-01-19T14:02:33.960Z"
   },
   {
    "duration": 662,
    "start_time": "2023-01-19T14:02:55.885Z"
   },
   {
    "duration": 81,
    "start_time": "2023-01-19T14:03:48.641Z"
   },
   {
    "duration": 3,
    "start_time": "2023-01-19T14:05:10.995Z"
   },
   {
    "duration": 730,
    "start_time": "2023-01-19T14:07:33.668Z"
   },
   {
    "duration": 716,
    "start_time": "2023-01-19T14:07:47.169Z"
   },
   {
    "duration": 916,
    "start_time": "2023-01-19T14:07:54.763Z"
   },
   {
    "duration": 872,
    "start_time": "2023-01-19T14:08:06.540Z"
   },
   {
    "duration": 814,
    "start_time": "2023-01-19T14:08:19.136Z"
   },
   {
    "duration": 758,
    "start_time": "2023-01-19T14:08:30.710Z"
   },
   {
    "duration": 771,
    "start_time": "2023-01-19T14:08:38.636Z"
   },
   {
    "duration": 904,
    "start_time": "2023-01-19T14:08:47.447Z"
   },
   {
    "duration": 829,
    "start_time": "2023-01-19T14:08:56.761Z"
   },
   {
    "duration": 779,
    "start_time": "2023-01-19T14:09:10.922Z"
   },
   {
    "duration": 793,
    "start_time": "2023-01-19T14:10:20.039Z"
   },
   {
    "duration": 837,
    "start_time": "2023-01-19T14:10:47.163Z"
   },
   {
    "duration": 130,
    "start_time": "2023-01-19T14:12:41.733Z"
   },
   {
    "duration": 71,
    "start_time": "2023-01-19T14:12:56.661Z"
   },
   {
    "duration": 678,
    "start_time": "2023-01-19T14:13:07.039Z"
   },
   {
    "duration": 833,
    "start_time": "2023-01-19T14:13:59.792Z"
   },
   {
    "duration": 763,
    "start_time": "2023-01-19T14:14:11.578Z"
   },
   {
    "duration": 756,
    "start_time": "2023-01-19T14:14:34.882Z"
   },
   {
    "duration": 852,
    "start_time": "2023-01-19T14:15:01.934Z"
   },
   {
    "duration": 1463,
    "start_time": "2023-01-20T12:07:07.089Z"
   },
   {
    "duration": 2,
    "start_time": "2023-01-20T12:07:08.554Z"
   },
   {
    "duration": 3302,
    "start_time": "2023-01-20T12:07:08.558Z"
   },
   {
    "duration": 20,
    "start_time": "2023-01-20T12:07:11.863Z"
   },
   {
    "duration": 12,
    "start_time": "2023-01-20T12:07:11.885Z"
   },
   {
    "duration": 16,
    "start_time": "2023-01-20T12:07:11.898Z"
   },
   {
    "duration": 141,
    "start_time": "2023-01-20T12:07:11.916Z"
   },
   {
    "duration": 38,
    "start_time": "2023-01-20T12:07:12.060Z"
   },
   {
    "duration": 98,
    "start_time": "2023-01-20T12:07:12.100Z"
   },
   {
    "duration": 9,
    "start_time": "2023-01-20T12:07:12.535Z"
   },
   {
    "duration": 7,
    "start_time": "2023-01-20T12:07:13.427Z"
   },
   {
    "duration": 10,
    "start_time": "2023-01-20T12:07:14.101Z"
   },
   {
    "duration": 244,
    "start_time": "2023-01-20T12:07:15.968Z"
   },
   {
    "duration": 139,
    "start_time": "2023-01-20T12:07:16.650Z"
   },
   {
    "duration": 263,
    "start_time": "2023-01-20T12:07:17.497Z"
   },
   {
    "duration": 12380,
    "start_time": "2023-01-20T12:07:18.248Z"
   },
   {
    "duration": 3,
    "start_time": "2023-01-20T12:07:30.630Z"
   },
   {
    "duration": 4,
    "start_time": "2023-01-20T12:07:48.537Z"
   },
   {
    "duration": 7,
    "start_time": "2023-01-20T12:07:49.400Z"
   },
   {
    "duration": 1823,
    "start_time": "2023-01-20T12:07:50.062Z"
   },
   {
    "duration": 5,
    "start_time": "2023-01-20T12:07:51.888Z"
   },
   {
    "duration": 4518,
    "start_time": "2023-01-20T12:07:51.894Z"
   },
   {
    "duration": 3,
    "start_time": "2023-01-20T12:07:56.414Z"
   },
   {
    "duration": 72,
    "start_time": "2023-01-20T12:07:56.418Z"
   },
   {
    "duration": 12,
    "start_time": "2023-01-20T12:07:56.715Z"
   },
   {
    "duration": 8,
    "start_time": "2023-01-20T12:07:56.730Z"
   },
   {
    "duration": 37,
    "start_time": "2023-01-20T12:07:56.740Z"
   },
   {
    "duration": 4,
    "start_time": "2023-01-20T12:07:56.881Z"
   },
   {
    "duration": 4,
    "start_time": "2023-01-20T12:07:56.958Z"
   },
   {
    "duration": 4,
    "start_time": "2023-01-20T12:08:12.018Z"
   },
   {
    "duration": 3,
    "start_time": "2023-01-20T12:08:27.825Z"
   },
   {
    "duration": 1699,
    "start_time": "2023-01-20T12:08:28.647Z"
   },
   {
    "duration": 4,
    "start_time": "2023-01-20T12:08:30.348Z"
   },
   {
    "duration": 1647,
    "start_time": "2023-01-20T12:08:30.409Z"
   },
   {
    "duration": 18,
    "start_time": "2023-01-20T12:08:32.057Z"
   },
   {
    "duration": 1697,
    "start_time": "2023-01-20T12:08:32.081Z"
   },
   {
    "duration": 774,
    "start_time": "2023-01-20T12:08:33.781Z"
   },
   {
    "duration": 21,
    "start_time": "2023-01-20T12:08:34.557Z"
   },
   {
    "duration": 6,
    "start_time": "2023-01-20T12:08:34.580Z"
   },
   {
    "duration": 7,
    "start_time": "2023-01-20T12:08:34.587Z"
   },
   {
    "duration": 1810,
    "start_time": "2023-01-20T12:08:34.596Z"
   },
   {
    "duration": 4,
    "start_time": "2023-01-20T12:08:36.408Z"
   },
   {
    "duration": 3,
    "start_time": "2023-01-20T12:32:15.219Z"
   },
   {
    "duration": 4,
    "start_time": "2023-01-20T12:35:17.389Z"
   },
   {
    "duration": 105,
    "start_time": "2023-01-20T12:46:32.473Z"
   },
   {
    "duration": 9,
    "start_time": "2023-01-20T12:47:27.076Z"
   },
   {
    "duration": 9,
    "start_time": "2023-01-20T12:47:32.929Z"
   },
   {
    "duration": 12,
    "start_time": "2023-01-20T12:59:21.973Z"
   },
   {
    "duration": 3,
    "start_time": "2023-01-20T13:00:01.780Z"
   },
   {
    "duration": 84,
    "start_time": "2023-01-20T13:00:12.250Z"
   },
   {
    "duration": 28,
    "start_time": "2023-01-20T13:07:11.045Z"
   },
   {
    "duration": 2055,
    "start_time": "2023-01-20T14:01:07.348Z"
   },
   {
    "duration": 3,
    "start_time": "2023-01-20T14:01:09.406Z"
   },
   {
    "duration": 2285,
    "start_time": "2023-01-20T14:01:09.411Z"
   },
   {
    "duration": 27,
    "start_time": "2023-01-20T14:01:11.699Z"
   },
   {
    "duration": 19,
    "start_time": "2023-01-20T14:01:11.728Z"
   },
   {
    "duration": 36,
    "start_time": "2023-01-20T14:01:11.749Z"
   },
   {
    "duration": 199,
    "start_time": "2023-01-20T14:01:11.787Z"
   },
   {
    "duration": 29,
    "start_time": "2023-01-20T14:01:11.988Z"
   },
   {
    "duration": 154,
    "start_time": "2023-01-20T14:01:12.030Z"
   },
   {
    "duration": 11,
    "start_time": "2023-01-20T14:01:12.850Z"
   },
   {
    "duration": 11,
    "start_time": "2023-01-20T14:01:13.361Z"
   },
   {
    "duration": 13,
    "start_time": "2023-01-20T14:01:14.121Z"
   },
   {
    "duration": 277,
    "start_time": "2023-01-20T14:01:15.030Z"
   },
   {
    "duration": 149,
    "start_time": "2023-01-20T14:01:16.533Z"
   },
   {
    "duration": 279,
    "start_time": "2023-01-20T14:01:17.178Z"
   },
   {
    "duration": 14183,
    "start_time": "2023-01-20T14:01:17.941Z"
   },
   {
    "duration": 4,
    "start_time": "2023-01-20T14:01:32.127Z"
   },
   {
    "duration": 19,
    "start_time": "2023-01-20T14:01:32.133Z"
   },
   {
    "duration": 11,
    "start_time": "2023-01-20T14:01:32.154Z"
   },
   {
    "duration": 2017,
    "start_time": "2023-01-20T14:01:32.167Z"
   },
   {
    "duration": 6,
    "start_time": "2023-01-20T14:01:34.187Z"
   },
   {
    "duration": 4744,
    "start_time": "2023-01-20T14:01:38.515Z"
   },
   {
    "duration": 3,
    "start_time": "2023-01-20T14:01:43.261Z"
   },
   {
    "duration": 20,
    "start_time": "2023-01-20T14:02:27.482Z"
   },
   {
    "duration": 12,
    "start_time": "2023-01-20T14:02:29.992Z"
   },
   {
    "duration": 11,
    "start_time": "2023-01-20T14:02:30.289Z"
   },
   {
    "duration": 12,
    "start_time": "2023-01-20T14:02:30.456Z"
   },
   {
    "duration": 5,
    "start_time": "2023-01-20T14:02:30.877Z"
   },
   {
    "duration": 5,
    "start_time": "2023-01-20T14:02:31.124Z"
   },
   {
    "duration": 6,
    "start_time": "2023-01-20T14:02:31.277Z"
   },
   {
    "duration": 5,
    "start_time": "2023-01-20T14:02:55.070Z"
   },
   {
    "duration": 1807,
    "start_time": "2023-01-20T14:03:44.812Z"
   },
   {
    "duration": 9,
    "start_time": "2023-01-20T14:03:46.621Z"
   },
   {
    "duration": 1757,
    "start_time": "2023-01-20T14:03:46.637Z"
   },
   {
    "duration": 5,
    "start_time": "2023-01-20T14:03:48.396Z"
   },
   {
    "duration": 1832,
    "start_time": "2023-01-20T14:03:48.402Z"
   },
   {
    "duration": 858,
    "start_time": "2023-01-20T14:03:50.237Z"
   },
   {
    "duration": 8,
    "start_time": "2023-01-20T14:03:51.097Z"
   },
   {
    "duration": 26,
    "start_time": "2023-01-20T14:03:51.107Z"
   },
   {
    "duration": 20,
    "start_time": "2023-01-20T14:03:51.135Z"
   },
   {
    "duration": 1886,
    "start_time": "2023-01-20T14:03:51.187Z"
   },
   {
    "duration": 4,
    "start_time": "2023-01-20T14:03:55.848Z"
   },
   {
    "duration": 3,
    "start_time": "2023-01-20T14:03:57.769Z"
   },
   {
    "duration": 5,
    "start_time": "2023-01-20T14:04:09.266Z"
   },
   {
    "duration": 5,
    "start_time": "2023-01-20T14:04:55.559Z"
   },
   {
    "duration": 5,
    "start_time": "2023-01-20T14:05:31.546Z"
   },
   {
    "duration": 15,
    "start_time": "2023-01-20T14:07:13.900Z"
   },
   {
    "duration": 9,
    "start_time": "2023-01-20T14:08:13.008Z"
   },
   {
    "duration": 9,
    "start_time": "2023-01-20T14:09:46.491Z"
   },
   {
    "duration": 9,
    "start_time": "2023-01-20T14:10:39.466Z"
   },
   {
    "duration": 4,
    "start_time": "2023-01-20T14:12:05.029Z"
   },
   {
    "duration": 4,
    "start_time": "2023-01-20T14:12:12.582Z"
   },
   {
    "duration": 4,
    "start_time": "2023-01-20T14:15:18.092Z"
   },
   {
    "duration": 139,
    "start_time": "2023-01-20T14:24:41.594Z"
   },
   {
    "duration": 49,
    "start_time": "2023-01-23T12:03:25.752Z"
   },
   {
    "duration": 1524,
    "start_time": "2023-01-23T12:04:38.350Z"
   },
   {
    "duration": 4,
    "start_time": "2023-01-23T12:04:51.077Z"
   },
   {
    "duration": 3,
    "start_time": "2023-01-23T12:04:51.374Z"
   },
   {
    "duration": 3023,
    "start_time": "2023-01-23T12:04:51.744Z"
   },
   {
    "duration": 23,
    "start_time": "2023-01-23T12:04:54.769Z"
   },
   {
    "duration": 20,
    "start_time": "2023-01-23T12:04:54.795Z"
   },
   {
    "duration": 22,
    "start_time": "2023-01-23T12:04:54.818Z"
   },
   {
    "duration": 149,
    "start_time": "2023-01-23T12:04:54.843Z"
   },
   {
    "duration": 33,
    "start_time": "2023-01-23T12:04:54.995Z"
   },
   {
    "duration": 99,
    "start_time": "2023-01-23T12:04:55.437Z"
   },
   {
    "duration": 10,
    "start_time": "2023-01-23T12:04:56.183Z"
   },
   {
    "duration": 7,
    "start_time": "2023-01-23T12:04:56.693Z"
   },
   {
    "duration": 10,
    "start_time": "2023-01-23T12:04:57.465Z"
   },
   {
    "duration": 233,
    "start_time": "2023-01-23T12:04:58.599Z"
   },
   {
    "duration": 128,
    "start_time": "2023-01-23T12:04:59.374Z"
   },
   {
    "duration": 252,
    "start_time": "2023-01-23T12:05:00.066Z"
   },
   {
    "duration": 12522,
    "start_time": "2023-01-23T12:05:33.662Z"
   },
   {
    "duration": 3,
    "start_time": "2023-01-23T12:05:46.187Z"
   },
   {
    "duration": 8,
    "start_time": "2023-01-23T12:05:46.193Z"
   },
   {
    "duration": 11,
    "start_time": "2023-01-23T12:05:46.203Z"
   },
   {
    "duration": 1823,
    "start_time": "2023-01-23T12:05:46.216Z"
   },
   {
    "duration": 6,
    "start_time": "2023-01-23T12:05:48.040Z"
   },
   {
    "duration": 5,
    "start_time": "2023-01-23T12:05:48.047Z"
   },
   {
    "duration": 10,
    "start_time": "2023-01-23T12:05:48.053Z"
   },
   {
    "duration": 7,
    "start_time": "2023-01-23T12:05:48.064Z"
   },
   {
    "duration": 47,
    "start_time": "2023-01-23T12:05:48.074Z"
   },
   {
    "duration": 26,
    "start_time": "2023-01-23T12:05:48.123Z"
   },
   {
    "duration": 10,
    "start_time": "2023-01-23T12:05:55.329Z"
   },
   {
    "duration": 7,
    "start_time": "2023-01-23T12:06:00.827Z"
   },
   {
    "duration": 10,
    "start_time": "2023-01-23T12:06:02.351Z"
   },
   {
    "duration": 4,
    "start_time": "2023-01-23T12:06:05.945Z"
   },
   {
    "duration": 3,
    "start_time": "2023-01-23T12:06:06.811Z"
   },
   {
    "duration": 5,
    "start_time": "2023-01-23T12:06:07.680Z"
   },
   {
    "duration": 4,
    "start_time": "2023-01-23T12:06:08.664Z"
   },
   {
    "duration": 1682,
    "start_time": "2023-01-23T12:06:08.955Z"
   },
   {
    "duration": 4,
    "start_time": "2023-01-23T12:06:10.640Z"
   },
   {
    "duration": 1658,
    "start_time": "2023-01-23T12:06:10.645Z"
   },
   {
    "duration": 4,
    "start_time": "2023-01-23T12:06:12.305Z"
   },
   {
    "duration": 1688,
    "start_time": "2023-01-23T12:06:12.311Z"
   },
   {
    "duration": 876,
    "start_time": "2023-01-23T12:06:14.001Z"
   },
   {
    "duration": 6,
    "start_time": "2023-01-23T12:06:14.880Z"
   },
   {
    "duration": 10,
    "start_time": "2023-01-23T12:06:14.889Z"
   },
   {
    "duration": 23,
    "start_time": "2023-01-23T12:06:14.903Z"
   },
   {
    "duration": 1718,
    "start_time": "2023-01-23T12:06:14.928Z"
   },
   {
    "duration": 75,
    "start_time": "2023-01-23T12:06:17.994Z"
   },
   {
    "duration": 8,
    "start_time": "2023-01-23T12:06:39.087Z"
   },
   {
    "duration": 16,
    "start_time": "2023-01-23T12:06:54.760Z"
   },
   {
    "duration": 12,
    "start_time": "2023-01-23T12:06:56.526Z"
   },
   {
    "duration": 2,
    "start_time": "2023-01-23T12:06:57.567Z"
   },
   {
    "duration": 2,
    "start_time": "2023-01-23T12:06:58.602Z"
   },
   {
    "duration": 3,
    "start_time": "2023-01-23T12:06:59.467Z"
   },
   {
    "duration": 2,
    "start_time": "2023-01-23T12:07:00.715Z"
   },
   {
    "duration": 3,
    "start_time": "2023-01-23T12:07:02.486Z"
   },
   {
    "duration": 2,
    "start_time": "2023-01-23T12:07:05.475Z"
   },
   {
    "duration": 3,
    "start_time": "2023-01-23T12:07:07.462Z"
   },
   {
    "duration": 6,
    "start_time": "2023-01-23T12:07:10.270Z"
   },
   {
    "duration": 3,
    "start_time": "2023-01-23T12:07:23.095Z"
   },
   {
    "duration": 2760,
    "start_time": "2023-01-23T12:07:24.661Z"
   },
   {
    "duration": 7,
    "start_time": "2023-01-23T12:07:27.424Z"
   },
   {
    "duration": 7701,
    "start_time": "2023-01-23T12:07:27.953Z"
   },
   {
    "duration": 7733,
    "start_time": "2023-01-23T12:12:06.113Z"
   },
   {
    "duration": 3,
    "start_time": "2023-01-23T12:23:28.205Z"
   },
   {
    "duration": 5,
    "start_time": "2023-01-23T12:26:54.125Z"
   },
   {
    "duration": 9,
    "start_time": "2023-01-23T12:29:03.341Z"
   },
   {
    "duration": 3,
    "start_time": "2023-01-23T12:29:49.900Z"
   },
   {
    "duration": 3,
    "start_time": "2023-01-23T12:31:35.889Z"
   },
   {
    "duration": 3,
    "start_time": "2023-01-23T12:35:31.843Z"
   },
   {
    "duration": 65398,
    "start_time": "2023-01-23T12:40:20.082Z"
   },
   {
    "duration": 63456,
    "start_time": "2023-01-23T12:49:34.153Z"
   },
   {
    "duration": 9,
    "start_time": "2023-01-23T12:50:37.611Z"
   },
   {
    "duration": 64414,
    "start_time": "2023-01-23T12:52:36.493Z"
   },
   {
    "duration": 63433,
    "start_time": "2023-01-23T13:00:00.488Z"
   },
   {
    "duration": 64947,
    "start_time": "2023-01-23T13:05:57.348Z"
   },
   {
    "duration": 64403,
    "start_time": "2023-01-23T13:07:02.297Z"
   },
   {
    "duration": 3935,
    "start_time": "2023-01-23T13:12:50.712Z"
   },
   {
    "duration": 4331,
    "start_time": "2023-01-23T13:15:28.591Z"
   },
   {
    "duration": 179,
    "start_time": "2023-01-23T13:16:33.548Z"
   },
   {
    "duration": 3499,
    "start_time": "2023-01-23T13:16:47.127Z"
   },
   {
    "duration": 52,
    "start_time": "2023-01-23T14:09:53.327Z"
   },
   {
    "duration": 7,
    "start_time": "2023-01-23T14:10:39.656Z"
   },
   {
    "duration": 1563,
    "start_time": "2023-01-23T14:28:01.627Z"
   },
   {
    "duration": 4,
    "start_time": "2023-01-23T14:28:03.192Z"
   },
   {
    "duration": 3097,
    "start_time": "2023-01-23T14:28:03.197Z"
   },
   {
    "duration": 16,
    "start_time": "2023-01-23T14:28:06.296Z"
   },
   {
    "duration": 11,
    "start_time": "2023-01-23T14:28:06.314Z"
   },
   {
    "duration": 22,
    "start_time": "2023-01-23T14:28:06.327Z"
   },
   {
    "duration": 121,
    "start_time": "2023-01-23T14:28:06.350Z"
   },
   {
    "duration": 23,
    "start_time": "2023-01-23T14:28:06.473Z"
   },
   {
    "duration": 96,
    "start_time": "2023-01-23T14:28:06.527Z"
   },
   {
    "duration": 8,
    "start_time": "2023-01-23T14:28:08.901Z"
   },
   {
    "duration": 8,
    "start_time": "2023-01-23T14:28:09.443Z"
   },
   {
    "duration": 10,
    "start_time": "2023-01-23T14:28:09.919Z"
   },
   {
    "duration": 223,
    "start_time": "2023-01-23T14:28:11.034Z"
   },
   {
    "duration": 121,
    "start_time": "2023-01-23T14:28:11.502Z"
   },
   {
    "duration": 227,
    "start_time": "2023-01-23T14:28:11.971Z"
   },
   {
    "duration": 11641,
    "start_time": "2023-01-23T14:28:12.742Z"
   },
   {
    "duration": 4,
    "start_time": "2023-01-23T14:28:24.385Z"
   },
   {
    "duration": 9,
    "start_time": "2023-01-23T14:28:24.391Z"
   },
   {
    "duration": 8,
    "start_time": "2023-01-23T14:28:24.402Z"
   },
   {
    "duration": 694,
    "start_time": "2023-01-23T14:28:24.412Z"
   },
   {
    "duration": 0,
    "start_time": "2023-01-23T14:28:25.108Z"
   },
   {
    "duration": 0,
    "start_time": "2023-01-23T14:28:25.109Z"
   },
   {
    "duration": 0,
    "start_time": "2023-01-23T14:28:25.110Z"
   },
   {
    "duration": 0,
    "start_time": "2023-01-23T14:28:25.111Z"
   },
   {
    "duration": 0,
    "start_time": "2023-01-23T14:28:25.112Z"
   },
   {
    "duration": 0,
    "start_time": "2023-01-23T14:28:25.114Z"
   },
   {
    "duration": 0,
    "start_time": "2023-01-23T14:28:25.115Z"
   },
   {
    "duration": 0,
    "start_time": "2023-01-23T14:28:25.116Z"
   },
   {
    "duration": 0,
    "start_time": "2023-01-23T14:28:25.117Z"
   },
   {
    "duration": 0,
    "start_time": "2023-01-23T14:28:25.118Z"
   },
   {
    "duration": 0,
    "start_time": "2023-01-23T14:28:25.119Z"
   },
   {
    "duration": 0,
    "start_time": "2023-01-23T14:28:25.121Z"
   },
   {
    "duration": 0,
    "start_time": "2023-01-23T14:28:25.122Z"
   },
   {
    "duration": 0,
    "start_time": "2023-01-23T14:28:25.148Z"
   },
   {
    "duration": 0,
    "start_time": "2023-01-23T14:28:25.150Z"
   },
   {
    "duration": 0,
    "start_time": "2023-01-23T14:28:25.151Z"
   },
   {
    "duration": 0,
    "start_time": "2023-01-23T14:28:25.152Z"
   },
   {
    "duration": 0,
    "start_time": "2023-01-23T14:28:25.154Z"
   },
   {
    "duration": 0,
    "start_time": "2023-01-23T14:28:25.155Z"
   },
   {
    "duration": 0,
    "start_time": "2023-01-23T14:28:25.156Z"
   },
   {
    "duration": 0,
    "start_time": "2023-01-23T14:28:25.157Z"
   },
   {
    "duration": 0,
    "start_time": "2023-01-23T14:28:25.158Z"
   },
   {
    "duration": 0,
    "start_time": "2023-01-23T14:28:25.160Z"
   },
   {
    "duration": 10,
    "start_time": "2023-01-23T14:28:37.538Z"
   },
   {
    "duration": 11,
    "start_time": "2023-01-23T14:28:37.888Z"
   },
   {
    "duration": 10,
    "start_time": "2023-01-23T14:28:38.278Z"
   },
   {
    "duration": 3,
    "start_time": "2023-01-23T14:28:38.413Z"
   },
   {
    "duration": 6,
    "start_time": "2023-01-23T14:28:53.084Z"
   },
   {
    "duration": 1896,
    "start_time": "2023-01-23T14:28:55.372Z"
   },
   {
    "duration": 6,
    "start_time": "2023-01-23T14:29:08.602Z"
   },
   {
    "duration": 2,
    "start_time": "2023-01-23T14:29:20.711Z"
   },
   {
    "duration": 2,
    "start_time": "2023-01-23T14:29:21.786Z"
   },
   {
    "duration": 4,
    "start_time": "2023-01-23T14:29:22.402Z"
   },
   {
    "duration": 3,
    "start_time": "2023-01-23T14:29:24.225Z"
   },
   {
    "duration": 26,
    "start_time": "2023-01-23T14:29:25.577Z"
   },
   {
    "duration": 10,
    "start_time": "2023-01-23T14:29:26.876Z"
   },
   {
    "duration": 6,
    "start_time": "2023-01-23T14:29:27.190Z"
   },
   {
    "duration": 10,
    "start_time": "2023-01-23T14:29:27.512Z"
   },
   {
    "duration": 4,
    "start_time": "2023-01-23T14:29:28.120Z"
   },
   {
    "duration": 4,
    "start_time": "2023-01-23T14:29:28.427Z"
   },
   {
    "duration": 4,
    "start_time": "2023-01-23T14:29:28.757Z"
   },
   {
    "duration": 4,
    "start_time": "2023-01-23T14:29:29.897Z"
   },
   {
    "duration": 1563,
    "start_time": "2023-01-23T14:29:30.315Z"
   },
   {
    "duration": 4,
    "start_time": "2023-01-23T14:29:32.207Z"
   },
   {
    "duration": 1503,
    "start_time": "2023-01-23T14:29:32.478Z"
   },
   {
    "duration": 3,
    "start_time": "2023-01-23T14:29:33.983Z"
   },
   {
    "duration": 1608,
    "start_time": "2023-01-23T14:29:33.988Z"
   },
   {
    "duration": 756,
    "start_time": "2023-01-23T14:29:35.598Z"
   },
   {
    "duration": 4,
    "start_time": "2023-01-23T14:29:37.589Z"
   },
   {
    "duration": 5,
    "start_time": "2023-01-23T14:29:38.734Z"
   },
   {
    "duration": 4,
    "start_time": "2023-01-23T14:29:43.118Z"
   },
   {
    "duration": 1574,
    "start_time": "2023-01-23T14:29:44.229Z"
   },
   {
    "duration": 8,
    "start_time": "2023-01-23T14:29:48.469Z"
   },
   {
    "duration": 14,
    "start_time": "2023-01-23T14:29:51.190Z"
   },
   {
    "duration": 9,
    "start_time": "2023-01-23T14:29:53.426Z"
   },
   {
    "duration": 2,
    "start_time": "2023-01-23T14:29:54.515Z"
   },
   {
    "duration": 2,
    "start_time": "2023-01-23T14:29:55.058Z"
   },
   {
    "duration": 3,
    "start_time": "2023-01-23T14:29:55.188Z"
   },
   {
    "duration": 3,
    "start_time": "2023-01-23T14:29:55.506Z"
   },
   {
    "duration": 3,
    "start_time": "2023-01-23T14:29:56.598Z"
   },
   {
    "duration": 2,
    "start_time": "2023-01-23T14:29:57.213Z"
   },
   {
    "duration": 3,
    "start_time": "2023-01-23T14:29:57.886Z"
   },
   {
    "duration": 6,
    "start_time": "2023-01-23T14:29:59.638Z"
   },
   {
    "duration": 3,
    "start_time": "2023-01-23T14:30:00.478Z"
   },
   {
    "duration": 3,
    "start_time": "2023-01-23T14:30:01.978Z"
   },
   {
    "duration": 3,
    "start_time": "2023-01-23T14:30:02.614Z"
   },
   {
    "duration": 59293,
    "start_time": "2023-01-23T14:30:04.562Z"
   },
   {
    "duration": 627,
    "start_time": "2023-01-23T14:31:03.857Z"
   },
   {
    "duration": 58741,
    "start_time": "2023-01-23T14:31:04.486Z"
   },
   {
    "duration": 631,
    "start_time": "2023-01-23T14:32:03.229Z"
   },
   {
    "duration": 3287,
    "start_time": "2023-01-23T14:32:03.862Z"
   },
   {
    "duration": 3198,
    "start_time": "2023-01-23T14:32:07.152Z"
   },
   {
    "duration": 414,
    "start_time": "2023-01-23T14:32:10.352Z"
   },
   {
    "duration": 308,
    "start_time": "2023-01-23T15:01:46.648Z"
   },
   {
    "duration": 324,
    "start_time": "2023-01-23T15:01:56.079Z"
   },
   {
    "duration": 336,
    "start_time": "2023-01-23T15:02:03.303Z"
   },
   {
    "duration": 830,
    "start_time": "2023-01-23T15:04:47.820Z"
   },
   {
    "duration": 59656,
    "start_time": "2023-01-23T15:04:57.904Z"
   },
   {
    "duration": 618,
    "start_time": "2023-01-23T15:05:57.561Z"
   },
   {
    "duration": 3568,
    "start_time": "2023-01-23T15:05:58.181Z"
   },
   {
    "duration": 3504,
    "start_time": "2023-01-23T15:06:01.751Z"
   },
   {
    "duration": 524,
    "start_time": "2023-01-23T15:06:05.258Z"
   },
   {
    "duration": 345,
    "start_time": "2023-01-23T15:07:12.438Z"
   },
   {
    "duration": 447,
    "start_time": "2023-01-23T15:07:20.290Z"
   },
   {
    "duration": 374,
    "start_time": "2023-01-23T15:07:25.621Z"
   },
   {
    "duration": 400,
    "start_time": "2023-01-23T15:07:34.784Z"
   },
   {
    "duration": 27,
    "start_time": "2023-01-23T15:15:18.009Z"
   },
   {
    "duration": 17,
    "start_time": "2023-01-23T15:19:28.791Z"
   },
   {
    "duration": 5,
    "start_time": "2023-01-23T15:35:58.227Z"
   },
   {
    "duration": 6,
    "start_time": "2023-01-23T15:39:24.708Z"
   },
   {
    "duration": 248,
    "start_time": "2023-01-23T16:03:46.408Z"
   },
   {
    "duration": 122,
    "start_time": "2023-01-23T16:03:57.030Z"
   },
   {
    "duration": 149,
    "start_time": "2023-01-23T16:06:35.703Z"
   },
   {
    "duration": 112,
    "start_time": "2023-01-23T16:06:40.647Z"
   },
   {
    "duration": 97,
    "start_time": "2023-01-23T16:07:22.484Z"
   },
   {
    "duration": 11,
    "start_time": "2023-01-23T16:14:10.427Z"
   },
   {
    "duration": 4,
    "start_time": "2023-01-23T16:15:16.630Z"
   },
   {
    "duration": 13,
    "start_time": "2023-01-23T16:15:47.937Z"
   },
   {
    "duration": 8,
    "start_time": "2023-01-23T16:16:07.059Z"
   },
   {
    "duration": 9,
    "start_time": "2023-01-23T16:16:31.535Z"
   },
   {
    "duration": 214,
    "start_time": "2023-01-23T16:18:58.236Z"
   },
   {
    "duration": 3,
    "start_time": "2023-01-23T16:34:42.698Z"
   },
   {
    "duration": 5,
    "start_time": "2023-01-23T16:34:59.495Z"
   },
   {
    "duration": 4,
    "start_time": "2023-01-23T16:35:31.475Z"
   },
   {
    "duration": 4,
    "start_time": "2023-01-23T16:35:49.773Z"
   },
   {
    "duration": 1652,
    "start_time": "2023-01-23T17:37:24.584Z"
   },
   {
    "duration": 3,
    "start_time": "2023-01-23T17:37:27.760Z"
   },
   {
    "duration": 3226,
    "start_time": "2023-01-23T17:37:29.431Z"
   },
   {
    "duration": 17,
    "start_time": "2023-01-23T17:37:32.659Z"
   },
   {
    "duration": 12,
    "start_time": "2023-01-23T17:37:32.678Z"
   },
   {
    "duration": 21,
    "start_time": "2023-01-23T17:37:33.356Z"
   },
   {
    "duration": 147,
    "start_time": "2023-01-23T17:37:36.383Z"
   },
   {
    "duration": 22,
    "start_time": "2023-01-23T17:37:37.524Z"
   },
   {
    "duration": 98,
    "start_time": "2023-01-23T17:37:38.612Z"
   },
   {
    "duration": 9,
    "start_time": "2023-01-23T17:37:40.424Z"
   },
   {
    "duration": 11,
    "start_time": "2023-01-23T17:37:41.305Z"
   },
   {
    "duration": 12,
    "start_time": "2023-01-23T17:37:42.256Z"
   },
   {
    "duration": 245,
    "start_time": "2023-01-23T17:37:43.335Z"
   },
   {
    "duration": 129,
    "start_time": "2023-01-23T17:37:44.106Z"
   },
   {
    "duration": 243,
    "start_time": "2023-01-23T17:37:44.504Z"
   },
   {
    "duration": 12163,
    "start_time": "2023-01-23T17:37:46.254Z"
   },
   {
    "duration": 2,
    "start_time": "2023-01-23T17:37:58.419Z"
   },
   {
    "duration": 7,
    "start_time": "2023-01-23T17:37:58.423Z"
   },
   {
    "duration": 9,
    "start_time": "2023-01-23T17:37:58.432Z"
   },
   {
    "duration": 1875,
    "start_time": "2023-01-23T17:37:58.443Z"
   },
   {
    "duration": 4,
    "start_time": "2023-01-23T17:38:00.320Z"
   },
   {
    "duration": 7,
    "start_time": "2023-01-23T17:38:47.394Z"
   },
   {
    "duration": 3,
    "start_time": "2023-01-23T17:38:53.160Z"
   },
   {
    "duration": 24,
    "start_time": "2023-01-23T17:38:55.274Z"
   },
   {
    "duration": 12,
    "start_time": "2023-01-23T17:58:46.696Z"
   },
   {
    "duration": 8,
    "start_time": "2023-01-23T17:58:47.829Z"
   },
   {
    "duration": 11,
    "start_time": "2023-01-23T17:58:49.704Z"
   },
   {
    "duration": 4,
    "start_time": "2023-01-23T17:58:51.485Z"
   },
   {
    "duration": 6,
    "start_time": "2023-01-23T17:58:51.906Z"
   },
   {
    "duration": 4,
    "start_time": "2023-01-23T17:58:52.005Z"
   },
   {
    "duration": 4,
    "start_time": "2023-01-23T17:58:57.389Z"
   },
   {
    "duration": 1665,
    "start_time": "2023-01-23T17:58:57.936Z"
   },
   {
    "duration": 4,
    "start_time": "2023-01-23T17:58:59.606Z"
   },
   {
    "duration": 1687,
    "start_time": "2023-01-23T17:58:59.612Z"
   },
   {
    "duration": 4,
    "start_time": "2023-01-23T17:59:01.459Z"
   },
   {
    "duration": 1797,
    "start_time": "2023-01-23T17:59:02.185Z"
   },
   {
    "duration": 891,
    "start_time": "2023-01-23T17:59:03.984Z"
   },
   {
    "duration": 5,
    "start_time": "2023-01-23T17:59:06.464Z"
   },
   {
    "duration": 5,
    "start_time": "2023-01-23T17:59:08.563Z"
   },
   {
    "duration": 5,
    "start_time": "2023-01-23T17:59:10.576Z"
   },
   {
    "duration": 1712,
    "start_time": "2023-01-23T17:59:14.214Z"
   },
   {
    "duration": 8,
    "start_time": "2023-01-23T17:59:46.282Z"
   },
   {
    "duration": 17,
    "start_time": "2023-01-23T18:00:25.266Z"
   },
   {
    "duration": 10,
    "start_time": "2023-01-23T18:00:35.128Z"
   },
   {
    "duration": 4,
    "start_time": "2023-01-23T18:00:55.663Z"
   },
   {
    "duration": 2,
    "start_time": "2023-01-23T18:00:56.829Z"
   },
   {
    "duration": 3,
    "start_time": "2023-01-23T18:00:58.022Z"
   },
   {
    "duration": 6,
    "start_time": "2023-01-23T18:01:12.144Z"
   },
   {
    "duration": 3,
    "start_time": "2023-01-23T18:01:27.867Z"
   },
   {
    "duration": 127,
    "start_time": "2023-01-23T18:02:24.389Z"
   },
   {
    "duration": 3,
    "start_time": "2023-01-23T18:02:49.341Z"
   },
   {
    "duration": 62887,
    "start_time": "2023-01-23T18:02:54.160Z"
   },
   {
    "duration": 886,
    "start_time": "2023-01-23T18:03:57.049Z"
   },
   {
    "duration": 62823,
    "start_time": "2023-01-23T18:03:57.937Z"
   },
   {
    "duration": 634,
    "start_time": "2023-01-23T18:05:00.763Z"
   },
   {
    "duration": 4813,
    "start_time": "2023-01-23T18:05:01.403Z"
   },
   {
    "duration": 4213,
    "start_time": "2023-01-23T18:05:06.300Z"
   },
   {
    "duration": 589,
    "start_time": "2023-01-23T18:05:10.516Z"
   },
   {
    "duration": 6,
    "start_time": "2023-01-23T18:05:11.109Z"
   },
   {
    "duration": 376,
    "start_time": "2023-01-23T18:05:11.117Z"
   },
   {
    "duration": 912,
    "start_time": "2023-01-23T18:05:11.498Z"
   },
   {
    "duration": 85,
    "start_time": "2023-01-23T18:05:12.417Z"
   },
   {
    "duration": 1518,
    "start_time": "2023-01-24T10:59:30.831Z"
   },
   {
    "duration": 2,
    "start_time": "2023-01-24T10:59:32.351Z"
   },
   {
    "duration": 1787,
    "start_time": "2023-01-24T10:59:32.355Z"
   },
   {
    "duration": 23,
    "start_time": "2023-01-24T10:59:34.145Z"
   },
   {
    "duration": 18,
    "start_time": "2023-01-24T10:59:34.170Z"
   },
   {
    "duration": 30,
    "start_time": "2023-01-24T10:59:34.190Z"
   },
   {
    "duration": 150,
    "start_time": "2023-01-24T10:59:34.222Z"
   },
   {
    "duration": 38,
    "start_time": "2023-01-24T10:59:34.374Z"
   },
   {
    "duration": 110,
    "start_time": "2023-01-24T10:59:34.414Z"
   },
   {
    "duration": 9,
    "start_time": "2023-01-24T10:59:34.526Z"
   },
   {
    "duration": 8,
    "start_time": "2023-01-24T10:59:34.537Z"
   },
   {
    "duration": 10,
    "start_time": "2023-01-24T10:59:34.743Z"
   },
   {
    "duration": 228,
    "start_time": "2023-01-24T10:59:35.549Z"
   },
   {
    "duration": 125,
    "start_time": "2023-01-24T10:59:35.956Z"
   },
   {
    "duration": 261,
    "start_time": "2023-01-24T10:59:36.343Z"
   },
   {
    "duration": 11993,
    "start_time": "2023-01-24T10:59:36.800Z"
   },
   {
    "duration": 3,
    "start_time": "2023-01-24T10:59:48.795Z"
   },
   {
    "duration": 26,
    "start_time": "2023-01-24T10:59:48.800Z"
   },
   {
    "duration": 14,
    "start_time": "2023-01-24T10:59:48.828Z"
   },
   {
    "duration": 1787,
    "start_time": "2023-01-24T10:59:48.843Z"
   },
   {
    "duration": 6,
    "start_time": "2023-01-24T10:59:50.633Z"
   },
   {
    "duration": 12,
    "start_time": "2023-01-24T10:59:50.641Z"
   },
   {
    "duration": 8,
    "start_time": "2023-01-24T10:59:50.655Z"
   },
   {
    "duration": 22,
    "start_time": "2023-01-24T10:59:50.815Z"
   },
   {
    "duration": 10,
    "start_time": "2023-01-24T11:00:18.364Z"
   },
   {
    "duration": 8,
    "start_time": "2023-01-24T11:00:18.376Z"
   },
   {
    "duration": 11,
    "start_time": "2023-01-24T11:00:18.874Z"
   },
   {
    "duration": 3,
    "start_time": "2023-01-24T11:00:20.109Z"
   },
   {
    "duration": 5,
    "start_time": "2023-01-24T11:00:20.222Z"
   },
   {
    "duration": 3,
    "start_time": "2023-01-24T11:00:20.666Z"
   },
   {
    "duration": 4,
    "start_time": "2023-01-24T11:00:30.553Z"
   },
   {
    "duration": 2128,
    "start_time": "2023-01-24T11:00:31.454Z"
   },
   {
    "duration": 4,
    "start_time": "2023-01-24T11:01:12.290Z"
   },
   {
    "duration": 2058,
    "start_time": "2023-01-24T11:01:13.542Z"
   },
   {
    "duration": 4,
    "start_time": "2023-01-24T11:08:28.874Z"
   },
   {
    "duration": 2114,
    "start_time": "2023-01-24T11:08:30.111Z"
   },
   {
    "duration": 75,
    "start_time": "2023-01-24T11:11:01.549Z"
   },
   {
    "duration": 3,
    "start_time": "2023-01-24T11:43:06.388Z"
   },
   {
    "duration": 2322,
    "start_time": "2023-01-24T11:43:06.720Z"
   },
   {
    "duration": 4,
    "start_time": "2023-01-24T11:43:09.044Z"
   },
   {
    "duration": 2199,
    "start_time": "2023-01-24T11:43:09.049Z"
   },
   {
    "duration": 4,
    "start_time": "2023-01-24T11:43:11.250Z"
   },
   {
    "duration": 2464,
    "start_time": "2023-01-24T11:43:11.256Z"
   },
   {
    "duration": 802,
    "start_time": "2023-01-24T11:43:23.131Z"
   },
   {
    "duration": 5,
    "start_time": "2023-01-24T11:43:38.597Z"
   },
   {
    "duration": 5,
    "start_time": "2023-01-24T11:43:39.875Z"
   },
   {
    "duration": 5,
    "start_time": "2023-01-24T11:43:45.915Z"
   },
   {
    "duration": 1829,
    "start_time": "2023-01-24T11:43:47.897Z"
   },
   {
    "duration": 1332,
    "start_time": "2023-01-24T11:54:43.627Z"
   },
   {
    "duration": 10,
    "start_time": "2023-01-24T12:16:19.353Z"
   },
   {
    "duration": 75,
    "start_time": "2023-01-24T12:16:42.320Z"
   },
   {
    "duration": 106,
    "start_time": "2023-01-24T13:29:54.097Z"
   },
   {
    "duration": 13,
    "start_time": "2023-01-24T13:32:09.141Z"
   },
   {
    "duration": 14,
    "start_time": "2023-01-24T13:32:34.346Z"
   },
   {
    "duration": 4,
    "start_time": "2023-01-24T13:33:50.336Z"
   },
   {
    "duration": 3,
    "start_time": "2023-01-24T13:33:50.730Z"
   },
   {
    "duration": 671,
    "start_time": "2023-01-24T13:33:51.095Z"
   },
   {
    "duration": 17,
    "start_time": "2023-01-24T13:33:51.768Z"
   },
   {
    "duration": 48,
    "start_time": "2023-01-24T13:33:51.787Z"
   },
   {
    "duration": 19,
    "start_time": "2023-01-24T13:33:51.999Z"
   },
   {
    "duration": 117,
    "start_time": "2023-01-24T13:33:52.457Z"
   },
   {
    "duration": 21,
    "start_time": "2023-01-24T13:33:52.811Z"
   },
   {
    "duration": 105,
    "start_time": "2023-01-24T13:33:53.152Z"
   },
   {
    "duration": 14,
    "start_time": "2023-01-24T13:33:53.576Z"
   },
   {
    "duration": 10,
    "start_time": "2023-01-24T13:33:53.937Z"
   },
   {
    "duration": 14,
    "start_time": "2023-01-24T13:33:54.154Z"
   },
   {
    "duration": 238,
    "start_time": "2023-01-24T13:33:55.202Z"
   },
   {
    "duration": 126,
    "start_time": "2023-01-24T13:33:55.829Z"
   },
   {
    "duration": 262,
    "start_time": "2023-01-24T13:33:56.245Z"
   },
   {
    "duration": 12478,
    "start_time": "2023-01-24T13:33:56.774Z"
   },
   {
    "duration": 3,
    "start_time": "2023-01-24T13:34:09.254Z"
   },
   {
    "duration": 12,
    "start_time": "2023-01-24T13:34:09.259Z"
   },
   {
    "duration": 12,
    "start_time": "2023-01-24T13:34:09.274Z"
   },
   {
    "duration": 1767,
    "start_time": "2023-01-24T13:34:09.288Z"
   },
   {
    "duration": 5,
    "start_time": "2023-01-24T13:34:11.057Z"
   },
   {
    "duration": 11,
    "start_time": "2023-01-24T13:34:11.064Z"
   },
   {
    "duration": 3,
    "start_time": "2023-01-24T13:34:19.630Z"
   },
   {
    "duration": 23,
    "start_time": "2023-01-24T13:34:25.455Z"
   },
   {
    "duration": 10,
    "start_time": "2023-01-24T13:34:32.645Z"
   },
   {
    "duration": 7,
    "start_time": "2023-01-24T13:34:33.656Z"
   },
   {
    "duration": 11,
    "start_time": "2023-01-24T13:34:34.583Z"
   },
   {
    "duration": 4,
    "start_time": "2023-01-24T13:34:35.636Z"
   },
   {
    "duration": 4,
    "start_time": "2023-01-24T13:34:36.437Z"
   },
   {
    "duration": 4,
    "start_time": "2023-01-24T13:34:36.657Z"
   },
   {
    "duration": 5,
    "start_time": "2023-01-24T13:34:39.297Z"
   },
   {
    "duration": 2142,
    "start_time": "2023-01-24T13:34:39.402Z"
   },
   {
    "duration": 3,
    "start_time": "2023-01-24T13:34:41.547Z"
   },
   {
    "duration": 2243,
    "start_time": "2023-01-24T13:34:41.552Z"
   },
   {
    "duration": 7,
    "start_time": "2023-01-24T13:34:43.797Z"
   },
   {
    "duration": 2066,
    "start_time": "2023-01-24T13:34:47.440Z"
   },
   {
    "duration": 834,
    "start_time": "2023-01-24T13:35:09.675Z"
   },
   {
    "duration": 5,
    "start_time": "2023-01-24T13:35:13.450Z"
   },
   {
    "duration": 5,
    "start_time": "2023-01-24T13:35:15.295Z"
   },
   {
    "duration": 4,
    "start_time": "2023-01-24T13:35:17.880Z"
   },
   {
    "duration": 1570,
    "start_time": "2023-01-24T13:35:19.864Z"
   },
   {
    "duration": 5,
    "start_time": "2023-01-24T13:35:24.069Z"
   },
   {
    "duration": 1251,
    "start_time": "2023-01-24T13:39:27.617Z"
   },
   {
    "duration": 4,
    "start_time": "2023-01-24T13:40:03.338Z"
   },
   {
    "duration": 6,
    "start_time": "2023-01-24T13:40:27.238Z"
   },
   {
    "duration": 1228,
    "start_time": "2023-01-24T13:41:40.525Z"
   },
   {
    "duration": 4,
    "start_time": "2023-01-24T13:42:02.397Z"
   },
   {
    "duration": 4,
    "start_time": "2023-01-24T13:42:11.416Z"
   },
   {
    "duration": 7,
    "start_time": "2023-01-24T13:47:10.329Z"
   },
   {
    "duration": 7,
    "start_time": "2023-01-24T13:48:46.492Z"
   },
   {
    "duration": 6,
    "start_time": "2023-01-24T13:48:57.715Z"
   },
   {
    "duration": 17,
    "start_time": "2023-01-24T13:51:11.308Z"
   },
   {
    "duration": 6,
    "start_time": "2023-01-24T13:52:21.804Z"
   },
   {
    "duration": 2261,
    "start_time": "2023-01-24T13:54:37.136Z"
   },
   {
    "duration": 199,
    "start_time": "2023-01-24T13:55:09.250Z"
   },
   {
    "duration": 74,
    "start_time": "2023-01-24T13:59:44.526Z"
   },
   {
    "duration": 226,
    "start_time": "2023-01-24T14:00:05.090Z"
   },
   {
    "duration": 4,
    "start_time": "2023-01-24T14:01:49.658Z"
   },
   {
    "duration": 3,
    "start_time": "2023-01-24T14:01:50.416Z"
   },
   {
    "duration": 687,
    "start_time": "2023-01-24T14:01:50.917Z"
   },
   {
    "duration": 18,
    "start_time": "2023-01-24T14:01:51.606Z"
   },
   {
    "duration": 16,
    "start_time": "2023-01-24T14:01:52.014Z"
   },
   {
    "duration": 18,
    "start_time": "2023-01-24T14:01:52.449Z"
   },
   {
    "duration": 132,
    "start_time": "2023-01-24T14:01:53.497Z"
   },
   {
    "duration": 22,
    "start_time": "2023-01-24T14:01:53.988Z"
   },
   {
    "duration": 93,
    "start_time": "2023-01-24T14:01:54.470Z"
   },
   {
    "duration": 12,
    "start_time": "2023-01-24T14:01:55.295Z"
   },
   {
    "duration": 8,
    "start_time": "2023-01-24T14:01:55.733Z"
   },
   {
    "duration": 10,
    "start_time": "2023-01-24T14:01:56.253Z"
   },
   {
    "duration": 235,
    "start_time": "2023-01-24T14:01:58.969Z"
   },
   {
    "duration": 126,
    "start_time": "2023-01-24T14:01:59.618Z"
   },
   {
    "duration": 254,
    "start_time": "2023-01-24T14:02:00.234Z"
   },
   {
    "duration": 12538,
    "start_time": "2023-01-24T14:02:01.159Z"
   },
   {
    "duration": 4,
    "start_time": "2023-01-24T14:02:13.699Z"
   },
   {
    "duration": 10,
    "start_time": "2023-01-24T14:02:13.704Z"
   },
   {
    "duration": 9,
    "start_time": "2023-01-24T14:02:13.716Z"
   },
   {
    "duration": 1858,
    "start_time": "2023-01-24T14:02:20.520Z"
   },
   {
    "duration": 24,
    "start_time": "2023-01-24T14:02:22.381Z"
   },
   {
    "duration": 5,
    "start_time": "2023-01-24T14:02:47.808Z"
   },
   {
    "duration": 3,
    "start_time": "2023-01-24T14:02:59.524Z"
   },
   {
    "duration": 20,
    "start_time": "2023-01-24T14:03:02.000Z"
   },
   {
    "duration": 10,
    "start_time": "2023-01-24T14:03:12.008Z"
   },
   {
    "duration": 7,
    "start_time": "2023-01-24T14:03:13.374Z"
   },
   {
    "duration": 10,
    "start_time": "2023-01-24T14:03:14.492Z"
   },
   {
    "duration": 4,
    "start_time": "2023-01-24T14:03:18.270Z"
   },
   {
    "duration": 5,
    "start_time": "2023-01-24T14:03:19.124Z"
   },
   {
    "duration": 4,
    "start_time": "2023-01-24T14:03:19.994Z"
   },
   {
    "duration": 5,
    "start_time": "2023-01-24T14:03:29.989Z"
   },
   {
    "duration": 2221,
    "start_time": "2023-01-24T14:03:30.947Z"
   },
   {
    "duration": 4,
    "start_time": "2023-01-24T14:03:35.138Z"
   },
   {
    "duration": 2196,
    "start_time": "2023-01-24T14:03:36.109Z"
   },
   {
    "duration": 4,
    "start_time": "2023-01-24T14:03:40.118Z"
   },
   {
    "duration": 2038,
    "start_time": "2023-01-24T14:03:41.049Z"
   },
   {
    "duration": 672,
    "start_time": "2023-01-24T14:03:47.232Z"
   },
   {
    "duration": 4,
    "start_time": "2023-01-24T14:03:55.512Z"
   },
   {
    "duration": 4,
    "start_time": "2023-01-24T14:03:57.458Z"
   },
   {
    "duration": 4,
    "start_time": "2023-01-24T14:03:59.949Z"
   },
   {
    "duration": 1576,
    "start_time": "2023-01-24T14:04:02.280Z"
   },
   {
    "duration": 5,
    "start_time": "2023-01-24T14:04:09.064Z"
   },
   {
    "duration": 5,
    "start_time": "2023-01-24T14:04:10.350Z"
   },
   {
    "duration": 5,
    "start_time": "2023-01-24T14:04:11.770Z"
   },
   {
    "duration": 4,
    "start_time": "2023-01-24T14:04:22.993Z"
   },
   {
    "duration": 14,
    "start_time": "2023-01-24T14:04:50.140Z"
   },
   {
    "duration": 7,
    "start_time": "2023-01-24T14:05:00.409Z"
   },
   {
    "duration": 4,
    "start_time": "2023-01-24T14:05:02.277Z"
   },
   {
    "duration": 3,
    "start_time": "2023-01-24T14:05:03.226Z"
   },
   {
    "duration": 3,
    "start_time": "2023-01-24T14:05:04.467Z"
   },
   {
    "duration": 5,
    "start_time": "2023-01-24T14:05:11.707Z"
   },
   {
    "duration": 4,
    "start_time": "2023-01-24T14:05:14.158Z"
   },
   {
    "duration": 3,
    "start_time": "2023-01-24T14:05:16.131Z"
   },
   {
    "duration": 16,
    "start_time": "2023-01-24T14:05:24.837Z"
   },
   {
    "duration": 15,
    "start_time": "2023-01-24T14:13:41.520Z"
   },
   {
    "duration": 15,
    "start_time": "2023-01-24T14:14:12.748Z"
   },
   {
    "duration": 15,
    "start_time": "2023-01-24T14:15:02.832Z"
   },
   {
    "duration": 15,
    "start_time": "2023-01-24T14:15:18.332Z"
   },
   {
    "duration": 17,
    "start_time": "2023-01-24T14:15:35.224Z"
   },
   {
    "duration": 15,
    "start_time": "2023-01-24T14:16:15.624Z"
   },
   {
    "duration": 20,
    "start_time": "2023-01-24T15:47:33.603Z"
   },
   {
    "duration": 16,
    "start_time": "2023-01-24T15:47:55.398Z"
   },
   {
    "duration": 17,
    "start_time": "2023-01-24T15:48:23.198Z"
   },
   {
    "duration": 5,
    "start_time": "2023-01-24T15:54:14.697Z"
   },
   {
    "duration": 13,
    "start_time": "2023-01-24T15:54:29.867Z"
   },
   {
    "duration": 6,
    "start_time": "2023-01-24T15:55:06.203Z"
   },
   {
    "duration": 14,
    "start_time": "2023-01-24T15:55:10.373Z"
   },
   {
    "duration": 11,
    "start_time": "2023-01-24T15:55:42.155Z"
   },
   {
    "duration": 4,
    "start_time": "2023-01-24T15:56:00.227Z"
   },
   {
    "duration": 3,
    "start_time": "2023-01-24T15:56:00.704Z"
   },
   {
    "duration": 640,
    "start_time": "2023-01-24T15:56:01.215Z"
   },
   {
    "duration": 16,
    "start_time": "2023-01-24T15:56:01.857Z"
   },
   {
    "duration": 12,
    "start_time": "2023-01-24T15:56:02.162Z"
   },
   {
    "duration": 17,
    "start_time": "2023-01-24T15:56:02.367Z"
   },
   {
    "duration": 107,
    "start_time": "2023-01-24T15:56:04.655Z"
   },
   {
    "duration": 21,
    "start_time": "2023-01-24T15:56:05.427Z"
   },
   {
    "duration": 84,
    "start_time": "2023-01-24T15:56:06.512Z"
   },
   {
    "duration": 8,
    "start_time": "2023-01-24T15:56:08.417Z"
   },
   {
    "duration": 7,
    "start_time": "2023-01-24T15:56:10.024Z"
   },
   {
    "duration": 11,
    "start_time": "2023-01-24T15:56:11.250Z"
   },
   {
    "duration": 232,
    "start_time": "2023-01-24T15:56:14.721Z"
   },
   {
    "duration": 128,
    "start_time": "2023-01-24T15:56:15.440Z"
   },
   {
    "duration": 229,
    "start_time": "2023-01-24T15:56:15.823Z"
   },
   {
    "duration": 11903,
    "start_time": "2023-01-24T15:56:21.423Z"
   },
   {
    "duration": 2,
    "start_time": "2023-01-24T15:56:33.328Z"
   },
   {
    "duration": 57,
    "start_time": "2023-01-24T15:56:33.331Z"
   },
   {
    "duration": 5,
    "start_time": "2023-01-24T15:56:35.410Z"
   },
   {
    "duration": 1677,
    "start_time": "2023-01-24T15:56:39.041Z"
   },
   {
    "duration": 5,
    "start_time": "2023-01-24T15:56:44.715Z"
   },
   {
    "duration": 4,
    "start_time": "2023-01-24T15:56:54.561Z"
   },
   {
    "duration": 3,
    "start_time": "2023-01-24T15:56:57.087Z"
   },
   {
    "duration": 18,
    "start_time": "2023-01-24T15:56:58.504Z"
   },
   {
    "duration": 10,
    "start_time": "2023-01-24T15:57:05.018Z"
   },
   {
    "duration": 7,
    "start_time": "2023-01-24T15:57:06.018Z"
   },
   {
    "duration": 11,
    "start_time": "2023-01-24T15:57:06.969Z"
   },
   {
    "duration": 4,
    "start_time": "2023-01-24T15:57:09.304Z"
   },
   {
    "duration": 4,
    "start_time": "2023-01-24T15:57:11.767Z"
   },
   {
    "duration": 4,
    "start_time": "2023-01-24T15:57:12.769Z"
   },
   {
    "duration": 7,
    "start_time": "2023-01-24T15:57:22.708Z"
   },
   {
    "duration": 2065,
    "start_time": "2023-01-24T15:57:23.609Z"
   },
   {
    "duration": 4,
    "start_time": "2023-01-24T15:57:33.687Z"
   },
   {
    "duration": 2053,
    "start_time": "2023-01-24T15:57:35.018Z"
   },
   {
    "duration": 4,
    "start_time": "2023-01-24T15:57:43.359Z"
   },
   {
    "duration": 2045,
    "start_time": "2023-01-24T15:57:44.536Z"
   },
   {
    "duration": 697,
    "start_time": "2023-01-24T15:57:55.699Z"
   },
   {
    "duration": 4,
    "start_time": "2023-01-24T15:57:59.607Z"
   },
   {
    "duration": 4,
    "start_time": "2023-01-24T15:58:01.668Z"
   },
   {
    "duration": 4,
    "start_time": "2023-01-24T15:58:04.028Z"
   },
   {
    "duration": 1541,
    "start_time": "2023-01-24T15:58:08.028Z"
   },
   {
    "duration": 7,
    "start_time": "2023-01-24T15:58:18.167Z"
   },
   {
    "duration": 6476,
    "start_time": "2023-01-24T15:58:21.878Z"
   },
   {
    "duration": 7,
    "start_time": "2023-01-24T16:51:45.794Z"
   },
   {
    "duration": 6,
    "start_time": "2023-01-24T16:51:47.886Z"
   },
   {
    "duration": 87,
    "start_time": "2023-01-24T16:51:50.654Z"
   },
   {
    "duration": 12,
    "start_time": "2023-01-24T16:51:57.734Z"
   },
   {
    "duration": 10,
    "start_time": "2023-01-24T16:54:38.824Z"
   },
   {
    "duration": 9,
    "start_time": "2023-01-24T16:55:49.382Z"
   },
   {
    "duration": 5,
    "start_time": "2023-01-24T16:57:21.196Z"
   },
   {
    "duration": 12,
    "start_time": "2023-01-24T16:57:26.379Z"
   },
   {
    "duration": 4,
    "start_time": "2023-01-24T16:57:45.513Z"
   },
   {
    "duration": 2,
    "start_time": "2023-01-24T16:57:45.842Z"
   },
   {
    "duration": 633,
    "start_time": "2023-01-24T16:57:46.237Z"
   },
   {
    "duration": 16,
    "start_time": "2023-01-24T16:57:46.872Z"
   },
   {
    "duration": 38,
    "start_time": "2023-01-24T16:57:46.889Z"
   },
   {
    "duration": 17,
    "start_time": "2023-01-24T16:57:48.010Z"
   },
   {
    "duration": 110,
    "start_time": "2023-01-24T16:57:48.575Z"
   },
   {
    "duration": 22,
    "start_time": "2023-01-24T16:57:48.832Z"
   },
   {
    "duration": 85,
    "start_time": "2023-01-24T16:57:49.096Z"
   },
   {
    "duration": 9,
    "start_time": "2023-01-24T16:57:49.415Z"
   },
   {
    "duration": 7,
    "start_time": "2023-01-24T16:57:49.620Z"
   },
   {
    "duration": 10,
    "start_time": "2023-01-24T16:57:49.824Z"
   },
   {
    "duration": 267,
    "start_time": "2023-01-24T16:57:50.455Z"
   },
   {
    "duration": 124,
    "start_time": "2023-01-24T16:57:50.857Z"
   },
   {
    "duration": 227,
    "start_time": "2023-01-24T16:57:51.240Z"
   },
   {
    "duration": 11870,
    "start_time": "2023-01-24T16:57:51.690Z"
   },
   {
    "duration": 3,
    "start_time": "2023-01-24T16:58:03.562Z"
   },
   {
    "duration": 18,
    "start_time": "2023-01-24T16:58:03.566Z"
   },
   {
    "duration": 17,
    "start_time": "2023-01-24T16:58:03.586Z"
   },
   {
    "duration": 1768,
    "start_time": "2023-01-24T16:58:03.605Z"
   },
   {
    "duration": 5,
    "start_time": "2023-01-24T16:58:05.376Z"
   },
   {
    "duration": 4,
    "start_time": "2023-01-24T16:58:09.448Z"
   },
   {
    "duration": 3,
    "start_time": "2023-01-24T16:58:15.616Z"
   },
   {
    "duration": 19,
    "start_time": "2023-01-24T16:58:17.893Z"
   },
   {
    "duration": 10,
    "start_time": "2023-01-24T16:58:43.116Z"
   },
   {
    "duration": 7,
    "start_time": "2023-01-24T16:58:43.736Z"
   },
   {
    "duration": 12,
    "start_time": "2023-01-24T16:58:44.597Z"
   },
   {
    "duration": 4,
    "start_time": "2023-01-24T16:58:46.798Z"
   },
   {
    "duration": 4,
    "start_time": "2023-01-24T16:58:48.066Z"
   },
   {
    "duration": 5,
    "start_time": "2023-01-24T16:58:48.915Z"
   },
   {
    "duration": 5,
    "start_time": "2023-01-24T16:58:52.999Z"
   },
   {
    "duration": 2052,
    "start_time": "2023-01-24T16:58:53.642Z"
   },
   {
    "duration": 4,
    "start_time": "2023-01-24T16:58:55.704Z"
   },
   {
    "duration": 2219,
    "start_time": "2023-01-24T16:58:55.709Z"
   },
   {
    "duration": 4,
    "start_time": "2023-01-24T16:58:57.930Z"
   },
   {
    "duration": 2009,
    "start_time": "2023-01-24T16:58:57.935Z"
   },
   {
    "duration": 733,
    "start_time": "2023-01-24T16:59:01.365Z"
   },
   {
    "duration": 4,
    "start_time": "2023-01-24T16:59:06.786Z"
   },
   {
    "duration": 5,
    "start_time": "2023-01-24T16:59:16.773Z"
   },
   {
    "duration": 4,
    "start_time": "2023-01-24T16:59:20.760Z"
   },
   {
    "duration": 1481,
    "start_time": "2023-01-24T16:59:27.155Z"
   },
   {
    "duration": 10,
    "start_time": "2023-01-24T16:59:35.686Z"
   },
   {
    "duration": 6217,
    "start_time": "2023-01-24T16:59:39.698Z"
   },
   {
    "duration": 6,
    "start_time": "2023-01-24T17:04:06.427Z"
   },
   {
    "duration": 13,
    "start_time": "2023-01-24T17:04:08.568Z"
   },
   {
    "duration": 8,
    "start_time": "2023-01-24T17:04:11.206Z"
   },
   {
    "duration": 4,
    "start_time": "2023-01-24T17:04:14.275Z"
   },
   {
    "duration": 3,
    "start_time": "2023-01-24T17:04:16.437Z"
   },
   {
    "duration": 3,
    "start_time": "2023-01-24T17:04:17.619Z"
   },
   {
    "duration": 7,
    "start_time": "2023-01-24T17:04:20.326Z"
   },
   {
    "duration": 3,
    "start_time": "2023-01-24T17:04:22.913Z"
   },
   {
    "duration": 3,
    "start_time": "2023-01-24T17:04:31.606Z"
   },
   {
    "duration": 17350,
    "start_time": "2023-01-24T17:04:39.128Z"
   },
   {
    "duration": 59727,
    "start_time": "2023-01-24T17:05:09.261Z"
   },
   {
    "duration": 850,
    "start_time": "2023-01-24T17:06:59.197Z"
   },
   {
    "duration": 59811,
    "start_time": "2023-01-24T17:08:34.043Z"
   },
   {
    "duration": 606,
    "start_time": "2023-01-24T17:09:45.297Z"
   },
   {
    "duration": 9941,
    "start_time": "2023-01-24T17:10:08.968Z"
   },
   {
    "duration": 3946,
    "start_time": "2023-01-24T17:10:40.158Z"
   },
   {
    "duration": 395,
    "start_time": "2023-01-24T17:10:55.632Z"
   },
   {
    "duration": 5,
    "start_time": "2023-01-24T17:12:16.823Z"
   },
   {
    "duration": 191,
    "start_time": "2023-01-24T17:12:19.917Z"
   },
   {
    "duration": 65,
    "start_time": "2023-01-24T17:14:16.261Z"
   },
   {
    "duration": 8,
    "start_time": "2023-01-24T17:14:30.580Z"
   },
   {
    "duration": 1429,
    "start_time": "2023-01-24T18:38:14.189Z"
   },
   {
    "duration": 3,
    "start_time": "2023-01-24T18:38:15.620Z"
   },
   {
    "duration": 642,
    "start_time": "2023-01-24T18:38:15.625Z"
   },
   {
    "duration": 15,
    "start_time": "2023-01-24T18:38:16.269Z"
   },
   {
    "duration": 22,
    "start_time": "2023-01-24T18:38:16.287Z"
   },
   {
    "duration": 21,
    "start_time": "2023-01-24T18:38:16.311Z"
   },
   {
    "duration": 136,
    "start_time": "2023-01-24T18:38:16.334Z"
   },
   {
    "duration": 21,
    "start_time": "2023-01-24T18:38:16.472Z"
   },
   {
    "duration": 111,
    "start_time": "2023-01-24T18:38:16.495Z"
   },
   {
    "duration": 8,
    "start_time": "2023-01-24T18:38:16.608Z"
   },
   {
    "duration": 24,
    "start_time": "2023-01-24T18:38:16.617Z"
   },
   {
    "duration": 36,
    "start_time": "2023-01-24T18:38:16.642Z"
   },
   {
    "duration": 267,
    "start_time": "2023-01-24T18:38:16.680Z"
   },
   {
    "duration": 128,
    "start_time": "2023-01-24T18:38:16.950Z"
   },
   {
    "duration": 273,
    "start_time": "2023-01-24T18:38:17.079Z"
   },
   {
    "duration": 11559,
    "start_time": "2023-01-24T18:38:17.354Z"
   },
   {
    "duration": 3,
    "start_time": "2023-01-24T18:38:28.914Z"
   },
   {
    "duration": 13,
    "start_time": "2023-01-24T18:38:28.919Z"
   },
   {
    "duration": 10,
    "start_time": "2023-01-24T18:38:28.934Z"
   },
   {
    "duration": 1673,
    "start_time": "2023-01-24T18:38:28.946Z"
   },
   {
    "duration": 5,
    "start_time": "2023-01-24T18:38:30.621Z"
   },
   {
    "duration": 22,
    "start_time": "2023-01-24T18:38:30.628Z"
   },
   {
    "duration": 52,
    "start_time": "2023-01-24T18:38:30.651Z"
   },
   {
    "duration": 58,
    "start_time": "2023-01-24T18:38:30.705Z"
   },
   {
    "duration": 25,
    "start_time": "2023-01-24T18:38:30.764Z"
   },
   {
    "duration": 22,
    "start_time": "2023-01-24T18:38:30.790Z"
   },
   {
    "duration": 27,
    "start_time": "2023-01-24T18:38:30.814Z"
   },
   {
    "duration": 19,
    "start_time": "2023-01-24T18:38:30.843Z"
   },
   {
    "duration": 20,
    "start_time": "2023-01-24T18:38:30.864Z"
   },
   {
    "duration": 20,
    "start_time": "2023-01-24T18:38:30.885Z"
   },
   {
    "duration": 23,
    "start_time": "2023-01-24T18:38:30.907Z"
   },
   {
    "duration": 2051,
    "start_time": "2023-01-24T18:38:30.932Z"
   },
   {
    "duration": 4,
    "start_time": "2023-01-24T18:38:32.985Z"
   },
   {
    "duration": 2092,
    "start_time": "2023-01-24T18:38:32.991Z"
   },
   {
    "duration": 4,
    "start_time": "2023-01-24T18:38:35.085Z"
   },
   {
    "duration": 2073,
    "start_time": "2023-01-24T18:38:35.091Z"
   },
   {
    "duration": 840,
    "start_time": "2023-01-24T18:38:37.166Z"
   },
   {
    "duration": 5,
    "start_time": "2023-01-24T18:38:38.007Z"
   },
   {
    "duration": 22,
    "start_time": "2023-01-24T18:38:38.013Z"
   },
   {
    "duration": 20,
    "start_time": "2023-01-24T18:38:38.037Z"
   },
   {
    "duration": 1584,
    "start_time": "2023-01-24T18:38:38.060Z"
   },
   {
    "duration": 11,
    "start_time": "2023-01-24T18:38:39.646Z"
   },
   {
    "duration": 7,
    "start_time": "2023-01-24T18:38:39.659Z"
   },
   {
    "duration": 35,
    "start_time": "2023-01-24T18:38:39.668Z"
   },
   {
    "duration": 9,
    "start_time": "2023-01-24T18:38:39.705Z"
   },
   {
    "duration": 3,
    "start_time": "2023-01-24T18:38:39.716Z"
   },
   {
    "duration": 6,
    "start_time": "2023-01-24T18:38:39.721Z"
   },
   {
    "duration": 5,
    "start_time": "2023-01-24T18:38:39.729Z"
   },
   {
    "duration": 9,
    "start_time": "2023-01-24T18:38:39.736Z"
   },
   {
    "duration": 5,
    "start_time": "2023-01-24T18:38:39.747Z"
   },
   {
    "duration": 5,
    "start_time": "2023-01-24T18:38:39.753Z"
   },
   {
    "duration": 57198,
    "start_time": "2023-01-24T18:38:39.759Z"
   },
   {
    "duration": 812,
    "start_time": "2023-01-24T18:39:36.959Z"
   },
   {
    "duration": 58411,
    "start_time": "2023-01-24T18:39:37.773Z"
   },
   {
    "duration": 616,
    "start_time": "2023-01-24T18:40:36.186Z"
   },
   {
    "duration": 3205,
    "start_time": "2023-01-24T18:40:36.803Z"
   },
   {
    "duration": 3798,
    "start_time": "2023-01-24T18:40:40.010Z"
   },
   {
    "duration": 588,
    "start_time": "2023-01-24T18:40:43.810Z"
   },
   {
    "duration": 6,
    "start_time": "2023-01-24T18:40:44.402Z"
   },
   {
    "duration": 195,
    "start_time": "2023-01-24T18:40:44.410Z"
   },
   {
    "duration": 596,
    "start_time": "2023-01-24T18:40:44.608Z"
   },
   {
    "duration": 14,
    "start_time": "2023-01-24T18:40:45.206Z"
   },
   {
    "duration": 2277,
    "start_time": "2023-01-25T15:02:16.561Z"
   },
   {
    "duration": 4,
    "start_time": "2023-01-25T15:02:18.840Z"
   },
   {
    "duration": 4049,
    "start_time": "2023-01-25T15:02:18.845Z"
   },
   {
    "duration": 19,
    "start_time": "2023-01-25T15:02:22.896Z"
   },
   {
    "duration": 15,
    "start_time": "2023-01-25T15:02:22.917Z"
   },
   {
    "duration": 17,
    "start_time": "2023-01-25T15:02:22.934Z"
   },
   {
    "duration": 151,
    "start_time": "2023-01-25T15:02:22.953Z"
   },
   {
    "duration": 22,
    "start_time": "2023-01-25T15:02:23.106Z"
   },
   {
    "duration": 121,
    "start_time": "2023-01-25T15:02:23.130Z"
   },
   {
    "duration": 8,
    "start_time": "2023-01-25T15:02:23.255Z"
   },
   {
    "duration": 7,
    "start_time": "2023-01-25T15:02:23.265Z"
   },
   {
    "duration": 22,
    "start_time": "2023-01-25T15:02:23.274Z"
   },
   {
    "duration": 280,
    "start_time": "2023-01-25T15:02:23.297Z"
   },
   {
    "duration": 134,
    "start_time": "2023-01-25T15:02:23.578Z"
   },
   {
    "duration": 286,
    "start_time": "2023-01-25T15:02:23.714Z"
   },
   {
    "duration": 12427,
    "start_time": "2023-01-25T15:02:24.001Z"
   },
   {
    "duration": 4,
    "start_time": "2023-01-25T15:02:36.430Z"
   },
   {
    "duration": 10,
    "start_time": "2023-01-25T15:02:36.436Z"
   },
   {
    "duration": 18,
    "start_time": "2023-01-25T15:02:36.448Z"
   },
   {
    "duration": 1719,
    "start_time": "2023-01-25T15:02:36.469Z"
   },
   {
    "duration": 4,
    "start_time": "2023-01-25T15:02:38.190Z"
   },
   {
    "duration": 8,
    "start_time": "2023-01-25T15:02:38.196Z"
   },
   {
    "duration": 4,
    "start_time": "2023-01-25T15:02:38.206Z"
   },
   {
    "duration": 79,
    "start_time": "2023-01-25T15:02:38.212Z"
   },
   {
    "duration": 10,
    "start_time": "2023-01-25T15:02:38.293Z"
   },
   {
    "duration": 6,
    "start_time": "2023-01-25T15:02:38.304Z"
   },
   {
    "duration": 11,
    "start_time": "2023-01-25T15:02:38.312Z"
   },
   {
    "duration": 3,
    "start_time": "2023-01-25T15:02:38.327Z"
   },
   {
    "duration": 61,
    "start_time": "2023-01-25T15:02:38.331Z"
   },
   {
    "duration": 5,
    "start_time": "2023-01-25T15:02:38.394Z"
   },
   {
    "duration": 7,
    "start_time": "2023-01-25T15:02:38.401Z"
   },
   {
    "duration": 2296,
    "start_time": "2023-01-25T15:02:38.409Z"
   },
   {
    "duration": 4,
    "start_time": "2023-01-25T15:02:40.706Z"
   },
   {
    "duration": 2235,
    "start_time": "2023-01-25T15:02:40.711Z"
   },
   {
    "duration": 4,
    "start_time": "2023-01-25T15:02:42.948Z"
   },
   {
    "duration": 2219,
    "start_time": "2023-01-25T15:02:42.953Z"
   },
   {
    "duration": 1327,
    "start_time": "2023-01-25T15:02:45.173Z"
   },
   {
    "duration": 5,
    "start_time": "2023-01-25T15:02:46.503Z"
   },
   {
    "duration": 28,
    "start_time": "2023-01-25T15:02:46.510Z"
   },
   {
    "duration": 53,
    "start_time": "2023-01-25T15:02:46.540Z"
   },
   {
    "duration": 2400,
    "start_time": "2023-01-25T15:02:46.595Z"
   },
   {
    "duration": 12,
    "start_time": "2023-01-25T15:02:48.997Z"
   },
   {
    "duration": 7379,
    "start_time": "2023-01-25T15:02:49.011Z"
   },
   {
    "duration": 15,
    "start_time": "2023-01-25T15:04:46.977Z"
   },
   {
    "duration": 117,
    "start_time": "2023-01-25T15:05:29.693Z"
   },
   {
    "duration": 3239,
    "start_time": "2023-01-25T15:07:30.764Z"
   },
   {
    "duration": 3,
    "start_time": "2023-01-25T15:07:34.005Z"
   },
   {
    "duration": 1306,
    "start_time": "2023-01-25T15:07:34.010Z"
   },
   {
    "duration": 74,
    "start_time": "2023-01-25T15:07:35.319Z"
   },
   {
    "duration": 16,
    "start_time": "2023-01-25T15:07:35.395Z"
   },
   {
    "duration": 85,
    "start_time": "2023-01-25T15:07:35.412Z"
   },
   {
    "duration": 236,
    "start_time": "2023-01-25T15:07:35.499Z"
   },
   {
    "duration": 83,
    "start_time": "2023-01-25T15:07:35.737Z"
   },
   {
    "duration": 205,
    "start_time": "2023-01-25T15:07:35.822Z"
   },
   {
    "duration": 66,
    "start_time": "2023-01-25T15:07:36.030Z"
   },
   {
    "duration": 7,
    "start_time": "2023-01-25T15:07:36.097Z"
   },
   {
    "duration": 19,
    "start_time": "2023-01-25T15:07:36.106Z"
   },
   {
    "duration": 570,
    "start_time": "2023-01-25T15:07:36.127Z"
   },
   {
    "duration": 304,
    "start_time": "2023-01-25T15:07:36.699Z"
   },
   {
    "duration": 587,
    "start_time": "2023-01-25T15:07:37.005Z"
   },
   {
    "duration": 26416,
    "start_time": "2023-01-25T15:07:37.593Z"
   },
   {
    "duration": 3,
    "start_time": "2023-01-25T15:08:04.011Z"
   },
   {
    "duration": 10,
    "start_time": "2023-01-25T15:08:04.015Z"
   },
   {
    "duration": 68,
    "start_time": "2023-01-25T15:08:04.026Z"
   },
   {
    "duration": 3843,
    "start_time": "2023-01-25T15:08:04.095Z"
   },
   {
    "duration": 5,
    "start_time": "2023-01-25T15:08:07.992Z"
   },
   {
    "duration": 17,
    "start_time": "2023-01-25T15:08:07.999Z"
   },
   {
    "duration": 7,
    "start_time": "2023-01-25T15:08:08.018Z"
   },
   {
    "duration": 97,
    "start_time": "2023-01-25T15:08:08.026Z"
   },
   {
    "duration": 10,
    "start_time": "2023-01-25T15:08:08.191Z"
   },
   {
    "duration": 10,
    "start_time": "2023-01-25T15:08:08.203Z"
   },
   {
    "duration": 84,
    "start_time": "2023-01-25T15:08:08.215Z"
   },
   {
    "duration": 4,
    "start_time": "2023-01-25T15:08:08.303Z"
   },
   {
    "duration": 11,
    "start_time": "2023-01-25T15:08:08.308Z"
   },
   {
    "duration": 6,
    "start_time": "2023-01-25T15:08:08.321Z"
   },
   {
    "duration": 8,
    "start_time": "2023-01-25T15:08:08.395Z"
   },
   {
    "duration": 3689,
    "start_time": "2023-01-25T15:08:08.405Z"
   },
   {
    "duration": 4,
    "start_time": "2023-01-25T15:08:12.097Z"
   },
   {
    "duration": 3791,
    "start_time": "2023-01-25T15:08:12.103Z"
   },
   {
    "duration": 6,
    "start_time": "2023-01-25T15:08:15.896Z"
   },
   {
    "duration": 3893,
    "start_time": "2023-01-25T15:08:15.904Z"
   },
   {
    "duration": 1510,
    "start_time": "2023-01-25T15:08:19.799Z"
   },
   {
    "duration": 5,
    "start_time": "2023-01-25T15:08:21.310Z"
   },
   {
    "duration": 9,
    "start_time": "2023-01-25T15:08:21.316Z"
   },
   {
    "duration": 65,
    "start_time": "2023-01-25T15:08:21.326Z"
   },
   {
    "duration": 2710,
    "start_time": "2023-01-25T15:08:21.393Z"
   },
   {
    "duration": 22,
    "start_time": "2023-01-25T15:08:24.105Z"
   },
   {
    "duration": 64,
    "start_time": "2023-01-25T15:08:24.129Z"
   },
   {
    "duration": 18,
    "start_time": "2023-01-25T15:08:24.196Z"
   },
   {
    "duration": 12,
    "start_time": "2023-01-25T15:08:24.216Z"
   },
   {
    "duration": 4,
    "start_time": "2023-01-25T15:08:24.291Z"
   },
   {
    "duration": 7,
    "start_time": "2023-01-25T15:08:24.297Z"
   },
   {
    "duration": 9,
    "start_time": "2023-01-25T15:08:24.306Z"
   },
   {
    "duration": 75,
    "start_time": "2023-01-25T15:08:24.317Z"
   },
   {
    "duration": 11,
    "start_time": "2023-01-25T15:08:24.394Z"
   },
   {
    "duration": 10,
    "start_time": "2023-01-25T15:08:24.406Z"
   },
   {
    "duration": 125291,
    "start_time": "2023-01-25T15:08:24.418Z"
   },
   {
    "duration": 1696,
    "start_time": "2023-01-25T15:10:29.711Z"
   },
   {
    "duration": 126414,
    "start_time": "2023-01-25T15:10:31.408Z"
   },
   {
    "duration": 1278,
    "start_time": "2023-01-25T15:12:37.824Z"
   },
   {
    "duration": 3589,
    "start_time": "2023-01-25T15:12:39.104Z"
   },
   {
    "duration": 4197,
    "start_time": "2023-01-25T15:12:42.695Z"
   },
   {
    "duration": 1226,
    "start_time": "2023-01-25T15:12:46.894Z"
   },
   {
    "duration": 70,
    "start_time": "2023-01-25T15:12:48.122Z"
   },
   {
    "duration": 207,
    "start_time": "2023-01-25T15:12:48.194Z"
   },
   {
    "duration": 491,
    "start_time": "2023-01-25T15:12:48.504Z"
   },
   {
    "duration": 99,
    "start_time": "2023-01-25T15:12:48.999Z"
   },
   {
    "duration": 1519,
    "start_time": "2023-01-25T16:52:52.934Z"
   },
   {
    "duration": 3,
    "start_time": "2023-01-25T16:52:55.732Z"
   },
   {
    "duration": 2290,
    "start_time": "2023-01-25T16:52:57.567Z"
   },
   {
    "duration": 20,
    "start_time": "2023-01-25T16:53:03.609Z"
   },
   {
    "duration": 15,
    "start_time": "2023-01-25T16:53:05.289Z"
   },
   {
    "duration": 20,
    "start_time": "2023-01-25T16:53:06.499Z"
   },
   {
    "duration": 135,
    "start_time": "2023-01-25T16:53:10.110Z"
   },
   {
    "duration": 21,
    "start_time": "2023-01-25T16:53:10.984Z"
   },
   {
    "duration": 95,
    "start_time": "2023-01-25T16:53:12.667Z"
   },
   {
    "duration": 10,
    "start_time": "2023-01-25T16:53:15.717Z"
   },
   {
    "duration": 7,
    "start_time": "2023-01-25T16:53:17.446Z"
   },
   {
    "duration": 10,
    "start_time": "2023-01-25T16:53:18.570Z"
   },
   {
    "duration": 245,
    "start_time": "2023-01-25T16:53:24.042Z"
   },
   {
    "duration": 170,
    "start_time": "2023-01-25T16:53:25.370Z"
   },
   {
    "duration": 265,
    "start_time": "2023-01-25T16:53:26.693Z"
   },
   {
    "duration": 12885,
    "start_time": "2023-01-25T16:53:29.817Z"
   },
   {
    "duration": 3,
    "start_time": "2023-01-25T16:53:42.705Z"
   },
   {
    "duration": 13,
    "start_time": "2023-01-25T16:53:42.710Z"
   },
   {
    "duration": 12,
    "start_time": "2023-01-25T16:53:42.725Z"
   },
   {
    "duration": 1826,
    "start_time": "2023-01-25T16:53:44.083Z"
   },
   {
    "duration": 6,
    "start_time": "2023-01-25T16:53:45.911Z"
   },
   {
    "duration": 4,
    "start_time": "2023-01-25T16:53:56.009Z"
   },
   {
    "duration": 3,
    "start_time": "2023-01-25T16:53:59.309Z"
   },
   {
    "duration": 22,
    "start_time": "2023-01-25T16:54:10.255Z"
   },
   {
    "duration": 10,
    "start_time": "2023-01-25T16:54:13.778Z"
   },
   {
    "duration": 7,
    "start_time": "2023-01-25T16:54:14.813Z"
   },
   {
    "duration": 11,
    "start_time": "2023-01-25T16:54:17.097Z"
   },
   {
    "duration": 3,
    "start_time": "2023-01-25T16:54:19.233Z"
   },
   {
    "duration": 4,
    "start_time": "2023-01-25T16:54:20.140Z"
   },
   {
    "duration": 4,
    "start_time": "2023-01-25T16:54:21.086Z"
   },
   {
    "duration": 5,
    "start_time": "2023-01-25T16:54:30.445Z"
   },
   {
    "duration": 2237,
    "start_time": "2023-01-25T16:54:31.578Z"
   },
   {
    "duration": 4,
    "start_time": "2023-01-25T16:54:35.346Z"
   },
   {
    "duration": 2249,
    "start_time": "2023-01-25T16:54:36.962Z"
   },
   {
    "duration": 4,
    "start_time": "2023-01-25T16:54:39.213Z"
   },
   {
    "duration": 2217,
    "start_time": "2023-01-25T16:54:40.998Z"
   },
   {
    "duration": 862,
    "start_time": "2023-01-25T16:54:50.108Z"
   },
   {
    "duration": 5,
    "start_time": "2023-01-25T16:55:01.127Z"
   },
   {
    "duration": 6,
    "start_time": "2023-01-25T16:55:02.758Z"
   },
   {
    "duration": 4,
    "start_time": "2023-01-25T16:55:04.460Z"
   },
   {
    "duration": 1897,
    "start_time": "2023-01-25T16:55:06.192Z"
   },
   {
    "duration": 17,
    "start_time": "2023-01-25T16:55:10.844Z"
   },
   {
    "duration": 2,
    "start_time": "2023-01-25T16:55:55.792Z"
   },
   {
    "duration": 75,
    "start_time": "2023-01-25T16:57:30.944Z"
   },
   {
    "duration": 72,
    "start_time": "2023-01-25T16:58:41.543Z"
   },
   {
    "duration": 84,
    "start_time": "2023-01-25T17:15:03.643Z"
   },
   {
    "duration": 92,
    "start_time": "2023-01-25T17:15:17.943Z"
   },
   {
    "duration": 4,
    "start_time": "2023-01-25T17:15:29.010Z"
   },
   {
    "duration": 2,
    "start_time": "2023-01-25T17:15:29.386Z"
   },
   {
    "duration": 742,
    "start_time": "2023-01-25T17:15:29.809Z"
   },
   {
    "duration": 19,
    "start_time": "2023-01-25T17:15:30.553Z"
   },
   {
    "duration": 14,
    "start_time": "2023-01-25T17:15:31.063Z"
   },
   {
    "duration": 19,
    "start_time": "2023-01-25T17:15:31.284Z"
   },
   {
    "duration": 127,
    "start_time": "2023-01-25T17:15:31.852Z"
   },
   {
    "duration": 25,
    "start_time": "2023-01-25T17:15:32.127Z"
   },
   {
    "duration": 97,
    "start_time": "2023-01-25T17:15:32.407Z"
   },
   {
    "duration": 10,
    "start_time": "2023-01-25T17:15:32.762Z"
   },
   {
    "duration": 10,
    "start_time": "2023-01-25T17:15:33.059Z"
   },
   {
    "duration": 11,
    "start_time": "2023-01-25T17:15:33.270Z"
   },
   {
    "duration": 231,
    "start_time": "2023-01-25T17:15:34.171Z"
   },
   {
    "duration": 129,
    "start_time": "2023-01-25T17:15:34.577Z"
   },
   {
    "duration": 272,
    "start_time": "2023-01-25T17:15:34.982Z"
   },
   {
    "duration": 13263,
    "start_time": "2023-01-25T17:15:35.460Z"
   },
   {
    "duration": 3,
    "start_time": "2023-01-25T17:15:48.724Z"
   },
   {
    "duration": 17,
    "start_time": "2023-01-25T17:15:48.729Z"
   },
   {
    "duration": 15,
    "start_time": "2023-01-25T17:15:48.749Z"
   },
   {
    "duration": 1958,
    "start_time": "2023-01-25T17:15:48.767Z"
   },
   {
    "duration": 6,
    "start_time": "2023-01-25T17:15:50.728Z"
   },
   {
    "duration": 15,
    "start_time": "2023-01-25T17:15:50.735Z"
   },
   {
    "duration": 3,
    "start_time": "2023-01-25T17:15:50.783Z"
   },
   {
    "duration": 26,
    "start_time": "2023-01-25T17:15:50.788Z"
   },
   {
    "duration": 10,
    "start_time": "2023-01-25T17:15:50.817Z"
   },
   {
    "duration": 57,
    "start_time": "2023-01-25T17:15:50.829Z"
   },
   {
    "duration": 11,
    "start_time": "2023-01-25T17:15:50.887Z"
   },
   {
    "duration": 17,
    "start_time": "2023-01-25T17:15:50.899Z"
   },
   {
    "duration": 15,
    "start_time": "2023-01-25T17:15:50.918Z"
   },
   {
    "duration": 12,
    "start_time": "2023-01-25T17:15:50.935Z"
   },
   {
    "duration": 19,
    "start_time": "2023-01-25T17:15:50.949Z"
   },
   {
    "duration": 2216,
    "start_time": "2023-01-25T17:15:50.983Z"
   },
   {
    "duration": 4,
    "start_time": "2023-01-25T17:15:53.202Z"
   },
   {
    "duration": 2267,
    "start_time": "2023-01-25T17:15:54.907Z"
   },
   {
    "duration": 4,
    "start_time": "2023-01-25T17:15:58.070Z"
   },
   {
    "duration": 2369,
    "start_time": "2023-01-25T17:16:08.737Z"
   },
   {
    "duration": 789,
    "start_time": "2023-01-25T17:16:14.474Z"
   },
   {
    "duration": 5,
    "start_time": "2023-01-25T17:16:17.834Z"
   },
   {
    "duration": 6,
    "start_time": "2023-01-25T17:16:18.533Z"
   },
   {
    "duration": 6,
    "start_time": "2023-01-25T17:16:20.676Z"
   },
   {
    "duration": 1811,
    "start_time": "2023-01-25T17:16:22.725Z"
   },
   {
    "duration": 3,
    "start_time": "2023-01-25T17:16:26.876Z"
   },
   {
    "duration": 77,
    "start_time": "2023-01-25T17:16:28.405Z"
   },
   {
    "duration": 107,
    "start_time": "2023-01-25T17:20:53.132Z"
   },
   {
    "duration": 72,
    "start_time": "2023-01-25T17:21:12.635Z"
   },
   {
    "duration": 74,
    "start_time": "2023-01-25T17:28:48.660Z"
   },
   {
    "duration": 91,
    "start_time": "2023-01-25T17:46:00.672Z"
   },
   {
    "duration": 79,
    "start_time": "2023-01-25T17:46:22.041Z"
   },
   {
    "duration": 76,
    "start_time": "2023-01-25T17:47:40.590Z"
   },
   {
    "duration": 82,
    "start_time": "2023-01-25T17:47:50.457Z"
   },
   {
    "duration": 74,
    "start_time": "2023-01-25T17:49:55.724Z"
   },
   {
    "duration": 82,
    "start_time": "2023-01-25T17:50:16.838Z"
   },
   {
    "duration": 77,
    "start_time": "2023-01-25T17:50:28.379Z"
   },
   {
    "duration": 81,
    "start_time": "2023-01-25T17:50:37.121Z"
   },
   {
    "duration": 67,
    "start_time": "2023-01-25T17:51:04.861Z"
   },
   {
    "duration": 72,
    "start_time": "2023-01-25T17:51:21.059Z"
   },
   {
    "duration": 77,
    "start_time": "2023-01-25T17:51:56.276Z"
   },
   {
    "duration": 18,
    "start_time": "2023-01-25T17:53:39.596Z"
   },
   {
    "duration": 119,
    "start_time": "2023-01-25T17:53:54.287Z"
   },
   {
    "duration": 4,
    "start_time": "2023-01-25T17:54:21.792Z"
   },
   {
    "duration": 384,
    "start_time": "2023-01-25T17:54:40.855Z"
   },
   {
    "duration": 5,
    "start_time": "2023-01-25T17:54:48.913Z"
   },
   {
    "duration": 3,
    "start_time": "2023-01-25T17:54:49.274Z"
   },
   {
    "duration": 750,
    "start_time": "2023-01-25T17:54:49.596Z"
   },
   {
    "duration": 20,
    "start_time": "2023-01-25T17:54:50.349Z"
   },
   {
    "duration": 30,
    "start_time": "2023-01-25T17:54:50.371Z"
   },
   {
    "duration": 26,
    "start_time": "2023-01-25T17:54:50.427Z"
   },
   {
    "duration": 118,
    "start_time": "2023-01-25T17:54:51.060Z"
   },
   {
    "duration": 31,
    "start_time": "2023-01-25T17:54:51.324Z"
   },
   {
    "duration": 102,
    "start_time": "2023-01-25T17:54:51.599Z"
   },
   {
    "duration": 10,
    "start_time": "2023-01-25T17:54:51.943Z"
   },
   {
    "duration": 7,
    "start_time": "2023-01-25T17:54:52.170Z"
   },
   {
    "duration": 10,
    "start_time": "2023-01-25T17:54:52.393Z"
   },
   {
    "duration": 242,
    "start_time": "2023-01-25T17:54:52.812Z"
   },
   {
    "duration": 126,
    "start_time": "2023-01-25T17:54:53.232Z"
   },
   {
    "duration": 253,
    "start_time": "2023-01-25T17:54:53.646Z"
   },
   {
    "duration": 14205,
    "start_time": "2023-01-25T17:54:54.098Z"
   },
   {
    "duration": 4,
    "start_time": "2023-01-25T17:55:08.306Z"
   },
   {
    "duration": 8,
    "start_time": "2023-01-25T17:55:08.312Z"
   },
   {
    "duration": 21,
    "start_time": "2023-01-25T17:55:08.324Z"
   },
   {
    "duration": 2487,
    "start_time": "2023-01-25T17:55:08.347Z"
   },
   {
    "duration": 6,
    "start_time": "2023-01-25T17:55:10.836Z"
   },
   {
    "duration": 43,
    "start_time": "2023-01-25T17:55:10.844Z"
   },
   {
    "duration": 42,
    "start_time": "2023-01-25T17:55:10.889Z"
   },
   {
    "duration": 68,
    "start_time": "2023-01-25T17:55:10.933Z"
   },
   {
    "duration": 14,
    "start_time": "2023-01-25T17:55:11.005Z"
   },
   {
    "duration": 33,
    "start_time": "2023-01-25T17:55:11.021Z"
   },
   {
    "duration": 35,
    "start_time": "2023-01-25T17:55:11.056Z"
   },
   {
    "duration": 15,
    "start_time": "2023-01-25T17:55:11.095Z"
   },
   {
    "duration": 26,
    "start_time": "2023-01-25T17:55:11.113Z"
   },
   {
    "duration": 19,
    "start_time": "2023-01-25T17:55:11.141Z"
   },
   {
    "duration": 23,
    "start_time": "2023-01-25T17:55:11.162Z"
   },
   {
    "duration": 2443,
    "start_time": "2023-01-25T17:55:11.187Z"
   },
   {
    "duration": 4,
    "start_time": "2023-01-25T17:55:13.632Z"
   },
   {
    "duration": 2723,
    "start_time": "2023-01-25T17:55:13.638Z"
   },
   {
    "duration": 5,
    "start_time": "2023-01-25T17:55:16.363Z"
   },
   {
    "duration": 2236,
    "start_time": "2023-01-25T17:55:16.370Z"
   },
   {
    "duration": 785,
    "start_time": "2023-01-25T17:55:18.607Z"
   },
   {
    "duration": 4,
    "start_time": "2023-01-25T17:55:19.394Z"
   },
   {
    "duration": 9,
    "start_time": "2023-01-25T17:55:19.399Z"
   },
   {
    "duration": 12,
    "start_time": "2023-01-25T17:55:19.410Z"
   },
   {
    "duration": 1733,
    "start_time": "2023-01-25T17:55:19.426Z"
   },
   {
    "duration": 320,
    "start_time": "2023-01-25T17:55:21.161Z"
   },
   {
    "duration": 1,
    "start_time": "2023-01-25T17:55:21.483Z"
   },
   {
    "duration": 14,
    "start_time": "2023-01-25T17:55:36.484Z"
   },
   {
    "duration": 1558,
    "start_time": "2023-01-26T05:33:31.551Z"
   },
   {
    "duration": 4,
    "start_time": "2023-01-26T05:33:37.505Z"
   },
   {
    "duration": 2207,
    "start_time": "2023-01-26T05:33:45.987Z"
   },
   {
    "duration": 19,
    "start_time": "2023-01-26T05:33:50.046Z"
   },
   {
    "duration": 13,
    "start_time": "2023-01-26T05:33:52.743Z"
   },
   {
    "duration": 20,
    "start_time": "2023-01-26T05:33:54.844Z"
   },
   {
    "duration": 126,
    "start_time": "2023-01-26T05:34:04.114Z"
   },
   {
    "duration": 20,
    "start_time": "2023-01-26T05:34:07.877Z"
   },
   {
    "duration": 99,
    "start_time": "2023-01-26T05:34:10.371Z"
   },
   {
    "duration": 10,
    "start_time": "2023-01-26T05:34:16.499Z"
   },
   {
    "duration": 7,
    "start_time": "2023-01-26T05:34:17.834Z"
   },
   {
    "duration": 10,
    "start_time": "2023-01-26T05:34:19.333Z"
   },
   {
    "duration": 241,
    "start_time": "2023-01-26T05:41:20.310Z"
   },
   {
    "duration": 126,
    "start_time": "2023-01-26T05:41:22.490Z"
   },
   {
    "duration": 237,
    "start_time": "2023-01-26T05:41:28.575Z"
   },
   {
    "duration": 12332,
    "start_time": "2023-01-26T05:42:41.682Z"
   },
   {
    "duration": 4,
    "start_time": "2023-01-26T05:42:54.016Z"
   },
   {
    "duration": 21,
    "start_time": "2023-01-26T05:42:54.022Z"
   },
   {
    "duration": 15,
    "start_time": "2023-01-26T05:42:54.045Z"
   },
   {
    "duration": 1738,
    "start_time": "2023-01-26T05:42:55.399Z"
   },
   {
    "duration": 17,
    "start_time": "2023-01-26T05:42:57.140Z"
   },
   {
    "duration": 6,
    "start_time": "2023-01-26T05:43:49.329Z"
   },
   {
    "duration": 3,
    "start_time": "2023-01-26T05:43:54.232Z"
   },
   {
    "duration": 23,
    "start_time": "2023-01-26T05:43:56.262Z"
   },
   {
    "duration": 10,
    "start_time": "2023-01-26T05:44:05.621Z"
   },
   {
    "duration": 11,
    "start_time": "2023-01-26T05:44:06.672Z"
   },
   {
    "duration": 11,
    "start_time": "2023-01-26T05:44:08.119Z"
   },
   {
    "duration": 4,
    "start_time": "2023-01-26T05:44:13.060Z"
   },
   {
    "duration": 5,
    "start_time": "2023-01-26T05:44:14.153Z"
   },
   {
    "duration": 4,
    "start_time": "2023-01-26T05:44:19.836Z"
   },
   {
    "duration": 4,
    "start_time": "2023-01-26T05:48:02.728Z"
   },
   {
    "duration": 2254,
    "start_time": "2023-01-26T05:48:03.722Z"
   },
   {
    "duration": 4,
    "start_time": "2023-01-26T05:48:14.044Z"
   },
   {
    "duration": 2201,
    "start_time": "2023-01-26T05:48:14.990Z"
   },
   {
    "duration": 5,
    "start_time": "2023-01-26T05:48:19.555Z"
   },
   {
    "duration": 2207,
    "start_time": "2023-01-26T05:48:20.461Z"
   },
   {
    "duration": 886,
    "start_time": "2023-01-26T05:48:31.360Z"
   },
   {
    "duration": 5,
    "start_time": "2023-01-26T05:49:00.863Z"
   },
   {
    "duration": 5,
    "start_time": "2023-01-26T05:49:02.609Z"
   },
   {
    "duration": 5,
    "start_time": "2023-01-26T05:49:04.617Z"
   },
   {
    "duration": 1675,
    "start_time": "2023-01-26T05:49:06.859Z"
   },
   {
    "duration": 17,
    "start_time": "2023-01-26T05:49:26.969Z"
   },
   {
    "duration": 4,
    "start_time": "2023-01-26T05:49:43.842Z"
   },
   {
    "duration": 4,
    "start_time": "2023-01-26T05:49:44.254Z"
   },
   {
    "duration": 791,
    "start_time": "2023-01-26T05:49:44.771Z"
   },
   {
    "duration": 18,
    "start_time": "2023-01-26T05:49:45.564Z"
   },
   {
    "duration": 18,
    "start_time": "2023-01-26T05:49:46.726Z"
   },
   {
    "duration": 18,
    "start_time": "2023-01-26T05:49:46.939Z"
   },
   {
    "duration": 129,
    "start_time": "2023-01-26T05:49:50.393Z"
   },
   {
    "duration": 32,
    "start_time": "2023-01-26T05:49:50.525Z"
   },
   {
    "duration": 115,
    "start_time": "2023-01-26T05:49:50.559Z"
   },
   {
    "duration": 10,
    "start_time": "2023-01-26T05:49:51.126Z"
   },
   {
    "duration": 7,
    "start_time": "2023-01-26T05:49:51.854Z"
   },
   {
    "duration": 11,
    "start_time": "2023-01-26T05:49:52.486Z"
   },
   {
    "duration": 234,
    "start_time": "2023-01-26T05:49:54.753Z"
   },
   {
    "duration": 137,
    "start_time": "2023-01-26T05:49:55.781Z"
   },
   {
    "duration": 272,
    "start_time": "2023-01-26T05:49:56.968Z"
   },
   {
    "duration": 12941,
    "start_time": "2023-01-26T05:49:59.602Z"
   },
   {
    "duration": 3,
    "start_time": "2023-01-26T05:50:12.553Z"
   },
   {
    "duration": 26,
    "start_time": "2023-01-26T05:50:12.557Z"
   },
   {
    "duration": 37,
    "start_time": "2023-01-26T05:50:12.585Z"
   },
   {
    "duration": 1884,
    "start_time": "2023-01-26T05:50:12.624Z"
   },
   {
    "duration": 5,
    "start_time": "2023-01-26T05:50:14.512Z"
   },
   {
    "duration": 4,
    "start_time": "2023-01-26T05:50:30.927Z"
   },
   {
    "duration": 3,
    "start_time": "2023-01-26T05:50:34.586Z"
   },
   {
    "duration": 26,
    "start_time": "2023-01-26T05:50:41.052Z"
   },
   {
    "duration": 12,
    "start_time": "2023-01-26T05:50:43.504Z"
   },
   {
    "duration": 8,
    "start_time": "2023-01-26T05:50:44.706Z"
   },
   {
    "duration": 11,
    "start_time": "2023-01-26T05:50:46.053Z"
   },
   {
    "duration": 3,
    "start_time": "2023-01-26T05:50:51.083Z"
   },
   {
    "duration": 4,
    "start_time": "2023-01-26T05:50:52.432Z"
   },
   {
    "duration": 4,
    "start_time": "2023-01-26T05:50:55.183Z"
   },
   {
    "duration": 96,
    "start_time": "2023-01-26T05:51:16.329Z"
   },
   {
    "duration": 145,
    "start_time": "2023-01-26T05:55:03.995Z"
   },
   {
    "duration": 64,
    "start_time": "2023-01-26T05:55:35.620Z"
   },
   {
    "duration": 53,
    "start_time": "2023-01-26T05:56:16.724Z"
   },
   {
    "duration": 36,
    "start_time": "2023-01-26T05:56:36.728Z"
   },
   {
    "duration": 195,
    "start_time": "2023-01-26T06:08:29.558Z"
   },
   {
    "duration": 107,
    "start_time": "2023-01-26T06:10:30.148Z"
   },
   {
    "duration": 104,
    "start_time": "2023-01-26T06:11:00.820Z"
   },
   {
    "duration": 99,
    "start_time": "2023-01-26T06:11:50.785Z"
   },
   {
    "duration": 4,
    "start_time": "2023-01-26T06:18:40.098Z"
   },
   {
    "duration": 3,
    "start_time": "2023-01-26T06:18:41.618Z"
   },
   {
    "duration": 709,
    "start_time": "2023-01-26T06:18:42.215Z"
   },
   {
    "duration": 27,
    "start_time": "2023-01-26T06:18:42.926Z"
   },
   {
    "duration": 13,
    "start_time": "2023-01-26T06:18:42.955Z"
   },
   {
    "duration": 19,
    "start_time": "2023-01-26T06:18:43.109Z"
   },
   {
    "duration": 130,
    "start_time": "2023-01-26T06:18:43.505Z"
   },
   {
    "duration": 22,
    "start_time": "2023-01-26T06:18:43.813Z"
   },
   {
    "duration": 91,
    "start_time": "2023-01-26T06:18:44.099Z"
   },
   {
    "duration": 9,
    "start_time": "2023-01-26T06:18:44.464Z"
   },
   {
    "duration": 8,
    "start_time": "2023-01-26T06:18:44.680Z"
   },
   {
    "duration": 11,
    "start_time": "2023-01-26T06:18:44.898Z"
   },
   {
    "duration": 245,
    "start_time": "2023-01-26T06:18:46.129Z"
   },
   {
    "duration": 132,
    "start_time": "2023-01-26T06:18:46.762Z"
   },
   {
    "duration": 269,
    "start_time": "2023-01-26T06:18:47.564Z"
   },
   {
    "duration": 13164,
    "start_time": "2023-01-26T06:18:48.856Z"
   },
   {
    "duration": 3,
    "start_time": "2023-01-26T06:19:02.022Z"
   },
   {
    "duration": 29,
    "start_time": "2023-01-26T06:19:02.027Z"
   },
   {
    "duration": 38,
    "start_time": "2023-01-26T06:19:02.058Z"
   },
   {
    "duration": 1809,
    "start_time": "2023-01-26T06:19:02.098Z"
   },
   {
    "duration": 5,
    "start_time": "2023-01-26T06:19:03.908Z"
   },
   {
    "duration": 42,
    "start_time": "2023-01-26T06:19:03.915Z"
   },
   {
    "duration": 3,
    "start_time": "2023-01-26T06:19:04.203Z"
   },
   {
    "duration": 25,
    "start_time": "2023-01-26T06:19:07.886Z"
   },
   {
    "duration": 9,
    "start_time": "2023-01-26T06:19:12.755Z"
   },
   {
    "duration": 7,
    "start_time": "2023-01-26T06:19:13.773Z"
   },
   {
    "duration": 11,
    "start_time": "2023-01-26T06:19:14.873Z"
   },
   {
    "duration": 4,
    "start_time": "2023-01-26T06:19:17.898Z"
   },
   {
    "duration": 3,
    "start_time": "2023-01-26T06:19:18.802Z"
   },
   {
    "duration": 5,
    "start_time": "2023-01-26T06:19:19.832Z"
   },
   {
    "duration": 4,
    "start_time": "2023-01-26T06:19:26.291Z"
   },
   {
    "duration": 2170,
    "start_time": "2023-01-26T06:19:26.396Z"
   },
   {
    "duration": 4,
    "start_time": "2023-01-26T06:19:28.568Z"
   },
   {
    "duration": 2318,
    "start_time": "2023-01-26T06:19:28.573Z"
   },
   {
    "duration": 5,
    "start_time": "2023-01-26T06:19:30.894Z"
   },
   {
    "duration": 2255,
    "start_time": "2023-01-26T06:19:30.901Z"
   },
   {
    "duration": 825,
    "start_time": "2023-01-26T06:19:33.218Z"
   },
   {
    "duration": 5,
    "start_time": "2023-01-26T06:19:38.086Z"
   },
   {
    "duration": 4,
    "start_time": "2023-01-26T06:19:38.485Z"
   },
   {
    "duration": 4,
    "start_time": "2023-01-26T06:19:39.034Z"
   },
   {
    "duration": 1671,
    "start_time": "2023-01-26T06:19:40.993Z"
   },
   {
    "duration": 73,
    "start_time": "2023-01-26T06:20:18.275Z"
   },
   {
    "duration": 57,
    "start_time": "2023-01-26T06:21:45.168Z"
   },
   {
    "duration": 35,
    "start_time": "2023-01-26T06:22:27.828Z"
   },
   {
    "duration": 5,
    "start_time": "2023-01-26T06:22:59.020Z"
   },
   {
    "duration": 7,
    "start_time": "2023-01-26T06:33:16.260Z"
   },
   {
    "duration": 4,
    "start_time": "2023-01-26T06:34:16.698Z"
   },
   {
    "duration": 4,
    "start_time": "2023-01-26T06:53:44.296Z"
   },
   {
    "duration": 3,
    "start_time": "2023-01-26T06:53:45.069Z"
   },
   {
    "duration": 733,
    "start_time": "2023-01-26T06:53:45.425Z"
   },
   {
    "duration": 18,
    "start_time": "2023-01-26T06:53:46.160Z"
   },
   {
    "duration": 23,
    "start_time": "2023-01-26T06:53:46.180Z"
   },
   {
    "duration": 19,
    "start_time": "2023-01-26T06:53:46.235Z"
   },
   {
    "duration": 125,
    "start_time": "2023-01-26T06:53:46.694Z"
   },
   {
    "duration": 21,
    "start_time": "2023-01-26T06:53:47.066Z"
   },
   {
    "duration": 116,
    "start_time": "2023-01-26T06:53:47.363Z"
   },
   {
    "duration": 9,
    "start_time": "2023-01-26T06:53:47.715Z"
   },
   {
    "duration": 8,
    "start_time": "2023-01-26T06:53:47.939Z"
   },
   {
    "duration": 10,
    "start_time": "2023-01-26T06:53:48.597Z"
   },
   {
    "duration": 250,
    "start_time": "2023-01-26T06:53:49.558Z"
   },
   {
    "duration": 142,
    "start_time": "2023-01-26T06:53:50.258Z"
   },
   {
    "duration": 274,
    "start_time": "2023-01-26T06:53:50.851Z"
   },
   {
    "duration": 13025,
    "start_time": "2023-01-26T06:53:52.577Z"
   },
   {
    "duration": 4,
    "start_time": "2023-01-26T06:54:05.604Z"
   },
   {
    "duration": 28,
    "start_time": "2023-01-26T06:54:05.610Z"
   },
   {
    "duration": 7,
    "start_time": "2023-01-26T06:54:12.011Z"
   },
   {
    "duration": 1809,
    "start_time": "2023-01-26T06:54:19.282Z"
   },
   {
    "duration": 6,
    "start_time": "2023-01-26T06:54:21.094Z"
   },
   {
    "duration": 4,
    "start_time": "2023-01-26T06:54:33.119Z"
   },
   {
    "duration": 2,
    "start_time": "2023-01-26T06:54:36.488Z"
   },
   {
    "duration": 25,
    "start_time": "2023-01-26T06:54:36.874Z"
   },
   {
    "duration": 11,
    "start_time": "2023-01-26T06:54:39.033Z"
   },
   {
    "duration": 7,
    "start_time": "2023-01-26T06:54:40.213Z"
   },
   {
    "duration": 11,
    "start_time": "2023-01-26T06:54:41.333Z"
   },
   {
    "duration": 3,
    "start_time": "2023-01-26T06:54:47.136Z"
   },
   {
    "duration": 4,
    "start_time": "2023-01-26T06:54:48.319Z"
   },
   {
    "duration": 3,
    "start_time": "2023-01-26T06:54:50.672Z"
   },
   {
    "duration": 4,
    "start_time": "2023-01-26T06:55:05.328Z"
   },
   {
    "duration": 2169,
    "start_time": "2023-01-26T06:55:06.400Z"
   },
   {
    "duration": 5,
    "start_time": "2023-01-26T06:55:12.070Z"
   },
   {
    "duration": 2274,
    "start_time": "2023-01-26T06:55:13.232Z"
   },
   {
    "duration": 4,
    "start_time": "2023-01-26T06:55:15.508Z"
   },
   {
    "duration": 2183,
    "start_time": "2023-01-26T06:55:16.583Z"
   },
   {
    "duration": 774,
    "start_time": "2023-01-26T06:55:22.479Z"
   },
   {
    "duration": 5,
    "start_time": "2023-01-26T06:55:26.820Z"
   },
   {
    "duration": 7,
    "start_time": "2023-01-26T06:55:29.318Z"
   },
   {
    "duration": 5,
    "start_time": "2023-01-26T06:55:32.591Z"
   },
   {
    "duration": 1712,
    "start_time": "2023-01-26T06:55:34.418Z"
   },
   {
    "duration": 12,
    "start_time": "2023-01-26T07:28:39.373Z"
   },
   {
    "duration": 12,
    "start_time": "2023-01-26T07:29:39.439Z"
   },
   {
    "duration": 9,
    "start_time": "2023-01-26T07:30:03.966Z"
   },
   {
    "duration": 3,
    "start_time": "2023-01-26T07:30:14.871Z"
   },
   {
    "duration": 79,
    "start_time": "2023-01-26T07:39:35.361Z"
   },
   {
    "duration": 78,
    "start_time": "2023-01-26T07:40:00.914Z"
   },
   {
    "duration": 14,
    "start_time": "2023-01-26T07:41:29.199Z"
   },
   {
    "duration": 4,
    "start_time": "2023-01-26T07:41:31.499Z"
   },
   {
    "duration": 9,
    "start_time": "2023-01-26T07:41:43.128Z"
   },
   {
    "duration": 3,
    "start_time": "2023-01-26T07:41:49.217Z"
   },
   {
    "duration": 12,
    "start_time": "2023-01-26T07:49:36.775Z"
   },
   {
    "duration": 3,
    "start_time": "2023-01-26T07:50:00.535Z"
   },
   {
    "duration": 109,
    "start_time": "2023-01-26T08:07:47.516Z"
   },
   {
    "duration": 4,
    "start_time": "2023-01-26T08:07:49.931Z"
   },
   {
    "duration": 94,
    "start_time": "2023-01-26T08:11:05.985Z"
   },
   {
    "duration": 4,
    "start_time": "2023-01-26T08:11:11.466Z"
   },
   {
    "duration": 98,
    "start_time": "2023-01-26T08:11:40.719Z"
   },
   {
    "duration": 4,
    "start_time": "2023-01-26T08:11:41.722Z"
   },
   {
    "duration": 86,
    "start_time": "2023-01-26T08:11:59.124Z"
   },
   {
    "duration": 4,
    "start_time": "2023-01-26T08:12:00.095Z"
   },
   {
    "duration": 99,
    "start_time": "2023-01-26T08:26:54.737Z"
   },
   {
    "duration": 4,
    "start_time": "2023-01-26T08:26:56.007Z"
   },
   {
    "duration": 84,
    "start_time": "2023-01-26T08:27:19.814Z"
   },
   {
    "duration": 3,
    "start_time": "2023-01-26T08:27:20.754Z"
   },
   {
    "duration": 88,
    "start_time": "2023-01-26T08:27:27.559Z"
   },
   {
    "duration": 4,
    "start_time": "2023-01-26T08:27:33.051Z"
   },
   {
    "duration": 72,
    "start_time": "2023-01-26T08:33:02.438Z"
   },
   {
    "duration": 72,
    "start_time": "2023-01-26T08:33:31.848Z"
   },
   {
    "duration": 2,
    "start_time": "2023-01-26T08:33:45.655Z"
   },
   {
    "duration": 9,
    "start_time": "2023-01-26T08:36:39.924Z"
   },
   {
    "duration": 11,
    "start_time": "2023-01-26T08:37:03.695Z"
   },
   {
    "duration": 4,
    "start_time": "2023-01-26T08:37:32.799Z"
   },
   {
    "duration": 101,
    "start_time": "2023-01-26T08:38:40.403Z"
   },
   {
    "duration": 4,
    "start_time": "2023-01-26T08:38:41.594Z"
   },
   {
    "duration": 12,
    "start_time": "2023-01-26T08:40:29.536Z"
   },
   {
    "duration": 3,
    "start_time": "2023-01-26T08:42:26.233Z"
   },
   {
    "duration": 4,
    "start_time": "2023-01-26T08:42:51.767Z"
   },
   {
    "duration": 3,
    "start_time": "2023-01-26T08:42:53.524Z"
   },
   {
    "duration": 722,
    "start_time": "2023-01-26T08:42:55.227Z"
   },
   {
    "duration": 18,
    "start_time": "2023-01-26T08:42:56.885Z"
   },
   {
    "duration": 13,
    "start_time": "2023-01-26T08:42:57.931Z"
   },
   {
    "duration": 20,
    "start_time": "2023-01-26T08:42:58.992Z"
   },
   {
    "duration": 122,
    "start_time": "2023-01-26T08:43:02.211Z"
   },
   {
    "duration": 21,
    "start_time": "2023-01-26T08:43:03.324Z"
   },
   {
    "duration": 90,
    "start_time": "2023-01-26T08:43:04.443Z"
   },
   {
    "duration": 9,
    "start_time": "2023-01-26T08:43:06.730Z"
   },
   {
    "duration": 8,
    "start_time": "2023-01-26T08:43:07.980Z"
   },
   {
    "duration": 11,
    "start_time": "2023-01-26T08:43:09.119Z"
   },
   {
    "duration": 338,
    "start_time": "2023-01-26T08:43:14.694Z"
   },
   {
    "duration": 130,
    "start_time": "2023-01-26T08:43:16.553Z"
   },
   {
    "duration": 294,
    "start_time": "2023-01-26T08:43:17.787Z"
   },
   {
    "duration": 12492,
    "start_time": "2023-01-26T08:43:19.505Z"
   },
   {
    "duration": 2,
    "start_time": "2023-01-26T08:43:31.999Z"
   },
   {
    "duration": 9,
    "start_time": "2023-01-26T08:43:32.003Z"
   },
   {
    "duration": 19,
    "start_time": "2023-01-26T08:43:32.014Z"
   },
   {
    "duration": 1716,
    "start_time": "2023-01-26T08:43:32.034Z"
   },
   {
    "duration": 4,
    "start_time": "2023-01-26T08:43:33.754Z"
   },
   {
    "duration": 4,
    "start_time": "2023-01-26T08:43:45.533Z"
   },
   {
    "duration": 3,
    "start_time": "2023-01-26T08:43:49.770Z"
   },
   {
    "duration": 19,
    "start_time": "2023-01-26T08:43:51.711Z"
   },
   {
    "duration": 10,
    "start_time": "2023-01-26T08:43:59.266Z"
   },
   {
    "duration": 7,
    "start_time": "2023-01-26T08:44:00.335Z"
   },
   {
    "duration": 12,
    "start_time": "2023-01-26T08:44:01.233Z"
   },
   {
    "duration": 4,
    "start_time": "2023-01-26T08:44:03.123Z"
   },
   {
    "duration": 4,
    "start_time": "2023-01-26T08:44:04.597Z"
   },
   {
    "duration": 4,
    "start_time": "2023-01-26T08:44:05.851Z"
   },
   {
    "duration": 4,
    "start_time": "2023-01-26T08:44:12.832Z"
   },
   {
    "duration": 2191,
    "start_time": "2023-01-26T08:44:13.781Z"
   },
   {
    "duration": 4,
    "start_time": "2023-01-26T08:44:16.660Z"
   },
   {
    "duration": 2195,
    "start_time": "2023-01-26T08:44:17.794Z"
   },
   {
    "duration": 5,
    "start_time": "2023-01-26T08:44:19.991Z"
   },
   {
    "duration": 2170,
    "start_time": "2023-01-26T08:44:20.872Z"
   },
   {
    "duration": 789,
    "start_time": "2023-01-26T08:44:29.054Z"
   },
   {
    "duration": 4,
    "start_time": "2023-01-26T08:44:34.145Z"
   },
   {
    "duration": 5,
    "start_time": "2023-01-26T08:44:36.186Z"
   },
   {
    "duration": 4,
    "start_time": "2023-01-26T08:44:55.542Z"
   },
   {
    "duration": 1655,
    "start_time": "2023-01-26T08:44:57.444Z"
   },
   {
    "duration": 2,
    "start_time": "2023-01-26T08:45:07.991Z"
   },
   {
    "duration": 76,
    "start_time": "2023-01-26T08:45:10.502Z"
   },
   {
    "duration": 4,
    "start_time": "2023-01-26T08:45:12.379Z"
   },
   {
    "duration": 12,
    "start_time": "2023-01-26T08:45:37.112Z"
   },
   {
    "duration": 5,
    "start_time": "2023-01-26T08:45:40.329Z"
   },
   {
    "duration": 4,
    "start_time": "2023-01-26T08:46:10.898Z"
   },
   {
    "duration": 5,
    "start_time": "2023-01-26T08:51:17.843Z"
   },
   {
    "duration": 15,
    "start_time": "2023-01-26T08:51:25.785Z"
   },
   {
    "duration": 13,
    "start_time": "2023-01-26T08:52:03.496Z"
   },
   {
    "duration": 5,
    "start_time": "2023-01-26T08:54:21.425Z"
   },
   {
    "duration": 3,
    "start_time": "2023-01-26T08:54:21.656Z"
   },
   {
    "duration": 615,
    "start_time": "2023-01-26T08:54:22.312Z"
   },
   {
    "duration": 25,
    "start_time": "2023-01-26T08:54:22.929Z"
   },
   {
    "duration": 14,
    "start_time": "2023-01-26T08:54:22.994Z"
   },
   {
    "duration": 18,
    "start_time": "2023-01-26T08:54:23.256Z"
   },
   {
    "duration": 117,
    "start_time": "2023-01-26T08:54:23.663Z"
   },
   {
    "duration": 21,
    "start_time": "2023-01-26T08:54:23.962Z"
   },
   {
    "duration": 95,
    "start_time": "2023-01-26T08:54:24.243Z"
   },
   {
    "duration": 10,
    "start_time": "2023-01-26T08:54:24.607Z"
   },
   {
    "duration": 7,
    "start_time": "2023-01-26T08:54:24.857Z"
   },
   {
    "duration": 10,
    "start_time": "2023-01-26T08:54:25.078Z"
   },
   {
    "duration": 233,
    "start_time": "2023-01-26T08:54:25.837Z"
   },
   {
    "duration": 136,
    "start_time": "2023-01-26T08:54:26.251Z"
   },
   {
    "duration": 248,
    "start_time": "2023-01-26T08:54:26.668Z"
   },
   {
    "duration": 12472,
    "start_time": "2023-01-26T08:54:27.159Z"
   },
   {
    "duration": 2,
    "start_time": "2023-01-26T08:54:39.633Z"
   },
   {
    "duration": 8,
    "start_time": "2023-01-26T08:54:39.636Z"
   },
   {
    "duration": 5,
    "start_time": "2023-01-26T08:54:39.654Z"
   },
   {
    "duration": 1706,
    "start_time": "2023-01-26T08:54:39.660Z"
   },
   {
    "duration": 5,
    "start_time": "2023-01-26T08:54:41.368Z"
   },
   {
    "duration": 16,
    "start_time": "2023-01-26T08:54:41.374Z"
   },
   {
    "duration": 10,
    "start_time": "2023-01-26T08:54:41.391Z"
   },
   {
    "duration": 63,
    "start_time": "2023-01-26T08:54:41.403Z"
   },
   {
    "duration": 9,
    "start_time": "2023-01-26T08:54:41.469Z"
   },
   {
    "duration": 22,
    "start_time": "2023-01-26T08:54:41.479Z"
   },
   {
    "duration": 51,
    "start_time": "2023-01-26T08:54:41.503Z"
   },
   {
    "duration": 4,
    "start_time": "2023-01-26T08:54:41.556Z"
   },
   {
    "duration": 13,
    "start_time": "2023-01-26T08:54:41.562Z"
   },
   {
    "duration": 28,
    "start_time": "2023-01-26T08:54:41.577Z"
   },
   {
    "duration": 13,
    "start_time": "2023-01-26T08:54:41.607Z"
   },
   {
    "duration": 2219,
    "start_time": "2023-01-26T08:54:41.622Z"
   },
   {
    "duration": 13,
    "start_time": "2023-01-26T08:54:43.843Z"
   },
   {
    "duration": 2091,
    "start_time": "2023-01-26T08:54:43.857Z"
   },
   {
    "duration": 5,
    "start_time": "2023-01-26T08:54:45.953Z"
   },
   {
    "duration": 2201,
    "start_time": "2023-01-26T08:54:45.959Z"
   },
   {
    "duration": 751,
    "start_time": "2023-01-26T08:54:52.782Z"
   },
   {
    "duration": 5,
    "start_time": "2023-01-26T08:54:56.540Z"
   },
   {
    "duration": 4,
    "start_time": "2023-01-26T08:54:56.921Z"
   },
   {
    "duration": 4,
    "start_time": "2023-01-26T08:54:57.349Z"
   },
   {
    "duration": 1556,
    "start_time": "2023-01-26T08:54:57.742Z"
   },
   {
    "duration": 2,
    "start_time": "2023-01-26T08:54:59.301Z"
   },
   {
    "duration": 77,
    "start_time": "2023-01-26T08:55:07.149Z"
   },
   {
    "duration": 2,
    "start_time": "2023-01-26T08:55:15.941Z"
   },
   {
    "duration": 4,
    "start_time": "2023-01-26T08:55:18.299Z"
   },
   {
    "duration": 4,
    "start_time": "2023-01-26T08:55:20.366Z"
   },
   {
    "duration": 3,
    "start_time": "2023-01-26T08:55:31.090Z"
   },
   {
    "duration": 2,
    "start_time": "2023-01-26T08:55:37.783Z"
   },
   {
    "duration": 7,
    "start_time": "2023-01-26T08:55:57.708Z"
   },
   {
    "duration": 14,
    "start_time": "2023-01-26T08:56:01.990Z"
   },
   {
    "duration": 7,
    "start_time": "2023-01-26T08:56:12.138Z"
   },
   {
    "duration": 3,
    "start_time": "2023-01-26T08:56:23.085Z"
   },
   {
    "duration": 2,
    "start_time": "2023-01-26T08:56:26.526Z"
   },
   {
    "duration": 3,
    "start_time": "2023-01-26T08:56:27.703Z"
   },
   {
    "duration": 6,
    "start_time": "2023-01-26T08:56:31.319Z"
   },
   {
    "duration": 3,
    "start_time": "2023-01-26T08:56:38.823Z"
   },
   {
    "duration": 4,
    "start_time": "2023-01-26T08:56:40.680Z"
   },
   {
    "duration": 62126,
    "start_time": "2023-01-26T08:56:46.312Z"
   },
   {
    "duration": 913,
    "start_time": "2023-01-26T08:57:48.440Z"
   },
   {
    "duration": 63758,
    "start_time": "2023-01-26T08:57:49.355Z"
   },
   {
    "duration": 663,
    "start_time": "2023-01-26T08:58:53.115Z"
   },
   {
    "duration": 3576,
    "start_time": "2023-01-26T08:58:53.779Z"
   },
   {
    "duration": 3696,
    "start_time": "2023-01-26T08:58:57.358Z"
   },
   {
    "duration": 544,
    "start_time": "2023-01-26T08:59:01.055Z"
   },
   {
    "duration": 5,
    "start_time": "2023-01-26T08:59:13.100Z"
   },
   {
    "duration": 175,
    "start_time": "2023-01-26T08:59:16.382Z"
   },
   {
    "duration": 290,
    "start_time": "2023-01-26T08:59:42.474Z"
   },
   {
    "duration": 10,
    "start_time": "2023-01-26T09:02:19.444Z"
   },
   {
    "duration": 1697,
    "start_time": "2023-01-26T11:59:04.634Z"
   },
   {
    "duration": 3,
    "start_time": "2023-01-26T11:59:10.689Z"
   },
   {
    "duration": 1903,
    "start_time": "2023-01-26T11:59:12.829Z"
   },
   {
    "duration": 18,
    "start_time": "2023-01-26T11:59:27.106Z"
   },
   {
    "duration": 13,
    "start_time": "2023-01-26T11:59:28.142Z"
   },
   {
    "duration": 20,
    "start_time": "2023-01-26T11:59:29.241Z"
   },
   {
    "duration": 131,
    "start_time": "2023-01-26T11:59:32.870Z"
   },
   {
    "duration": 24,
    "start_time": "2023-01-26T11:59:34.803Z"
   },
   {
    "duration": 98,
    "start_time": "2023-01-26T11:59:35.604Z"
   },
   {
    "duration": 9,
    "start_time": "2023-01-26T11:59:40.723Z"
   },
   {
    "duration": 7,
    "start_time": "2023-01-26T11:59:43.931Z"
   },
   {
    "duration": 10,
    "start_time": "2023-01-26T11:59:44.157Z"
   },
   {
    "duration": 254,
    "start_time": "2023-01-26T11:59:46.224Z"
   },
   {
    "duration": 149,
    "start_time": "2023-01-26T11:59:48.180Z"
   },
   {
    "duration": 260,
    "start_time": "2023-01-26T11:59:53.996Z"
   },
   {
    "duration": 263,
    "start_time": "2023-01-26T12:01:46.319Z"
   },
   {
    "duration": 12902,
    "start_time": "2023-01-26T12:01:49.130Z"
   },
   {
    "duration": 2,
    "start_time": "2023-01-26T12:02:07.616Z"
   },
   {
    "duration": 4,
    "start_time": "2023-01-26T12:02:08.063Z"
   },
   {
    "duration": 7,
    "start_time": "2023-01-26T12:02:08.599Z"
   },
   {
    "duration": 1757,
    "start_time": "2023-01-26T12:02:09.301Z"
   },
   {
    "duration": 5,
    "start_time": "2023-01-26T12:02:16.312Z"
   },
   {
    "duration": 5,
    "start_time": "2023-01-26T12:02:50.940Z"
   },
   {
    "duration": 3,
    "start_time": "2023-01-26T12:02:53.404Z"
   },
   {
    "duration": 23,
    "start_time": "2023-01-26T12:02:54.614Z"
   },
   {
    "duration": 10,
    "start_time": "2023-01-26T12:02:57.639Z"
   },
   {
    "duration": 7,
    "start_time": "2023-01-26T12:02:59.024Z"
   },
   {
    "duration": 11,
    "start_time": "2023-01-26T12:03:00.198Z"
   },
   {
    "duration": 4,
    "start_time": "2023-01-26T12:03:02.446Z"
   },
   {
    "duration": 5,
    "start_time": "2023-01-26T12:03:04.099Z"
   },
   {
    "duration": 5,
    "start_time": "2023-01-26T12:03:05.030Z"
   },
   {
    "duration": 5,
    "start_time": "2023-01-26T12:03:26.140Z"
   },
   {
    "duration": 2398,
    "start_time": "2023-01-26T12:03:26.732Z"
   },
   {
    "duration": 9,
    "start_time": "2023-01-26T12:03:29.132Z"
   },
   {
    "duration": 2213,
    "start_time": "2023-01-26T12:03:29.934Z"
   },
   {
    "duration": 4,
    "start_time": "2023-01-26T12:03:35.830Z"
   },
   {
    "duration": 2532,
    "start_time": "2023-01-26T12:03:36.998Z"
   },
   {
    "duration": 802,
    "start_time": "2023-01-26T12:03:47.638Z"
   },
   {
    "duration": 5,
    "start_time": "2023-01-26T12:03:57.132Z"
   },
   {
    "duration": 6,
    "start_time": "2023-01-26T12:03:59.078Z"
   },
   {
    "duration": 4,
    "start_time": "2023-01-26T12:04:01.170Z"
   },
   {
    "duration": 1711,
    "start_time": "2023-01-26T12:04:03.504Z"
   },
   {
    "duration": 74,
    "start_time": "2023-01-26T12:48:43.654Z"
   },
   {
    "duration": 13,
    "start_time": "2023-01-26T12:55:32.362Z"
   },
   {
    "duration": 1317,
    "start_time": "2023-01-26T13:11:48.823Z"
   },
   {
    "duration": 48,
    "start_time": "2023-01-26T13:12:14.640Z"
   },
   {
    "duration": 4,
    "start_time": "2023-01-26T13:12:43.839Z"
   },
   {
    "duration": 49,
    "start_time": "2023-01-26T13:14:19.757Z"
   },
   {
    "duration": 185,
    "start_time": "2023-01-26T13:14:35.506Z"
   },
   {
    "duration": 40,
    "start_time": "2023-01-26T13:18:37.205Z"
   },
   {
    "duration": 4,
    "start_time": "2023-01-26T13:18:39.390Z"
   },
   {
    "duration": 4,
    "start_time": "2023-01-26T13:19:55.252Z"
   },
   {
    "duration": 55,
    "start_time": "2023-01-26T13:21:31.520Z"
   },
   {
    "duration": 4,
    "start_time": "2023-01-26T13:21:34.134Z"
   },
   {
    "duration": 4,
    "start_time": "2023-01-26T13:21:37.071Z"
   },
   {
    "duration": 3,
    "start_time": "2023-01-26T13:21:44.138Z"
   },
   {
    "duration": 4,
    "start_time": "2023-01-26T13:21:44.994Z"
   },
   {
    "duration": 2,
    "start_time": "2023-01-26T13:21:46.689Z"
   },
   {
    "duration": 4,
    "start_time": "2023-01-26T13:21:59.248Z"
   },
   {
    "duration": 4,
    "start_time": "2023-01-26T13:22:01.540Z"
   },
   {
    "duration": 3,
    "start_time": "2023-01-26T13:22:23.929Z"
   },
   {
    "duration": 3,
    "start_time": "2023-01-26T13:22:25.041Z"
   },
   {
    "duration": 72,
    "start_time": "2023-01-26T13:26:02.380Z"
   },
   {
    "duration": 6,
    "start_time": "2023-01-26T13:26:51.377Z"
   },
   {
    "duration": 14,
    "start_time": "2023-01-26T13:26:54.089Z"
   },
   {
    "duration": 7,
    "start_time": "2023-01-26T13:27:02.952Z"
   },
   {
    "duration": 4,
    "start_time": "2023-01-26T13:27:05.684Z"
   },
   {
    "duration": 3,
    "start_time": "2023-01-26T13:27:06.825Z"
   },
   {
    "duration": 3,
    "start_time": "2023-01-26T13:27:07.920Z"
   },
   {
    "duration": 6,
    "start_time": "2023-01-26T13:27:11.082Z"
   },
   {
    "duration": 4,
    "start_time": "2023-01-26T13:27:13.501Z"
   },
   {
    "duration": 3,
    "start_time": "2023-01-26T13:27:15.963Z"
   },
   {
    "duration": 52872,
    "start_time": "2023-01-26T13:27:25.085Z"
   },
   {
    "duration": 881,
    "start_time": "2023-01-26T13:28:17.959Z"
   },
   {
    "duration": 57066,
    "start_time": "2023-01-26T13:28:18.842Z"
   },
   {
    "duration": 553,
    "start_time": "2023-01-26T13:29:15.910Z"
   },
   {
    "duration": 3278,
    "start_time": "2023-01-26T13:29:16.465Z"
   },
   {
    "duration": 3301,
    "start_time": "2023-01-26T13:29:19.745Z"
   },
   {
    "duration": 495,
    "start_time": "2023-01-26T13:29:23.049Z"
   },
   {
    "duration": 5,
    "start_time": "2023-01-26T13:29:23.546Z"
   },
   {
    "duration": 192,
    "start_time": "2023-01-26T13:29:23.553Z"
   },
   {
    "duration": 399,
    "start_time": "2023-01-26T13:29:23.747Z"
   },
   {
    "duration": 9,
    "start_time": "2023-01-26T13:35:22.745Z"
   },
   {
    "duration": 1465,
    "start_time": "2023-01-26T13:36:32.267Z"
   },
   {
    "duration": 7,
    "start_time": "2023-01-26T13:36:33.734Z"
   },
   {
    "duration": 788,
    "start_time": "2023-01-26T13:36:33.743Z"
   },
   {
    "duration": 24,
    "start_time": "2023-01-26T13:36:34.534Z"
   },
   {
    "duration": 14,
    "start_time": "2023-01-26T13:36:34.560Z"
   },
   {
    "duration": 21,
    "start_time": "2023-01-26T13:36:34.576Z"
   },
   {
    "duration": 164,
    "start_time": "2023-01-26T13:36:34.598Z"
   },
   {
    "duration": 31,
    "start_time": "2023-01-26T13:36:34.765Z"
   },
   {
    "duration": 122,
    "start_time": "2023-01-26T13:36:34.798Z"
   },
   {
    "duration": 23,
    "start_time": "2023-01-26T13:36:34.923Z"
   },
   {
    "duration": 7,
    "start_time": "2023-01-26T13:36:34.948Z"
   },
   {
    "duration": 19,
    "start_time": "2023-01-26T13:36:34.956Z"
   },
   {
    "duration": 277,
    "start_time": "2023-01-26T13:36:34.978Z"
   },
   {
    "duration": 152,
    "start_time": "2023-01-26T13:36:35.257Z"
   },
   {
    "duration": 290,
    "start_time": "2023-01-26T13:36:35.411Z"
   },
   {
    "duration": 12921,
    "start_time": "2023-01-26T13:36:35.703Z"
   },
   {
    "duration": 3,
    "start_time": "2023-01-26T13:36:48.627Z"
   },
   {
    "duration": 9,
    "start_time": "2023-01-26T13:36:48.631Z"
   },
   {
    "duration": 10,
    "start_time": "2023-01-26T13:36:48.642Z"
   },
   {
    "duration": 1889,
    "start_time": "2023-01-26T13:36:48.654Z"
   },
   {
    "duration": 7,
    "start_time": "2023-01-26T13:36:50.545Z"
   },
   {
    "duration": 17,
    "start_time": "2023-01-26T13:36:50.554Z"
   },
   {
    "duration": 22,
    "start_time": "2023-01-26T13:36:50.573Z"
   },
   {
    "duration": 88,
    "start_time": "2023-01-26T13:36:50.597Z"
   },
   {
    "duration": 60,
    "start_time": "2023-01-26T13:36:50.687Z"
   },
   {
    "duration": 8,
    "start_time": "2023-01-26T13:36:50.749Z"
   },
   {
    "duration": 13,
    "start_time": "2023-01-26T13:36:50.759Z"
   },
   {
    "duration": 5,
    "start_time": "2023-01-26T13:36:50.777Z"
   },
   {
    "duration": 15,
    "start_time": "2023-01-26T13:36:50.784Z"
   },
   {
    "duration": 39,
    "start_time": "2023-01-26T13:36:50.800Z"
   },
   {
    "duration": 14,
    "start_time": "2023-01-26T13:36:50.842Z"
   },
   {
    "duration": 2284,
    "start_time": "2023-01-26T13:36:50.858Z"
   },
   {
    "duration": 4,
    "start_time": "2023-01-26T13:36:53.144Z"
   },
   {
    "duration": 2229,
    "start_time": "2023-01-26T13:36:53.150Z"
   },
   {
    "duration": 5,
    "start_time": "2023-01-26T13:36:55.381Z"
   },
   {
    "duration": 2250,
    "start_time": "2023-01-26T13:36:55.387Z"
   },
   {
    "duration": 883,
    "start_time": "2023-01-26T13:36:57.642Z"
   },
   {
    "duration": 15,
    "start_time": "2023-01-26T13:36:58.527Z"
   },
   {
    "duration": 10,
    "start_time": "2023-01-26T13:36:58.544Z"
   },
   {
    "duration": 13,
    "start_time": "2023-01-26T13:36:58.557Z"
   },
   {
    "duration": 1664,
    "start_time": "2023-01-26T13:36:58.572Z"
   },
   {
    "duration": 65,
    "start_time": "2023-01-26T13:37:00.238Z"
   },
   {
    "duration": 3,
    "start_time": "2023-01-26T13:37:00.305Z"
   },
   {
    "duration": 24,
    "start_time": "2023-01-26T13:37:00.310Z"
   },
   {
    "duration": 37,
    "start_time": "2023-01-26T13:37:00.336Z"
   },
   {
    "duration": 18,
    "start_time": "2023-01-26T13:37:00.375Z"
   },
   {
    "duration": 23,
    "start_time": "2023-01-26T13:37:00.396Z"
   },
   {
    "duration": 15,
    "start_time": "2023-01-26T13:37:00.422Z"
   },
   {
    "duration": 23,
    "start_time": "2023-01-26T13:37:00.439Z"
   },
   {
    "duration": 29,
    "start_time": "2023-01-26T13:37:00.464Z"
   },
   {
    "duration": 48,
    "start_time": "2023-01-26T13:37:00.495Z"
   },
   {
    "duration": 32,
    "start_time": "2023-01-26T13:37:00.545Z"
   },
   {
    "duration": 7,
    "start_time": "2023-01-26T13:37:00.580Z"
   },
   {
    "duration": 17,
    "start_time": "2023-01-26T13:37:00.589Z"
   },
   {
    "duration": 16,
    "start_time": "2023-01-26T13:37:00.608Z"
   },
   {
    "duration": 17,
    "start_time": "2023-01-26T13:37:00.626Z"
   },
   {
    "duration": 21,
    "start_time": "2023-01-26T13:37:00.646Z"
   },
   {
    "duration": 19,
    "start_time": "2023-01-26T13:37:00.669Z"
   },
   {
    "duration": 53875,
    "start_time": "2023-01-26T13:37:00.690Z"
   },
   {
    "duration": 878,
    "start_time": "2023-01-26T13:37:54.567Z"
   },
   {
    "duration": 58898,
    "start_time": "2023-01-26T13:37:55.447Z"
   },
   {
    "duration": 575,
    "start_time": "2023-01-26T13:38:54.347Z"
   },
   {
    "duration": 3928,
    "start_time": "2023-01-26T13:38:54.924Z"
   },
   {
    "duration": 3691,
    "start_time": "2023-01-26T13:38:58.855Z"
   },
   {
    "duration": 566,
    "start_time": "2023-01-26T13:39:02.550Z"
   },
   {
    "duration": 5,
    "start_time": "2023-01-26T13:39:03.118Z"
   },
   {
    "duration": 219,
    "start_time": "2023-01-26T13:39:03.125Z"
   },
   {
    "duration": 397,
    "start_time": "2023-01-26T13:39:03.346Z"
   },
   {
    "duration": 16,
    "start_time": "2023-01-26T13:39:03.745Z"
   },
   {
    "duration": 8,
    "start_time": "2023-01-26T14:54:07.487Z"
   },
   {
    "duration": 1666,
    "start_time": "2023-06-02T14:32:59.432Z"
   },
   {
    "duration": 3,
    "start_time": "2023-06-02T14:33:01.100Z"
   },
   {
    "duration": 3216,
    "start_time": "2023-06-02T14:33:01.105Z"
   },
   {
    "duration": 17,
    "start_time": "2023-06-02T14:33:04.323Z"
   },
   {
    "duration": 13,
    "start_time": "2023-06-02T14:33:04.341Z"
   },
   {
    "duration": 18,
    "start_time": "2023-06-02T14:33:04.356Z"
   },
   {
    "duration": 172,
    "start_time": "2023-06-02T14:33:04.376Z"
   },
   {
    "duration": 28,
    "start_time": "2023-06-02T14:33:04.550Z"
   },
   {
    "duration": 121,
    "start_time": "2023-06-02T14:33:04.580Z"
   },
   {
    "duration": 18,
    "start_time": "2023-06-02T14:33:04.705Z"
   },
   {
    "duration": 7,
    "start_time": "2023-06-02T14:33:04.724Z"
   },
   {
    "duration": 11,
    "start_time": "2023-06-02T14:33:04.733Z"
   },
   {
    "duration": 222,
    "start_time": "2023-06-02T14:33:04.745Z"
   },
   {
    "duration": 117,
    "start_time": "2023-06-02T14:33:04.968Z"
   },
   {
    "duration": 221,
    "start_time": "2023-06-02T14:33:05.087Z"
   },
   {
    "duration": 12505,
    "start_time": "2023-06-02T14:33:05.309Z"
   },
   {
    "duration": 2,
    "start_time": "2023-06-02T14:33:17.816Z"
   },
   {
    "duration": 18,
    "start_time": "2023-06-02T14:33:17.820Z"
   },
   {
    "duration": 34,
    "start_time": "2023-06-02T14:33:17.839Z"
   },
   {
    "duration": 34,
    "start_time": "2023-06-02T14:33:17.875Z"
   },
   {
    "duration": 9,
    "start_time": "2023-06-02T14:33:17.911Z"
   },
   {
    "duration": 9,
    "start_time": "2023-06-02T14:33:17.922Z"
   },
   {
    "duration": 8,
    "start_time": "2023-06-02T14:33:17.933Z"
   },
   {
    "duration": 34,
    "start_time": "2023-06-02T14:33:17.942Z"
   },
   {
    "duration": 9,
    "start_time": "2023-06-02T14:33:17.978Z"
   },
   {
    "duration": 11,
    "start_time": "2023-06-02T14:33:17.989Z"
   },
   {
    "duration": 22,
    "start_time": "2023-06-02T14:33:18.002Z"
   },
   {
    "duration": 6,
    "start_time": "2023-06-02T14:33:18.029Z"
   },
   {
    "duration": 12,
    "start_time": "2023-06-02T14:33:18.037Z"
   },
   {
    "duration": 13,
    "start_time": "2023-06-02T14:33:18.051Z"
   },
   {
    "duration": 12,
    "start_time": "2023-06-02T14:33:18.066Z"
   },
   {
    "duration": 2095,
    "start_time": "2023-06-02T14:33:18.080Z"
   },
   {
    "duration": 4,
    "start_time": "2023-06-02T14:33:20.176Z"
   },
   {
    "duration": 2212,
    "start_time": "2023-06-02T14:33:20.182Z"
   },
   {
    "duration": 4,
    "start_time": "2023-06-02T14:33:22.395Z"
   },
   {
    "duration": 2187,
    "start_time": "2023-06-02T14:33:22.401Z"
   },
   {
    "duration": 789,
    "start_time": "2023-06-02T14:33:24.590Z"
   },
   {
    "duration": 4,
    "start_time": "2023-06-02T14:33:25.382Z"
   },
   {
    "duration": 7,
    "start_time": "2023-06-02T14:33:25.387Z"
   },
   {
    "duration": 8,
    "start_time": "2023-06-02T14:33:25.396Z"
   },
   {
    "duration": 1570,
    "start_time": "2023-06-02T14:33:25.405Z"
   },
   {
    "duration": 44,
    "start_time": "2023-06-02T14:33:26.977Z"
   },
   {
    "duration": 3,
    "start_time": "2023-06-02T14:33:27.023Z"
   },
   {
    "duration": 9,
    "start_time": "2023-06-02T14:33:27.028Z"
   },
   {
    "duration": 9,
    "start_time": "2023-06-02T14:33:27.038Z"
   },
   {
    "duration": 18,
    "start_time": "2023-06-02T14:33:27.048Z"
   },
   {
    "duration": 10,
    "start_time": "2023-06-02T14:33:27.067Z"
   },
   {
    "duration": 3,
    "start_time": "2023-06-02T14:33:27.078Z"
   },
   {
    "duration": 4,
    "start_time": "2023-06-02T14:33:27.083Z"
   },
   {
    "duration": 5,
    "start_time": "2023-06-02T14:33:27.088Z"
   },
   {
    "duration": 5,
    "start_time": "2023-06-02T14:33:27.117Z"
   },
   {
    "duration": 7,
    "start_time": "2023-06-02T14:33:27.125Z"
   },
   {
    "duration": 8,
    "start_time": "2023-06-02T14:33:27.134Z"
   },
   {
    "duration": 55728,
    "start_time": "2023-06-02T14:33:27.144Z"
   },
   {
    "duration": 919,
    "start_time": "2023-06-02T14:34:22.874Z"
   },
   {
    "duration": 62713,
    "start_time": "2023-06-02T14:34:23.794Z"
   },
   {
    "duration": 588,
    "start_time": "2023-06-02T14:35:26.509Z"
   },
   {
    "duration": 4520,
    "start_time": "2023-06-02T14:35:27.098Z"
   },
   {
    "duration": 5013,
    "start_time": "2023-06-02T14:35:31.620Z"
   },
   {
    "duration": 457,
    "start_time": "2023-06-02T14:35:36.638Z"
   },
   {
    "duration": 5,
    "start_time": "2023-06-02T14:35:37.097Z"
   },
   {
    "duration": 334,
    "start_time": "2023-06-02T14:35:37.103Z"
   },
   {
    "duration": 209,
    "start_time": "2023-06-02T14:35:37.526Z"
   },
   {
    "duration": 78,
    "start_time": "2023-06-02T14:35:37.741Z"
   }
  ],
  "kernelspec": {
   "display_name": "Python 3 (ipykernel)",
   "language": "python",
   "name": "python3"
  },
  "language_info": {
   "codemirror_mode": {
    "name": "ipython",
    "version": 3
   },
   "file_extension": ".py",
   "mimetype": "text/x-python",
   "name": "python",
   "nbconvert_exporter": "python",
   "pygments_lexer": "ipython3",
   "version": "3.9.5"
  },
  "toc": {
   "base_numbering": 1,
   "nav_menu": {},
   "number_sections": true,
   "sideBar": true,
   "skip_h1_title": true,
   "title_cell": "Содержание",
   "title_sidebar": "Contents",
   "toc_cell": true,
   "toc_position": {
    "height": "calc(100% - 180px)",
    "left": "10px",
    "top": "150px",
    "width": "230.797px"
   },
   "toc_section_display": true,
   "toc_window_display": true
  }
 },
 "nbformat": 4,
 "nbformat_minor": 2
}

{
 "cells": [
  {
   "cell_type": "markdown",
   "metadata": {},
   "source": [
    "# Проект для «Викишоп»"
   ]
  },
  {
   "cell_type": "markdown",
   "metadata": {},
   "source": [
    "Интернет-магазин «Викишоп» запускает новый сервис. Теперь пользователи могут редактировать и дополнять описания товаров, как в вики-сообществах. То есть клиенты предлагают свои правки и комментируют изменения других. Магазину нужен инструмент, который будет искать токсичные комментарии и отправлять их на модерацию. \n",
    "\n",
    "Необходимо обучить модель классифицировать комментарии на позитивные и негативные со значением метрики качества *F1* не меньше 0.75. В вашем распоряжении набор данных с разметкой о токсичности правок.\n",
    "\n",
    "**Инструкция по выполнению проекта**\n",
    "\n",
    "1. Нужно загрузить и подготовьте данные;\n",
    "2. Обучить разные модели;\n",
    "3. Сделать выводы.\n",
    "\n",
    "**Описание данных**\n",
    "\n",
    "Данные находятся в файле `toxic_comments.csv`. Столбец *text* содержит текст комментария, а *toxic* — целевой признак."
   ]
  },
  {
   "cell_type": "markdown",
   "metadata": {},
   "source": [
    "## Подготовка"
   ]
  },
  {
   "cell_type": "markdown",
   "metadata": {},
   "source": [
    "### Выгружаем библиотеки и модули"
   ]
  },
  {
   "cell_type": "code",
   "execution_count": 1,
   "metadata": {},
   "outputs": [],
   "source": [
    "import matplotlib.pyplot as plt\n",
    "import nltk\n",
    "import numpy as np\n",
    "import pandas as pd\n",
    "import re\n",
    "import seaborn as sns\n",
    "import spacy\n",
    "import sys\n",
    "from tqdm import tqdm\n",
    "\n",
    "tqdm.pandas()\n",
    "\n",
    "import warnings\n",
    "\n",
    "from catboost import CatBoostClassifier, Pool\n",
    "from nltk.corpus import stopwords as nltk_stopwords\n",
    "from nltk.stem import WordNetLemmatizer\n",
    "from pymystem3 import Mystem\n",
    "from sklearn.feature_extraction.text import TfidfVectorizer\n",
    "from sklearn.linear_model import LogisticRegression, SGDClassifier\n",
    "from sklearn.metrics import f1_score, precision_score, recall_score, accuracy_score, roc_auc_score, roc_curve\n",
    "from sklearn.model_selection import train_test_split, cross_val_score, GridSearchCV\n",
    "from sklearn.tree import DecisionTreeClassifier\n",
    "from sklearn.utils import shuffle\n",
    "from tqdm import notebook"
   ]
  },
  {
   "cell_type": "markdown",
   "metadata": {},
   "source": [
    "### Выгружаем датасет"
   ]
  },
  {
   "cell_type": "code",
   "execution_count": 2,
   "metadata": {},
   "outputs": [],
   "source": [
    "df = pd.read_csv('/datasets/toxic_comments.csv')"
   ]
  },
  {
   "cell_type": "markdown",
   "metadata": {},
   "source": [
    "### Отключим некритические предупреждения в коде"
   ]
  },
  {
   "cell_type": "code",
   "execution_count": 3,
   "metadata": {},
   "outputs": [],
   "source": [
    "warnings.filterwarnings(\"ignore\")"
   ]
  },
  {
   "cell_type": "markdown",
   "metadata": {},
   "source": [
    "### Посмотрим общую информацию о датасете"
   ]
  },
  {
   "cell_type": "code",
   "execution_count": 4,
   "metadata": {},
   "outputs": [
    {
     "name": "stdout",
     "output_type": "stream",
     "text": [
      "<class 'pandas.core.frame.DataFrame'>\n",
      "RangeIndex: 159292 entries, 0 to 159291\n",
      "Data columns (total 3 columns):\n",
      " #   Column      Non-Null Count   Dtype \n",
      "---  ------      --------------   ----- \n",
      " 0   Unnamed: 0  159292 non-null  int64 \n",
      " 1   text        159292 non-null  object\n",
      " 2   toxic       159292 non-null  int64 \n",
      "dtypes: int64(2), object(1)\n",
      "memory usage: 3.6+ MB\n"
     ]
    }
   ],
   "source": [
    "df.info()"
   ]
  },
  {
   "cell_type": "markdown",
   "metadata": {},
   "source": [
    "### Выведем на экран первые 10 строк датасета"
   ]
  },
  {
   "cell_type": "code",
   "execution_count": 5,
   "metadata": {},
   "outputs": [
    {
     "data": {
      "text/html": [
       "<div>\n",
       "<style scoped>\n",
       "    .dataframe tbody tr th:only-of-type {\n",
       "        vertical-align: middle;\n",
       "    }\n",
       "\n",
       "    .dataframe tbody tr th {\n",
       "        vertical-align: top;\n",
       "    }\n",
       "\n",
       "    .dataframe thead th {\n",
       "        text-align: right;\n",
       "    }\n",
       "</style>\n",
       "<table border=\"1\" class=\"dataframe\">\n",
       "  <thead>\n",
       "    <tr style=\"text-align: right;\">\n",
       "      <th></th>\n",
       "      <th>Unnamed: 0</th>\n",
       "      <th>text</th>\n",
       "      <th>toxic</th>\n",
       "    </tr>\n",
       "  </thead>\n",
       "  <tbody>\n",
       "    <tr>\n",
       "      <th>0</th>\n",
       "      <td>0</td>\n",
       "      <td>Explanation\\nWhy the edits made under my usern...</td>\n",
       "      <td>0</td>\n",
       "    </tr>\n",
       "    <tr>\n",
       "      <th>1</th>\n",
       "      <td>1</td>\n",
       "      <td>D'aww! He matches this background colour I'm s...</td>\n",
       "      <td>0</td>\n",
       "    </tr>\n",
       "    <tr>\n",
       "      <th>2</th>\n",
       "      <td>2</td>\n",
       "      <td>Hey man, I'm really not trying to edit war. It...</td>\n",
       "      <td>0</td>\n",
       "    </tr>\n",
       "    <tr>\n",
       "      <th>3</th>\n",
       "      <td>3</td>\n",
       "      <td>\"\\nMore\\nI can't make any real suggestions on ...</td>\n",
       "      <td>0</td>\n",
       "    </tr>\n",
       "    <tr>\n",
       "      <th>4</th>\n",
       "      <td>4</td>\n",
       "      <td>You, sir, are my hero. Any chance you remember...</td>\n",
       "      <td>0</td>\n",
       "    </tr>\n",
       "    <tr>\n",
       "      <th>5</th>\n",
       "      <td>5</td>\n",
       "      <td>\"\\n\\nCongratulations from me as well, use the ...</td>\n",
       "      <td>0</td>\n",
       "    </tr>\n",
       "    <tr>\n",
       "      <th>6</th>\n",
       "      <td>6</td>\n",
       "      <td>COCKSUCKER BEFORE YOU PISS AROUND ON MY WORK</td>\n",
       "      <td>1</td>\n",
       "    </tr>\n",
       "    <tr>\n",
       "      <th>7</th>\n",
       "      <td>7</td>\n",
       "      <td>Your vandalism to the Matt Shirvington article...</td>\n",
       "      <td>0</td>\n",
       "    </tr>\n",
       "    <tr>\n",
       "      <th>8</th>\n",
       "      <td>8</td>\n",
       "      <td>Sorry if the word 'nonsense' was offensive to ...</td>\n",
       "      <td>0</td>\n",
       "    </tr>\n",
       "    <tr>\n",
       "      <th>9</th>\n",
       "      <td>9</td>\n",
       "      <td>alignment on this subject and which are contra...</td>\n",
       "      <td>0</td>\n",
       "    </tr>\n",
       "  </tbody>\n",
       "</table>\n",
       "</div>"
      ],
      "text/plain": [
       "   Unnamed: 0                                               text  toxic\n",
       "0           0  Explanation\\nWhy the edits made under my usern...      0\n",
       "1           1  D'aww! He matches this background colour I'm s...      0\n",
       "2           2  Hey man, I'm really not trying to edit war. It...      0\n",
       "3           3  \"\\nMore\\nI can't make any real suggestions on ...      0\n",
       "4           4  You, sir, are my hero. Any chance you remember...      0\n",
       "5           5  \"\\n\\nCongratulations from me as well, use the ...      0\n",
       "6           6       COCKSUCKER BEFORE YOU PISS AROUND ON MY WORK      1\n",
       "7           7  Your vandalism to the Matt Shirvington article...      0\n",
       "8           8  Sorry if the word 'nonsense' was offensive to ...      0\n",
       "9           9  alignment on this subject and which are contra...      0"
      ]
     },
     "execution_count": 5,
     "metadata": {},
     "output_type": "execute_result"
    }
   ],
   "source": [
    "df.head(10)"
   ]
  },
  {
   "cell_type": "markdown",
   "metadata": {},
   "source": [
    "### Оставим в тексте только буквенные символы и пробелы, и проведем лемматизацию"
   ]
  },
  {
   "cell_type": "code",
   "execution_count": 11,
   "metadata": {},
   "outputs": [],
   "source": [
    "nlp.pipe_names\n",
    "disabled_pipes = [ \"parser\",  \"ner\"]\n",
    "nlp = spacy.load(\"en_core_web_sm\", disable=disabled_pipes)"
   ]
  },
  {
   "cell_type": "code",
   "execution_count": 12,
   "metadata": {},
   "outputs": [],
   "source": [
    "def clean_text(text):\n",
    "    clean = nlp(\" \".join(re.sub(r'[^a-zA-z]', ' ', text).split()))\n",
    "    lemmatized_output = ' '.join([w.lemma_ for w in clean])\n",
    "    return lemmatized_output"
   ]
  },
  {
   "cell_type": "code",
   "execution_count": 13,
   "metadata": {
    "scrolled": true
   },
   "outputs": [
    {
     "name": "stderr",
     "output_type": "stream",
     "text": [
      "100%|██████████| 159292/159292 [19:37<00:00, 135.28it/s]\n"
     ]
    }
   ],
   "source": [
    "df['lemmatize'] = df['text'].progress_apply(clean_text)"
   ]
  },
  {
   "cell_type": "code",
   "execution_count": 14,
   "metadata": {
    "scrolled": true
   },
   "outputs": [
    {
     "data": {
      "text/html": [
       "<div>\n",
       "<style scoped>\n",
       "    .dataframe tbody tr th:only-of-type {\n",
       "        vertical-align: middle;\n",
       "    }\n",
       "\n",
       "    .dataframe tbody tr th {\n",
       "        vertical-align: top;\n",
       "    }\n",
       "\n",
       "    .dataframe thead th {\n",
       "        text-align: right;\n",
       "    }\n",
       "</style>\n",
       "<table border=\"1\" class=\"dataframe\">\n",
       "  <thead>\n",
       "    <tr style=\"text-align: right;\">\n",
       "      <th></th>\n",
       "      <th>Unnamed: 0</th>\n",
       "      <th>text</th>\n",
       "      <th>toxic</th>\n",
       "      <th>lemmatize</th>\n",
       "    </tr>\n",
       "  </thead>\n",
       "  <tbody>\n",
       "    <tr>\n",
       "      <th>0</th>\n",
       "      <td>0</td>\n",
       "      <td>Explanation\\nWhy the edits made under my usern...</td>\n",
       "      <td>0</td>\n",
       "      <td>explanation why the edit make under my usernam...</td>\n",
       "    </tr>\n",
       "    <tr>\n",
       "      <th>1</th>\n",
       "      <td>1</td>\n",
       "      <td>D'aww! He matches this background colour I'm s...</td>\n",
       "      <td>0</td>\n",
       "      <td>d aww he match this background colour I m seem...</td>\n",
       "    </tr>\n",
       "    <tr>\n",
       "      <th>2</th>\n",
       "      <td>2</td>\n",
       "      <td>Hey man, I'm really not trying to edit war. It...</td>\n",
       "      <td>0</td>\n",
       "      <td>hey man I m really not try to edit war it s ju...</td>\n",
       "    </tr>\n",
       "    <tr>\n",
       "      <th>3</th>\n",
       "      <td>3</td>\n",
       "      <td>\"\\nMore\\nI can't make any real suggestions on ...</td>\n",
       "      <td>0</td>\n",
       "      <td>More I can t make any real suggestion on impro...</td>\n",
       "    </tr>\n",
       "    <tr>\n",
       "      <th>4</th>\n",
       "      <td>4</td>\n",
       "      <td>You, sir, are my hero. Any chance you remember...</td>\n",
       "      <td>0</td>\n",
       "      <td>you sir be my hero any chance you remember wha...</td>\n",
       "    </tr>\n",
       "  </tbody>\n",
       "</table>\n",
       "</div>"
      ],
      "text/plain": [
       "   Unnamed: 0                                               text  toxic  \\\n",
       "0           0  Explanation\\nWhy the edits made under my usern...      0   \n",
       "1           1  D'aww! He matches this background colour I'm s...      0   \n",
       "2           2  Hey man, I'm really not trying to edit war. It...      0   \n",
       "3           3  \"\\nMore\\nI can't make any real suggestions on ...      0   \n",
       "4           4  You, sir, are my hero. Any chance you remember...      0   \n",
       "\n",
       "                                           lemmatize  \n",
       "0  explanation why the edit make under my usernam...  \n",
       "1  d aww he match this background colour I m seem...  \n",
       "2  hey man I m really not try to edit war it s ju...  \n",
       "3  More I can t make any real suggestion on impro...  \n",
       "4  you sir be my hero any chance you remember wha...  "
      ]
     },
     "execution_count": 14,
     "metadata": {},
     "output_type": "execute_result"
    }
   ],
   "source": [
    "df.head()"
   ]
  },
  {
   "cell_type": "markdown",
   "metadata": {},
   "source": [
    "### Посмотрим на количество пропущенных значений в датасете"
   ]
  },
  {
   "cell_type": "code",
   "execution_count": 16,
   "metadata": {},
   "outputs": [
    {
     "data": {
      "text/plain": [
       "Unnamed: 0    0\n",
       "text          0\n",
       "toxic         0\n",
       "lemmatize     0\n",
       "dtype: int64"
      ]
     },
     "execution_count": 16,
     "metadata": {},
     "output_type": "execute_result"
    }
   ],
   "source": [
    "df.isna().sum()"
   ]
  },
  {
   "cell_type": "markdown",
   "metadata": {},
   "source": [
    "### Посмотрим на количество явных дубликатов в датасете"
   ]
  },
  {
   "cell_type": "code",
   "execution_count": 17,
   "metadata": {},
   "outputs": [
    {
     "data": {
      "text/plain": [
       "0"
      ]
     },
     "execution_count": 17,
     "metadata": {},
     "output_type": "execute_result"
    }
   ],
   "source": [
    "df.duplicated().sum()"
   ]
  },
  {
   "cell_type": "markdown",
   "metadata": {},
   "source": [
    "### Посмотрим на соотношение классов"
   ]
  },
  {
   "cell_type": "code",
   "execution_count": 18,
   "metadata": {},
   "outputs": [
    {
     "name": "stdout",
     "output_type": "stream",
     "text": [
      "0    0.898388\n",
      "1    0.101612\n",
      "Name: toxic, dtype: float64\n"
     ]
    }
   ],
   "source": [
    "class_ratio = df['toxic'].value_counts(normalize=True)\n",
    "print(class_ratio)"
   ]
  },
  {
   "cell_type": "code",
   "execution_count": 19,
   "metadata": {},
   "outputs": [
    {
     "data": {
      "image/png": "[encoded data removed]",
      "text/plain": [
       "<Figure size 432x288 with 1 Axes>"
      ]
     },
     "metadata": {
      "needs_background": "light"
     },
     "output_type": "display_data"
    }
   ],
   "source": [
    "class_ratio.plot(kind = 'bar', grid = True)\n",
    "plt.title('Соотношения классов');"
   ]
  },
  {
   "cell_type": "markdown",
   "metadata": {},
   "source": [
    "Классы несбалансированы. "
   ]
  },
  {
   "cell_type": "markdown",
   "metadata": {},
   "source": [
    "### Выведем общий размер датасета"
   ]
  },
  {
   "cell_type": "code",
   "execution_count": 20,
   "metadata": {},
   "outputs": [
    {
     "data": {
      "text/plain": [
       "(159292, 4)"
      ]
     },
     "execution_count": 20,
     "metadata": {},
     "output_type": "execute_result"
    }
   ],
   "source": [
    "df.shape"
   ]
  },
  {
   "cell_type": "markdown",
   "metadata": {},
   "source": [
    "### Проведем разделение на выборки"
   ]
  },
  {
   "cell_type": "code",
   "execution_count": 21,
   "metadata": {},
   "outputs": [],
   "source": [
    "features = df.drop(['toxic'], axis = 1)\n",
    "target = df['toxic']\n",
    "\n",
    "features_train, features_valid, target_train, target_valid = train_test_split(features, \n",
    "                                                                              target, \n",
    "                                                                              test_size=0.4, \n",
    "                                                                              random_state=12345)\n",
    "features_valid, features_test, target_valid, target_test = train_test_split(features_valid, \n",
    "                                                                            target_valid, \n",
    "                                                                            test_size=0.5,\n",
    "                                                                            random_state=12345)"
   ]
  },
  {
   "cell_type": "markdown",
   "metadata": {},
   "source": [
    "### Выведем размеры выборок на экран"
   ]
  },
  {
   "cell_type": "code",
   "execution_count": 22,
   "metadata": {},
   "outputs": [
    {
     "name": "stdout",
     "output_type": "stream",
     "text": [
      "(95575, 3)\n",
      "(95575,)\n",
      "(31858, 3)\n",
      "(31858,)\n",
      "(31859, 3)\n",
      "(31859,)\n"
     ]
    }
   ],
   "source": [
    "print(features_train.shape)\n",
    "print(target_train.shape)\n",
    "\n",
    "print(features_valid.shape)\n",
    "print(target_valid.shape)\n",
    "\n",
    "print(features_test.shape)\n",
    "print(target_test.shape)"
   ]
  },
  {
   "cell_type": "markdown",
   "metadata": {},
   "source": [
    "### Проведем борьбу с дисбалансом (Downsampling)"
   ]
  },
  {
   "cell_type": "code",
   "execution_count": 23,
   "metadata": {},
   "outputs": [],
   "source": [
    "def downsample(features, target, fraction):\n",
    "    features_zeros = features[target == 0]\n",
    "    features_ones = features[target == 1]\n",
    "    target_zeros = target[target == 0]\n",
    "    target_ones = target[target == 1]\n",
    "\n",
    "    features_downsampled = pd.concat(\n",
    "        [features_zeros.sample(frac=fraction, random_state=12345)] + [features_ones])\n",
    "    target_downsampled = pd.concat(\n",
    "        [target_zeros.sample(frac=fraction, random_state=12345)] + [target_ones])\n",
    "    \n",
    "    features_downsampled, target_downsampled = shuffle(\n",
    "        features_downsampled, target_downsampled, random_state=12345)\n",
    "    \n",
    "    return features_downsampled, target_downsampled\n",
    "\n",
    "features_train_downsampled, target_train_downsampled = downsample(features_train, target_train, 0.12)"
   ]
  },
  {
   "cell_type": "code",
   "execution_count": 24,
   "metadata": {},
   "outputs": [
    {
     "data": {
      "image/png": "[encoded data removed]",
      "text/plain": [
       "<Figure size 432x288 with 1 Axes>"
      ]
     },
     "metadata": {
      "needs_background": "light"
     },
     "output_type": "display_data"
    }
   ],
   "source": [
    "class_exited = target_train_downsampled.value_counts(normalize = (0,1))\n",
    "class_exited.plot(kind = 'bar', grid = True)\n",
    "plt.title('Соотношения классов')\n",
    "plt.show()"
   ]
  },
  {
   "cell_type": "markdown",
   "metadata": {},
   "source": [
    "### Получаем фичи для обучения"
   ]
  },
  {
   "cell_type": "code",
   "execution_count": 25,
   "metadata": {},
   "outputs": [
    {
     "name": "stderr",
     "output_type": "stream",
     "text": [
      "[nltk_data] Downloading package stopwords to /home/jovyan/nltk_data...\n",
      "[nltk_data]   Package stopwords is already up-to-date!\n"
     ]
    },
    {
     "name": "stdout",
     "output_type": "stream",
     "text": [
      "(95575, 117381)\n",
      "(31858, 117381)\n",
      "(31859, 117381)\n"
     ]
    }
   ],
   "source": [
    "nltk.download('stopwords')\n",
    "stopwords = set(nltk_stopwords.words('english'))\n",
    "\n",
    "count_tf_idf = TfidfVectorizer(stop_words=stopwords)\n",
    "\n",
    "features_train = count_tf_idf.fit_transform(features_train['lemmatize'].values)\n",
    "features_valid = count_tf_idf.transform(features_valid['lemmatize'].values)\n",
    "features_test = count_tf_idf.transform(features_test['lemmatize'].values)\n",
    "\n",
    "print(features_train.shape)\n",
    "print(features_valid.shape)\n",
    "print(features_test.shape)\n",
    "cv_counts = 3"
   ]
  },
  {
   "cell_type": "markdown",
   "metadata": {},
   "source": [
    "***Вывод***"
   ]
  },
  {
   "cell_type": "markdown",
   "metadata": {},
   "source": [
    "- Вывели общую информацию о датасете\n",
    "- Оставили в тексте только кириллические символы и пробелы, и проведем лемматизацию\n",
    "- Выявили отсутствие пропусков и явных дубликатов\n",
    "- Разделили на выборки (обучающую, валидационную и тестовую)\n",
    "- Провели борьбу с дисбалансом классов"
   ]
  },
  {
   "cell_type": "markdown",
   "metadata": {},
   "source": [
    "## Обучение"
   ]
  },
  {
   "cell_type": "markdown",
   "metadata": {},
   "source": [
    "### LogisticRegression"
   ]
  },
  {
   "cell_type": "code",
   "execution_count": 26,
   "metadata": {},
   "outputs": [
    {
     "name": "stdout",
     "output_type": "stream",
     "text": [
      "F1: 0.7808010816292041\n",
      "AUC-ROC: 0.8433889971306674\n",
      "CPU times: user 21.5 s, sys: 20.4 s, total: 41.9 s\n",
      "Wall time: 42 s\n"
     ]
    }
   ],
   "source": [
    "%%time\n",
    "model_lr = LogisticRegression(C = 10)\n",
    "model_lr.fit(features_train, target_train)\n",
    "predict_lr = model_lr.predict(features_valid)\n",
    "f_1_lr = f1_score(target_valid, predict_lr)\n",
    "auc_roc_lr = roc_auc_score(target_valid, predict_lr)\n",
    "print('F1:', f_1_lr)\n",
    "print('AUC-ROC:', auc_roc_lr)"
   ]
  },
  {
   "cell_type": "markdown",
   "metadata": {},
   "source": [
    "### DecisionTreeClassifier"
   ]
  },
  {
   "cell_type": "code",
   "execution_count": 28,
   "metadata": {},
   "outputs": [
    {
     "name": "stderr",
     "output_type": "stream",
     "text": [
      "100%|██████████| 8/8 [00:50<00:00,  6.26s/it]"
     ]
    },
    {
     "name": "stdout",
     "output_type": "stream",
     "text": [
      "F1 наилучшей модели равно: 0.63 C глубиной: 19\n",
      "CPU times: user 49.7 s, sys: 265 ms, total: 50 s\n",
      "Wall time: 50.1 s\n"
     ]
    },
    {
     "name": "stderr",
     "output_type": "stream",
     "text": [
      "\n"
     ]
    }
   ],
   "source": [
    "%%time\n",
    "\n",
    "best_model_dt = None\n",
    "best_result_dt = 0\n",
    "best_depth_dt=0\n",
    "for depth in tqdm(range(1, 25, 3)):\n",
    "      \n",
    "    model_dt = DecisionTreeClassifier(random_state=12345, max_depth=depth,class_weight='balanced') \n",
    "    model_dt.fit(features_train, target_train) \n",
    "    predictions_valid_dt = model_dt.predict(features_valid) \n",
    "    result_dt = f1_score(target_valid, predictions_valid_dt)\n",
    "    if result_dt > best_result_dt:\n",
    "        best_model_dt = model_dt\n",
    "        best_result_dt = result_dt \n",
    "          \n",
    "        best_depth_dt = depth\n",
    "print(\"F1 наилучшей модели равно:\", best_result_dt.round(2), end='')\n",
    "print(' C глубиной:',best_depth_dt)"
   ]
  },
  {
   "cell_type": "code",
   "execution_count": 29,
   "metadata": {},
   "outputs": [
    {
     "name": "stdout",
     "output_type": "stream",
     "text": [
      "F1: 0.6226247558160184\n",
      "AUC-ROC: 0.7546045229370708\n"
     ]
    }
   ],
   "source": [
    "predict_dt = model_dt.predict(features_valid)\n",
    "f_1_dt = f1_score(target_valid, predict_dt)\n",
    "auc_roc_dt = roc_auc_score(target_valid, predict_dt)\n",
    "print('F1:', f_1_dt)\n",
    "print('AUC-ROC:', auc_roc_dt)"
   ]
  },
  {
   "cell_type": "markdown",
   "metadata": {},
   "source": [
    "### CatBoostClassifier"
   ]
  },
  {
   "cell_type": "code",
   "execution_count": 30,
   "metadata": {},
   "outputs": [
    {
     "name": "stdout",
     "output_type": "stream",
     "text": [
      "0:\tlearn: 0.4540447\ttotal: 2.42s\tremaining: 3m 59s\n",
      "20:\tlearn: 0.7512860\ttotal: 38.1s\tremaining: 2m 23s\n",
      "40:\tlearn: 0.7774075\ttotal: 1m 12s\tremaining: 1m 44s\n",
      "60:\tlearn: 0.7942689\ttotal: 1m 48s\tremaining: 1m 9s\n",
      "80:\tlearn: 0.8087175\ttotal: 2m 22s\tremaining: 33.5s\n",
      "99:\tlearn: 0.8230830\ttotal: 2m 56s\tremaining: 0us\n",
      "CPU times: user 3min 20s, sys: 2.38 s, total: 3min 22s\n",
      "Wall time: 3min 23s\n"
     ]
    },
    {
     "data": {
      "text/plain": [
       "<catboost.core.CatBoostClassifier at 0x7f3de62dbc10>"
      ]
     },
     "execution_count": 30,
     "metadata": {},
     "output_type": "execute_result"
    }
   ],
   "source": [
    "%%time\n",
    "\n",
    "catboost = CatBoostClassifier(eval_metric=\"F1\", \n",
    "                                   iterations=100, \n",
    "                                   max_depth=6, \n",
    "                                   learning_rate=0.9, \n",
    "                                   random_state=43)\n",
    "catboost.fit(features_train, target_train, verbose=20)"
   ]
  },
  {
   "cell_type": "code",
   "execution_count": 31,
   "metadata": {},
   "outputs": [
    {
     "name": "stdout",
     "output_type": "stream",
     "text": [
      "F1: 0.7623183564389512\n",
      "AUC-ROC: 0.8374478470363534\n",
      "CPU times: user 344 ms, sys: 11.8 ms, total: 356 ms\n",
      "Wall time: 363 ms\n"
     ]
    }
   ],
   "source": [
    "%%time\n",
    "\n",
    "predict_cat = catboost.predict(features_valid)\n",
    "f_1_cat = f1_score(target_valid, predict_cat)\n",
    "auc_roc_cat = roc_auc_score(target_valid, predict_cat)\n",
    "print('F1:', f_1_cat)\n",
    "print('AUC-ROC:', auc_roc_cat)"
   ]
  },
  {
   "cell_type": "code",
   "execution_count": 32,
   "metadata": {},
   "outputs": [],
   "source": [
    "report = pd.DataFrame(columns = [\"LogisticRegression\",\"DecisionTreeClassifier\",\"CatBoostClassifier\"],\n",
    "                      index = [\"F_1\",\n",
    "                               \"AUC-ROC\",\n",
    "                               \"Результат задания\"])\n",
    "\n",
    "\n",
    "report.iloc[0] = [f_1_lr, f_1_dt, f_1_cat]\n",
    "report.iloc[1] = [auc_roc_lr, auc_roc_dt, auc_roc_cat]\n",
    "report.iloc[2] = [\"False\",\"False\",\"True\"]"
   ]
  },
  {
   "cell_type": "code",
   "execution_count": 33,
   "metadata": {},
   "outputs": [
    {
     "data": {
      "text/html": [
       "<div>\n",
       "<style scoped>\n",
       "    .dataframe tbody tr th:only-of-type {\n",
       "        vertical-align: middle;\n",
       "    }\n",
       "\n",
       "    .dataframe tbody tr th {\n",
       "        vertical-align: top;\n",
       "    }\n",
       "\n",
       "    .dataframe thead th {\n",
       "        text-align: right;\n",
       "    }\n",
       "</style>\n",
       "<table border=\"1\" class=\"dataframe\">\n",
       "  <thead>\n",
       "    <tr style=\"text-align: right;\">\n",
       "      <th></th>\n",
       "      <th>LogisticRegression</th>\n",
       "      <th>DecisionTreeClassifier</th>\n",
       "      <th>CatBoostClassifier</th>\n",
       "    </tr>\n",
       "  </thead>\n",
       "  <tbody>\n",
       "    <tr>\n",
       "      <th>F_1</th>\n",
       "      <td>0.780801</td>\n",
       "      <td>0.622625</td>\n",
       "      <td>0.762318</td>\n",
       "    </tr>\n",
       "    <tr>\n",
       "      <th>AUC-ROC</th>\n",
       "      <td>0.843389</td>\n",
       "      <td>0.754605</td>\n",
       "      <td>0.837448</td>\n",
       "    </tr>\n",
       "    <tr>\n",
       "      <th>Результат задания</th>\n",
       "      <td>False</td>\n",
       "      <td>False</td>\n",
       "      <td>True</td>\n",
       "    </tr>\n",
       "  </tbody>\n",
       "</table>\n",
       "</div>"
      ],
      "text/plain": [
       "                  LogisticRegression DecisionTreeClassifier CatBoostClassifier\n",
       "F_1                         0.780801               0.622625           0.762318\n",
       "AUC-ROC                     0.843389               0.754605           0.837448\n",
       "Результат задания              False                  False               True"
      ]
     },
     "metadata": {},
     "output_type": "display_data"
    }
   ],
   "source": [
    "display(report)"
   ]
  },
  {
   "cell_type": "markdown",
   "metadata": {},
   "source": [
    "***Вывод***"
   ]
  },
  {
   "cell_type": "markdown",
   "metadata": {},
   "source": [
    "Обучили модели LogisticRegression, DecisionTreeClassifier, CatBoostClassifier. Наилучшую метрику F1 (0.7801490514905148) показала модель LogisticRegression, поэтому тестирование будем проводить на этой Модели."
   ]
  },
  {
   "cell_type": "markdown",
   "metadata": {},
   "source": [
    "## Выводы"
   ]
  },
  {
   "cell_type": "markdown",
   "metadata": {},
   "source": [
    "### Тестирование модели LogisticRegression"
   ]
  },
  {
   "cell_type": "code",
   "execution_count": 34,
   "metadata": {},
   "outputs": [
    {
     "name": "stdout",
     "output_type": "stream",
     "text": [
      "F1: 0.767209668943773\n",
      "AUC-ROC: 0.8348419574662445\n"
     ]
    }
   ],
   "source": [
    "predict_lr_test = model_lr.predict(features_test)\n",
    "f_1_lr_test = f1_score(target_test, predict_lr_test)\n",
    "auc_roc_lr_test = roc_auc_score(target_test, predict_lr_test)\n",
    "print('F1:', f_1_lr_test)\n",
    "print('AUC-ROC:', auc_roc_lr_test)"
   ]
  },
  {
   "cell_type": "markdown",
   "metadata": {},
   "source": [
    "### Построим график ROC-кривой"
   ]
  },
  {
   "cell_type": "code",
   "execution_count": 35,
   "metadata": {},
   "outputs": [
    {
     "data": {
      "image/png": "[encoded data removed]",
      "text/plain": [
       "<Figure size 864x648 with 1 Axes>"
      ]
     },
     "metadata": {
      "needs_background": "light"
     },
     "output_type": "display_data"
    }
   ],
   "source": [
    "plt.figure(figsize=[12,9])\n",
    "\n",
    "plt.plot([0, 1], [0, 1], linestyle='--', label='RandomModel')\n",
    "\n",
    "probabilities_test = model_lr.predict_proba(features_test)\n",
    "probabilities_one_test = probabilities_test[:, 1]\n",
    "\n",
    "fpr, tpr, thresholds = roc_curve(target_test, probabilities_one_test)\n",
    "plt.plot(fpr, tpr, label='CatBoostClassifier')\n",
    "plt.xlim([0,1])\n",
    "plt.ylim([0,1])\n",
    "\n",
    "plt.xlabel(\"False Positive Rate\")\n",
    "plt.ylabel(\"True Positive Rate\")\n",
    "\n",
    "plt.legend(loc='lower right', fontsize='x-large')\n",
    "\n",
    "plt.title(\"ROC-кривая\")\n",
    "plt.show()"
   ]
  },
  {
   "cell_type": "markdown",
   "metadata": {},
   "source": [
    "Модель LogisticRegression на тестовой выбоке показала по метрике F1  = 0.7673970201577562 (по заданию она не менее 0.75). AUC-ROC на тестовой выборке равна 0.8347390540935904. Это говорит нам, что токсичные комментарии находятся лучше."
   ]
  }
 ],
 "metadata": {
  "ExecuteTimeLog": [
   {
    "duration": 445,
    "start_time": "2023-03-10T09:09:33.318Z"
   },
   {
    "duration": 1569,
    "start_time": "2023-03-10T09:11:45.277Z"
   },
   {
    "duration": 2,
    "start_time": "2023-03-10T12:58:43.171Z"
   },
   {
    "duration": 2,
    "start_time": "2023-03-10T12:59:03.598Z"
   },
   {
    "duration": 36,
    "start_time": "2023-03-10T12:59:44.028Z"
   },
   {
    "duration": 13,
    "start_time": "2023-03-10T13:00:36.171Z"
   },
   {
    "duration": 5666,
    "start_time": "2023-03-10T13:14:01.494Z"
   },
   {
    "duration": 1909,
    "start_time": "2023-03-10T13:14:07.165Z"
   },
   {
    "duration": 2,
    "start_time": "2023-03-10T13:14:09.076Z"
   },
   {
    "duration": 39,
    "start_time": "2023-03-10T13:14:09.080Z"
   },
   {
    "duration": 8,
    "start_time": "2023-03-10T13:14:15.168Z"
   },
   {
    "duration": 3,
    "start_time": "2023-03-10T13:19:47.912Z"
   },
   {
    "duration": 474,
    "start_time": "2023-03-10T13:28:48.995Z"
   },
   {
    "duration": 2,
    "start_time": "2023-03-10T13:29:20.225Z"
   },
   {
    "duration": 9308,
    "start_time": "2023-03-10T13:29:27.912Z"
   },
   {
    "duration": 34,
    "start_time": "2023-03-10T13:32:47.701Z"
   },
   {
    "duration": 33,
    "start_time": "2023-03-10T13:33:43.432Z"
   },
   {
    "duration": 262,
    "start_time": "2023-03-10T13:34:54.091Z"
   },
   {
    "duration": 234,
    "start_time": "2023-03-10T13:35:21.608Z"
   },
   {
    "duration": 5,
    "start_time": "2023-03-10T13:35:30.153Z"
   },
   {
    "duration": 1936,
    "start_time": "2023-03-10T13:35:30.508Z"
   },
   {
    "duration": 2,
    "start_time": "2023-03-10T13:35:32.456Z"
   },
   {
    "duration": 35,
    "start_time": "2023-03-10T13:35:32.460Z"
   },
   {
    "duration": 7,
    "start_time": "2023-03-10T13:35:32.497Z"
   },
   {
    "duration": 3,
    "start_time": "2023-03-10T13:35:32.568Z"
   },
   {
    "duration": 9560,
    "start_time": "2023-03-10T13:35:33.688Z"
   },
   {
    "duration": 32,
    "start_time": "2023-03-10T13:35:43.250Z"
   },
   {
    "duration": 244,
    "start_time": "2023-03-10T13:35:43.283Z"
   },
   {
    "duration": 7,
    "start_time": "2023-03-10T13:41:26.411Z"
   },
   {
    "duration": 3,
    "start_time": "2023-03-10T13:52:37.321Z"
   },
   {
    "duration": 299,
    "start_time": "2023-03-10T13:52:39.448Z"
   },
   {
    "duration": 3,
    "start_time": "2023-03-10T13:55:00.388Z"
   },
   {
    "duration": 1226,
    "start_time": "2023-03-10T13:55:03.995Z"
   },
   {
    "duration": 12,
    "start_time": "2023-03-10T13:55:09.632Z"
   },
   {
    "duration": 23,
    "start_time": "2023-03-10T13:55:13.113Z"
   },
   {
    "duration": 6,
    "start_time": "2023-03-10T13:55:15.436Z"
   },
   {
    "duration": 599,
    "start_time": "2023-03-10T13:56:11.277Z"
   },
   {
    "duration": 20,
    "start_time": "2023-03-10T14:05:04.732Z"
   },
   {
    "duration": 7,
    "start_time": "2023-03-10T14:05:13.017Z"
   },
   {
    "duration": 7,
    "start_time": "2023-03-10T14:05:36.124Z"
   },
   {
    "duration": 12636,
    "start_time": "2023-03-10T14:09:20.829Z"
   },
   {
    "duration": 1868,
    "start_time": "2023-03-10T14:10:28.747Z"
   },
   {
    "duration": 2123,
    "start_time": "2023-03-12T11:35:00.065Z"
   },
   {
    "duration": 1228,
    "start_time": "2023-03-12T11:35:02.190Z"
   },
   {
    "duration": 9,
    "start_time": "2023-03-12T11:35:03.426Z"
   },
   {
    "duration": 32,
    "start_time": "2023-03-12T11:35:03.441Z"
   },
   {
    "duration": 17,
    "start_time": "2023-03-12T11:35:03.474Z"
   },
   {
    "duration": 4,
    "start_time": "2023-03-12T11:35:03.493Z"
   },
   {
    "duration": 2197,
    "start_time": "2023-03-12T11:35:03.499Z"
   },
   {
    "duration": 40,
    "start_time": "2023-03-12T11:35:05.698Z"
   },
   {
    "duration": 211,
    "start_time": "2023-03-12T11:35:05.741Z"
   },
   {
    "duration": 10,
    "start_time": "2023-03-12T11:35:05.955Z"
   },
   {
    "duration": 574,
    "start_time": "2023-03-12T11:35:05.967Z"
   },
   {
    "duration": 4,
    "start_time": "2023-03-12T11:39:06.839Z"
   },
   {
    "duration": 4318,
    "start_time": "2023-03-12T11:39:14.624Z"
   },
   {
    "duration": 4,
    "start_time": "2023-03-12T11:43:41.832Z"
   },
   {
    "duration": 1987,
    "start_time": "2023-03-12T11:43:52.750Z"
   },
   {
    "duration": 2053,
    "start_time": "2023-03-12T11:45:40.311Z"
   },
   {
    "duration": 2565,
    "start_time": "2023-03-12T11:47:16.192Z"
   },
   {
    "duration": 89,
    "start_time": "2023-03-12T11:47:58.849Z"
   },
   {
    "duration": 1936,
    "start_time": "2023-03-12T11:48:05.953Z"
   },
   {
    "duration": 712,
    "start_time": "2023-03-12T13:00:59.554Z"
   },
   {
    "duration": 2770,
    "start_time": "2023-03-12T13:01:09.893Z"
   },
   {
    "duration": 6,
    "start_time": "2023-03-12T13:02:17.549Z"
   },
   {
    "duration": 2878,
    "start_time": "2023-03-12T13:02:24.884Z"
   },
   {
    "duration": 2296,
    "start_time": "2023-03-12T13:04:13.254Z"
   },
   {
    "duration": 35,
    "start_time": "2023-03-12T13:05:12.822Z"
   },
   {
    "duration": 5,
    "start_time": "2023-03-12T13:05:22.783Z"
   },
   {
    "duration": 2318,
    "start_time": "2023-03-12T13:08:57.414Z"
   },
   {
    "duration": 4,
    "start_time": "2023-03-12T13:13:54.787Z"
   },
   {
    "duration": 35,
    "start_time": "2023-03-12T13:18:00.274Z"
   },
   {
    "duration": 4,
    "start_time": "2023-03-12T13:24:55.176Z"
   },
   {
    "duration": 25,
    "start_time": "2023-03-12T13:27:22.261Z"
   },
   {
    "duration": 8,
    "start_time": "2023-03-12T13:28:00.248Z"
   },
   {
    "duration": 10,
    "start_time": "2023-03-12T13:28:21.726Z"
   },
   {
    "duration": 4,
    "start_time": "2023-03-12T13:28:48.713Z"
   },
   {
    "duration": 38,
    "start_time": "2023-03-12T13:32:15.011Z"
   },
   {
    "duration": 7,
    "start_time": "2023-03-12T13:39:09.994Z"
   },
   {
    "duration": 24,
    "start_time": "2023-03-12T13:39:52.493Z"
   },
   {
    "duration": 36,
    "start_time": "2023-03-12T13:40:15.749Z"
   },
   {
    "duration": 4,
    "start_time": "2023-03-12T13:42:17.000Z"
   },
   {
    "duration": 81,
    "start_time": "2023-03-12T13:46:01.702Z"
   },
   {
    "duration": 3727,
    "start_time": "2023-03-12T13:47:07.908Z"
   },
   {
    "duration": 20712,
    "start_time": "2023-03-12T13:47:11.637Z"
   },
   {
    "duration": 1583,
    "start_time": "2023-03-12T13:47:32.351Z"
   },
   {
    "duration": 3,
    "start_time": "2023-03-12T13:47:33.937Z"
   },
   {
    "duration": 36,
    "start_time": "2023-03-12T13:47:33.942Z"
   },
   {
    "duration": 21,
    "start_time": "2023-03-12T13:47:33.980Z"
   },
   {
    "duration": 20,
    "start_time": "2023-03-12T13:47:34.003Z"
   },
   {
    "duration": 2235,
    "start_time": "2023-03-12T13:47:34.025Z"
   },
   {
    "duration": 29,
    "start_time": "2023-03-12T13:47:36.262Z"
   },
   {
    "duration": 220,
    "start_time": "2023-03-12T13:47:36.294Z"
   },
   {
    "duration": 11,
    "start_time": "2023-03-12T13:47:36.516Z"
   },
   {
    "duration": 715,
    "start_time": "2023-03-12T13:47:36.528Z"
   },
   {
    "duration": 5,
    "start_time": "2023-03-12T13:47:37.245Z"
   },
   {
    "duration": 28,
    "start_time": "2023-03-12T13:47:37.252Z"
   },
   {
    "duration": 8,
    "start_time": "2023-03-12T13:47:37.282Z"
   },
   {
    "duration": 78,
    "start_time": "2023-03-12T13:49:14.594Z"
   },
   {
    "duration": 3277,
    "start_time": "2023-03-12T13:49:32.496Z"
   },
   {
    "duration": 18417,
    "start_time": "2023-03-12T13:49:35.776Z"
   },
   {
    "duration": 1826,
    "start_time": "2023-03-12T13:49:54.195Z"
   },
   {
    "duration": 4,
    "start_time": "2023-03-12T13:49:56.024Z"
   },
   {
    "duration": 44,
    "start_time": "2023-03-12T13:49:56.029Z"
   },
   {
    "duration": 20,
    "start_time": "2023-03-12T13:49:56.075Z"
   },
   {
    "duration": 23,
    "start_time": "2023-03-12T13:49:56.098Z"
   },
   {
    "duration": 2081,
    "start_time": "2023-03-12T13:49:56.123Z"
   },
   {
    "duration": 34,
    "start_time": "2023-03-12T13:49:58.206Z"
   },
   {
    "duration": 227,
    "start_time": "2023-03-12T13:49:58.243Z"
   },
   {
    "duration": 26,
    "start_time": "2023-03-12T13:49:58.473Z"
   },
   {
    "duration": 588,
    "start_time": "2023-03-12T13:49:58.501Z"
   },
   {
    "duration": 5,
    "start_time": "2023-03-12T13:49:59.091Z"
   },
   {
    "duration": 35,
    "start_time": "2023-03-12T13:49:59.097Z"
   },
   {
    "duration": 7,
    "start_time": "2023-03-12T13:49:59.133Z"
   },
   {
    "duration": 3892,
    "start_time": "2023-03-12T13:52:04.337Z"
   },
   {
    "duration": 21107,
    "start_time": "2023-03-12T13:52:08.232Z"
   },
   {
    "duration": 1396,
    "start_time": "2023-03-12T13:52:29.341Z"
   },
   {
    "duration": 3,
    "start_time": "2023-03-12T13:52:30.739Z"
   },
   {
    "duration": 94,
    "start_time": "2023-03-12T13:52:30.743Z"
   },
   {
    "duration": 45,
    "start_time": "2023-03-12T13:52:30.839Z"
   },
   {
    "duration": 15,
    "start_time": "2023-03-12T13:52:30.885Z"
   },
   {
    "duration": 2195,
    "start_time": "2023-03-12T13:52:30.902Z"
   },
   {
    "duration": 35,
    "start_time": "2023-03-12T13:52:33.099Z"
   },
   {
    "duration": 273,
    "start_time": "2023-03-12T13:52:33.138Z"
   },
   {
    "duration": 15,
    "start_time": "2023-03-12T13:52:33.413Z"
   },
   {
    "duration": 773,
    "start_time": "2023-03-12T13:52:33.430Z"
   },
   {
    "duration": 5,
    "start_time": "2023-03-12T13:52:34.206Z"
   },
   {
    "duration": 52,
    "start_time": "2023-03-12T13:52:34.213Z"
   },
   {
    "duration": 9,
    "start_time": "2023-03-12T13:52:34.267Z"
   },
   {
    "duration": 55,
    "start_time": "2023-03-12T13:53:34.196Z"
   },
   {
    "duration": 8,
    "start_time": "2023-03-12T13:54:29.335Z"
   },
   {
    "duration": 18590,
    "start_time": "2023-03-12T13:57:17.245Z"
   },
   {
    "duration": 1337,
    "start_time": "2023-03-12T13:57:35.837Z"
   },
   {
    "duration": 3,
    "start_time": "2023-03-12T13:57:37.176Z"
   },
   {
    "duration": 50,
    "start_time": "2023-03-12T13:57:37.182Z"
   },
   {
    "duration": 18,
    "start_time": "2023-03-12T13:57:37.233Z"
   },
   {
    "duration": 7,
    "start_time": "2023-03-12T13:57:37.253Z"
   },
   {
    "duration": 2100,
    "start_time": "2023-03-12T13:57:37.262Z"
   },
   {
    "duration": 27,
    "start_time": "2023-03-12T13:57:39.364Z"
   },
   {
    "duration": 240,
    "start_time": "2023-03-12T13:57:39.393Z"
   },
   {
    "duration": 10,
    "start_time": "2023-03-12T13:57:39.636Z"
   },
   {
    "duration": 353,
    "start_time": "2023-03-12T13:57:39.649Z"
   },
   {
    "duration": 5,
    "start_time": "2023-03-12T13:57:40.004Z"
   },
   {
    "duration": 320,
    "start_time": "2023-03-12T14:03:25.680Z"
   },
   {
    "duration": 48,
    "start_time": "2023-03-12T14:03:49.717Z"
   },
   {
    "duration": 22,
    "start_time": "2023-03-12T14:04:18.553Z"
   },
   {
    "duration": 6,
    "start_time": "2023-03-12T14:04:29.517Z"
   },
   {
    "duration": 6,
    "start_time": "2023-03-12T14:05:13.615Z"
   },
   {
    "duration": 62,
    "start_time": "2023-03-12T14:06:47.705Z"
   },
   {
    "duration": 6,
    "start_time": "2023-03-12T14:08:20.351Z"
   },
   {
    "duration": 47,
    "start_time": "2023-03-12T14:08:29.810Z"
   },
   {
    "duration": 179,
    "start_time": "2023-03-12T14:09:08.079Z"
   },
   {
    "duration": 5,
    "start_time": "2023-03-12T14:09:59.256Z"
   },
   {
    "duration": 164,
    "start_time": "2023-03-12T14:10:09.501Z"
   },
   {
    "duration": 436,
    "start_time": "2023-03-12T14:11:42.664Z"
   },
   {
    "duration": 7,
    "start_time": "2023-03-12T14:12:29.673Z"
   },
   {
    "duration": 26,
    "start_time": "2023-03-12T14:12:37.241Z"
   },
   {
    "duration": 4,
    "start_time": "2023-03-12T14:13:12.977Z"
   },
   {
    "duration": 1311,
    "start_time": "2023-03-12T14:13:19.409Z"
   },
   {
    "duration": 1317,
    "start_time": "2023-03-12T14:14:38.186Z"
   },
   {
    "duration": 1283,
    "start_time": "2023-03-12T14:15:12.786Z"
   },
   {
    "duration": 1386,
    "start_time": "2023-03-12T14:15:55.796Z"
   },
   {
    "duration": 25,
    "start_time": "2023-03-12T14:18:20.462Z"
   },
   {
    "duration": 22,
    "start_time": "2023-03-12T14:19:40.270Z"
   },
   {
    "duration": 1400,
    "start_time": "2023-03-12T14:19:43.150Z"
   },
   {
    "duration": 3,
    "start_time": "2023-03-12T14:19:44.552Z"
   },
   {
    "duration": 51,
    "start_time": "2023-03-12T14:19:44.558Z"
   },
   {
    "duration": 22,
    "start_time": "2023-03-12T14:19:44.611Z"
   },
   {
    "duration": 7,
    "start_time": "2023-03-12T14:19:44.637Z"
   },
   {
    "duration": 36,
    "start_time": "2023-03-12T14:19:44.806Z"
   },
   {
    "duration": 45157,
    "start_time": "2023-03-12T14:20:07.543Z"
   },
   {
    "duration": 0,
    "start_time": "2023-03-12T14:20:52.702Z"
   },
   {
    "duration": 0,
    "start_time": "2023-03-12T14:20:52.703Z"
   },
   {
    "duration": 4,
    "start_time": "2023-03-12T14:22:11.584Z"
   },
   {
    "duration": 1909,
    "start_time": "2023-03-12T14:22:12.641Z"
   },
   {
    "duration": 4,
    "start_time": "2023-03-12T14:22:14.552Z"
   },
   {
    "duration": 33,
    "start_time": "2023-03-12T14:22:14.577Z"
   },
   {
    "duration": 9,
    "start_time": "2023-03-12T14:22:16.384Z"
   },
   {
    "duration": 4,
    "start_time": "2023-03-12T14:22:18.786Z"
   },
   {
    "duration": 352,
    "start_time": "2023-03-12T14:22:25.437Z"
   },
   {
    "duration": 42,
    "start_time": "2023-03-12T14:22:26.405Z"
   },
   {
    "duration": 7,
    "start_time": "2023-03-12T14:22:51.540Z"
   },
   {
    "duration": 397,
    "start_time": "2023-03-12T14:22:53.623Z"
   },
   {
    "duration": 5,
    "start_time": "2023-03-12T14:25:49.574Z"
   },
   {
    "duration": 369,
    "start_time": "2023-03-12T14:25:52.139Z"
   },
   {
    "duration": 5,
    "start_time": "2023-03-12T14:28:22.039Z"
   },
   {
    "duration": 96104,
    "start_time": "2023-03-12T14:28:24.007Z"
   },
   {
    "duration": 50,
    "start_time": "2023-03-12T14:30:00.114Z"
   },
   {
    "duration": 504,
    "start_time": "2023-03-12T14:30:00.165Z"
   },
   {
    "duration": 7,
    "start_time": "2023-03-12T14:30:00.672Z"
   },
   {
    "duration": 179,
    "start_time": "2023-03-12T14:30:00.681Z"
   },
   {
    "duration": 5,
    "start_time": "2023-03-12T14:30:00.863Z"
   },
   {
    "duration": 141,
    "start_time": "2023-03-12T14:30:00.870Z"
   },
   {
    "duration": 11,
    "start_time": "2023-03-12T14:30:01.013Z"
   },
   {
    "duration": 59,
    "start_time": "2023-03-12T14:30:01.038Z"
   },
   {
    "duration": 141,
    "start_time": "2023-03-12T14:30:01.100Z"
   },
   {
    "duration": 15070,
    "start_time": "2023-03-12T14:30:26.698Z"
   },
   {
    "duration": 123,
    "start_time": "2023-03-12T15:02:55.952Z"
   },
   {
    "duration": 6,
    "start_time": "2023-03-12T15:03:30.554Z"
   },
   {
    "duration": 111,
    "start_time": "2023-03-12T15:04:19.411Z"
   },
   {
    "duration": 6,
    "start_time": "2023-03-12T15:09:03.768Z"
   },
   {
    "duration": 113,
    "start_time": "2023-03-12T15:09:16.077Z"
   },
   {
    "duration": 91,
    "start_time": "2023-03-12T15:13:43.008Z"
   },
   {
    "duration": 6,
    "start_time": "2023-03-12T15:14:55.441Z"
   },
   {
    "duration": 109,
    "start_time": "2023-03-12T15:15:02.483Z"
   },
   {
    "duration": 148,
    "start_time": "2023-03-12T15:19:50.119Z"
   },
   {
    "duration": 94,
    "start_time": "2023-03-12T15:20:29.389Z"
   },
   {
    "duration": 278126,
    "start_time": "2023-03-12T15:20:59.263Z"
   },
   {
    "duration": 24,
    "start_time": "2023-03-12T15:29:54.038Z"
   },
   {
    "duration": 40462,
    "start_time": "2023-03-12T15:30:08.379Z"
   },
   {
    "duration": 42503,
    "start_time": "2023-03-12T15:33:06.440Z"
   },
   {
    "duration": 98,
    "start_time": "2023-03-12T15:36:56.289Z"
   },
   {
    "duration": 62,
    "start_time": "2023-03-12T15:38:03.645Z"
   },
   {
    "duration": 124,
    "start_time": "2023-03-12T15:38:11.494Z"
   },
   {
    "duration": 123469,
    "start_time": "2023-03-12T15:39:16.102Z"
   },
   {
    "duration": 45216,
    "start_time": "2023-03-12T15:41:47.143Z"
   },
   {
    "duration": 43042,
    "start_time": "2023-03-12T15:47:10.779Z"
   },
   {
    "duration": 120527,
    "start_time": "2023-03-12T15:47:53.832Z"
   },
   {
    "duration": 118746,
    "start_time": "2023-03-12T15:50:04.419Z"
   },
   {
    "duration": 114,
    "start_time": "2023-03-12T15:52:12.543Z"
   },
   {
    "duration": 61,
    "start_time": "2023-03-12T15:52:51.840Z"
   },
   {
    "duration": 159,
    "start_time": "2023-03-12T15:58:16.012Z"
   },
   {
    "duration": 16872,
    "start_time": "2023-03-12T15:58:28.975Z"
   },
   {
    "duration": 351,
    "start_time": "2023-03-12T15:58:45.850Z"
   },
   {
    "duration": 6,
    "start_time": "2023-03-12T15:59:15.852Z"
   },
   {
    "duration": 5,
    "start_time": "2023-03-12T15:59:25.975Z"
   },
   {
    "duration": 1460,
    "start_time": "2023-03-12T15:59:26.258Z"
   },
   {
    "duration": 2,
    "start_time": "2023-03-12T15:59:27.721Z"
   },
   {
    "duration": 212,
    "start_time": "2023-03-12T15:59:27.725Z"
   },
   {
    "duration": 12,
    "start_time": "2023-03-12T15:59:27.940Z"
   },
   {
    "duration": 4,
    "start_time": "2023-03-12T15:59:27.954Z"
   },
   {
    "duration": 85893,
    "start_time": "2023-03-12T15:59:27.960Z"
   },
   {
    "duration": 50,
    "start_time": "2023-03-12T16:00:53.856Z"
   },
   {
    "duration": 441,
    "start_time": "2023-03-12T16:00:53.907Z"
   },
   {
    "duration": 8,
    "start_time": "2023-03-12T16:00:54.350Z"
   },
   {
    "duration": 143,
    "start_time": "2023-03-12T16:00:54.359Z"
   },
   {
    "duration": 5,
    "start_time": "2023-03-12T16:00:54.503Z"
   },
   {
    "duration": 87,
    "start_time": "2023-03-12T16:00:54.522Z"
   },
   {
    "duration": 12,
    "start_time": "2023-03-12T16:00:54.611Z"
   },
   {
    "duration": 62,
    "start_time": "2023-03-12T16:00:54.625Z"
   },
   {
    "duration": 106,
    "start_time": "2023-03-12T16:00:54.689Z"
   },
   {
    "duration": 11596,
    "start_time": "2023-03-12T16:00:54.797Z"
   },
   {
    "duration": 36039,
    "start_time": "2023-03-12T16:01:06.395Z"
   },
   {
    "duration": 101651,
    "start_time": "2023-03-12T16:01:42.436Z"
   },
   {
    "duration": 641,
    "start_time": "2023-03-12T16:03:24.180Z"
   },
   {
    "duration": 1215901,
    "start_time": "2023-03-12T16:03:42.256Z"
   },
   {
    "duration": 88,
    "start_time": "2023-03-12T16:23:58.284Z"
   },
   {
    "duration": 27,
    "start_time": "2023-03-12T16:23:58.375Z"
   },
   {
    "duration": 4925,
    "start_time": "2023-03-13T05:42:42.975Z"
   },
   {
    "duration": 1615,
    "start_time": "2023-03-13T05:42:47.902Z"
   },
   {
    "duration": 4,
    "start_time": "2023-03-13T05:42:49.519Z"
   },
   {
    "duration": 56,
    "start_time": "2023-03-13T05:42:49.525Z"
   },
   {
    "duration": 198,
    "start_time": "2023-03-13T05:42:49.583Z"
   },
   {
    "duration": 4,
    "start_time": "2023-03-13T05:42:49.783Z"
   },
   {
    "duration": 101466,
    "start_time": "2023-03-13T05:42:49.789Z"
   },
   {
    "duration": 58,
    "start_time": "2023-03-13T05:44:31.257Z"
   },
   {
    "duration": 461,
    "start_time": "2023-03-13T05:44:31.317Z"
   },
   {
    "duration": 10,
    "start_time": "2023-03-13T05:44:31.781Z"
   },
   {
    "duration": 142,
    "start_time": "2023-03-13T05:44:31.792Z"
   },
   {
    "duration": 4,
    "start_time": "2023-03-13T05:44:31.935Z"
   },
   {
    "duration": 109,
    "start_time": "2023-03-13T05:44:31.941Z"
   },
   {
    "duration": 5,
    "start_time": "2023-03-13T05:44:32.052Z"
   },
   {
    "duration": 46,
    "start_time": "2023-03-13T05:44:32.072Z"
   },
   {
    "duration": 125,
    "start_time": "2023-03-13T05:44:32.121Z"
   },
   {
    "duration": 13319,
    "start_time": "2023-03-13T05:44:32.248Z"
   },
   {
    "duration": 42617,
    "start_time": "2023-03-13T05:44:45.569Z"
   },
   {
    "duration": 123717,
    "start_time": "2023-03-13T05:45:28.188Z"
   },
   {
    "duration": 3825180,
    "start_time": "2023-03-13T05:47:31.907Z"
   },
   {
    "duration": 83,
    "start_time": "2023-03-13T06:51:17.089Z"
   },
   {
    "duration": 30,
    "start_time": "2023-03-13T06:51:17.176Z"
   },
   {
    "duration": 11032363,
    "start_time": "2023-03-13T06:52:39.758Z"
   },
   {
    "duration": 115,
    "start_time": "2023-03-13T09:56:32.123Z"
   },
   {
    "duration": 22,
    "start_time": "2023-03-13T09:56:32.240Z"
   },
   {
    "duration": 2869457,
    "start_time": "2023-03-13T09:58:19.238Z"
   },
   {
    "duration": 103,
    "start_time": "2023-03-13T10:50:06.087Z"
   },
   {
    "duration": 241915,
    "start_time": "2023-03-13T10:50:44.180Z"
   },
   {
    "duration": 242640,
    "start_time": "2023-03-13T10:56:57.301Z"
   },
   {
    "duration": 396,
    "start_time": "2023-03-13T11:08:10.702Z"
   },
   {
    "duration": 6,
    "start_time": "2023-03-13T11:08:16.966Z"
   },
   {
    "duration": 9,
    "start_time": "2023-03-13T11:09:37.001Z"
   },
   {
    "duration": 9,
    "start_time": "2023-03-13T11:10:50.769Z"
   },
   {
    "duration": 10,
    "start_time": "2023-03-13T11:10:51.799Z"
   },
   {
    "duration": 399,
    "start_time": "2023-03-13T11:12:45.681Z"
   },
   {
    "duration": 4,
    "start_time": "2023-03-13T11:13:00.451Z"
   },
   {
    "duration": 218,
    "start_time": "2023-03-13T11:18:17.734Z"
   },
   {
    "duration": 192,
    "start_time": "2023-03-13T11:19:30.198Z"
   },
   {
    "duration": 225,
    "start_time": "2023-03-13T11:20:14.231Z"
   },
   {
    "duration": 647,
    "start_time": "2023-03-13T12:15:08.183Z"
   },
   {
    "duration": 7,
    "start_time": "2023-03-13T12:24:19.901Z"
   },
   {
    "duration": 75,
    "start_time": "2023-03-13T12:29:32.724Z"
   },
   {
    "duration": 71,
    "start_time": "2023-03-13T12:30:21.203Z"
   },
   {
    "duration": 23049,
    "start_time": "2023-03-13T12:31:09.052Z"
   },
   {
    "duration": 49996,
    "start_time": "2023-03-13T12:38:52.398Z"
   },
   {
    "duration": 23,
    "start_time": "2023-03-13T12:48:40.745Z"
   },
   {
    "duration": 6,
    "start_time": "2023-03-13T12:48:58.751Z"
   },
   {
    "duration": 9,
    "start_time": "2023-03-13T12:48:59.697Z"
   },
   {
    "duration": 216,
    "start_time": "2023-03-13T12:52:06.427Z"
   },
   {
    "duration": 4838,
    "start_time": "2023-03-13T12:54:06.592Z"
   },
   {
    "duration": 1996,
    "start_time": "2023-03-13T12:54:11.432Z"
   },
   {
    "duration": 3,
    "start_time": "2023-03-13T12:54:13.430Z"
   },
   {
    "duration": 56,
    "start_time": "2023-03-13T12:54:13.435Z"
   },
   {
    "duration": 193,
    "start_time": "2023-03-13T12:54:13.493Z"
   },
   {
    "duration": 10,
    "start_time": "2023-03-13T12:54:13.688Z"
   },
   {
    "duration": 105457,
    "start_time": "2023-03-13T12:54:13.700Z"
   },
   {
    "duration": 62,
    "start_time": "2023-03-13T12:55:59.159Z"
   },
   {
    "duration": 487,
    "start_time": "2023-03-13T12:55:59.223Z"
   },
   {
    "duration": 9,
    "start_time": "2023-03-13T12:55:59.713Z"
   },
   {
    "duration": 152,
    "start_time": "2023-03-13T12:55:59.724Z"
   },
   {
    "duration": 6,
    "start_time": "2023-03-13T12:55:59.879Z"
   },
   {
    "duration": 122,
    "start_time": "2023-03-13T12:55:59.887Z"
   },
   {
    "duration": 5,
    "start_time": "2023-03-13T12:56:00.011Z"
   },
   {
    "duration": 69,
    "start_time": "2023-03-13T12:56:00.018Z"
   },
   {
    "duration": 132,
    "start_time": "2023-03-13T12:56:00.089Z"
   },
   {
    "duration": 13888,
    "start_time": "2023-03-13T12:56:00.223Z"
   },
   {
    "duration": 53784,
    "start_time": "2023-03-13T12:56:14.113Z"
   },
   {
    "duration": 133583,
    "start_time": "2023-03-13T12:57:07.973Z"
   },
   {
    "duration": 235800,
    "start_time": "2023-03-13T12:59:21.558Z"
   },
   {
    "duration": 389,
    "start_time": "2023-03-13T13:03:17.360Z"
   },
   {
    "duration": 11,
    "start_time": "2023-03-13T13:03:17.751Z"
   },
   {
    "duration": 42,
    "start_time": "2023-03-13T13:03:17.775Z"
   },
   {
    "duration": 41,
    "start_time": "2023-03-13T13:03:17.819Z"
   },
   {
    "duration": 229,
    "start_time": "2023-03-13T13:03:17.862Z"
   },
   {
    "duration": 38426,
    "start_time": "2023-03-14T05:59:42.757Z"
   },
   {
    "duration": 2035,
    "start_time": "2023-03-14T06:00:21.248Z"
   },
   {
    "duration": 5023,
    "start_time": "2023-03-14T07:08:37.531Z"
   },
   {
    "duration": 6,
    "start_time": "2023-03-14T07:09:34.952Z"
   },
   {
    "duration": 2034,
    "start_time": "2023-03-14T07:09:49.722Z"
   },
   {
    "duration": 2,
    "start_time": "2023-03-14T07:11:07.338Z"
   },
   {
    "duration": 35,
    "start_time": "2023-03-14T07:11:07.699Z"
   },
   {
    "duration": 172,
    "start_time": "2023-03-14T07:11:08.947Z"
   },
   {
    "duration": 5,
    "start_time": "2023-03-14T07:11:56.576Z"
   },
   {
    "duration": 4,
    "start_time": "2023-03-14T07:18:52.424Z"
   },
   {
    "duration": 8,
    "start_time": "2023-03-14T07:19:24.763Z"
   },
   {
    "duration": 4,
    "start_time": "2023-03-14T07:20:16.169Z"
   },
   {
    "duration": 7,
    "start_time": "2023-03-14T07:20:16.934Z"
   },
   {
    "duration": 6,
    "start_time": "2023-03-14T07:21:52.996Z"
   },
   {
    "duration": 3,
    "start_time": "2023-03-14T07:24:30.959Z"
   },
   {
    "duration": 298,
    "start_time": "2023-03-14T07:25:58.624Z"
   },
   {
    "duration": 12040,
    "start_time": "2023-03-14T07:27:58.332Z"
   },
   {
    "duration": 30,
    "start_time": "2023-03-14T07:28:22.074Z"
   },
   {
    "duration": 424,
    "start_time": "2023-03-14T07:29:18.374Z"
   },
   {
    "duration": 94,
    "start_time": "2023-03-14T07:29:28.569Z"
   },
   {
    "duration": 4,
    "start_time": "2023-03-14T07:32:11.517Z"
   },
   {
    "duration": 9,
    "start_time": "2023-03-14T07:32:14.342Z"
   },
   {
    "duration": 4,
    "start_time": "2023-03-14T07:33:06.051Z"
   },
   {
    "duration": 8,
    "start_time": "2023-03-14T07:33:07.539Z"
   },
   {
    "duration": 3,
    "start_time": "2023-03-14T07:35:08.145Z"
   },
   {
    "duration": 8,
    "start_time": "2023-03-14T07:35:09.730Z"
   },
   {
    "duration": 739,
    "start_time": "2023-03-14T07:47:43.960Z"
   },
   {
    "duration": 3,
    "start_time": "2023-03-14T07:49:27.198Z"
   },
   {
    "duration": 9,
    "start_time": "2023-03-14T07:49:28.553Z"
   },
   {
    "duration": 3,
    "start_time": "2023-03-14T07:53:55.298Z"
   },
   {
    "duration": 15,
    "start_time": "2023-03-14T07:54:21.865Z"
   },
   {
    "duration": 28,
    "start_time": "2023-03-14T07:54:45.048Z"
   },
   {
    "duration": 3,
    "start_time": "2023-03-14T07:59:26.105Z"
   },
   {
    "duration": 8,
    "start_time": "2023-03-14T07:59:31.449Z"
   },
   {
    "duration": 3,
    "start_time": "2023-03-14T08:00:00.148Z"
   },
   {
    "duration": 10,
    "start_time": "2023-03-14T08:00:04.041Z"
   },
   {
    "duration": 3,
    "start_time": "2023-03-14T08:00:32.532Z"
   },
   {
    "duration": 9,
    "start_time": "2023-03-14T08:00:36.795Z"
   },
   {
    "duration": 3,
    "start_time": "2023-03-14T08:01:05.695Z"
   },
   {
    "duration": 8,
    "start_time": "2023-03-14T08:01:09.506Z"
   },
   {
    "duration": 3,
    "start_time": "2023-03-14T08:01:47.543Z"
   },
   {
    "duration": 8,
    "start_time": "2023-03-14T08:01:48.489Z"
   },
   {
    "duration": 5,
    "start_time": "2023-03-14T08:02:14.371Z"
   },
   {
    "duration": 9,
    "start_time": "2023-03-14T08:02:16.001Z"
   },
   {
    "duration": 93,
    "start_time": "2023-03-14T08:03:36.504Z"
   },
   {
    "duration": 70,
    "start_time": "2023-03-14T08:04:43.322Z"
   },
   {
    "duration": 685,
    "start_time": "2023-03-14T08:04:57.053Z"
   },
   {
    "duration": 4,
    "start_time": "2023-03-14T08:05:05.415Z"
   },
   {
    "duration": 8,
    "start_time": "2023-03-14T08:05:07.050Z"
   },
   {
    "duration": 4,
    "start_time": "2023-03-14T08:25:44.232Z"
   },
   {
    "duration": 4,
    "start_time": "2023-03-14T08:27:11.357Z"
   },
   {
    "duration": 21,
    "start_time": "2023-03-14T08:27:27.047Z"
   },
   {
    "duration": 45543,
    "start_time": "2023-03-14T08:27:38.793Z"
   },
   {
    "duration": 0,
    "start_time": "2023-03-14T08:28:24.338Z"
   },
   {
    "duration": 489,
    "start_time": "2023-03-14T08:29:12.158Z"
   },
   {
    "duration": 171058,
    "start_time": "2023-03-14T08:29:14.103Z"
   },
   {
    "duration": 0,
    "start_time": "2023-03-14T08:32:05.164Z"
   },
   {
    "duration": 6,
    "start_time": "2023-03-14T08:32:33.436Z"
   },
   {
    "duration": 11077,
    "start_time": "2023-03-14T08:32:34.396Z"
   },
   {
    "duration": 500,
    "start_time": "2023-03-14T08:32:56.189Z"
   },
   {
    "duration": 81005,
    "start_time": "2023-03-14T08:32:58.165Z"
   },
   {
    "duration": 2,
    "start_time": "2023-03-14T08:35:44.692Z"
   },
   {
    "duration": 33,
    "start_time": "2023-03-14T08:35:46.292Z"
   },
   {
    "duration": 9,
    "start_time": "2023-03-14T08:35:48.166Z"
   },
   {
    "duration": 4,
    "start_time": "2023-03-14T08:36:42.025Z"
   },
   {
    "duration": 7,
    "start_time": "2023-03-14T08:36:44.396Z"
   },
   {
    "duration": 20,
    "start_time": "2023-03-14T08:38:29.591Z"
   },
   {
    "duration": 6,
    "start_time": "2023-03-14T08:40:03.000Z"
   },
   {
    "duration": 21,
    "start_time": "2023-03-14T08:40:20.003Z"
   },
   {
    "duration": 21,
    "start_time": "2023-03-14T08:41:24.419Z"
   },
   {
    "duration": 20,
    "start_time": "2023-03-14T08:41:31.866Z"
   },
   {
    "duration": 804908,
    "start_time": "2023-03-14T08:41:57.908Z"
   },
   {
    "duration": 0,
    "start_time": "2023-03-14T08:55:22.817Z"
   },
   {
    "duration": 0,
    "start_time": "2023-03-14T08:55:22.819Z"
   },
   {
    "duration": 4,
    "start_time": "2023-03-14T08:58:18.648Z"
   },
   {
    "duration": 399,
    "start_time": "2023-03-14T08:58:22.544Z"
   },
   {
    "duration": 5,
    "start_time": "2023-03-14T08:58:47.021Z"
   },
   {
    "duration": 1813,
    "start_time": "2023-03-14T08:58:51.657Z"
   },
   {
    "duration": 3,
    "start_time": "2023-03-14T08:58:54.791Z"
   },
   {
    "duration": 35,
    "start_time": "2023-03-14T08:58:55.115Z"
   },
   {
    "duration": 8,
    "start_time": "2023-03-14T08:58:55.690Z"
   },
   {
    "duration": 3,
    "start_time": "2023-03-14T08:59:03.089Z"
   },
   {
    "duration": 4,
    "start_time": "2023-03-14T08:59:10.325Z"
   },
   {
    "duration": 386,
    "start_time": "2023-03-14T08:59:12.446Z"
   },
   {
    "duration": 9,
    "start_time": "2023-03-14T08:59:13.121Z"
   },
   {
    "duration": 3,
    "start_time": "2023-03-14T09:06:54.478Z"
   },
   {
    "duration": 1739,
    "start_time": "2023-03-14T09:06:58.081Z"
   },
   {
    "duration": 518,
    "start_time": "2023-03-14T09:19:19.488Z"
   },
   {
    "duration": 7,
    "start_time": "2023-03-14T09:20:16.713Z"
   },
   {
    "duration": 1450,
    "start_time": "2023-03-14T09:20:17.518Z"
   },
   {
    "duration": 2,
    "start_time": "2023-03-14T09:20:18.970Z"
   },
   {
    "duration": 60,
    "start_time": "2023-03-14T09:20:18.974Z"
   },
   {
    "duration": 9,
    "start_time": "2023-03-14T09:20:19.238Z"
   },
   {
    "duration": 3,
    "start_time": "2023-03-14T09:20:21.552Z"
   },
   {
    "duration": 445,
    "start_time": "2023-03-14T09:20:22.735Z"
   },
   {
    "duration": 5,
    "start_time": "2023-03-14T09:20:24.133Z"
   },
   {
    "duration": 2566034,
    "start_time": "2023-03-14T09:20:26.900Z"
   },
   {
    "duration": 9,
    "start_time": "2023-03-14T10:11:31.053Z"
   },
   {
    "duration": 52,
    "start_time": "2023-03-14T10:11:49.004Z"
   },
   {
    "duration": 395,
    "start_time": "2023-03-14T10:11:51.350Z"
   },
   {
    "duration": 7,
    "start_time": "2023-03-14T10:11:57.844Z"
   },
   {
    "duration": 120,
    "start_time": "2023-03-14T10:12:00.730Z"
   },
   {
    "duration": 141,
    "start_time": "2023-03-14T10:22:26.956Z"
   },
   {
    "duration": 29,
    "start_time": "2023-03-14T10:31:29.032Z"
   },
   {
    "duration": 148,
    "start_time": "2023-03-14T10:31:47.255Z"
   },
   {
    "duration": 94,
    "start_time": "2023-03-14T10:32:51.823Z"
   },
   {
    "duration": 4,
    "start_time": "2023-03-14T10:33:59.197Z"
   },
   {
    "duration": 88,
    "start_time": "2023-03-14T10:34:05.653Z"
   },
   {
    "duration": 4,
    "start_time": "2023-03-14T10:34:42.859Z"
   },
   {
    "duration": 54,
    "start_time": "2023-03-14T10:34:45.297Z"
   },
   {
    "duration": 99,
    "start_time": "2023-03-14T10:34:51.754Z"
   },
   {
    "duration": 141,
    "start_time": "2023-03-14T10:35:27.052Z"
   },
   {
    "duration": 249,
    "start_time": "2023-03-14T10:38:16.927Z"
   },
   {
    "duration": 28,
    "start_time": "2023-03-14T10:39:20.059Z"
   },
   {
    "duration": 5,
    "start_time": "2023-03-14T10:48:02.764Z"
   },
   {
    "duration": 28,
    "start_time": "2023-03-14T11:05:49.916Z"
   },
   {
    "duration": 39,
    "start_time": "2023-03-14T11:07:39.442Z"
   },
   {
    "duration": 7,
    "start_time": "2023-03-14T11:07:55.861Z"
   },
   {
    "duration": 1795,
    "start_time": "2023-03-14T11:07:56.521Z"
   },
   {
    "duration": 3,
    "start_time": "2023-03-14T11:07:58.319Z"
   },
   {
    "duration": 50,
    "start_time": "2023-03-14T11:07:58.323Z"
   },
   {
    "duration": 9,
    "start_time": "2023-03-14T11:07:58.375Z"
   },
   {
    "duration": 2,
    "start_time": "2023-03-14T11:08:00.320Z"
   },
   {
    "duration": 552,
    "start_time": "2023-03-14T11:08:01.378Z"
   },
   {
    "duration": 3,
    "start_time": "2023-03-14T11:08:02.116Z"
   },
   {
    "duration": 2610624,
    "start_time": "2023-03-14T11:08:02.973Z"
   },
   {
    "duration": 9,
    "start_time": "2023-03-14T11:51:33.599Z"
   },
   {
    "duration": 8,
    "start_time": "2023-03-14T11:51:33.611Z"
   },
   {
    "duration": 70,
    "start_time": "2023-03-14T11:51:33.622Z"
   },
   {
    "duration": 509,
    "start_time": "2023-03-14T11:51:33.694Z"
   },
   {
    "duration": 8,
    "start_time": "2023-03-14T11:51:34.205Z"
   },
   {
    "duration": 148,
    "start_time": "2023-03-14T11:51:34.215Z"
   },
   {
    "duration": 4,
    "start_time": "2023-03-14T11:51:34.365Z"
   },
   {
    "duration": 116,
    "start_time": "2023-03-14T11:51:34.371Z"
   },
   {
    "duration": 6,
    "start_time": "2023-03-14T11:51:34.490Z"
   },
   {
    "duration": 64,
    "start_time": "2023-03-14T11:51:34.498Z"
   },
   {
    "duration": 125,
    "start_time": "2023-03-14T11:51:34.564Z"
   },
   {
    "duration": 255,
    "start_time": "2023-03-14T12:24:19.998Z"
   },
   {
    "duration": 26,
    "start_time": "2023-03-14T12:25:01.483Z"
   },
   {
    "duration": 25,
    "start_time": "2023-03-14T12:26:19.927Z"
   },
   {
    "duration": 26,
    "start_time": "2023-03-14T12:26:30.693Z"
   },
   {
    "duration": 31,
    "start_time": "2023-03-14T12:26:53.624Z"
   },
   {
    "duration": 84,
    "start_time": "2023-03-14T12:28:02.664Z"
   },
   {
    "duration": 5,
    "start_time": "2023-03-14T12:28:06.049Z"
   },
   {
    "duration": 44,
    "start_time": "2023-03-14T12:28:12.019Z"
   },
   {
    "duration": 115,
    "start_time": "2023-03-14T12:28:14.551Z"
   },
   {
    "duration": 7405,
    "start_time": "2023-03-14T12:28:46.134Z"
   },
   {
    "duration": 37679,
    "start_time": "2023-03-14T12:29:54.222Z"
   },
   {
    "duration": 613,
    "start_time": "2023-03-14T12:33:30.727Z"
   },
   {
    "duration": 558,
    "start_time": "2023-03-14T12:45:51.124Z"
   },
   {
    "duration": 6,
    "start_time": "2023-03-14T12:52:23.220Z"
   },
   {
    "duration": 6,
    "start_time": "2023-03-14T12:52:50.397Z"
   },
   {
    "duration": 621,
    "start_time": "2023-03-14T12:52:59.826Z"
   },
   {
    "duration": 125,
    "start_time": "2023-03-14T12:59:27.998Z"
   },
   {
    "duration": 553,
    "start_time": "2023-03-14T12:59:48.896Z"
   },
   {
    "duration": 604,
    "start_time": "2023-03-14T13:03:33.948Z"
   },
   {
    "duration": 40,
    "start_time": "2023-03-14T13:06:31.677Z"
   },
   {
    "duration": 94,
    "start_time": "2023-03-14T13:06:54.797Z"
   },
   {
    "duration": 41,
    "start_time": "2023-03-14T13:07:08.172Z"
   },
   {
    "duration": 202,
    "start_time": "2023-03-14T13:08:18.555Z"
   },
   {
    "duration": 39,
    "start_time": "2023-03-14T13:10:03.267Z"
   },
   {
    "duration": 541,
    "start_time": "2023-03-14T13:12:12.679Z"
   },
   {
    "duration": 583,
    "start_time": "2023-03-14T13:14:41.755Z"
   },
   {
    "duration": 117,
    "start_time": "2023-03-14T13:20:55.200Z"
   },
   {
    "duration": 141,
    "start_time": "2023-03-14T13:21:04.725Z"
   },
   {
    "duration": 199,
    "start_time": "2023-03-14T13:21:24.953Z"
   },
   {
    "duration": 40743,
    "start_time": "2023-03-14T13:25:10.074Z"
   },
   {
    "duration": 48,
    "start_time": "2023-03-14T13:35:08.952Z"
   },
   {
    "duration": 677,
    "start_time": "2023-03-14T13:35:39.327Z"
   },
   {
    "duration": 13,
    "start_time": "2023-03-14T13:36:15.950Z"
   },
   {
    "duration": 1857,
    "start_time": "2023-03-14T13:36:16.832Z"
   },
   {
    "duration": 3,
    "start_time": "2023-03-14T13:36:18.691Z"
   },
   {
    "duration": 47,
    "start_time": "2023-03-14T13:36:18.695Z"
   },
   {
    "duration": 7,
    "start_time": "2023-03-14T13:36:18.744Z"
   },
   {
    "duration": 5,
    "start_time": "2023-03-14T13:36:18.763Z"
   },
   {
    "duration": 525,
    "start_time": "2023-03-14T13:36:18.770Z"
   },
   {
    "duration": 4,
    "start_time": "2023-03-14T13:36:19.297Z"
   },
   {
    "duration": 2663296,
    "start_time": "2023-03-14T13:36:19.302Z"
   },
   {
    "duration": 9,
    "start_time": "2023-03-14T14:20:42.600Z"
   },
   {
    "duration": 3,
    "start_time": "2023-03-14T14:20:42.612Z"
   },
   {
    "duration": 73,
    "start_time": "2023-03-14T14:20:42.617Z"
   },
   {
    "duration": 434,
    "start_time": "2023-03-14T14:20:42.693Z"
   },
   {
    "duration": 7,
    "start_time": "2023-03-14T14:20:43.130Z"
   },
   {
    "duration": 130,
    "start_time": "2023-03-14T14:20:43.139Z"
   },
   {
    "duration": 5,
    "start_time": "2023-03-14T14:20:43.271Z"
   },
   {
    "duration": 118,
    "start_time": "2023-03-14T14:20:43.277Z"
   },
   {
    "duration": 5,
    "start_time": "2023-03-14T14:20:43.398Z"
   },
   {
    "duration": 64,
    "start_time": "2023-03-14T14:20:43.406Z"
   },
   {
    "duration": 114,
    "start_time": "2023-03-14T14:20:43.472Z"
   },
   {
    "duration": 9,
    "start_time": "2023-03-14T14:20:45.775Z"
   },
   {
    "duration": 2,
    "start_time": "2023-03-14T14:20:53.823Z"
   },
   {
    "duration": 53,
    "start_time": "2023-03-14T14:20:54.732Z"
   },
   {
    "duration": 425,
    "start_time": "2023-03-14T14:20:56.101Z"
   },
   {
    "duration": 6,
    "start_time": "2023-03-14T14:20:56.529Z"
   },
   {
    "duration": 140,
    "start_time": "2023-03-14T14:20:56.537Z"
   },
   {
    "duration": 5,
    "start_time": "2023-03-14T14:21:07.329Z"
   },
   {
    "duration": 91,
    "start_time": "2023-03-14T14:21:12.994Z"
   },
   {
    "duration": 5,
    "start_time": "2023-03-14T14:21:15.408Z"
   },
   {
    "duration": 56,
    "start_time": "2023-03-14T14:21:21.409Z"
   },
   {
    "duration": 116,
    "start_time": "2023-03-14T14:21:23.402Z"
   },
   {
    "duration": 8083,
    "start_time": "2023-03-14T14:21:33.705Z"
   },
   {
    "duration": 39045,
    "start_time": "2023-03-14T14:22:09.420Z"
   },
   {
    "duration": 44,
    "start_time": "2023-03-14T14:28:16.131Z"
   },
   {
    "duration": 87,
    "start_time": "2023-03-14T14:28:27.329Z"
   },
   {
    "duration": 12,
    "start_time": "2023-03-14T14:28:29.654Z"
   },
   {
    "duration": 65,
    "start_time": "2023-03-14T14:28:31.811Z"
   },
   {
    "duration": 148,
    "start_time": "2023-03-14T14:28:34.627Z"
   },
   {
    "duration": 37,
    "start_time": "2023-03-14T14:28:38.932Z"
   },
   {
    "duration": 115,
    "start_time": "2023-03-14T14:29:56.606Z"
   },
   {
    "duration": 82,
    "start_time": "2023-03-14T14:33:34.547Z"
   },
   {
    "duration": 5,
    "start_time": "2023-03-14T14:33:35.674Z"
   },
   {
    "duration": 48,
    "start_time": "2023-03-14T14:33:36.081Z"
   },
   {
    "duration": 127,
    "start_time": "2023-03-14T14:33:37.943Z"
   },
   {
    "duration": 7698,
    "start_time": "2023-03-14T14:33:41.953Z"
   },
   {
    "duration": 88,
    "start_time": "2023-03-14T14:49:44.830Z"
   },
   {
    "duration": 5,
    "start_time": "2023-03-14T14:49:45.218Z"
   },
   {
    "duration": 47,
    "start_time": "2023-03-14T14:49:45.520Z"
   },
   {
    "duration": 116,
    "start_time": "2023-03-14T14:49:45.843Z"
   },
   {
    "duration": 14,
    "start_time": "2023-03-14T14:49:46.542Z"
   },
   {
    "duration": 11283,
    "start_time": "2023-03-14T14:50:10.509Z"
   },
   {
    "duration": 44863,
    "start_time": "2023-03-14T14:50:37.416Z"
   },
   {
    "duration": 53122,
    "start_time": "2023-03-14T14:51:58.927Z"
   },
   {
    "duration": 22,
    "start_time": "2023-03-14T15:05:16.009Z"
   },
   {
    "duration": 44,
    "start_time": "2023-03-14T15:08:57.767Z"
   },
   {
    "duration": 25,
    "start_time": "2023-03-14T15:09:10.836Z"
   },
   {
    "duration": 196925,
    "start_time": "2023-03-14T15:09:35.407Z"
   },
   {
    "duration": 358,
    "start_time": "2023-03-14T15:12:52.335Z"
   },
   {
    "duration": 10,
    "start_time": "2023-03-14T15:12:52.695Z"
   },
   {
    "duration": 31,
    "start_time": "2023-03-14T15:12:52.707Z"
   },
   {
    "duration": 34,
    "start_time": "2023-03-14T15:14:45.331Z"
   },
   {
    "duration": 9291,
    "start_time": "2023-03-14T15:16:40.881Z"
   },
   {
    "duration": 4175,
    "start_time": "2023-03-14T15:17:01.732Z"
   },
   {
    "duration": 9394,
    "start_time": "2023-03-14T15:17:13.761Z"
   },
   {
    "duration": 9697,
    "start_time": "2023-03-14T15:17:37.581Z"
   },
   {
    "duration": 10329,
    "start_time": "2023-03-14T15:17:55.562Z"
   },
   {
    "duration": 9671,
    "start_time": "2023-03-14T15:18:24.785Z"
   },
   {
    "duration": 9683,
    "start_time": "2023-03-14T15:18:56.811Z"
   },
   {
    "duration": 9791,
    "start_time": "2023-03-14T15:19:25.930Z"
   },
   {
    "duration": 37651,
    "start_time": "2023-03-14T15:21:08.602Z"
   },
   {
    "duration": 3,
    "start_time": "2023-03-14T15:24:58.568Z"
   },
   {
    "duration": 36523,
    "start_time": "2023-03-14T15:25:55.231Z"
   },
   {
    "duration": 3,
    "start_time": "2023-03-14T15:31:56.799Z"
   },
   {
    "duration": 50678,
    "start_time": "2023-03-14T15:31:56.900Z"
   },
   {
    "duration": 26,
    "start_time": "2023-03-14T15:32:47.580Z"
   },
   {
    "duration": 196824,
    "start_time": "2023-03-14T15:32:47.609Z"
   },
   {
    "duration": 355,
    "start_time": "2023-03-14T15:36:04.435Z"
   },
   {
    "duration": 6,
    "start_time": "2023-03-14T15:36:04.792Z"
   },
   {
    "duration": 14,
    "start_time": "2023-03-14T15:36:04.800Z"
   },
   {
    "duration": 40,
    "start_time": "2023-03-14T15:36:04.816Z"
   },
   {
    "duration": 189,
    "start_time": "2023-03-14T15:36:04.858Z"
   },
   {
    "duration": 6491,
    "start_time": "2023-03-14T17:35:36.744Z"
   },
   {
    "duration": 350,
    "start_time": "2023-03-14T17:35:43.237Z"
   },
   {
    "duration": 778,
    "start_time": "2023-03-14T17:36:13.618Z"
   },
   {
    "duration": 3,
    "start_time": "2023-03-14T17:42:01.484Z"
   },
   {
    "duration": 5341,
    "start_time": "2023-03-15T08:38:24.429Z"
   },
   {
    "duration": 1419,
    "start_time": "2023-03-15T08:38:29.772Z"
   },
   {
    "duration": 4,
    "start_time": "2023-03-15T08:38:31.194Z"
   },
   {
    "duration": 43,
    "start_time": "2023-03-15T08:38:32.811Z"
   },
   {
    "duration": 12,
    "start_time": "2023-03-15T08:38:34.616Z"
   },
   {
    "duration": 4,
    "start_time": "2023-03-15T08:38:37.411Z"
   },
   {
    "duration": 578,
    "start_time": "2023-03-15T08:38:38.336Z"
   },
   {
    "duration": 606,
    "start_time": "2023-03-15T08:40:00.608Z"
   },
   {
    "duration": 4,
    "start_time": "2023-03-15T08:40:12.630Z"
   },
   {
    "duration": 86043,
    "start_time": "2023-03-15T08:40:14.406Z"
   },
   {
    "duration": 502,
    "start_time": "2023-03-15T08:41:47.462Z"
   },
   {
    "duration": 4,
    "start_time": "2023-03-15T08:42:51.865Z"
   },
   {
    "duration": 1177536,
    "start_time": "2023-03-15T08:42:53.924Z"
   },
   {
    "duration": 11,
    "start_time": "2023-03-15T09:03:26.617Z"
   },
   {
    "duration": 3,
    "start_time": "2023-03-15T09:03:37.313Z"
   },
   {
    "duration": 59,
    "start_time": "2023-03-15T09:03:42.707Z"
   },
   {
    "duration": 461,
    "start_time": "2023-03-15T09:03:44.925Z"
   },
   {
    "duration": 8,
    "start_time": "2023-03-15T09:03:47.029Z"
   },
   {
    "duration": 134,
    "start_time": "2023-03-15T09:03:54.219Z"
   },
   {
    "duration": 8,
    "start_time": "2023-03-15T09:04:02.400Z"
   },
   {
    "duration": 108,
    "start_time": "2023-03-15T09:04:09.203Z"
   },
   {
    "duration": 4,
    "start_time": "2023-03-15T09:04:11.737Z"
   },
   {
    "duration": 41,
    "start_time": "2023-03-15T09:04:17.947Z"
   },
   {
    "duration": 124,
    "start_time": "2023-03-15T09:04:20.250Z"
   },
   {
    "duration": 7892,
    "start_time": "2023-03-15T09:06:11.046Z"
   },
   {
    "duration": 41956,
    "start_time": "2023-03-15T09:07:25.849Z"
   },
   {
    "duration": 2,
    "start_time": "2023-03-15T09:08:07.807Z"
   },
   {
    "duration": 50126,
    "start_time": "2023-03-15T09:08:31.039Z"
   },
   {
    "duration": 43,
    "start_time": "2023-03-15T09:09:21.168Z"
   },
   {
    "duration": 203725,
    "start_time": "2023-03-15T09:09:21.212Z"
   },
   {
    "duration": 366,
    "start_time": "2023-03-15T09:12:44.940Z"
   },
   {
    "duration": 11,
    "start_time": "2023-03-15T09:12:45.308Z"
   },
   {
    "duration": 12,
    "start_time": "2023-03-15T09:12:45.321Z"
   },
   {
    "duration": 20,
    "start_time": "2023-03-15T09:13:03.410Z"
   },
   {
    "duration": 204,
    "start_time": "2023-03-15T09:13:11.103Z"
   }
  ],
  "kernelspec": {
   "display_name": "Python 3 (ipykernel)",
   "language": "python",
   "name": "python3"
  },
  "language_info": {
   "codemirror_mode": {
    "name": "ipython",
    "version": 3
   },
   "file_extension": ".py",
   "mimetype": "text/x-python",
   "name": "python",
   "nbconvert_exporter": "python",
   "pygments_lexer": "ipython3",
   "version": "3.9.5"
  },
  "toc": {
   "base_numbering": 1,
   "nav_menu": {
    "height": "227px",
    "width": "270px"
   },
   "number_sections": true,
   "sideBar": true,
   "skip_h1_title": true,
   "title_cell": "Содержание",
   "title_sidebar": "Contents",
   "toc_cell": true,
   "toc_position": {
    "height": "calc(100% - 180px)",
    "left": "10px",
    "top": "150px",
    "width": "302.391px"
   },
   "toc_section_display": true,
   "toc_window_display": true
  }
 },
 "nbformat": 4,
 "nbformat_minor": 2
}

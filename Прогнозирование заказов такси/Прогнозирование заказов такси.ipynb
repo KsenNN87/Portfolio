{
 "cells": [
  {
   "cell_type": "markdown",
   "metadata": {},
   "source": [
    "#  Прогнозирование заказов такси"
   ]
  },
  {
   "cell_type": "markdown",
   "metadata": {},
   "source": [
    "Компания «Чётенькое такси» собрала исторические данные о заказах такси в аэропортах. Чтобы привлекать больше водителей в период пиковой нагрузки, нужно спрогнозировать количество заказов такси на следующий час. Постройте модель для такого предсказания.\n",
    "\n",
    "Значение метрики *RMSE* на тестовой выборке должно быть не больше 48.\n",
    "\n",
    "Вам нужно:\n",
    "\n",
    "1. Загрузить данные и выполнить их ресемплирование по одному часу.\n",
    "2. Проанализировать данные.\n",
    "3. Обучить разные модели с различными гиперпараметрами. Сделать тестовую выборку размером 10% от исходных данных.\n",
    "4. Проверить данные на тестовой выборке и сделать выводы.\n",
    "\n",
    "\n",
    "Данные лежат в файле `taxi.csv`. Количество заказов находится в столбце `num_orders` (от англ. *number of orders*, «число заказов»)."
   ]
  },
  {
   "cell_type": "markdown",
   "metadata": {},
   "source": [
    "## Подготовка"
   ]
  },
  {
   "cell_type": "markdown",
   "metadata": {},
   "source": [
    "### Импортируем библиотеки и модули"
   ]
  },
  {
   "cell_type": "code",
   "execution_count": 1,
   "metadata": {},
   "outputs": [],
   "source": [
    "import matplotlib.pyplot as plt\n",
    "import numpy as np\n",
    "import pandas as pd\n",
    "import random\n",
    "import seaborn as sns\n",
    "import time\n",
    "import warnings\n",
    "\n",
    "from catboost import CatBoostRegressor, Pool\n",
    "from sklearn.ensemble import RandomForestRegressor\n",
    "from sklearn.linear_model import LinearRegression\n",
    "from sklearn.linear_model import Ridge\n",
    "from sklearn.model_selection import cross_val_score\n",
    "from sklearn.model_selection import GridSearchCV\n",
    "from sklearn.model_selection import KFold\n",
    "from sklearn.model_selection import train_test_split\n",
    "from sklearn.metrics import make_scorer, mean_squared_error\n",
    "from sklearn.tree import DecisionTreeRegressor\n",
    "from statsmodels.tsa.seasonal import seasonal_decompose\n",
    "from sklearn.model_selection import TimeSeriesSplit"
   ]
  },
  {
   "cell_type": "markdown",
   "metadata": {},
   "source": [
    "### Загрузим данные из файла"
   ]
  },
  {
   "cell_type": "code",
   "execution_count": 2,
   "metadata": {},
   "outputs": [],
   "source": [
    "df = pd.read_csv('/datasets/taxi.csv', index_col=[0], parse_dates=[0])"
   ]
  },
  {
   "cell_type": "markdown",
   "metadata": {},
   "source": [
    "### Уберем некритические предупреждения"
   ]
  },
  {
   "cell_type": "code",
   "execution_count": 3,
   "metadata": {},
   "outputs": [],
   "source": [
    "warnings.filterwarnings('ignore')"
   ]
  },
  {
   "cell_type": "markdown",
   "metadata": {},
   "source": [
    "### Убедимся, что данные расположены в хронологическом порядке"
   ]
  },
  {
   "cell_type": "code",
   "execution_count": 4,
   "metadata": {},
   "outputs": [
    {
     "data": {
      "text/html": [
       "<div>\n",
       "<style scoped>\n",
       "    .dataframe tbody tr th:only-of-type {\n",
       "        vertical-align: middle;\n",
       "    }\n",
       "\n",
       "    .dataframe tbody tr th {\n",
       "        vertical-align: top;\n",
       "    }\n",
       "\n",
       "    .dataframe thead th {\n",
       "        text-align: right;\n",
       "    }\n",
       "</style>\n",
       "<table border=\"1\" class=\"dataframe\">\n",
       "  <thead>\n",
       "    <tr style=\"text-align: right;\">\n",
       "      <th></th>\n",
       "      <th>num_orders</th>\n",
       "    </tr>\n",
       "    <tr>\n",
       "      <th>datetime</th>\n",
       "      <th></th>\n",
       "    </tr>\n",
       "  </thead>\n",
       "  <tbody>\n",
       "    <tr>\n",
       "      <th>2018-03-01 00:00:00</th>\n",
       "      <td>9</td>\n",
       "    </tr>\n",
       "    <tr>\n",
       "      <th>2018-03-01 00:10:00</th>\n",
       "      <td>14</td>\n",
       "    </tr>\n",
       "    <tr>\n",
       "      <th>2018-03-01 00:20:00</th>\n",
       "      <td>28</td>\n",
       "    </tr>\n",
       "    <tr>\n",
       "      <th>2018-03-01 00:30:00</th>\n",
       "      <td>20</td>\n",
       "    </tr>\n",
       "    <tr>\n",
       "      <th>2018-03-01 00:40:00</th>\n",
       "      <td>32</td>\n",
       "    </tr>\n",
       "    <tr>\n",
       "      <th>2018-03-01 00:50:00</th>\n",
       "      <td>21</td>\n",
       "    </tr>\n",
       "    <tr>\n",
       "      <th>2018-03-01 01:00:00</th>\n",
       "      <td>7</td>\n",
       "    </tr>\n",
       "    <tr>\n",
       "      <th>2018-03-01 01:10:00</th>\n",
       "      <td>5</td>\n",
       "    </tr>\n",
       "    <tr>\n",
       "      <th>2018-03-01 01:20:00</th>\n",
       "      <td>17</td>\n",
       "    </tr>\n",
       "    <tr>\n",
       "      <th>2018-03-01 01:30:00</th>\n",
       "      <td>12</td>\n",
       "    </tr>\n",
       "  </tbody>\n",
       "</table>\n",
       "</div>"
      ],
      "text/plain": [
       "                     num_orders\n",
       "datetime                       \n",
       "2018-03-01 00:00:00           9\n",
       "2018-03-01 00:10:00          14\n",
       "2018-03-01 00:20:00          28\n",
       "2018-03-01 00:30:00          20\n",
       "2018-03-01 00:40:00          32\n",
       "2018-03-01 00:50:00          21\n",
       "2018-03-01 01:00:00           7\n",
       "2018-03-01 01:10:00           5\n",
       "2018-03-01 01:20:00          17\n",
       "2018-03-01 01:30:00          12"
      ]
     },
     "execution_count": 4,
     "metadata": {},
     "output_type": "execute_result"
    }
   ],
   "source": [
    "df.index.is_monotonic\n",
    "df.head(10)"
   ]
  },
  {
   "cell_type": "markdown",
   "metadata": {},
   "source": [
    "### Рассемпелируем данные по 1 часу"
   ]
  },
  {
   "cell_type": "code",
   "execution_count": 5,
   "metadata": {},
   "outputs": [
    {
     "data": {
      "text/html": [
       "<div>\n",
       "<style scoped>\n",
       "    .dataframe tbody tr th:only-of-type {\n",
       "        vertical-align: middle;\n",
       "    }\n",
       "\n",
       "    .dataframe tbody tr th {\n",
       "        vertical-align: top;\n",
       "    }\n",
       "\n",
       "    .dataframe thead th {\n",
       "        text-align: right;\n",
       "    }\n",
       "</style>\n",
       "<table border=\"1\" class=\"dataframe\">\n",
       "  <thead>\n",
       "    <tr style=\"text-align: right;\">\n",
       "      <th></th>\n",
       "      <th>num_orders</th>\n",
       "    </tr>\n",
       "    <tr>\n",
       "      <th>datetime</th>\n",
       "      <th></th>\n",
       "    </tr>\n",
       "  </thead>\n",
       "  <tbody>\n",
       "    <tr>\n",
       "      <th>2018-03-01 00:00:00</th>\n",
       "      <td>124</td>\n",
       "    </tr>\n",
       "    <tr>\n",
       "      <th>2018-03-01 01:00:00</th>\n",
       "      <td>85</td>\n",
       "    </tr>\n",
       "    <tr>\n",
       "      <th>2018-03-01 02:00:00</th>\n",
       "      <td>71</td>\n",
       "    </tr>\n",
       "    <tr>\n",
       "      <th>2018-03-01 03:00:00</th>\n",
       "      <td>66</td>\n",
       "    </tr>\n",
       "    <tr>\n",
       "      <th>2018-03-01 04:00:00</th>\n",
       "      <td>43</td>\n",
       "    </tr>\n",
       "  </tbody>\n",
       "</table>\n",
       "</div>"
      ],
      "text/plain": [
       "                     num_orders\n",
       "datetime                       \n",
       "2018-03-01 00:00:00         124\n",
       "2018-03-01 01:00:00          85\n",
       "2018-03-01 02:00:00          71\n",
       "2018-03-01 03:00:00          66\n",
       "2018-03-01 04:00:00          43"
      ]
     },
     "execution_count": 5,
     "metadata": {},
     "output_type": "execute_result"
    }
   ],
   "source": [
    "df = df.resample('1H').sum()\n",
    "df.head()"
   ]
  },
  {
   "cell_type": "code",
   "execution_count": 6,
   "metadata": {},
   "outputs": [
    {
     "data": {
      "text/plain": [
       "<AxesSubplot:xlabel='datetime'>"
      ]
     },
     "execution_count": 6,
     "metadata": {},
     "output_type": "execute_result"
    },
    {
     "data": {
      "image/png": "[encoded data removed]",
      "text/plain": [
       "<Figure size 432x288 with 1 Axes>"
      ]
     },
     "metadata": {
      "needs_background": "light"
     },
     "output_type": "display_data"
    }
   ],
   "source": [
    "df.plot()"
   ]
  },
  {
   "cell_type": "markdown",
   "metadata": {},
   "source": [
    "### Посмотрим на общую информацию о датасете"
   ]
  },
  {
   "cell_type": "code",
   "execution_count": 7,
   "metadata": {},
   "outputs": [
    {
     "name": "stdout",
     "output_type": "stream",
     "text": [
      "<class 'pandas.core.frame.DataFrame'>\n",
      "DatetimeIndex: 4416 entries, 2018-03-01 00:00:00 to 2018-08-31 23:00:00\n",
      "Freq: H\n",
      "Data columns (total 1 columns):\n",
      " #   Column      Non-Null Count  Dtype\n",
      "---  ------      --------------  -----\n",
      " 0   num_orders  4416 non-null   int64\n",
      "dtypes: int64(1)\n",
      "memory usage: 69.0 KB\n"
     ]
    }
   ],
   "source": [
    "df.info()"
   ]
  },
  {
   "cell_type": "markdown",
   "metadata": {},
   "source": [
    "***Вывод***"
   ]
  },
  {
   "cell_type": "markdown",
   "metadata": {},
   "source": [
    "В датасете 2 столбца \"datetime\" (дата и время заказа такси) и \"num_orders\" (количество заказов) - целевой признак. Число строк 4416. Пропуски в данных отсутствуют. Количество заказов имеет большие колебания."
   ]
  },
  {
   "cell_type": "markdown",
   "metadata": {},
   "source": [
    "## Анализ"
   ]
  },
  {
   "cell_type": "markdown",
   "metadata": {},
   "source": [
    "### Посмотрим на графики \"Тренда\", \"Сезонности\" и \"Ошибки\""
   ]
  },
  {
   "cell_type": "code",
   "execution_count": 8,
   "metadata": {},
   "outputs": [
    {
     "data": {
      "image/png": "[encoded data removed]",
      "text/plain": [
       "<Figure size 720x1152 with 3 Axes>"
      ]
     },
     "metadata": {
      "needs_background": "light"
     },
     "output_type": "display_data"
    }
   ],
   "source": [
    "decompose = seasonal_decompose(df['num_orders'])\n",
    "\n",
    "plt.figure(figsize=(10, 16))\n",
    "plt.subplot(311)\n",
    "\n",
    "decompose.trend.plot(ax=plt.gca())\n",
    "plt.title('Тренд')\n",
    "plt.subplot(312)\n",
    "\n",
    "decompose.seasonal['2018-06-13':'2018-06-14'].plot(ax=plt.gca())\n",
    "plt.title('Сезонность')\n",
    "plt.subplot(313)\n",
    "\n",
    "decompose.resid.plot(ax=plt.gca())\n",
    "plt.title('Ошибка')\n",
    "\n",
    "plt.tight_layout()"
   ]
  },
  {
   "cell_type": "markdown",
   "metadata": {},
   "source": [
    "Данные имеют большие колебания"
   ]
  },
  {
   "cell_type": "markdown",
   "metadata": {},
   "source": [
    "### Построим график "
   ]
  },
  {
   "cell_type": "code",
   "execution_count": 9,
   "metadata": {},
   "outputs": [
    {
     "data": {
      "text/plain": [
       "<AxesSubplot:xlabel='datetime'>"
      ]
     },
     "execution_count": 9,
     "metadata": {},
     "output_type": "execute_result"
    },
    {
     "data": {
      "image/png": "[encoded data removed]",
      "text/plain": [
       "<Figure size 432x288 with 1 Axes>"
      ]
     },
     "metadata": {
      "needs_background": "light"
     },
     "output_type": "display_data"
    }
   ],
   "source": [
    "df['rolling_mean'] = df.rolling(10).mean()\n",
    "df.plot()"
   ]
  },
  {
   "cell_type": "markdown",
   "metadata": {},
   "source": [
    "***Вывод***"
   ]
  },
  {
   "cell_type": "markdown",
   "metadata": {},
   "source": [
    "Из графиков видно, что присутствуют большие колебания. Тренд указывает на увеличение заказов. Сезоность показывает высокий спрос на такси в ночное время, из-за отсутствия общественного транспорта. Стохастический процесс нестационарный."
   ]
  },
  {
   "cell_type": "markdown",
   "metadata": {},
   "source": [
    "## Обучение"
   ]
  },
  {
   "cell_type": "markdown",
   "metadata": {},
   "source": [
    "### Пропишим функцию для создания признаков"
   ]
  },
  {
   "cell_type": "code",
   "execution_count": 10,
   "metadata": {},
   "outputs": [],
   "source": [
    "def make_features(data, max_lag, rolling_mean_size):\n",
    "    data['dayofweek'] = data.index.dayofweek\n",
    "    data['hour'] = data.index.hour\n",
    "    \n",
    "    for lag in range(1, max_lag + 1):\n",
    "        data['lag_{}'.format(lag)] = data['num_orders'].shift(lag)\n",
    "\n",
    "    data['rolling_mean'] = data['num_orders'].shift().rolling(rolling_mean_size).mean()\n",
    "    data = data.dropna()"
   ]
  },
  {
   "cell_type": "markdown",
   "metadata": {},
   "source": [
    "### Применим функцию с лагом до 24 часов и 100-м скользящим средним"
   ]
  },
  {
   "cell_type": "code",
   "execution_count": 11,
   "metadata": {},
   "outputs": [],
   "source": [
    "make_features(df, 24, 100)"
   ]
  },
  {
   "cell_type": "markdown",
   "metadata": {},
   "source": [
    "### Удалим пропски и посмотрим на размер данных"
   ]
  },
  {
   "cell_type": "code",
   "execution_count": 12,
   "metadata": {
    "scrolled": true
   },
   "outputs": [
    {
     "data": {
      "text/plain": [
       "(4316, 28)"
      ]
     },
     "execution_count": 12,
     "metadata": {},
     "output_type": "execute_result"
    }
   ],
   "source": [
    "df = df.dropna()\n",
    "df.shape"
   ]
  },
  {
   "cell_type": "markdown",
   "metadata": {},
   "source": [
    "### Построим график \"Зависимость числа заказов от дней недели\""
   ]
  },
  {
   "cell_type": "code",
   "execution_count": 13,
   "metadata": {},
   "outputs": [
    {
     "data": {
      "image/png": "[encoded data removed]",
      "text/plain": [
       "<Figure size 1440x360 with 1 Axes>"
      ]
     },
     "metadata": {
      "needs_background": "light"
     },
     "output_type": "display_data"
    }
   ],
   "source": [
    "day_pivot = df.pivot_table(index=['dayofweek'],\n",
    "                              values='num_orders',\n",
    "                              aggfunc='mean')\n",
    "plt.figure(figsize=(20,5))\n",
    "sns.barplot(x='dayofweek', y='num_orders',\n",
    "            data=day_pivot.reset_index())\n",
    "plt.title('Зависимость числа заказов от дней недели')\n",
    "plt.ylim(60, 100)\n",
    "plt.show()"
   ]
  },
  {
   "cell_type": "markdown",
   "metadata": {},
   "source": [
    "### Построим график \"Зависимость числа заказов от часа\""
   ]
  },
  {
   "cell_type": "code",
   "execution_count": 14,
   "metadata": {},
   "outputs": [
    {
     "data": {
      "image/png": "[encoded data removed]",
      "text/plain": [
       "<Figure size 1440x360 with 1 Axes>"
      ]
     },
     "metadata": {
      "needs_background": "light"
     },
     "output_type": "display_data"
    }
   ],
   "source": [
    "hour_pivot = df.pivot_table(index=['hour'],\n",
    "                              values='num_orders',\n",
    "                              aggfunc='mean')\n",
    "plt.figure(figsize=(20,5))\n",
    "sns.barplot(x='hour', y='num_orders',\n",
    "            data=hour_pivot.reset_index())\n",
    "plt.title('Зависимость числа заказов от часа')\n",
    "plt.show()"
   ]
  },
  {
   "cell_type": "markdown",
   "metadata": {},
   "source": [
    "### Разделим данные на обучающу и тестовую выборки"
   ]
  },
  {
   "cell_type": "code",
   "execution_count": 15,
   "metadata": {},
   "outputs": [],
   "source": [
    "train,test = train_test_split(df,shuffle = False, random_state = 42, test_size = 0.2)\n",
    "valid,test = train_test_split(test,shuffle = False, random_state = 42, test_size = 0.5)\n",
    "train = train.dropna()\n",
    "(train_features,\n",
    "valid_features,\n",
    "test_features) = (train.drop('num_orders',axis = 1),\n",
    "                  valid.drop('num_orders',axis = 1),\n",
    "                  test.drop('num_orders',axis = 1))\n",
    "(train_target,\n",
    "valid_target,\n",
    "test_target) = (train['num_orders'],\n",
    "                valid['num_orders'],\n",
    "                test['num_orders'])"
   ]
  },
  {
   "cell_type": "markdown",
   "metadata": {},
   "source": [
    "### Посмотрим на размеры выборок"
   ]
  },
  {
   "cell_type": "code",
   "execution_count": 16,
   "metadata": {
    "scrolled": true
   },
   "outputs": [
    {
     "name": "stdout",
     "output_type": "stream",
     "text": [
      "(3452, 28) (432, 28) (432, 28)\n"
     ]
    }
   ],
   "source": [
    "print(train.shape, valid.shape, test.shape)"
   ]
  },
  {
   "cell_type": "markdown",
   "metadata": {},
   "source": [
    "### DecisionTreeRegressor"
   ]
  },
  {
   "cell_type": "code",
   "execution_count": 17,
   "metadata": {},
   "outputs": [
    {
     "name": "stdout",
     "output_type": "stream",
     "text": [
      "Fitting 3 folds for each of 3 candidates, totalling 9 fits\n",
      "CPU times: user 182 ms, sys: 3.84 ms, total: 186 ms\n",
      "Wall time: 189 ms\n"
     ]
    },
    {
     "data": {
      "text/plain": [
       "GridSearchCV(cv=TimeSeriesSplit(gap=0, max_train_size=None, n_splits=3, test_size=None),\n",
       "             estimator=DecisionTreeRegressor(),\n",
       "             param_grid={'max_depth': [1, 15, 2]}, verbose=True)"
      ]
     },
     "execution_count": 17,
     "metadata": {},
     "output_type": "execute_result"
    }
   ],
   "source": [
    "%%time\n",
    "splits = TimeSeriesSplit(n_splits=3)\n",
    "\n",
    "dtr = DecisionTreeRegressor()\n",
    "parametrs = {\"max_depth\": [1, 15, 2]}\n",
    "\n",
    "grid_dtr = GridSearchCV(dtr,parametrs,cv = splits,verbose=True,n_jobs=None)\n",
    "grid_dtr.fit(train_features,train_target)"
   ]
  },
  {
   "cell_type": "markdown",
   "metadata": {},
   "source": [
    "### CatBoost"
   ]
  },
  {
   "cell_type": "code",
   "execution_count": null,
   "metadata": {},
   "outputs": [],
   "source": [
    "%%time\n",
    "splits = TimeSeriesSplit(n_splits=3)\n",
    "\n",
    "catboost = CatBoostRegressor(loss_function='RMSE')\n",
    "parameters_cat = {'depth':[1,10], 'learning_rate':np.arange(0.03, 0.1)}\n",
    "grid_cat = catboost.grid_search(parameters_cat,\n",
    "            Pool(train_features,train_target),cv=splits,verbose=100)"
   ]
  },
  {
   "cell_type": "code",
   "execution_count": 19,
   "metadata": {},
   "outputs": [
    {
     "name": "stdout",
     "output_type": "stream",
     "text": [
      "0:\tlearn: 35.4390595\ttotal: 896us\tremaining: 895ms\n",
      "100:\tlearn: 25.8923457\ttotal: 67.5ms\tremaining: 601ms\n",
      "200:\tlearn: 24.2452599\ttotal: 132ms\tremaining: 523ms\n",
      "300:\tlearn: 23.6406370\ttotal: 194ms\tremaining: 451ms\n",
      "400:\tlearn: 23.2853800\ttotal: 256ms\tremaining: 382ms\n",
      "500:\tlearn: 23.0340746\ttotal: 321ms\tremaining: 320ms\n",
      "600:\tlearn: 22.8398066\ttotal: 384ms\tremaining: 255ms\n",
      "700:\tlearn: 22.6858736\ttotal: 460ms\tremaining: 196ms\n",
      "800:\tlearn: 22.5502182\ttotal: 521ms\tremaining: 129ms\n",
      "900:\tlearn: 22.4277450\ttotal: 581ms\tremaining: 63.8ms\n",
      "999:\tlearn: 22.3195163\ttotal: 643ms\tremaining: 0us\n",
      "CPU times: user 716 ms, sys: 37.6 ms, total: 754 ms\n",
      "Wall time: 1.45 s\n"
     ]
    },
    {
     "data": {
      "text/plain": [
       "<catboost.core.CatBoostRegressor at 0x7f2c05689d90>"
      ]
     },
     "execution_count": 19,
     "metadata": {},
     "output_type": "execute_result"
    }
   ],
   "source": [
    "%%time\n",
    "final_cat = CatBoostRegressor(depth=grid_cat[\"params\"][\"depth\"], \n",
    "                              learning_rate=grid_cat[\"params\"]['learning_rate'],\n",
    "                              loss_function='RMSE',verbose=100)\n",
    "final_cat.fit(Pool(train_features,train_target))"
   ]
  },
  {
   "cell_type": "markdown",
   "metadata": {},
   "source": [
    "### LinearRegression"
   ]
  },
  {
   "cell_type": "code",
   "execution_count": 20,
   "metadata": {
    "scrolled": true
   },
   "outputs": [
    {
     "name": "stdout",
     "output_type": "stream",
     "text": [
      "CPU times: user 11.5 ms, sys: 184 µs, total: 11.7 ms\n",
      "Wall time: 10.6 ms\n"
     ]
    },
    {
     "data": {
      "text/plain": [
       "LinearRegression(normalize=True)"
      ]
     },
     "execution_count": 20,
     "metadata": {},
     "output_type": "execute_result"
    }
   ],
   "source": [
    "%%time\n",
    "my_cv = TimeSeriesSplit(n_splits=3).split(train_features)\n",
    "model_lr = LinearRegression(copy_X=True, fit_intercept=True, n_jobs=None, normalize=True)\n",
    "model_lr.fit(train_features, train_target)"
   ]
  },
  {
   "cell_type": "markdown",
   "metadata": {},
   "source": [
    "### Произведем сравнение моделей"
   ]
  },
  {
   "cell_type": "markdown",
   "metadata": {},
   "source": [
    "***DecisionTreeRegressor***"
   ]
  },
  {
   "cell_type": "code",
   "execution_count": 21,
   "metadata": {},
   "outputs": [],
   "source": [
    "prediction_dtr_train = grid_dtr.best_estimator_.predict(train_features)\n",
    "rmse_dtr_train = (mean_squared_error(train_target,prediction_dtr_train))**0.5"
   ]
  },
  {
   "cell_type": "code",
   "execution_count": 22,
   "metadata": {},
   "outputs": [
    {
     "name": "stdout",
     "output_type": "stream",
     "text": [
      "CPU times: user 13.7 ms, sys: 408 µs, total: 14.1 ms\n",
      "Wall time: 2.72 ms\n"
     ]
    }
   ],
   "source": [
    "%%time\n",
    "prediction_dtr_valid = grid_dtr.predict(valid_features)\n",
    "rmse_dtr_valid = (mean_squared_error(valid_target,prediction_dtr_valid))**0.5"
   ]
  },
  {
   "cell_type": "code",
   "execution_count": 23,
   "metadata": {},
   "outputs": [
    {
     "data": {
      "text/plain": [
       "45.621459978054375"
      ]
     },
     "execution_count": 23,
     "metadata": {},
     "output_type": "execute_result"
    }
   ],
   "source": [
    "rmse_dtr_valid"
   ]
  },
  {
   "cell_type": "markdown",
   "metadata": {},
   "source": [
    "***CatBoost***"
   ]
  },
  {
   "cell_type": "code",
   "execution_count": 24,
   "metadata": {
    "scrolled": true
   },
   "outputs": [],
   "source": [
    "prediction_cat_train = final_cat.predict(train_features)\n",
    "rmse_cat_train = (mean_squared_error(train_target,prediction_cat_train))**0.5"
   ]
  },
  {
   "cell_type": "code",
   "execution_count": 25,
   "metadata": {},
   "outputs": [
    {
     "name": "stdout",
     "output_type": "stream",
     "text": [
      "CPU times: user 3.81 ms, sys: 102 µs, total: 3.91 ms\n",
      "Wall time: 3 ms\n"
     ]
    }
   ],
   "source": [
    "%%time\n",
    "prediction_cat_valid = final_cat.predict(valid_features)\n",
    "rmse_cat_valid = (mean_squared_error(valid_target,prediction_cat_valid))**0.5"
   ]
  },
  {
   "cell_type": "code",
   "execution_count": 26,
   "metadata": {},
   "outputs": [
    {
     "data": {
      "text/plain": [
       "36.20598656621786"
      ]
     },
     "execution_count": 26,
     "metadata": {},
     "output_type": "execute_result"
    }
   ],
   "source": [
    "rmse_cat_valid"
   ]
  },
  {
   "cell_type": "markdown",
   "metadata": {},
   "source": [
    "***LinearRegression***"
   ]
  },
  {
   "cell_type": "code",
   "execution_count": 27,
   "metadata": {},
   "outputs": [],
   "source": [
    "prediction_lr_train = model_lr.predict(train_features)\n",
    "rmse_lr_train = (mean_squared_error(train_target,prediction_lr_train))**0.5"
   ]
  },
  {
   "cell_type": "code",
   "execution_count": 28,
   "metadata": {},
   "outputs": [
    {
     "name": "stdout",
     "output_type": "stream",
     "text": [
      "CPU times: user 6.29 ms, sys: 12.3 ms, total: 18.6 ms\n",
      "Wall time: 8.39 ms\n"
     ]
    }
   ],
   "source": [
    "%%time\n",
    "prediction_lr_valid = model_lr.predict(valid_features)\n",
    "rmse_lr_valid = (mean_squared_error(valid_target,prediction_lr_valid))**0.5"
   ]
  },
  {
   "cell_type": "code",
   "execution_count": 29,
   "metadata": {},
   "outputs": [
    {
     "data": {
      "text/plain": [
       "34.496874927395694"
      ]
     },
     "execution_count": 29,
     "metadata": {},
     "output_type": "execute_result"
    }
   ],
   "source": [
    "rmse_lr_valid"
   ]
  },
  {
   "cell_type": "markdown",
   "metadata": {},
   "source": [
    "***Вывод***"
   ]
  },
  {
   "cell_type": "markdown",
   "metadata": {},
   "source": [
    "Модели обучили, модели прошли валидацию, провели подбор гипперпараметров, подготовили модели к тестированию. Тестирование модели будем проводить на LinearRegression, так как она показала самое низкое значение RMSE на валидационной выборке (34.496874927395694)."
   ]
  },
  {
   "cell_type": "markdown",
   "metadata": {},
   "source": [
    "## Тестирование"
   ]
  },
  {
   "cell_type": "markdown",
   "metadata": {},
   "source": [
    "***LinearRegression***"
   ]
  },
  {
   "cell_type": "code",
   "execution_count": 59,
   "metadata": {},
   "outputs": [
    {
     "name": "stdout",
     "output_type": "stream",
     "text": [
      "CPU times: user 2.84 ms, sys: 0 ns, total: 2.84 ms\n",
      "Wall time: 2.17 ms\n"
     ]
    }
   ],
   "source": [
    "%%time\n",
    "test_start_time_lr = time.time()\n",
    "prediction_lr_test = model_lr.predict(test_features)\n",
    "test_total_time_lr = time.time() - test_start_time_lr"
   ]
  },
  {
   "cell_type": "code",
   "execution_count": 60,
   "metadata": {},
   "outputs": [],
   "source": [
    "rmse_lr_test = (mean_squared_error(test_target,prediction_lr_test))**0.5"
   ]
  },
  {
   "cell_type": "code",
   "execution_count": 61,
   "metadata": {},
   "outputs": [
    {
     "data": {
      "text/plain": [
       "45.54742100194132"
      ]
     },
     "execution_count": 61,
     "metadata": {},
     "output_type": "execute_result"
    }
   ],
   "source": [
    "rmse_lr_test"
   ]
  },
  {
   "cell_type": "markdown",
   "metadata": {},
   "source": [
    "### Подготовим данные для итоговой таблицы"
   ]
  },
  {
   "cell_type": "code",
   "execution_count": 62,
   "metadata": {},
   "outputs": [],
   "source": [
    "report = pd.DataFrame(columns = [\"DecisionTreeRegressor\",\"CatBoost\",\"LinearRegression\"],\n",
    "                      index = [\"RMSE(train)\",\n",
    "                               \"RMSE(valid)\",\n",
    "                               \"RMSE(test)\",\n",
    "                               \"Время обучения (секунды)\",\n",
    "                               \"Время предсказания (секунды)\"])\n",
    "\n",
    "\n",
    "report.iloc[0] = [rmse_dtr_train,rmse_cat_train,rmse_lr_train]\n",
    "report.iloc[1] = [rmse_dtr_valid,rmse_cat_valid,rmse_lr_valid]\n",
    "report.iloc[2] = [\"-\",\"-\",45.54742100194132]\n",
    "report.iloc[3] = [0.0027,4.47,3.55]\n",
    "report.iloc[4] = [\"-\",\"-\",test_total_time_lr]"
   ]
  },
  {
   "cell_type": "markdown",
   "metadata": {},
   "source": [
    "***Вывод***"
   ]
  },
  {
   "cell_type": "code",
   "execution_count": 63,
   "metadata": {},
   "outputs": [
    {
     "data": {
      "text/html": [
       "<div>\n",
       "<style scoped>\n",
       "    .dataframe tbody tr th:only-of-type {\n",
       "        vertical-align: middle;\n",
       "    }\n",
       "\n",
       "    .dataframe tbody tr th {\n",
       "        vertical-align: top;\n",
       "    }\n",
       "\n",
       "    .dataframe thead th {\n",
       "        text-align: right;\n",
       "    }\n",
       "</style>\n",
       "<table border=\"1\" class=\"dataframe\">\n",
       "  <thead>\n",
       "    <tr style=\"text-align: right;\">\n",
       "      <th></th>\n",
       "      <th>DecisionTreeRegressor</th>\n",
       "      <th>CatBoost</th>\n",
       "      <th>LinearRegression</th>\n",
       "    </tr>\n",
       "  </thead>\n",
       "  <tbody>\n",
       "    <tr>\n",
       "      <th>RMSE(train)</th>\n",
       "      <td>27.563483</td>\n",
       "      <td>22.319516</td>\n",
       "      <td>24.56212</td>\n",
       "    </tr>\n",
       "    <tr>\n",
       "      <th>RMSE(valid)</th>\n",
       "      <td>45.62146</td>\n",
       "      <td>36.205987</td>\n",
       "      <td>34.496875</td>\n",
       "    </tr>\n",
       "    <tr>\n",
       "      <th>RMSE(test)</th>\n",
       "      <td>-</td>\n",
       "      <td>-</td>\n",
       "      <td>45.547421</td>\n",
       "    </tr>\n",
       "    <tr>\n",
       "      <th>Время обучения (секунды)</th>\n",
       "      <td>0.0027</td>\n",
       "      <td>4.47</td>\n",
       "      <td>3.55</td>\n",
       "    </tr>\n",
       "    <tr>\n",
       "      <th>Время предсказания (секунды)</th>\n",
       "      <td>-</td>\n",
       "      <td>-</td>\n",
       "      <td>0.002147</td>\n",
       "    </tr>\n",
       "  </tbody>\n",
       "</table>\n",
       "</div>"
      ],
      "text/plain": [
       "                             DecisionTreeRegressor   CatBoost LinearRegression\n",
       "RMSE(train)                              27.563483  22.319516         24.56212\n",
       "RMSE(valid)                               45.62146  36.205987        34.496875\n",
       "RMSE(test)                                       -          -        45.547421\n",
       "Время обучения (секунды)                    0.0027       4.47             3.55\n",
       "Время предсказания (секунды)                     -          -         0.002147"
      ]
     },
     "metadata": {},
     "output_type": "display_data"
    }
   ],
   "source": [
    "display(report)"
   ]
  },
  {
   "cell_type": "markdown",
   "metadata": {},
   "source": [
    "Наименьшее значение RMSE получено на модели LinearRegression. RMSE LinearRegression = 45.54742100194132. (По заданию это значение должно быть менее 48.) Так же можно отметить, что у модели LinearRegression самое короткое время обучения и время предсказания. "
   ]
  }
 ],
 "metadata": {
  "ExecuteTimeLog": [
   {
    "duration": 401,
    "start_time": "2023-02-28T09:42:29.806Z"
   },
   {
    "duration": 138,
    "start_time": "2023-02-28T09:44:04.234Z"
   },
   {
    "duration": 14,
    "start_time": "2023-02-28T09:44:43.079Z"
   },
   {
    "duration": 15,
    "start_time": "2023-02-28T09:45:26.130Z"
   },
   {
    "duration": 45,
    "start_time": "2023-02-28T09:47:17.885Z"
   },
   {
    "duration": 9,
    "start_time": "2023-02-28T09:47:19.842Z"
   },
   {
    "duration": 8,
    "start_time": "2023-02-28T09:47:37.191Z"
   },
   {
    "duration": 3,
    "start_time": "2023-02-28T09:49:15.446Z"
   },
   {
    "duration": 5,
    "start_time": "2023-02-28T09:49:58.013Z"
   },
   {
    "duration": 8,
    "start_time": "2023-02-28T09:50:08.135Z"
   },
   {
    "duration": 7,
    "start_time": "2023-02-28T09:50:33.924Z"
   },
   {
    "duration": 72,
    "start_time": "2023-02-28T09:53:47.010Z"
   },
   {
    "duration": 12,
    "start_time": "2023-02-28T09:54:00.337Z"
   },
   {
    "duration": 10,
    "start_time": "2023-02-28T09:54:24.667Z"
   },
   {
    "duration": 670,
    "start_time": "2023-02-28T09:54:51.451Z"
   },
   {
    "duration": 10,
    "start_time": "2023-02-28T09:56:18.395Z"
   },
   {
    "duration": 15,
    "start_time": "2023-02-28T09:56:48.740Z"
   },
   {
    "duration": 1273,
    "start_time": "2023-03-01T16:30:44.813Z"
   },
   {
    "duration": 140,
    "start_time": "2023-03-01T16:30:46.087Z"
   },
   {
    "duration": 10,
    "start_time": "2023-03-01T16:30:46.228Z"
   },
   {
    "duration": 12,
    "start_time": "2023-03-01T16:30:46.255Z"
   },
   {
    "duration": 211,
    "start_time": "2023-03-01T16:30:46.584Z"
   },
   {
    "duration": 11,
    "start_time": "2023-03-01T16:30:49.718Z"
   },
   {
    "duration": 88,
    "start_time": "2023-03-01T16:36:06.660Z"
   },
   {
    "duration": 2,
    "start_time": "2023-03-01T16:37:10.495Z"
   },
   {
    "duration": 8,
    "start_time": "2023-03-01T16:37:17.570Z"
   },
   {
    "duration": 2,
    "start_time": "2023-03-01T16:37:59.797Z"
   },
   {
    "duration": 3,
    "start_time": "2023-03-01T16:38:48.886Z"
   },
   {
    "duration": 43,
    "start_time": "2023-03-01T16:38:50.392Z"
   },
   {
    "duration": 3,
    "start_time": "2023-03-01T16:38:50.742Z"
   },
   {
    "duration": 10,
    "start_time": "2023-03-01T16:38:51.234Z"
   },
   {
    "duration": 10,
    "start_time": "2023-03-01T16:38:51.518Z"
   },
   {
    "duration": 196,
    "start_time": "2023-03-01T16:38:51.580Z"
   },
   {
    "duration": 14,
    "start_time": "2023-03-01T16:38:57.685Z"
   },
   {
    "duration": 9,
    "start_time": "2023-03-01T16:38:58.338Z"
   },
   {
    "duration": 2,
    "start_time": "2023-03-01T16:39:25.173Z"
   },
   {
    "duration": 10,
    "start_time": "2023-03-01T16:39:30.714Z"
   },
   {
    "duration": 779,
    "start_time": "2023-03-01T16:40:05.920Z"
   },
   {
    "duration": 754,
    "start_time": "2023-03-01T16:41:01.254Z"
   },
   {
    "duration": 731,
    "start_time": "2023-03-01T16:47:01.870Z"
   },
   {
    "duration": 25822,
    "start_time": "2023-03-01T17:43:10.190Z"
   },
   {
    "duration": 685,
    "start_time": "2023-03-01T17:45:38.716Z"
   },
   {
    "duration": 25644,
    "start_time": "2023-03-01T17:45:53.497Z"
   },
   {
    "duration": 3,
    "start_time": "2023-03-01T17:47:45.975Z"
   },
   {
    "duration": 53,
    "start_time": "2023-03-01T17:47:46.278Z"
   },
   {
    "duration": 3,
    "start_time": "2023-03-01T17:47:46.586Z"
   },
   {
    "duration": 8,
    "start_time": "2023-03-01T17:47:46.911Z"
   },
   {
    "duration": 11,
    "start_time": "2023-03-01T17:47:47.254Z"
   },
   {
    "duration": 195,
    "start_time": "2023-03-01T17:47:47.492Z"
   },
   {
    "duration": 11,
    "start_time": "2023-03-01T17:47:47.808Z"
   },
   {
    "duration": 663,
    "start_time": "2023-03-01T17:47:48.945Z"
   },
   {
    "duration": 220,
    "start_time": "2023-03-01T17:47:56.091Z"
   },
   {
    "duration": 73,
    "start_time": "2023-03-01T17:49:44.175Z"
   },
   {
    "duration": 4,
    "start_time": "2023-03-01T18:06:57.051Z"
   },
   {
    "duration": 25,
    "start_time": "2023-03-01T18:07:57.757Z"
   },
   {
    "duration": 7,
    "start_time": "2023-03-01T18:09:01.436Z"
   },
   {
    "duration": 4,
    "start_time": "2023-03-01T18:10:22.272Z"
   },
   {
    "duration": 16,
    "start_time": "2023-03-01T18:10:24.648Z"
   },
   {
    "duration": 334,
    "start_time": "2023-03-01T18:11:26.979Z"
   },
   {
    "duration": 131,
    "start_time": "2023-03-01T18:13:45.062Z"
   },
   {
    "duration": 37,
    "start_time": "2023-03-01T18:14:35.519Z"
   },
   {
    "duration": 9,
    "start_time": "2023-03-01T18:17:27.718Z"
   },
   {
    "duration": 233,
    "start_time": "2023-03-01T18:19:09.740Z"
   },
   {
    "duration": 35,
    "start_time": "2023-03-01T18:19:20.530Z"
   },
   {
    "duration": 6,
    "start_time": "2023-03-01T18:19:40.516Z"
   },
   {
    "duration": 3,
    "start_time": "2023-03-01T18:19:59.115Z"
   },
   {
    "duration": 3,
    "start_time": "2023-03-01T18:20:11.389Z"
   },
   {
    "duration": 22,
    "start_time": "2023-03-01T18:21:15.316Z"
   },
   {
    "duration": 4,
    "start_time": "2023-03-01T18:21:30.969Z"
   },
   {
    "duration": 18,
    "start_time": "2023-03-01T18:26:50.756Z"
   },
   {
    "duration": 23,
    "start_time": "2023-03-01T18:29:16.891Z"
   },
   {
    "duration": 53,
    "start_time": "2023-03-01T18:29:49.002Z"
   },
   {
    "duration": 188,
    "start_time": "2023-03-01T18:30:04.889Z"
   },
   {
    "duration": 165,
    "start_time": "2023-03-01T18:30:54.485Z"
   },
   {
    "duration": 277,
    "start_time": "2023-03-01T18:31:38.395Z"
   },
   {
    "duration": 261,
    "start_time": "2023-03-01T18:32:24.601Z"
   },
   {
    "duration": 119,
    "start_time": "2023-03-01T18:35:15.790Z"
   },
   {
    "duration": 18,
    "start_time": "2023-03-01T18:35:19.376Z"
   },
   {
    "duration": 170,
    "start_time": "2023-03-01T18:35:26.074Z"
   },
   {
    "duration": 283,
    "start_time": "2023-03-01T18:35:30.063Z"
   },
   {
    "duration": 29,
    "start_time": "2023-03-01T18:37:12.827Z"
   },
   {
    "duration": 124,
    "start_time": "2023-03-01T18:37:29.218Z"
   },
   {
    "duration": 17,
    "start_time": "2023-03-01T18:37:32.523Z"
   },
   {
    "duration": 203,
    "start_time": "2023-03-01T18:37:34.539Z"
   },
   {
    "duration": 295,
    "start_time": "2023-03-01T18:37:37.277Z"
   },
   {
    "duration": 24,
    "start_time": "2023-03-01T18:37:40.341Z"
   },
   {
    "duration": 126,
    "start_time": "2023-03-01T18:38:18.787Z"
   },
   {
    "duration": 13,
    "start_time": "2023-03-01T18:38:21.646Z"
   },
   {
    "duration": 168,
    "start_time": "2023-03-01T18:38:28.761Z"
   },
   {
    "duration": 163,
    "start_time": "2023-03-01T18:39:52.298Z"
   },
   {
    "duration": 186,
    "start_time": "2023-03-01T18:40:29.498Z"
   },
   {
    "duration": 152,
    "start_time": "2023-03-01T18:40:35.581Z"
   },
   {
    "duration": 145,
    "start_time": "2023-03-01T18:40:40.770Z"
   },
   {
    "duration": 177,
    "start_time": "2023-03-01T18:40:55.601Z"
   },
   {
    "duration": 132,
    "start_time": "2023-03-01T18:41:06.921Z"
   },
   {
    "duration": 199,
    "start_time": "2023-03-01T18:41:25.150Z"
   },
   {
    "duration": 151,
    "start_time": "2023-03-01T18:41:50.591Z"
   },
   {
    "duration": 191,
    "start_time": "2023-03-01T18:42:02.429Z"
   },
   {
    "duration": 156,
    "start_time": "2023-03-01T18:42:13.058Z"
   },
   {
    "duration": 150,
    "start_time": "2023-03-01T18:42:20.149Z"
   },
   {
    "duration": 1527,
    "start_time": "2023-03-02T09:03:33.896Z"
   },
   {
    "duration": 127,
    "start_time": "2023-03-02T09:03:35.425Z"
   },
   {
    "duration": 3,
    "start_time": "2023-03-02T09:03:35.553Z"
   },
   {
    "duration": 19,
    "start_time": "2023-03-02T09:03:35.557Z"
   },
   {
    "duration": 17,
    "start_time": "2023-03-02T09:03:35.578Z"
   },
   {
    "duration": 204,
    "start_time": "2023-03-02T09:03:35.596Z"
   },
   {
    "duration": 12,
    "start_time": "2023-03-02T09:03:35.900Z"
   },
   {
    "duration": 805,
    "start_time": "2023-03-02T09:03:36.674Z"
   },
   {
    "duration": 277,
    "start_time": "2023-03-02T09:03:37.481Z"
   },
   {
    "duration": 332,
    "start_time": "2023-03-02T09:03:39.786Z"
   },
   {
    "duration": 3,
    "start_time": "2023-03-02T12:17:27.638Z"
   },
   {
    "duration": 43,
    "start_time": "2023-03-02T12:39:06.618Z"
   },
   {
    "duration": 15,
    "start_time": "2023-03-02T12:39:19.804Z"
   },
   {
    "duration": 21,
    "start_time": "2023-03-02T12:39:52.425Z"
   },
   {
    "duration": 186,
    "start_time": "2023-03-02T12:39:53.859Z"
   },
   {
    "duration": 285,
    "start_time": "2023-03-02T12:39:56.182Z"
   },
   {
    "duration": 30,
    "start_time": "2023-03-02T12:41:34.437Z"
   },
   {
    "duration": 5,
    "start_time": "2023-03-02T12:44:02.437Z"
   },
   {
    "duration": 3,
    "start_time": "2023-03-02T12:44:13.834Z"
   },
   {
    "duration": 32,
    "start_time": "2023-03-02T12:44:25.833Z"
   },
   {
    "duration": 16,
    "start_time": "2023-03-02T12:44:53.298Z"
   },
   {
    "duration": 15,
    "start_time": "2023-03-02T12:45:19.260Z"
   },
   {
    "duration": 174,
    "start_time": "2023-03-02T12:45:27.166Z"
   },
   {
    "duration": 285,
    "start_time": "2023-03-02T12:45:31.432Z"
   },
   {
    "duration": 15,
    "start_time": "2023-03-02T12:46:25.923Z"
   },
   {
    "duration": 14,
    "start_time": "2023-03-02T12:47:11.227Z"
   },
   {
    "duration": 4,
    "start_time": "2023-03-02T12:47:12.465Z"
   },
   {
    "duration": 2,
    "start_time": "2023-03-02T12:47:45.842Z"
   },
   {
    "duration": 137,
    "start_time": "2023-03-02T12:47:53.297Z"
   },
   {
    "duration": 4,
    "start_time": "2023-03-02T12:49:32.434Z"
   },
   {
    "duration": 3,
    "start_time": "2023-03-02T12:49:43.068Z"
   },
   {
    "duration": 3,
    "start_time": "2023-03-02T12:51:00.058Z"
   },
   {
    "duration": 91,
    "start_time": "2023-03-02T13:00:36.186Z"
   },
   {
    "duration": 45,
    "start_time": "2023-03-02T13:01:32.340Z"
   },
   {
    "duration": 3027,
    "start_time": "2023-03-02T13:01:42.942Z"
   },
   {
    "duration": 14,
    "start_time": "2023-03-02T13:02:51.261Z"
   },
   {
    "duration": 50,
    "start_time": "2023-03-02T13:03:16.559Z"
   },
   {
    "duration": 7811,
    "start_time": "2023-03-02T13:03:39.042Z"
   },
   {
    "duration": 21,
    "start_time": "2023-03-02T13:04:18.276Z"
   },
   {
    "duration": 14,
    "start_time": "2023-03-02T13:06:20.858Z"
   },
   {
    "duration": 18493,
    "start_time": "2023-03-02T13:06:48.179Z"
   },
   {
    "duration": 290778,
    "start_time": "2023-03-02T13:11:21.225Z"
   },
   {
    "duration": 885931,
    "start_time": "2023-03-02T13:16:58.274Z"
   },
   {
    "duration": 4,
    "start_time": "2023-03-02T13:31:51.960Z"
   },
   {
    "duration": 42,
    "start_time": "2023-03-02T13:31:52.283Z"
   },
   {
    "duration": 3,
    "start_time": "2023-03-02T13:31:52.584Z"
   },
   {
    "duration": 9,
    "start_time": "2023-03-02T13:31:52.881Z"
   },
   {
    "duration": 10,
    "start_time": "2023-03-02T13:31:53.218Z"
   },
   {
    "duration": 199,
    "start_time": "2023-03-02T13:31:53.475Z"
   },
   {
    "duration": 10,
    "start_time": "2023-03-02T13:31:53.811Z"
   },
   {
    "duration": 740,
    "start_time": "2023-03-02T13:31:54.493Z"
   },
   {
    "duration": 289,
    "start_time": "2023-03-02T13:31:55.235Z"
   },
   {
    "duration": 4,
    "start_time": "2023-03-02T13:31:56.097Z"
   },
   {
    "duration": 36,
    "start_time": "2023-03-02T13:31:56.436Z"
   },
   {
    "duration": 7,
    "start_time": "2023-03-02T13:31:56.769Z"
   },
   {
    "duration": 243,
    "start_time": "2023-03-02T13:31:57.094Z"
   },
   {
    "duration": 283,
    "start_time": "2023-03-02T13:31:57.483Z"
   },
   {
    "duration": 9,
    "start_time": "2023-03-02T13:31:57.827Z"
   },
   {
    "duration": 5,
    "start_time": "2023-03-02T13:31:58.163Z"
   },
   {
    "duration": 5,
    "start_time": "2023-03-02T13:31:58.486Z"
   },
   {
    "duration": 602,
    "start_time": "2023-03-02T13:31:58.857Z"
   },
   {
    "duration": 236642,
    "start_time": "2023-03-02T13:31:59.464Z"
   },
   {
    "duration": 97,
    "start_time": "2023-03-02T13:39:25.210Z"
   },
   {
    "duration": 58,
    "start_time": "2023-03-02T13:40:26.791Z"
   },
   {
    "duration": 3,
    "start_time": "2023-03-02T13:41:38.569Z"
   },
   {
    "duration": 726,
    "start_time": "2023-03-02T13:42:58.408Z"
   },
   {
    "duration": 62,
    "start_time": "2023-03-02T13:44:40.345Z"
   },
   {
    "duration": 4,
    "start_time": "2023-03-02T13:46:20.891Z"
   },
   {
    "duration": 75,
    "start_time": "2023-03-02T13:49:27.515Z"
   },
   {
    "duration": 59,
    "start_time": "2023-03-02T13:49:54.598Z"
   },
   {
    "duration": 50,
    "start_time": "2023-03-02T13:54:24.374Z"
   },
   {
    "duration": 19,
    "start_time": "2023-03-02T13:55:39.208Z"
   },
   {
    "duration": 330839,
    "start_time": "2023-03-02T13:55:48.160Z"
   },
   {
    "duration": 8,
    "start_time": "2023-03-02T14:01:19.001Z"
   },
   {
    "duration": 16,
    "start_time": "2023-03-02T14:39:14.350Z"
   },
   {
    "duration": 9,
    "start_time": "2023-03-02T14:41:08.273Z"
   },
   {
    "duration": 12,
    "start_time": "2023-03-02T14:42:25.674Z"
   },
   {
    "duration": 10,
    "start_time": "2023-03-02T14:43:29.660Z"
   },
   {
    "duration": 8,
    "start_time": "2023-03-02T14:45:17.026Z"
   },
   {
    "duration": 5,
    "start_time": "2023-03-02T14:45:19.272Z"
   },
   {
    "duration": 59,
    "start_time": "2023-03-02T14:46:40.685Z"
   },
   {
    "duration": 27,
    "start_time": "2023-03-02T14:47:49.888Z"
   },
   {
    "duration": 55,
    "start_time": "2023-03-02T14:48:40.833Z"
   },
   {
    "duration": 4,
    "start_time": "2023-03-02T14:49:16.743Z"
   },
   {
    "duration": 70,
    "start_time": "2023-03-02T14:49:28.437Z"
   },
   {
    "duration": 4,
    "start_time": "2023-03-02T14:49:49.290Z"
   },
   {
    "duration": 58,
    "start_time": "2023-03-02T14:49:49.609Z"
   },
   {
    "duration": 3,
    "start_time": "2023-03-02T14:49:49.892Z"
   },
   {
    "duration": 7,
    "start_time": "2023-03-02T14:49:50.193Z"
   },
   {
    "duration": 10,
    "start_time": "2023-03-02T14:49:50.476Z"
   },
   {
    "duration": 191,
    "start_time": "2023-03-02T14:49:50.535Z"
   },
   {
    "duration": 9,
    "start_time": "2023-03-02T14:49:51.110Z"
   },
   {
    "duration": 692,
    "start_time": "2023-03-02T14:49:51.705Z"
   },
   {
    "duration": 314,
    "start_time": "2023-03-02T14:49:52.400Z"
   },
   {
    "duration": 4,
    "start_time": "2023-03-02T14:49:53.171Z"
   },
   {
    "duration": 29,
    "start_time": "2023-03-02T14:49:53.463Z"
   },
   {
    "duration": 7,
    "start_time": "2023-03-02T14:49:53.798Z"
   },
   {
    "duration": 160,
    "start_time": "2023-03-02T14:49:54.360Z"
   },
   {
    "duration": 272,
    "start_time": "2023-03-02T14:49:54.522Z"
   },
   {
    "duration": 9,
    "start_time": "2023-03-02T14:49:54.796Z"
   },
   {
    "duration": 4,
    "start_time": "2023-03-02T14:49:55.136Z"
   },
   {
    "duration": 56,
    "start_time": "2023-03-02T14:49:55.465Z"
   },
   {
    "duration": 4,
    "start_time": "2023-03-02T14:54:10.559Z"
   },
   {
    "duration": 73,
    "start_time": "2023-03-02T14:54:23.285Z"
   },
   {
    "duration": 3,
    "start_time": "2023-03-02T14:54:48.276Z"
   },
   {
    "duration": 83,
    "start_time": "2023-03-02T14:54:55.948Z"
   },
   {
    "duration": 3,
    "start_time": "2023-03-02T14:59:20.479Z"
   },
   {
    "duration": 61,
    "start_time": "2023-03-02T14:59:30.680Z"
   },
   {
    "duration": 3358719,
    "start_time": "2023-03-02T15:00:55.118Z"
   },
   {
    "duration": 42326,
    "start_time": "2023-03-02T15:56:53.839Z"
   },
   {
    "duration": 0,
    "start_time": "2023-03-02T15:57:36.168Z"
   },
   {
    "duration": 0,
    "start_time": "2023-03-02T15:57:36.171Z"
   },
   {
    "duration": 0,
    "start_time": "2023-03-02T15:57:36.172Z"
   },
   {
    "duration": 0,
    "start_time": "2023-03-02T15:57:36.173Z"
   },
   {
    "duration": 0,
    "start_time": "2023-03-02T15:57:36.174Z"
   },
   {
    "duration": 0,
    "start_time": "2023-03-02T15:57:36.182Z"
   },
   {
    "duration": 1,
    "start_time": "2023-03-02T15:57:36.183Z"
   },
   {
    "duration": 0,
    "start_time": "2023-03-02T15:57:36.185Z"
   },
   {
    "duration": 0,
    "start_time": "2023-03-02T15:57:36.187Z"
   },
   {
    "duration": 0,
    "start_time": "2023-03-02T15:57:36.188Z"
   },
   {
    "duration": 0,
    "start_time": "2023-03-02T15:57:36.189Z"
   },
   {
    "duration": 0,
    "start_time": "2023-03-02T15:57:36.190Z"
   },
   {
    "duration": 0,
    "start_time": "2023-03-02T15:57:36.249Z"
   },
   {
    "duration": 0,
    "start_time": "2023-03-02T15:57:36.251Z"
   },
   {
    "duration": 0,
    "start_time": "2023-03-02T15:57:36.252Z"
   },
   {
    "duration": 0,
    "start_time": "2023-03-02T15:57:36.253Z"
   },
   {
    "duration": 0,
    "start_time": "2023-03-02T15:57:36.254Z"
   },
   {
    "duration": 0,
    "start_time": "2023-03-02T15:57:36.258Z"
   },
   {
    "duration": 0,
    "start_time": "2023-03-02T15:57:36.260Z"
   },
   {
    "duration": 0,
    "start_time": "2023-03-02T15:57:36.261Z"
   },
   {
    "duration": 0,
    "start_time": "2023-03-02T15:57:36.262Z"
   },
   {
    "duration": 0,
    "start_time": "2023-03-02T15:57:36.263Z"
   },
   {
    "duration": 0,
    "start_time": "2023-03-02T15:57:36.264Z"
   },
   {
    "duration": 0,
    "start_time": "2023-03-02T15:57:36.266Z"
   },
   {
    "duration": 1484,
    "start_time": "2023-03-02T16:03:39.902Z"
   },
   {
    "duration": 50,
    "start_time": "2023-03-02T16:03:41.388Z"
   },
   {
    "duration": 2,
    "start_time": "2023-03-02T16:03:41.440Z"
   },
   {
    "duration": 24,
    "start_time": "2023-03-02T16:03:41.445Z"
   },
   {
    "duration": 15,
    "start_time": "2023-03-02T16:03:41.471Z"
   },
   {
    "duration": 255,
    "start_time": "2023-03-02T16:03:41.488Z"
   },
   {
    "duration": 27,
    "start_time": "2023-03-02T16:03:41.746Z"
   },
   {
    "duration": 912,
    "start_time": "2023-03-02T16:03:41.775Z"
   },
   {
    "duration": 281,
    "start_time": "2023-03-02T16:03:42.689Z"
   },
   {
    "duration": 4,
    "start_time": "2023-03-02T16:03:42.972Z"
   },
   {
    "duration": 38,
    "start_time": "2023-03-02T16:03:42.978Z"
   },
   {
    "duration": 7,
    "start_time": "2023-03-02T16:03:43.018Z"
   },
   {
    "duration": 187,
    "start_time": "2023-03-02T16:03:43.027Z"
   },
   {
    "duration": 334,
    "start_time": "2023-03-02T16:03:43.216Z"
   },
   {
    "duration": 18,
    "start_time": "2023-03-02T16:03:43.554Z"
   },
   {
    "duration": 11,
    "start_time": "2023-03-02T16:03:43.575Z"
   },
   {
    "duration": 146,
    "start_time": "2023-03-02T16:03:43.588Z"
   },
   {
    "duration": 0,
    "start_time": "2023-03-02T16:03:43.735Z"
   },
   {
    "duration": 0,
    "start_time": "2023-03-02T16:03:43.737Z"
   },
   {
    "duration": 40,
    "start_time": "2023-03-02T16:04:52.395Z"
   },
   {
    "duration": 17186,
    "start_time": "2023-03-02T16:05:02.186Z"
   },
   {
    "duration": 0,
    "start_time": "2023-03-02T16:05:19.375Z"
   },
   {
    "duration": 0,
    "start_time": "2023-03-02T16:05:19.377Z"
   },
   {
    "duration": 5,
    "start_time": "2023-03-02T16:05:42.971Z"
   },
   {
    "duration": 200303,
    "start_time": "2023-03-02T16:05:53.404Z"
   },
   {
    "duration": 0,
    "start_time": "2023-03-02T16:09:13.708Z"
   },
   {
    "duration": 0,
    "start_time": "2023-03-02T16:09:13.709Z"
   },
   {
    "duration": 4,
    "start_time": "2023-03-02T16:10:49.375Z"
   },
   {
    "duration": 16405,
    "start_time": "2023-03-02T16:11:49.645Z"
   },
   {
    "duration": 163179,
    "start_time": "2023-03-02T16:12:59.074Z"
   },
   {
    "duration": 0,
    "start_time": "2023-03-02T16:15:42.255Z"
   },
   {
    "duration": 2,
    "start_time": "2023-03-02T16:15:49.341Z"
   },
   {
    "duration": 6,
    "start_time": "2023-03-02T16:15:59.583Z"
   },
   {
    "duration": 48,
    "start_time": "2023-03-02T16:15:59.869Z"
   },
   {
    "duration": 2,
    "start_time": "2023-03-02T16:16:00.181Z"
   },
   {
    "duration": 8,
    "start_time": "2023-03-02T16:16:00.456Z"
   },
   {
    "duration": 11,
    "start_time": "2023-03-02T16:16:00.732Z"
   },
   {
    "duration": 321,
    "start_time": "2023-03-02T16:16:00.976Z"
   },
   {
    "duration": 11,
    "start_time": "2023-03-02T16:16:01.301Z"
   },
   {
    "duration": 734,
    "start_time": "2023-03-02T16:16:02.005Z"
   },
   {
    "duration": 244,
    "start_time": "2023-03-02T16:16:03.181Z"
   },
   {
    "duration": 4,
    "start_time": "2023-03-02T16:16:04.181Z"
   },
   {
    "duration": 25,
    "start_time": "2023-03-02T16:16:04.509Z"
   },
   {
    "duration": 8,
    "start_time": "2023-03-02T16:16:05.098Z"
   },
   {
    "duration": 198,
    "start_time": "2023-03-02T16:16:05.445Z"
   },
   {
    "duration": 270,
    "start_time": "2023-03-02T16:16:06.336Z"
   },
   {
    "duration": 10,
    "start_time": "2023-03-02T16:16:08.037Z"
   },
   {
    "duration": 4,
    "start_time": "2023-03-02T16:16:09.336Z"
   },
   {
    "duration": 3,
    "start_time": "2023-03-02T16:16:11.425Z"
   },
   {
    "duration": 269908,
    "start_time": "2023-03-02T16:16:13.177Z"
   },
   {
    "duration": 95290,
    "start_time": "2023-03-02T16:20:43.087Z"
   },
   {
    "duration": 3921,
    "start_time": "2023-03-02T16:22:18.379Z"
   },
   {
    "duration": 3,
    "start_time": "2023-03-02T16:22:22.302Z"
   },
   {
    "duration": 4,
    "start_time": "2023-03-02T16:25:10.869Z"
   },
   {
    "duration": 4,
    "start_time": "2023-03-02T16:26:56.903Z"
   },
   {
    "duration": 44,
    "start_time": "2023-03-02T16:26:57.234Z"
   },
   {
    "duration": 2,
    "start_time": "2023-03-02T16:26:57.579Z"
   },
   {
    "duration": 7,
    "start_time": "2023-03-02T16:26:57.864Z"
   },
   {
    "duration": 11,
    "start_time": "2023-03-02T16:26:58.171Z"
   },
   {
    "duration": 296,
    "start_time": "2023-03-02T16:26:58.401Z"
   },
   {
    "duration": 9,
    "start_time": "2023-03-02T16:26:58.714Z"
   },
   {
    "duration": 705,
    "start_time": "2023-03-02T16:26:59.428Z"
   },
   {
    "duration": 252,
    "start_time": "2023-03-02T16:27:00.135Z"
   },
   {
    "duration": 3,
    "start_time": "2023-03-02T16:27:00.771Z"
   },
   {
    "duration": 26,
    "start_time": "2023-03-02T16:27:01.063Z"
   },
   {
    "duration": 7,
    "start_time": "2023-03-02T16:27:01.583Z"
   },
   {
    "duration": 178,
    "start_time": "2023-03-02T16:27:01.900Z"
   },
   {
    "duration": 285,
    "start_time": "2023-03-02T16:27:02.231Z"
   },
   {
    "duration": 14,
    "start_time": "2023-03-02T16:27:02.880Z"
   },
   {
    "duration": 4,
    "start_time": "2023-03-02T16:27:03.464Z"
   },
   {
    "duration": 11,
    "start_time": "2023-03-02T16:27:03.546Z"
   },
   {
    "duration": 15505,
    "start_time": "2023-03-02T16:27:03.870Z"
   },
   {
    "duration": 12,
    "start_time": "2023-03-02T16:27:19.377Z"
   },
   {
    "duration": 0,
    "start_time": "2023-03-02T16:27:19.390Z"
   },
   {
    "duration": 0,
    "start_time": "2023-03-02T16:27:19.391Z"
   },
   {
    "duration": 8,
    "start_time": "2023-03-02T16:37:11.048Z"
   },
   {
    "duration": 3,
    "start_time": "2023-03-02T16:38:30.931Z"
   },
   {
    "duration": 2,
    "start_time": "2023-03-02T16:39:27.602Z"
   },
   {
    "duration": 2,
    "start_time": "2023-03-02T16:41:12.687Z"
   },
   {
    "duration": 460,
    "start_time": "2023-03-02T16:42:30.805Z"
   },
   {
    "duration": 18,
    "start_time": "2023-03-02T16:45:35.860Z"
   },
   {
    "duration": 15,
    "start_time": "2023-03-02T16:45:54.289Z"
   },
   {
    "duration": 6,
    "start_time": "2023-03-02T16:46:59.146Z"
   },
   {
    "duration": 51,
    "start_time": "2023-03-02T16:48:48.392Z"
   },
   {
    "duration": 5,
    "start_time": "2023-03-02T16:49:34.407Z"
   },
   {
    "duration": 695,
    "start_time": "2023-03-02T16:50:19.923Z"
   },
   {
    "duration": 811,
    "start_time": "2023-03-02T16:52:02.333Z"
   },
   {
    "duration": 76,
    "start_time": "2023-03-02T16:55:24.396Z"
   },
   {
    "duration": 59,
    "start_time": "2023-03-02T16:55:41.545Z"
   },
   {
    "duration": 8,
    "start_time": "2023-03-02T16:56:07.839Z"
   },
   {
    "duration": 57,
    "start_time": "2023-03-02T16:56:12.625Z"
   },
   {
    "duration": 4,
    "start_time": "2023-03-02T16:56:14.624Z"
   },
   {
    "duration": 85,
    "start_time": "2023-03-02T17:18:40.349Z"
   },
   {
    "duration": 4,
    "start_time": "2023-03-02T17:18:43.209Z"
   },
   {
    "duration": 1544,
    "start_time": "2023-03-02T17:19:47.478Z"
   },
   {
    "duration": 1529,
    "start_time": "2023-03-03T06:16:45.955Z"
   },
   {
    "duration": 134,
    "start_time": "2023-03-03T06:16:47.486Z"
   },
   {
    "duration": 3,
    "start_time": "2023-03-03T06:16:47.622Z"
   },
   {
    "duration": 12,
    "start_time": "2023-03-03T06:16:47.627Z"
   },
   {
    "duration": 10,
    "start_time": "2023-03-03T06:16:47.641Z"
   },
   {
    "duration": 212,
    "start_time": "2023-03-03T06:16:47.653Z"
   },
   {
    "duration": 10,
    "start_time": "2023-03-03T06:16:47.867Z"
   },
   {
    "duration": 828,
    "start_time": "2023-03-03T06:16:48.519Z"
   },
   {
    "duration": 222,
    "start_time": "2023-03-03T06:16:49.349Z"
   },
   {
    "duration": 4,
    "start_time": "2023-03-03T06:16:50.289Z"
   },
   {
    "duration": 24,
    "start_time": "2023-03-03T06:16:50.835Z"
   },
   {
    "duration": 8,
    "start_time": "2023-03-03T06:16:52.893Z"
   },
   {
    "duration": 160,
    "start_time": "2023-03-03T06:16:53.252Z"
   },
   {
    "duration": 256,
    "start_time": "2023-03-03T06:16:53.622Z"
   },
   {
    "duration": 10,
    "start_time": "2023-03-03T06:16:54.459Z"
   },
   {
    "duration": 105,
    "start_time": "2023-03-03T06:16:58.087Z"
   },
   {
    "duration": 103,
    "start_time": "2023-03-03T06:17:17.015Z"
   },
   {
    "duration": 8,
    "start_time": "2023-03-03T06:18:15.275Z"
   },
   {
    "duration": 4,
    "start_time": "2023-03-03T06:18:17.838Z"
   },
   {
    "duration": 2,
    "start_time": "2023-03-03T06:19:59.825Z"
   },
   {
    "duration": 3,
    "start_time": "2023-03-03T06:20:16.470Z"
   },
   {
    "duration": 374,
    "start_time": "2023-03-03T06:20:29.772Z"
   },
   {
    "duration": 77,
    "start_time": "2023-03-03T06:22:00.343Z"
   },
   {
    "duration": 14,
    "start_time": "2023-03-03T06:23:22.481Z"
   },
   {
    "duration": 4,
    "start_time": "2023-03-03T06:23:37.808Z"
   },
   {
    "duration": 211299,
    "start_time": "2023-03-03T06:23:48.655Z"
   },
   {
    "duration": 1680,
    "start_time": "2023-03-03T06:27:19.956Z"
   },
   {
    "duration": 167,
    "start_time": "2023-03-03T06:32:56.082Z"
   },
   {
    "duration": 161,
    "start_time": "2023-03-03T06:33:09.387Z"
   },
   {
    "duration": 3,
    "start_time": "2023-03-03T06:33:17.515Z"
   },
   {
    "duration": 43,
    "start_time": "2023-03-03T06:33:17.866Z"
   },
   {
    "duration": 2,
    "start_time": "2023-03-03T06:33:18.165Z"
   },
   {
    "duration": 6,
    "start_time": "2023-03-03T06:33:21.997Z"
   },
   {
    "duration": 10,
    "start_time": "2023-03-03T06:33:22.328Z"
   },
   {
    "duration": 256,
    "start_time": "2023-03-03T06:33:22.420Z"
   },
   {
    "duration": 11,
    "start_time": "2023-03-03T06:33:22.718Z"
   },
   {
    "duration": 673,
    "start_time": "2023-03-03T06:33:23.709Z"
   },
   {
    "duration": 228,
    "start_time": "2023-03-03T06:33:24.384Z"
   },
   {
    "duration": 4,
    "start_time": "2023-03-03T06:33:26.269Z"
   },
   {
    "duration": 24,
    "start_time": "2023-03-03T06:33:27.539Z"
   },
   {
    "duration": 6,
    "start_time": "2023-03-03T06:33:28.599Z"
   },
   {
    "duration": 186,
    "start_time": "2023-03-03T06:33:30.181Z"
   },
   {
    "duration": 359,
    "start_time": "2023-03-03T06:33:30.981Z"
   },
   {
    "duration": 8,
    "start_time": "2023-03-03T06:33:34.054Z"
   },
   {
    "duration": 4,
    "start_time": "2023-03-03T06:33:35.308Z"
   },
   {
    "duration": 3,
    "start_time": "2023-03-03T06:33:37.394Z"
   },
   {
    "duration": 4,
    "start_time": "2023-03-03T06:33:39.463Z"
   },
   {
    "duration": 543,
    "start_time": "2023-03-03T06:33:42.609Z"
   },
   {
    "duration": 88,
    "start_time": "2023-03-03T06:36:37.677Z"
   },
   {
    "duration": 146903,
    "start_time": "2023-03-03T06:37:13.350Z"
   },
   {
    "duration": 1464,
    "start_time": "2023-03-03T06:39:59.556Z"
   },
   {
    "duration": 56,
    "start_time": "2023-03-03T06:40:01.022Z"
   },
   {
    "duration": 2,
    "start_time": "2023-03-03T06:40:01.080Z"
   },
   {
    "duration": 24,
    "start_time": "2023-03-03T06:40:01.084Z"
   },
   {
    "duration": 67,
    "start_time": "2023-03-03T06:40:01.110Z"
   },
   {
    "duration": 249,
    "start_time": "2023-03-03T06:40:01.178Z"
   },
   {
    "duration": 20,
    "start_time": "2023-03-03T06:40:01.429Z"
   },
   {
    "duration": 844,
    "start_time": "2023-03-03T06:40:01.455Z"
   },
   {
    "duration": 257,
    "start_time": "2023-03-03T06:40:02.300Z"
   },
   {
    "duration": 4,
    "start_time": "2023-03-03T06:40:02.559Z"
   },
   {
    "duration": 60,
    "start_time": "2023-03-03T06:40:02.565Z"
   },
   {
    "duration": 144,
    "start_time": "2023-03-03T06:40:02.627Z"
   },
   {
    "duration": 196,
    "start_time": "2023-03-03T06:40:02.772Z"
   },
   {
    "duration": 292,
    "start_time": "2023-03-03T06:40:02.970Z"
   },
   {
    "duration": 7,
    "start_time": "2023-03-03T06:40:03.264Z"
   },
   {
    "duration": 6,
    "start_time": "2023-03-03T06:40:03.272Z"
   },
   {
    "duration": 7,
    "start_time": "2023-03-03T06:40:03.280Z"
   },
   {
    "duration": 552,
    "start_time": "2023-03-03T06:40:03.289Z"
   },
   {
    "duration": 111823,
    "start_time": "2023-03-03T06:40:03.843Z"
   },
   {
    "duration": 90,
    "start_time": "2023-03-03T06:41:55.668Z"
   },
   {
    "duration": 97,
    "start_time": "2023-03-03T06:41:55.759Z"
   },
   {
    "duration": 87,
    "start_time": "2023-03-03T06:42:12.936Z"
   },
   {
    "duration": 1335,
    "start_time": "2023-03-03T06:46:04.453Z"
   },
   {
    "duration": 47,
    "start_time": "2023-03-03T06:46:05.790Z"
   },
   {
    "duration": 3,
    "start_time": "2023-03-03T06:46:05.838Z"
   },
   {
    "duration": 22,
    "start_time": "2023-03-03T06:46:05.843Z"
   },
   {
    "duration": 12,
    "start_time": "2023-03-03T06:46:05.867Z"
   },
   {
    "duration": 216,
    "start_time": "2023-03-03T06:46:05.880Z"
   },
   {
    "duration": 10,
    "start_time": "2023-03-03T06:46:06.097Z"
   },
   {
    "duration": 810,
    "start_time": "2023-03-03T06:46:06.109Z"
   },
   {
    "duration": 218,
    "start_time": "2023-03-03T06:46:06.920Z"
   },
   {
    "duration": 3,
    "start_time": "2023-03-03T06:46:07.141Z"
   },
   {
    "duration": 28,
    "start_time": "2023-03-03T06:46:07.146Z"
   },
   {
    "duration": 8,
    "start_time": "2023-03-03T06:46:07.176Z"
   },
   {
    "duration": 186,
    "start_time": "2023-03-03T06:46:07.186Z"
   },
   {
    "duration": 262,
    "start_time": "2023-03-03T06:46:07.373Z"
   },
   {
    "duration": 8,
    "start_time": "2023-03-03T06:46:07.640Z"
   },
   {
    "duration": 8,
    "start_time": "2023-03-03T06:46:07.650Z"
   },
   {
    "duration": 184,
    "start_time": "2023-03-03T06:46:07.659Z"
   },
   {
    "duration": 2104,
    "start_time": "2023-03-03T06:46:07.844Z"
   },
   {
    "duration": 1681,
    "start_time": "2023-03-03T06:46:09.949Z"
   },
   {
    "duration": 119,
    "start_time": "2023-03-03T06:47:06.391Z"
   },
   {
    "duration": 52811,
    "start_time": "2023-03-03T06:47:22.826Z"
   },
   {
    "duration": 11,
    "start_time": "2023-03-03T06:49:28.736Z"
   },
   {
    "duration": 11,
    "start_time": "2023-03-03T06:49:43.764Z"
   },
   {
    "duration": 18936,
    "start_time": "2023-03-03T06:50:07.429Z"
   },
   {
    "duration": 5,
    "start_time": "2023-03-03T06:51:02.680Z"
   },
   {
    "duration": 306810,
    "start_time": "2023-03-03T06:51:11.825Z"
   },
   {
    "duration": 12011,
    "start_time": "2023-03-03T06:56:18.638Z"
   },
   {
    "duration": 5052,
    "start_time": "2023-03-03T06:56:30.651Z"
   },
   {
    "duration": 3,
    "start_time": "2023-03-03T07:20:50.206Z"
   },
   {
    "duration": 1413,
    "start_time": "2023-03-03T07:24:24.012Z"
   },
   {
    "duration": 47,
    "start_time": "2023-03-03T07:24:25.427Z"
   },
   {
    "duration": 3,
    "start_time": "2023-03-03T07:24:25.475Z"
   },
   {
    "duration": 38,
    "start_time": "2023-03-03T07:24:25.480Z"
   },
   {
    "duration": 43,
    "start_time": "2023-03-03T07:24:25.519Z"
   },
   {
    "duration": 231,
    "start_time": "2023-03-03T07:24:25.564Z"
   },
   {
    "duration": 16,
    "start_time": "2023-03-03T07:24:25.797Z"
   },
   {
    "duration": 841,
    "start_time": "2023-03-03T07:24:25.814Z"
   },
   {
    "duration": 219,
    "start_time": "2023-03-03T07:24:26.657Z"
   },
   {
    "duration": 4,
    "start_time": "2023-03-03T07:24:26.879Z"
   },
   {
    "duration": 31,
    "start_time": "2023-03-03T07:24:26.885Z"
   },
   {
    "duration": 6,
    "start_time": "2023-03-03T07:24:26.918Z"
   },
   {
    "duration": 177,
    "start_time": "2023-03-03T07:24:26.925Z"
   },
   {
    "duration": 278,
    "start_time": "2023-03-03T07:24:27.104Z"
   },
   {
    "duration": 10,
    "start_time": "2023-03-03T07:24:27.384Z"
   },
   {
    "duration": 3,
    "start_time": "2023-03-03T07:24:27.396Z"
   },
   {
    "duration": 307807,
    "start_time": "2023-03-03T07:24:27.401Z"
   },
   {
    "duration": 4286,
    "start_time": "2023-03-03T08:03:22.957Z"
   },
   {
    "duration": 1468,
    "start_time": "2023-03-03T08:03:46.641Z"
   },
   {
    "duration": 46,
    "start_time": "2023-03-03T08:03:48.111Z"
   },
   {
    "duration": 3,
    "start_time": "2023-03-03T08:03:48.158Z"
   },
   {
    "duration": 13,
    "start_time": "2023-03-03T08:03:48.163Z"
   },
   {
    "duration": 12,
    "start_time": "2023-03-03T08:03:48.178Z"
   },
   {
    "duration": 231,
    "start_time": "2023-03-03T08:03:48.192Z"
   },
   {
    "duration": 17,
    "start_time": "2023-03-03T08:03:48.424Z"
   },
   {
    "duration": 805,
    "start_time": "2023-03-03T08:03:48.442Z"
   },
   {
    "duration": 232,
    "start_time": "2023-03-03T08:03:49.249Z"
   },
   {
    "duration": 3,
    "start_time": "2023-03-03T08:03:49.483Z"
   },
   {
    "duration": 27,
    "start_time": "2023-03-03T08:03:49.488Z"
   },
   {
    "duration": 6,
    "start_time": "2023-03-03T08:03:49.517Z"
   },
   {
    "duration": 181,
    "start_time": "2023-03-03T08:03:49.541Z"
   },
   {
    "duration": 283,
    "start_time": "2023-03-03T08:03:49.725Z"
   },
   {
    "duration": 12,
    "start_time": "2023-03-03T08:03:50.010Z"
   },
   {
    "duration": 16,
    "start_time": "2023-03-03T08:03:50.024Z"
   },
   {
    "duration": 306265,
    "start_time": "2023-03-03T08:03:50.042Z"
   },
   {
    "duration": 11342,
    "start_time": "2023-03-03T08:08:56.309Z"
   },
   {
    "duration": 4228,
    "start_time": "2023-03-03T08:09:07.652Z"
   },
   {
    "duration": 31300,
    "start_time": "2023-03-03T08:09:50.149Z"
   },
   {
    "duration": 11277,
    "start_time": "2023-03-03T08:10:55.575Z"
   },
   {
    "duration": 4,
    "start_time": "2023-03-03T08:12:48.475Z"
   },
   {
    "duration": 1386,
    "start_time": "2023-03-03T08:24:24.749Z"
   },
   {
    "duration": 45,
    "start_time": "2023-03-03T08:24:26.137Z"
   },
   {
    "duration": 3,
    "start_time": "2023-03-03T08:24:26.184Z"
   },
   {
    "duration": 12,
    "start_time": "2023-03-03T08:24:26.188Z"
   },
   {
    "duration": 16,
    "start_time": "2023-03-03T08:24:26.202Z"
   },
   {
    "duration": 206,
    "start_time": "2023-03-03T08:24:26.219Z"
   },
   {
    "duration": 18,
    "start_time": "2023-03-03T08:24:26.427Z"
   },
   {
    "duration": 815,
    "start_time": "2023-03-03T08:24:26.446Z"
   },
   {
    "duration": 218,
    "start_time": "2023-03-03T08:24:27.264Z"
   },
   {
    "duration": 4,
    "start_time": "2023-03-03T08:24:27.484Z"
   },
   {
    "duration": 25,
    "start_time": "2023-03-03T08:24:27.490Z"
   },
   {
    "duration": 7,
    "start_time": "2023-03-03T08:24:27.516Z"
   },
   {
    "duration": 179,
    "start_time": "2023-03-03T08:24:27.525Z"
   },
   {
    "duration": 285,
    "start_time": "2023-03-03T08:24:27.707Z"
   },
   {
    "duration": 12,
    "start_time": "2023-03-03T08:24:27.993Z"
   },
   {
    "duration": 4,
    "start_time": "2023-03-03T08:24:28.007Z"
   },
   {
    "duration": 304463,
    "start_time": "2023-03-03T08:24:28.012Z"
   },
   {
    "duration": 4555,
    "start_time": "2023-03-03T08:29:32.478Z"
   },
   {
    "duration": 18715,
    "start_time": "2023-03-03T08:29:37.035Z"
   },
   {
    "duration": 174,
    "start_time": "2023-03-03T08:36:23.019Z"
   },
   {
    "duration": 112,
    "start_time": "2023-03-03T08:37:33.071Z"
   },
   {
    "duration": 79,
    "start_time": "2023-03-03T08:38:13.577Z"
   },
   {
    "duration": 16,
    "start_time": "2023-03-03T08:38:31.869Z"
   },
   {
    "duration": 171,
    "start_time": "2023-03-03T08:39:54.370Z"
   },
   {
    "duration": 163,
    "start_time": "2023-03-03T08:40:24.282Z"
   },
   {
    "duration": 4,
    "start_time": "2023-03-03T08:41:22.085Z"
   },
   {
    "duration": 4,
    "start_time": "2023-03-03T08:43:23.479Z"
   },
   {
    "duration": 3,
    "start_time": "2023-03-03T08:45:21.888Z"
   },
   {
    "duration": 40472,
    "start_time": "2023-03-03T08:45:23.078Z"
   },
   {
    "duration": 292680,
    "start_time": "2023-03-03T08:46:37.265Z"
   },
   {
    "duration": 10,
    "start_time": "2023-03-03T08:51:29.946Z"
   },
   {
    "duration": 1327,
    "start_time": "2023-03-03T08:52:13.768Z"
   },
   {
    "duration": 54,
    "start_time": "2023-03-03T08:52:15.097Z"
   },
   {
    "duration": 2,
    "start_time": "2023-03-03T08:52:15.153Z"
   },
   {
    "duration": 19,
    "start_time": "2023-03-03T08:52:15.156Z"
   },
   {
    "duration": 10,
    "start_time": "2023-03-03T08:52:15.177Z"
   },
   {
    "duration": 207,
    "start_time": "2023-03-03T08:52:15.188Z"
   },
   {
    "duration": 10,
    "start_time": "2023-03-03T08:52:15.397Z"
   },
   {
    "duration": 782,
    "start_time": "2023-03-03T08:52:15.408Z"
   },
   {
    "duration": 286,
    "start_time": "2023-03-03T08:52:16.192Z"
   },
   {
    "duration": 4,
    "start_time": "2023-03-03T08:52:16.479Z"
   },
   {
    "duration": 36,
    "start_time": "2023-03-03T08:52:16.484Z"
   },
   {
    "duration": 6,
    "start_time": "2023-03-03T08:52:16.521Z"
   },
   {
    "duration": 246,
    "start_time": "2023-03-03T08:52:16.529Z"
   },
   {
    "duration": 261,
    "start_time": "2023-03-03T08:52:16.777Z"
   },
   {
    "duration": 19,
    "start_time": "2023-03-03T08:52:17.040Z"
   },
   {
    "duration": 5,
    "start_time": "2023-03-03T08:52:17.061Z"
   },
   {
    "duration": 310054,
    "start_time": "2023-03-03T08:52:17.067Z"
   },
   {
    "duration": 4495,
    "start_time": "2023-03-03T08:57:27.123Z"
   },
   {
    "duration": 3,
    "start_time": "2023-03-03T08:57:31.619Z"
   },
   {
    "duration": 251630,
    "start_time": "2023-03-03T08:57:31.623Z"
   },
   {
    "duration": 4,
    "start_time": "2023-03-03T09:01:43.254Z"
   },
   {
    "duration": 678,
    "start_time": "2023-03-03T09:01:43.259Z"
   },
   {
    "duration": 2606055,
    "start_time": "2023-03-03T09:03:31.298Z"
   },
   {
    "duration": 8,
    "start_time": "2023-03-03T09:46:57.355Z"
   },
   {
    "duration": 51642,
    "start_time": "2023-03-03T09:47:15.405Z"
   },
   {
    "duration": 3,
    "start_time": "2023-03-03T09:52:18.431Z"
   },
   {
    "duration": 766955,
    "start_time": "2023-03-03T09:52:52.794Z"
   },
   {
    "duration": 4,
    "start_time": "2023-03-03T10:05:39.751Z"
   },
   {
    "duration": 690085,
    "start_time": "2023-03-03T10:38:20.159Z"
   },
   {
    "duration": 34375,
    "start_time": "2023-03-03T10:49:53.249Z"
   },
   {
    "duration": 8,
    "start_time": "2023-03-03T10:50:27.625Z"
   },
   {
    "duration": 1379,
    "start_time": "2023-03-03T10:50:48.022Z"
   },
   {
    "duration": 49,
    "start_time": "2023-03-03T10:50:49.403Z"
   },
   {
    "duration": 3,
    "start_time": "2023-03-03T10:50:49.456Z"
   },
   {
    "duration": 13,
    "start_time": "2023-03-03T10:50:49.460Z"
   },
   {
    "duration": 13,
    "start_time": "2023-03-03T10:50:49.474Z"
   },
   {
    "duration": 226,
    "start_time": "2023-03-03T10:50:49.488Z"
   },
   {
    "duration": 11,
    "start_time": "2023-03-03T10:50:49.716Z"
   },
   {
    "duration": 795,
    "start_time": "2023-03-03T10:50:49.728Z"
   },
   {
    "duration": 287,
    "start_time": "2023-03-03T10:50:50.527Z"
   },
   {
    "duration": 3,
    "start_time": "2023-03-03T10:50:50.816Z"
   },
   {
    "duration": 35,
    "start_time": "2023-03-03T10:50:50.821Z"
   },
   {
    "duration": 6,
    "start_time": "2023-03-03T10:50:50.858Z"
   },
   {
    "duration": 170,
    "start_time": "2023-03-03T10:50:50.865Z"
   },
   {
    "duration": 275,
    "start_time": "2023-03-03T10:50:51.039Z"
   },
   {
    "duration": 12,
    "start_time": "2023-03-03T10:50:51.316Z"
   },
   {
    "duration": 13,
    "start_time": "2023-03-03T10:50:51.329Z"
   },
   {
    "duration": 296736,
    "start_time": "2023-03-03T10:50:51.343Z"
   },
   {
    "duration": 4323,
    "start_time": "2023-03-03T10:55:48.081Z"
   },
   {
    "duration": 11,
    "start_time": "2023-03-03T10:55:52.407Z"
   },
   {
    "duration": 323537,
    "start_time": "2023-03-03T10:55:52.420Z"
   },
   {
    "duration": 5,
    "start_time": "2023-03-03T11:01:16.039Z"
   },
   {
    "duration": 765,
    "start_time": "2023-03-03T11:01:16.046Z"
   },
   {
    "duration": 884,
    "start_time": "2023-03-03T11:14:17.756Z"
   },
   {
    "duration": 101,
    "start_time": "2023-03-03T11:15:13.553Z"
   },
   {
    "duration": 101,
    "start_time": "2023-03-03T11:15:32.391Z"
   },
   {
    "duration": 9,
    "start_time": "2023-03-03T11:15:39.647Z"
   },
   {
    "duration": 10,
    "start_time": "2023-03-03T11:17:44.658Z"
   },
   {
    "duration": 30,
    "start_time": "2023-03-03T11:19:16.419Z"
   },
   {
    "duration": 18,
    "start_time": "2023-03-03T11:24:24.929Z"
   },
   {
    "duration": 6,
    "start_time": "2023-03-03T11:24:53.834Z"
   },
   {
    "duration": 8,
    "start_time": "2023-03-03T11:25:26.250Z"
   },
   {
    "duration": 297,
    "start_time": "2023-03-03T11:27:45.650Z"
   },
   {
    "duration": 8,
    "start_time": "2023-03-03T11:28:55.618Z"
   },
   {
    "duration": 68,
    "start_time": "2023-03-03T11:29:05.825Z"
   },
   {
    "duration": 8,
    "start_time": "2023-03-03T11:36:19.437Z"
   },
   {
    "duration": 9,
    "start_time": "2023-03-03T11:38:24.139Z"
   },
   {
    "duration": 14,
    "start_time": "2023-03-03T11:38:40.186Z"
   },
   {
    "duration": 16,
    "start_time": "2023-03-03T11:39:31.094Z"
   },
   {
    "duration": 5,
    "start_time": "2023-03-03T11:39:31.583Z"
   },
   {
    "duration": 14,
    "start_time": "2023-03-03T11:39:33.917Z"
   },
   {
    "duration": 18,
    "start_time": "2023-03-03T11:44:58.545Z"
   },
   {
    "duration": 4,
    "start_time": "2023-03-03T11:47:55.056Z"
   },
   {
    "duration": 8,
    "start_time": "2023-03-03T11:49:46.669Z"
   },
   {
    "duration": 9,
    "start_time": "2023-03-03T11:49:59.511Z"
   },
   {
    "duration": 9,
    "start_time": "2023-03-03T11:58:47.723Z"
   },
   {
    "duration": 3,
    "start_time": "2023-03-03T11:59:26.330Z"
   },
   {
    "duration": 10,
    "start_time": "2023-03-03T12:00:53.169Z"
   },
   {
    "duration": 4,
    "start_time": "2023-03-03T12:01:12.629Z"
   },
   {
    "duration": 9,
    "start_time": "2023-03-03T12:02:17.465Z"
   },
   {
    "duration": 3,
    "start_time": "2023-03-03T12:02:27.236Z"
   },
   {
    "duration": 3,
    "start_time": "2023-03-03T12:02:46.370Z"
   },
   {
    "duration": 4,
    "start_time": "2023-03-03T12:10:01.968Z"
   },
   {
    "duration": 3,
    "start_time": "2023-03-03T12:12:55.468Z"
   },
   {
    "duration": 3,
    "start_time": "2023-03-03T12:16:09.819Z"
   },
   {
    "duration": 3,
    "start_time": "2023-03-03T12:18:16.819Z"
   },
   {
    "duration": 3,
    "start_time": "2023-03-03T12:19:10.643Z"
   },
   {
    "duration": 10,
    "start_time": "2023-03-03T12:20:44.461Z"
   },
   {
    "duration": 3,
    "start_time": "2023-03-03T12:21:35.326Z"
   },
   {
    "duration": 72,
    "start_time": "2023-03-03T12:21:37.122Z"
   },
   {
    "duration": 3,
    "start_time": "2023-03-03T12:22:34.994Z"
   },
   {
    "duration": 4,
    "start_time": "2023-03-03T12:49:27.654Z"
   },
   {
    "duration": 4,
    "start_time": "2023-03-03T12:49:39.360Z"
   },
   {
    "duration": 17,
    "start_time": "2023-03-03T12:49:42.602Z"
   },
   {
    "duration": 4,
    "start_time": "2023-03-03T12:49:53.472Z"
   },
   {
    "duration": 138429,
    "start_time": "2023-03-03T12:52:16.309Z"
   },
   {
    "duration": 13,
    "start_time": "2023-03-03T12:56:20.734Z"
   },
   {
    "duration": 16,
    "start_time": "2023-03-03T12:56:41.835Z"
   },
   {
    "duration": 7,
    "start_time": "2023-03-03T12:56:56.920Z"
   },
   {
    "duration": 9,
    "start_time": "2023-03-03T12:57:02.967Z"
   },
   {
    "duration": 1431,
    "start_time": "2023-03-03T12:58:35.715Z"
   },
   {
    "duration": 47,
    "start_time": "2023-03-03T12:58:37.148Z"
   },
   {
    "duration": 3,
    "start_time": "2023-03-03T12:58:37.197Z"
   },
   {
    "duration": 11,
    "start_time": "2023-03-03T12:58:37.202Z"
   },
   {
    "duration": 12,
    "start_time": "2023-03-03T12:58:37.215Z"
   },
   {
    "duration": 207,
    "start_time": "2023-03-03T12:58:37.228Z"
   },
   {
    "duration": 10,
    "start_time": "2023-03-03T12:58:37.439Z"
   },
   {
    "duration": 756,
    "start_time": "2023-03-03T12:58:37.451Z"
   },
   {
    "duration": 247,
    "start_time": "2023-03-03T12:58:38.209Z"
   },
   {
    "duration": 5,
    "start_time": "2023-03-03T12:58:38.460Z"
   },
   {
    "duration": 44,
    "start_time": "2023-03-03T12:58:38.467Z"
   },
   {
    "duration": 7,
    "start_time": "2023-03-03T12:58:38.513Z"
   },
   {
    "duration": 210,
    "start_time": "2023-03-03T12:58:38.522Z"
   },
   {
    "duration": 292,
    "start_time": "2023-03-03T12:58:38.740Z"
   },
   {
    "duration": 12,
    "start_time": "2023-03-03T12:58:39.039Z"
   },
   {
    "duration": 3,
    "start_time": "2023-03-03T12:58:39.053Z"
   },
   {
    "duration": 156328,
    "start_time": "2023-03-03T12:58:39.058Z"
   },
   {
    "duration": 82,
    "start_time": "2023-03-03T13:01:15.388Z"
   },
   {
    "duration": 4,
    "start_time": "2023-03-03T13:01:15.471Z"
   },
   {
    "duration": 1372,
    "start_time": "2023-03-03T13:02:49.468Z"
   },
   {
    "duration": 47,
    "start_time": "2023-03-03T13:02:50.842Z"
   },
   {
    "duration": 3,
    "start_time": "2023-03-03T13:02:50.891Z"
   },
   {
    "duration": 22,
    "start_time": "2023-03-03T13:02:50.895Z"
   },
   {
    "duration": 13,
    "start_time": "2023-03-03T13:02:50.920Z"
   },
   {
    "duration": 209,
    "start_time": "2023-03-03T13:02:50.935Z"
   },
   {
    "duration": 10,
    "start_time": "2023-03-03T13:02:51.146Z"
   },
   {
    "duration": 836,
    "start_time": "2023-03-03T13:02:51.159Z"
   },
   {
    "duration": 243,
    "start_time": "2023-03-03T13:02:51.997Z"
   },
   {
    "duration": 4,
    "start_time": "2023-03-03T13:02:52.242Z"
   },
   {
    "duration": 37,
    "start_time": "2023-03-03T13:02:52.248Z"
   },
   {
    "duration": 7,
    "start_time": "2023-03-03T13:02:52.287Z"
   },
   {
    "duration": 244,
    "start_time": "2023-03-03T13:02:52.296Z"
   },
   {
    "duration": 307,
    "start_time": "2023-03-03T13:02:52.543Z"
   },
   {
    "duration": 11,
    "start_time": "2023-03-03T13:02:52.852Z"
   },
   {
    "duration": 6,
    "start_time": "2023-03-03T13:02:52.865Z"
   },
   {
    "duration": 18677,
    "start_time": "2023-03-03T13:02:52.872Z"
   },
   {
    "duration": 297312,
    "start_time": "2023-03-03T13:03:11.550Z"
   },
   {
    "duration": 4632,
    "start_time": "2023-03-03T13:08:08.863Z"
   },
   {
    "duration": 3,
    "start_time": "2023-03-03T13:08:13.497Z"
   },
   {
    "duration": 183,
    "start_time": "2023-03-03T13:08:13.502Z"
   },
   {
    "duration": 11,
    "start_time": "2023-03-03T13:08:13.687Z"
   },
   {
    "duration": 0,
    "start_time": "2023-03-03T13:08:13.700Z"
   },
   {
    "duration": 0,
    "start_time": "2023-03-03T13:08:13.701Z"
   },
   {
    "duration": 0,
    "start_time": "2023-03-03T13:08:13.702Z"
   },
   {
    "duration": 0,
    "start_time": "2023-03-03T13:08:13.702Z"
   },
   {
    "duration": 0,
    "start_time": "2023-03-03T13:08:13.703Z"
   },
   {
    "duration": 0,
    "start_time": "2023-03-03T13:08:13.704Z"
   },
   {
    "duration": 0,
    "start_time": "2023-03-03T13:08:13.706Z"
   },
   {
    "duration": 0,
    "start_time": "2023-03-03T13:08:13.707Z"
   },
   {
    "duration": 0,
    "start_time": "2023-03-03T13:08:13.708Z"
   },
   {
    "duration": 0,
    "start_time": "2023-03-03T13:08:13.710Z"
   },
   {
    "duration": 0,
    "start_time": "2023-03-03T13:08:13.711Z"
   },
   {
    "duration": 0,
    "start_time": "2023-03-03T13:08:13.712Z"
   },
   {
    "duration": 0,
    "start_time": "2023-03-03T13:08:13.713Z"
   },
   {
    "duration": 0,
    "start_time": "2023-03-03T13:08:13.714Z"
   },
   {
    "duration": 0,
    "start_time": "2023-03-03T13:08:13.715Z"
   },
   {
    "duration": 0,
    "start_time": "2023-03-03T13:08:13.717Z"
   },
   {
    "duration": 0,
    "start_time": "2023-03-03T13:08:13.718Z"
   },
   {
    "duration": 0,
    "start_time": "2023-03-03T13:08:13.719Z"
   },
   {
    "duration": 0,
    "start_time": "2023-03-03T13:08:13.720Z"
   },
   {
    "duration": 0,
    "start_time": "2023-03-03T13:08:13.722Z"
   },
   {
    "duration": 0,
    "start_time": "2023-03-03T13:08:13.723Z"
   },
   {
    "duration": 0,
    "start_time": "2023-03-03T13:08:13.725Z"
   },
   {
    "duration": 0,
    "start_time": "2023-03-03T13:08:13.726Z"
   },
   {
    "duration": 0,
    "start_time": "2023-03-03T13:08:13.727Z"
   },
   {
    "duration": 8,
    "start_time": "2023-03-03T13:17:17.593Z"
   },
   {
    "duration": 95,
    "start_time": "2023-03-03T13:17:24.322Z"
   },
   {
    "duration": 3,
    "start_time": "2023-03-03T13:17:35.156Z"
   },
   {
    "duration": 77,
    "start_time": "2023-03-03T13:17:36.460Z"
   },
   {
    "duration": 79,
    "start_time": "2023-03-03T13:18:14.814Z"
   },
   {
    "duration": 390365,
    "start_time": "2023-03-03T13:18:36.660Z"
   },
   {
    "duration": 10,
    "start_time": "2023-03-03T13:25:07.027Z"
   },
   {
    "duration": 0,
    "start_time": "2023-03-03T13:25:07.039Z"
   },
   {
    "duration": 33072,
    "start_time": "2023-03-03T13:25:21.768Z"
   },
   {
    "duration": 8,
    "start_time": "2023-03-03T13:25:54.842Z"
   },
   {
    "duration": 10,
    "start_time": "2023-03-03T13:28:20.479Z"
   },
   {
    "duration": 2,
    "start_time": "2023-03-03T13:30:59.512Z"
   },
   {
    "duration": 10,
    "start_time": "2023-03-03T13:31:00.865Z"
   },
   {
    "duration": 4,
    "start_time": "2023-03-03T13:31:43.404Z"
   },
   {
    "duration": 42834,
    "start_time": "2023-03-03T13:33:03.997Z"
   },
   {
    "duration": 82,
    "start_time": "2023-03-03T13:33:54.775Z"
   },
   {
    "duration": 3,
    "start_time": "2023-03-03T13:34:36.068Z"
   },
   {
    "duration": 305890,
    "start_time": "2023-03-03T13:34:36.966Z"
   },
   {
    "duration": 1415,
    "start_time": "2023-03-03T13:39:58.020Z"
   },
   {
    "duration": 45,
    "start_time": "2023-03-03T13:39:59.437Z"
   },
   {
    "duration": 3,
    "start_time": "2023-03-03T13:39:59.483Z"
   },
   {
    "duration": 15,
    "start_time": "2023-03-03T13:39:59.489Z"
   },
   {
    "duration": 16,
    "start_time": "2023-03-03T13:39:59.506Z"
   },
   {
    "duration": 239,
    "start_time": "2023-03-03T13:39:59.524Z"
   },
   {
    "duration": 14,
    "start_time": "2023-03-03T13:39:59.765Z"
   },
   {
    "duration": 775,
    "start_time": "2023-03-03T13:39:59.780Z"
   },
   {
    "duration": 226,
    "start_time": "2023-03-03T13:40:00.558Z"
   },
   {
    "duration": 4,
    "start_time": "2023-03-03T13:40:00.787Z"
   },
   {
    "duration": 51,
    "start_time": "2023-03-03T13:40:00.792Z"
   },
   {
    "duration": 30,
    "start_time": "2023-03-03T13:40:00.844Z"
   },
   {
    "duration": 189,
    "start_time": "2023-03-03T13:40:00.877Z"
   },
   {
    "duration": 268,
    "start_time": "2023-03-03T13:40:01.068Z"
   },
   {
    "duration": 11,
    "start_time": "2023-03-03T13:40:01.340Z"
   },
   {
    "duration": 14,
    "start_time": "2023-03-03T13:40:01.353Z"
   },
   {
    "duration": 19080,
    "start_time": "2023-03-03T13:40:01.369Z"
   },
   {
    "duration": 297381,
    "start_time": "2023-03-03T13:40:20.450Z"
   },
   {
    "duration": 4678,
    "start_time": "2023-03-03T13:45:17.833Z"
   },
   {
    "duration": 3,
    "start_time": "2023-03-03T13:45:22.513Z"
   },
   {
    "duration": 1049345,
    "start_time": "2023-03-03T13:45:22.518Z"
   },
   {
    "duration": 73,
    "start_time": "2023-03-03T14:02:51.864Z"
   },
   {
    "duration": 8,
    "start_time": "2023-03-03T14:02:51.939Z"
   },
   {
    "duration": 9,
    "start_time": "2023-03-03T14:02:51.948Z"
   },
   {
    "duration": 0,
    "start_time": "2023-03-03T14:02:51.959Z"
   },
   {
    "duration": 0,
    "start_time": "2023-03-03T14:02:51.960Z"
   },
   {
    "duration": 0,
    "start_time": "2023-03-03T14:02:51.963Z"
   },
   {
    "duration": 0,
    "start_time": "2023-03-03T14:02:51.964Z"
   },
   {
    "duration": 0,
    "start_time": "2023-03-03T14:02:51.964Z"
   },
   {
    "duration": 0,
    "start_time": "2023-03-03T14:02:51.965Z"
   },
   {
    "duration": 0,
    "start_time": "2023-03-03T14:02:51.966Z"
   },
   {
    "duration": 0,
    "start_time": "2023-03-03T14:02:51.967Z"
   },
   {
    "duration": 0,
    "start_time": "2023-03-03T14:02:51.968Z"
   },
   {
    "duration": 0,
    "start_time": "2023-03-03T14:02:51.969Z"
   },
   {
    "duration": 0,
    "start_time": "2023-03-03T14:02:51.970Z"
   },
   {
    "duration": 0,
    "start_time": "2023-03-03T14:02:51.971Z"
   },
   {
    "duration": 0,
    "start_time": "2023-03-03T14:02:51.971Z"
   },
   {
    "duration": 0,
    "start_time": "2023-03-03T14:02:51.972Z"
   },
   {
    "duration": 0,
    "start_time": "2023-03-03T14:02:51.973Z"
   },
   {
    "duration": 0,
    "start_time": "2023-03-03T14:02:51.974Z"
   },
   {
    "duration": 0,
    "start_time": "2023-03-03T14:02:51.975Z"
   },
   {
    "duration": 0,
    "start_time": "2023-03-03T14:02:51.976Z"
   },
   {
    "duration": 0,
    "start_time": "2023-03-03T14:02:51.977Z"
   },
   {
    "duration": 0,
    "start_time": "2023-03-03T14:02:51.978Z"
   },
   {
    "duration": 4,
    "start_time": "2023-03-03T14:05:28.930Z"
   },
   {
    "duration": 1510,
    "start_time": "2023-03-03T14:08:51.249Z"
   },
   {
    "duration": 47,
    "start_time": "2023-03-03T14:08:52.761Z"
   },
   {
    "duration": 3,
    "start_time": "2023-03-03T14:08:52.809Z"
   },
   {
    "duration": 14,
    "start_time": "2023-03-03T14:08:52.813Z"
   },
   {
    "duration": 12,
    "start_time": "2023-03-03T14:08:52.829Z"
   },
   {
    "duration": 234,
    "start_time": "2023-03-03T14:08:52.843Z"
   },
   {
    "duration": 9,
    "start_time": "2023-03-03T14:08:53.079Z"
   },
   {
    "duration": 849,
    "start_time": "2023-03-03T14:08:53.090Z"
   },
   {
    "duration": 240,
    "start_time": "2023-03-03T14:08:53.941Z"
   },
   {
    "duration": 3,
    "start_time": "2023-03-03T14:08:54.183Z"
   },
   {
    "duration": 39,
    "start_time": "2023-03-03T14:08:54.188Z"
   },
   {
    "duration": 6,
    "start_time": "2023-03-03T14:08:54.229Z"
   },
   {
    "duration": 179,
    "start_time": "2023-03-03T14:08:54.237Z"
   },
   {
    "duration": 281,
    "start_time": "2023-03-03T14:08:54.420Z"
   },
   {
    "duration": 11,
    "start_time": "2023-03-03T14:08:54.703Z"
   },
   {
    "duration": 5,
    "start_time": "2023-03-03T14:08:54.716Z"
   },
   {
    "duration": 19109,
    "start_time": "2023-03-03T14:08:54.723Z"
   },
   {
    "duration": 179863,
    "start_time": "2023-03-03T14:09:13.833Z"
   },
   {
    "duration": 73,
    "start_time": "2023-03-03T14:12:13.698Z"
   },
   {
    "duration": 3,
    "start_time": "2023-03-03T14:12:13.772Z"
   },
   {
    "duration": 1543,
    "start_time": "2023-03-03T14:12:34.378Z"
   },
   {
    "duration": 49,
    "start_time": "2023-03-03T14:12:35.923Z"
   },
   {
    "duration": 3,
    "start_time": "2023-03-03T14:12:35.973Z"
   },
   {
    "duration": 13,
    "start_time": "2023-03-03T14:12:35.979Z"
   },
   {
    "duration": 18,
    "start_time": "2023-03-03T14:12:35.995Z"
   },
   {
    "duration": 273,
    "start_time": "2023-03-03T14:12:36.015Z"
   },
   {
    "duration": 12,
    "start_time": "2023-03-03T14:12:36.290Z"
   },
   {
    "duration": 995,
    "start_time": "2023-03-03T14:12:36.304Z"
   },
   {
    "duration": 280,
    "start_time": "2023-03-03T14:12:37.301Z"
   },
   {
    "duration": 5,
    "start_time": "2023-03-03T14:12:37.586Z"
   },
   {
    "duration": 49,
    "start_time": "2023-03-03T14:12:37.593Z"
   },
   {
    "duration": 9,
    "start_time": "2023-03-03T14:12:37.645Z"
   },
   {
    "duration": 200,
    "start_time": "2023-03-03T14:12:37.656Z"
   },
   {
    "duration": 297,
    "start_time": "2023-03-03T14:12:37.857Z"
   },
   {
    "duration": 14,
    "start_time": "2023-03-03T14:12:38.156Z"
   },
   {
    "duration": 4,
    "start_time": "2023-03-03T14:12:38.172Z"
   },
   {
    "duration": 20568,
    "start_time": "2023-03-03T14:12:38.178Z"
   },
   {
    "duration": 301057,
    "start_time": "2023-03-03T14:12:58.748Z"
   },
   {
    "duration": 5026,
    "start_time": "2023-03-03T14:17:59.807Z"
   },
   {
    "duration": 3,
    "start_time": "2023-03-03T14:18:04.836Z"
   },
   {
    "duration": 1855,
    "start_time": "2023-03-03T14:27:38.929Z"
   },
   {
    "duration": 58,
    "start_time": "2023-03-03T14:27:40.786Z"
   },
   {
    "duration": 3,
    "start_time": "2023-03-03T14:27:40.847Z"
   },
   {
    "duration": 23,
    "start_time": "2023-03-03T14:27:40.852Z"
   },
   {
    "duration": 21,
    "start_time": "2023-03-03T14:27:40.878Z"
   },
   {
    "duration": 340,
    "start_time": "2023-03-03T14:27:40.901Z"
   },
   {
    "duration": 14,
    "start_time": "2023-03-03T14:27:41.247Z"
   },
   {
    "duration": 1164,
    "start_time": "2023-03-03T14:27:41.263Z"
   },
   {
    "duration": 362,
    "start_time": "2023-03-03T14:27:42.429Z"
   },
   {
    "duration": 5,
    "start_time": "2023-03-03T14:27:42.795Z"
   },
   {
    "duration": 99,
    "start_time": "2023-03-03T14:27:42.802Z"
   },
   {
    "duration": 9,
    "start_time": "2023-03-03T14:27:42.903Z"
   },
   {
    "duration": 283,
    "start_time": "2023-03-03T14:27:42.915Z"
   },
   {
    "duration": 435,
    "start_time": "2023-03-03T14:27:43.201Z"
   },
   {
    "duration": 15,
    "start_time": "2023-03-03T14:27:43.638Z"
   },
   {
    "duration": 9,
    "start_time": "2023-03-03T14:27:43.655Z"
   },
   {
    "duration": 24869,
    "start_time": "2023-03-03T14:27:43.666Z"
   },
   {
    "duration": 310654,
    "start_time": "2023-03-03T14:28:08.540Z"
   },
   {
    "duration": 5096,
    "start_time": "2023-03-03T14:33:19.196Z"
   },
   {
    "duration": 3,
    "start_time": "2023-03-03T14:33:24.294Z"
   },
   {
    "duration": 171334,
    "start_time": "2023-03-03T14:33:24.299Z"
   },
   {
    "duration": 12,
    "start_time": "2023-03-03T14:36:15.636Z"
   },
   {
    "duration": 0,
    "start_time": "2023-03-03T14:36:15.650Z"
   },
   {
    "duration": 0,
    "start_time": "2023-03-03T14:36:15.651Z"
   },
   {
    "duration": 0,
    "start_time": "2023-03-03T14:36:15.652Z"
   },
   {
    "duration": 0,
    "start_time": "2023-03-03T14:36:15.653Z"
   },
   {
    "duration": 0,
    "start_time": "2023-03-03T14:36:15.653Z"
   },
   {
    "duration": 0,
    "start_time": "2023-03-03T14:36:15.655Z"
   },
   {
    "duration": 1,
    "start_time": "2023-03-03T14:36:15.656Z"
   },
   {
    "duration": 0,
    "start_time": "2023-03-03T14:36:15.658Z"
   },
   {
    "duration": 0,
    "start_time": "2023-03-03T14:36:15.659Z"
   },
   {
    "duration": 0,
    "start_time": "2023-03-03T14:36:15.660Z"
   },
   {
    "duration": 0,
    "start_time": "2023-03-03T14:36:15.661Z"
   },
   {
    "duration": 0,
    "start_time": "2023-03-03T14:36:15.662Z"
   },
   {
    "duration": 0,
    "start_time": "2023-03-03T14:36:15.663Z"
   },
   {
    "duration": 0,
    "start_time": "2023-03-03T14:36:15.664Z"
   },
   {
    "duration": 0,
    "start_time": "2023-03-03T14:36:15.665Z"
   },
   {
    "duration": 0,
    "start_time": "2023-03-03T14:36:15.666Z"
   },
   {
    "duration": 0,
    "start_time": "2023-03-03T14:36:15.667Z"
   },
   {
    "duration": 0,
    "start_time": "2023-03-03T14:36:15.668Z"
   },
   {
    "duration": 0,
    "start_time": "2023-03-03T14:36:15.669Z"
   },
   {
    "duration": 0,
    "start_time": "2023-03-03T14:36:15.670Z"
   },
   {
    "duration": 0,
    "start_time": "2023-03-03T14:36:15.671Z"
   },
   {
    "duration": 0,
    "start_time": "2023-03-03T14:36:15.672Z"
   },
   {
    "duration": 0,
    "start_time": "2023-03-03T14:36:15.673Z"
   },
   {
    "duration": 0,
    "start_time": "2023-03-03T14:36:15.674Z"
   },
   {
    "duration": 6,
    "start_time": "2023-03-03T14:38:31.573Z"
   },
   {
    "duration": 116,
    "start_time": "2023-03-03T14:40:34.411Z"
   },
   {
    "duration": 86,
    "start_time": "2023-03-03T14:41:10.091Z"
   },
   {
    "duration": 179,
    "start_time": "2023-03-03T14:42:43.164Z"
   },
   {
    "duration": 10,
    "start_time": "2023-03-03T14:43:20.203Z"
   },
   {
    "duration": 5,
    "start_time": "2023-03-03T14:43:59.205Z"
   },
   {
    "duration": 174,
    "start_time": "2023-03-03T14:44:06.974Z"
   },
   {
    "duration": 6,
    "start_time": "2023-03-03T14:46:18.167Z"
   },
   {
    "duration": 15181,
    "start_time": "2023-03-03T14:47:06.505Z"
   },
   {
    "duration": 2,
    "start_time": "2023-03-03T14:50:05.084Z"
   },
   {
    "duration": 465,
    "start_time": "2023-03-03T14:50:05.088Z"
   },
   {
    "duration": 3330,
    "start_time": "2023-03-03T14:50:05.556Z"
   },
   {
    "duration": 1527,
    "start_time": "2023-03-03T14:50:23.165Z"
   },
   {
    "duration": 49,
    "start_time": "2023-03-03T14:50:24.694Z"
   },
   {
    "duration": 9,
    "start_time": "2023-03-03T14:50:24.745Z"
   },
   {
    "duration": 43,
    "start_time": "2023-03-03T14:50:24.758Z"
   },
   {
    "duration": 20,
    "start_time": "2023-03-03T14:50:24.804Z"
   },
   {
    "duration": 248,
    "start_time": "2023-03-03T14:50:24.826Z"
   },
   {
    "duration": 11,
    "start_time": "2023-03-03T14:50:25.079Z"
   },
   {
    "duration": 882,
    "start_time": "2023-03-03T14:50:25.092Z"
   },
   {
    "duration": 236,
    "start_time": "2023-03-03T14:50:25.976Z"
   },
   {
    "duration": 4,
    "start_time": "2023-03-03T14:50:26.213Z"
   },
   {
    "duration": 41,
    "start_time": "2023-03-03T14:50:26.219Z"
   },
   {
    "duration": 7,
    "start_time": "2023-03-03T14:50:26.261Z"
   },
   {
    "duration": 192,
    "start_time": "2023-03-03T14:50:26.270Z"
   },
   {
    "duration": 316,
    "start_time": "2023-03-03T14:50:26.465Z"
   },
   {
    "duration": 12,
    "start_time": "2023-03-03T14:50:26.783Z"
   },
   {
    "duration": 5,
    "start_time": "2023-03-03T14:50:26.796Z"
   },
   {
    "duration": 21320,
    "start_time": "2023-03-03T14:50:26.803Z"
   },
   {
    "duration": 184111,
    "start_time": "2023-03-03T14:50:48.125Z"
   },
   {
    "duration": 95,
    "start_time": "2023-03-03T14:53:52.238Z"
   },
   {
    "duration": 4,
    "start_time": "2023-03-03T14:53:52.334Z"
   },
   {
    "duration": 137,
    "start_time": "2023-03-03T14:53:52.339Z"
   },
   {
    "duration": 99,
    "start_time": "2023-03-03T14:53:52.478Z"
   },
   {
    "duration": 90,
    "start_time": "2023-03-03T14:53:52.580Z"
   },
   {
    "duration": 11,
    "start_time": "2023-03-03T14:53:52.672Z"
   },
   {
    "duration": 0,
    "start_time": "2023-03-03T14:53:52.686Z"
   },
   {
    "duration": 0,
    "start_time": "2023-03-03T14:53:52.687Z"
   },
   {
    "duration": 0,
    "start_time": "2023-03-03T14:53:52.689Z"
   },
   {
    "duration": 0,
    "start_time": "2023-03-03T14:53:52.690Z"
   },
   {
    "duration": 0,
    "start_time": "2023-03-03T14:53:52.691Z"
   },
   {
    "duration": 0,
    "start_time": "2023-03-03T14:53:52.693Z"
   },
   {
    "duration": 0,
    "start_time": "2023-03-03T14:53:52.695Z"
   },
   {
    "duration": 0,
    "start_time": "2023-03-03T14:53:52.696Z"
   },
   {
    "duration": 0,
    "start_time": "2023-03-03T14:53:52.697Z"
   },
   {
    "duration": 0,
    "start_time": "2023-03-03T14:53:52.698Z"
   },
   {
    "duration": 0,
    "start_time": "2023-03-03T14:53:52.699Z"
   },
   {
    "duration": 0,
    "start_time": "2023-03-03T14:53:52.699Z"
   },
   {
    "duration": 0,
    "start_time": "2023-03-03T14:53:52.700Z"
   },
   {
    "duration": 0,
    "start_time": "2023-03-03T14:53:52.701Z"
   },
   {
    "duration": 0,
    "start_time": "2023-03-03T14:53:52.702Z"
   },
   {
    "duration": 0,
    "start_time": "2023-03-03T14:53:52.702Z"
   },
   {
    "duration": 0,
    "start_time": "2023-03-03T14:53:52.704Z"
   },
   {
    "duration": 0,
    "start_time": "2023-03-03T14:53:52.705Z"
   },
   {
    "duration": 0,
    "start_time": "2023-03-03T14:53:52.706Z"
   },
   {
    "duration": 0,
    "start_time": "2023-03-03T14:53:52.707Z"
   },
   {
    "duration": 0,
    "start_time": "2023-03-03T14:53:52.708Z"
   },
   {
    "duration": 1424,
    "start_time": "2023-03-03T14:54:07.463Z"
   },
   {
    "duration": 46,
    "start_time": "2023-03-03T14:54:08.889Z"
   },
   {
    "duration": 3,
    "start_time": "2023-03-03T14:54:08.937Z"
   },
   {
    "duration": 47,
    "start_time": "2023-03-03T14:54:08.942Z"
   },
   {
    "duration": 12,
    "start_time": "2023-03-03T14:54:08.990Z"
   },
   {
    "duration": 230,
    "start_time": "2023-03-03T14:54:09.004Z"
   },
   {
    "duration": 26,
    "start_time": "2023-03-03T14:54:09.236Z"
   },
   {
    "duration": 893,
    "start_time": "2023-03-03T14:54:09.264Z"
   },
   {
    "duration": 233,
    "start_time": "2023-03-03T14:54:10.165Z"
   },
   {
    "duration": 3,
    "start_time": "2023-03-03T14:54:10.401Z"
   },
   {
    "duration": 27,
    "start_time": "2023-03-03T14:54:10.405Z"
   },
   {
    "duration": 11,
    "start_time": "2023-03-03T14:54:10.441Z"
   },
   {
    "duration": 196,
    "start_time": "2023-03-03T14:54:10.453Z"
   },
   {
    "duration": 293,
    "start_time": "2023-03-03T14:54:10.658Z"
   },
   {
    "duration": 12,
    "start_time": "2023-03-03T14:54:10.952Z"
   },
   {
    "duration": 3,
    "start_time": "2023-03-03T14:54:10.966Z"
   },
   {
    "duration": 20426,
    "start_time": "2023-03-03T14:54:10.970Z"
   },
   {
    "duration": 322170,
    "start_time": "2023-03-03T14:54:31.397Z"
   },
   {
    "duration": 4807,
    "start_time": "2023-03-03T14:59:53.569Z"
   },
   {
    "duration": 3,
    "start_time": "2023-03-03T14:59:58.378Z"
   },
   {
    "duration": 215,
    "start_time": "2023-03-03T14:59:58.383Z"
   },
   {
    "duration": 88,
    "start_time": "2023-03-03T14:59:58.599Z"
   },
   {
    "duration": 78,
    "start_time": "2023-03-03T14:59:58.688Z"
   },
   {
    "duration": 8,
    "start_time": "2023-03-03T14:59:58.772Z"
   },
   {
    "duration": 9,
    "start_time": "2023-03-03T14:59:58.781Z"
   },
   {
    "duration": 0,
    "start_time": "2023-03-03T14:59:58.792Z"
   },
   {
    "duration": 0,
    "start_time": "2023-03-03T14:59:58.793Z"
   },
   {
    "duration": 0,
    "start_time": "2023-03-03T14:59:58.794Z"
   },
   {
    "duration": 0,
    "start_time": "2023-03-03T14:59:58.795Z"
   },
   {
    "duration": 0,
    "start_time": "2023-03-03T14:59:58.796Z"
   },
   {
    "duration": 0,
    "start_time": "2023-03-03T14:59:58.797Z"
   },
   {
    "duration": 0,
    "start_time": "2023-03-03T14:59:58.798Z"
   },
   {
    "duration": 0,
    "start_time": "2023-03-03T14:59:58.798Z"
   },
   {
    "duration": 1,
    "start_time": "2023-03-03T14:59:58.799Z"
   },
   {
    "duration": 0,
    "start_time": "2023-03-03T14:59:58.800Z"
   },
   {
    "duration": 0,
    "start_time": "2023-03-03T14:59:58.801Z"
   },
   {
    "duration": 0,
    "start_time": "2023-03-03T14:59:58.802Z"
   },
   {
    "duration": 1,
    "start_time": "2023-03-03T14:59:58.803Z"
   },
   {
    "duration": 0,
    "start_time": "2023-03-03T14:59:58.804Z"
   },
   {
    "duration": 0,
    "start_time": "2023-03-03T14:59:58.805Z"
   },
   {
    "duration": 0,
    "start_time": "2023-03-03T14:59:58.806Z"
   },
   {
    "duration": 0,
    "start_time": "2023-03-03T14:59:58.806Z"
   },
   {
    "duration": 0,
    "start_time": "2023-03-03T14:59:58.807Z"
   },
   {
    "duration": 0,
    "start_time": "2023-03-03T14:59:58.808Z"
   },
   {
    "duration": 0,
    "start_time": "2023-03-03T14:59:58.809Z"
   },
   {
    "duration": 5,
    "start_time": "2023-03-03T15:04:26.115Z"
   },
   {
    "duration": 957768,
    "start_time": "2023-03-03T15:04:37.373Z"
   },
   {
    "duration": 2300,
    "start_time": "2023-03-03T15:20:35.147Z"
   },
   {
    "duration": 133,
    "start_time": "2023-03-03T15:20:37.453Z"
   },
   {
    "duration": 8,
    "start_time": "2023-03-03T15:20:37.588Z"
   },
   {
    "duration": 7,
    "start_time": "2023-03-03T15:20:37.597Z"
   },
   {
    "duration": 58,
    "start_time": "2023-03-03T15:20:37.606Z"
   },
   {
    "duration": 3,
    "start_time": "2023-03-03T15:20:37.666Z"
   },
   {
    "duration": 9,
    "start_time": "2023-03-03T15:20:37.671Z"
   },
   {
    "duration": 18,
    "start_time": "2023-03-03T15:20:37.682Z"
   },
   {
    "duration": 3,
    "start_time": "2023-03-03T15:20:37.702Z"
   },
   {
    "duration": 39,
    "start_time": "2023-03-03T15:20:37.706Z"
   },
   {
    "duration": 6,
    "start_time": "2023-03-03T15:20:37.751Z"
   },
   {
    "duration": 8,
    "start_time": "2023-03-03T15:20:37.759Z"
   },
   {
    "duration": 8,
    "start_time": "2023-03-03T15:20:37.768Z"
   },
   {
    "duration": 5,
    "start_time": "2023-03-03T15:20:37.777Z"
   },
   {
    "duration": 4,
    "start_time": "2023-03-03T15:20:37.784Z"
   },
   {
    "duration": 4,
    "start_time": "2023-03-03T15:20:37.789Z"
   },
   {
    "duration": 5,
    "start_time": "2023-03-03T15:20:37.794Z"
   },
   {
    "duration": 4,
    "start_time": "2023-03-03T15:20:37.801Z"
   },
   {
    "duration": 4,
    "start_time": "2023-03-03T15:20:37.850Z"
   },
   {
    "duration": 6,
    "start_time": "2023-03-03T15:20:37.855Z"
   },
   {
    "duration": 7,
    "start_time": "2023-03-03T15:20:37.863Z"
   },
   {
    "duration": 5,
    "start_time": "2023-03-03T15:20:37.871Z"
   },
   {
    "duration": 7,
    "start_time": "2023-03-03T15:20:37.877Z"
   },
   {
    "duration": 9,
    "start_time": "2023-03-03T15:20:37.885Z"
   },
   {
    "duration": 1099,
    "start_time": "2023-03-03T15:33:23.243Z"
   },
   {
    "duration": 6504,
    "start_time": "2023-03-03T15:33:28.542Z"
   },
   {
    "duration": 1271,
    "start_time": "2023-03-03T15:33:42.999Z"
   },
   {
    "duration": 46,
    "start_time": "2023-03-03T15:33:44.272Z"
   },
   {
    "duration": 2,
    "start_time": "2023-03-03T15:33:44.320Z"
   },
   {
    "duration": 15,
    "start_time": "2023-03-03T15:33:44.324Z"
   },
   {
    "duration": 13,
    "start_time": "2023-03-03T15:33:44.340Z"
   },
   {
    "duration": 225,
    "start_time": "2023-03-03T15:33:44.355Z"
   },
   {
    "duration": 10,
    "start_time": "2023-03-03T15:33:44.582Z"
   },
   {
    "duration": 814,
    "start_time": "2023-03-03T15:33:44.593Z"
   },
   {
    "duration": 213,
    "start_time": "2023-03-03T15:33:45.408Z"
   },
   {
    "duration": 3,
    "start_time": "2023-03-03T15:33:45.624Z"
   },
   {
    "duration": 30,
    "start_time": "2023-03-03T15:33:45.629Z"
   },
   {
    "duration": 6,
    "start_time": "2023-03-03T15:33:45.661Z"
   },
   {
    "duration": 174,
    "start_time": "2023-03-03T15:33:45.668Z"
   },
   {
    "duration": 267,
    "start_time": "2023-03-03T15:33:45.844Z"
   },
   {
    "duration": 11,
    "start_time": "2023-03-03T15:33:46.113Z"
   },
   {
    "duration": 15,
    "start_time": "2023-03-03T15:33:46.126Z"
   },
   {
    "duration": 18426,
    "start_time": "2023-03-03T15:33:46.143Z"
   },
   {
    "duration": 283054,
    "start_time": "2023-03-03T15:34:04.571Z"
   },
   {
    "duration": 4488,
    "start_time": "2023-03-03T15:38:47.627Z"
   },
   {
    "duration": 3,
    "start_time": "2023-03-03T15:38:52.116Z"
   },
   {
    "duration": 608843,
    "start_time": "2023-03-03T15:38:52.121Z"
   },
   {
    "duration": 0,
    "start_time": "2023-03-03T15:53:16.476Z"
   },
   {
    "duration": 0,
    "start_time": "2023-03-03T15:53:16.477Z"
   },
   {
    "duration": 0,
    "start_time": "2023-03-03T15:53:16.478Z"
   },
   {
    "duration": 0,
    "start_time": "2023-03-03T15:53:16.479Z"
   },
   {
    "duration": 0,
    "start_time": "2023-03-03T15:53:16.480Z"
   },
   {
    "duration": 0,
    "start_time": "2023-03-03T15:53:16.481Z"
   },
   {
    "duration": 0,
    "start_time": "2023-03-03T15:53:16.482Z"
   },
   {
    "duration": 0,
    "start_time": "2023-03-03T15:53:16.483Z"
   },
   {
    "duration": 0,
    "start_time": "2023-03-03T15:53:16.484Z"
   },
   {
    "duration": 0,
    "start_time": "2023-03-03T15:53:16.485Z"
   },
   {
    "duration": 0,
    "start_time": "2023-03-03T15:53:16.544Z"
   },
   {
    "duration": 0,
    "start_time": "2023-03-03T15:53:16.547Z"
   },
   {
    "duration": 0,
    "start_time": "2023-03-03T15:53:16.549Z"
   },
   {
    "duration": 0,
    "start_time": "2023-03-03T15:53:16.550Z"
   },
   {
    "duration": 0,
    "start_time": "2023-03-03T15:53:16.552Z"
   },
   {
    "duration": 0,
    "start_time": "2023-03-03T15:53:16.553Z"
   },
   {
    "duration": 0,
    "start_time": "2023-03-03T15:53:16.555Z"
   },
   {
    "duration": 0,
    "start_time": "2023-03-03T15:53:16.557Z"
   },
   {
    "duration": 0,
    "start_time": "2023-03-03T15:53:16.558Z"
   },
   {
    "duration": 0,
    "start_time": "2023-03-03T15:53:16.560Z"
   },
   {
    "duration": 0,
    "start_time": "2023-03-03T15:53:16.561Z"
   },
   {
    "duration": 0,
    "start_time": "2023-03-03T15:53:16.563Z"
   },
   {
    "duration": 0,
    "start_time": "2023-03-03T15:53:16.565Z"
   },
   {
    "duration": 0,
    "start_time": "2023-03-03T15:53:16.566Z"
   },
   {
    "duration": 1,
    "start_time": "2023-03-03T15:53:16.570Z"
   },
   {
    "duration": 1525,
    "start_time": "2023-03-03T15:53:27.235Z"
   },
   {
    "duration": 63,
    "start_time": "2023-03-03T15:53:28.763Z"
   },
   {
    "duration": 4,
    "start_time": "2023-03-03T15:53:28.828Z"
   },
   {
    "duration": 23,
    "start_time": "2023-03-03T15:53:28.834Z"
   },
   {
    "duration": 14,
    "start_time": "2023-03-03T15:53:28.861Z"
   },
   {
    "duration": 236,
    "start_time": "2023-03-03T15:53:28.877Z"
   },
   {
    "duration": 11,
    "start_time": "2023-03-03T15:53:29.115Z"
   },
   {
    "duration": 847,
    "start_time": "2023-03-03T15:53:29.128Z"
   },
   {
    "duration": 240,
    "start_time": "2023-03-03T15:53:29.976Z"
   },
   {
    "duration": 4,
    "start_time": "2023-03-03T15:53:30.218Z"
   },
   {
    "duration": 42,
    "start_time": "2023-03-03T15:53:30.223Z"
   },
   {
    "duration": 6,
    "start_time": "2023-03-03T15:53:30.267Z"
   },
   {
    "duration": 202,
    "start_time": "2023-03-03T15:53:30.274Z"
   },
   {
    "duration": 302,
    "start_time": "2023-03-03T15:53:30.479Z"
   },
   {
    "duration": 12,
    "start_time": "2023-03-03T15:53:30.782Z"
   },
   {
    "duration": 37,
    "start_time": "2023-03-03T15:53:30.796Z"
   },
   {
    "duration": 20628,
    "start_time": "2023-03-03T15:53:30.834Z"
   },
   {
    "duration": 318983,
    "start_time": "2023-03-03T15:53:51.464Z"
   },
   {
    "duration": 5801,
    "start_time": "2023-03-03T15:59:10.449Z"
   },
   {
    "duration": 4,
    "start_time": "2023-03-03T15:59:16.253Z"
   },
   {
    "duration": 1617,
    "start_time": "2023-03-04T05:51:07.105Z"
   },
   {
    "duration": 115,
    "start_time": "2023-03-04T05:51:08.724Z"
   },
   {
    "duration": 2,
    "start_time": "2023-03-04T05:51:08.841Z"
   },
   {
    "duration": 17,
    "start_time": "2023-03-04T05:51:08.845Z"
   },
   {
    "duration": 13,
    "start_time": "2023-03-04T05:51:08.864Z"
   },
   {
    "duration": 237,
    "start_time": "2023-03-04T05:51:08.879Z"
   },
   {
    "duration": 11,
    "start_time": "2023-03-04T05:51:09.117Z"
   },
   {
    "duration": 905,
    "start_time": "2023-03-04T05:51:09.130Z"
   },
   {
    "duration": 228,
    "start_time": "2023-03-04T05:51:10.036Z"
   },
   {
    "duration": 4,
    "start_time": "2023-03-04T05:51:10.267Z"
   },
   {
    "duration": 33,
    "start_time": "2023-03-04T05:51:10.272Z"
   },
   {
    "duration": 6,
    "start_time": "2023-03-04T05:51:10.307Z"
   },
   {
    "duration": 193,
    "start_time": "2023-03-04T05:51:10.314Z"
   },
   {
    "duration": 288,
    "start_time": "2023-03-04T05:51:10.510Z"
   },
   {
    "duration": 13,
    "start_time": "2023-03-04T05:51:10.800Z"
   },
   {
    "duration": 4,
    "start_time": "2023-03-04T05:51:10.815Z"
   },
   {
    "duration": 21071,
    "start_time": "2023-03-04T05:51:10.820Z"
   },
   {
    "duration": 303623,
    "start_time": "2023-03-04T05:51:31.894Z"
   },
   {
    "duration": 4655,
    "start_time": "2023-03-04T05:56:35.518Z"
   },
   {
    "duration": 3,
    "start_time": "2023-03-04T05:56:40.175Z"
   },
   {
    "duration": 1188894,
    "start_time": "2023-03-04T05:56:40.179Z"
   },
   {
    "duration": 0,
    "start_time": "2023-03-04T06:16:29.077Z"
   },
   {
    "duration": 0,
    "start_time": "2023-03-04T06:16:29.078Z"
   },
   {
    "duration": 0,
    "start_time": "2023-03-04T06:16:29.079Z"
   },
   {
    "duration": 0,
    "start_time": "2023-03-04T06:16:29.081Z"
   },
   {
    "duration": 0,
    "start_time": "2023-03-04T06:16:29.082Z"
   },
   {
    "duration": 0,
    "start_time": "2023-03-04T06:16:29.084Z"
   },
   {
    "duration": 0,
    "start_time": "2023-03-04T06:16:29.085Z"
   },
   {
    "duration": 0,
    "start_time": "2023-03-04T06:16:29.087Z"
   },
   {
    "duration": 0,
    "start_time": "2023-03-04T06:16:29.088Z"
   },
   {
    "duration": 0,
    "start_time": "2023-03-04T06:16:29.089Z"
   },
   {
    "duration": 0,
    "start_time": "2023-03-04T06:16:29.090Z"
   },
   {
    "duration": 0,
    "start_time": "2023-03-04T06:16:29.092Z"
   },
   {
    "duration": 0,
    "start_time": "2023-03-04T06:16:29.093Z"
   },
   {
    "duration": 0,
    "start_time": "2023-03-04T06:16:29.095Z"
   },
   {
    "duration": 0,
    "start_time": "2023-03-04T06:16:29.096Z"
   },
   {
    "duration": 0,
    "start_time": "2023-03-04T06:16:29.097Z"
   },
   {
    "duration": 0,
    "start_time": "2023-03-04T06:16:29.099Z"
   },
   {
    "duration": 0,
    "start_time": "2023-03-04T06:16:29.100Z"
   },
   {
    "duration": 0,
    "start_time": "2023-03-04T06:16:29.102Z"
   },
   {
    "duration": 0,
    "start_time": "2023-03-04T06:16:29.103Z"
   },
   {
    "duration": 0,
    "start_time": "2023-03-04T06:16:29.104Z"
   },
   {
    "duration": 0,
    "start_time": "2023-03-04T06:16:29.150Z"
   },
   {
    "duration": 0,
    "start_time": "2023-03-04T06:16:29.151Z"
   },
   {
    "duration": 0,
    "start_time": "2023-03-04T06:16:29.152Z"
   },
   {
    "duration": 277207,
    "start_time": "2023-03-04T06:18:18.180Z"
   },
   {
    "duration": 1,
    "start_time": "2023-03-04T06:22:55.390Z"
   },
   {
    "duration": 0,
    "start_time": "2023-03-04T06:22:55.392Z"
   },
   {
    "duration": 20,
    "start_time": "2023-03-04T06:23:01.573Z"
   },
   {
    "duration": 3,
    "start_time": "2023-03-04T06:23:32.064Z"
   },
   {
    "duration": 278970,
    "start_time": "2023-03-04T06:23:34.284Z"
   },
   {
    "duration": 118,
    "start_time": "2023-03-04T06:30:52.773Z"
   },
   {
    "duration": 62,
    "start_time": "2023-03-04T06:31:21.203Z"
   },
   {
    "duration": 80,
    "start_time": "2023-03-04T06:31:36.894Z"
   },
   {
    "duration": 6,
    "start_time": "2023-03-04T06:32:23.268Z"
   },
   {
    "duration": 94,
    "start_time": "2023-03-04T06:32:35.856Z"
   },
   {
    "duration": 13,
    "start_time": "2023-03-04T06:33:13.308Z"
   },
   {
    "duration": 6,
    "start_time": "2023-03-04T06:33:27.080Z"
   },
   {
    "duration": 5,
    "start_time": "2023-03-04T06:33:34.628Z"
   },
   {
    "duration": 7,
    "start_time": "2023-03-04T06:34:03.057Z"
   },
   {
    "duration": 10,
    "start_time": "2023-03-04T06:34:04.090Z"
   },
   {
    "duration": 4,
    "start_time": "2023-03-04T06:34:10.060Z"
   },
   {
    "duration": 10,
    "start_time": "2023-03-04T06:34:26.330Z"
   },
   {
    "duration": 14,
    "start_time": "2023-03-04T06:34:44.104Z"
   },
   {
    "duration": 4,
    "start_time": "2023-03-04T06:34:50.513Z"
   },
   {
    "duration": 12,
    "start_time": "2023-03-04T06:35:42.024Z"
   },
   {
    "duration": 5,
    "start_time": "2023-03-04T06:36:17.996Z"
   },
   {
    "duration": 5,
    "start_time": "2023-03-04T06:36:27.048Z"
   },
   {
    "duration": 4,
    "start_time": "2023-03-04T06:36:42.293Z"
   },
   {
    "duration": 4,
    "start_time": "2023-03-04T06:36:51.073Z"
   },
   {
    "duration": 13,
    "start_time": "2023-03-04T06:38:40.964Z"
   },
   {
    "duration": 1510,
    "start_time": "2023-03-04T06:39:50.128Z"
   },
   {
    "duration": 56,
    "start_time": "2023-03-04T06:39:51.640Z"
   },
   {
    "duration": 2,
    "start_time": "2023-03-04T06:39:51.698Z"
   },
   {
    "duration": 17,
    "start_time": "2023-03-04T06:39:51.703Z"
   },
   {
    "duration": 15,
    "start_time": "2023-03-04T06:39:51.722Z"
   },
   {
    "duration": 253,
    "start_time": "2023-03-04T06:39:51.739Z"
   },
   {
    "duration": 11,
    "start_time": "2023-03-04T06:39:51.993Z"
   },
   {
    "duration": 893,
    "start_time": "2023-03-04T06:39:52.006Z"
   },
   {
    "duration": 264,
    "start_time": "2023-03-04T06:39:52.902Z"
   },
   {
    "duration": 4,
    "start_time": "2023-03-04T06:39:53.169Z"
   },
   {
    "duration": 31,
    "start_time": "2023-03-04T06:39:53.174Z"
   },
   {
    "duration": 6,
    "start_time": "2023-03-04T06:39:53.207Z"
   },
   {
    "duration": 205,
    "start_time": "2023-03-04T06:39:53.215Z"
   },
   {
    "duration": 311,
    "start_time": "2023-03-04T06:39:53.423Z"
   },
   {
    "duration": 20,
    "start_time": "2023-03-04T06:39:53.736Z"
   },
   {
    "duration": 34,
    "start_time": "2023-03-04T06:39:53.757Z"
   },
   {
    "duration": 23097,
    "start_time": "2023-03-04T06:39:53.794Z"
   },
   {
    "duration": 327075,
    "start_time": "2023-03-04T06:40:16.893Z"
   },
   {
    "duration": 5049,
    "start_time": "2023-03-04T06:45:43.970Z"
   },
   {
    "duration": 13,
    "start_time": "2023-03-04T06:45:49.021Z"
   },
   {
    "duration": 228,
    "start_time": "2023-03-04T06:45:49.037Z"
   },
   {
    "duration": 9,
    "start_time": "2023-03-04T06:45:49.267Z"
   },
   {
    "duration": 10,
    "start_time": "2023-03-04T06:45:49.278Z"
   },
   {
    "duration": 192,
    "start_time": "2023-03-04T06:45:49.290Z"
   },
   {
    "duration": 4,
    "start_time": "2023-03-04T06:45:49.484Z"
   },
   {
    "duration": 8,
    "start_time": "2023-03-04T06:45:49.489Z"
   },
   {
    "duration": 22,
    "start_time": "2023-03-04T06:45:49.499Z"
   },
   {
    "duration": 3,
    "start_time": "2023-03-04T06:45:49.524Z"
   },
   {
    "duration": 6,
    "start_time": "2023-03-04T06:45:49.529Z"
   },
   {
    "duration": 22,
    "start_time": "2023-03-04T06:45:49.537Z"
   },
   {
    "duration": 8,
    "start_time": "2023-03-04T06:45:49.561Z"
   },
   {
    "duration": 5,
    "start_time": "2023-03-04T06:45:49.571Z"
   },
   {
    "duration": 5,
    "start_time": "2023-03-04T06:45:49.577Z"
   },
   {
    "duration": 5,
    "start_time": "2023-03-04T06:45:49.583Z"
   },
   {
    "duration": 6,
    "start_time": "2023-03-04T06:45:49.589Z"
   },
   {
    "duration": 5,
    "start_time": "2023-03-04T06:45:49.596Z"
   },
   {
    "duration": 5,
    "start_time": "2023-03-04T06:45:49.602Z"
   },
   {
    "duration": 5,
    "start_time": "2023-03-04T06:45:49.609Z"
   },
   {
    "duration": 7,
    "start_time": "2023-03-04T06:45:49.615Z"
   },
   {
    "duration": 4,
    "start_time": "2023-03-04T06:45:49.651Z"
   },
   {
    "duration": 9,
    "start_time": "2023-03-04T06:45:49.662Z"
   },
   {
    "duration": 126,
    "start_time": "2023-03-04T06:45:49.673Z"
   },
   {
    "duration": 0,
    "start_time": "2023-03-04T06:45:49.800Z"
   },
   {
    "duration": 16,
    "start_time": "2023-03-04T06:52:05.368Z"
   },
   {
    "duration": 6,
    "start_time": "2023-03-04T06:52:28.368Z"
   },
   {
    "duration": 17,
    "start_time": "2023-03-04T06:52:31.246Z"
   },
   {
    "duration": 1667,
    "start_time": "2023-03-05T15:29:56.602Z"
   },
   {
    "duration": 117,
    "start_time": "2023-03-05T15:30:05.863Z"
   },
   {
    "duration": 4,
    "start_time": "2023-03-05T15:30:06.203Z"
   },
   {
    "duration": 13,
    "start_time": "2023-03-05T15:30:06.547Z"
   },
   {
    "duration": 13,
    "start_time": "2023-03-05T15:30:06.892Z"
   },
   {
    "duration": 253,
    "start_time": "2023-03-05T15:30:07.401Z"
   },
   {
    "duration": 14,
    "start_time": "2023-03-05T15:30:07.761Z"
   },
   {
    "duration": 881,
    "start_time": "2023-03-05T15:30:09.023Z"
   },
   {
    "duration": 254,
    "start_time": "2023-03-05T15:30:09.906Z"
   },
   {
    "duration": 6,
    "start_time": "2023-03-05T15:30:10.544Z"
   },
   {
    "duration": 29,
    "start_time": "2023-03-05T15:30:11.489Z"
   },
   {
    "duration": 7,
    "start_time": "2023-03-05T15:30:12.058Z"
   },
   {
    "duration": 186,
    "start_time": "2023-03-05T15:30:13.653Z"
   },
   {
    "duration": 300,
    "start_time": "2023-03-05T15:30:14.827Z"
   },
   {
    "duration": 14,
    "start_time": "2023-03-05T15:30:17.374Z"
   },
   {
    "duration": 4,
    "start_time": "2023-03-05T15:30:38.721Z"
   },
   {
    "duration": 12,
    "start_time": "2023-03-05T15:31:26.697Z"
   },
   {
    "duration": 4,
    "start_time": "2023-03-05T15:31:29.276Z"
   },
   {
    "duration": 13,
    "start_time": "2023-03-05T15:32:13.525Z"
   },
   {
    "duration": 3,
    "start_time": "2023-03-05T15:32:15.420Z"
   },
   {
    "duration": 12,
    "start_time": "2023-03-05T15:32:40.021Z"
   },
   {
    "duration": 4,
    "start_time": "2023-03-05T15:32:41.724Z"
   },
   {
    "duration": 13,
    "start_time": "2023-03-05T15:33:12.213Z"
   },
   {
    "duration": 3,
    "start_time": "2023-03-05T15:33:14.039Z"
   },
   {
    "duration": 14,
    "start_time": "2023-03-05T15:33:44.115Z"
   },
   {
    "duration": 4,
    "start_time": "2023-03-05T15:33:45.803Z"
   },
   {
    "duration": 12,
    "start_time": "2023-03-05T15:34:04.733Z"
   },
   {
    "duration": 4,
    "start_time": "2023-03-05T15:34:06.503Z"
   },
   {
    "duration": 12,
    "start_time": "2023-03-05T15:34:56.762Z"
   },
   {
    "duration": 4,
    "start_time": "2023-03-05T15:34:58.473Z"
   },
   {
    "duration": 12,
    "start_time": "2023-03-05T15:35:30.345Z"
   },
   {
    "duration": 4,
    "start_time": "2023-03-05T15:35:31.984Z"
   },
   {
    "duration": 12,
    "start_time": "2023-03-05T15:36:02.570Z"
   },
   {
    "duration": 5,
    "start_time": "2023-03-05T15:36:04.272Z"
   },
   {
    "duration": 48,
    "start_time": "2023-03-05T15:37:25.468Z"
   },
   {
    "duration": 20752,
    "start_time": "2023-03-05T15:38:13.522Z"
   },
   {
    "duration": 125,
    "start_time": "2023-03-05T15:40:06.825Z"
   },
   {
    "duration": 302209,
    "start_time": "2023-03-05T15:40:18.566Z"
   },
   {
    "duration": 4477,
    "start_time": "2023-03-05T15:45:20.778Z"
   },
   {
    "duration": 12,
    "start_time": "2023-03-05T15:45:25.257Z"
   },
   {
    "duration": 12,
    "start_time": "2023-03-05T15:46:14.430Z"
   },
   {
    "duration": 52,
    "start_time": "2023-03-05T15:58:18.176Z"
   },
   {
    "duration": 2,
    "start_time": "2023-03-05T15:59:38.059Z"
   },
   {
    "duration": 2,
    "start_time": "2023-03-05T16:00:38.637Z"
   },
   {
    "duration": 2,
    "start_time": "2023-03-05T16:00:39.708Z"
   },
   {
    "duration": 2,
    "start_time": "2023-03-05T16:01:04.628Z"
   },
   {
    "duration": 95,
    "start_time": "2023-03-05T16:01:40.888Z"
   },
   {
    "duration": 3,
    "start_time": "2023-03-05T16:02:04.559Z"
   },
   {
    "duration": 30,
    "start_time": "2023-03-05T16:02:34.659Z"
   },
   {
    "duration": 3,
    "start_time": "2023-03-05T16:03:38.905Z"
   },
   {
    "duration": 12,
    "start_time": "2023-03-05T16:04:42.816Z"
   },
   {
    "duration": 3,
    "start_time": "2023-03-05T16:05:08.334Z"
   },
   {
    "duration": 8,
    "start_time": "2023-03-05T16:05:46.633Z"
   },
   {
    "duration": 2,
    "start_time": "2023-03-05T16:06:49.881Z"
   },
   {
    "duration": 2,
    "start_time": "2023-03-05T16:07:06.793Z"
   },
   {
    "duration": 2,
    "start_time": "2023-03-05T16:07:13.624Z"
   },
   {
    "duration": 3,
    "start_time": "2023-03-05T16:07:17.165Z"
   },
   {
    "duration": 2,
    "start_time": "2023-03-05T16:07:28.658Z"
   },
   {
    "duration": 2,
    "start_time": "2023-03-05T16:07:41.130Z"
   },
   {
    "duration": 11,
    "start_time": "2023-03-05T16:08:36.117Z"
   },
   {
    "duration": 2,
    "start_time": "2023-03-05T16:09:15.955Z"
   },
   {
    "duration": 3,
    "start_time": "2023-03-05T16:09:26.204Z"
   },
   {
    "duration": 3,
    "start_time": "2023-03-05T16:09:29.842Z"
   },
   {
    "duration": 2,
    "start_time": "2023-03-05T16:09:30.951Z"
   },
   {
    "duration": 3,
    "start_time": "2023-03-05T16:09:35.258Z"
   },
   {
    "duration": 2,
    "start_time": "2023-03-05T16:09:36.087Z"
   },
   {
    "duration": 3,
    "start_time": "2023-03-05T16:10:55.785Z"
   },
   {
    "duration": 8,
    "start_time": "2023-03-05T16:11:10.185Z"
   },
   {
    "duration": 4,
    "start_time": "2023-03-05T16:11:39.749Z"
   },
   {
    "duration": 4,
    "start_time": "2023-03-05T16:11:57.264Z"
   },
   {
    "duration": 18,
    "start_time": "2023-03-05T16:12:00.633Z"
   },
   {
    "duration": 8,
    "start_time": "2023-03-05T16:12:01.628Z"
   },
   {
    "duration": 4,
    "start_time": "2023-03-05T16:12:10.900Z"
   },
   {
    "duration": 74,
    "start_time": "2023-03-05T16:13:55.564Z"
   },
   {
    "duration": 24,
    "start_time": "2023-03-05T16:13:56.367Z"
   },
   {
    "duration": 5,
    "start_time": "2023-03-05T16:13:57.790Z"
   },
   {
    "duration": 9,
    "start_time": "2023-03-05T16:14:14.627Z"
   },
   {
    "duration": 7,
    "start_time": "2023-03-05T16:14:15.559Z"
   },
   {
    "duration": 6,
    "start_time": "2023-03-05T16:14:36.837Z"
   },
   {
    "duration": 3,
    "start_time": "2023-03-05T16:14:38.164Z"
   },
   {
    "duration": 12,
    "start_time": "2023-03-05T16:14:44.525Z"
   },
   {
    "duration": 9,
    "start_time": "2023-03-05T16:15:02.616Z"
   },
   {
    "duration": 8,
    "start_time": "2023-03-05T16:15:03.549Z"
   },
   {
    "duration": 4,
    "start_time": "2023-03-05T16:15:06.237Z"
   },
   {
    "duration": 3,
    "start_time": "2023-03-05T16:15:31.447Z"
   },
   {
    "duration": 3,
    "start_time": "2023-03-05T16:15:53.270Z"
   },
   {
    "duration": 3,
    "start_time": "2023-03-05T16:15:56.930Z"
   },
   {
    "duration": 2,
    "start_time": "2023-03-05T16:16:04.967Z"
   },
   {
    "duration": 2,
    "start_time": "2023-03-05T16:16:14.373Z"
   },
   {
    "duration": 3,
    "start_time": "2023-03-05T16:16:18.208Z"
   },
   {
    "duration": 2,
    "start_time": "2023-03-05T16:16:21.989Z"
   },
   {
    "duration": 4,
    "start_time": "2023-03-05T16:16:30.487Z"
   },
   {
    "duration": 2,
    "start_time": "2023-03-05T16:18:44.684Z"
   },
   {
    "duration": 2,
    "start_time": "2023-03-05T16:18:55.255Z"
   },
   {
    "duration": 2,
    "start_time": "2023-03-05T16:19:03.729Z"
   },
   {
    "duration": 3,
    "start_time": "2023-03-05T16:19:10.494Z"
   },
   {
    "duration": 55,
    "start_time": "2023-03-05T16:19:27.869Z"
   },
   {
    "duration": 5,
    "start_time": "2023-03-05T16:20:25.366Z"
   },
   {
    "duration": 4,
    "start_time": "2023-03-05T16:20:56.291Z"
   },
   {
    "duration": 4,
    "start_time": "2023-03-05T16:21:06.113Z"
   },
   {
    "duration": 7,
    "start_time": "2023-03-05T16:23:54.949Z"
   },
   {
    "duration": 8,
    "start_time": "2023-03-05T16:23:57.948Z"
   },
   {
    "duration": 1501,
    "start_time": "2023-03-05T16:26:19.190Z"
   },
   {
    "duration": 49,
    "start_time": "2023-03-05T16:26:20.693Z"
   },
   {
    "duration": 3,
    "start_time": "2023-03-05T16:26:20.743Z"
   },
   {
    "duration": 13,
    "start_time": "2023-03-05T16:26:20.748Z"
   },
   {
    "duration": 12,
    "start_time": "2023-03-05T16:26:20.763Z"
   },
   {
    "duration": 273,
    "start_time": "2023-03-05T16:26:20.777Z"
   },
   {
    "duration": 12,
    "start_time": "2023-03-05T16:26:21.051Z"
   },
   {
    "duration": 928,
    "start_time": "2023-03-05T16:26:21.064Z"
   },
   {
    "duration": 247,
    "start_time": "2023-03-05T16:26:21.994Z"
   },
   {
    "duration": 4,
    "start_time": "2023-03-05T16:26:22.246Z"
   },
   {
    "duration": 39,
    "start_time": "2023-03-05T16:26:22.251Z"
   },
   {
    "duration": 6,
    "start_time": "2023-03-05T16:26:22.292Z"
   },
   {
    "duration": 196,
    "start_time": "2023-03-05T16:26:22.299Z"
   },
   {
    "duration": 301,
    "start_time": "2023-03-05T16:26:22.497Z"
   },
   {
    "duration": 12,
    "start_time": "2023-03-05T16:26:22.799Z"
   },
   {
    "duration": 6,
    "start_time": "2023-03-05T16:26:22.813Z"
   },
   {
    "duration": 20847,
    "start_time": "2023-03-05T16:26:22.820Z"
   },
   {
    "duration": 299907,
    "start_time": "2023-03-05T16:26:43.668Z"
   },
   {
    "duration": 4340,
    "start_time": "2023-03-05T16:31:43.576Z"
   },
   {
    "duration": 27,
    "start_time": "2023-03-05T16:31:47.918Z"
   },
   {
    "duration": 268,
    "start_time": "2023-03-05T16:31:47.948Z"
   },
   {
    "duration": 46,
    "start_time": "2023-03-05T16:31:48.218Z"
   },
   {
    "duration": 4,
    "start_time": "2023-03-05T16:31:48.266Z"
   },
   {
    "duration": 14,
    "start_time": "2023-03-05T16:31:48.273Z"
   },
   {
    "duration": 10,
    "start_time": "2023-03-05T16:31:48.289Z"
   },
   {
    "duration": 7,
    "start_time": "2023-03-05T16:31:48.301Z"
   },
   {
    "duration": 18,
    "start_time": "2023-03-05T16:31:48.310Z"
   },
   {
    "duration": 105,
    "start_time": "2023-03-05T16:31:48.348Z"
   },
   {
    "duration": 99,
    "start_time": "2023-03-05T16:31:48.546Z"
   },
   {
    "duration": 4,
    "start_time": "2023-03-05T16:31:48.647Z"
   },
   {
    "duration": 12,
    "start_time": "2023-03-05T16:31:48.652Z"
   },
   {
    "duration": 6,
    "start_time": "2023-03-05T16:31:48.666Z"
   },
   {
    "duration": 11,
    "start_time": "2023-03-05T16:31:48.674Z"
   },
   {
    "duration": 13,
    "start_time": "2023-03-05T16:31:48.687Z"
   },
   {
    "duration": 8,
    "start_time": "2023-03-05T16:31:48.702Z"
   },
   {
    "duration": 9,
    "start_time": "2023-03-05T16:31:48.711Z"
   },
   {
    "duration": 6,
    "start_time": "2023-03-05T16:31:48.722Z"
   },
   {
    "duration": 6,
    "start_time": "2023-03-05T16:31:48.731Z"
   },
   {
    "duration": 8,
    "start_time": "2023-03-05T16:31:48.744Z"
   },
   {
    "duration": 6,
    "start_time": "2023-03-05T16:31:48.754Z"
   },
   {
    "duration": 9,
    "start_time": "2023-03-05T16:31:48.761Z"
   },
   {
    "duration": 5,
    "start_time": "2023-03-05T16:31:48.772Z"
   },
   {
    "duration": 10,
    "start_time": "2023-03-05T16:31:48.780Z"
   },
   {
    "duration": 4,
    "start_time": "2023-03-05T16:31:48.792Z"
   },
   {
    "duration": 13,
    "start_time": "2023-03-05T16:31:48.799Z"
   },
   {
    "duration": 11,
    "start_time": "2023-03-05T16:31:48.814Z"
   },
   {
    "duration": 9,
    "start_time": "2023-03-05T16:31:48.827Z"
   },
   {
    "duration": 5,
    "start_time": "2023-03-05T16:31:48.838Z"
   },
   {
    "duration": 7,
    "start_time": "2023-03-05T16:31:48.845Z"
   },
   {
    "duration": 18,
    "start_time": "2023-03-05T16:31:48.854Z"
   },
   {
    "duration": 6,
    "start_time": "2023-03-05T16:31:48.874Z"
   },
   {
    "duration": 6,
    "start_time": "2023-03-05T16:31:48.882Z"
   },
   {
    "duration": 8,
    "start_time": "2023-03-05T16:31:48.890Z"
   },
   {
    "duration": 12,
    "start_time": "2023-03-05T16:31:48.900Z"
   },
   {
    "duration": 13,
    "start_time": "2023-03-05T16:31:48.914Z"
   },
   {
    "duration": 6,
    "start_time": "2023-03-05T16:31:48.929Z"
   },
   {
    "duration": 10,
    "start_time": "2023-03-05T16:31:48.936Z"
   },
   {
    "duration": 8,
    "start_time": "2023-03-05T16:31:48.948Z"
   },
   {
    "duration": 11,
    "start_time": "2023-03-05T16:31:48.958Z"
   },
   {
    "duration": 9,
    "start_time": "2023-03-05T16:31:48.970Z"
   },
   {
    "duration": 14,
    "start_time": "2023-03-05T16:31:48.980Z"
   },
   {
    "duration": 1537,
    "start_time": "2023-03-06T05:11:18.490Z"
   },
   {
    "duration": 141,
    "start_time": "2023-03-06T05:11:20.029Z"
   },
   {
    "duration": 2,
    "start_time": "2023-03-06T05:11:20.172Z"
   },
   {
    "duration": 14,
    "start_time": "2023-03-06T05:11:20.176Z"
   },
   {
    "duration": 12,
    "start_time": "2023-03-06T05:11:20.191Z"
   },
   {
    "duration": 209,
    "start_time": "2023-03-06T05:11:20.321Z"
   },
   {
    "duration": 10,
    "start_time": "2023-03-06T05:11:20.635Z"
   },
   {
    "duration": 823,
    "start_time": "2023-03-06T05:11:21.674Z"
   },
   {
    "duration": 218,
    "start_time": "2023-03-06T05:11:22.499Z"
   },
   {
    "duration": 4,
    "start_time": "2023-03-06T05:11:23.427Z"
   },
   {
    "duration": 22,
    "start_time": "2023-03-06T05:11:24.742Z"
   },
   {
    "duration": 7,
    "start_time": "2023-03-06T05:11:25.221Z"
   },
   {
    "duration": 167,
    "start_time": "2023-03-06T05:11:25.587Z"
   },
   {
    "duration": 255,
    "start_time": "2023-03-06T05:11:26.875Z"
   },
   {
    "duration": 12,
    "start_time": "2023-03-06T05:11:27.590Z"
   },
   {
    "duration": 15,
    "start_time": "2023-03-06T05:12:05.488Z"
   },
   {
    "duration": 5,
    "start_time": "2023-03-06T05:12:08.017Z"
   },
   {
    "duration": 12,
    "start_time": "2023-03-06T05:12:55.535Z"
   },
   {
    "duration": 4,
    "start_time": "2023-03-06T05:12:57.392Z"
   },
   {
    "duration": 13,
    "start_time": "2023-03-06T05:13:36.679Z"
   },
   {
    "duration": 4,
    "start_time": "2023-03-06T05:13:38.812Z"
   },
   {
    "duration": 15,
    "start_time": "2023-03-06T05:14:14.284Z"
   },
   {
    "duration": 5,
    "start_time": "2023-03-06T05:14:15.781Z"
   },
   {
    "duration": 22029,
    "start_time": "2023-03-06T05:14:42.110Z"
   },
   {
    "duration": 278698,
    "start_time": "2023-03-06T05:15:04.141Z"
   },
   {
    "duration": 4377,
    "start_time": "2023-03-06T05:19:42.841Z"
   },
   {
    "duration": 16,
    "start_time": "2023-03-06T05:19:47.220Z"
   },
   {
    "duration": 180,
    "start_time": "2023-03-06T05:19:47.238Z"
   },
   {
    "duration": 44,
    "start_time": "2023-03-06T05:19:47.420Z"
   },
   {
    "duration": 5,
    "start_time": "2023-03-06T05:19:47.469Z"
   },
   {
    "duration": 9,
    "start_time": "2023-03-06T05:19:47.476Z"
   },
   {
    "duration": 6,
    "start_time": "2023-03-06T05:19:47.486Z"
   },
   {
    "duration": 3,
    "start_time": "2023-03-06T05:19:47.495Z"
   },
   {
    "duration": 5,
    "start_time": "2023-03-06T05:19:47.499Z"
   },
   {
    "duration": 77,
    "start_time": "2023-03-06T05:19:47.506Z"
   },
   {
    "duration": 84,
    "start_time": "2023-03-06T05:19:47.676Z"
   },
   {
    "duration": 9,
    "start_time": "2023-03-06T05:19:47.761Z"
   },
   {
    "duration": 3,
    "start_time": "2023-03-06T05:19:47.771Z"
   },
   {
    "duration": 3,
    "start_time": "2023-03-06T05:19:47.776Z"
   },
   {
    "duration": 6,
    "start_time": "2023-03-06T05:19:47.780Z"
   },
   {
    "duration": 9,
    "start_time": "2023-03-06T05:19:47.787Z"
   },
   {
    "duration": 4,
    "start_time": "2023-03-06T05:19:47.797Z"
   },
   {
    "duration": 3,
    "start_time": "2023-03-06T05:19:47.802Z"
   },
   {
    "duration": 3,
    "start_time": "2023-03-06T05:19:47.806Z"
   },
   {
    "duration": 3,
    "start_time": "2023-03-06T05:19:47.810Z"
   },
   {
    "duration": 3,
    "start_time": "2023-03-06T05:19:47.814Z"
   },
   {
    "duration": 2,
    "start_time": "2023-03-06T05:19:47.818Z"
   },
   {
    "duration": 3,
    "start_time": "2023-03-06T05:19:47.822Z"
   },
   {
    "duration": 43,
    "start_time": "2023-03-06T05:19:47.826Z"
   },
   {
    "duration": 4,
    "start_time": "2023-03-06T05:19:47.870Z"
   },
   {
    "duration": 2,
    "start_time": "2023-03-06T05:19:47.877Z"
   },
   {
    "duration": 2,
    "start_time": "2023-03-06T05:19:47.881Z"
   },
   {
    "duration": 3,
    "start_time": "2023-03-06T05:19:47.885Z"
   },
   {
    "duration": 5,
    "start_time": "2023-03-06T05:19:47.890Z"
   },
   {
    "duration": 2,
    "start_time": "2023-03-06T05:19:47.897Z"
   },
   {
    "duration": 3,
    "start_time": "2023-03-06T05:19:47.901Z"
   },
   {
    "duration": 3,
    "start_time": "2023-03-06T05:19:47.906Z"
   },
   {
    "duration": 4,
    "start_time": "2023-03-06T05:19:47.910Z"
   },
   {
    "duration": 2,
    "start_time": "2023-03-06T05:19:47.915Z"
   },
   {
    "duration": 45,
    "start_time": "2023-03-06T05:19:47.919Z"
   },
   {
    "duration": 3,
    "start_time": "2023-03-06T05:19:47.966Z"
   },
   {
    "duration": 3,
    "start_time": "2023-03-06T05:19:47.971Z"
   },
   {
    "duration": 2,
    "start_time": "2023-03-06T05:19:47.976Z"
   },
   {
    "duration": 6,
    "start_time": "2023-03-06T05:19:47.979Z"
   },
   {
    "duration": 4,
    "start_time": "2023-03-06T05:19:47.986Z"
   },
   {
    "duration": 5,
    "start_time": "2023-03-06T05:19:47.991Z"
   },
   {
    "duration": 6,
    "start_time": "2023-03-06T05:19:47.997Z"
   },
   {
    "duration": 8,
    "start_time": "2023-03-06T05:19:48.004Z"
   },
   {
    "duration": 4,
    "start_time": "2023-03-06T05:20:48.605Z"
   },
   {
    "duration": 4,
    "start_time": "2023-03-06T05:20:49.519Z"
   },
   {
    "duration": 4,
    "start_time": "2023-03-06T05:20:50.387Z"
   },
   {
    "duration": 13,
    "start_time": "2023-03-06T05:23:39.815Z"
   },
   {
    "duration": 3,
    "start_time": "2023-03-06T05:23:46.895Z"
   },
   {
    "duration": 5,
    "start_time": "2023-03-06T05:24:03.591Z"
   },
   {
    "duration": 305930,
    "start_time": "2023-03-06T05:27:32.621Z"
   },
   {
    "duration": 12,
    "start_time": "2023-03-06T05:35:27.913Z"
   },
   {
    "duration": 9,
    "start_time": "2023-03-06T05:35:49.878Z"
   },
   {
    "duration": 5,
    "start_time": "2023-03-06T05:35:50.816Z"
   },
   {
    "duration": 4,
    "start_time": "2023-03-06T05:35:51.901Z"
   },
   {
    "duration": 4,
    "start_time": "2023-03-06T05:36:02.342Z"
   },
   {
    "duration": 3,
    "start_time": "2023-03-06T05:36:03.337Z"
   },
   {
    "duration": 4,
    "start_time": "2023-03-06T05:36:04.133Z"
   },
   {
    "duration": 1717035,
    "start_time": "2023-03-06T05:36:59.844Z"
   },
   {
    "duration": 708264,
    "start_time": "2023-03-06T06:05:48.984Z"
   },
   {
    "duration": 2011926,
    "start_time": "2023-03-06T06:17:43.799Z"
   },
   {
    "duration": 79683,
    "start_time": "2023-03-06T06:52:04.254Z"
   },
   {
    "duration": 83352,
    "start_time": "2023-03-06T06:53:31.034Z"
   },
   {
    "duration": 7180,
    "start_time": "2023-03-06T06:54:54.389Z"
   },
   {
    "duration": 10,
    "start_time": "2023-03-06T06:55:17.219Z"
   },
   {
    "duration": 6,
    "start_time": "2023-03-06T06:55:18.543Z"
   },
   {
    "duration": 4,
    "start_time": "2023-03-06T06:55:20.675Z"
   },
   {
    "duration": 3,
    "start_time": "2023-03-06T06:55:33.930Z"
   },
   {
    "duration": 3,
    "start_time": "2023-03-06T06:55:34.769Z"
   },
   {
    "duration": 4,
    "start_time": "2023-03-06T06:55:35.698Z"
   },
   {
    "duration": 81579,
    "start_time": "2023-03-06T06:56:31.497Z"
   },
   {
    "duration": 7120,
    "start_time": "2023-03-06T06:58:04.902Z"
   },
   {
    "duration": 11,
    "start_time": "2023-03-06T06:58:25.032Z"
   },
   {
    "duration": 6,
    "start_time": "2023-03-06T06:58:26.822Z"
   },
   {
    "duration": 3,
    "start_time": "2023-03-06T06:58:27.996Z"
   },
   {
    "duration": 4,
    "start_time": "2023-03-06T06:58:38.718Z"
   },
   {
    "duration": 9,
    "start_time": "2023-03-06T06:58:39.752Z"
   },
   {
    "duration": 4,
    "start_time": "2023-03-06T06:58:40.645Z"
   },
   {
    "duration": 1621,
    "start_time": "2023-03-06T06:59:53.709Z"
   },
   {
    "duration": 177,
    "start_time": "2023-03-06T06:59:55.332Z"
   },
   {
    "duration": 3,
    "start_time": "2023-03-06T06:59:55.511Z"
   },
   {
    "duration": 13,
    "start_time": "2023-03-06T06:59:55.517Z"
   },
   {
    "duration": 15,
    "start_time": "2023-03-06T06:59:55.531Z"
   },
   {
    "duration": 271,
    "start_time": "2023-03-06T06:59:55.548Z"
   },
   {
    "duration": 9,
    "start_time": "2023-03-06T06:59:55.821Z"
   },
   {
    "duration": 862,
    "start_time": "2023-03-06T06:59:55.831Z"
   },
   {
    "duration": 288,
    "start_time": "2023-03-06T06:59:56.695Z"
   },
   {
    "duration": 14,
    "start_time": "2023-03-06T06:59:56.986Z"
   },
   {
    "duration": 36,
    "start_time": "2023-03-06T06:59:57.001Z"
   },
   {
    "duration": 8,
    "start_time": "2023-03-06T06:59:57.039Z"
   },
   {
    "duration": 243,
    "start_time": "2023-03-06T06:59:57.049Z"
   },
   {
    "duration": 299,
    "start_time": "2023-03-06T06:59:57.298Z"
   },
   {
    "duration": 13,
    "start_time": "2023-03-06T06:59:57.598Z"
   },
   {
    "duration": 3,
    "start_time": "2023-03-06T06:59:57.613Z"
   },
   {
    "duration": 23882,
    "start_time": "2023-03-06T06:59:57.618Z"
   },
   {
    "duration": 93383,
    "start_time": "2023-03-06T07:00:21.501Z"
   },
   {
    "duration": 8532,
    "start_time": "2023-03-06T07:01:54.885Z"
   },
   {
    "duration": 11,
    "start_time": "2023-03-06T07:02:03.418Z"
   },
   {
    "duration": 191,
    "start_time": "2023-03-06T07:02:03.430Z"
   },
   {
    "duration": 28,
    "start_time": "2023-03-06T07:02:03.622Z"
   },
   {
    "duration": 45,
    "start_time": "2023-03-06T07:02:03.651Z"
   },
   {
    "duration": 10,
    "start_time": "2023-03-06T07:02:03.709Z"
   },
   {
    "duration": 6,
    "start_time": "2023-03-06T07:02:03.721Z"
   },
   {
    "duration": 4,
    "start_time": "2023-03-06T07:02:03.728Z"
   },
   {
    "duration": 35,
    "start_time": "2023-03-06T07:02:03.733Z"
   },
   {
    "duration": 90,
    "start_time": "2023-03-06T07:02:03.782Z"
   },
   {
    "duration": 36,
    "start_time": "2023-03-06T07:02:03.876Z"
   },
   {
    "duration": 8,
    "start_time": "2023-03-06T07:02:03.976Z"
   },
   {
    "duration": 16,
    "start_time": "2023-03-06T07:02:03.987Z"
   },
   {
    "duration": 3,
    "start_time": "2023-03-06T07:02:04.005Z"
   },
   {
    "duration": 4,
    "start_time": "2023-03-06T07:02:04.011Z"
   },
   {
    "duration": 5,
    "start_time": "2023-03-06T07:02:04.016Z"
   },
   {
    "duration": 3,
    "start_time": "2023-03-06T07:02:04.022Z"
   },
   {
    "duration": 3,
    "start_time": "2023-03-06T07:02:04.026Z"
   },
   {
    "duration": 3,
    "start_time": "2023-03-06T07:02:04.030Z"
   },
   {
    "duration": 2,
    "start_time": "2023-03-06T07:02:04.035Z"
   },
   {
    "duration": 9,
    "start_time": "2023-03-06T07:02:04.039Z"
   },
   {
    "duration": 2,
    "start_time": "2023-03-06T07:02:04.050Z"
   },
   {
    "duration": 18,
    "start_time": "2023-03-06T07:02:04.054Z"
   },
   {
    "duration": 17,
    "start_time": "2023-03-06T07:02:04.074Z"
   },
   {
    "duration": 19,
    "start_time": "2023-03-06T07:02:04.094Z"
   },
   {
    "duration": 2,
    "start_time": "2023-03-06T07:02:04.114Z"
   },
   {
    "duration": 53,
    "start_time": "2023-03-06T07:02:04.118Z"
   },
   {
    "duration": 3,
    "start_time": "2023-03-06T07:02:04.176Z"
   },
   {
    "duration": 10,
    "start_time": "2023-03-06T07:02:04.181Z"
   },
   {
    "duration": 3,
    "start_time": "2023-03-06T07:02:04.196Z"
   },
   {
    "duration": 67,
    "start_time": "2023-03-06T07:02:04.201Z"
   },
   {
    "duration": 15,
    "start_time": "2023-03-06T07:02:04.271Z"
   },
   {
    "duration": 13,
    "start_time": "2023-03-06T07:02:04.294Z"
   },
   {
    "duration": 8,
    "start_time": "2023-03-06T07:02:04.309Z"
   },
   {
    "duration": 9,
    "start_time": "2023-03-06T07:02:04.319Z"
   },
   {
    "duration": 3,
    "start_time": "2023-03-06T07:02:04.330Z"
   },
   {
    "duration": 6,
    "start_time": "2023-03-06T07:02:04.334Z"
   },
   {
    "duration": 10,
    "start_time": "2023-03-06T07:02:04.342Z"
   },
   {
    "duration": 39,
    "start_time": "2023-03-06T07:02:04.353Z"
   },
   {
    "duration": 10,
    "start_time": "2023-03-06T07:02:04.397Z"
   },
   {
    "duration": 5,
    "start_time": "2023-03-06T07:02:04.408Z"
   },
   {
    "duration": 4,
    "start_time": "2023-03-06T07:02:04.415Z"
   },
   {
    "duration": 7,
    "start_time": "2023-03-06T07:02:04.420Z"
   },
   {
    "duration": 8,
    "start_time": "2023-03-06T07:02:04.429Z"
   },
   {
    "duration": 77500,
    "start_time": "2023-03-06T07:02:54.422Z"
   },
   {
    "duration": 4474,
    "start_time": "2023-03-06T07:05:00.508Z"
   },
   {
    "duration": 8,
    "start_time": "2023-03-06T07:05:43.309Z"
   },
   {
    "duration": 7,
    "start_time": "2023-03-06T07:05:44.099Z"
   },
   {
    "duration": 6,
    "start_time": "2023-03-06T07:05:45.097Z"
   },
   {
    "duration": 19,
    "start_time": "2023-03-06T07:05:53.690Z"
   },
   {
    "duration": 3,
    "start_time": "2023-03-06T07:05:54.614Z"
   },
   {
    "duration": 11,
    "start_time": "2023-03-06T07:05:55.604Z"
   },
   {
    "duration": 308888,
    "start_time": "2023-03-06T07:06:39.540Z"
   },
   {
    "duration": 4281,
    "start_time": "2023-03-06T07:11:48.430Z"
   },
   {
    "duration": 7,
    "start_time": "2023-03-06T07:11:52.713Z"
   },
   {
    "duration": 5,
    "start_time": "2023-03-06T07:11:52.722Z"
   },
   {
    "duration": 12,
    "start_time": "2023-03-06T07:11:52.728Z"
   },
   {
    "duration": 4,
    "start_time": "2023-03-06T07:17:12.083Z"
   },
   {
    "duration": 3,
    "start_time": "2023-03-06T07:17:13.614Z"
   },
   {
    "duration": 5,
    "start_time": "2023-03-06T07:17:17.282Z"
   },
   {
    "duration": 3,
    "start_time": "2023-03-06T07:17:18.446Z"
   },
   {
    "duration": 4,
    "start_time": "2023-03-06T07:17:19.316Z"
   },
   {
    "duration": 641473,
    "start_time": "2023-03-06T07:20:51.851Z"
   },
   {
    "duration": 4229,
    "start_time": "2023-03-06T07:31:33.325Z"
   },
   {
    "duration": 1878,
    "start_time": "2023-03-06T07:32:41.606Z"
   },
   {
    "duration": 20171,
    "start_time": "2023-03-06T07:33:12.476Z"
   },
   {
    "duration": 5073,
    "start_time": "2023-03-06T07:33:48.273Z"
   },
   {
    "duration": 5391,
    "start_time": "2023-03-06T07:34:03.401Z"
   },
   {
    "duration": 12,
    "start_time": "2023-03-06T07:34:14.781Z"
   },
   {
    "duration": 26,
    "start_time": "2023-03-06T07:34:15.650Z"
   },
   {
    "duration": 5,
    "start_time": "2023-03-06T07:34:16.733Z"
   },
   {
    "duration": 4,
    "start_time": "2023-03-06T07:34:37.739Z"
   },
   {
    "duration": 3,
    "start_time": "2023-03-06T07:34:38.616Z"
   },
   {
    "duration": 4,
    "start_time": "2023-03-06T07:34:39.496Z"
   },
   {
    "duration": 61186,
    "start_time": "2023-03-06T07:35:18.307Z"
   },
   {
    "duration": 1927,
    "start_time": "2023-03-06T07:37:37.792Z"
   },
   {
    "duration": 7,
    "start_time": "2023-03-06T07:37:48.039Z"
   },
   {
    "duration": 20,
    "start_time": "2023-03-06T07:37:50.476Z"
   },
   {
    "duration": 3,
    "start_time": "2023-03-06T07:37:51.719Z"
   },
   {
    "duration": 41,
    "start_time": "2023-03-06T07:38:44.549Z"
   },
   {
    "duration": 72,
    "start_time": "2023-03-06T07:39:58.115Z"
   },
   {
    "duration": 30,
    "start_time": "2023-03-06T07:39:59.081Z"
   },
   {
    "duration": 6,
    "start_time": "2023-03-06T07:40:00.024Z"
   },
   {
    "duration": 20,
    "start_time": "2023-03-06T07:40:32.389Z"
   },
   {
    "duration": 3,
    "start_time": "2023-03-06T07:40:42.919Z"
   },
   {
    "duration": 3,
    "start_time": "2023-03-06T07:40:54.525Z"
   },
   {
    "duration": 14503,
    "start_time": "2023-03-06T07:42:18.609Z"
   },
   {
    "duration": 46,
    "start_time": "2023-03-06T07:42:48.081Z"
   },
   {
    "duration": 26,
    "start_time": "2023-03-06T07:42:49.079Z"
   },
   {
    "duration": 11,
    "start_time": "2023-03-06T07:42:49.981Z"
   },
   {
    "duration": 27398,
    "start_time": "2023-03-06T07:43:11.494Z"
   },
   {
    "duration": 96,
    "start_time": "2023-03-06T07:43:49.596Z"
   },
   {
    "duration": 20,
    "start_time": "2023-03-06T07:43:50.794Z"
   },
   {
    "duration": 3,
    "start_time": "2023-03-06T07:43:51.802Z"
   },
   {
    "duration": 17,
    "start_time": "2023-03-06T07:44:03.109Z"
   },
   {
    "duration": 3,
    "start_time": "2023-03-06T07:44:10.395Z"
   },
   {
    "duration": 4,
    "start_time": "2023-03-06T07:44:11.233Z"
   },
   {
    "duration": 26439,
    "start_time": "2023-03-06T07:44:48.976Z"
   },
   {
    "duration": 79,
    "start_time": "2023-03-06T07:45:30.202Z"
   },
   {
    "duration": 19,
    "start_time": "2023-03-06T07:45:31.209Z"
   },
   {
    "duration": 4,
    "start_time": "2023-03-06T07:45:32.181Z"
   },
   {
    "duration": 16,
    "start_time": "2023-03-06T07:45:44.884Z"
   },
   {
    "duration": 4,
    "start_time": "2023-03-06T07:45:51.992Z"
   },
   {
    "duration": 4,
    "start_time": "2023-03-06T07:45:52.982Z"
   },
   {
    "duration": 11368,
    "start_time": "2023-03-06T07:47:06.982Z"
   },
   {
    "duration": 26,
    "start_time": "2023-03-06T07:47:27.384Z"
   },
   {
    "duration": 11,
    "start_time": "2023-03-06T07:47:28.210Z"
   },
   {
    "duration": 4,
    "start_time": "2023-03-06T07:47:29.206Z"
   },
   {
    "duration": 9,
    "start_time": "2023-03-06T07:47:40.325Z"
   },
   {
    "duration": 3,
    "start_time": "2023-03-06T07:47:46.841Z"
   },
   {
    "duration": 4,
    "start_time": "2023-03-06T07:47:47.784Z"
   },
   {
    "duration": 15,
    "start_time": "2023-03-06T07:48:04.615Z"
   },
   {
    "duration": 5,
    "start_time": "2023-03-06T07:48:12.523Z"
   },
   {
    "duration": 16,
    "start_time": "2023-03-06T07:48:13.449Z"
   },
   {
    "duration": 3,
    "start_time": "2023-03-06T07:48:14.492Z"
   },
   {
    "duration": 10,
    "start_time": "2023-03-06T07:48:29.979Z"
   },
   {
    "duration": 25,
    "start_time": "2023-03-06T07:48:33.173Z"
   },
   {
    "duration": 9,
    "start_time": "2023-03-06T07:48:39.481Z"
   },
   {
    "duration": 7,
    "start_time": "2023-03-06T07:48:40.279Z"
   },
   {
    "duration": 4,
    "start_time": "2023-03-06T07:48:41.177Z"
   },
   {
    "duration": 21,
    "start_time": "2023-03-06T07:48:59.095Z"
   },
   {
    "duration": 7,
    "start_time": "2023-03-06T07:49:07.503Z"
   },
   {
    "duration": 11,
    "start_time": "2023-03-06T07:49:08.382Z"
   },
   {
    "duration": 3,
    "start_time": "2023-03-06T07:49:09.288Z"
   },
   {
    "duration": 12,
    "start_time": "2023-03-06T07:49:38.881Z"
   },
   {
    "duration": 7,
    "start_time": "2023-03-06T07:49:45.813Z"
   },
   {
    "duration": 11,
    "start_time": "2023-03-06T07:49:46.603Z"
   },
   {
    "duration": 4,
    "start_time": "2023-03-06T07:49:47.399Z"
   },
   {
    "duration": 15742,
    "start_time": "2023-03-06T07:50:32.491Z"
   },
   {
    "duration": 30,
    "start_time": "2023-03-06T07:50:56.083Z"
   },
   {
    "duration": 13,
    "start_time": "2023-03-06T07:50:56.831Z"
   },
   {
    "duration": 4,
    "start_time": "2023-03-06T07:50:57.919Z"
   },
   {
    "duration": 10,
    "start_time": "2023-03-06T07:51:13.842Z"
   },
   {
    "duration": 3,
    "start_time": "2023-03-06T07:51:20.486Z"
   },
   {
    "duration": 3,
    "start_time": "2023-03-06T07:51:21.344Z"
   },
   {
    "duration": 15467,
    "start_time": "2023-03-06T07:51:40.181Z"
   },
   {
    "duration": 30,
    "start_time": "2023-03-06T07:52:23.880Z"
   },
   {
    "duration": 12,
    "start_time": "2023-03-06T07:52:24.777Z"
   },
   {
    "duration": 3,
    "start_time": "2023-03-06T07:52:25.903Z"
   },
   {
    "duration": 10,
    "start_time": "2023-03-06T07:52:35.942Z"
   },
   {
    "duration": 3,
    "start_time": "2023-03-06T07:52:41.304Z"
   },
   {
    "duration": 4,
    "start_time": "2023-03-06T07:52:42.278Z"
   },
   {
    "duration": 15998,
    "start_time": "2023-03-06T07:53:15.885Z"
   },
   {
    "duration": 37,
    "start_time": "2023-03-06T07:53:43.183Z"
   },
   {
    "duration": 33,
    "start_time": "2023-03-06T07:53:43.944Z"
   },
   {
    "duration": 4,
    "start_time": "2023-03-06T07:53:44.923Z"
   },
   {
    "duration": 12,
    "start_time": "2023-03-06T07:53:56.075Z"
   },
   {
    "duration": 4,
    "start_time": "2023-03-06T07:54:01.916Z"
   },
   {
    "duration": 4,
    "start_time": "2023-03-06T07:54:02.879Z"
   },
   {
    "duration": 5176,
    "start_time": "2023-03-06T07:55:30.319Z"
   },
   {
    "duration": 23,
    "start_time": "2023-03-06T07:55:45.694Z"
   },
   {
    "duration": 13,
    "start_time": "2023-03-06T07:55:46.633Z"
   },
   {
    "duration": 6,
    "start_time": "2023-03-06T07:55:47.577Z"
   },
   {
    "duration": 8,
    "start_time": "2023-03-06T07:55:56.504Z"
   },
   {
    "duration": 4,
    "start_time": "2023-03-06T07:56:03.478Z"
   },
   {
    "duration": 4,
    "start_time": "2023-03-06T07:56:04.287Z"
   },
   {
    "duration": 4180,
    "start_time": "2023-03-06T07:56:36.051Z"
   },
   {
    "duration": 20,
    "start_time": "2023-03-06T07:56:49.481Z"
   },
   {
    "duration": 10,
    "start_time": "2023-03-06T07:56:50.377Z"
   },
   {
    "duration": 4,
    "start_time": "2023-03-06T07:56:51.686Z"
   },
   {
    "duration": 8,
    "start_time": "2023-03-06T07:56:59.986Z"
   },
   {
    "duration": 4,
    "start_time": "2023-03-06T07:57:06.736Z"
   },
   {
    "duration": 4,
    "start_time": "2023-03-06T07:57:07.541Z"
   },
   {
    "duration": 22307,
    "start_time": "2023-03-06T07:57:57.199Z"
   },
   {
    "duration": 71,
    "start_time": "2023-03-06T07:58:38.446Z"
   },
   {
    "duration": 21,
    "start_time": "2023-03-06T07:58:39.588Z"
   },
   {
    "duration": 3,
    "start_time": "2023-03-06T07:58:40.681Z"
   },
   {
    "duration": 20,
    "start_time": "2023-03-06T07:58:50.790Z"
   },
   {
    "duration": 3,
    "start_time": "2023-03-06T07:58:57.917Z"
   },
   {
    "duration": 4,
    "start_time": "2023-03-06T07:58:58.943Z"
   },
   {
    "duration": 11319,
    "start_time": "2023-03-06T07:59:20.093Z"
   },
   {
    "duration": 59,
    "start_time": "2023-03-06T07:59:39.716Z"
   },
   {
    "duration": 17,
    "start_time": "2023-03-06T07:59:40.880Z"
   },
   {
    "duration": 4,
    "start_time": "2023-03-06T07:59:41.916Z"
   },
   {
    "duration": 14,
    "start_time": "2023-03-06T07:59:50.937Z"
   },
   {
    "duration": 3,
    "start_time": "2023-03-06T07:59:57.894Z"
   },
   {
    "duration": 3,
    "start_time": "2023-03-06T07:59:58.812Z"
   },
   {
    "duration": 243600,
    "start_time": "2023-03-06T08:03:27.740Z"
   },
   {
    "duration": 10,
    "start_time": "2023-03-06T08:07:31.342Z"
   },
   {
    "duration": 0,
    "start_time": "2023-03-06T08:07:31.353Z"
   },
   {
    "duration": 0,
    "start_time": "2023-03-06T08:07:31.372Z"
   },
   {
    "duration": 21469,
    "start_time": "2023-03-06T08:07:43.331Z"
   },
   {
    "duration": 15,
    "start_time": "2023-03-06T08:11:02.474Z"
   },
   {
    "duration": 92,
    "start_time": "2023-03-06T08:11:09.989Z"
   },
   {
    "duration": 43,
    "start_time": "2023-03-06T08:11:10.930Z"
   },
   {
    "duration": 4,
    "start_time": "2023-03-06T08:11:12.082Z"
   },
   {
    "duration": 9,
    "start_time": "2023-03-06T08:11:18.478Z"
   },
   {
    "duration": 12,
    "start_time": "2023-03-06T08:11:19.311Z"
   },
   {
    "duration": 4,
    "start_time": "2023-03-06T08:11:20.535Z"
   },
   {
    "duration": 19,
    "start_time": "2023-03-06T08:30:36.488Z"
   },
   {
    "duration": 46,
    "start_time": "2023-03-06T08:30:47.951Z"
   },
   {
    "duration": 7,
    "start_time": "2023-03-06T08:30:48.828Z"
   },
   {
    "duration": 4,
    "start_time": "2023-03-06T08:30:49.734Z"
   },
   {
    "duration": 12,
    "start_time": "2023-03-06T08:31:14.377Z"
   },
   {
    "duration": 19717,
    "start_time": "2023-03-06T08:37:40.391Z"
   },
   {
    "duration": 69,
    "start_time": "2023-03-06T08:38:11.082Z"
   },
   {
    "duration": 21,
    "start_time": "2023-03-06T08:38:11.990Z"
   },
   {
    "duration": 3,
    "start_time": "2023-03-06T08:38:13.016Z"
   },
   {
    "duration": 33,
    "start_time": "2023-03-06T08:38:26.643Z"
   },
   {
    "duration": 3,
    "start_time": "2023-03-06T08:38:34.126Z"
   },
   {
    "duration": 4,
    "start_time": "2023-03-06T08:38:34.890Z"
   },
   {
    "duration": 41065,
    "start_time": "2023-03-06T08:39:11.526Z"
   },
   {
    "duration": 137,
    "start_time": "2023-03-06T08:39:52.593Z"
   },
   {
    "duration": 48,
    "start_time": "2023-03-06T08:39:52.732Z"
   },
   {
    "duration": 4,
    "start_time": "2023-03-06T08:39:52.782Z"
   },
   {
    "duration": 29,
    "start_time": "2023-03-06T08:40:00.877Z"
   },
   {
    "duration": 7,
    "start_time": "2023-03-06T08:40:08.175Z"
   },
   {
    "duration": 4,
    "start_time": "2023-03-06T08:40:08.981Z"
   },
   {
    "duration": 62571,
    "start_time": "2023-03-06T08:40:36.211Z"
   },
   {
    "duration": 160,
    "start_time": "2023-03-06T08:42:06.023Z"
   },
   {
    "duration": 48,
    "start_time": "2023-03-06T08:42:06.928Z"
   },
   {
    "duration": 6,
    "start_time": "2023-03-06T08:42:08.385Z"
   },
   {
    "duration": 33,
    "start_time": "2023-03-06T08:42:16.280Z"
   },
   {
    "duration": 7,
    "start_time": "2023-03-06T08:42:21.693Z"
   },
   {
    "duration": 16,
    "start_time": "2023-03-06T08:42:22.574Z"
   },
   {
    "duration": 42490,
    "start_time": "2023-03-06T08:42:54.706Z"
   },
   {
    "duration": 171,
    "start_time": "2023-03-06T08:44:10.317Z"
   },
   {
    "duration": 55,
    "start_time": "2023-03-06T08:44:11.251Z"
   },
   {
    "duration": 3,
    "start_time": "2023-03-06T08:44:12.220Z"
   },
   {
    "duration": 22449,
    "start_time": "2023-03-06T08:44:36.189Z"
   },
   {
    "duration": 94,
    "start_time": "2023-03-06T08:45:09.486Z"
   },
   {
    "duration": 21,
    "start_time": "2023-03-06T08:45:10.417Z"
   },
   {
    "duration": 29,
    "start_time": "2023-03-06T08:45:11.254Z"
   },
   {
    "duration": 17,
    "start_time": "2023-03-06T08:45:20.530Z"
   },
   {
    "duration": 17,
    "start_time": "2023-03-06T08:45:26.675Z"
   },
   {
    "duration": 23,
    "start_time": "2023-03-06T08:45:27.073Z"
   },
   {
    "duration": 20,
    "start_time": "2023-03-06T08:46:37.389Z"
   },
   {
    "duration": 9,
    "start_time": "2023-03-06T08:46:44.296Z"
   },
   {
    "duration": 9,
    "start_time": "2023-03-06T08:46:45.212Z"
   },
   {
    "duration": 4,
    "start_time": "2023-03-06T08:46:46.144Z"
   },
   {
    "duration": 15,
    "start_time": "2023-03-06T08:46:57.898Z"
   },
   {
    "duration": 22594,
    "start_time": "2023-03-06T08:47:18.315Z"
   },
   {
    "duration": 95,
    "start_time": "2023-03-06T08:47:48.523Z"
   },
   {
    "duration": 37,
    "start_time": "2023-03-06T08:47:49.331Z"
   },
   {
    "duration": 29,
    "start_time": "2023-03-06T08:47:50.175Z"
   },
   {
    "duration": 20,
    "start_time": "2023-03-06T08:47:57.727Z"
   },
   {
    "duration": 21,
    "start_time": "2023-03-06T08:48:03.583Z"
   },
   {
    "duration": 3,
    "start_time": "2023-03-06T08:48:04.392Z"
   },
   {
    "duration": 64411,
    "start_time": "2023-03-06T08:48:18.400Z"
   },
   {
    "duration": 209,
    "start_time": "2023-03-06T08:49:22.813Z"
   },
   {
    "duration": 68,
    "start_time": "2023-03-06T08:49:23.024Z"
   },
   {
    "duration": 4,
    "start_time": "2023-03-06T08:49:23.099Z"
   },
   {
    "duration": 44,
    "start_time": "2023-03-06T08:49:23.104Z"
   },
   {
    "duration": 4,
    "start_time": "2023-03-06T08:49:23.149Z"
   },
   {
    "duration": 18,
    "start_time": "2023-03-06T08:49:23.154Z"
   },
   {
    "duration": 13,
    "start_time": "2023-03-06T08:52:12.023Z"
   },
   {
    "duration": 11,
    "start_time": "2023-03-06T08:57:03.406Z"
   },
   {
    "duration": 11,
    "start_time": "2023-03-06T08:57:55.781Z"
   },
   {
    "duration": 250962,
    "start_time": "2023-03-06T08:58:21.675Z"
   },
   {
    "duration": 3189,
    "start_time": "2023-03-06T09:03:24.199Z"
   },
   {
    "duration": 19,
    "start_time": "2023-03-06T09:03:38.497Z"
   },
   {
    "duration": 13,
    "start_time": "2023-03-06T09:03:39.293Z"
   },
   {
    "duration": 4,
    "start_time": "2023-03-06T09:03:40.289Z"
   },
   {
    "duration": 8,
    "start_time": "2023-03-06T09:03:50.799Z"
   },
   {
    "duration": 3,
    "start_time": "2023-03-06T09:03:56.221Z"
   },
   {
    "duration": 4,
    "start_time": "2023-03-06T09:03:57.030Z"
   },
   {
    "duration": 5223,
    "start_time": "2023-03-06T09:04:44.073Z"
   },
   {
    "duration": 17,
    "start_time": "2023-03-06T09:04:57.113Z"
   },
   {
    "duration": 9,
    "start_time": "2023-03-06T09:04:58.307Z"
   },
   {
    "duration": 7,
    "start_time": "2023-03-06T09:04:58.997Z"
   },
   {
    "duration": 12567,
    "start_time": "2023-03-06T09:05:33.429Z"
   },
   {
    "duration": 33,
    "start_time": "2023-03-06T09:05:52.793Z"
   },
   {
    "duration": 12,
    "start_time": "2023-03-06T09:05:53.715Z"
   },
   {
    "duration": 3,
    "start_time": "2023-03-06T09:05:54.707Z"
   },
   {
    "duration": 20,
    "start_time": "2023-03-06T09:06:03.179Z"
   },
   {
    "duration": 6,
    "start_time": "2023-03-06T09:06:08.489Z"
   },
   {
    "duration": 4,
    "start_time": "2023-03-06T09:06:09.698Z"
   },
   {
    "duration": 12650,
    "start_time": "2023-03-06T09:08:25.952Z"
   },
   {
    "duration": 27,
    "start_time": "2023-03-06T09:08:46.486Z"
   },
   {
    "duration": 13,
    "start_time": "2023-03-06T09:08:47.302Z"
   },
   {
    "duration": 4,
    "start_time": "2023-03-06T09:08:48.186Z"
   },
   {
    "duration": 12674,
    "start_time": "2023-03-06T09:09:01.194Z"
   },
   {
    "duration": 42,
    "start_time": "2023-03-06T09:09:20.622Z"
   },
   {
    "duration": 15,
    "start_time": "2023-03-06T09:09:21.498Z"
   },
   {
    "duration": 4,
    "start_time": "2023-03-06T09:09:22.600Z"
   },
   {
    "duration": 10,
    "start_time": "2023-03-06T09:09:42.107Z"
   },
   {
    "duration": 3,
    "start_time": "2023-03-06T09:09:48.647Z"
   },
   {
    "duration": 4,
    "start_time": "2023-03-06T09:09:49.475Z"
   },
   {
    "duration": 11872,
    "start_time": "2023-03-06T09:10:22.418Z"
   },
   {
    "duration": 20,
    "start_time": "2023-03-06T09:10:39.405Z"
   },
   {
    "duration": 26,
    "start_time": "2023-03-06T09:10:40.251Z"
   },
   {
    "duration": 4,
    "start_time": "2023-03-06T09:10:41.228Z"
   },
   {
    "duration": 10,
    "start_time": "2023-03-06T09:10:49.505Z"
   },
   {
    "duration": 3,
    "start_time": "2023-03-06T09:10:55.236Z"
   },
   {
    "duration": 3,
    "start_time": "2023-03-06T09:10:55.937Z"
   },
   {
    "duration": 15514,
    "start_time": "2023-03-06T09:11:34.003Z"
   },
   {
    "duration": 78,
    "start_time": "2023-03-06T09:12:54.684Z"
   },
   {
    "duration": 22,
    "start_time": "2023-03-06T09:12:55.513Z"
   },
   {
    "duration": 4,
    "start_time": "2023-03-06T09:12:56.429Z"
   },
   {
    "duration": 18,
    "start_time": "2023-03-06T09:13:04.319Z"
   },
   {
    "duration": 6,
    "start_time": "2023-03-06T09:13:16.385Z"
   },
   {
    "duration": 3,
    "start_time": "2023-03-06T09:13:17.607Z"
   },
   {
    "duration": 29510,
    "start_time": "2023-03-06T09:13:43.497Z"
   },
   {
    "duration": 164,
    "start_time": "2023-03-06T09:14:13.010Z"
   },
   {
    "duration": 39,
    "start_time": "2023-03-06T09:14:13.176Z"
   },
   {
    "duration": 4,
    "start_time": "2023-03-06T09:14:13.216Z"
   },
   {
    "duration": 35,
    "start_time": "2023-03-06T09:14:21.196Z"
   },
   {
    "duration": 4,
    "start_time": "2023-03-06T09:14:27.397Z"
   },
   {
    "duration": 4,
    "start_time": "2023-03-06T09:14:28.239Z"
   },
   {
    "duration": 42947,
    "start_time": "2023-03-06T09:14:50.117Z"
   },
   {
    "duration": 230,
    "start_time": "2023-03-06T09:15:49.496Z"
   },
   {
    "duration": 66,
    "start_time": "2023-03-06T09:15:50.330Z"
   },
   {
    "duration": 4,
    "start_time": "2023-03-06T09:15:51.297Z"
   },
   {
    "duration": 40,
    "start_time": "2023-03-06T09:15:58.096Z"
   },
   {
    "duration": 4,
    "start_time": "2023-03-06T09:16:04.316Z"
   },
   {
    "duration": 5,
    "start_time": "2023-03-06T09:16:05.240Z"
   },
   {
    "duration": 69910,
    "start_time": "2023-03-06T09:16:22.288Z"
   },
   {
    "duration": 337,
    "start_time": "2023-03-06T09:17:32.200Z"
   },
   {
    "duration": 81,
    "start_time": "2023-03-06T09:17:32.538Z"
   },
   {
    "duration": 4,
    "start_time": "2023-03-06T09:17:32.621Z"
   },
   {
    "duration": 64,
    "start_time": "2023-03-06T09:17:51.482Z"
   },
   {
    "duration": 3,
    "start_time": "2023-03-06T09:17:55.911Z"
   },
   {
    "duration": 5,
    "start_time": "2023-03-06T09:17:56.990Z"
   },
   {
    "duration": 2517,
    "start_time": "2023-03-06T09:18:16.693Z"
   },
   {
    "duration": 16,
    "start_time": "2023-03-06T09:18:28.004Z"
   },
   {
    "duration": 9,
    "start_time": "2023-03-06T09:18:28.697Z"
   },
   {
    "duration": 4,
    "start_time": "2023-03-06T09:18:29.714Z"
   },
   {
    "duration": 55819,
    "start_time": "2023-03-06T09:19:07.628Z"
   },
   {
    "duration": 147,
    "start_time": "2023-03-06T09:20:03.449Z"
   },
   {
    "duration": 33,
    "start_time": "2023-03-06T09:20:03.599Z"
   },
   {
    "duration": 4,
    "start_time": "2023-03-06T09:20:03.634Z"
   },
   {
    "duration": 31,
    "start_time": "2023-03-06T09:20:16.015Z"
   },
   {
    "duration": 4,
    "start_time": "2023-03-06T09:20:21.495Z"
   },
   {
    "duration": 3,
    "start_time": "2023-03-06T09:20:22.342Z"
   },
   {
    "duration": 11735,
    "start_time": "2023-03-06T09:22:53.907Z"
   },
   {
    "duration": 27,
    "start_time": "2023-03-06T09:24:12.692Z"
   },
   {
    "duration": 12,
    "start_time": "2023-03-06T09:24:13.582Z"
   },
   {
    "duration": 3,
    "start_time": "2023-03-06T09:24:14.694Z"
   },
   {
    "duration": 9,
    "start_time": "2023-03-06T09:24:21.797Z"
   },
   {
    "duration": 3,
    "start_time": "2023-03-06T09:24:28.649Z"
   },
   {
    "duration": 4,
    "start_time": "2023-03-06T09:24:29.607Z"
   },
   {
    "duration": 18353,
    "start_time": "2023-03-06T09:25:33.182Z"
   },
   {
    "duration": 38,
    "start_time": "2023-03-06T09:26:30.446Z"
   },
   {
    "duration": 12,
    "start_time": "2023-03-06T09:26:31.220Z"
   },
   {
    "duration": 6,
    "start_time": "2023-03-06T09:26:32.054Z"
   },
   {
    "duration": 7040,
    "start_time": "2023-03-06T09:26:55.210Z"
   },
   {
    "duration": 12037,
    "start_time": "2023-03-06T09:27:08.781Z"
   },
   {
    "duration": 18,
    "start_time": "2023-03-06T09:27:20.820Z"
   },
   {
    "duration": 38,
    "start_time": "2023-03-06T09:27:20.840Z"
   },
   {
    "duration": 4,
    "start_time": "2023-03-06T09:27:21.434Z"
   },
   {
    "duration": 7797,
    "start_time": "2023-03-06T09:27:47.140Z"
   },
   {
    "duration": 11335,
    "start_time": "2023-03-06T09:27:59.420Z"
   },
   {
    "duration": 72,
    "start_time": "2023-03-06T09:29:32.021Z"
   },
   {
    "duration": 22,
    "start_time": "2023-03-06T09:29:32.823Z"
   },
   {
    "duration": 4,
    "start_time": "2023-03-06T09:29:34.343Z"
   },
   {
    "duration": 9196,
    "start_time": "2023-03-06T09:30:13.700Z"
   },
   {
    "duration": 66,
    "start_time": "2023-03-06T09:30:31.717Z"
   },
   {
    "duration": 17,
    "start_time": "2023-03-06T09:30:32.728Z"
   },
   {
    "duration": 4,
    "start_time": "2023-03-06T09:30:33.333Z"
   },
   {
    "duration": 11570,
    "start_time": "2023-03-06T09:30:45.653Z"
   },
   {
    "duration": 1623,
    "start_time": "2023-03-06T09:38:05.751Z"
   },
   {
    "duration": 64,
    "start_time": "2023-03-06T09:38:07.376Z"
   },
   {
    "duration": 5,
    "start_time": "2023-03-06T09:38:07.442Z"
   },
   {
    "duration": 38,
    "start_time": "2023-03-06T09:38:07.450Z"
   },
   {
    "duration": 16,
    "start_time": "2023-03-06T09:38:07.492Z"
   },
   {
    "duration": 271,
    "start_time": "2023-03-06T09:38:07.509Z"
   },
   {
    "duration": 12,
    "start_time": "2023-03-06T09:38:07.781Z"
   },
   {
    "duration": 855,
    "start_time": "2023-03-06T09:38:07.794Z"
   },
   {
    "duration": 267,
    "start_time": "2023-03-06T09:38:08.651Z"
   },
   {
    "duration": 4,
    "start_time": "2023-03-06T09:38:08.920Z"
   },
   {
    "duration": 49,
    "start_time": "2023-03-06T09:38:08.925Z"
   },
   {
    "duration": 7,
    "start_time": "2023-03-06T09:38:08.975Z"
   },
   {
    "duration": 204,
    "start_time": "2023-03-06T09:38:08.984Z"
   },
   {
    "duration": 324,
    "start_time": "2023-03-06T09:38:09.198Z"
   },
   {
    "duration": 13,
    "start_time": "2023-03-06T09:38:09.523Z"
   },
   {
    "duration": 3,
    "start_time": "2023-03-06T09:38:09.539Z"
   },
   {
    "duration": 11232,
    "start_time": "2023-03-06T09:38:09.573Z"
   },
   {
    "duration": 61558,
    "start_time": "2023-03-06T09:38:20.807Z"
   },
   {
    "duration": 1760,
    "start_time": "2023-03-06T09:39:22.367Z"
   },
   {
    "duration": 43,
    "start_time": "2023-03-06T09:39:24.129Z"
   },
   {
    "duration": 146,
    "start_time": "2023-03-06T09:39:24.174Z"
   },
   {
    "duration": 17,
    "start_time": "2023-03-06T09:39:24.321Z"
   },
   {
    "duration": 3,
    "start_time": "2023-03-06T09:39:24.339Z"
   },
   {
    "duration": 32,
    "start_time": "2023-03-06T09:39:24.344Z"
   },
   {
    "duration": 15,
    "start_time": "2023-03-06T09:39:24.379Z"
   },
   {
    "duration": 7,
    "start_time": "2023-03-06T09:39:24.396Z"
   },
   {
    "duration": 8,
    "start_time": "2023-03-06T09:39:24.405Z"
   },
   {
    "duration": 53,
    "start_time": "2023-03-06T09:39:24.418Z"
   },
   {
    "duration": 9,
    "start_time": "2023-03-06T09:39:24.473Z"
   },
   {
    "duration": 4,
    "start_time": "2023-03-06T09:39:24.489Z"
   },
   {
    "duration": 10,
    "start_time": "2023-03-06T09:39:24.497Z"
   },
   {
    "duration": 27,
    "start_time": "2023-03-06T09:39:24.569Z"
   },
   {
    "duration": 8,
    "start_time": "2023-03-06T09:39:24.600Z"
   },
   {
    "duration": 3,
    "start_time": "2023-03-06T09:39:24.609Z"
   },
   {
    "duration": 4,
    "start_time": "2023-03-06T09:39:24.614Z"
   },
   {
    "duration": 9,
    "start_time": "2023-03-06T09:39:24.620Z"
   },
   {
    "duration": 3,
    "start_time": "2023-03-06T09:39:24.630Z"
   },
   {
    "duration": 5,
    "start_time": "2023-03-06T09:39:24.634Z"
   },
   {
    "duration": 31,
    "start_time": "2023-03-06T09:39:24.640Z"
   },
   {
    "duration": 2,
    "start_time": "2023-03-06T09:39:24.673Z"
   },
   {
    "duration": 8,
    "start_time": "2023-03-06T09:39:24.677Z"
   },
   {
    "duration": 17,
    "start_time": "2023-03-06T09:39:24.687Z"
   },
   {
    "duration": 3,
    "start_time": "2023-03-06T09:39:24.706Z"
   },
   {
    "duration": 6,
    "start_time": "2023-03-06T09:39:24.710Z"
   },
   {
    "duration": 3,
    "start_time": "2023-03-06T09:39:24.717Z"
   },
   {
    "duration": 3,
    "start_time": "2023-03-06T09:39:24.722Z"
   },
   {
    "duration": 2,
    "start_time": "2023-03-06T09:39:24.726Z"
   },
   {
    "duration": 7,
    "start_time": "2023-03-06T09:39:24.730Z"
   },
   {
    "duration": 6,
    "start_time": "2023-03-06T09:39:24.739Z"
   },
   {
    "duration": 4,
    "start_time": "2023-03-06T09:39:24.747Z"
   },
   {
    "duration": 7,
    "start_time": "2023-03-06T09:39:24.752Z"
   },
   {
    "duration": 5,
    "start_time": "2023-03-06T09:39:24.761Z"
   },
   {
    "duration": 11,
    "start_time": "2023-03-06T09:39:24.768Z"
   },
   {
    "duration": 5,
    "start_time": "2023-03-06T09:39:24.780Z"
   },
   {
    "duration": 4,
    "start_time": "2023-03-06T09:39:24.787Z"
   },
   {
    "duration": 3,
    "start_time": "2023-03-06T09:39:24.792Z"
   },
   {
    "duration": 167,
    "start_time": "2023-03-06T09:39:24.796Z"
   },
   {
    "duration": 0,
    "start_time": "2023-03-06T09:39:24.966Z"
   },
   {
    "duration": 0,
    "start_time": "2023-03-06T09:39:24.968Z"
   },
   {
    "duration": 0,
    "start_time": "2023-03-06T09:39:24.968Z"
   },
   {
    "duration": 0,
    "start_time": "2023-03-06T09:39:24.969Z"
   },
   {
    "duration": 0,
    "start_time": "2023-03-06T09:39:24.970Z"
   },
   {
    "duration": 0,
    "start_time": "2023-03-06T09:39:24.971Z"
   },
   {
    "duration": 17,
    "start_time": "2023-03-06T09:40:01.940Z"
   },
   {
    "duration": 3,
    "start_time": "2023-03-06T09:40:08.028Z"
   },
   {
    "duration": 4,
    "start_time": "2023-03-06T09:40:09.719Z"
   },
   {
    "duration": 103,
    "start_time": "2023-03-06T09:40:48.241Z"
   },
   {
    "duration": 11491,
    "start_time": "2023-03-06T09:41:04.818Z"
   },
   {
    "duration": 57511,
    "start_time": "2023-03-06T09:41:26.324Z"
   },
   {
    "duration": 159,
    "start_time": "2023-03-06T09:42:23.837Z"
   },
   {
    "duration": 35,
    "start_time": "2023-03-06T09:42:23.998Z"
   },
   {
    "duration": 13,
    "start_time": "2023-03-06T09:42:24.036Z"
   },
   {
    "duration": 1335,
    "start_time": "2023-03-06T09:43:23.246Z"
   },
   {
    "duration": 11,
    "start_time": "2023-03-06T09:43:32.739Z"
   },
   {
    "duration": 8,
    "start_time": "2023-03-06T09:43:33.400Z"
   },
   {
    "duration": 18,
    "start_time": "2023-03-06T09:43:34.354Z"
   },
   {
    "duration": 10,
    "start_time": "2023-03-06T09:47:47.327Z"
   },
   {
    "duration": 381558,
    "start_time": "2023-03-06T09:48:19.750Z"
   },
   {
    "duration": 32,
    "start_time": "2023-03-06T09:55:54.952Z"
   },
   {
    "duration": 29,
    "start_time": "2023-03-06T09:56:19.474Z"
   },
   {
    "duration": 56,
    "start_time": "2023-03-06T09:56:26.653Z"
   },
   {
    "duration": 12,
    "start_time": "2023-03-06T09:56:27.510Z"
   },
   {
    "duration": 9,
    "start_time": "2023-03-06T09:56:28.450Z"
   },
   {
    "duration": 10,
    "start_time": "2023-03-06T09:56:37.695Z"
   },
   {
    "duration": 15,
    "start_time": "2023-03-06T09:58:44.344Z"
   },
   {
    "duration": 40,
    "start_time": "2023-03-06T09:59:05.744Z"
   },
   {
    "duration": 38,
    "start_time": "2023-03-06T10:01:28.744Z"
   },
   {
    "duration": 348547,
    "start_time": "2023-03-06T10:02:26.245Z"
   },
   {
    "duration": 3,
    "start_time": "2023-03-06T10:08:49.045Z"
   },
   {
    "duration": 197423,
    "start_time": "2023-03-06T10:09:50.345Z"
   },
   {
    "duration": 122,
    "start_time": "2023-03-06T10:13:07.770Z"
   },
   {
    "duration": 5,
    "start_time": "2023-03-06T10:13:07.893Z"
   },
   {
    "duration": 2465,
    "start_time": "2023-03-06T10:15:40.450Z"
   },
   {
    "duration": 59,
    "start_time": "2023-03-06T10:16:52.881Z"
   },
   {
    "duration": 57,
    "start_time": "2023-03-06T10:17:05.181Z"
   },
   {
    "duration": 41889,
    "start_time": "2023-03-06T10:19:18.529Z"
   },
   {
    "duration": 99,
    "start_time": "2023-03-06T10:23:08.542Z"
   },
   {
    "duration": 91,
    "start_time": "2023-03-06T10:23:20.235Z"
   },
   {
    "duration": 97,
    "start_time": "2023-03-06T10:23:59.324Z"
   },
   {
    "duration": 38985,
    "start_time": "2023-03-06T10:24:24.753Z"
   },
   {
    "duration": 349765,
    "start_time": "2023-03-06T10:25:19.330Z"
   },
   {
    "duration": 9,
    "start_time": "2023-03-06T10:31:09.097Z"
   },
   {
    "duration": 7,
    "start_time": "2023-03-06T10:31:09.107Z"
   },
   {
    "duration": 325085,
    "start_time": "2023-03-06T10:41:25.408Z"
   },
   {
    "duration": 9,
    "start_time": "2023-03-06T10:46:50.495Z"
   },
   {
    "duration": 9,
    "start_time": "2023-03-06T10:46:50.505Z"
   },
   {
    "duration": 7,
    "start_time": "2023-03-06T10:46:50.516Z"
   },
   {
    "duration": 4,
    "start_time": "2023-03-06T10:46:50.524Z"
   },
   {
    "duration": 5,
    "start_time": "2023-03-06T10:46:50.530Z"
   },
   {
    "duration": 4,
    "start_time": "2023-03-06T10:46:50.536Z"
   },
   {
    "duration": 18,
    "start_time": "2023-03-06T10:46:50.541Z"
   },
   {
    "duration": 99,
    "start_time": "2023-03-06T10:52:11.609Z"
   },
   {
    "duration": 57232,
    "start_time": "2023-03-06T10:53:10.501Z"
   },
   {
    "duration": 1505,
    "start_time": "2023-03-06T10:54:07.735Z"
   },
   {
    "duration": 4,
    "start_time": "2023-03-06T10:54:09.242Z"
   },
   {
    "duration": 4,
    "start_time": "2023-03-06T10:54:09.247Z"
   },
   {
    "duration": 6,
    "start_time": "2023-03-06T10:54:09.252Z"
   },
   {
    "duration": 11,
    "start_time": "2023-03-06T10:59:42.641Z"
   },
   {
    "duration": 10,
    "start_time": "2023-03-06T10:59:59.491Z"
   },
   {
    "duration": 9,
    "start_time": "2023-03-06T11:04:00.478Z"
   },
   {
    "duration": 4,
    "start_time": "2023-03-06T11:07:01.080Z"
   },
   {
    "duration": 1526,
    "start_time": "2023-03-06T11:22:39.127Z"
   },
   {
    "duration": 57,
    "start_time": "2023-03-06T11:22:40.655Z"
   },
   {
    "duration": 3,
    "start_time": "2023-03-06T11:22:40.714Z"
   },
   {
    "duration": 10,
    "start_time": "2023-03-06T11:22:40.719Z"
   },
   {
    "duration": 11,
    "start_time": "2023-03-06T11:22:40.731Z"
   },
   {
    "duration": 253,
    "start_time": "2023-03-06T11:22:40.743Z"
   },
   {
    "duration": 10,
    "start_time": "2023-03-06T11:22:40.998Z"
   },
   {
    "duration": 867,
    "start_time": "2023-03-06T11:22:41.010Z"
   },
   {
    "duration": 239,
    "start_time": "2023-03-06T11:22:41.879Z"
   },
   {
    "duration": 3,
    "start_time": "2023-03-06T11:22:42.121Z"
   },
   {
    "duration": 38,
    "start_time": "2023-03-06T11:22:42.126Z"
   },
   {
    "duration": 8,
    "start_time": "2023-03-06T11:22:42.166Z"
   },
   {
    "duration": 196,
    "start_time": "2023-03-06T11:22:42.175Z"
   },
   {
    "duration": 276,
    "start_time": "2023-03-06T11:22:42.373Z"
   },
   {
    "duration": 21,
    "start_time": "2023-03-06T11:22:42.651Z"
   },
   {
    "duration": 3,
    "start_time": "2023-03-06T11:22:42.674Z"
   },
   {
    "duration": 1387,
    "start_time": "2023-03-06T11:22:42.679Z"
   },
   {
    "duration": 52657,
    "start_time": "2023-03-06T11:22:44.068Z"
   },
   {
    "duration": 1490,
    "start_time": "2023-03-06T11:23:36.727Z"
   },
   {
    "duration": 10,
    "start_time": "2023-03-06T11:23:38.219Z"
   },
   {
    "duration": 40,
    "start_time": "2023-03-06T11:23:38.231Z"
   },
   {
    "duration": 96,
    "start_time": "2023-03-06T11:23:38.273Z"
   },
   {
    "duration": 5,
    "start_time": "2023-03-06T11:23:38.371Z"
   },
   {
    "duration": 154,
    "start_time": "2023-03-06T11:23:38.377Z"
   },
   {
    "duration": 0,
    "start_time": "2023-03-06T11:23:38.533Z"
   },
   {
    "duration": 0,
    "start_time": "2023-03-06T11:23:38.534Z"
   },
   {
    "duration": 0,
    "start_time": "2023-03-06T11:23:38.535Z"
   },
   {
    "duration": 0,
    "start_time": "2023-03-06T11:23:38.536Z"
   },
   {
    "duration": 0,
    "start_time": "2023-03-06T11:23:38.537Z"
   },
   {
    "duration": 0,
    "start_time": "2023-03-06T11:23:38.538Z"
   },
   {
    "duration": 0,
    "start_time": "2023-03-06T11:23:38.539Z"
   },
   {
    "duration": 0,
    "start_time": "2023-03-06T11:23:38.540Z"
   },
   {
    "duration": 0,
    "start_time": "2023-03-06T11:23:38.541Z"
   },
   {
    "duration": 0,
    "start_time": "2023-03-06T11:23:38.542Z"
   },
   {
    "duration": 0,
    "start_time": "2023-03-06T11:23:38.542Z"
   },
   {
    "duration": 0,
    "start_time": "2023-03-06T11:23:38.543Z"
   },
   {
    "duration": 0,
    "start_time": "2023-03-06T11:23:38.568Z"
   },
   {
    "duration": 0,
    "start_time": "2023-03-06T11:23:38.569Z"
   },
   {
    "duration": 0,
    "start_time": "2023-03-06T11:23:38.571Z"
   },
   {
    "duration": 0,
    "start_time": "2023-03-06T11:23:38.572Z"
   },
   {
    "duration": 0,
    "start_time": "2023-03-06T11:23:38.577Z"
   },
   {
    "duration": 0,
    "start_time": "2023-03-06T11:23:38.579Z"
   },
   {
    "duration": 0,
    "start_time": "2023-03-06T11:23:38.581Z"
   },
   {
    "duration": 0,
    "start_time": "2023-03-06T11:23:38.582Z"
   },
   {
    "duration": 0,
    "start_time": "2023-03-06T11:23:38.584Z"
   },
   {
    "duration": 0,
    "start_time": "2023-03-06T11:23:38.585Z"
   },
   {
    "duration": 0,
    "start_time": "2023-03-06T11:23:38.586Z"
   },
   {
    "duration": 0,
    "start_time": "2023-03-06T11:23:38.587Z"
   },
   {
    "duration": 0,
    "start_time": "2023-03-06T11:23:38.589Z"
   },
   {
    "duration": 0,
    "start_time": "2023-03-06T11:23:38.590Z"
   },
   {
    "duration": 0,
    "start_time": "2023-03-06T11:23:38.591Z"
   },
   {
    "duration": 0,
    "start_time": "2023-03-06T11:23:38.593Z"
   },
   {
    "duration": 0,
    "start_time": "2023-03-06T11:23:38.594Z"
   },
   {
    "duration": 0,
    "start_time": "2023-03-06T11:23:38.595Z"
   },
   {
    "duration": 0,
    "start_time": "2023-03-06T11:23:38.596Z"
   },
   {
    "duration": 0,
    "start_time": "2023-03-06T11:23:38.596Z"
   },
   {
    "duration": 0,
    "start_time": "2023-03-06T11:23:38.597Z"
   },
   {
    "duration": 0,
    "start_time": "2023-03-06T11:23:38.598Z"
   },
   {
    "duration": 0,
    "start_time": "2023-03-06T11:23:38.599Z"
   },
   {
    "duration": 0,
    "start_time": "2023-03-06T11:23:38.599Z"
   },
   {
    "duration": 0,
    "start_time": "2023-03-06T11:23:38.601Z"
   },
   {
    "duration": 0,
    "start_time": "2023-03-06T11:23:38.602Z"
   },
   {
    "duration": 0,
    "start_time": "2023-03-06T11:23:38.603Z"
   },
   {
    "duration": 7,
    "start_time": "2023-03-06T11:27:34.986Z"
   },
   {
    "duration": 91,
    "start_time": "2023-03-06T11:27:36.889Z"
   },
   {
    "duration": 8,
    "start_time": "2023-03-06T11:27:37.584Z"
   },
   {
    "duration": 7,
    "start_time": "2023-03-06T11:27:48.007Z"
   },
   {
    "duration": 8,
    "start_time": "2023-03-06T11:27:50.155Z"
   },
   {
    "duration": 9,
    "start_time": "2023-03-06T11:27:55.600Z"
   },
   {
    "duration": 7,
    "start_time": "2023-03-06T11:27:56.518Z"
   },
   {
    "duration": 4,
    "start_time": "2023-03-06T11:27:57.691Z"
   },
   {
    "duration": 14,
    "start_time": "2023-03-06T11:28:28.995Z"
   },
   {
    "duration": 8,
    "start_time": "2023-03-06T11:28:51.289Z"
   },
   {
    "duration": 8,
    "start_time": "2023-03-06T11:28:52.401Z"
   },
   {
    "duration": 3,
    "start_time": "2023-03-06T11:28:53.395Z"
   },
   {
    "duration": 11,
    "start_time": "2023-03-06T11:29:23.834Z"
   },
   {
    "duration": 6,
    "start_time": "2023-03-06T11:29:34.896Z"
   },
   {
    "duration": 7,
    "start_time": "2023-03-06T11:29:36.036Z"
   },
   {
    "duration": 4,
    "start_time": "2023-03-06T11:29:36.795Z"
   },
   {
    "duration": 10,
    "start_time": "2023-03-06T11:33:08.500Z"
   },
   {
    "duration": 12,
    "start_time": "2023-03-06T11:39:44.202Z"
   },
   {
    "duration": 10,
    "start_time": "2023-03-06T11:40:12.998Z"
   },
   {
    "duration": 1636,
    "start_time": "2023-03-06T11:42:09.415Z"
   },
   {
    "duration": 11,
    "start_time": "2023-03-06T11:42:21.925Z"
   },
   {
    "duration": 12,
    "start_time": "2023-03-06T11:42:22.613Z"
   },
   {
    "duration": 4,
    "start_time": "2023-03-06T11:42:23.535Z"
   },
   {
    "duration": 1543,
    "start_time": "2023-03-06T11:42:42.303Z"
   },
   {
    "duration": 12,
    "start_time": "2023-03-06T11:42:55.334Z"
   },
   {
    "duration": 8,
    "start_time": "2023-03-06T11:42:56.125Z"
   },
   {
    "duration": 5,
    "start_time": "2023-03-06T11:42:57.134Z"
   },
   {
    "duration": 129,
    "start_time": "2023-03-06T11:53:25.773Z"
   },
   {
    "duration": 88,
    "start_time": "2023-03-06T11:56:27.008Z"
   },
   {
    "duration": 13,
    "start_time": "2023-03-06T12:10:34.649Z"
   },
   {
    "duration": 1358,
    "start_time": "2023-03-06T12:11:42.903Z"
   },
   {
    "duration": 963,
    "start_time": "2023-03-06T12:12:53.700Z"
   },
   {
    "duration": 6,
    "start_time": "2023-03-06T12:14:21.096Z"
   },
   {
    "duration": 58,
    "start_time": "2023-03-06T12:18:46.313Z"
   },
   {
    "duration": 109,
    "start_time": "2023-03-06T12:19:24.548Z"
   },
   {
    "duration": 10,
    "start_time": "2023-03-06T12:20:16.737Z"
   },
   {
    "duration": 87,
    "start_time": "2023-03-06T12:20:52.686Z"
   },
   {
    "duration": 97002,
    "start_time": "2023-03-06T12:23:24.985Z"
   },
   {
    "duration": 76,
    "start_time": "2023-03-06T12:25:01.992Z"
   },
   {
    "duration": 9,
    "start_time": "2023-03-06T12:25:02.075Z"
   },
   {
    "duration": 210,
    "start_time": "2023-03-06T12:26:00.281Z"
   },
   {
    "duration": 95966,
    "start_time": "2023-03-06T12:26:02.007Z"
   },
   {
    "duration": 83,
    "start_time": "2023-03-06T12:27:37.978Z"
   },
   {
    "duration": 6,
    "start_time": "2023-03-06T12:27:38.063Z"
   },
   {
    "duration": 92447,
    "start_time": "2023-03-06T12:28:12.832Z"
   },
   {
    "duration": 25,
    "start_time": "2023-03-06T12:29:45.361Z"
   },
   {
    "duration": 5,
    "start_time": "2023-03-06T12:29:45.389Z"
   },
   {
    "duration": 64950,
    "start_time": "2023-03-06T12:31:06.611Z"
   },
   {
    "duration": 96,
    "start_time": "2023-03-06T12:32:11.563Z"
   },
   {
    "duration": 4,
    "start_time": "2023-03-06T12:32:11.662Z"
   },
   {
    "duration": 47415,
    "start_time": "2023-03-06T12:34:19.646Z"
   },
   {
    "duration": 95,
    "start_time": "2023-03-06T12:35:07.064Z"
   },
   {
    "duration": 5,
    "start_time": "2023-03-06T12:35:07.162Z"
   },
   {
    "duration": 7,
    "start_time": "2023-03-06T12:40:06.206Z"
   },
   {
    "duration": 4,
    "start_time": "2023-03-06T12:40:15.952Z"
   },
   {
    "duration": 5,
    "start_time": "2023-03-06T12:40:17.412Z"
   },
   {
    "duration": 3,
    "start_time": "2023-03-06T12:40:18.891Z"
   },
   {
    "duration": 11,
    "start_time": "2023-03-06T12:40:19.850Z"
   },
   {
    "duration": 9,
    "start_time": "2023-03-06T12:40:22.322Z"
   },
   {
    "duration": 4,
    "start_time": "2023-03-06T12:40:27.703Z"
   },
   {
    "duration": 3,
    "start_time": "2023-03-06T12:40:28.531Z"
   },
   {
    "duration": 5,
    "start_time": "2023-03-06T12:40:29.366Z"
   },
   {
    "duration": 11,
    "start_time": "2023-03-06T12:51:08.395Z"
   },
   {
    "duration": 3,
    "start_time": "2023-03-06T12:51:09.723Z"
   },
   {
    "duration": 11578,
    "start_time": "2023-03-06T12:57:53.000Z"
   },
   {
    "duration": 33,
    "start_time": "2023-03-06T12:59:13.414Z"
   },
   {
    "duration": 15,
    "start_time": "2023-03-06T12:59:14.413Z"
   },
   {
    "duration": 6,
    "start_time": "2023-03-06T12:59:15.288Z"
   },
   {
    "duration": 13,
    "start_time": "2023-03-06T12:59:48.321Z"
   },
   {
    "duration": 3,
    "start_time": "2023-03-06T12:59:56.130Z"
   },
   {
    "duration": 5,
    "start_time": "2023-03-06T12:59:57.016Z"
   },
   {
    "duration": 11711,
    "start_time": "2023-03-06T13:00:21.204Z"
   },
   {
    "duration": 25,
    "start_time": "2023-03-06T13:00:47.218Z"
   },
   {
    "duration": 12,
    "start_time": "2023-03-06T13:00:47.791Z"
   },
   {
    "duration": 5,
    "start_time": "2023-03-06T13:00:48.584Z"
   },
   {
    "duration": 26461,
    "start_time": "2023-03-06T13:00:59.488Z"
   },
   {
    "duration": 92,
    "start_time": "2023-03-06T13:01:51.934Z"
   },
   {
    "duration": 23,
    "start_time": "2023-03-06T13:01:52.780Z"
   },
   {
    "duration": 4,
    "start_time": "2023-03-06T13:01:53.718Z"
   },
   {
    "duration": 19,
    "start_time": "2023-03-06T13:02:01.884Z"
   },
   {
    "duration": 7,
    "start_time": "2023-03-06T13:02:07.740Z"
   },
   {
    "duration": 4,
    "start_time": "2023-03-06T13:02:08.530Z"
   },
   {
    "duration": 115396,
    "start_time": "2023-03-06T13:02:46.502Z"
   },
   {
    "duration": 365,
    "start_time": "2023-03-06T13:07:25.176Z"
   },
   {
    "duration": 77,
    "start_time": "2023-03-06T13:07:26.133Z"
   },
   {
    "duration": 4,
    "start_time": "2023-03-06T13:07:26.935Z"
   },
   {
    "duration": 86,
    "start_time": "2023-03-06T13:07:35.431Z"
   },
   {
    "duration": 4,
    "start_time": "2023-03-06T13:07:43.172Z"
   },
   {
    "duration": 4,
    "start_time": "2023-03-06T13:07:44.063Z"
   },
   {
    "duration": 7221,
    "start_time": "2023-03-06T13:09:26.569Z"
   },
   {
    "duration": 19,
    "start_time": "2023-03-06T13:09:44.500Z"
   },
   {
    "duration": 10,
    "start_time": "2023-03-06T13:09:45.612Z"
   },
   {
    "duration": 4,
    "start_time": "2023-03-06T13:09:46.471Z"
   },
   {
    "duration": 11,
    "start_time": "2023-03-06T13:09:54.582Z"
   },
   {
    "duration": 4,
    "start_time": "2023-03-06T13:10:00.822Z"
   },
   {
    "duration": 4,
    "start_time": "2023-03-06T13:10:01.561Z"
   },
   {
    "duration": 5102,
    "start_time": "2023-03-06T13:11:41.010Z"
   },
   {
    "duration": 23,
    "start_time": "2023-03-06T13:11:50.205Z"
   },
   {
    "duration": 11,
    "start_time": "2023-03-06T13:11:51.009Z"
   },
   {
    "duration": 5,
    "start_time": "2023-03-06T13:11:51.873Z"
   },
   {
    "duration": 12,
    "start_time": "2023-03-06T13:12:03.910Z"
   },
   {
    "duration": 6,
    "start_time": "2023-03-06T13:12:10.215Z"
   },
   {
    "duration": 4,
    "start_time": "2023-03-06T13:12:10.937Z"
   },
   {
    "duration": 4958,
    "start_time": "2023-03-06T13:14:07.743Z"
   },
   {
    "duration": 31,
    "start_time": "2023-03-06T13:30:35.304Z"
   },
   {
    "duration": 14,
    "start_time": "2023-03-06T13:30:36.197Z"
   },
   {
    "duration": 6,
    "start_time": "2023-03-06T13:30:37.065Z"
   },
   {
    "duration": 11,
    "start_time": "2023-03-06T13:30:45.066Z"
   },
   {
    "duration": 4,
    "start_time": "2023-03-06T13:30:52.865Z"
   },
   {
    "duration": 3,
    "start_time": "2023-03-06T13:30:53.810Z"
   },
   {
    "duration": 139,
    "start_time": "2023-03-06T13:32:29.783Z"
   },
   {
    "duration": 4,
    "start_time": "2023-03-06T13:33:10.523Z"
   },
   {
    "duration": 191,
    "start_time": "2023-03-06T13:33:21.158Z"
   },
   {
    "duration": 80,
    "start_time": "2023-03-06T13:34:00.118Z"
   },
   {
    "duration": 7,
    "start_time": "2023-03-06T13:35:14.904Z"
   },
   {
    "duration": 3,
    "start_time": "2023-03-06T13:35:35.112Z"
   },
   {
    "duration": 204,
    "start_time": "2023-03-06T13:36:12.897Z"
   },
   {
    "duration": 7,
    "start_time": "2023-03-06T13:40:11.335Z"
   },
   {
    "duration": 7,
    "start_time": "2023-03-06T13:40:27.174Z"
   },
   {
    "duration": 4,
    "start_time": "2023-03-06T13:40:36.698Z"
   },
   {
    "duration": 2,
    "start_time": "2023-03-06T13:43:00.981Z"
   },
   {
    "duration": 5,
    "start_time": "2023-03-06T13:43:08.178Z"
   },
   {
    "duration": 2,
    "start_time": "2023-03-06T13:43:50.473Z"
   },
   {
    "duration": 13,
    "start_time": "2023-03-06T13:44:20.185Z"
   },
   {
    "duration": 4,
    "start_time": "2023-03-06T13:44:36.142Z"
   },
   {
    "duration": 4,
    "start_time": "2023-03-06T13:44:36.728Z"
   },
   {
    "duration": 4,
    "start_time": "2023-03-06T13:44:44.473Z"
   },
   {
    "duration": 24,
    "start_time": "2023-03-06T13:47:40.065Z"
   },
   {
    "duration": 4,
    "start_time": "2023-03-06T13:47:41.321Z"
   },
   {
    "duration": 4,
    "start_time": "2023-03-06T13:47:42.220Z"
   },
   {
    "duration": 1482,
    "start_time": "2023-03-06T13:50:06.703Z"
   },
   {
    "duration": 47,
    "start_time": "2023-03-06T13:50:08.187Z"
   },
   {
    "duration": 3,
    "start_time": "2023-03-06T13:50:08.235Z"
   },
   {
    "duration": 137,
    "start_time": "2023-03-06T13:50:08.239Z"
   },
   {
    "duration": 13,
    "start_time": "2023-03-06T13:50:08.378Z"
   },
   {
    "duration": 248,
    "start_time": "2023-03-06T13:50:08.393Z"
   },
   {
    "duration": 17,
    "start_time": "2023-03-06T13:50:08.643Z"
   },
   {
    "duration": 852,
    "start_time": "2023-03-06T13:50:08.662Z"
   },
   {
    "duration": 255,
    "start_time": "2023-03-06T13:50:09.515Z"
   },
   {
    "duration": 4,
    "start_time": "2023-03-06T13:50:09.772Z"
   },
   {
    "duration": 26,
    "start_time": "2023-03-06T13:50:09.777Z"
   },
   {
    "duration": 6,
    "start_time": "2023-03-06T13:50:09.804Z"
   },
   {
    "duration": 191,
    "start_time": "2023-03-06T13:50:09.811Z"
   },
   {
    "duration": 288,
    "start_time": "2023-03-06T13:50:10.004Z"
   },
   {
    "duration": 11,
    "start_time": "2023-03-06T13:50:10.294Z"
   },
   {
    "duration": 4,
    "start_time": "2023-03-06T13:50:10.306Z"
   },
   {
    "duration": 211,
    "start_time": "2023-03-06T13:50:10.311Z"
   },
   {
    "duration": 54021,
    "start_time": "2023-03-06T13:50:10.523Z"
   },
   {
    "duration": 1505,
    "start_time": "2023-03-06T13:51:04.546Z"
   },
   {
    "duration": 28,
    "start_time": "2023-03-06T13:51:06.053Z"
   },
   {
    "duration": 302,
    "start_time": "2023-03-06T13:51:06.082Z"
   },
   {
    "duration": 0,
    "start_time": "2023-03-06T13:51:06.388Z"
   },
   {
    "duration": 0,
    "start_time": "2023-03-06T13:51:06.390Z"
   },
   {
    "duration": 0,
    "start_time": "2023-03-06T13:51:06.391Z"
   },
   {
    "duration": 0,
    "start_time": "2023-03-06T13:51:06.393Z"
   },
   {
    "duration": 0,
    "start_time": "2023-03-06T13:51:06.394Z"
   },
   {
    "duration": 0,
    "start_time": "2023-03-06T13:51:06.395Z"
   },
   {
    "duration": 0,
    "start_time": "2023-03-06T13:51:06.398Z"
   },
   {
    "duration": 0,
    "start_time": "2023-03-06T13:51:06.399Z"
   },
   {
    "duration": 0,
    "start_time": "2023-03-06T13:51:06.401Z"
   },
   {
    "duration": 0,
    "start_time": "2023-03-06T13:51:06.402Z"
   },
   {
    "duration": 0,
    "start_time": "2023-03-06T13:51:06.404Z"
   },
   {
    "duration": 0,
    "start_time": "2023-03-06T13:51:06.405Z"
   },
   {
    "duration": 0,
    "start_time": "2023-03-06T13:51:06.406Z"
   },
   {
    "duration": 0,
    "start_time": "2023-03-06T13:51:06.407Z"
   },
   {
    "duration": 0,
    "start_time": "2023-03-06T13:51:06.408Z"
   },
   {
    "duration": 0,
    "start_time": "2023-03-06T13:51:06.409Z"
   },
   {
    "duration": 0,
    "start_time": "2023-03-06T13:51:06.411Z"
   },
   {
    "duration": 0,
    "start_time": "2023-03-06T13:51:06.412Z"
   },
   {
    "duration": 0,
    "start_time": "2023-03-06T13:51:06.413Z"
   },
   {
    "duration": 0,
    "start_time": "2023-03-06T13:51:06.414Z"
   },
   {
    "duration": 0,
    "start_time": "2023-03-06T13:51:06.415Z"
   },
   {
    "duration": 0,
    "start_time": "2023-03-06T13:51:06.416Z"
   },
   {
    "duration": 0,
    "start_time": "2023-03-06T13:51:06.455Z"
   },
   {
    "duration": 0,
    "start_time": "2023-03-06T13:51:06.456Z"
   },
   {
    "duration": 0,
    "start_time": "2023-03-06T13:51:06.457Z"
   },
   {
    "duration": 0,
    "start_time": "2023-03-06T13:51:06.457Z"
   },
   {
    "duration": 0,
    "start_time": "2023-03-06T13:51:06.458Z"
   },
   {
    "duration": 0,
    "start_time": "2023-03-06T13:51:06.458Z"
   },
   {
    "duration": 0,
    "start_time": "2023-03-06T13:51:06.459Z"
   },
   {
    "duration": 0,
    "start_time": "2023-03-06T13:51:06.459Z"
   },
   {
    "duration": 0,
    "start_time": "2023-03-06T13:51:06.460Z"
   },
   {
    "duration": 0,
    "start_time": "2023-03-06T13:51:06.460Z"
   },
   {
    "duration": 0,
    "start_time": "2023-03-06T13:51:06.461Z"
   },
   {
    "duration": 0,
    "start_time": "2023-03-06T13:51:06.461Z"
   },
   {
    "duration": 0,
    "start_time": "2023-03-06T13:51:06.462Z"
   },
   {
    "duration": 0,
    "start_time": "2023-03-06T13:51:06.462Z"
   },
   {
    "duration": 0,
    "start_time": "2023-03-06T13:51:06.463Z"
   },
   {
    "duration": 0,
    "start_time": "2023-03-06T13:51:06.465Z"
   },
   {
    "duration": 0,
    "start_time": "2023-03-06T13:51:06.465Z"
   },
   {
    "duration": 0,
    "start_time": "2023-03-06T13:51:06.466Z"
   },
   {
    "duration": 0,
    "start_time": "2023-03-06T13:51:06.466Z"
   },
   {
    "duration": 0,
    "start_time": "2023-03-06T13:51:06.467Z"
   },
   {
    "duration": 0,
    "start_time": "2023-03-06T13:51:06.467Z"
   },
   {
    "duration": 5,
    "start_time": "2023-03-06T13:54:51.930Z"
   },
   {
    "duration": 6,
    "start_time": "2023-03-06T13:55:03.935Z"
   },
   {
    "duration": 4,
    "start_time": "2023-03-06T13:55:05.026Z"
   },
   {
    "duration": 9,
    "start_time": "2023-03-06T13:55:07.672Z"
   },
   {
    "duration": 7,
    "start_time": "2023-03-06T13:55:08.579Z"
   },
   {
    "duration": 4,
    "start_time": "2023-03-06T13:55:09.414Z"
   },
   {
    "duration": 8,
    "start_time": "2023-03-06T13:55:11.277Z"
   },
   {
    "duration": 7,
    "start_time": "2023-03-06T13:55:12.173Z"
   },
   {
    "duration": 7,
    "start_time": "2023-03-06T13:55:12.956Z"
   },
   {
    "duration": 2,
    "start_time": "2023-03-06T13:55:19.203Z"
   },
   {
    "duration": 2,
    "start_time": "2023-03-06T13:55:19.813Z"
   },
   {
    "duration": 2,
    "start_time": "2023-03-06T13:55:19.874Z"
   },
   {
    "duration": 2,
    "start_time": "2023-03-06T13:55:20.166Z"
   },
   {
    "duration": 2,
    "start_time": "2023-03-06T13:55:20.610Z"
   },
   {
    "duration": 2,
    "start_time": "2023-03-06T13:55:20.772Z"
   },
   {
    "duration": 3,
    "start_time": "2023-03-06T13:55:20.934Z"
   },
   {
    "duration": 2,
    "start_time": "2023-03-06T13:55:21.001Z"
   },
   {
    "duration": 2,
    "start_time": "2023-03-06T13:55:21.281Z"
   },
   {
    "duration": 9,
    "start_time": "2023-03-06T13:55:21.353Z"
   },
   {
    "duration": 2,
    "start_time": "2023-03-06T13:55:21.601Z"
   },
   {
    "duration": 2,
    "start_time": "2023-03-06T13:55:21.695Z"
   },
   {
    "duration": 10,
    "start_time": "2023-03-06T13:55:21.953Z"
   },
   {
    "duration": 2,
    "start_time": "2023-03-06T13:55:22.008Z"
   },
   {
    "duration": 3,
    "start_time": "2023-03-06T13:55:22.300Z"
   },
   {
    "duration": 2,
    "start_time": "2023-03-06T13:55:22.778Z"
   },
   {
    "duration": 2,
    "start_time": "2023-03-06T13:55:22.829Z"
   },
   {
    "duration": 2,
    "start_time": "2023-03-06T13:55:23.123Z"
   },
   {
    "duration": 2,
    "start_time": "2023-03-06T13:55:23.177Z"
   },
   {
    "duration": 14,
    "start_time": "2023-03-06T13:55:23.454Z"
   },
   {
    "duration": 3,
    "start_time": "2023-03-06T13:55:23.525Z"
   },
   {
    "duration": 2,
    "start_time": "2023-03-06T13:55:23.800Z"
   },
   {
    "duration": 3,
    "start_time": "2023-03-06T13:55:23.870Z"
   },
   {
    "duration": 2,
    "start_time": "2023-03-06T13:55:24.181Z"
   },
   {
    "duration": 2,
    "start_time": "2023-03-06T13:55:24.237Z"
   },
   {
    "duration": 2,
    "start_time": "2023-03-06T13:55:24.523Z"
   },
   {
    "duration": 3,
    "start_time": "2023-03-06T13:55:24.599Z"
   },
   {
    "duration": 2,
    "start_time": "2023-03-06T13:55:24.870Z"
   },
   {
    "duration": 2,
    "start_time": "2023-03-06T13:55:24.925Z"
   },
   {
    "duration": 88,
    "start_time": "2023-03-06T13:55:26.169Z"
   },
   {
    "duration": 3,
    "start_time": "2023-03-06T13:55:32.213Z"
   },
   {
    "duration": 9,
    "start_time": "2023-03-06T13:55:33.257Z"
   },
   {
    "duration": 13,
    "start_time": "2023-03-06T13:55:40.202Z"
   },
   {
    "duration": 7,
    "start_time": "2023-03-06T13:55:56.312Z"
   },
   {
    "duration": 9,
    "start_time": "2023-03-06T13:55:58.374Z"
   },
   {
    "duration": 1442,
    "start_time": "2023-03-06T13:58:10.397Z"
   },
   {
    "duration": 55,
    "start_time": "2023-03-06T13:58:11.841Z"
   },
   {
    "duration": 2,
    "start_time": "2023-03-06T13:58:11.898Z"
   },
   {
    "duration": 19,
    "start_time": "2023-03-06T13:58:11.902Z"
   },
   {
    "duration": 13,
    "start_time": "2023-03-06T13:58:11.923Z"
   },
   {
    "duration": 241,
    "start_time": "2023-03-06T13:58:11.938Z"
   },
   {
    "duration": 11,
    "start_time": "2023-03-06T13:58:12.180Z"
   },
   {
    "duration": 878,
    "start_time": "2023-03-06T13:58:12.192Z"
   },
   {
    "duration": 227,
    "start_time": "2023-03-06T13:58:13.071Z"
   },
   {
    "duration": 4,
    "start_time": "2023-03-06T13:58:13.301Z"
   },
   {
    "duration": 23,
    "start_time": "2023-03-06T13:58:13.306Z"
   },
   {
    "duration": 6,
    "start_time": "2023-03-06T13:58:13.331Z"
   },
   {
    "duration": 174,
    "start_time": "2023-03-06T13:58:13.364Z"
   },
   {
    "duration": 298,
    "start_time": "2023-03-06T13:58:13.539Z"
   },
   {
    "duration": 19,
    "start_time": "2023-03-06T13:58:13.839Z"
   },
   {
    "duration": 12,
    "start_time": "2023-03-06T13:58:13.860Z"
   },
   {
    "duration": 200,
    "start_time": "2023-03-06T13:58:13.874Z"
   },
   {
    "duration": 54217,
    "start_time": "2023-03-06T13:58:14.075Z"
   },
   {
    "duration": 1454,
    "start_time": "2023-03-06T13:59:08.293Z"
   },
   {
    "duration": 21,
    "start_time": "2023-03-06T13:59:09.749Z"
   },
   {
    "duration": 9,
    "start_time": "2023-03-06T13:59:09.773Z"
   },
   {
    "duration": 92,
    "start_time": "2023-03-06T13:59:09.784Z"
   },
   {
    "duration": 87,
    "start_time": "2023-03-06T13:59:09.884Z"
   },
   {
    "duration": 8,
    "start_time": "2023-03-06T13:59:09.973Z"
   },
   {
    "duration": 7,
    "start_time": "2023-03-06T13:59:09.983Z"
   },
   {
    "duration": 4,
    "start_time": "2023-03-06T13:59:09.991Z"
   },
   {
    "duration": 85,
    "start_time": "2023-03-06T13:59:09.996Z"
   },
   {
    "duration": 13,
    "start_time": "2023-03-06T13:59:10.160Z"
   },
   {
    "duration": 101,
    "start_time": "2023-03-06T13:59:10.175Z"
   },
   {
    "duration": 3,
    "start_time": "2023-03-06T13:59:10.277Z"
   },
   {
    "duration": 88,
    "start_time": "2023-03-06T13:59:10.282Z"
   },
   {
    "duration": 3,
    "start_time": "2023-03-06T13:59:10.371Z"
   },
   {
    "duration": 2,
    "start_time": "2023-03-06T13:59:10.376Z"
   },
   {
    "duration": 3,
    "start_time": "2023-03-06T13:59:10.380Z"
   },
   {
    "duration": 3,
    "start_time": "2023-03-06T13:59:10.384Z"
   },
   {
    "duration": 3,
    "start_time": "2023-03-06T13:59:10.388Z"
   },
   {
    "duration": 2,
    "start_time": "2023-03-06T13:59:10.393Z"
   },
   {
    "duration": 5,
    "start_time": "2023-03-06T13:59:10.397Z"
   },
   {
    "duration": 4,
    "start_time": "2023-03-06T13:59:10.403Z"
   },
   {
    "duration": 3,
    "start_time": "2023-03-06T13:59:10.408Z"
   },
   {
    "duration": 3,
    "start_time": "2023-03-06T13:59:10.412Z"
   },
   {
    "duration": 3,
    "start_time": "2023-03-06T13:59:10.417Z"
   },
   {
    "duration": 14,
    "start_time": "2023-03-06T13:59:10.421Z"
   },
   {
    "duration": 31,
    "start_time": "2023-03-06T13:59:10.437Z"
   },
   {
    "duration": 2,
    "start_time": "2023-03-06T13:59:10.470Z"
   },
   {
    "duration": 3,
    "start_time": "2023-03-06T13:59:10.474Z"
   },
   {
    "duration": 3,
    "start_time": "2023-03-06T13:59:10.478Z"
   },
   {
    "duration": 4,
    "start_time": "2023-03-06T13:59:10.482Z"
   },
   {
    "duration": 4,
    "start_time": "2023-03-06T13:59:10.487Z"
   },
   {
    "duration": 3,
    "start_time": "2023-03-06T13:59:10.492Z"
   },
   {
    "duration": 7,
    "start_time": "2023-03-06T13:59:10.496Z"
   },
   {
    "duration": 4,
    "start_time": "2023-03-06T13:59:10.505Z"
   },
   {
    "duration": 3,
    "start_time": "2023-03-06T13:59:10.511Z"
   },
   {
    "duration": 3,
    "start_time": "2023-03-06T13:59:10.515Z"
   },
   {
    "duration": 3,
    "start_time": "2023-03-06T13:59:10.520Z"
   },
   {
    "duration": 4,
    "start_time": "2023-03-06T13:59:10.524Z"
   },
   {
    "duration": 3,
    "start_time": "2023-03-06T13:59:10.529Z"
   },
   {
    "duration": 34,
    "start_time": "2023-03-06T13:59:10.533Z"
   },
   {
    "duration": 18,
    "start_time": "2023-03-06T13:59:10.569Z"
   },
   {
    "duration": 8,
    "start_time": "2023-03-06T13:59:10.656Z"
   },
   {
    "duration": 5,
    "start_time": "2023-03-06T13:59:10.673Z"
   },
   {
    "duration": 95,
    "start_time": "2023-03-06T13:59:10.679Z"
   },
   {
    "duration": 9,
    "start_time": "2023-03-06T13:59:10.776Z"
   }
  ],
  "kernelspec": {
   "display_name": "Python 3 (ipykernel)",
   "language": "python",
   "name": "python3"
  },
  "language_info": {
   "codemirror_mode": {
    "name": "ipython",
    "version": 3
   },
   "file_extension": ".py",
   "mimetype": "text/x-python",
   "name": "python",
   "nbconvert_exporter": "python",
   "pygments_lexer": "ipython3",
   "version": "3.9.5"
  },
  "toc": {
   "base_numbering": 1,
   "nav_menu": {},
   "number_sections": true,
   "sideBar": true,
   "skip_h1_title": true,
   "title_cell": "Содержание",
   "title_sidebar": "Contents",
   "toc_cell": true,
   "toc_position": {
    "height": "711px",
    "left": "95px",
    "top": "111.125px",
    "width": "288.594px"
   },
   "toc_section_display": true,
   "toc_window_display": true
  }
 },
 "nbformat": 4,
 "nbformat_minor": 2
}

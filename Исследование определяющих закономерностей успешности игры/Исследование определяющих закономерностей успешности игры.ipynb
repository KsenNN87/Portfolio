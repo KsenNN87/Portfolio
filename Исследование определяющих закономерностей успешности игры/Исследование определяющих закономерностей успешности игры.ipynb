{
 "cells": [
  {
   "cell_type": "markdown",
   "metadata": {},
   "source": [
    "Привет! \n",
    "\n",
    "Меня зовут Маковеев Кирилл, я буду проверять твой проект ; ) Моя основная цель — не указать на совершенные тобою ошибки, а помочь тебе стать аналитиком данных.\n",
    "\n",
    "Если тебе комфортно, можешь обращаться ко мне на «ты» - тогда и я буду к тебе так обращаться, но если нет, то обязательно дай знать.\n",
    "\n",
    "Пожалуйста, не удаляй комментарии, которые я буду оставлять в работе, это особенно поможет, если твои проекты будут отправлены на повторную проверку.\n",
    "\n",
    "Кстати, ты тоже можешь реагировать на мои комментарии, но в таком случае постарайся, чтобы твои комментарии отличались: например, выделяй их любимым цветом — тогда у нас не возникнет путаницы. \n",
    "\n",
    "Набор моих цветов:\n",
    "<div class=\"alert-success\"> \n",
    "<b>Комментарий ревьюера 👍 </b>\n",
    "    \n",
    "Решение на отдельном шаге является полностью правильным. </div>\n",
    "\n",
    "<div class=\"alert-warning\"> \n",
    "<b>Комментарий ревьюера 💡</b> \n",
    "    \n",
    "Решение может стать еще лучше с некоторыми корректировками </div>\n",
    "\n",
    "<div class=\"alert-danger\"> \n",
    "<b>Комментарий ревьюера ❌</b> \n",
    "    \n",
    "В случае, если решение какого-то шага требует значительных изменений. Проект не может быть принят с первого раза, если ревью содержит комментарии, помеченные этим цветом </div>\n",
    "___"
   ]
  },
  {
   "cell_type": "markdown",
   "metadata": {},
   "source": [
    "<div class=\"alert alert-info\">\n",
    "<b>Кирилл, привет! Ответы и поправки от меня буду выделять синим. </b>\n",
    "<br>\n",
    "</div>\n"
   ]
  },
  {
   "cell_type": "markdown",
   "metadata": {},
   "source": [
    "# Исследование определяющих закономерностей успешности игры"
   ]
  },
  {
   "cell_type": "markdown",
   "metadata": {},
   "source": [
    "Вы нашем распоряжении данные из интернет-магазина «Стримчик», который продаёт по всему миру компьютерные игры. Из открытых источников доступны исторические данные о продажах игр, оценки пользователей и экспертов, жанры и платформы (например, Xbox или PlayStation). Нам нужно выявить определяющие успешность игры закономерности. Это позволит сделать ставку на потенциально популярный продукт и спланировать рекламные кампании.\n",
    "Перед нами данные до 2016 года и нужно спланировать кампанию на 2017 год. Нужно проанализировать, сколько игр выпускалось в разные годы, как менялись продажи по платформам, построить график по глобальным продажам, посмотреть общее распределение по жанрам, составить портрет пользователя для пользователя каждого региона, изучить пользовательские рейтинги платформ."
   ]
  },
  {
   "cell_type": "markdown",
   "metadata": {},
   "source": [
    "**План работы:**"
   ]
  },
  {
   "cell_type": "markdown",
   "metadata": {},
   "source": [
    "- Изучение общей информации о файле\n",
    "- Предобработка данных (переименуем столбцы в соответствии с хорошим стилем, изменим типы данных в нужных столбцах, заполним пропуски в столбцах, удалим строки с пропущенными названиями игр, создадим столбец с подсчетом суммарных продаж по регионам)\n",
    "- Исследовательский анализ данных (сколько игр выпускалось в разные периоды, как менялись продажи по платформам, выберем актуальный период для прогноза на 2017 год, выведем лидирующие по продажам платформы, пострим графики о глобальных продажах, проанализируем влияние на продажу внутри одной платформы отзывы пользователей и критиков, соотнесем выводы с продажами игр на других платформах, посмотрим на общее распределение игр по жанрам)\n",
    "- Составление портрета пользователя каждого региона (Северная Америка, Европа, Япония)\n",
    "- Проверка гипотез (про средние рейтинги платформ Xbox One и PC, про жанры 'Action' и 'Sports')\n",
    "- Общий вывод по итогам исследования"
   ]
  },
  {
   "cell_type": "markdown",
   "metadata": {},
   "source": [
    "## Изучим общую информацию о файле"
   ]
  },
  {
   "cell_type": "markdown",
   "metadata": {},
   "source": [
    " ### Импортируем библиотеки"
   ]
  },
  {
   "cell_type": "code",
   "execution_count": 390,
   "metadata": {},
   "outputs": [],
   "source": [
    "import pandas as pd"
   ]
  },
  {
   "cell_type": "code",
   "execution_count": 391,
   "metadata": {},
   "outputs": [],
   "source": [
    "import numpy as np"
   ]
  },
  {
   "cell_type": "code",
   "execution_count": 392,
   "metadata": {},
   "outputs": [],
   "source": [
    "import matplotlib.pyplot as plt"
   ]
  },
  {
   "cell_type": "code",
   "execution_count": 393,
   "metadata": {},
   "outputs": [],
   "source": [
    "from scipy import stats as st"
   ]
  },
  {
   "cell_type": "markdown",
   "metadata": {},
   "source": [
    "### Откроем файл с данными"
   ]
  },
  {
   "cell_type": "code",
   "execution_count": 394,
   "metadata": {},
   "outputs": [],
   "source": [
    "data = pd.read_csv('/datasets/games.csv')"
   ]
  },
  {
   "cell_type": "markdown",
   "metadata": {},
   "source": [
    "### Выведем первые 10 строк датасета"
   ]
  },
  {
   "cell_type": "code",
   "execution_count": 395,
   "metadata": {},
   "outputs": [
    {
     "data": {
      "text/html": [
       "<div>\n",
       "<style scoped>\n",
       "    .dataframe tbody tr th:only-of-type {\n",
       "        vertical-align: middle;\n",
       "    }\n",
       "\n",
       "    .dataframe tbody tr th {\n",
       "        vertical-align: top;\n",
       "    }\n",
       "\n",
       "    .dataframe thead th {\n",
       "        text-align: right;\n",
       "    }\n",
       "</style>\n",
       "<table border=\"1\" class=\"dataframe\">\n",
       "  <thead>\n",
       "    <tr style=\"text-align: right;\">\n",
       "      <th></th>\n",
       "      <th>Name</th>\n",
       "      <th>Platform</th>\n",
       "      <th>Year_of_Release</th>\n",
       "      <th>Genre</th>\n",
       "      <th>NA_sales</th>\n",
       "      <th>EU_sales</th>\n",
       "      <th>JP_sales</th>\n",
       "      <th>Other_sales</th>\n",
       "      <th>Critic_Score</th>\n",
       "      <th>User_Score</th>\n",
       "      <th>Rating</th>\n",
       "    </tr>\n",
       "  </thead>\n",
       "  <tbody>\n",
       "    <tr>\n",
       "      <th>0</th>\n",
       "      <td>Wii Sports</td>\n",
       "      <td>Wii</td>\n",
       "      <td>2006.0</td>\n",
       "      <td>Sports</td>\n",
       "      <td>41.36</td>\n",
       "      <td>28.96</td>\n",
       "      <td>3.77</td>\n",
       "      <td>8.45</td>\n",
       "      <td>76.0</td>\n",
       "      <td>8</td>\n",
       "      <td>E</td>\n",
       "    </tr>\n",
       "    <tr>\n",
       "      <th>1</th>\n",
       "      <td>Super Mario Bros.</td>\n",
       "      <td>NES</td>\n",
       "      <td>1985.0</td>\n",
       "      <td>Platform</td>\n",
       "      <td>29.08</td>\n",
       "      <td>3.58</td>\n",
       "      <td>6.81</td>\n",
       "      <td>0.77</td>\n",
       "      <td>NaN</td>\n",
       "      <td>NaN</td>\n",
       "      <td>NaN</td>\n",
       "    </tr>\n",
       "    <tr>\n",
       "      <th>2</th>\n",
       "      <td>Mario Kart Wii</td>\n",
       "      <td>Wii</td>\n",
       "      <td>2008.0</td>\n",
       "      <td>Racing</td>\n",
       "      <td>15.68</td>\n",
       "      <td>12.76</td>\n",
       "      <td>3.79</td>\n",
       "      <td>3.29</td>\n",
       "      <td>82.0</td>\n",
       "      <td>8.3</td>\n",
       "      <td>E</td>\n",
       "    </tr>\n",
       "    <tr>\n",
       "      <th>3</th>\n",
       "      <td>Wii Sports Resort</td>\n",
       "      <td>Wii</td>\n",
       "      <td>2009.0</td>\n",
       "      <td>Sports</td>\n",
       "      <td>15.61</td>\n",
       "      <td>10.93</td>\n",
       "      <td>3.28</td>\n",
       "      <td>2.95</td>\n",
       "      <td>80.0</td>\n",
       "      <td>8</td>\n",
       "      <td>E</td>\n",
       "    </tr>\n",
       "    <tr>\n",
       "      <th>4</th>\n",
       "      <td>Pokemon Red/Pokemon Blue</td>\n",
       "      <td>GB</td>\n",
       "      <td>1996.0</td>\n",
       "      <td>Role-Playing</td>\n",
       "      <td>11.27</td>\n",
       "      <td>8.89</td>\n",
       "      <td>10.22</td>\n",
       "      <td>1.00</td>\n",
       "      <td>NaN</td>\n",
       "      <td>NaN</td>\n",
       "      <td>NaN</td>\n",
       "    </tr>\n",
       "    <tr>\n",
       "      <th>5</th>\n",
       "      <td>Tetris</td>\n",
       "      <td>GB</td>\n",
       "      <td>1989.0</td>\n",
       "      <td>Puzzle</td>\n",
       "      <td>23.20</td>\n",
       "      <td>2.26</td>\n",
       "      <td>4.22</td>\n",
       "      <td>0.58</td>\n",
       "      <td>NaN</td>\n",
       "      <td>NaN</td>\n",
       "      <td>NaN</td>\n",
       "    </tr>\n",
       "    <tr>\n",
       "      <th>6</th>\n",
       "      <td>New Super Mario Bros.</td>\n",
       "      <td>DS</td>\n",
       "      <td>2006.0</td>\n",
       "      <td>Platform</td>\n",
       "      <td>11.28</td>\n",
       "      <td>9.14</td>\n",
       "      <td>6.50</td>\n",
       "      <td>2.88</td>\n",
       "      <td>89.0</td>\n",
       "      <td>8.5</td>\n",
       "      <td>E</td>\n",
       "    </tr>\n",
       "    <tr>\n",
       "      <th>7</th>\n",
       "      <td>Wii Play</td>\n",
       "      <td>Wii</td>\n",
       "      <td>2006.0</td>\n",
       "      <td>Misc</td>\n",
       "      <td>13.96</td>\n",
       "      <td>9.18</td>\n",
       "      <td>2.93</td>\n",
       "      <td>2.84</td>\n",
       "      <td>58.0</td>\n",
       "      <td>6.6</td>\n",
       "      <td>E</td>\n",
       "    </tr>\n",
       "    <tr>\n",
       "      <th>8</th>\n",
       "      <td>New Super Mario Bros. Wii</td>\n",
       "      <td>Wii</td>\n",
       "      <td>2009.0</td>\n",
       "      <td>Platform</td>\n",
       "      <td>14.44</td>\n",
       "      <td>6.94</td>\n",
       "      <td>4.70</td>\n",
       "      <td>2.24</td>\n",
       "      <td>87.0</td>\n",
       "      <td>8.4</td>\n",
       "      <td>E</td>\n",
       "    </tr>\n",
       "    <tr>\n",
       "      <th>9</th>\n",
       "      <td>Duck Hunt</td>\n",
       "      <td>NES</td>\n",
       "      <td>1984.0</td>\n",
       "      <td>Shooter</td>\n",
       "      <td>26.93</td>\n",
       "      <td>0.63</td>\n",
       "      <td>0.28</td>\n",
       "      <td>0.47</td>\n",
       "      <td>NaN</td>\n",
       "      <td>NaN</td>\n",
       "      <td>NaN</td>\n",
       "    </tr>\n",
       "  </tbody>\n",
       "</table>\n",
       "</div>"
      ],
      "text/plain": [
       "                        Name Platform  Year_of_Release         Genre  \\\n",
       "0                 Wii Sports      Wii           2006.0        Sports   \n",
       "1          Super Mario Bros.      NES           1985.0      Platform   \n",
       "2             Mario Kart Wii      Wii           2008.0        Racing   \n",
       "3          Wii Sports Resort      Wii           2009.0        Sports   \n",
       "4   Pokemon Red/Pokemon Blue       GB           1996.0  Role-Playing   \n",
       "5                     Tetris       GB           1989.0        Puzzle   \n",
       "6      New Super Mario Bros.       DS           2006.0      Platform   \n",
       "7                   Wii Play      Wii           2006.0          Misc   \n",
       "8  New Super Mario Bros. Wii      Wii           2009.0      Platform   \n",
       "9                  Duck Hunt      NES           1984.0       Shooter   \n",
       "\n",
       "   NA_sales  EU_sales  JP_sales  Other_sales  Critic_Score User_Score Rating  \n",
       "0     41.36     28.96      3.77         8.45          76.0          8      E  \n",
       "1     29.08      3.58      6.81         0.77           NaN        NaN    NaN  \n",
       "2     15.68     12.76      3.79         3.29          82.0        8.3      E  \n",
       "3     15.61     10.93      3.28         2.95          80.0          8      E  \n",
       "4     11.27      8.89     10.22         1.00           NaN        NaN    NaN  \n",
       "5     23.20      2.26      4.22         0.58           NaN        NaN    NaN  \n",
       "6     11.28      9.14      6.50         2.88          89.0        8.5      E  \n",
       "7     13.96      9.18      2.93         2.84          58.0        6.6      E  \n",
       "8     14.44      6.94      4.70         2.24          87.0        8.4      E  \n",
       "9     26.93      0.63      0.28         0.47           NaN        NaN    NaN  "
      ]
     },
     "execution_count": 395,
     "metadata": {},
     "output_type": "execute_result"
    }
   ],
   "source": [
    "data.head(10)"
   ]
  },
  {
   "cell_type": "markdown",
   "metadata": {},
   "source": [
    "### Выведем общую информацию о датасете"
   ]
  },
  {
   "cell_type": "code",
   "execution_count": 396,
   "metadata": {},
   "outputs": [
    {
     "name": "stdout",
     "output_type": "stream",
     "text": [
      "<class 'pandas.core.frame.DataFrame'>\n",
      "RangeIndex: 16715 entries, 0 to 16714\n",
      "Data columns (total 11 columns):\n",
      " #   Column           Non-Null Count  Dtype  \n",
      "---  ------           --------------  -----  \n",
      " 0   Name             16713 non-null  object \n",
      " 1   Platform         16715 non-null  object \n",
      " 2   Year_of_Release  16446 non-null  float64\n",
      " 3   Genre            16713 non-null  object \n",
      " 4   NA_sales         16715 non-null  float64\n",
      " 5   EU_sales         16715 non-null  float64\n",
      " 6   JP_sales         16715 non-null  float64\n",
      " 7   Other_sales      16715 non-null  float64\n",
      " 8   Critic_Score     8137 non-null   float64\n",
      " 9   User_Score       10014 non-null  object \n",
      " 10  Rating           9949 non-null   object \n",
      "dtypes: float64(6), object(5)\n",
      "memory usage: 1.4+ MB\n"
     ]
    }
   ],
   "source": [
    "data.info()"
   ]
  },
  {
   "cell_type": "markdown",
   "metadata": {},
   "source": [
    "Подведем итог. В таблице 11 столбцов, согласно докумментации:\n",
    "- Name — название игры\n",
    "- Platform — платформа\n",
    "- Year_of_Release — год выпуска\n",
    "- Genre — жанр игры\n",
    "- NA_sales — продажи в Северной Америке (миллионы проданных копий)\n",
    "- EU_sales — продажи в Европе (миллионы проданных копий)\n",
    "- JP_sales — продажи в Японии (миллионы проданных копий)\n",
    "- Other_sales — продажи в других странах (миллионы проданных копий)\n",
    "- Critic_Score — оценка критиков (максимум 100)\n",
    "- User_Score — оценка пользователей (максимум 10)\n",
    "- Rating — рейтинг от организации ESRB (англ. Entertainment Software Rating Board). Эта ассоциация определяет рейтинг компьютерных игр и присваивает им подходящую возрастную категорию."
   ]
  },
  {
   "cell_type": "markdown",
   "metadata": {},
   "source": [
    "<div class=\"alert-success\"> \n",
    "<b>Комментарий ревьюера 👍 </b>\n",
    "\n",
    "Очень хорошо, что ты добавляешь описание данных - это упрощает понимание проекта для тех, кто с ним ознакамливается.</div>"
   ]
  },
  {
   "cell_type": "markdown",
   "metadata": {},
   "source": [
    "**Вывод**"
   ]
  },
  {
   "cell_type": "markdown",
   "metadata": {},
   "source": [
    "Вывели основную информацию о датафрейме. В данных присутствуют противоречивые данные:\n",
    "- много пропусков\n",
    "- все названия столбцов начинаются с прописных букв\n",
    "- не соответствие в некоторых столбцах типа данных, предназначенного для анализа."
   ]
  },
  {
   "cell_type": "markdown",
   "metadata": {},
   "source": [
    "## Предобработка данных"
   ]
  },
  {
   "cell_type": "markdown",
   "metadata": {},
   "source": [
    "### Выведем все названия столбцов на экран"
   ]
  },
  {
   "cell_type": "markdown",
   "metadata": {},
   "source": [
    "Будем приводить таблицу в надлежащий вид перед анализом данных, а именно:\n",
    "- переименуем столбцы в соответствии с хорошим стилем\n",
    "- изменим типы данных в столбцах 'year_of_release' и 'user_score'\n",
    "- заполним пропуски в столбцах 'year_of_release', 'user_score', 'genre'\n",
    "- удалим две строки с пропущенными названиями игр\n",
    "- создадим столбец с подсчетом суммарных продаж по регионам\n",
    "- посмотрим на уникальные значения в столбце 'rating'"
   ]
  },
  {
   "cell_type": "code",
   "execution_count": 397,
   "metadata": {},
   "outputs": [
    {
     "data": {
      "text/plain": [
       "Index(['Name', 'Platform', 'Year_of_Release', 'Genre', 'NA_sales', 'EU_sales',\n",
       "       'JP_sales', 'Other_sales', 'Critic_Score', 'User_Score', 'Rating'],\n",
       "      dtype='object')"
      ]
     },
     "execution_count": 397,
     "metadata": {},
     "output_type": "execute_result"
    }
   ],
   "source": [
    "data.columns"
   ]
  },
  {
   "cell_type": "markdown",
   "metadata": {},
   "source": [
    "### Переименуем все столбцы в соответствии с хорошим стилем"
   ]
  },
  {
   "cell_type": "code",
   "execution_count": 398,
   "metadata": {},
   "outputs": [],
   "source": [
    "# data.columns = map(str.lower, data.columns)"
   ]
  },
  {
   "cell_type": "code",
   "execution_count": 399,
   "metadata": {},
   "outputs": [],
   "source": [
    "data.columns = data.columns.str.lower()"
   ]
  },
  {
   "cell_type": "markdown",
   "metadata": {},
   "source": [
    "<div class=\"alert-warning\"> \n",
    "<b>Комментарий ревьюера 💡</b> \n",
    "   \n",
    "Добавлю, что можно сделать это и без map: data.columns = data.columns.str.lower() </div>"
   ]
  },
  {
   "cell_type": "markdown",
   "metadata": {},
   "source": [
    "<div class=\"alert alert-info\">\n",
    "<b>Исправила код </b>\n",
    "<br>\n",
    "</div>"
   ]
  },
  {
   "cell_type": "markdown",
   "metadata": {},
   "source": [
    "### Проверим изменения, выведем названия столбцов на экран"
   ]
  },
  {
   "cell_type": "code",
   "execution_count": 400,
   "metadata": {},
   "outputs": [
    {
     "data": {
      "text/plain": [
       "Index(['name', 'platform', 'year_of_release', 'genre', 'na_sales', 'eu_sales',\n",
       "       'jp_sales', 'other_sales', 'critic_score', 'user_score', 'rating'],\n",
       "      dtype='object')"
      ]
     },
     "execution_count": 400,
     "metadata": {},
     "output_type": "execute_result"
    }
   ],
   "source": [
    "data.columns"
   ]
  },
  {
   "cell_type": "markdown",
   "metadata": {},
   "source": [
    "### Изменим в нужных столбцах тип данных и заполним пропуски"
   ]
  },
  {
   "cell_type": "markdown",
   "metadata": {},
   "source": [
    "В столбце 'year_of_release' тип данных изменим на 'int64' и удалим пропуски (их около 1.6% от всего объема данных)"
   ]
  },
  {
   "cell_type": "code",
   "execution_count": 401,
   "metadata": {},
   "outputs": [],
   "source": [
    "data = data.dropna(subset=['year_of_release']).reset_index(drop=True)"
   ]
  },
  {
   "cell_type": "markdown",
   "metadata": {},
   "source": [
    "<div class=\"alert-success\"> \n",
    "<b>Комментарий ревьюера 👍</b>\n",
    "\n",
    "Согласен. Там, где пропусков мало и восстановить их не представляется возможным, релевантным будет их удалить."
   ]
  },
  {
   "cell_type": "code",
   "execution_count": 402,
   "metadata": {},
   "outputs": [],
   "source": [
    "data['year_of_release'] = data['year_of_release'].astype('int64')"
   ]
  },
  {
   "cell_type": "markdown",
   "metadata": {},
   "source": [
    "В столбце 'user_score' изменим тип данных на 'числовой' для удобства расчетов"
   ]
  },
  {
   "cell_type": "code",
   "execution_count": 403,
   "metadata": {},
   "outputs": [],
   "source": [
    "data['user_score'] = pd.to_numeric(data['user_score'], errors='coerce')"
   ]
  },
  {
   "cell_type": "markdown",
   "metadata": {},
   "source": [
    "Выведем количество пропущенных значений на экран"
   ]
  },
  {
   "cell_type": "code",
   "execution_count": 404,
   "metadata": {},
   "outputs": [
    {
     "data": {
      "text/plain": [
       "name                  2\n",
       "platform              0\n",
       "year_of_release       0\n",
       "genre                 2\n",
       "na_sales              0\n",
       "eu_sales              0\n",
       "jp_sales              0\n",
       "other_sales           0\n",
       "critic_score       8463\n",
       "user_score         8983\n",
       "rating             6678\n",
       "dtype: int64"
      ]
     },
     "execution_count": 404,
     "metadata": {},
     "output_type": "execute_result"
    }
   ],
   "source": [
    "data.isna().sum()"
   ]
  },
  {
   "cell_type": "markdown",
   "metadata": {},
   "source": [
    "В столбцах 'genre' заменим пропуски на 'unknow'"
   ]
  },
  {
   "cell_type": "code",
   "execution_count": 405,
   "metadata": {},
   "outputs": [],
   "source": [
    "columns_to_replace = ['genre']\n",
    "for column in columns_to_replace:\n",
    "    data[column] = data[column].fillna('unknow')"
   ]
  },
  {
   "cell_type": "markdown",
   "metadata": {},
   "source": [
    "В столбце 'user_score', помимо 'NaN', встречается значение 'tbd', что означает 'To Be Determined', то есть 'Будет определено'. Такой рейтинг устанавливается, если игра еще не выпустилась, или готовится к релизу какое-либо дополнение, однако пока не известно, когда именно оно будет выпущено, поэтому заменим значения 'tbd' на 'Nan'."
   ]
  },
  {
   "cell_type": "markdown",
   "metadata": {},
   "source": [
    "<div class=\"alert-success\"> \n",
    "<b>Комментарий ревьюера 👍 </b>\n",
    "\n",
    "Да, TBD можно интерпретировать как игры, ожидающие оценки. "
   ]
  },
  {
   "cell_type": "code",
   "execution_count": 406,
   "metadata": {
    "scrolled": false
   },
   "outputs": [],
   "source": [
    "data.loc[data['user_score']=='tbd', 'user_score'] = np.nan"
   ]
  },
  {
   "cell_type": "markdown",
   "metadata": {},
   "source": [
    "Удалим две строки с пропущенными названиями игр, так как не понятно о какой игре идет речь."
   ]
  },
  {
   "cell_type": "code",
   "execution_count": 407,
   "metadata": {},
   "outputs": [],
   "source": [
    "data.dropna(subset=['name'], inplace=True)"
   ]
  },
  {
   "cell_type": "markdown",
   "metadata": {},
   "source": [
    "Посмотрим на уникальные значения в столбце 'rating'"
   ]
  },
  {
   "cell_type": "code",
   "execution_count": 408,
   "metadata": {},
   "outputs": [
    {
     "data": {
      "text/plain": [
       "array(['E', nan, 'M', 'T', 'E10+', 'K-A', 'AO', 'EC', 'RP'], dtype=object)"
      ]
     },
     "execution_count": 408,
     "metadata": {},
     "output_type": "execute_result"
    }
   ],
   "source": [
    "data['rating'].unique()"
   ]
  },
  {
   "cell_type": "markdown",
   "metadata": {},
   "source": [
    "В столбце 'rating' есть два значения 'K-A' и 'E10+'. Первоначально использовалось \"K-A\" (\"Kids to Adults\"), потом было переименовано на E10+. Поэтому предлагаю переименовать 'K-A' в 'E10+' для удобного и более точного анализа в дальнейшем."
   ]
  },
  {
   "cell_type": "code",
   "execution_count": 409,
   "metadata": {},
   "outputs": [],
   "source": [
    "data['rating'] = data['rating'].replace(['K-A'], 'E10+')"
   ]
  },
  {
   "cell_type": "code",
   "execution_count": 410,
   "metadata": {},
   "outputs": [],
   "source": [
    "columns_to_replace = ['rating']\n",
    "for column in columns_to_replace:\n",
    "    data[column] = data[column].fillna('unknow')"
   ]
  },
  {
   "cell_type": "markdown",
   "metadata": {},
   "source": [
    "Пропуски в столбцах с рейтингами пользователей и критиков запонять не будем, что бы не искажать картину с данными. Тем более нужно отметить, что все игры, выпущенные ранее 1996 года, вообще не имеют рейтинга."
   ]
  },
  {
   "cell_type": "markdown",
   "metadata": {},
   "source": [
    "Причинами возникновения пропусков являются: невозможность их получения или ошибки в обработке данных, искажение информации, поломки технического оборудования, экономические причины."
   ]
  },
  {
   "cell_type": "markdown",
   "metadata": {},
   "source": [
    "### Посчитаем суммарные продажи по регионам"
   ]
  },
  {
   "cell_type": "code",
   "execution_count": 411,
   "metadata": {},
   "outputs": [],
   "source": [
    "data['total_sales'] = data[['na_sales','eu_sales','jp_sales', 'other_sales']].sum(axis = 1)"
   ]
  },
  {
   "cell_type": "markdown",
   "metadata": {},
   "source": [
    "<div class=\"alert-success\"> \n",
    "<b>Комментарий ревьюера 👍 </b>\n",
    "\n",
    "Хорошо, что ты прописываешь метод sum с указанием axis суммирования по строкам, а не просто используешь оператор сложения."
   ]
  },
  {
   "cell_type": "code",
   "execution_count": 412,
   "metadata": {},
   "outputs": [
    {
     "data": {
      "text/plain": [
       "0        82.54\n",
       "1        40.24\n",
       "2        35.52\n",
       "3        32.77\n",
       "4        31.38\n",
       "         ...  \n",
       "16441     0.01\n",
       "16442     0.01\n",
       "16443     0.01\n",
       "16444     0.01\n",
       "16445     0.01\n",
       "Name: total_sales, Length: 16444, dtype: float64"
      ]
     },
     "execution_count": 412,
     "metadata": {},
     "output_type": "execute_result"
    }
   ],
   "source": [
    "data['total_sales']"
   ]
  },
  {
   "cell_type": "markdown",
   "metadata": {},
   "source": [
    "**Вывод**"
   ]
  },
  {
   "cell_type": "markdown",
   "metadata": {},
   "source": [
    "Изменили в столбцах типы данных, удобные для анализа, удалили, где нужно пропуски, добавили столбец с рассчетом суммарных продаж по регионам. Можно приступать к исследовательскому анализу данных."
   ]
  },
  {
   "cell_type": "markdown",
   "metadata": {},
   "source": [
    "## Исследовательский анализ данных"
   ]
  },
  {
   "cell_type": "markdown",
   "metadata": {},
   "source": [
    "Проведем исследовательский анализ данных:\n",
    "- посмотрим, сколько игр выпускалось в разные периоды\n",
    "- рассмотрим, как менялись продажи по платформам\n",
    "- выберем актуальный период для прогноза на 2017 год\n",
    "- выведем лидирующие по продажам платформы\n",
    "- пострим графики о глобальных продажах\n",
    "- проанализируем влияние на продажу внутри одной платформы отзывы пользователей и критиков\n",
    "- соотнесем выводы с продажами игр на других платформах\n",
    "- посмотрим на общее распределение игр по жанрам"
   ]
  },
  {
   "cell_type": "markdown",
   "metadata": {},
   "source": [
    "Построим гистограмму для просмотра, сколько игр выпускалось в разные годы. Зададим период от самого раннего года выпуска до самого позднего."
   ]
  },
  {
   "cell_type": "code",
   "execution_count": 413,
   "metadata": {
    "scrolled": true
   },
   "outputs": [
    {
     "data": {
      "text/plain": [
       "<AxesSubplot:>"
      ]
     },
     "execution_count": 413,
     "metadata": {},
     "output_type": "execute_result"
    },
    {
     "data": {
      "image/png": "[encoded data removed]",
      "text/plain": [
       "<Figure size 432x288 with 1 Axes>"
      ]
     },
     "metadata": {
      "needs_background": "light"
     },
     "output_type": "display_data"
    }
   ],
   "source": [
    "data['year_of_release'].hist(bins = 38, range=(1980, 2016))"
   ]
  },
  {
   "cell_type": "markdown",
   "metadata": {},
   "source": [
    "<div class=\"alert-warning\"> \n",
    "<b>Комментарий ревьюера 💡</b> \n",
    "    \n",
    "Хорошо, что ты визуализируешь эти данные! В данном случае график с непрерывной линией был бы предпочитетельнее - поскольку речь идет именно о динамике на временном отрезке (но можно оставить и такую диаграмму с методом hist)."
   ]
  },
  {
   "cell_type": "markdown",
   "metadata": {},
   "source": [
    "Из графика видно, что выпуск игр стал увеличиваться с 1995 года, а до него выпуск игр был незначительным. Активный рост выпуска начиначется с 2000 года."
   ]
  },
  {
   "cell_type": "code",
   "execution_count": 414,
   "metadata": {},
   "outputs": [
    {
     "data": {
      "text/plain": [
       "<AxesSubplot:>"
      ]
     },
     "execution_count": 414,
     "metadata": {},
     "output_type": "execute_result"
    },
    {
     "data": {
      "image/png": "[encoded data removed]",
      "text/plain": [
       "<Figure size 432x288 with 1 Axes>"
      ]
     },
     "metadata": {
      "needs_background": "light"
     },
     "output_type": "display_data"
    }
   ],
   "source": [
    "data['year_of_release'].hist(bins = 25, range=(2005, 2011))"
   ]
  },
  {
   "cell_type": "markdown",
   "metadata": {},
   "source": [
    "Самый важный период с 2005 по 2011. Именно в эти годы самый большой выпуск игр."
   ]
  },
  {
   "cell_type": "markdown",
   "metadata": {},
   "source": [
    "Теперь рассмотрим, как менялись продажи по платформам."
   ]
  },
  {
   "cell_type": "markdown",
   "metadata": {},
   "source": [
    "Группируем данные по платформам по общему числу продаж."
   ]
  },
  {
   "cell_type": "code",
   "execution_count": 415,
   "metadata": {
    "scrolled": true
   },
   "outputs": [],
   "source": [
    "platform_sales = data.pivot_table(index='platform', values='total_sales', aggfunc='sum').sort_values(by='total_sales', ascending=False).reset_index()"
   ]
  },
  {
   "cell_type": "code",
   "execution_count": 416,
   "metadata": {},
   "outputs": [
    {
     "data": {
      "text/html": [
       "<div>\n",
       "<style scoped>\n",
       "    .dataframe tbody tr th:only-of-type {\n",
       "        vertical-align: middle;\n",
       "    }\n",
       "\n",
       "    .dataframe tbody tr th {\n",
       "        vertical-align: top;\n",
       "    }\n",
       "\n",
       "    .dataframe thead th {\n",
       "        text-align: right;\n",
       "    }\n",
       "</style>\n",
       "<table border=\"1\" class=\"dataframe\">\n",
       "  <thead>\n",
       "    <tr style=\"text-align: right;\">\n",
       "      <th></th>\n",
       "      <th>platform</th>\n",
       "      <th>total_sales</th>\n",
       "    </tr>\n",
       "  </thead>\n",
       "  <tbody>\n",
       "    <tr>\n",
       "      <th>0</th>\n",
       "      <td>PS2</td>\n",
       "      <td>1233.56</td>\n",
       "    </tr>\n",
       "    <tr>\n",
       "      <th>1</th>\n",
       "      <td>X360</td>\n",
       "      <td>961.24</td>\n",
       "    </tr>\n",
       "    <tr>\n",
       "      <th>2</th>\n",
       "      <td>PS3</td>\n",
       "      <td>931.34</td>\n",
       "    </tr>\n",
       "    <tr>\n",
       "      <th>3</th>\n",
       "      <td>Wii</td>\n",
       "      <td>891.18</td>\n",
       "    </tr>\n",
       "    <tr>\n",
       "      <th>4</th>\n",
       "      <td>DS</td>\n",
       "      <td>802.78</td>\n",
       "    </tr>\n",
       "    <tr>\n",
       "      <th>5</th>\n",
       "      <td>PS</td>\n",
       "      <td>727.58</td>\n",
       "    </tr>\n",
       "    <tr>\n",
       "      <th>6</th>\n",
       "      <td>PS4</td>\n",
       "      <td>314.14</td>\n",
       "    </tr>\n",
       "    <tr>\n",
       "      <th>7</th>\n",
       "      <td>GBA</td>\n",
       "      <td>312.88</td>\n",
       "    </tr>\n",
       "    <tr>\n",
       "      <th>8</th>\n",
       "      <td>PSP</td>\n",
       "      <td>289.53</td>\n",
       "    </tr>\n",
       "    <tr>\n",
       "      <th>9</th>\n",
       "      <td>3DS</td>\n",
       "      <td>257.81</td>\n",
       "    </tr>\n",
       "    <tr>\n",
       "      <th>10</th>\n",
       "      <td>PC</td>\n",
       "      <td>255.76</td>\n",
       "    </tr>\n",
       "    <tr>\n",
       "      <th>11</th>\n",
       "      <td>GB</td>\n",
       "      <td>254.43</td>\n",
       "    </tr>\n",
       "    <tr>\n",
       "      <th>12</th>\n",
       "      <td>XB</td>\n",
       "      <td>251.57</td>\n",
       "    </tr>\n",
       "    <tr>\n",
       "      <th>13</th>\n",
       "      <td>NES</td>\n",
       "      <td>251.05</td>\n",
       "    </tr>\n",
       "    <tr>\n",
       "      <th>14</th>\n",
       "      <td>N64</td>\n",
       "      <td>218.01</td>\n",
       "    </tr>\n",
       "    <tr>\n",
       "      <th>15</th>\n",
       "      <td>SNES</td>\n",
       "      <td>200.04</td>\n",
       "    </tr>\n",
       "    <tr>\n",
       "      <th>16</th>\n",
       "      <td>GC</td>\n",
       "      <td>196.73</td>\n",
       "    </tr>\n",
       "    <tr>\n",
       "      <th>17</th>\n",
       "      <td>XOne</td>\n",
       "      <td>159.32</td>\n",
       "    </tr>\n",
       "    <tr>\n",
       "      <th>18</th>\n",
       "      <td>2600</td>\n",
       "      <td>86.48</td>\n",
       "    </tr>\n",
       "    <tr>\n",
       "      <th>19</th>\n",
       "      <td>WiiU</td>\n",
       "      <td>82.19</td>\n",
       "    </tr>\n",
       "    <tr>\n",
       "      <th>20</th>\n",
       "      <td>PSV</td>\n",
       "      <td>53.81</td>\n",
       "    </tr>\n",
       "    <tr>\n",
       "      <th>21</th>\n",
       "      <td>SAT</td>\n",
       "      <td>33.59</td>\n",
       "    </tr>\n",
       "    <tr>\n",
       "      <th>22</th>\n",
       "      <td>GEN</td>\n",
       "      <td>28.35</td>\n",
       "    </tr>\n",
       "    <tr>\n",
       "      <th>23</th>\n",
       "      <td>DC</td>\n",
       "      <td>15.95</td>\n",
       "    </tr>\n",
       "    <tr>\n",
       "      <th>24</th>\n",
       "      <td>SCD</td>\n",
       "      <td>1.86</td>\n",
       "    </tr>\n",
       "    <tr>\n",
       "      <th>25</th>\n",
       "      <td>NG</td>\n",
       "      <td>1.44</td>\n",
       "    </tr>\n",
       "    <tr>\n",
       "      <th>26</th>\n",
       "      <td>WS</td>\n",
       "      <td>1.42</td>\n",
       "    </tr>\n",
       "    <tr>\n",
       "      <th>27</th>\n",
       "      <td>TG16</td>\n",
       "      <td>0.16</td>\n",
       "    </tr>\n",
       "    <tr>\n",
       "      <th>28</th>\n",
       "      <td>3DO</td>\n",
       "      <td>0.10</td>\n",
       "    </tr>\n",
       "    <tr>\n",
       "      <th>29</th>\n",
       "      <td>GG</td>\n",
       "      <td>0.04</td>\n",
       "    </tr>\n",
       "    <tr>\n",
       "      <th>30</th>\n",
       "      <td>PCFX</td>\n",
       "      <td>0.03</td>\n",
       "    </tr>\n",
       "  </tbody>\n",
       "</table>\n",
       "</div>"
      ],
      "text/plain": [
       "   platform  total_sales\n",
       "0       PS2      1233.56\n",
       "1      X360       961.24\n",
       "2       PS3       931.34\n",
       "3       Wii       891.18\n",
       "4        DS       802.78\n",
       "5        PS       727.58\n",
       "6       PS4       314.14\n",
       "7       GBA       312.88\n",
       "8       PSP       289.53\n",
       "9       3DS       257.81\n",
       "10       PC       255.76\n",
       "11       GB       254.43\n",
       "12       XB       251.57\n",
       "13      NES       251.05\n",
       "14      N64       218.01\n",
       "15     SNES       200.04\n",
       "16       GC       196.73\n",
       "17     XOne       159.32\n",
       "18     2600        86.48\n",
       "19     WiiU        82.19\n",
       "20      PSV        53.81\n",
       "21      SAT        33.59\n",
       "22      GEN        28.35\n",
       "23       DC        15.95\n",
       "24      SCD         1.86\n",
       "25       NG         1.44\n",
       "26       WS         1.42\n",
       "27     TG16         0.16\n",
       "28      3DO         0.10\n",
       "29       GG         0.04\n",
       "30     PCFX         0.03"
      ]
     },
     "execution_count": 416,
     "metadata": {},
     "output_type": "execute_result"
    }
   ],
   "source": [
    "platform_sales"
   ]
  },
  {
   "cell_type": "code",
   "execution_count": 417,
   "metadata": {},
   "outputs": [
    {
     "data": {
      "text/plain": [
       "<AxesSubplot:title={'center':'platform_sales'}, xlabel='platform'>"
      ]
     },
     "execution_count": 417,
     "metadata": {},
     "output_type": "execute_result"
    },
    {
     "data": {
      "image/png": "[encoded data removed]",
      "text/plain": [
       "<Figure size 864x360 with 1 Axes>"
      ]
     },
     "metadata": {
      "needs_background": "light"
     },
     "output_type": "display_data"
    }
   ],
   "source": [
    "platform_sales.plot(x='platform', y='total_sales', kind='bar', figsize=(12,5), title='platform_sales')"
   ]
  },
  {
   "cell_type": "markdown",
   "metadata": {},
   "source": [
    "<div class=\"alert-warning\"> \n",
    "<b>Комментарий ревьюера 💡</b> \n",
    "    \n",
    "Эти данные стоит тоже визуализировать - например, в виде столбчатой диаграмы."
   ]
  },
  {
   "cell_type": "markdown",
   "metadata": {},
   "source": [
    "<div class=\"alert alert-info\">\n",
    "<b>Построила график </b>\n",
    "<br>\n",
    "</div>"
   ]
  },
  {
   "cell_type": "markdown",
   "metadata": {},
   "source": [
    "Из выборки видно, что наибольшее число продаж у 5 платформ: PS2, X360, PS3, Wii, DS. Сделаем срез и построим граффик суммарных продаж по этим платформам."
   ]
  },
  {
   "cell_type": "code",
   "execution_count": 418,
   "metadata": {},
   "outputs": [],
   "source": [
    "platform_sales_top = platform_sales[0:5]"
   ]
  },
  {
   "cell_type": "code",
   "execution_count": 419,
   "metadata": {
    "scrolled": true
   },
   "outputs": [
    {
     "data": {
      "text/plain": [
       "<AxesSubplot:title={'center':'platform_sales_top'}, xlabel='platform'>"
      ]
     },
     "execution_count": 419,
     "metadata": {},
     "output_type": "execute_result"
    },
    {
     "data": {
      "image/png": "[encoded data removed]",
      "text/plain": [
       "<Figure size 864x360 with 1 Axes>"
      ]
     },
     "metadata": {
      "needs_background": "light"
     },
     "output_type": "display_data"
    }
   ],
   "source": [
    "platform_sales_top.plot(x='platform', y='total_sales', kind='bar', figsize=(12,5), title='platform_sales_top')"
   ]
  },
  {
   "cell_type": "markdown",
   "metadata": {},
   "source": [
    "<div class=\"alert-warning\"> \n",
    "<b>Комментарий ревьюера 💡</b> \n",
    "    \n",
    "Не забывай добавлять названия графикам через title."
   ]
  },
  {
   "cell_type": "markdown",
   "metadata": {},
   "source": [
    "<div class=\"alert alert-info\">\n",
    "<b>Добавила название </b>\n",
    "<br>\n",
    "</div>"
   ]
  },
  {
   "cell_type": "markdown",
   "metadata": {},
   "source": [
    "Сделаем срез для выбранных 6 платформ из общей таблицы и построим график по годам."
   ]
  },
  {
   "cell_type": "code",
   "execution_count": 420,
   "metadata": {},
   "outputs": [],
   "source": [
    "data_new = data.query(\"platform == ['PS2', 'X360', 'PS3', 'Wii', 'DS']\")"
   ]
  },
  {
   "cell_type": "code",
   "execution_count": 421,
   "metadata": {},
   "outputs": [],
   "source": [
    "platform_top_releases = data_new.pivot_table(index='year_of_release', values = 'total_sales', columns='platform', aggfunc='sum')"
   ]
  },
  {
   "cell_type": "code",
   "execution_count": 422,
   "metadata": {},
   "outputs": [
    {
     "data": {
      "text/html": [
       "<div>\n",
       "<style scoped>\n",
       "    .dataframe tbody tr th:only-of-type {\n",
       "        vertical-align: middle;\n",
       "    }\n",
       "\n",
       "    .dataframe tbody tr th {\n",
       "        vertical-align: top;\n",
       "    }\n",
       "\n",
       "    .dataframe thead th {\n",
       "        text-align: right;\n",
       "    }\n",
       "</style>\n",
       "<table border=\"1\" class=\"dataframe\">\n",
       "  <thead>\n",
       "    <tr style=\"text-align: right;\">\n",
       "      <th>platform</th>\n",
       "      <th>DS</th>\n",
       "      <th>PS2</th>\n",
       "      <th>PS3</th>\n",
       "      <th>Wii</th>\n",
       "      <th>X360</th>\n",
       "    </tr>\n",
       "    <tr>\n",
       "      <th>year_of_release</th>\n",
       "      <th></th>\n",
       "      <th></th>\n",
       "      <th></th>\n",
       "      <th></th>\n",
       "      <th></th>\n",
       "    </tr>\n",
       "  </thead>\n",
       "  <tbody>\n",
       "    <tr>\n",
       "      <th>1985</th>\n",
       "      <td>0.02</td>\n",
       "      <td>NaN</td>\n",
       "      <td>NaN</td>\n",
       "      <td>NaN</td>\n",
       "      <td>NaN</td>\n",
       "    </tr>\n",
       "    <tr>\n",
       "      <th>2000</th>\n",
       "      <td>NaN</td>\n",
       "      <td>39.17</td>\n",
       "      <td>NaN</td>\n",
       "      <td>NaN</td>\n",
       "      <td>NaN</td>\n",
       "    </tr>\n",
       "    <tr>\n",
       "      <th>2001</th>\n",
       "      <td>NaN</td>\n",
       "      <td>166.43</td>\n",
       "      <td>NaN</td>\n",
       "      <td>NaN</td>\n",
       "      <td>NaN</td>\n",
       "    </tr>\n",
       "    <tr>\n",
       "      <th>2002</th>\n",
       "      <td>NaN</td>\n",
       "      <td>205.38</td>\n",
       "      <td>NaN</td>\n",
       "      <td>NaN</td>\n",
       "      <td>NaN</td>\n",
       "    </tr>\n",
       "    <tr>\n",
       "      <th>2003</th>\n",
       "      <td>NaN</td>\n",
       "      <td>184.31</td>\n",
       "      <td>NaN</td>\n",
       "      <td>NaN</td>\n",
       "      <td>NaN</td>\n",
       "    </tr>\n",
       "    <tr>\n",
       "      <th>2004</th>\n",
       "      <td>17.27</td>\n",
       "      <td>211.81</td>\n",
       "      <td>NaN</td>\n",
       "      <td>NaN</td>\n",
       "      <td>NaN</td>\n",
       "    </tr>\n",
       "    <tr>\n",
       "      <th>2005</th>\n",
       "      <td>130.14</td>\n",
       "      <td>160.66</td>\n",
       "      <td>NaN</td>\n",
       "      <td>NaN</td>\n",
       "      <td>8.25</td>\n",
       "    </tr>\n",
       "    <tr>\n",
       "      <th>2006</th>\n",
       "      <td>119.81</td>\n",
       "      <td>103.42</td>\n",
       "      <td>20.96</td>\n",
       "      <td>137.15</td>\n",
       "      <td>51.62</td>\n",
       "    </tr>\n",
       "    <tr>\n",
       "      <th>2007</th>\n",
       "      <td>146.94</td>\n",
       "      <td>75.99</td>\n",
       "      <td>73.19</td>\n",
       "      <td>152.77</td>\n",
       "      <td>95.41</td>\n",
       "    </tr>\n",
       "    <tr>\n",
       "      <th>2008</th>\n",
       "      <td>145.31</td>\n",
       "      <td>53.90</td>\n",
       "      <td>118.52</td>\n",
       "      <td>171.32</td>\n",
       "      <td>135.26</td>\n",
       "    </tr>\n",
       "    <tr>\n",
       "      <th>2009</th>\n",
       "      <td>119.54</td>\n",
       "      <td>26.40</td>\n",
       "      <td>130.93</td>\n",
       "      <td>206.97</td>\n",
       "      <td>120.29</td>\n",
       "    </tr>\n",
       "    <tr>\n",
       "      <th>2010</th>\n",
       "      <td>85.02</td>\n",
       "      <td>5.64</td>\n",
       "      <td>142.17</td>\n",
       "      <td>127.95</td>\n",
       "      <td>170.03</td>\n",
       "    </tr>\n",
       "    <tr>\n",
       "      <th>2011</th>\n",
       "      <td>26.18</td>\n",
       "      <td>0.45</td>\n",
       "      <td>156.78</td>\n",
       "      <td>59.65</td>\n",
       "      <td>143.84</td>\n",
       "    </tr>\n",
       "    <tr>\n",
       "      <th>2012</th>\n",
       "      <td>11.01</td>\n",
       "      <td>NaN</td>\n",
       "      <td>107.36</td>\n",
       "      <td>21.71</td>\n",
       "      <td>99.74</td>\n",
       "    </tr>\n",
       "    <tr>\n",
       "      <th>2013</th>\n",
       "      <td>1.54</td>\n",
       "      <td>NaN</td>\n",
       "      <td>113.25</td>\n",
       "      <td>8.59</td>\n",
       "      <td>88.58</td>\n",
       "    </tr>\n",
       "    <tr>\n",
       "      <th>2014</th>\n",
       "      <td>NaN</td>\n",
       "      <td>NaN</td>\n",
       "      <td>47.76</td>\n",
       "      <td>3.75</td>\n",
       "      <td>34.74</td>\n",
       "    </tr>\n",
       "    <tr>\n",
       "      <th>2015</th>\n",
       "      <td>NaN</td>\n",
       "      <td>NaN</td>\n",
       "      <td>16.82</td>\n",
       "      <td>1.14</td>\n",
       "      <td>11.96</td>\n",
       "    </tr>\n",
       "    <tr>\n",
       "      <th>2016</th>\n",
       "      <td>NaN</td>\n",
       "      <td>NaN</td>\n",
       "      <td>3.60</td>\n",
       "      <td>0.18</td>\n",
       "      <td>1.52</td>\n",
       "    </tr>\n",
       "  </tbody>\n",
       "</table>\n",
       "</div>"
      ],
      "text/plain": [
       "platform             DS     PS2     PS3     Wii    X360\n",
       "year_of_release                                        \n",
       "1985               0.02     NaN     NaN     NaN     NaN\n",
       "2000                NaN   39.17     NaN     NaN     NaN\n",
       "2001                NaN  166.43     NaN     NaN     NaN\n",
       "2002                NaN  205.38     NaN     NaN     NaN\n",
       "2003                NaN  184.31     NaN     NaN     NaN\n",
       "2004              17.27  211.81     NaN     NaN     NaN\n",
       "2005             130.14  160.66     NaN     NaN    8.25\n",
       "2006             119.81  103.42   20.96  137.15   51.62\n",
       "2007             146.94   75.99   73.19  152.77   95.41\n",
       "2008             145.31   53.90  118.52  171.32  135.26\n",
       "2009             119.54   26.40  130.93  206.97  120.29\n",
       "2010              85.02    5.64  142.17  127.95  170.03\n",
       "2011              26.18    0.45  156.78   59.65  143.84\n",
       "2012              11.01     NaN  107.36   21.71   99.74\n",
       "2013               1.54     NaN  113.25    8.59   88.58\n",
       "2014                NaN     NaN   47.76    3.75   34.74\n",
       "2015                NaN     NaN   16.82    1.14   11.96\n",
       "2016                NaN     NaN    3.60    0.18    1.52"
      ]
     },
     "execution_count": 422,
     "metadata": {},
     "output_type": "execute_result"
    }
   ],
   "source": [
    "platform_top_releases"
   ]
  },
  {
   "cell_type": "code",
   "execution_count": 423,
   "metadata": {},
   "outputs": [
    {
     "data": {
      "text/plain": [
       "(1999.0, 2017.0)"
      ]
     },
     "execution_count": 423,
     "metadata": {},
     "output_type": "execute_result"
    },
    {
     "data": {
      "image/png": "[encoded data removed]",
      "text/plain": [
       "<Figure size 864x360 with 1 Axes>"
      ]
     },
     "metadata": {
      "needs_background": "light"
     },
     "output_type": "display_data"
    }
   ],
   "source": [
    "platform_top_releases.plot(grid=True, style='-o', figsize=(12, 5), title='platform_top_releases')\n",
    "plt.xlim(1999, 2017)"
   ]
  },
  {
   "cell_type": "markdown",
   "metadata": {},
   "source": [
    "<div class=\"alert-warning\"> \n",
    "<b>Комментарий ревьюера 💡</b> \n",
    "    \n",
    "Ты выбираешь хороший тип графика, но стоило бы ограничить ось абсцисс - сделать так, чтобы временной промежуток начинался как минимум с 1999-2000 года для большей наглядности и чтобы данные не были визуально смещены вправо."
   ]
  },
  {
   "cell_type": "markdown",
   "metadata": {},
   "source": [
    "<div class=\"alert alert-info\">\n",
    "<b>Добавила название, ограничила ось абсцисс </b>\n",
    "<br>\n",
    "</div>"
   ]
  },
  {
   "cell_type": "markdown",
   "metadata": {},
   "source": [
    "Из графика видно, что в основном действия платформы около 10 лет."
   ]
  },
  {
   "cell_type": "markdown",
   "metadata": {},
   "source": [
    "Для прогнозирования данных на 2017 год возьмем данные за последние 5 лет, как наиболее актуальные для этого периода. Остальные данные учитывать в работе не будем. Для анализа возьмем самые популярные платформы. Продажи DS заканчиваются в 2013 году, поэтому эту платфрму можно исключить из списка."
   ]
  },
  {
   "cell_type": "code",
   "execution_count": 424,
   "metadata": {},
   "outputs": [],
   "source": [
    "data_actual = data.query(\"year_of_release >= 2014\")"
   ]
  },
  {
   "cell_type": "markdown",
   "metadata": {},
   "source": [
    "<div class=\"alert-warning\"> \n",
    "<b>Комментарий ревьюера 💡</b> \n",
    "    \n",
    "Для целей прогнозирования продаж на следующий год даже в традиционных моделях бизнеса редко берут данные более чем за 2-3 года. А в такой динамично меняющейся индустрии, как компьютерные игры и вовсе не стоит брать слишком большой временной интервал - иначе обязательно захватишь уже отжившие тренды, которые зависят не только от выхода новой игровой платформы.\n",
    "\n",
    "В данном случае идеальным периодом будет считаться 2014-2016 гг./2015-2016 гг - т.е. период в 2-3 года с сохранением данных за 2016 г.\n",
    "    \n",
    "Но критической ошибкой выбор периода с 2012 года считаться не будет."
   ]
  },
  {
   "cell_type": "markdown",
   "metadata": {},
   "source": [
    "<div class=\"alert alert-info\">\n",
    "<b>Исправила диапазон с 2014 года </b>\n",
    "<br>\n",
    "</div>"
   ]
  },
  {
   "cell_type": "code",
   "execution_count": 425,
   "metadata": {},
   "outputs": [],
   "source": [
    "data_forecast = data.query(\"platform in ['PS2', 'X360', 'PS3', 'Wii'] and year_of_release >= 2014\")"
   ]
  },
  {
   "cell_type": "code",
   "execution_count": 426,
   "metadata": {},
   "outputs": [],
   "source": [
    "data_forecast = data_forecast.pivot_table(index='year_of_release', values = 'total_sales', columns='platform', aggfunc='sum')"
   ]
  },
  {
   "cell_type": "code",
   "execution_count": 427,
   "metadata": {},
   "outputs": [
    {
     "data": {
      "text/html": [
       "<div>\n",
       "<style scoped>\n",
       "    .dataframe tbody tr th:only-of-type {\n",
       "        vertical-align: middle;\n",
       "    }\n",
       "\n",
       "    .dataframe tbody tr th {\n",
       "        vertical-align: top;\n",
       "    }\n",
       "\n",
       "    .dataframe thead th {\n",
       "        text-align: right;\n",
       "    }\n",
       "</style>\n",
       "<table border=\"1\" class=\"dataframe\">\n",
       "  <thead>\n",
       "    <tr style=\"text-align: right;\">\n",
       "      <th>platform</th>\n",
       "      <th>PS3</th>\n",
       "      <th>Wii</th>\n",
       "      <th>X360</th>\n",
       "    </tr>\n",
       "    <tr>\n",
       "      <th>year_of_release</th>\n",
       "      <th></th>\n",
       "      <th></th>\n",
       "      <th></th>\n",
       "    </tr>\n",
       "  </thead>\n",
       "  <tbody>\n",
       "    <tr>\n",
       "      <th>2014</th>\n",
       "      <td>47.76</td>\n",
       "      <td>3.75</td>\n",
       "      <td>34.74</td>\n",
       "    </tr>\n",
       "    <tr>\n",
       "      <th>2015</th>\n",
       "      <td>16.82</td>\n",
       "      <td>1.14</td>\n",
       "      <td>11.96</td>\n",
       "    </tr>\n",
       "    <tr>\n",
       "      <th>2016</th>\n",
       "      <td>3.60</td>\n",
       "      <td>0.18</td>\n",
       "      <td>1.52</td>\n",
       "    </tr>\n",
       "  </tbody>\n",
       "</table>\n",
       "</div>"
      ],
      "text/plain": [
       "platform           PS3   Wii   X360\n",
       "year_of_release                    \n",
       "2014             47.76  3.75  34.74\n",
       "2015             16.82  1.14  11.96\n",
       "2016              3.60  0.18   1.52"
      ]
     },
     "execution_count": 427,
     "metadata": {},
     "output_type": "execute_result"
    }
   ],
   "source": [
    "data_forecast"
   ]
  },
  {
   "cell_type": "code",
   "execution_count": 428,
   "metadata": {},
   "outputs": [
    {
     "data": {
      "text/plain": [
       "<AxesSubplot:xlabel='year_of_release'>"
      ]
     },
     "execution_count": 428,
     "metadata": {},
     "output_type": "execute_result"
    },
    {
     "data": {
      "image/png": "[encoded data removed]",
      "text/plain": [
       "<Figure size 864x360 with 1 Axes>"
      ]
     },
     "metadata": {
      "needs_background": "light"
     },
     "output_type": "display_data"
    }
   ],
   "source": [
    "data_forecast.plot(grid=True, style='-o', figsize=(12, 5))"
   ]
  },
  {
   "cell_type": "markdown",
   "metadata": {},
   "source": [
    "Из графика видно, что продажи возросли к 2014 году, а после началось резкое падение продаж. Самые высокие продажи наблюдаются на платформе PS3 и X360. А платформа Wii по продажам находится практически на одном и том же уровне."
   ]
  },
  {
   "cell_type": "markdown",
   "metadata": {},
   "source": [
    "Построим график \"ящик с усами\" по глобальным продажам игр в разбивке по платформам."
   ]
  },
  {
   "cell_type": "code",
   "execution_count": 429,
   "metadata": {},
   "outputs": [
    {
     "data": {
      "image/png": "[encoded data removed]",
      "text/plain": [
       "<Figure size 432x288 with 1 Axes>"
      ]
     },
     "metadata": {
      "needs_background": "light"
     },
     "output_type": "display_data"
    }
   ],
   "source": [
    "data_forecast.boxplot()\n",
    "plt.ylim(-5, 120)\n",
    "plt.show()"
   ]
  },
  {
   "cell_type": "code",
   "execution_count": 430,
   "metadata": {},
   "outputs": [
    {
     "data": {
      "text/html": [
       "<div>\n",
       "<style scoped>\n",
       "    .dataframe tbody tr th:only-of-type {\n",
       "        vertical-align: middle;\n",
       "    }\n",
       "\n",
       "    .dataframe tbody tr th {\n",
       "        vertical-align: top;\n",
       "    }\n",
       "\n",
       "    .dataframe thead th {\n",
       "        text-align: right;\n",
       "    }\n",
       "</style>\n",
       "<table border=\"1\" class=\"dataframe\">\n",
       "  <thead>\n",
       "    <tr style=\"text-align: right;\">\n",
       "      <th>platform</th>\n",
       "      <th>PS3</th>\n",
       "      <th>Wii</th>\n",
       "      <th>X360</th>\n",
       "    </tr>\n",
       "  </thead>\n",
       "  <tbody>\n",
       "    <tr>\n",
       "      <th>count</th>\n",
       "      <td>3.000000</td>\n",
       "      <td>3.000000</td>\n",
       "      <td>3.000000</td>\n",
       "    </tr>\n",
       "    <tr>\n",
       "      <th>mean</th>\n",
       "      <td>22.726667</td>\n",
       "      <td>1.690000</td>\n",
       "      <td>16.073333</td>\n",
       "    </tr>\n",
       "    <tr>\n",
       "      <th>std</th>\n",
       "      <td>22.664795</td>\n",
       "      <td>1.847458</td>\n",
       "      <td>16.987694</td>\n",
       "    </tr>\n",
       "    <tr>\n",
       "      <th>min</th>\n",
       "      <td>3.600000</td>\n",
       "      <td>0.180000</td>\n",
       "      <td>1.520000</td>\n",
       "    </tr>\n",
       "    <tr>\n",
       "      <th>25%</th>\n",
       "      <td>10.210000</td>\n",
       "      <td>0.660000</td>\n",
       "      <td>6.740000</td>\n",
       "    </tr>\n",
       "    <tr>\n",
       "      <th>50%</th>\n",
       "      <td>16.820000</td>\n",
       "      <td>1.140000</td>\n",
       "      <td>11.960000</td>\n",
       "    </tr>\n",
       "    <tr>\n",
       "      <th>75%</th>\n",
       "      <td>32.290000</td>\n",
       "      <td>2.445000</td>\n",
       "      <td>23.350000</td>\n",
       "    </tr>\n",
       "    <tr>\n",
       "      <th>max</th>\n",
       "      <td>47.760000</td>\n",
       "      <td>3.750000</td>\n",
       "      <td>34.740000</td>\n",
       "    </tr>\n",
       "  </tbody>\n",
       "</table>\n",
       "</div>"
      ],
      "text/plain": [
       "platform        PS3       Wii       X360\n",
       "count      3.000000  3.000000   3.000000\n",
       "mean      22.726667  1.690000  16.073333\n",
       "std       22.664795  1.847458  16.987694\n",
       "min        3.600000  0.180000   1.520000\n",
       "25%       10.210000  0.660000   6.740000\n",
       "50%       16.820000  1.140000  11.960000\n",
       "75%       32.290000  2.445000  23.350000\n",
       "max       47.760000  3.750000  34.740000"
      ]
     },
     "execution_count": 430,
     "metadata": {},
     "output_type": "execute_result"
    }
   ],
   "source": [
    "data_forecast.describe()"
   ]
  },
  {
   "cell_type": "markdown",
   "metadata": {},
   "source": [
    "Медианные значения у платформ PS3 и Х360 самые высокие. Самыми прибыльной платформами является PS3 и Х360."
   ]
  },
  {
   "cell_type": "markdown",
   "metadata": {},
   "source": [
    "Рассмотрим, как влияют на продажи внутри одной платформы отзывы пользователей и критиков."
   ]
  },
  {
   "cell_type": "markdown",
   "metadata": {},
   "source": [
    "Анализ будем проводить на примере платформы PS3"
   ]
  },
  {
   "cell_type": "markdown",
   "metadata": {},
   "source": [
    "Посмотрим диаграмму рассеяния и посчитаем корреляцию между отзывами критиков и продажами."
   ]
  },
  {
   "cell_type": "code",
   "execution_count": 431,
   "metadata": {
    "scrolled": true
   },
   "outputs": [],
   "source": [
    "data_ps_3 = data_actual.query('platform == \"PS3\"')"
   ]
  },
  {
   "cell_type": "code",
   "execution_count": 432,
   "metadata": {
    "scrolled": true
   },
   "outputs": [
    {
     "data": {
      "text/plain": [
       "<AxesSubplot:xlabel='critic_score'>"
      ]
     },
     "execution_count": 432,
     "metadata": {},
     "output_type": "execute_result"
    },
    {
     "data": {
      "image/png": "[encoded data removed]",
      "text/plain": [
       "<Figure size 360x360 with 1 Axes>"
      ]
     },
     "metadata": {
      "needs_background": "light"
     },
     "output_type": "display_data"
    }
   ],
   "source": [
    "data_ps_3.pivot_table(index='critic_score', values='total_sales', aggfunc='sum').plot(grid=True, style='o', figsize=(5,5))"
   ]
  },
  {
   "cell_type": "code",
   "execution_count": 433,
   "metadata": {},
   "outputs": [],
   "source": [
    "corr_critic_ps_3 = data_ps_3['critic_score'].corr(data_ps_3['total_sales'])"
   ]
  },
  {
   "cell_type": "code",
   "execution_count": 434,
   "metadata": {},
   "outputs": [
    {
     "data": {
      "text/plain": [
       "0.44657460493190704"
      ]
     },
     "execution_count": 434,
     "metadata": {},
     "output_type": "execute_result"
    }
   ],
   "source": [
    "corr_critic_ps_3"
   ]
  },
  {
   "cell_type": "code",
   "execution_count": 435,
   "metadata": {
    "scrolled": true
   },
   "outputs": [
    {
     "data": {
      "text/plain": [
       "<AxesSubplot:xlabel='user_score'>"
      ]
     },
     "execution_count": 435,
     "metadata": {},
     "output_type": "execute_result"
    },
    {
     "data": {
      "image/png": "[encoded data removed]",
      "text/plain": [
       "<Figure size 360x360 with 1 Axes>"
      ]
     },
     "metadata": {
      "needs_background": "light"
     },
     "output_type": "display_data"
    }
   ],
   "source": [
    "data_ps_3.pivot_table(index='user_score', values='total_sales').plot(grid=True, style='o', figsize=(5,5))"
   ]
  },
  {
   "cell_type": "code",
   "execution_count": 436,
   "metadata": {},
   "outputs": [],
   "source": [
    "corr_user_ps_3 = data_ps_3['user_score'].corr(data_ps_3['total_sales'])"
   ]
  },
  {
   "cell_type": "code",
   "execution_count": 437,
   "metadata": {},
   "outputs": [
    {
     "data": {
      "text/plain": [
       "-0.16676141347662118"
      ]
     },
     "execution_count": 437,
     "metadata": {},
     "output_type": "execute_result"
    }
   ],
   "source": [
    "corr_user_ps_3"
   ]
  },
  {
   "cell_type": "markdown",
   "metadata": {},
   "source": [
    "Корреляция между оценками критиков и продажами близка к средней. Чем выше отзывы критиков, тем выше продажи. А между продажами и оценками пользователей корреляция очень слабая, еще и отрицательная. В целом, при прогнозе продаж несколько надежнее полагаться на отзывы критиков."
   ]
  },
  {
   "cell_type": "markdown",
   "metadata": {},
   "source": [
    "Аналогично посмотрим корреляции и на других популярных платформах."
   ]
  },
  {
   "cell_type": "markdown",
   "metadata": {},
   "source": [
    "Корреляцию между оценкками и продажами по платформе Wii считать не имеет смысла, так как с 2014 отсутствуют данные по оценкам критиков, а по данным пользователей всего две оценки, а остальные отсутствуют или не определены."
   ]
  },
  {
   "cell_type": "code",
   "execution_count": 445,
   "metadata": {},
   "outputs": [],
   "source": [
    "#data_wii = data_actual.query(\"platform == 'Wii'\")"
   ]
  },
  {
   "cell_type": "code",
   "execution_count": 446,
   "metadata": {},
   "outputs": [],
   "source": [
    "#corr_critic_wii = data_wii['critic_score'].corr(data_wii['total_sales'])"
   ]
  },
  {
   "cell_type": "code",
   "execution_count": 447,
   "metadata": {},
   "outputs": [],
   "source": [
    "#corr_critic_wii"
   ]
  },
  {
   "cell_type": "code",
   "execution_count": 448,
   "metadata": {},
   "outputs": [],
   "source": [
    "#corr_user_wii = data_wii['user_score'].corr(data_wii['total_sales'])"
   ]
  },
  {
   "cell_type": "code",
   "execution_count": 449,
   "metadata": {},
   "outputs": [],
   "source": [
    "#corr_user_wii"
   ]
  },
  {
   "cell_type": "markdown",
   "metadata": {},
   "source": [
    "<div class=\"alert alert-info\">\n",
    "<b>Из-за уменьшения диапазона до 2014 года корреляцию Wii посчитать невозможно, отредактировала вывод, закомментировала код</b>\n",
    "<br>\n",
    "</div>"
   ]
  },
  {
   "cell_type": "markdown",
   "metadata": {},
   "source": [
    "Корреляция между оценкками и продажами по платформе X360"
   ]
  },
  {
   "cell_type": "code",
   "execution_count": 450,
   "metadata": {},
   "outputs": [],
   "source": [
    "data_x_360 = data_actual.query(\"platform == 'X360'\")"
   ]
  },
  {
   "cell_type": "code",
   "execution_count": 451,
   "metadata": {},
   "outputs": [],
   "source": [
    "corr_critic_x_360 = data_x_360['critic_score'].corr(data_x_360['total_sales'])"
   ]
  },
  {
   "cell_type": "code",
   "execution_count": 452,
   "metadata": {},
   "outputs": [
    {
     "data": {
      "text/plain": [
       "0.5257228356581523"
      ]
     },
     "execution_count": 452,
     "metadata": {},
     "output_type": "execute_result"
    }
   ],
   "source": [
    "corr_critic_x_360"
   ]
  },
  {
   "cell_type": "code",
   "execution_count": 453,
   "metadata": {},
   "outputs": [],
   "source": [
    "corr_user_x_360 = data_x_360['user_score'].corr(data_x_360['total_sales'])"
   ]
  },
  {
   "cell_type": "code",
   "execution_count": 454,
   "metadata": {},
   "outputs": [
    {
     "data": {
      "text/plain": [
       "-0.138444570945665"
      ]
     },
     "execution_count": 454,
     "metadata": {},
     "output_type": "execute_result"
    }
   ],
   "source": [
    "corr_user_x_360"
   ]
  },
  {
   "cell_type": "markdown",
   "metadata": {},
   "source": [
    "Итак, можно сделать вывод, что по другой популярной платформе X360 корреляция между оценкками критиков и продажами, выше, чем корреляция между оценкками пользователей и продажами."
   ]
  },
  {
   "cell_type": "markdown",
   "metadata": {},
   "source": [
    "<div class=\"alert-success\"> \n",
    "<b>Комментарий ревьюера 👍 </b>\n",
    "\n",
    "Верно, согласен."
   ]
  },
  {
   "cell_type": "markdown",
   "metadata": {},
   "source": [
    "Теперь перейдем к рассмотрению общего распределения по жанрам. Здесь будем проводить оценку по медианному значению, так как за высокими показателями общих продаж может скрываться множество мелких игр с низкими продажами. Лучше рассмотрим жанры, где игры стабильно приносят высокий доход."
   ]
  },
  {
   "cell_type": "code",
   "execution_count": 455,
   "metadata": {},
   "outputs": [],
   "source": [
    "data_genre_1 = data.pivot_table(index='genre', values = 'total_sales', aggfunc='median').sort_values(by='total_sales', ascending=False).reset_index()"
   ]
  },
  {
   "cell_type": "code",
   "execution_count": 456,
   "metadata": {
    "scrolled": true
   },
   "outputs": [
    {
     "data": {
      "text/html": [
       "<div>\n",
       "<style scoped>\n",
       "    .dataframe tbody tr th:only-of-type {\n",
       "        vertical-align: middle;\n",
       "    }\n",
       "\n",
       "    .dataframe tbody tr th {\n",
       "        vertical-align: top;\n",
       "    }\n",
       "\n",
       "    .dataframe thead th {\n",
       "        text-align: right;\n",
       "    }\n",
       "</style>\n",
       "<table border=\"1\" class=\"dataframe\">\n",
       "  <thead>\n",
       "    <tr style=\"text-align: right;\">\n",
       "      <th></th>\n",
       "      <th>genre</th>\n",
       "      <th>total_sales</th>\n",
       "    </tr>\n",
       "  </thead>\n",
       "  <tbody>\n",
       "    <tr>\n",
       "      <th>0</th>\n",
       "      <td>Platform</td>\n",
       "      <td>0.27</td>\n",
       "    </tr>\n",
       "    <tr>\n",
       "      <th>1</th>\n",
       "      <td>Shooter</td>\n",
       "      <td>0.24</td>\n",
       "    </tr>\n",
       "    <tr>\n",
       "      <th>2</th>\n",
       "      <td>Sports</td>\n",
       "      <td>0.22</td>\n",
       "    </tr>\n",
       "    <tr>\n",
       "      <th>3</th>\n",
       "      <td>Fighting</td>\n",
       "      <td>0.21</td>\n",
       "    </tr>\n",
       "    <tr>\n",
       "      <th>4</th>\n",
       "      <td>Action</td>\n",
       "      <td>0.19</td>\n",
       "    </tr>\n",
       "    <tr>\n",
       "      <th>5</th>\n",
       "      <td>Racing</td>\n",
       "      <td>0.19</td>\n",
       "    </tr>\n",
       "    <tr>\n",
       "      <th>6</th>\n",
       "      <td>Role-Playing</td>\n",
       "      <td>0.18</td>\n",
       "    </tr>\n",
       "    <tr>\n",
       "      <th>7</th>\n",
       "      <td>Misc</td>\n",
       "      <td>0.16</td>\n",
       "    </tr>\n",
       "    <tr>\n",
       "      <th>8</th>\n",
       "      <td>Simulation</td>\n",
       "      <td>0.15</td>\n",
       "    </tr>\n",
       "    <tr>\n",
       "      <th>9</th>\n",
       "      <td>Puzzle</td>\n",
       "      <td>0.10</td>\n",
       "    </tr>\n",
       "    <tr>\n",
       "      <th>10</th>\n",
       "      <td>Strategy</td>\n",
       "      <td>0.10</td>\n",
       "    </tr>\n",
       "    <tr>\n",
       "      <th>11</th>\n",
       "      <td>Adventure</td>\n",
       "      <td>0.05</td>\n",
       "    </tr>\n",
       "  </tbody>\n",
       "</table>\n",
       "</div>"
      ],
      "text/plain": [
       "           genre  total_sales\n",
       "0       Platform         0.27\n",
       "1        Shooter         0.24\n",
       "2         Sports         0.22\n",
       "3       Fighting         0.21\n",
       "4         Action         0.19\n",
       "5         Racing         0.19\n",
       "6   Role-Playing         0.18\n",
       "7           Misc         0.16\n",
       "8     Simulation         0.15\n",
       "9         Puzzle         0.10\n",
       "10      Strategy         0.10\n",
       "11     Adventure         0.05"
      ]
     },
     "execution_count": 456,
     "metadata": {},
     "output_type": "execute_result"
    }
   ],
   "source": [
    "data_genre_1"
   ]
  },
  {
   "cell_type": "code",
   "execution_count": 457,
   "metadata": {
    "scrolled": false
   },
   "outputs": [
    {
     "data": {
      "image/png": "[encoded data removed]",
      "text/plain": [
       "<Figure size 864x360 with 1 Axes>"
      ]
     },
     "metadata": {
      "needs_background": "light"
     },
     "output_type": "display_data"
    }
   ],
   "source": [
    "data_genre_1.plot(grid=True, style='-o', figsize=(12, 5), title='data_genre_1')\n",
    "plt.show()"
   ]
  },
  {
   "cell_type": "markdown",
   "metadata": {},
   "source": [
    "Самые стабильные жанры по доходности - 'Platform', 'Shooter' и 'Sports'. А самая низкая медиана у игр жанра 'Adventure'. "
   ]
  },
  {
   "cell_type": "code",
   "execution_count": 458,
   "metadata": {},
   "outputs": [],
   "source": [
    "data_genre_2 = data_actual.pivot_table(index='genre', values = 'total_sales', aggfunc='median').sort_values(by='total_sales', ascending=False).reset_index()"
   ]
  },
  {
   "cell_type": "code",
   "execution_count": 459,
   "metadata": {},
   "outputs": [
    {
     "data": {
      "text/html": [
       "<div>\n",
       "<style scoped>\n",
       "    .dataframe tbody tr th:only-of-type {\n",
       "        vertical-align: middle;\n",
       "    }\n",
       "\n",
       "    .dataframe tbody tr th {\n",
       "        vertical-align: top;\n",
       "    }\n",
       "\n",
       "    .dataframe thead th {\n",
       "        text-align: right;\n",
       "    }\n",
       "</style>\n",
       "<table border=\"1\" class=\"dataframe\">\n",
       "  <thead>\n",
       "    <tr style=\"text-align: right;\">\n",
       "      <th></th>\n",
       "      <th>genre</th>\n",
       "      <th>total_sales</th>\n",
       "    </tr>\n",
       "  </thead>\n",
       "  <tbody>\n",
       "    <tr>\n",
       "      <th>0</th>\n",
       "      <td>Shooter</td>\n",
       "      <td>0.515</td>\n",
       "    </tr>\n",
       "    <tr>\n",
       "      <th>1</th>\n",
       "      <td>Sports</td>\n",
       "      <td>0.180</td>\n",
       "    </tr>\n",
       "    <tr>\n",
       "      <th>2</th>\n",
       "      <td>Platform</td>\n",
       "      <td>0.140</td>\n",
       "    </tr>\n",
       "    <tr>\n",
       "      <th>3</th>\n",
       "      <td>Fighting</td>\n",
       "      <td>0.125</td>\n",
       "    </tr>\n",
       "    <tr>\n",
       "      <th>4</th>\n",
       "      <td>Role-Playing</td>\n",
       "      <td>0.110</td>\n",
       "    </tr>\n",
       "    <tr>\n",
       "      <th>5</th>\n",
       "      <td>Simulation</td>\n",
       "      <td>0.100</td>\n",
       "    </tr>\n",
       "    <tr>\n",
       "      <th>6</th>\n",
       "      <td>Action</td>\n",
       "      <td>0.090</td>\n",
       "    </tr>\n",
       "    <tr>\n",
       "      <th>7</th>\n",
       "      <td>Misc</td>\n",
       "      <td>0.090</td>\n",
       "    </tr>\n",
       "    <tr>\n",
       "      <th>8</th>\n",
       "      <td>Racing</td>\n",
       "      <td>0.090</td>\n",
       "    </tr>\n",
       "    <tr>\n",
       "      <th>9</th>\n",
       "      <td>Strategy</td>\n",
       "      <td>0.060</td>\n",
       "    </tr>\n",
       "    <tr>\n",
       "      <th>10</th>\n",
       "      <td>Puzzle</td>\n",
       "      <td>0.045</td>\n",
       "    </tr>\n",
       "    <tr>\n",
       "      <th>11</th>\n",
       "      <td>Adventure</td>\n",
       "      <td>0.030</td>\n",
       "    </tr>\n",
       "  </tbody>\n",
       "</table>\n",
       "</div>"
      ],
      "text/plain": [
       "           genre  total_sales\n",
       "0        Shooter        0.515\n",
       "1         Sports        0.180\n",
       "2       Platform        0.140\n",
       "3       Fighting        0.125\n",
       "4   Role-Playing        0.110\n",
       "5     Simulation        0.100\n",
       "6         Action        0.090\n",
       "7           Misc        0.090\n",
       "8         Racing        0.090\n",
       "9       Strategy        0.060\n",
       "10        Puzzle        0.045\n",
       "11     Adventure        0.030"
      ]
     },
     "execution_count": 459,
     "metadata": {},
     "output_type": "execute_result"
    }
   ],
   "source": [
    "data_genre_2"
   ]
  },
  {
   "cell_type": "code",
   "execution_count": 460,
   "metadata": {},
   "outputs": [
    {
     "data": {
      "text/plain": [
       "<AxesSubplot:title={'center':'data_actual'}, ylabel='total_sales'>"
      ]
     },
     "execution_count": 460,
     "metadata": {},
     "output_type": "execute_result"
    },
    {
     "data": {
      "image/png": "[encoded data removed]",
      "text/plain": [
       "<Figure size 720x720 with 1 Axes>"
      ]
     },
     "metadata": {},
     "output_type": "display_data"
    }
   ],
   "source": [
    "data_actual.pivot_table(index = 'genre', values = 'total_sales', aggfunc = 'median').sort_values(ascending=False, by = 'total_sales').plot(kind='pie', figsize=(10,10), y= 'total_sales', title='data_actual')"
   ]
  },
  {
   "cell_type": "markdown",
   "metadata": {},
   "source": [
    "Если рассматривать период с 2014 года, то картина несколько изменилась. 'Shooter' стал самым топовым жанром, а 'Platform' и 'Shooter' значительно снизили свои позиции. А 'Adventure' так и остается низкодоходным жанром."
   ]
  },
  {
   "cell_type": "markdown",
   "metadata": {},
   "source": [
    "<div class=\"alert-danger\">\n",
    "<b>Комментарий ревьюера ❌</b>\n",
    "\n",
    "Общие продажи - не лучшая метрика для поиска наиболее прибыльного жанра. За высокими показателями общих продаж может скрываться множество мелких игр с низкими продажами. Лучше найти жанр, где игры стабильно приносят высокий доход - для этого стоит рассмотреть средние или медианные значения."
   ]
  },
  {
   "cell_type": "markdown",
   "metadata": {},
   "source": [
    "<div class=\"alert alert-info\">\n",
    "<b>Исправила на медианное значениеб переписала вывод</b>\n",
    "<br>\n",
    "</div>"
   ]
  },
  {
   "cell_type": "markdown",
   "metadata": {},
   "source": [
    "**Вывод**"
   ]
  },
  {
   "cell_type": "markdown",
   "metadata": {},
   "source": [
    "В основном возраст платформы около 10 лет. Самыми популярными являются PS3, Wii и Х360. Чем выше отзывы критиков, тем выше продажи. Отзывы пользователей на продажи практически не влияют. Самые стабильные жанры по доходности - 'Platform', 'Shooter' и 'Sports'. А самая низкая медиана у игр жанра 'Adventure'."
   ]
  },
  {
   "cell_type": "markdown",
   "metadata": {},
   "source": [
    "## Портрет пользователя для каждого региона"
   ]
  },
  {
   "cell_type": "markdown",
   "metadata": {},
   "source": [
    "Теперь составим портрет пользователя для каждого региона (Северная Америка, Европа, Япония)."
   ]
  },
  {
   "cell_type": "markdown",
   "metadata": {},
   "source": [
    "Топ-5 популярных платформ по регионам"
   ]
  },
  {
   "cell_type": "code",
   "execution_count": 461,
   "metadata": {},
   "outputs": [],
   "source": [
    "p_platform_na = data_actual.pivot_table(index = 'platform', values = 'na_sales', aggfunc = 'sum').sort_values(ascending=False, by = 'na_sales').reset_index()"
   ]
  },
  {
   "cell_type": "code",
   "execution_count": 462,
   "metadata": {},
   "outputs": [
    {
     "data": {
      "text/html": [
       "<div>\n",
       "<style scoped>\n",
       "    .dataframe tbody tr th:only-of-type {\n",
       "        vertical-align: middle;\n",
       "    }\n",
       "\n",
       "    .dataframe tbody tr th {\n",
       "        vertical-align: top;\n",
       "    }\n",
       "\n",
       "    .dataframe thead th {\n",
       "        text-align: right;\n",
       "    }\n",
       "</style>\n",
       "<table border=\"1\" class=\"dataframe\">\n",
       "  <thead>\n",
       "    <tr style=\"text-align: right;\">\n",
       "      <th></th>\n",
       "      <th>platform</th>\n",
       "      <th>na_sales</th>\n",
       "    </tr>\n",
       "  </thead>\n",
       "  <tbody>\n",
       "    <tr>\n",
       "      <th>0</th>\n",
       "      <td>PS4</td>\n",
       "      <td>98.61</td>\n",
       "    </tr>\n",
       "    <tr>\n",
       "      <th>1</th>\n",
       "      <td>XOne</td>\n",
       "      <td>81.27</td>\n",
       "    </tr>\n",
       "    <tr>\n",
       "      <th>2</th>\n",
       "      <td>X360</td>\n",
       "      <td>28.30</td>\n",
       "    </tr>\n",
       "    <tr>\n",
       "      <th>3</th>\n",
       "      <td>3DS</td>\n",
       "      <td>22.64</td>\n",
       "    </tr>\n",
       "    <tr>\n",
       "      <th>4</th>\n",
       "      <td>PS3</td>\n",
       "      <td>22.05</td>\n",
       "    </tr>\n",
       "  </tbody>\n",
       "</table>\n",
       "</div>"
      ],
      "text/plain": [
       "  platform  na_sales\n",
       "0      PS4     98.61\n",
       "1     XOne     81.27\n",
       "2     X360     28.30\n",
       "3      3DS     22.64\n",
       "4      PS3     22.05"
      ]
     },
     "execution_count": 462,
     "metadata": {},
     "output_type": "execute_result"
    }
   ],
   "source": [
    "p_platform_na.head()"
   ]
  },
  {
   "cell_type": "code",
   "execution_count": 463,
   "metadata": {},
   "outputs": [],
   "source": [
    "p_platform_eu = data_actual.pivot_table(index = 'platform', values = 'eu_sales', aggfunc = 'sum').sort_values(ascending=False, by = 'eu_sales').reset_index()"
   ]
  },
  {
   "cell_type": "code",
   "execution_count": 464,
   "metadata": {},
   "outputs": [
    {
     "data": {
      "text/html": [
       "<div>\n",
       "<style scoped>\n",
       "    .dataframe tbody tr th:only-of-type {\n",
       "        vertical-align: middle;\n",
       "    }\n",
       "\n",
       "    .dataframe tbody tr th {\n",
       "        vertical-align: top;\n",
       "    }\n",
       "\n",
       "    .dataframe thead th {\n",
       "        text-align: right;\n",
       "    }\n",
       "</style>\n",
       "<table border=\"1\" class=\"dataframe\">\n",
       "  <thead>\n",
       "    <tr style=\"text-align: right;\">\n",
       "      <th></th>\n",
       "      <th>platform</th>\n",
       "      <th>eu_sales</th>\n",
       "    </tr>\n",
       "  </thead>\n",
       "  <tbody>\n",
       "    <tr>\n",
       "      <th>0</th>\n",
       "      <td>PS4</td>\n",
       "      <td>130.04</td>\n",
       "    </tr>\n",
       "    <tr>\n",
       "      <th>1</th>\n",
       "      <td>XOne</td>\n",
       "      <td>46.25</td>\n",
       "    </tr>\n",
       "    <tr>\n",
       "      <th>2</th>\n",
       "      <td>PS3</td>\n",
       "      <td>25.54</td>\n",
       "    </tr>\n",
       "    <tr>\n",
       "      <th>3</th>\n",
       "      <td>PC</td>\n",
       "      <td>17.97</td>\n",
       "    </tr>\n",
       "    <tr>\n",
       "      <th>4</th>\n",
       "      <td>3DS</td>\n",
       "      <td>16.12</td>\n",
       "    </tr>\n",
       "  </tbody>\n",
       "</table>\n",
       "</div>"
      ],
      "text/plain": [
       "  platform  eu_sales\n",
       "0      PS4    130.04\n",
       "1     XOne     46.25\n",
       "2      PS3     25.54\n",
       "3       PC     17.97\n",
       "4      3DS     16.12"
      ]
     },
     "execution_count": 464,
     "metadata": {},
     "output_type": "execute_result"
    }
   ],
   "source": [
    "p_platform_eu.head()"
   ]
  },
  {
   "cell_type": "code",
   "execution_count": 465,
   "metadata": {},
   "outputs": [],
   "source": [
    "p_platform_jp = data_actual.pivot_table(index = 'platform', values = 'jp_sales', aggfunc = 'sum').sort_values(ascending=False, by = 'jp_sales').reset_index()"
   ]
  },
  {
   "cell_type": "code",
   "execution_count": 466,
   "metadata": {},
   "outputs": [
    {
     "data": {
      "text/html": [
       "<div>\n",
       "<style scoped>\n",
       "    .dataframe tbody tr th:only-of-type {\n",
       "        vertical-align: middle;\n",
       "    }\n",
       "\n",
       "    .dataframe tbody tr th {\n",
       "        vertical-align: top;\n",
       "    }\n",
       "\n",
       "    .dataframe thead th {\n",
       "        text-align: right;\n",
       "    }\n",
       "</style>\n",
       "<table border=\"1\" class=\"dataframe\">\n",
       "  <thead>\n",
       "    <tr style=\"text-align: right;\">\n",
       "      <th></th>\n",
       "      <th>platform</th>\n",
       "      <th>jp_sales</th>\n",
       "    </tr>\n",
       "  </thead>\n",
       "  <tbody>\n",
       "    <tr>\n",
       "      <th>0</th>\n",
       "      <td>3DS</td>\n",
       "      <td>44.24</td>\n",
       "    </tr>\n",
       "    <tr>\n",
       "      <th>1</th>\n",
       "      <td>PS4</td>\n",
       "      <td>15.02</td>\n",
       "    </tr>\n",
       "    <tr>\n",
       "      <th>2</th>\n",
       "      <td>PSV</td>\n",
       "      <td>14.54</td>\n",
       "    </tr>\n",
       "    <tr>\n",
       "      <th>3</th>\n",
       "      <td>PS3</td>\n",
       "      <td>11.22</td>\n",
       "    </tr>\n",
       "    <tr>\n",
       "      <th>4</th>\n",
       "      <td>WiiU</td>\n",
       "      <td>7.31</td>\n",
       "    </tr>\n",
       "  </tbody>\n",
       "</table>\n",
       "</div>"
      ],
      "text/plain": [
       "  platform  jp_sales\n",
       "0      3DS     44.24\n",
       "1      PS4     15.02\n",
       "2      PSV     14.54\n",
       "3      PS3     11.22\n",
       "4     WiiU      7.31"
      ]
     },
     "execution_count": 466,
     "metadata": {},
     "output_type": "execute_result"
    }
   ],
   "source": [
    "p_platform_jp.head()"
   ]
  },
  {
   "cell_type": "markdown",
   "metadata": {},
   "source": [
    "В Северной Америке и Европе самымой популярной платформмой являются 'PS4', на втором месте - 'XOne'. В Японии самой популярной платформой является '3DS'. Относительно свежая 'PS4' уже набрала популярность во всех регионах. В Японии более популярны мобильные консоли, чем и является '3DS', а в Северной Америке и Европе - стационарные консоли."
   ]
  },
  {
   "cell_type": "markdown",
   "metadata": {},
   "source": [
    "<div class=\"alert-success\"> \n",
    "<b>Комментарий ревьюера 👍 </b>\n",
    "\n",
    "Верно!"
   ]
  },
  {
   "cell_type": "markdown",
   "metadata": {},
   "source": [
    "<div class=\"alert alert-info\">\n",
    "<b>Изменила вывод, так как изменился рассматриваемый период</b>\n",
    "<br>\n",
    "</div>"
   ]
  },
  {
   "cell_type": "markdown",
   "metadata": {},
   "source": [
    "Топ-5 популярных жанров по регионам"
   ]
  },
  {
   "cell_type": "code",
   "execution_count": 467,
   "metadata": {},
   "outputs": [],
   "source": [
    "p_genre_na = data_actual.pivot_table(index = 'genre', values = 'na_sales', aggfunc = 'sum').sort_values(ascending=False, by = 'na_sales').reset_index()"
   ]
  },
  {
   "cell_type": "code",
   "execution_count": 468,
   "metadata": {},
   "outputs": [
    {
     "data": {
      "text/html": [
       "<div>\n",
       "<style scoped>\n",
       "    .dataframe tbody tr th:only-of-type {\n",
       "        vertical-align: middle;\n",
       "    }\n",
       "\n",
       "    .dataframe tbody tr th {\n",
       "        vertical-align: top;\n",
       "    }\n",
       "\n",
       "    .dataframe thead th {\n",
       "        text-align: right;\n",
       "    }\n",
       "</style>\n",
       "<table border=\"1\" class=\"dataframe\">\n",
       "  <thead>\n",
       "    <tr style=\"text-align: right;\">\n",
       "      <th></th>\n",
       "      <th>genre</th>\n",
       "      <th>na_sales</th>\n",
       "    </tr>\n",
       "  </thead>\n",
       "  <tbody>\n",
       "    <tr>\n",
       "      <th>0</th>\n",
       "      <td>Shooter</td>\n",
       "      <td>79.02</td>\n",
       "    </tr>\n",
       "    <tr>\n",
       "      <th>1</th>\n",
       "      <td>Action</td>\n",
       "      <td>72.53</td>\n",
       "    </tr>\n",
       "    <tr>\n",
       "      <th>2</th>\n",
       "      <td>Sports</td>\n",
       "      <td>46.13</td>\n",
       "    </tr>\n",
       "    <tr>\n",
       "      <th>3</th>\n",
       "      <td>Role-Playing</td>\n",
       "      <td>33.47</td>\n",
       "    </tr>\n",
       "    <tr>\n",
       "      <th>4</th>\n",
       "      <td>Misc</td>\n",
       "      <td>15.05</td>\n",
       "    </tr>\n",
       "  </tbody>\n",
       "</table>\n",
       "</div>"
      ],
      "text/plain": [
       "          genre  na_sales\n",
       "0       Shooter     79.02\n",
       "1        Action     72.53\n",
       "2        Sports     46.13\n",
       "3  Role-Playing     33.47\n",
       "4          Misc     15.05"
      ]
     },
     "execution_count": 468,
     "metadata": {},
     "output_type": "execute_result"
    }
   ],
   "source": [
    "p_genre_na.head()"
   ]
  },
  {
   "cell_type": "code",
   "execution_count": 469,
   "metadata": {},
   "outputs": [],
   "source": [
    "p_genre_eu = data_actual.pivot_table(index = 'genre', values = 'eu_sales', aggfunc = 'sum').sort_values(ascending=False, by = 'eu_sales').reset_index()"
   ]
  },
  {
   "cell_type": "code",
   "execution_count": 470,
   "metadata": {},
   "outputs": [
    {
     "data": {
      "text/html": [
       "<div>\n",
       "<style scoped>\n",
       "    .dataframe tbody tr th:only-of-type {\n",
       "        vertical-align: middle;\n",
       "    }\n",
       "\n",
       "    .dataframe tbody tr th {\n",
       "        vertical-align: top;\n",
       "    }\n",
       "\n",
       "    .dataframe thead th {\n",
       "        text-align: right;\n",
       "    }\n",
       "</style>\n",
       "<table border=\"1\" class=\"dataframe\">\n",
       "  <thead>\n",
       "    <tr style=\"text-align: right;\">\n",
       "      <th></th>\n",
       "      <th>genre</th>\n",
       "      <th>eu_sales</th>\n",
       "    </tr>\n",
       "  </thead>\n",
       "  <tbody>\n",
       "    <tr>\n",
       "      <th>0</th>\n",
       "      <td>Action</td>\n",
       "      <td>74.68</td>\n",
       "    </tr>\n",
       "    <tr>\n",
       "      <th>1</th>\n",
       "      <td>Shooter</td>\n",
       "      <td>65.52</td>\n",
       "    </tr>\n",
       "    <tr>\n",
       "      <th>2</th>\n",
       "      <td>Sports</td>\n",
       "      <td>45.73</td>\n",
       "    </tr>\n",
       "    <tr>\n",
       "      <th>3</th>\n",
       "      <td>Role-Playing</td>\n",
       "      <td>28.17</td>\n",
       "    </tr>\n",
       "    <tr>\n",
       "      <th>4</th>\n",
       "      <td>Racing</td>\n",
       "      <td>14.13</td>\n",
       "    </tr>\n",
       "  </tbody>\n",
       "</table>\n",
       "</div>"
      ],
      "text/plain": [
       "          genre  eu_sales\n",
       "0        Action     74.68\n",
       "1       Shooter     65.52\n",
       "2        Sports     45.73\n",
       "3  Role-Playing     28.17\n",
       "4        Racing     14.13"
      ]
     },
     "execution_count": 470,
     "metadata": {},
     "output_type": "execute_result"
    }
   ],
   "source": [
    "p_genre_eu.head()"
   ]
  },
  {
   "cell_type": "code",
   "execution_count": 471,
   "metadata": {},
   "outputs": [],
   "source": [
    "p_genre_jp = data_actual.pivot_table(index = 'genre', values = 'jp_sales', aggfunc = 'sum').sort_values(ascending=False, by = 'jp_sales').reset_index()"
   ]
  },
  {
   "cell_type": "code",
   "execution_count": 472,
   "metadata": {},
   "outputs": [
    {
     "data": {
      "text/html": [
       "<div>\n",
       "<style scoped>\n",
       "    .dataframe tbody tr th:only-of-type {\n",
       "        vertical-align: middle;\n",
       "    }\n",
       "\n",
       "    .dataframe tbody tr th {\n",
       "        vertical-align: top;\n",
       "    }\n",
       "\n",
       "    .dataframe thead th {\n",
       "        text-align: right;\n",
       "    }\n",
       "</style>\n",
       "<table border=\"1\" class=\"dataframe\">\n",
       "  <thead>\n",
       "    <tr style=\"text-align: right;\">\n",
       "      <th></th>\n",
       "      <th>genre</th>\n",
       "      <th>jp_sales</th>\n",
       "    </tr>\n",
       "  </thead>\n",
       "  <tbody>\n",
       "    <tr>\n",
       "      <th>0</th>\n",
       "      <td>Role-Playing</td>\n",
       "      <td>31.16</td>\n",
       "    </tr>\n",
       "    <tr>\n",
       "      <th>1</th>\n",
       "      <td>Action</td>\n",
       "      <td>29.58</td>\n",
       "    </tr>\n",
       "    <tr>\n",
       "      <th>2</th>\n",
       "      <td>Fighting</td>\n",
       "      <td>6.37</td>\n",
       "    </tr>\n",
       "    <tr>\n",
       "      <th>3</th>\n",
       "      <td>Misc</td>\n",
       "      <td>5.61</td>\n",
       "    </tr>\n",
       "    <tr>\n",
       "      <th>4</th>\n",
       "      <td>Shooter</td>\n",
       "      <td>4.87</td>\n",
       "    </tr>\n",
       "  </tbody>\n",
       "</table>\n",
       "</div>"
      ],
      "text/plain": [
       "          genre  jp_sales\n",
       "0  Role-Playing     31.16\n",
       "1        Action     29.58\n",
       "2      Fighting      6.37\n",
       "3          Misc      5.61\n",
       "4       Shooter      4.87"
      ]
     },
     "execution_count": 472,
     "metadata": {},
     "output_type": "execute_result"
    }
   ],
   "source": [
    "p_genre_jp.head()"
   ]
  },
  {
   "cell_type": "markdown",
   "metadata": {},
   "source": [
    "Топ-3 в Северной Америке и Европе полностью совпадает по жанрам ('Action', 'Shooter' и 'Sports'). А в Японии самый популярный жанр. Это связано с различным менталитетом в странах."
   ]
  },
  {
   "cell_type": "markdown",
   "metadata": {},
   "source": [
    "<div class=\"alert-success\"> \n",
    "<b>Комментарий ревьюера 👍 </b>\n",
    "\n",
    "Приавльный промежуточный вывод. Япониия в этом смысле действительно отличается."
   ]
  },
  {
   "cell_type": "markdown",
   "metadata": {},
   "source": [
    "Теперь рассмотрим, влияет ли рейтинг ESRB на продажи в отдельном регионе."
   ]
  },
  {
   "cell_type": "code",
   "execution_count": 473,
   "metadata": {},
   "outputs": [],
   "source": [
    "p_raiting = data_actual.pivot_table(index = 'rating', values = ['na_sales', 'eu_sales', 'jp_sales'], aggfunc = 'sum')"
   ]
  },
  {
   "cell_type": "code",
   "execution_count": 474,
   "metadata": {},
   "outputs": [
    {
     "data": {
      "text/html": [
       "<div>\n",
       "<style scoped>\n",
       "    .dataframe tbody tr th:only-of-type {\n",
       "        vertical-align: middle;\n",
       "    }\n",
       "\n",
       "    .dataframe tbody tr th {\n",
       "        vertical-align: top;\n",
       "    }\n",
       "\n",
       "    .dataframe thead th {\n",
       "        text-align: right;\n",
       "    }\n",
       "</style>\n",
       "<table border=\"1\" class=\"dataframe\">\n",
       "  <thead>\n",
       "    <tr style=\"text-align: right;\">\n",
       "      <th></th>\n",
       "      <th>eu_sales</th>\n",
       "      <th>jp_sales</th>\n",
       "      <th>na_sales</th>\n",
       "    </tr>\n",
       "    <tr>\n",
       "      <th>rating</th>\n",
       "      <th></th>\n",
       "      <th></th>\n",
       "      <th></th>\n",
       "    </tr>\n",
       "  </thead>\n",
       "  <tbody>\n",
       "    <tr>\n",
       "      <th>E</th>\n",
       "      <td>58.06</td>\n",
       "      <td>8.94</td>\n",
       "      <td>50.74</td>\n",
       "    </tr>\n",
       "    <tr>\n",
       "      <th>E10+</th>\n",
       "      <td>26.16</td>\n",
       "      <td>4.46</td>\n",
       "      <td>33.23</td>\n",
       "    </tr>\n",
       "    <tr>\n",
       "      <th>M</th>\n",
       "      <td>93.44</td>\n",
       "      <td>8.01</td>\n",
       "      <td>96.42</td>\n",
       "    </tr>\n",
       "    <tr>\n",
       "      <th>T</th>\n",
       "      <td>34.07</td>\n",
       "      <td>14.78</td>\n",
       "      <td>38.95</td>\n",
       "    </tr>\n",
       "    <tr>\n",
       "      <th>unknow</th>\n",
       "      <td>58.95</td>\n",
       "      <td>56.90</td>\n",
       "      <td>64.72</td>\n",
       "    </tr>\n",
       "  </tbody>\n",
       "</table>\n",
       "</div>"
      ],
      "text/plain": [
       "        eu_sales  jp_sales  na_sales\n",
       "rating                              \n",
       "E          58.06      8.94     50.74\n",
       "E10+       26.16      4.46     33.23\n",
       "M          93.44      8.01     96.42\n",
       "T          34.07     14.78     38.95\n",
       "unknow     58.95     56.90     64.72"
      ]
     },
     "execution_count": 474,
     "metadata": {},
     "output_type": "execute_result"
    }
   ],
   "source": [
    "p_raiting"
   ]
  },
  {
   "cell_type": "markdown",
   "metadata": {},
   "source": [
    "В Европе и Северной Америке самый высокий рейтинг продаж у игр для лиц старше 17 лет. Этот рейтинг используется, когда насилие становится реалистичным и похожим на реальную жизнь. Также может присутствовать ненормативная лексика, употребление табака, алкоголя или запрещенных наркотиков. А в Японии рейтинг ESRB на продажи практически не влияет. Так же можно сделать вывод, что значительные объемы продаж занимают игры без рейтинга."
   ]
  },
  {
   "cell_type": "markdown",
   "metadata": {},
   "source": [
    "<div class=\"alert-danger\"> \n",
    "<b>Комментарий ревьюера ❌</b> \n",
    "    \n",
    "Тут стоит включить в анализ те игры, для которых рейтинг не определен. При твоем способе подсчета игры без рейтинга оказываются полностью исключенными из анализа. То есть нужно поработать с пропусками. Потому что это может указать на ключевое различие в регионах, если, например, игр без рейтинга ESRB где-либо будет продано больше, чем с этим рейтингом."
   ]
  },
  {
   "cell_type": "markdown",
   "metadata": {},
   "source": [
    "<div class=\"alert alert-info\">\n",
    "<b>Заполнила в предобработке пропуски на unknow, дописала вывод</b>\n",
    "<br>\n",
    "</div>"
   ]
  },
  {
   "cell_type": "markdown",
   "metadata": {},
   "source": [
    "**Вывод**"
   ]
  },
  {
   "cell_type": "markdown",
   "metadata": {},
   "source": [
    "В Северной Америке и Европе самымой популярной платформмой являются 'PS4', на втором месте - 'XOne'. В Японии самой популярной платформой является '3DS'. Относительно свежая 'PS4' уже набрала популярность во всех регионах. В Японии более популярны мобильные консоли, чем и является '3DS', а в Северной Америке и Европе - стационарные консоли. Топ-3 в Северной Америке и Европе полностью совпадает по жанрам ('Action', 'Shooter' и 'Sports'). А в Японии самый популярный жанр. Это связано с различным менталитетом в странах. В Европе и Сеаерной Америке самый высокий рейтинг продаж у игр для лиц старше 17 лет. Этот рейтинг используется, когда насилие становится реалистичным и похожим на реальную жизнь. Также может присутствовать ненормативная лексика, употребление табака, алкоголя или запрещенных наркотиков. А в Японии рейтинг ESRB на продажи практически не влияет. Так же можно сделать вывод, что значительные объемы продаж занимают игры без рейтинга."
   ]
  },
  {
   "cell_type": "markdown",
   "metadata": {},
   "source": [
    "## Проверка гипотезы"
   ]
  },
  {
   "cell_type": "markdown",
   "metadata": {},
   "source": [
    "Теперь проверим гипотезы:\n",
    "- Средние пользовательсие рейтинги Xbox One и PC одинаковые\n",
    "- Средние пользовательские рейтинги жанров 'Action' и 'Sport' разные"
   ]
  },
  {
   "cell_type": "markdown",
   "metadata": {},
   "source": [
    "В обеих гипотезах нужно сравнить средние двух независимых генеральных совокупностей между собой, средние значения которых нормально распределены. Поэтому будем использовать критерий Стьюдента - 'ttest_ind'."
   ]
  },
  {
   "cell_type": "markdown",
   "metadata": {},
   "source": [
    "### Гипотеза № 1"
   ]
  },
  {
   "cell_type": "markdown",
   "metadata": {},
   "source": [
    "<div class=\"alert-danger\"> \n",
    "<b>Комментарий ревьюера ❌</b> \n",
    "    \n",
    "Допиши пожалуйста тут обоснование выбора критерия Стьюдента, испольнованного тобой. Почему именно ttest_ind подходит? Это часть задания."
   ]
  },
  {
   "cell_type": "markdown",
   "metadata": {},
   "source": [
    "<div class=\"alert alert-info\">\n",
    "<b>Дописала про выбор критерия</b>\n",
    "<br>\n",
    "</div>"
   ]
  },
  {
   "cell_type": "markdown",
   "metadata": {},
   "source": [
    "Н0 - Средние пользовательсие рейтинги Xbox One и PC одинаковые"
   ]
  },
  {
   "cell_type": "markdown",
   "metadata": {},
   "source": [
    "Н1 - Средние пользовательсие рейтинги Xbox One и PC отличаются"
   ]
  },
  {
   "cell_type": "code",
   "execution_count": 475,
   "metadata": {},
   "outputs": [],
   "source": [
    "XOne = data_actual[(data_actual['platform'] == 'XOne') &  (data_actual['user_score'] > 0)]['user_score']"
   ]
  },
  {
   "cell_type": "code",
   "execution_count": 476,
   "metadata": {},
   "outputs": [],
   "source": [
    "PC = data_actual[(data_actual['platform'] == 'PC') &  (data_actual['user_score'] > 0)]['user_score']"
   ]
  },
  {
   "cell_type": "code",
   "execution_count": 477,
   "metadata": {},
   "outputs": [
    {
     "data": {
      "text/plain": [
       "6.594545454545456"
      ]
     },
     "execution_count": 477,
     "metadata": {},
     "output_type": "execute_result"
    }
   ],
   "source": [
    "XOne.mean()"
   ]
  },
  {
   "cell_type": "code",
   "execution_count": 478,
   "metadata": {},
   "outputs": [
    {
     "data": {
      "text/plain": [
       "6.298360655737705"
      ]
     },
     "execution_count": 478,
     "metadata": {},
     "output_type": "execute_result"
    }
   ],
   "source": [
    "PC.mean()"
   ]
  },
  {
   "cell_type": "code",
   "execution_count": 479,
   "metadata": {
    "scrolled": true
   },
   "outputs": [
    {
     "name": "stdout",
     "output_type": "stream",
     "text": [
      "p-значение: 0.11601398086668832\n",
      "Не получилось отвергнуть нулевую гипотезу\n"
     ]
    }
   ],
   "source": [
    "alpha = .05\n",
    "\n",
    "results = st.ttest_ind(XOne, PC, equal_var=False)\n",
    "\n",
    "print('p-значение:', results.pvalue)\n",
    "\n",
    "\n",
    "if (results.pvalue < alpha):\n",
    "    print(\"Отвергаем нулевую гипотезу\")\n",
    "else:\n",
    "    print(\"Не получилось отвергнуть нулевую гипотезу\")"
   ]
  },
  {
   "cell_type": "markdown",
   "metadata": {},
   "source": [
    "Результат говорит о том, что нулевая гипотеза не отвергается."
   ]
  },
  {
   "cell_type": "markdown",
   "metadata": {},
   "source": [
    "### Гипотеза № 2"
   ]
  },
  {
   "cell_type": "markdown",
   "metadata": {},
   "source": [
    "Н0 - Средние показатели рейтингов жанров 'Action' и 'Sports' одинаковые"
   ]
  },
  {
   "cell_type": "markdown",
   "metadata": {},
   "source": [
    "Н1 - Средние показатели рейтингов жанров 'Action' и 'Sports' разные"
   ]
  },
  {
   "cell_type": "code",
   "execution_count": 480,
   "metadata": {},
   "outputs": [],
   "source": [
    "Action = data_actual[(data_actual['genre'] == 'Action') &  (data_actual['user_score'] > 0)]['user_score']"
   ]
  },
  {
   "cell_type": "code",
   "execution_count": 481,
   "metadata": {},
   "outputs": [],
   "source": [
    "Sports = data_actual[(data_actual['genre'] == 'Sports') &  (data_actual['user_score'] > 0)]['user_score']"
   ]
  },
  {
   "cell_type": "code",
   "execution_count": 482,
   "metadata": {},
   "outputs": [
    {
     "data": {
      "text/plain": [
       "6.760606060606061"
      ]
     },
     "execution_count": 482,
     "metadata": {},
     "output_type": "execute_result"
    }
   ],
   "source": [
    "Action.mean()"
   ]
  },
  {
   "cell_type": "code",
   "execution_count": 483,
   "metadata": {},
   "outputs": [
    {
     "data": {
      "text/plain": [
       "5.2251968503937"
      ]
     },
     "execution_count": 483,
     "metadata": {},
     "output_type": "execute_result"
    }
   ],
   "source": [
    "Sports.mean()"
   ]
  },
  {
   "cell_type": "code",
   "execution_count": 484,
   "metadata": {},
   "outputs": [
    {
     "name": "stdout",
     "output_type": "stream",
     "text": [
      "p-значение: 1.1825550382644557e-14\n",
      "Отвергаем нулевую гипотезу\n"
     ]
    }
   ],
   "source": [
    "alpha = .05\n",
    "\n",
    "results = st.ttest_ind(Action, Sports, equal_var=False)\n",
    "\n",
    "print('p-значение:', results.pvalue)\n",
    "\n",
    "\n",
    "if (results.pvalue < alpha):\n",
    "    print(\"Отвергаем нулевую гипотезу\")\n",
    "else:\n",
    "    print(\"Не получилось отвергнуть нулевую гипотезу\")"
   ]
  },
  {
   "cell_type": "markdown",
   "metadata": {},
   "source": [
    "Результат говорит о том, что нулевая гипотеза отвергается."
   ]
  },
  {
   "cell_type": "markdown",
   "metadata": {},
   "source": [
    "**Вывод**"
   ]
  },
  {
   "cell_type": "markdown",
   "metadata": {},
   "source": [
    "В первой гипотезе:\n",
    "Результат говорит о том, что нулевая гипотеза не отвергается.\n",
    "p-значение: 0.5489537965134912\n",
    "Во второй гипотезе:\n",
    "Результат говорит о том, что нулевая гипотеза отвергается.\n",
    "p-значение: 4.24307776572644e-20"
   ]
  },
  {
   "cell_type": "markdown",
   "metadata": {},
   "source": [
    "<div class=\"alert-success\"> \n",
    "<b>Комментарий ревьюера 👍 </b>\n",
    "\n",
    "Гипотезы сформулированы верно. С выводами согласен. "
   ]
  },
  {
   "cell_type": "markdown",
   "metadata": {},
   "source": [
    "## Общий вывод"
   ]
  },
  {
   "cell_type": "markdown",
   "metadata": {},
   "source": [
    "1. Мы вывели основную информацию о датасете."
   ]
  },
  {
   "cell_type": "markdown",
   "metadata": {},
   "source": [
    "2. Выявили, что в данных присутствуют противоречивые данные: много пропусков, все названия столбцов начинаются с прописных букв, не соответствие в некоторых столбцах типа данных, предназначенного для анализа. Затем переименовали столбцы в соответствии с хорошим стилем, изменили типы данных в столбцах 'year_of_release' и 'user_score' заполнили пропуски в столбцах 'year_of_release', 'user_score', 'genre', удалили две строки с пропущенными названиями игр, создали столбец с подсчетом суммарных продаж по регионам, Пропуски в столбцах с рейтингами запонять не будем, что бы не искажать картину с данными. Тем более нужно отметить, что все игры, выпущенные ранее 1996 года, вообще не имеют рейтинга, столбец с рейтингом. Причинами возникновения пропусков являются: невозможность их получения или ошибки в обработке данных, искажение информации, поломки технического оборудования, экономические причины."
   ]
  },
  {
   "cell_type": "markdown",
   "metadata": {},
   "source": [
    "3. Провели исследовательский анализ данных: сколько игр выпускалось в разные периоды, как менялись продажи по платформам, выбрали последние 5 лет, как актуальный период для прогноза на 2017 год, вывели лидирующие по продажам платформы, пострили графики о глобальных продажах, проанализировали влияние на продажу внутри одной платформы отзывы пользователей и критиков, соотнесли выводы с продажами игр на других платформах, посмотрели на общее распределение игр по жанрам."
   ]
  },
  {
   "cell_type": "markdown",
   "metadata": {},
   "source": [
    "- Выпуск игр стал увеличиваться с 1995 года, а до него выпуск игр был незначительным. Активный рост выпуска начиначется с 2000 года.\n",
    "- Самый важный период с 2005 по 2011. Именно в эти годы самый большой выпуск игр.\n",
    "- Наибольшее число продаж у 5 платформ: PS2, X360, PS3, Wii, DS.\n",
    "- В основном действия платформы около 10 лет. Для прогнозирования данных на 2017 год возьмем данные за последние 3 года, как наиболее актуальные для этого периода. Остальные данные учитывать в работе не будем. Для анализа возьмем самые популярные платформы. Продажи DS заканчиваются в 2013 году, поэтому эту платфрму можно исключить из списка.\n",
    "- Продажи возросли к 2014 году, а после началось резкое падение продаж. Самые высокие продажи наблюдаются на платформе PS3 и X360. А платформа Wii по продажам находится практически на одном и том же уровне.\n",
    "- Медианные значения у платформ PS3 и Х360 самые высокие. Самыми прибыльной платформами является PS3 и Х360.\n",
    "- Корреляция у платформы PS3 между оценками критиков и продажами близка к средней. Чем выше отзывы критиков, тем выше продажи. А между продажами и оценками пользователей корреляция очень слабая, еще и отрицательная. В целом, при прогнозе продаж несколько надежнее полагаться на отзывы критиков.\n",
    "- По другой популярной платформе X360 корреляция между оценкками критиков и продажами, выше, чем корреляция между оценкками пользователей и продажами.\n",
    "-  Оценку по жанрам проводила по по медианному значению. Самые стабильные жанры по доходности - 'Platform', 'Shooter' и 'Sports'. А самая низкая медиана у игр жанра 'Adventure'.\n",
    "- С 2014 года, то картина несколько изменилась. 'Shooter' стал самым топовым жанром, а 'Platform' и 'Shooter' значительно снизили свои позиции. А 'Adventure' так и остается низкодоходным жанром.\n",
    "- В Северной Америке и Европе самымой популярной платформмой являются 'PS4', на втором месте - 'XOne'. В Японии самой популярной платформой является '3DS'. Относительно свежая 'PS4' уже набрала популярность во всех регионах. В Японии более популярны мобильные консоли, чем и является '3DS', а в Северной Америке и Европе - стационарные консоли.\n",
    "- Топ-3 в Северной Америке и Европе полностью совпадает по жанрам ('Action', 'Shooter' и 'Sports'). А в Японии самый популярный жанр. Это связано с различным менталитетом в странах.\n",
    "- В Европе и Северной Америке самый высокий рейтинг продаж у игр для лиц старше 17 лет. Этот рейтинг используется, когда насилие становится реалистичным и похожим на реальную жизнь. Также может присутствовать ненормативная лексика, употребление табака, алкоголя или запрещенных наркотиков. А в Японии рейтинг ESRB на продажи практически не влияет. Так же можно сделать вывод, что значительные объемы продаж занимают игры без рейтинга.\n",
    "- В обеих гипотезах нужно сравнить средние двух независимых генеральных совокупностей между собой, средние значения которых нормально распределены. Поэтому будем использовать критерий Стьюдента - 'ttest_ind'.\n",
    "- Н0 - Средние пользовательсие рейтинги Xbox One и PC одинаковые. Н1 - Средние пользовательсие рейтинги Xbox One и PC отличаются. нулевая гипотеза не отвергается. p-значение: 0.5489537965134912.\n",
    "- Н0 - Средние показатели рейтингов жанров 'Action' и 'Sports' одинаковые. Н1 - Средние показатели рейтингов жанров 'Action' и 'Sports' разные. Нулевая гипотеза отвергается. p-значение: 4.24307776572644e-20"
   ]
  },
  {
   "cell_type": "markdown",
   "metadata": {},
   "source": [
    "<div class=\"alert-success\"> \n",
    "<b>Комментарий ревьюера 👍 </b>\n",
    "    \n",
    "Объемный, качественно написанный вывод! Всё отражено верно."
   ]
  },
  {
   "cell_type": "markdown",
   "metadata": {},
   "source": [
    "<div class=> \n",
    "<b>Общий комментарий ревьюера </b> \n",
    "    \n",
    "Отличный проект, тобою проделана большая работа, ты молодец!\n",
    "\n",
    "Хвалю за наличие хороших промежуточных (и общего) выводов, комментариев и рассуждений - твой проект интересно проверять. Также очень хорошее оформление проекта - в этом плане сделано все именно так, как требуется. По коду вопросов в целом нет.\n",
    "\n",
    "Что обязательно стоит изменить: \n",
    "    \n",
    "1. Включить в анализ влияния рейтинга на продажи игры без рейтинга ESRB\n",
    "2. Проанализировать медианные (или средние) значения - там, где я это отметил\n",
    "3. Добавить обоснование использования критерия Стьюдента\n",
    "\n",
    "Также, я оставил некоторое количество желтых комментариев. Думаю, они будут полезны и ты также что-либо поменяешь, потому что это сделает твой проект лучше.\n",
    "\n",
    "Буду ждать доработок :)\n",
    "    \n",
    "Удачи!"
   ]
  },
  {
   "cell_type": "markdown",
   "metadata": {},
   "source": [
    "<div class=\"alert-success\"> \n",
    "<b>Комментарий ревьюера 👍 Вторая итерация</b>\n",
    "\n",
    "Все, что я отмечал, исправлено. У тебя получился качественно сделанный проект, а теперь он стал ещё лучше. Принимаю! \n",
    "    \n",
    "Успехов в дальнейшей учебе! "
   ]
  },
  {
   "cell_type": "code",
   "execution_count": null,
   "metadata": {},
   "outputs": [],
   "source": []
  }
 ],
 "metadata": {
  "ExecuteTimeLog": [
   {
    "duration": 54,
    "start_time": "2022-11-15T06:06:41.293Z"
   },
   {
    "duration": 378,
    "start_time": "2022-11-15T06:10:26.393Z"
   },
   {
    "duration": 2,
    "start_time": "2022-11-15T06:11:30.503Z"
   },
   {
    "duration": 185,
    "start_time": "2022-11-15T06:13:08.301Z"
   },
   {
    "duration": 23,
    "start_time": "2022-11-15T06:14:32.933Z"
   },
   {
    "duration": 23,
    "start_time": "2022-11-15T06:15:10.329Z"
   },
   {
    "duration": 14,
    "start_time": "2022-11-15T06:17:12.016Z"
   },
   {
    "duration": 15,
    "start_time": "2022-11-15T06:18:03.970Z"
   },
   {
    "duration": 60,
    "start_time": "2022-11-15T09:15:53.787Z"
   },
   {
    "duration": 6,
    "start_time": "2022-11-15T09:16:02.097Z"
   },
   {
    "duration": 9,
    "start_time": "2022-11-15T09:22:08.274Z"
   },
   {
    "duration": 4,
    "start_time": "2022-11-15T09:22:33.145Z"
   },
   {
    "duration": 3,
    "start_time": "2022-11-15T09:26:16.320Z"
   },
   {
    "duration": 425,
    "start_time": "2022-11-15T09:41:42.632Z"
   },
   {
    "duration": 1128,
    "start_time": "2022-11-15T09:43:02.916Z"
   },
   {
    "duration": 5,
    "start_time": "2022-11-15T09:44:35.394Z"
   },
   {
    "duration": 14,
    "start_time": "2022-11-15T09:45:03.500Z"
   },
   {
    "duration": 13,
    "start_time": "2022-11-15T09:52:36.197Z"
   },
   {
    "duration": 201,
    "start_time": "2022-11-15T09:55:17.304Z"
   },
   {
    "duration": 11,
    "start_time": "2022-11-15T09:55:31.891Z"
   },
   {
    "duration": 501,
    "start_time": "2022-11-15T10:00:53.394Z"
   },
   {
    "duration": 8,
    "start_time": "2022-11-15T10:02:48.821Z"
   },
   {
    "duration": 6,
    "start_time": "2022-11-15T10:04:19.798Z"
   },
   {
    "duration": 51,
    "start_time": "2022-11-15T13:52:32.475Z"
   },
   {
    "duration": 375,
    "start_time": "2022-11-15T13:52:53.241Z"
   },
   {
    "duration": 86,
    "start_time": "2022-11-15T13:52:53.617Z"
   },
   {
    "duration": 19,
    "start_time": "2022-11-15T13:52:53.918Z"
   },
   {
    "duration": 20,
    "start_time": "2022-11-15T13:52:54.430Z"
   },
   {
    "duration": 5,
    "start_time": "2022-11-15T13:52:55.139Z"
   },
   {
    "duration": 3,
    "start_time": "2022-11-15T13:52:55.475Z"
   },
   {
    "duration": 3,
    "start_time": "2022-11-15T13:52:55.814Z"
   },
   {
    "duration": 10,
    "start_time": "2022-11-15T13:52:56.350Z"
   },
   {
    "duration": 9,
    "start_time": "2022-11-15T13:52:56.704Z"
   },
   {
    "duration": 5,
    "start_time": "2022-11-15T13:52:57.380Z"
   },
   {
    "duration": 6,
    "start_time": "2022-11-15T13:54:01.057Z"
   },
   {
    "duration": 28,
    "start_time": "2022-11-15T13:57:12.514Z"
   },
   {
    "duration": 6,
    "start_time": "2022-11-15T13:57:28.918Z"
   },
   {
    "duration": 7,
    "start_time": "2022-11-15T13:57:56.111Z"
   },
   {
    "duration": 6,
    "start_time": "2022-11-15T13:58:02.723Z"
   },
   {
    "duration": 6,
    "start_time": "2022-11-15T14:08:18.841Z"
   },
   {
    "duration": 5,
    "start_time": "2022-11-15T14:10:12.242Z"
   },
   {
    "duration": 2,
    "start_time": "2022-11-15T14:10:19.478Z"
   },
   {
    "duration": 43,
    "start_time": "2022-11-15T14:10:19.835Z"
   },
   {
    "duration": 15,
    "start_time": "2022-11-15T14:10:20.338Z"
   },
   {
    "duration": 11,
    "start_time": "2022-11-15T14:10:20.688Z"
   },
   {
    "duration": 4,
    "start_time": "2022-11-15T14:10:21.407Z"
   },
   {
    "duration": 4,
    "start_time": "2022-11-15T14:10:21.774Z"
   },
   {
    "duration": 5,
    "start_time": "2022-11-15T14:10:22.110Z"
   },
   {
    "duration": 5,
    "start_time": "2022-11-15T14:10:22.648Z"
   },
   {
    "duration": 8,
    "start_time": "2022-11-15T14:10:23.023Z"
   },
   {
    "duration": 7,
    "start_time": "2022-11-15T14:10:23.561Z"
   },
   {
    "duration": 7,
    "start_time": "2022-11-15T14:10:23.927Z"
   },
   {
    "duration": 6,
    "start_time": "2022-11-15T14:10:28.203Z"
   },
   {
    "duration": 6,
    "start_time": "2022-11-15T14:11:26.623Z"
   },
   {
    "duration": 3,
    "start_time": "2022-11-15T14:11:28.471Z"
   },
   {
    "duration": 2,
    "start_time": "2022-11-15T14:11:34.039Z"
   },
   {
    "duration": 44,
    "start_time": "2022-11-15T14:11:34.548Z"
   },
   {
    "duration": 14,
    "start_time": "2022-11-15T14:11:34.910Z"
   },
   {
    "duration": 12,
    "start_time": "2022-11-15T14:11:35.268Z"
   },
   {
    "duration": 4,
    "start_time": "2022-11-15T14:11:37.117Z"
   },
   {
    "duration": 4,
    "start_time": "2022-11-15T14:11:37.916Z"
   },
   {
    "duration": 3,
    "start_time": "2022-11-15T14:11:40.095Z"
   },
   {
    "duration": 5,
    "start_time": "2022-11-15T14:11:42.227Z"
   },
   {
    "duration": 7,
    "start_time": "2022-11-15T14:11:43.491Z"
   },
   {
    "duration": 5,
    "start_time": "2022-11-15T14:17:23.750Z"
   },
   {
    "duration": 5,
    "start_time": "2022-11-15T14:21:19.695Z"
   },
   {
    "duration": 7,
    "start_time": "2022-11-15T14:29:21.600Z"
   },
   {
    "duration": 3,
    "start_time": "2022-11-15T14:32:25.945Z"
   },
   {
    "duration": 42,
    "start_time": "2022-11-15T14:32:26.377Z"
   },
   {
    "duration": 23,
    "start_time": "2022-11-15T14:32:32.410Z"
   },
   {
    "duration": 14,
    "start_time": "2022-11-15T14:34:11.288Z"
   },
   {
    "duration": 3,
    "start_time": "2022-11-15T14:46:03.480Z"
   },
   {
    "duration": 6,
    "start_time": "2022-11-15T14:46:04.938Z"
   },
   {
    "duration": 5,
    "start_time": "2022-11-15T14:46:10.624Z"
   },
   {
    "duration": 7,
    "start_time": "2022-11-15T14:46:37.804Z"
   },
   {
    "duration": 6,
    "start_time": "2022-11-15T14:47:37.096Z"
   },
   {
    "duration": 6,
    "start_time": "2022-11-15T14:48:22.256Z"
   },
   {
    "duration": 3,
    "start_time": "2022-11-15T14:48:32.496Z"
   },
   {
    "duration": 42,
    "start_time": "2022-11-15T14:48:32.891Z"
   },
   {
    "duration": 14,
    "start_time": "2022-11-15T14:48:33.279Z"
   },
   {
    "duration": 11,
    "start_time": "2022-11-15T14:48:34.043Z"
   },
   {
    "duration": 4,
    "start_time": "2022-11-15T14:48:37.745Z"
   },
   {
    "duration": 2,
    "start_time": "2022-11-15T14:48:41.953Z"
   },
   {
    "duration": 3,
    "start_time": "2022-11-15T14:48:45.365Z"
   },
   {
    "duration": 4,
    "start_time": "2022-11-15T14:49:08.908Z"
   },
   {
    "duration": 7,
    "start_time": "2022-11-15T14:49:09.818Z"
   },
   {
    "duration": 8,
    "start_time": "2022-11-15T14:49:11.303Z"
   },
   {
    "duration": 79,
    "start_time": "2022-11-15T14:52:31.452Z"
   },
   {
    "duration": 3,
    "start_time": "2022-11-15T14:52:38.837Z"
   },
   {
    "duration": 4,
    "start_time": "2022-11-15T14:52:40.659Z"
   },
   {
    "duration": 6,
    "start_time": "2022-11-15T14:52:59.948Z"
   },
   {
    "duration": 7,
    "start_time": "2022-11-15T14:53:05.347Z"
   },
   {
    "duration": 3,
    "start_time": "2022-11-15T14:56:43.710Z"
   },
   {
    "duration": 2,
    "start_time": "2022-11-15T14:56:44.485Z"
   },
   {
    "duration": 43,
    "start_time": "2022-11-15T14:56:45.048Z"
   },
   {
    "duration": 14,
    "start_time": "2022-11-15T14:56:45.394Z"
   },
   {
    "duration": 11,
    "start_time": "2022-11-15T14:56:45.753Z"
   },
   {
    "duration": 3,
    "start_time": "2022-11-15T14:56:46.593Z"
   },
   {
    "duration": 3,
    "start_time": "2022-11-15T14:56:46.940Z"
   },
   {
    "duration": 3,
    "start_time": "2022-11-15T14:56:47.399Z"
   },
   {
    "duration": 4,
    "start_time": "2022-11-15T14:56:49.665Z"
   },
   {
    "duration": 6,
    "start_time": "2022-11-15T14:56:50.171Z"
   },
   {
    "duration": 7,
    "start_time": "2022-11-15T14:56:50.595Z"
   },
   {
    "duration": 4,
    "start_time": "2022-11-15T14:56:56.997Z"
   },
   {
    "duration": 4,
    "start_time": "2022-11-15T14:56:58.547Z"
   },
   {
    "duration": 3,
    "start_time": "2022-11-15T14:57:20.753Z"
   },
   {
    "duration": 8,
    "start_time": "2022-11-15T14:57:27.441Z"
   },
   {
    "duration": 7,
    "start_time": "2022-11-15T14:57:37.800Z"
   },
   {
    "duration": 3,
    "start_time": "2022-11-15T14:57:55.496Z"
   },
   {
    "duration": 4,
    "start_time": "2022-11-15T14:57:56.349Z"
   },
   {
    "duration": 3,
    "start_time": "2022-11-15T14:57:56.894Z"
   },
   {
    "duration": 6,
    "start_time": "2022-11-15T14:57:57.341Z"
   },
   {
    "duration": 7,
    "start_time": "2022-11-15T14:57:57.931Z"
   },
   {
    "duration": 8,
    "start_time": "2022-11-15T14:58:02.840Z"
   },
   {
    "duration": 3,
    "start_time": "2022-11-15T14:58:27.543Z"
   },
   {
    "duration": 3,
    "start_time": "2022-11-15T14:58:27.840Z"
   },
   {
    "duration": 43,
    "start_time": "2022-11-15T14:58:28.217Z"
   },
   {
    "duration": 17,
    "start_time": "2022-11-15T14:58:28.572Z"
   },
   {
    "duration": 17,
    "start_time": "2022-11-15T14:58:28.951Z"
   },
   {
    "duration": 4,
    "start_time": "2022-11-15T14:58:30.190Z"
   },
   {
    "duration": 3,
    "start_time": "2022-11-15T14:58:30.775Z"
   },
   {
    "duration": 3,
    "start_time": "2022-11-15T14:58:31.209Z"
   },
   {
    "duration": 4,
    "start_time": "2022-11-15T14:58:32.086Z"
   },
   {
    "duration": 6,
    "start_time": "2022-11-15T14:58:32.585Z"
   },
   {
    "duration": 8,
    "start_time": "2022-11-15T14:58:33.040Z"
   },
   {
    "duration": 4,
    "start_time": "2022-11-15T14:58:36.415Z"
   },
   {
    "duration": 4,
    "start_time": "2022-11-15T14:58:37.688Z"
   },
   {
    "duration": 4,
    "start_time": "2022-11-15T14:58:43.819Z"
   },
   {
    "duration": 7,
    "start_time": "2022-11-15T14:58:44.799Z"
   },
   {
    "duration": 7,
    "start_time": "2022-11-15T14:58:46.278Z"
   },
   {
    "duration": 3,
    "start_time": "2022-11-15T15:02:00.759Z"
   },
   {
    "duration": 4,
    "start_time": "2022-11-15T15:02:01.784Z"
   },
   {
    "duration": 3,
    "start_time": "2022-11-15T15:02:02.597Z"
   },
   {
    "duration": 7,
    "start_time": "2022-11-15T15:02:06.944Z"
   },
   {
    "duration": 8,
    "start_time": "2022-11-15T15:02:07.708Z"
   },
   {
    "duration": 3,
    "start_time": "2022-11-15T15:09:55.872Z"
   },
   {
    "duration": 6,
    "start_time": "2022-11-15T15:09:59.127Z"
   },
   {
    "duration": 3,
    "start_time": "2022-11-15T15:10:17.210Z"
   },
   {
    "duration": 3,
    "start_time": "2022-11-15T15:10:17.400Z"
   },
   {
    "duration": 42,
    "start_time": "2022-11-15T15:10:17.751Z"
   },
   {
    "duration": 14,
    "start_time": "2022-11-15T15:10:18.113Z"
   },
   {
    "duration": 11,
    "start_time": "2022-11-15T15:10:18.459Z"
   },
   {
    "duration": 4,
    "start_time": "2022-11-15T15:10:19.614Z"
   },
   {
    "duration": 3,
    "start_time": "2022-11-15T15:10:19.987Z"
   },
   {
    "duration": 3,
    "start_time": "2022-11-15T15:10:20.356Z"
   },
   {
    "duration": 5,
    "start_time": "2022-11-15T15:10:20.942Z"
   },
   {
    "duration": 7,
    "start_time": "2022-11-15T15:10:21.311Z"
   },
   {
    "duration": 8,
    "start_time": "2022-11-15T15:10:21.725Z"
   },
   {
    "duration": 5,
    "start_time": "2022-11-15T15:10:22.486Z"
   },
   {
    "duration": 4,
    "start_time": "2022-11-15T15:10:22.903Z"
   },
   {
    "duration": 4,
    "start_time": "2022-11-15T15:10:23.262Z"
   },
   {
    "duration": 7,
    "start_time": "2022-11-15T15:10:23.637Z"
   },
   {
    "duration": 19,
    "start_time": "2022-11-15T15:32:01.688Z"
   },
   {
    "duration": 7,
    "start_time": "2022-11-15T15:32:49.938Z"
   },
   {
    "duration": 21,
    "start_time": "2022-11-15T15:33:22.331Z"
   },
   {
    "duration": 11,
    "start_time": "2022-11-15T15:36:33.678Z"
   },
   {
    "duration": 5,
    "start_time": "2022-11-15T15:36:50.348Z"
   },
   {
    "duration": 6,
    "start_time": "2022-11-15T15:36:57.802Z"
   },
   {
    "duration": 11,
    "start_time": "2022-11-15T15:37:17.520Z"
   },
   {
    "duration": 16,
    "start_time": "2022-11-15T15:37:20.080Z"
   },
   {
    "duration": 7,
    "start_time": "2022-11-15T15:38:28.040Z"
   },
   {
    "duration": 14,
    "start_time": "2022-11-15T15:38:29.875Z"
   },
   {
    "duration": 5,
    "start_time": "2022-11-15T16:05:52.448Z"
   },
   {
    "duration": 5,
    "start_time": "2022-11-15T16:05:57.946Z"
   },
   {
    "duration": 4,
    "start_time": "2022-11-15T16:48:41.115Z"
   },
   {
    "duration": 532,
    "start_time": "2022-11-15T16:52:20.870Z"
   },
   {
    "duration": 151,
    "start_time": "2022-11-15T16:52:33.664Z"
   },
   {
    "duration": 148,
    "start_time": "2022-11-15T16:52:42.303Z"
   },
   {
    "duration": 187,
    "start_time": "2022-11-15T16:52:56.797Z"
   },
   {
    "duration": 3,
    "start_time": "2022-11-15T16:54:41.163Z"
   },
   {
    "duration": 135,
    "start_time": "2022-11-15T16:54:51.879Z"
   },
   {
    "duration": 9,
    "start_time": "2022-11-15T16:56:46.869Z"
   },
   {
    "duration": 147,
    "start_time": "2022-11-15T17:03:02.783Z"
   },
   {
    "duration": 141,
    "start_time": "2022-11-15T17:03:27.540Z"
   },
   {
    "duration": 74,
    "start_time": "2022-11-16T05:32:34.424Z"
   },
   {
    "duration": 344,
    "start_time": "2022-11-16T05:32:43.569Z"
   },
   {
    "duration": 3,
    "start_time": "2022-11-16T05:32:43.915Z"
   },
   {
    "duration": 396,
    "start_time": "2022-11-16T05:32:43.919Z"
   },
   {
    "duration": 91,
    "start_time": "2022-11-16T05:32:44.317Z"
   },
   {
    "duration": 19,
    "start_time": "2022-11-16T05:32:44.532Z"
   },
   {
    "duration": 14,
    "start_time": "2022-11-16T05:32:44.835Z"
   },
   {
    "duration": 3,
    "start_time": "2022-11-16T05:32:45.873Z"
   },
   {
    "duration": 3,
    "start_time": "2022-11-16T05:32:46.216Z"
   },
   {
    "duration": 5,
    "start_time": "2022-11-16T05:32:46.558Z"
   },
   {
    "duration": 5,
    "start_time": "2022-11-16T05:32:47.182Z"
   },
   {
    "duration": 7,
    "start_time": "2022-11-16T05:32:47.706Z"
   },
   {
    "duration": 8,
    "start_time": "2022-11-16T05:32:48.021Z"
   },
   {
    "duration": 4,
    "start_time": "2022-11-16T05:32:48.974Z"
   },
   {
    "duration": 4,
    "start_time": "2022-11-16T05:32:49.348Z"
   },
   {
    "duration": 4,
    "start_time": "2022-11-16T05:32:49.986Z"
   },
   {
    "duration": 9,
    "start_time": "2022-11-16T05:32:50.779Z"
   },
   {
    "duration": 5,
    "start_time": "2022-11-16T05:32:51.472Z"
   },
   {
    "duration": 78,
    "start_time": "2022-11-16T05:32:54.982Z"
   },
   {
    "duration": 81,
    "start_time": "2022-11-16T05:33:38.324Z"
   },
   {
    "duration": 91,
    "start_time": "2022-11-16T05:33:50.791Z"
   },
   {
    "duration": 75,
    "start_time": "2022-11-16T05:34:08.788Z"
   },
   {
    "duration": 75,
    "start_time": "2022-11-16T05:37:21.204Z"
   },
   {
    "duration": 79,
    "start_time": "2022-11-16T05:38:30.339Z"
   },
   {
    "duration": 69,
    "start_time": "2022-11-16T05:38:42.953Z"
   },
   {
    "duration": 2,
    "start_time": "2022-11-16T05:39:08.887Z"
   },
   {
    "duration": 3,
    "start_time": "2022-11-16T05:39:09.522Z"
   },
   {
    "duration": 2,
    "start_time": "2022-11-16T05:39:09.589Z"
   },
   {
    "duration": 53,
    "start_time": "2022-11-16T05:39:10.190Z"
   },
   {
    "duration": 16,
    "start_time": "2022-11-16T05:39:10.493Z"
   },
   {
    "duration": 12,
    "start_time": "2022-11-16T05:39:10.799Z"
   },
   {
    "duration": 4,
    "start_time": "2022-11-16T05:39:12.060Z"
   },
   {
    "duration": 3,
    "start_time": "2022-11-16T05:39:12.362Z"
   },
   {
    "duration": 3,
    "start_time": "2022-11-16T05:39:12.676Z"
   },
   {
    "duration": 5,
    "start_time": "2022-11-16T05:39:13.060Z"
   },
   {
    "duration": 7,
    "start_time": "2022-11-16T05:39:13.403Z"
   },
   {
    "duration": 7,
    "start_time": "2022-11-16T05:39:13.759Z"
   },
   {
    "duration": 3,
    "start_time": "2022-11-16T05:39:14.324Z"
   },
   {
    "duration": 4,
    "start_time": "2022-11-16T05:39:14.843Z"
   },
   {
    "duration": 4,
    "start_time": "2022-11-16T05:39:15.138Z"
   },
   {
    "duration": 8,
    "start_time": "2022-11-16T05:39:15.454Z"
   },
   {
    "duration": 4,
    "start_time": "2022-11-16T05:39:17.421Z"
   },
   {
    "duration": 69,
    "start_time": "2022-11-16T05:39:19.260Z"
   },
   {
    "duration": 69,
    "start_time": "2022-11-16T05:44:32.189Z"
   },
   {
    "duration": 5,
    "start_time": "2022-11-16T05:48:52.803Z"
   },
   {
    "duration": 4,
    "start_time": "2022-11-16T05:50:35.473Z"
   },
   {
    "duration": 5,
    "start_time": "2022-11-16T06:06:18.630Z"
   },
   {
    "duration": 4,
    "start_time": "2022-11-16T06:06:23.346Z"
   },
   {
    "duration": 5,
    "start_time": "2022-11-16T06:06:41.037Z"
   },
   {
    "duration": 70,
    "start_time": "2022-11-16T06:06:42.427Z"
   },
   {
    "duration": 6,
    "start_time": "2022-11-16T06:08:02.416Z"
   },
   {
    "duration": 65,
    "start_time": "2022-11-16T06:33:56.981Z"
   },
   {
    "duration": 4,
    "start_time": "2022-11-16T06:34:40.190Z"
   },
   {
    "duration": 4,
    "start_time": "2022-11-16T06:35:53.231Z"
   },
   {
    "duration": 3,
    "start_time": "2022-11-16T06:37:40.813Z"
   },
   {
    "duration": 4,
    "start_time": "2022-11-16T06:37:43.939Z"
   },
   {
    "duration": 4,
    "start_time": "2022-11-16T06:37:45.889Z"
   },
   {
    "duration": 8,
    "start_time": "2022-11-16T06:37:47.752Z"
   },
   {
    "duration": 7,
    "start_time": "2022-11-16T06:37:55.913Z"
   },
   {
    "duration": 5,
    "start_time": "2022-11-16T06:38:03.167Z"
   },
   {
    "duration": 9,
    "start_time": "2022-11-16T06:38:22.185Z"
   },
   {
    "duration": 2,
    "start_time": "2022-11-16T06:38:46.644Z"
   },
   {
    "duration": 2,
    "start_time": "2022-11-16T06:38:46.718Z"
   },
   {
    "duration": 3,
    "start_time": "2022-11-16T06:38:46.945Z"
   },
   {
    "duration": 45,
    "start_time": "2022-11-16T06:38:47.255Z"
   },
   {
    "duration": 14,
    "start_time": "2022-11-16T06:38:47.576Z"
   },
   {
    "duration": 12,
    "start_time": "2022-11-16T06:38:47.887Z"
   },
   {
    "duration": 3,
    "start_time": "2022-11-16T06:38:48.908Z"
   },
   {
    "duration": 3,
    "start_time": "2022-11-16T06:38:49.311Z"
   },
   {
    "duration": 4,
    "start_time": "2022-11-16T06:38:49.620Z"
   },
   {
    "duration": 5,
    "start_time": "2022-11-16T06:38:50.293Z"
   },
   {
    "duration": 7,
    "start_time": "2022-11-16T06:38:50.655Z"
   },
   {
    "duration": 8,
    "start_time": "2022-11-16T06:38:51.019Z"
   },
   {
    "duration": 4,
    "start_time": "2022-11-16T06:38:51.425Z"
   },
   {
    "duration": 4,
    "start_time": "2022-11-16T06:38:51.764Z"
   },
   {
    "duration": 4,
    "start_time": "2022-11-16T06:38:52.151Z"
   },
   {
    "duration": 7,
    "start_time": "2022-11-16T06:39:10.988Z"
   },
   {
    "duration": 5,
    "start_time": "2022-11-16T06:39:18.733Z"
   },
   {
    "duration": 5,
    "start_time": "2022-11-16T06:39:19.408Z"
   },
   {
    "duration": 6,
    "start_time": "2022-11-16T06:39:30.218Z"
   },
   {
    "duration": 68,
    "start_time": "2022-11-16T06:39:47.915Z"
   },
   {
    "duration": 164,
    "start_time": "2022-11-16T06:40:35.954Z"
   },
   {
    "duration": 151,
    "start_time": "2022-11-16T06:44:54.824Z"
   },
   {
    "duration": 165,
    "start_time": "2022-11-16T06:45:11.772Z"
   },
   {
    "duration": 215,
    "start_time": "2022-11-16T07:00:42.618Z"
   },
   {
    "duration": 160,
    "start_time": "2022-11-16T07:01:03.632Z"
   },
   {
    "duration": 3,
    "start_time": "2022-11-16T07:03:47.164Z"
   },
   {
    "duration": 2,
    "start_time": "2022-11-16T07:03:47.446Z"
   },
   {
    "duration": 2,
    "start_time": "2022-11-16T07:03:47.543Z"
   },
   {
    "duration": 47,
    "start_time": "2022-11-16T07:03:47.841Z"
   },
   {
    "duration": 15,
    "start_time": "2022-11-16T07:03:48.182Z"
   },
   {
    "duration": 13,
    "start_time": "2022-11-16T07:03:48.539Z"
   },
   {
    "duration": 5,
    "start_time": "2022-11-16T07:03:50.205Z"
   },
   {
    "duration": 3,
    "start_time": "2022-11-16T07:03:50.563Z"
   },
   {
    "duration": 5,
    "start_time": "2022-11-16T07:03:50.949Z"
   },
   {
    "duration": 4,
    "start_time": "2022-11-16T07:03:51.764Z"
   },
   {
    "duration": 8,
    "start_time": "2022-11-16T07:03:52.165Z"
   },
   {
    "duration": 12,
    "start_time": "2022-11-16T07:03:52.582Z"
   },
   {
    "duration": 3,
    "start_time": "2022-11-16T07:03:53.481Z"
   },
   {
    "duration": 4,
    "start_time": "2022-11-16T07:03:54.898Z"
   },
   {
    "duration": 4,
    "start_time": "2022-11-16T07:03:55.339Z"
   },
   {
    "duration": 7,
    "start_time": "2022-11-16T07:03:55.600Z"
   },
   {
    "duration": 5,
    "start_time": "2022-11-16T07:03:56.634Z"
   },
   {
    "duration": 5,
    "start_time": "2022-11-16T07:03:58.350Z"
   },
   {
    "duration": 7,
    "start_time": "2022-11-16T07:04:00.334Z"
   },
   {
    "duration": 160,
    "start_time": "2022-11-16T07:04:03.968Z"
   },
   {
    "duration": 199,
    "start_time": "2022-11-16T07:04:30.252Z"
   },
   {
    "duration": 60,
    "start_time": "2022-11-16T07:10:31.398Z"
   },
   {
    "duration": 111,
    "start_time": "2022-11-16T07:11:14.991Z"
   },
   {
    "duration": 128,
    "start_time": "2022-11-16T07:11:36.500Z"
   },
   {
    "duration": 18,
    "start_time": "2022-11-16T07:12:16.774Z"
   },
   {
    "duration": 177,
    "start_time": "2022-11-16T07:13:52.569Z"
   },
   {
    "duration": 387,
    "start_time": "2022-11-16T07:14:58.264Z"
   },
   {
    "duration": 492,
    "start_time": "2022-11-16T07:15:22.836Z"
   },
   {
    "duration": 416,
    "start_time": "2022-11-16T07:30:22.356Z"
   },
   {
    "duration": 465,
    "start_time": "2022-11-16T07:31:14.363Z"
   },
   {
    "duration": 8,
    "start_time": "2022-11-16T07:39:49.279Z"
   },
   {
    "duration": 6,
    "start_time": "2022-11-16T07:40:33.674Z"
   },
   {
    "duration": 208,
    "start_time": "2022-11-16T07:43:02.165Z"
   },
   {
    "duration": 224,
    "start_time": "2022-11-16T07:43:16.833Z"
   },
   {
    "duration": 136,
    "start_time": "2022-11-16T07:44:41.205Z"
   },
   {
    "duration": 2,
    "start_time": "2022-11-16T07:54:01.440Z"
   },
   {
    "duration": 470,
    "start_time": "2022-11-16T07:54:03.004Z"
   },
   {
    "duration": 2,
    "start_time": "2022-11-16T07:55:49.557Z"
   },
   {
    "duration": 2,
    "start_time": "2022-11-16T07:55:50.693Z"
   },
   {
    "duration": 3,
    "start_time": "2022-11-16T07:55:51.377Z"
   },
   {
    "duration": 43,
    "start_time": "2022-11-16T07:55:51.962Z"
   },
   {
    "duration": 14,
    "start_time": "2022-11-16T07:55:52.365Z"
   },
   {
    "duration": 14,
    "start_time": "2022-11-16T07:55:52.717Z"
   },
   {
    "duration": 4,
    "start_time": "2022-11-16T07:55:53.856Z"
   },
   {
    "duration": 3,
    "start_time": "2022-11-16T07:55:54.196Z"
   },
   {
    "duration": 4,
    "start_time": "2022-11-16T07:55:54.544Z"
   },
   {
    "duration": 4,
    "start_time": "2022-11-16T07:55:55.126Z"
   },
   {
    "duration": 8,
    "start_time": "2022-11-16T07:55:55.495Z"
   },
   {
    "duration": 8,
    "start_time": "2022-11-16T07:55:55.846Z"
   },
   {
    "duration": 4,
    "start_time": "2022-11-16T07:55:56.237Z"
   },
   {
    "duration": 4,
    "start_time": "2022-11-16T07:55:56.623Z"
   },
   {
    "duration": 5,
    "start_time": "2022-11-16T07:55:56.968Z"
   },
   {
    "duration": 7,
    "start_time": "2022-11-16T07:55:57.321Z"
   },
   {
    "duration": 5,
    "start_time": "2022-11-16T07:55:57.670Z"
   },
   {
    "duration": 5,
    "start_time": "2022-11-16T07:55:57.989Z"
   },
   {
    "duration": 4,
    "start_time": "2022-11-16T07:55:58.700Z"
   },
   {
    "duration": 7,
    "start_time": "2022-11-16T07:55:59.641Z"
   },
   {
    "duration": 2,
    "start_time": "2022-11-16T07:55:59.708Z"
   },
   {
    "duration": 473,
    "start_time": "2022-11-16T07:55:59.996Z"
   },
   {
    "duration": 150,
    "start_time": "2022-11-16T07:56:35.122Z"
   },
   {
    "duration": 145,
    "start_time": "2022-11-16T07:56:48.171Z"
   },
   {
    "duration": 75,
    "start_time": "2022-11-16T07:57:17.380Z"
   },
   {
    "duration": 72,
    "start_time": "2022-11-16T07:57:29.124Z"
   },
   {
    "duration": 70,
    "start_time": "2022-11-16T07:57:46.532Z"
   },
   {
    "duration": 6,
    "start_time": "2022-11-16T07:58:45.344Z"
   },
   {
    "duration": 72,
    "start_time": "2022-11-16T08:04:20.611Z"
   },
   {
    "duration": 75,
    "start_time": "2022-11-16T08:04:31.960Z"
   },
   {
    "duration": 94,
    "start_time": "2022-11-16T08:04:42.929Z"
   },
   {
    "duration": 137,
    "start_time": "2022-11-16T08:04:57.390Z"
   },
   {
    "duration": 6,
    "start_time": "2022-11-16T08:06:58.554Z"
   },
   {
    "duration": 7,
    "start_time": "2022-11-16T08:07:34.523Z"
   },
   {
    "duration": 3,
    "start_time": "2022-11-16T08:08:57.506Z"
   },
   {
    "duration": 3,
    "start_time": "2022-11-16T08:09:29.379Z"
   },
   {
    "duration": 137,
    "start_time": "2022-11-16T08:09:30.692Z"
   },
   {
    "duration": 150,
    "start_time": "2022-11-16T08:09:43.015Z"
   },
   {
    "duration": 3,
    "start_time": "2022-11-16T08:10:03.982Z"
   },
   {
    "duration": 135,
    "start_time": "2022-11-16T08:13:14.251Z"
   },
   {
    "duration": 3,
    "start_time": "2022-11-16T08:15:17.786Z"
   },
   {
    "duration": 2,
    "start_time": "2022-11-16T08:15:22.273Z"
   },
   {
    "duration": 5,
    "start_time": "2022-11-16T08:15:22.555Z"
   },
   {
    "duration": 4,
    "start_time": "2022-11-16T08:15:22.851Z"
   },
   {
    "duration": 8,
    "start_time": "2022-11-16T08:15:23.146Z"
   },
   {
    "duration": 5,
    "start_time": "2022-11-16T08:15:23.457Z"
   },
   {
    "duration": 4,
    "start_time": "2022-11-16T08:15:23.772Z"
   },
   {
    "duration": 4,
    "start_time": "2022-11-16T08:15:24.843Z"
   },
   {
    "duration": 2,
    "start_time": "2022-11-16T08:15:27.346Z"
   },
   {
    "duration": 2,
    "start_time": "2022-11-16T08:15:30.056Z"
   },
   {
    "duration": 146,
    "start_time": "2022-11-16T08:15:31.317Z"
   },
   {
    "duration": 4,
    "start_time": "2022-11-16T08:17:18.225Z"
   },
   {
    "duration": 3,
    "start_time": "2022-11-16T08:17:19.718Z"
   },
   {
    "duration": 4,
    "start_time": "2022-11-16T08:17:20.029Z"
   },
   {
    "duration": 11,
    "start_time": "2022-11-16T08:17:20.323Z"
   },
   {
    "duration": 4,
    "start_time": "2022-11-16T08:17:20.701Z"
   },
   {
    "duration": 3,
    "start_time": "2022-11-16T08:17:20.929Z"
   },
   {
    "duration": 5,
    "start_time": "2022-11-16T08:17:21.237Z"
   },
   {
    "duration": 4,
    "start_time": "2022-11-16T08:17:21.751Z"
   },
   {
    "duration": 8,
    "start_time": "2022-11-16T08:17:22.147Z"
   },
   {
    "duration": 5,
    "start_time": "2022-11-16T08:17:22.487Z"
   },
   {
    "duration": 4,
    "start_time": "2022-11-16T08:17:24.058Z"
   },
   {
    "duration": 4,
    "start_time": "2022-11-16T08:17:27.823Z"
   },
   {
    "duration": 2,
    "start_time": "2022-11-16T08:17:30.201Z"
   },
   {
    "duration": 2,
    "start_time": "2022-11-16T08:17:30.286Z"
   },
   {
    "duration": 154,
    "start_time": "2022-11-16T08:17:30.516Z"
   },
   {
    "duration": 637,
    "start_time": "2022-11-16T08:17:30.672Z"
   },
   {
    "duration": 3,
    "start_time": "2022-11-16T08:18:48.389Z"
   },
   {
    "duration": 2,
    "start_time": "2022-11-16T08:18:48.681Z"
   },
   {
    "duration": 3,
    "start_time": "2022-11-16T08:18:48.754Z"
   },
   {
    "duration": 44,
    "start_time": "2022-11-16T08:18:53.591Z"
   },
   {
    "duration": 15,
    "start_time": "2022-11-16T08:18:54.107Z"
   },
   {
    "duration": 14,
    "start_time": "2022-11-16T08:18:54.479Z"
   },
   {
    "duration": 4,
    "start_time": "2022-11-16T08:19:09.166Z"
   },
   {
    "duration": 3,
    "start_time": "2022-11-16T08:19:11.075Z"
   },
   {
    "duration": 4,
    "start_time": "2022-11-16T08:19:12.646Z"
   },
   {
    "duration": 13,
    "start_time": "2022-11-16T08:19:46.247Z"
   },
   {
    "duration": 11,
    "start_time": "2022-11-16T08:21:02.040Z"
   },
   {
    "duration": 4,
    "start_time": "2022-11-16T08:21:30.528Z"
   },
   {
    "duration": 3,
    "start_time": "2022-11-16T08:21:33.345Z"
   },
   {
    "duration": 3,
    "start_time": "2022-11-16T08:21:40.552Z"
   },
   {
    "duration": 2,
    "start_time": "2022-11-16T08:21:40.638Z"
   },
   {
    "duration": 3,
    "start_time": "2022-11-16T08:21:40.936Z"
   },
   {
    "duration": 44,
    "start_time": "2022-11-16T08:21:41.298Z"
   },
   {
    "duration": 15,
    "start_time": "2022-11-16T08:21:41.641Z"
   },
   {
    "duration": 13,
    "start_time": "2022-11-16T08:21:42.149Z"
   },
   {
    "duration": 3,
    "start_time": "2022-11-16T08:21:43.189Z"
   },
   {
    "duration": 3,
    "start_time": "2022-11-16T08:21:43.552Z"
   },
   {
    "duration": 4,
    "start_time": "2022-11-16T08:21:45.423Z"
   },
   {
    "duration": 12,
    "start_time": "2022-11-16T08:21:45.821Z"
   },
   {
    "duration": 2,
    "start_time": "2022-11-16T08:21:46.299Z"
   },
   {
    "duration": 3,
    "start_time": "2022-11-16T08:22:16.629Z"
   },
   {
    "duration": 4,
    "start_time": "2022-11-16T08:22:23.418Z"
   },
   {
    "duration": 4,
    "start_time": "2022-11-16T08:24:51.939Z"
   },
   {
    "duration": 2,
    "start_time": "2022-11-16T08:24:57.163Z"
   },
   {
    "duration": 7,
    "start_time": "2022-11-16T08:24:57.799Z"
   },
   {
    "duration": 160,
    "start_time": "2022-11-16T08:25:17.881Z"
   },
   {
    "duration": 8,
    "start_time": "2022-11-16T08:26:32.357Z"
   },
   {
    "duration": 4,
    "start_time": "2022-11-16T08:28:05.982Z"
   },
   {
    "duration": 4,
    "start_time": "2022-11-16T08:28:18.234Z"
   },
   {
    "duration": 4,
    "start_time": "2022-11-16T08:29:52.766Z"
   },
   {
    "duration": 4,
    "start_time": "2022-11-16T08:30:10.004Z"
   },
   {
    "duration": 4,
    "start_time": "2022-11-16T08:30:23.385Z"
   },
   {
    "duration": 142,
    "start_time": "2022-11-16T08:30:25.443Z"
   },
   {
    "duration": 3,
    "start_time": "2022-11-16T08:31:29.488Z"
   },
   {
    "duration": 139,
    "start_time": "2022-11-16T09:06:26.525Z"
   },
   {
    "duration": 11,
    "start_time": "2022-11-16T09:06:27.929Z"
   },
   {
    "duration": 10,
    "start_time": "2022-11-16T09:06:38.137Z"
   },
   {
    "duration": 158,
    "start_time": "2022-11-16T09:07:11.146Z"
   },
   {
    "duration": 135,
    "start_time": "2022-11-16T09:07:22.894Z"
   },
   {
    "duration": 149,
    "start_time": "2022-11-16T09:07:42.013Z"
   },
   {
    "duration": 146,
    "start_time": "2022-11-16T09:09:07.597Z"
   },
   {
    "duration": 140,
    "start_time": "2022-11-16T09:11:35.242Z"
   },
   {
    "duration": 130,
    "start_time": "2022-11-16T09:12:49.704Z"
   },
   {
    "duration": 166,
    "start_time": "2022-11-16T09:13:01.240Z"
   },
   {
    "duration": 152,
    "start_time": "2022-11-16T09:13:49.428Z"
   },
   {
    "duration": 141,
    "start_time": "2022-11-16T09:15:22.759Z"
   },
   {
    "duration": 158,
    "start_time": "2022-11-16T09:15:35.250Z"
   },
   {
    "duration": 271,
    "start_time": "2022-11-16T09:16:43.736Z"
   },
   {
    "duration": 138,
    "start_time": "2022-11-16T09:16:55.717Z"
   },
   {
    "duration": 10,
    "start_time": "2022-11-16T09:29:33.254Z"
   },
   {
    "duration": 67,
    "start_time": "2022-11-16T09:30:28.628Z"
   },
   {
    "duration": 9,
    "start_time": "2022-11-16T09:30:57.076Z"
   },
   {
    "duration": 66,
    "start_time": "2022-11-16T09:31:16.623Z"
   },
   {
    "duration": 94,
    "start_time": "2022-11-16T09:36:39.803Z"
   },
   {
    "duration": 70,
    "start_time": "2022-11-16T09:38:03.016Z"
   },
   {
    "duration": 72,
    "start_time": "2022-11-16T09:38:47.726Z"
   },
   {
    "duration": 65,
    "start_time": "2022-11-16T09:42:54.506Z"
   },
   {
    "duration": 83,
    "start_time": "2022-11-16T09:44:16.484Z"
   },
   {
    "duration": 76,
    "start_time": "2022-11-16T09:45:02.745Z"
   },
   {
    "duration": 71,
    "start_time": "2022-11-16T09:47:09.182Z"
   },
   {
    "duration": 1177,
    "start_time": "2022-11-16T09:48:34.160Z"
   },
   {
    "duration": 4,
    "start_time": "2022-11-16T09:49:01.413Z"
   },
   {
    "duration": 6,
    "start_time": "2022-11-16T09:50:39.933Z"
   },
   {
    "duration": 5,
    "start_time": "2022-11-16T09:50:41.395Z"
   },
   {
    "duration": 79,
    "start_time": "2022-11-16T09:50:53.968Z"
   },
   {
    "duration": 72,
    "start_time": "2022-11-16T09:51:39.460Z"
   },
   {
    "duration": 74,
    "start_time": "2022-11-16T09:52:34.762Z"
   },
   {
    "duration": 95,
    "start_time": "2022-11-16T09:52:42.165Z"
   },
   {
    "duration": 103,
    "start_time": "2022-11-16T09:52:59.403Z"
   },
   {
    "duration": 18,
    "start_time": "2022-11-16T09:58:27.530Z"
   },
   {
    "duration": 20,
    "start_time": "2022-11-16T09:58:48.568Z"
   },
   {
    "duration": 18,
    "start_time": "2022-11-16T10:00:19.818Z"
   },
   {
    "duration": 2,
    "start_time": "2022-11-16T10:00:29.340Z"
   },
   {
    "duration": 3,
    "start_time": "2022-11-16T10:00:29.413Z"
   },
   {
    "duration": 3,
    "start_time": "2022-11-16T10:00:29.646Z"
   },
   {
    "duration": 46,
    "start_time": "2022-11-16T10:00:29.970Z"
   },
   {
    "duration": 15,
    "start_time": "2022-11-16T10:00:30.275Z"
   },
   {
    "duration": 14,
    "start_time": "2022-11-16T10:00:30.566Z"
   },
   {
    "duration": 4,
    "start_time": "2022-11-16T10:00:31.621Z"
   },
   {
    "duration": 3,
    "start_time": "2022-11-16T10:00:31.904Z"
   },
   {
    "duration": 4,
    "start_time": "2022-11-16T10:00:32.276Z"
   },
   {
    "duration": 3,
    "start_time": "2022-11-16T10:00:32.918Z"
   },
   {
    "duration": 4,
    "start_time": "2022-11-16T10:00:32.985Z"
   },
   {
    "duration": 7,
    "start_time": "2022-11-16T10:00:33.310Z"
   },
   {
    "duration": 8,
    "start_time": "2022-11-16T10:00:33.643Z"
   },
   {
    "duration": 5,
    "start_time": "2022-11-16T10:00:33.986Z"
   },
   {
    "duration": 3,
    "start_time": "2022-11-16T10:00:34.310Z"
   },
   {
    "duration": 10,
    "start_time": "2022-11-16T10:00:34.644Z"
   },
   {
    "duration": 6,
    "start_time": "2022-11-16T10:00:34.952Z"
   },
   {
    "duration": 5,
    "start_time": "2022-11-16T10:00:35.259Z"
   },
   {
    "duration": 5,
    "start_time": "2022-11-16T10:00:36.401Z"
   },
   {
    "duration": 5,
    "start_time": "2022-11-16T10:00:36.480Z"
   },
   {
    "duration": 156,
    "start_time": "2022-11-16T10:00:37.704Z"
   },
   {
    "duration": 194,
    "start_time": "2022-11-16T10:00:40.248Z"
   },
   {
    "duration": 20,
    "start_time": "2022-11-16T10:00:45.899Z"
   },
   {
    "duration": 11,
    "start_time": "2022-11-16T10:01:46.554Z"
   },
   {
    "duration": 10,
    "start_time": "2022-11-16T10:02:04.155Z"
   },
   {
    "duration": 10,
    "start_time": "2022-11-16T10:02:44.193Z"
   },
   {
    "duration": 8,
    "start_time": "2022-11-16T10:02:58.756Z"
   },
   {
    "duration": 7,
    "start_time": "2022-11-16T10:03:26.207Z"
   },
   {
    "duration": 11,
    "start_time": "2022-11-16T10:09:29.810Z"
   },
   {
    "duration": 7,
    "start_time": "2022-11-16T10:12:08.862Z"
   },
   {
    "duration": 6,
    "start_time": "2022-11-16T10:15:56.240Z"
   },
   {
    "duration": 26,
    "start_time": "2022-11-16T10:16:12.586Z"
   },
   {
    "duration": 89,
    "start_time": "2022-11-16T10:31:54.194Z"
   },
   {
    "duration": 72,
    "start_time": "2022-11-16T10:32:03.550Z"
   },
   {
    "duration": 87,
    "start_time": "2022-11-16T10:33:33.904Z"
   },
   {
    "duration": 79,
    "start_time": "2022-11-16T10:36:45.053Z"
   },
   {
    "duration": 11,
    "start_time": "2022-11-16T10:41:29.843Z"
   },
   {
    "duration": 275,
    "start_time": "2022-11-16T10:42:55.176Z"
   },
   {
    "duration": 8,
    "start_time": "2022-11-16T10:44:41.193Z"
   },
   {
    "duration": 10,
    "start_time": "2022-11-16T10:47:14.213Z"
   },
   {
    "duration": 9,
    "start_time": "2022-11-16T10:47:15.922Z"
   },
   {
    "duration": 10,
    "start_time": "2022-11-16T10:55:12.167Z"
   },
   {
    "duration": 259,
    "start_time": "2022-11-16T10:55:37.202Z"
   },
   {
    "duration": 3,
    "start_time": "2022-11-16T10:56:08.468Z"
   },
   {
    "duration": 153,
    "start_time": "2022-11-16T10:56:19.051Z"
   },
   {
    "duration": 143,
    "start_time": "2022-11-16T10:58:25.868Z"
   },
   {
    "duration": 3,
    "start_time": "2022-11-16T11:00:37.040Z"
   },
   {
    "duration": 145,
    "start_time": "2022-11-16T11:00:37.883Z"
   },
   {
    "duration": 2,
    "start_time": "2022-11-16T11:03:47.780Z"
   },
   {
    "duration": 142,
    "start_time": "2022-11-16T11:03:48.626Z"
   },
   {
    "duration": 29,
    "start_time": "2022-11-16T11:08:14.244Z"
   },
   {
    "duration": 11,
    "start_time": "2022-11-16T11:08:27.597Z"
   },
   {
    "duration": 9,
    "start_time": "2022-11-16T11:08:28.687Z"
   },
   {
    "duration": 2,
    "start_time": "2022-11-16T11:08:31.384Z"
   },
   {
    "duration": 136,
    "start_time": "2022-11-16T11:08:41.662Z"
   },
   {
    "duration": 20,
    "start_time": "2022-11-16T11:18:51.785Z"
   },
   {
    "duration": 10,
    "start_time": "2022-11-16T11:21:25.235Z"
   },
   {
    "duration": 9,
    "start_time": "2022-11-16T11:21:26.016Z"
   },
   {
    "duration": 3,
    "start_time": "2022-11-16T11:21:28.193Z"
   },
   {
    "duration": 139,
    "start_time": "2022-11-16T11:21:29.130Z"
   },
   {
    "duration": 15,
    "start_time": "2022-11-16T11:23:09.861Z"
   },
   {
    "duration": 2,
    "start_time": "2022-11-16T11:23:35.189Z"
   },
   {
    "duration": 1125,
    "start_time": "2022-11-16T11:23:36.280Z"
   },
   {
    "duration": 3,
    "start_time": "2022-11-16T11:23:44.829Z"
   },
   {
    "duration": 3,
    "start_time": "2022-11-16T11:23:44.905Z"
   },
   {
    "duration": 2,
    "start_time": "2022-11-16T11:23:45.143Z"
   },
   {
    "duration": 45,
    "start_time": "2022-11-16T11:23:45.440Z"
   },
   {
    "duration": 15,
    "start_time": "2022-11-16T11:23:45.748Z"
   },
   {
    "duration": 12,
    "start_time": "2022-11-16T11:23:46.047Z"
   },
   {
    "duration": 4,
    "start_time": "2022-11-16T11:23:47.476Z"
   },
   {
    "duration": 3,
    "start_time": "2022-11-16T11:23:47.795Z"
   },
   {
    "duration": 4,
    "start_time": "2022-11-16T11:23:48.096Z"
   },
   {
    "duration": 4,
    "start_time": "2022-11-16T11:23:48.464Z"
   },
   {
    "duration": 5,
    "start_time": "2022-11-16T11:23:48.711Z"
   },
   {
    "duration": 8,
    "start_time": "2022-11-16T11:23:49.030Z"
   },
   {
    "duration": 10,
    "start_time": "2022-11-16T11:23:49.373Z"
   },
   {
    "duration": 5,
    "start_time": "2022-11-16T11:23:49.727Z"
   },
   {
    "duration": 4,
    "start_time": "2022-11-16T11:23:50.097Z"
   },
   {
    "duration": 8,
    "start_time": "2022-11-16T11:23:50.490Z"
   },
   {
    "duration": 5,
    "start_time": "2022-11-16T11:23:50.815Z"
   },
   {
    "duration": 5,
    "start_time": "2022-11-16T11:23:51.160Z"
   },
   {
    "duration": 5,
    "start_time": "2022-11-16T11:23:51.853Z"
   },
   {
    "duration": 5,
    "start_time": "2022-11-16T11:23:51.914Z"
   },
   {
    "duration": 185,
    "start_time": "2022-11-16T11:23:52.922Z"
   },
   {
    "duration": 145,
    "start_time": "2022-11-16T11:23:53.269Z"
   },
   {
    "duration": 10,
    "start_time": "2022-11-16T11:23:53.917Z"
   },
   {
    "duration": 8,
    "start_time": "2022-11-16T11:23:54.213Z"
   },
   {
    "duration": 3,
    "start_time": "2022-11-16T11:23:54.797Z"
   },
   {
    "duration": 141,
    "start_time": "2022-11-16T11:23:55.288Z"
   },
   {
    "duration": 16,
    "start_time": "2022-11-16T11:24:02.593Z"
   },
   {
    "duration": 8,
    "start_time": "2022-11-16T11:24:11.790Z"
   },
   {
    "duration": 1135,
    "start_time": "2022-11-16T11:29:16.688Z"
   },
   {
    "duration": 19,
    "start_time": "2022-11-16T11:43:54.631Z"
   },
   {
    "duration": 7,
    "start_time": "2022-11-16T11:52:03.894Z"
   },
   {
    "duration": 17,
    "start_time": "2022-11-16T11:56:19.351Z"
   },
   {
    "duration": 2,
    "start_time": "2022-11-16T12:01:58.653Z"
   },
   {
    "duration": 4,
    "start_time": "2022-11-16T12:01:58.658Z"
   },
   {
    "duration": 5,
    "start_time": "2022-11-16T12:01:58.663Z"
   },
   {
    "duration": 8,
    "start_time": "2022-11-16T12:01:58.669Z"
   },
   {
    "duration": 54,
    "start_time": "2022-11-16T12:01:58.678Z"
   },
   {
    "duration": 18,
    "start_time": "2022-11-16T12:01:58.734Z"
   },
   {
    "duration": 15,
    "start_time": "2022-11-16T12:01:58.754Z"
   },
   {
    "duration": 3,
    "start_time": "2022-11-16T12:01:58.772Z"
   },
   {
    "duration": 4,
    "start_time": "2022-11-16T12:01:58.777Z"
   },
   {
    "duration": 6,
    "start_time": "2022-11-16T12:01:58.782Z"
   },
   {
    "duration": 5,
    "start_time": "2022-11-16T12:01:58.789Z"
   },
   {
    "duration": 19,
    "start_time": "2022-11-16T12:01:58.795Z"
   },
   {
    "duration": 8,
    "start_time": "2022-11-16T12:01:58.815Z"
   },
   {
    "duration": 14,
    "start_time": "2022-11-16T12:01:58.824Z"
   },
   {
    "duration": 3,
    "start_time": "2022-11-16T12:01:58.840Z"
   },
   {
    "duration": 5,
    "start_time": "2022-11-16T12:01:58.845Z"
   },
   {
    "duration": 13,
    "start_time": "2022-11-16T12:01:58.851Z"
   },
   {
    "duration": 4,
    "start_time": "2022-11-16T12:01:58.866Z"
   },
   {
    "duration": 5,
    "start_time": "2022-11-16T12:01:58.872Z"
   },
   {
    "duration": 6,
    "start_time": "2022-11-16T12:01:58.878Z"
   },
   {
    "duration": 29,
    "start_time": "2022-11-16T12:01:58.885Z"
   },
   {
    "duration": 172,
    "start_time": "2022-11-16T12:01:58.915Z"
   },
   {
    "duration": 158,
    "start_time": "2022-11-16T12:01:59.089Z"
   },
   {
    "duration": 11,
    "start_time": "2022-11-16T12:01:59.248Z"
   },
   {
    "duration": 8,
    "start_time": "2022-11-16T12:01:59.261Z"
   },
   {
    "duration": 5,
    "start_time": "2022-11-16T12:01:59.272Z"
   },
   {
    "duration": 156,
    "start_time": "2022-11-16T12:01:59.279Z"
   },
   {
    "duration": 7,
    "start_time": "2022-11-16T12:01:59.436Z"
   },
   {
    "duration": 109202,
    "start_time": "2022-11-16T12:01:59.445Z"
   },
   {
    "duration": 26259,
    "start_time": "2022-11-16T12:08:55.210Z"
   },
   {
    "duration": 2,
    "start_time": "2022-11-16T12:10:25.716Z"
   },
   {
    "duration": 3,
    "start_time": "2022-11-16T12:10:25.803Z"
   },
   {
    "duration": 2,
    "start_time": "2022-11-16T12:10:26.033Z"
   },
   {
    "duration": 46,
    "start_time": "2022-11-16T12:10:26.356Z"
   },
   {
    "duration": 15,
    "start_time": "2022-11-16T12:10:26.684Z"
   },
   {
    "duration": 16,
    "start_time": "2022-11-16T12:10:27.001Z"
   },
   {
    "duration": 5,
    "start_time": "2022-11-16T12:10:28.039Z"
   },
   {
    "duration": 3,
    "start_time": "2022-11-16T12:10:28.532Z"
   },
   {
    "duration": 4,
    "start_time": "2022-11-16T12:10:28.884Z"
   },
   {
    "duration": 4,
    "start_time": "2022-11-16T12:10:29.439Z"
   },
   {
    "duration": 4,
    "start_time": "2022-11-16T12:10:29.522Z"
   },
   {
    "duration": 8,
    "start_time": "2022-11-16T12:10:29.983Z"
   },
   {
    "duration": 12,
    "start_time": "2022-11-16T12:10:30.185Z"
   },
   {
    "duration": 5,
    "start_time": "2022-11-16T12:10:30.620Z"
   },
   {
    "duration": 5,
    "start_time": "2022-11-16T12:10:31.026Z"
   },
   {
    "duration": 10,
    "start_time": "2022-11-16T12:10:31.215Z"
   },
   {
    "duration": 5,
    "start_time": "2022-11-16T12:10:31.562Z"
   },
   {
    "duration": 5,
    "start_time": "2022-11-16T12:10:31.935Z"
   },
   {
    "duration": 6,
    "start_time": "2022-11-16T12:10:32.620Z"
   },
   {
    "duration": 6,
    "start_time": "2022-11-16T12:10:32.886Z"
   },
   {
    "duration": 194,
    "start_time": "2022-11-16T12:10:34.528Z"
   },
   {
    "duration": 148,
    "start_time": "2022-11-16T12:10:35.692Z"
   },
   {
    "duration": 13,
    "start_time": "2022-11-16T12:10:42.945Z"
   },
   {
    "duration": 9,
    "start_time": "2022-11-16T12:10:45.356Z"
   },
   {
    "duration": 3,
    "start_time": "2022-11-16T12:10:52.235Z"
   },
   {
    "duration": 143,
    "start_time": "2022-11-16T12:10:55.205Z"
   },
   {
    "duration": 8,
    "start_time": "2022-11-16T12:11:02.592Z"
   },
   {
    "duration": 23893,
    "start_time": "2022-11-16T12:11:04.024Z"
   },
   {
    "duration": 3,
    "start_time": "2022-11-16T12:11:44.026Z"
   },
   {
    "duration": 16,
    "start_time": "2022-11-16T12:12:45.725Z"
   },
   {
    "duration": 17,
    "start_time": "2022-11-16T12:13:23.519Z"
   },
   {
    "duration": 19,
    "start_time": "2022-11-16T12:13:49.168Z"
   },
   {
    "duration": 30,
    "start_time": "2022-11-16T12:14:00.496Z"
   },
   {
    "duration": 30,
    "start_time": "2022-11-16T12:14:34.534Z"
   },
   {
    "duration": 1174,
    "start_time": "2022-11-16T12:16:35.146Z"
   },
   {
    "duration": 7,
    "start_time": "2022-11-16T12:18:24.215Z"
   },
   {
    "duration": 1191,
    "start_time": "2022-11-16T12:18:26.031Z"
   },
   {
    "duration": 3,
    "start_time": "2022-11-16T12:18:42.879Z"
   },
   {
    "duration": 2,
    "start_time": "2022-11-16T12:18:42.952Z"
   },
   {
    "duration": 3,
    "start_time": "2022-11-16T12:18:43.284Z"
   },
   {
    "duration": 46,
    "start_time": "2022-11-16T12:18:43.594Z"
   },
   {
    "duration": 16,
    "start_time": "2022-11-16T12:18:43.909Z"
   },
   {
    "duration": 13,
    "start_time": "2022-11-16T12:18:44.201Z"
   },
   {
    "duration": 6,
    "start_time": "2022-11-16T12:18:46.838Z"
   },
   {
    "duration": 3,
    "start_time": "2022-11-16T12:18:47.192Z"
   },
   {
    "duration": 5,
    "start_time": "2022-11-16T12:18:48.138Z"
   },
   {
    "duration": 3,
    "start_time": "2022-11-16T12:18:48.764Z"
   },
   {
    "duration": 4,
    "start_time": "2022-11-16T12:18:48.825Z"
   },
   {
    "duration": 9,
    "start_time": "2022-11-16T12:18:49.150Z"
   },
   {
    "duration": 10,
    "start_time": "2022-11-16T12:18:49.477Z"
   },
   {
    "duration": 5,
    "start_time": "2022-11-16T12:18:49.837Z"
   },
   {
    "duration": 4,
    "start_time": "2022-11-16T12:18:51.094Z"
   },
   {
    "duration": 8,
    "start_time": "2022-11-16T12:18:51.478Z"
   },
   {
    "duration": 5,
    "start_time": "2022-11-16T12:18:52.058Z"
   },
   {
    "duration": 5,
    "start_time": "2022-11-16T12:18:52.905Z"
   },
   {
    "duration": 5,
    "start_time": "2022-11-16T12:18:54.483Z"
   },
   {
    "duration": 6,
    "start_time": "2022-11-16T12:18:54.525Z"
   },
   {
    "duration": 163,
    "start_time": "2022-11-16T12:18:56.044Z"
   },
   {
    "duration": 140,
    "start_time": "2022-11-16T12:18:56.409Z"
   },
   {
    "duration": 15,
    "start_time": "2022-11-16T12:19:00.503Z"
   },
   {
    "duration": 9,
    "start_time": "2022-11-16T12:19:02.348Z"
   },
   {
    "duration": 3,
    "start_time": "2022-11-16T12:19:10.793Z"
   },
   {
    "duration": 138,
    "start_time": "2022-11-16T12:19:11.899Z"
   },
   {
    "duration": 2,
    "start_time": "2022-11-16T12:19:18.658Z"
   },
   {
    "duration": 2,
    "start_time": "2022-11-16T12:19:19.546Z"
   },
   {
    "duration": 7,
    "start_time": "2022-11-16T12:19:20.693Z"
   },
   {
    "duration": 16,
    "start_time": "2022-11-16T12:19:23.020Z"
   },
   {
    "duration": 21,
    "start_time": "2022-11-16T12:19:44.182Z"
   },
   {
    "duration": 20,
    "start_time": "2022-11-16T12:20:18.968Z"
   },
   {
    "duration": 3,
    "start_time": "2022-11-16T12:20:20.730Z"
   },
   {
    "duration": 1542,
    "start_time": "2022-11-16T12:20:22.016Z"
   },
   {
    "duration": 25925,
    "start_time": "2022-11-16T12:21:04.688Z"
   },
   {
    "duration": 1345,
    "start_time": "2022-11-16T12:22:16.351Z"
   },
   {
    "duration": 16,
    "start_time": "2022-11-16T12:22:46.584Z"
   },
   {
    "duration": 14,
    "start_time": "2022-11-16T12:23:25.445Z"
   },
   {
    "duration": 24817,
    "start_time": "2022-11-16T12:23:42.584Z"
   },
   {
    "duration": 8,
    "start_time": "2022-11-16T12:27:33.416Z"
   },
   {
    "duration": 19,
    "start_time": "2022-11-16T12:28:07.660Z"
   },
   {
    "duration": 3,
    "start_time": "2022-11-16T12:29:22.120Z"
   },
   {
    "duration": 3,
    "start_time": "2022-11-16T12:29:22.177Z"
   },
   {
    "duration": 3,
    "start_time": "2022-11-16T12:29:22.407Z"
   },
   {
    "duration": 44,
    "start_time": "2022-11-16T12:29:22.700Z"
   },
   {
    "duration": 15,
    "start_time": "2022-11-16T12:29:23.010Z"
   },
   {
    "duration": 14,
    "start_time": "2022-11-16T12:29:23.288Z"
   },
   {
    "duration": 5,
    "start_time": "2022-11-16T12:29:24.288Z"
   },
   {
    "duration": 4,
    "start_time": "2022-11-16T12:29:24.617Z"
   },
   {
    "duration": 3,
    "start_time": "2022-11-16T12:29:24.892Z"
   },
   {
    "duration": 4,
    "start_time": "2022-11-16T12:29:25.445Z"
   },
   {
    "duration": 4,
    "start_time": "2022-11-16T12:29:25.513Z"
   },
   {
    "duration": 9,
    "start_time": "2022-11-16T12:29:25.840Z"
   },
   {
    "duration": 9,
    "start_time": "2022-11-16T12:29:26.184Z"
   },
   {
    "duration": 4,
    "start_time": "2022-11-16T12:29:26.561Z"
   },
   {
    "duration": 4,
    "start_time": "2022-11-16T12:29:27.433Z"
   },
   {
    "duration": 8,
    "start_time": "2022-11-16T12:29:27.762Z"
   },
   {
    "duration": 5,
    "start_time": "2022-11-16T12:29:28.089Z"
   },
   {
    "duration": 5,
    "start_time": "2022-11-16T12:29:28.414Z"
   },
   {
    "duration": 5,
    "start_time": "2022-11-16T12:29:29.633Z"
   },
   {
    "duration": 5,
    "start_time": "2022-11-16T12:29:29.884Z"
   },
   {
    "duration": 158,
    "start_time": "2022-11-16T12:29:33.271Z"
   },
   {
    "duration": 146,
    "start_time": "2022-11-16T12:29:35.901Z"
   },
   {
    "duration": 13,
    "start_time": "2022-11-16T12:29:39.797Z"
   },
   {
    "duration": 9,
    "start_time": "2022-11-16T12:29:47.806Z"
   },
   {
    "duration": 2,
    "start_time": "2022-11-16T12:29:58.990Z"
   },
   {
    "duration": 151,
    "start_time": "2022-11-16T12:30:00.717Z"
   },
   {
    "duration": 2,
    "start_time": "2022-11-16T12:30:07.114Z"
   },
   {
    "duration": 2,
    "start_time": "2022-11-16T12:30:07.170Z"
   },
   {
    "duration": 2,
    "start_time": "2022-11-16T12:30:07.841Z"
   },
   {
    "duration": 3,
    "start_time": "2022-11-16T12:30:08.385Z"
   },
   {
    "duration": 3,
    "start_time": "2022-11-16T12:30:10.460Z"
   },
   {
    "duration": 2,
    "start_time": "2022-11-16T12:30:12.249Z"
   },
   {
    "duration": 19,
    "start_time": "2022-11-16T12:30:18.546Z"
   },
   {
    "duration": 26167,
    "start_time": "2022-11-16T12:31:59.383Z"
   },
   {
    "duration": 23737,
    "start_time": "2022-11-16T12:36:54.748Z"
   },
   {
    "duration": 7,
    "start_time": "2022-11-16T12:57:03.139Z"
   },
   {
    "duration": 1141,
    "start_time": "2022-11-16T12:57:46.871Z"
   },
   {
    "duration": 1059,
    "start_time": "2022-11-16T12:58:08.326Z"
   },
   {
    "duration": 21,
    "start_time": "2022-11-16T13:01:11.463Z"
   },
   {
    "duration": 14,
    "start_time": "2022-11-16T13:09:09.724Z"
   },
   {
    "duration": 13,
    "start_time": "2022-11-16T13:09:45.635Z"
   },
   {
    "duration": 39,
    "start_time": "2022-11-16T13:09:56.457Z"
   },
   {
    "duration": 21,
    "start_time": "2022-11-16T13:10:36.420Z"
   },
   {
    "duration": 13,
    "start_time": "2022-11-16T13:10:49.186Z"
   },
   {
    "duration": 21,
    "start_time": "2022-11-16T13:11:03.237Z"
   },
   {
    "duration": 418,
    "start_time": "2022-11-16T13:15:12.198Z"
   },
   {
    "duration": 405,
    "start_time": "2022-11-16T13:16:07.696Z"
   },
   {
    "duration": 14,
    "start_time": "2022-11-16T13:20:19.128Z"
   },
   {
    "duration": 15,
    "start_time": "2022-11-16T13:20:21.342Z"
   },
   {
    "duration": 210,
    "start_time": "2022-11-16T13:20:24.629Z"
   },
   {
    "duration": 347,
    "start_time": "2022-11-16T13:21:16.397Z"
   },
   {
    "duration": 25,
    "start_time": "2022-11-16T13:21:17.433Z"
   },
   {
    "duration": 60,
    "start_time": "2022-11-16T13:21:26.638Z"
   },
   {
    "duration": 15,
    "start_time": "2022-11-16T13:22:44.030Z"
   },
   {
    "duration": 9,
    "start_time": "2022-11-16T13:22:45.137Z"
   },
   {
    "duration": 3,
    "start_time": "2022-11-16T13:22:52.834Z"
   },
   {
    "duration": 137,
    "start_time": "2022-11-16T13:22:57.443Z"
   },
   {
    "duration": 6,
    "start_time": "2022-11-16T13:23:07.847Z"
   },
   {
    "duration": 13,
    "start_time": "2022-11-16T13:24:16.904Z"
   },
   {
    "duration": 23,
    "start_time": "2022-11-16T13:24:17.987Z"
   },
   {
    "duration": 469,
    "start_time": "2022-11-16T13:24:37.703Z"
   },
   {
    "duration": 13,
    "start_time": "2022-11-16T13:25:16.304Z"
   },
   {
    "duration": 18,
    "start_time": "2022-11-16T13:25:17.223Z"
   },
   {
    "duration": 227,
    "start_time": "2022-11-16T13:25:22.397Z"
   },
   {
    "duration": 12,
    "start_time": "2022-11-16T13:28:52.097Z"
   },
   {
    "duration": 17,
    "start_time": "2022-11-16T13:28:53.152Z"
   },
   {
    "duration": 208,
    "start_time": "2022-11-16T13:28:59.009Z"
   },
   {
    "duration": 12,
    "start_time": "2022-11-16T13:29:14.038Z"
   },
   {
    "duration": 14,
    "start_time": "2022-11-16T13:29:15.054Z"
   },
   {
    "duration": 2,
    "start_time": "2022-11-16T13:30:40.762Z"
   },
   {
    "duration": 3,
    "start_time": "2022-11-16T13:30:40.839Z"
   },
   {
    "duration": 3,
    "start_time": "2022-11-16T13:30:41.054Z"
   },
   {
    "duration": 48,
    "start_time": "2022-11-16T13:30:41.366Z"
   },
   {
    "duration": 16,
    "start_time": "2022-11-16T13:30:41.902Z"
   },
   {
    "duration": 14,
    "start_time": "2022-11-16T13:30:42.229Z"
   },
   {
    "duration": 4,
    "start_time": "2022-11-16T13:30:43.486Z"
   },
   {
    "duration": 3,
    "start_time": "2022-11-16T13:30:43.809Z"
   },
   {
    "duration": 4,
    "start_time": "2022-11-16T13:30:44.174Z"
   },
   {
    "duration": 2,
    "start_time": "2022-11-16T13:30:44.561Z"
   },
   {
    "duration": 12,
    "start_time": "2022-11-16T13:30:44.857Z"
   },
   {
    "duration": 8,
    "start_time": "2022-11-16T13:30:45.178Z"
   },
   {
    "duration": 8,
    "start_time": "2022-11-16T13:30:45.512Z"
   },
   {
    "duration": 5,
    "start_time": "2022-11-16T13:30:45.963Z"
   },
   {
    "duration": 4,
    "start_time": "2022-11-16T13:30:46.329Z"
   },
   {
    "duration": 7,
    "start_time": "2022-11-16T13:30:46.701Z"
   },
   {
    "duration": 7,
    "start_time": "2022-11-16T13:30:47.053Z"
   },
   {
    "duration": 5,
    "start_time": "2022-11-16T13:30:47.445Z"
   },
   {
    "duration": 6,
    "start_time": "2022-11-16T13:30:48.131Z"
   },
   {
    "duration": 5,
    "start_time": "2022-11-16T13:30:48.382Z"
   },
   {
    "duration": 166,
    "start_time": "2022-11-16T13:30:49.501Z"
   },
   {
    "duration": 174,
    "start_time": "2022-11-16T13:30:50.161Z"
   },
   {
    "duration": 12,
    "start_time": "2022-11-16T13:30:53.035Z"
   },
   {
    "duration": 9,
    "start_time": "2022-11-16T13:30:53.668Z"
   },
   {
    "duration": 3,
    "start_time": "2022-11-16T13:30:55.798Z"
   },
   {
    "duration": 131,
    "start_time": "2022-11-16T13:30:56.626Z"
   },
   {
    "duration": 7,
    "start_time": "2022-11-16T13:31:03.391Z"
   },
   {
    "duration": 13,
    "start_time": "2022-11-16T13:31:03.461Z"
   },
   {
    "duration": 16,
    "start_time": "2022-11-16T13:31:03.726Z"
   },
   {
    "duration": 205,
    "start_time": "2022-11-16T13:31:03.810Z"
   },
   {
    "duration": 8,
    "start_time": "2022-11-16T13:33:19.965Z"
   },
   {
    "duration": 3,
    "start_time": "2022-11-16T13:33:20.999Z"
   },
   {
    "duration": 4,
    "start_time": "2022-11-16T13:33:22.651Z"
   },
   {
    "duration": 10,
    "start_time": "2022-11-16T13:35:04.667Z"
   },
   {
    "duration": 3,
    "start_time": "2022-11-16T13:35:20.654Z"
   },
   {
    "duration": 3,
    "start_time": "2022-11-16T13:35:20.708Z"
   },
   {
    "duration": 3,
    "start_time": "2022-11-16T13:35:20.978Z"
   },
   {
    "duration": 45,
    "start_time": "2022-11-16T13:35:21.290Z"
   },
   {
    "duration": 15,
    "start_time": "2022-11-16T13:35:21.637Z"
   },
   {
    "duration": 12,
    "start_time": "2022-11-16T13:35:22.024Z"
   },
   {
    "duration": 4,
    "start_time": "2022-11-16T13:35:23.182Z"
   },
   {
    "duration": 2,
    "start_time": "2022-11-16T13:35:23.634Z"
   },
   {
    "duration": 3,
    "start_time": "2022-11-16T13:35:24.005Z"
   },
   {
    "duration": 7,
    "start_time": "2022-11-16T13:35:24.695Z"
   },
   {
    "duration": 3,
    "start_time": "2022-11-16T13:35:24.771Z"
   },
   {
    "duration": 4,
    "start_time": "2022-11-16T13:35:25.072Z"
   },
   {
    "duration": 8,
    "start_time": "2022-11-16T13:35:25.426Z"
   },
   {
    "duration": 9,
    "start_time": "2022-11-16T13:35:25.833Z"
   },
   {
    "duration": 4,
    "start_time": "2022-11-16T13:35:26.273Z"
   },
   {
    "duration": 3,
    "start_time": "2022-11-16T13:35:26.644Z"
   },
   {
    "duration": 7,
    "start_time": "2022-11-16T13:35:27.064Z"
   },
   {
    "duration": 6,
    "start_time": "2022-11-16T13:35:27.515Z"
   },
   {
    "duration": 5,
    "start_time": "2022-11-16T13:35:27.942Z"
   },
   {
    "duration": 6,
    "start_time": "2022-11-16T13:35:28.662Z"
   },
   {
    "duration": 6,
    "start_time": "2022-11-16T13:35:28.739Z"
   },
   {
    "duration": 175,
    "start_time": "2022-11-16T13:35:30.140Z"
   },
   {
    "duration": 152,
    "start_time": "2022-11-16T13:35:30.430Z"
   },
   {
    "duration": 12,
    "start_time": "2022-11-16T13:35:36.479Z"
   },
   {
    "duration": 9,
    "start_time": "2022-11-16T13:35:36.543Z"
   },
   {
    "duration": 3,
    "start_time": "2022-11-16T13:35:46.207Z"
   },
   {
    "duration": 137,
    "start_time": "2022-11-16T13:35:47.158Z"
   },
   {
    "duration": 11,
    "start_time": "2022-11-16T13:35:50.297Z"
   },
   {
    "duration": 12,
    "start_time": "2022-11-16T13:35:51.300Z"
   },
   {
    "duration": 15,
    "start_time": "2022-11-16T13:35:55.320Z"
   },
   {
    "duration": 203,
    "start_time": "2022-11-16T13:36:01.046Z"
   },
   {
    "duration": 206,
    "start_time": "2022-11-16T13:37:15.646Z"
   },
   {
    "duration": 196,
    "start_time": "2022-11-16T13:37:25.782Z"
   },
   {
    "duration": 199,
    "start_time": "2022-11-16T13:37:41.233Z"
   },
   {
    "duration": 6,
    "start_time": "2022-11-16T13:46:48.070Z"
   },
   {
    "duration": 22,
    "start_time": "2022-11-16T13:46:58.058Z"
   },
   {
    "duration": 15,
    "start_time": "2022-11-16T13:49:11.859Z"
   },
   {
    "duration": 241,
    "start_time": "2022-11-16T13:51:45.502Z"
   },
   {
    "duration": 20,
    "start_time": "2022-11-16T13:52:54.854Z"
   },
   {
    "duration": 10,
    "start_time": "2022-11-16T13:53:17.216Z"
   },
   {
    "duration": 155,
    "start_time": "2022-11-16T13:53:19.059Z"
   },
   {
    "duration": 16,
    "start_time": "2022-11-16T13:54:34.306Z"
   },
   {
    "duration": 11,
    "start_time": "2022-11-16T13:55:43.342Z"
   },
   {
    "duration": 5,
    "start_time": "2022-11-16T13:56:00.006Z"
   },
   {
    "duration": 21,
    "start_time": "2022-11-16T13:56:01.246Z"
   },
   {
    "duration": 276,
    "start_time": "2022-11-16T13:56:04.524Z"
   },
   {
    "duration": 9,
    "start_time": "2022-11-16T13:56:57.052Z"
   },
   {
    "duration": 12795,
    "start_time": "2022-11-16T13:57:11.398Z"
   },
   {
    "duration": 250,
    "start_time": "2022-11-16T13:58:22.002Z"
   },
   {
    "duration": 160,
    "start_time": "2022-11-16T13:59:19.405Z"
   },
   {
    "duration": 151,
    "start_time": "2022-11-16T13:59:37.129Z"
   },
   {
    "duration": 157,
    "start_time": "2022-11-16T13:59:50.890Z"
   },
   {
    "duration": 16,
    "start_time": "2022-11-16T14:01:16.940Z"
   },
   {
    "duration": 12,
    "start_time": "2022-11-16T14:01:25.994Z"
   },
   {
    "duration": 268,
    "start_time": "2022-11-16T14:02:04.384Z"
   },
   {
    "duration": 432,
    "start_time": "2022-11-16T14:32:28.105Z"
   },
   {
    "duration": 111,
    "start_time": "2022-11-16T14:37:18.886Z"
   },
   {
    "duration": 453,
    "start_time": "2022-11-16T14:38:22.253Z"
   },
   {
    "duration": 437,
    "start_time": "2022-11-16T14:38:32.176Z"
   },
   {
    "duration": 428,
    "start_time": "2022-11-16T14:38:41.741Z"
   },
   {
    "duration": 418,
    "start_time": "2022-11-16T14:38:56.039Z"
   },
   {
    "duration": 470,
    "start_time": "2022-11-16T14:39:24.527Z"
   },
   {
    "duration": 494,
    "start_time": "2022-11-16T14:39:34.583Z"
   },
   {
    "duration": 441,
    "start_time": "2022-11-16T14:39:50.348Z"
   },
   {
    "duration": 440,
    "start_time": "2022-11-16T14:40:44.903Z"
   },
   {
    "duration": 469,
    "start_time": "2022-11-16T14:42:10.642Z"
   },
   {
    "duration": 466,
    "start_time": "2022-11-16T14:42:16.704Z"
   },
   {
    "duration": 458,
    "start_time": "2022-11-16T14:42:23.109Z"
   },
   {
    "duration": 467,
    "start_time": "2022-11-16T14:42:32.354Z"
   },
   {
    "duration": 419,
    "start_time": "2022-11-16T14:42:39.231Z"
   },
   {
    "duration": 424,
    "start_time": "2022-11-16T14:43:03.674Z"
   },
   {
    "duration": 436,
    "start_time": "2022-11-16T14:43:13.797Z"
   },
   {
    "duration": 382,
    "start_time": "2022-11-16T14:43:19.882Z"
   },
   {
    "duration": 2909,
    "start_time": "2022-11-16T14:43:35.680Z"
   },
   {
    "duration": 435,
    "start_time": "2022-11-16T14:43:47.252Z"
   },
   {
    "duration": 397,
    "start_time": "2022-11-16T14:44:11.752Z"
   },
   {
    "duration": 436,
    "start_time": "2022-11-16T14:44:18.979Z"
   },
   {
    "duration": 424,
    "start_time": "2022-11-16T14:44:25.094Z"
   },
   {
    "duration": 426,
    "start_time": "2022-11-16T14:44:33.273Z"
   },
   {
    "duration": 406,
    "start_time": "2022-11-16T14:44:43.678Z"
   },
   {
    "duration": 416,
    "start_time": "2022-11-16T14:44:58.977Z"
   },
   {
    "duration": 441,
    "start_time": "2022-11-16T14:45:52.515Z"
   },
   {
    "duration": 438,
    "start_time": "2022-11-16T14:46:59.143Z"
   },
   {
    "duration": 448,
    "start_time": "2022-11-16T14:47:24.102Z"
   },
   {
    "duration": 110,
    "start_time": "2022-11-16T14:48:24.861Z"
   },
   {
    "duration": 281,
    "start_time": "2022-11-16T14:52:57.181Z"
   },
   {
    "duration": 467,
    "start_time": "2022-11-16T14:53:21.380Z"
   },
   {
    "duration": 545,
    "start_time": "2022-11-16T14:55:08.935Z"
   },
   {
    "duration": 450,
    "start_time": "2022-11-16T14:55:55.238Z"
   },
   {
    "duration": 456,
    "start_time": "2022-11-16T14:56:13.134Z"
   },
   {
    "duration": 493,
    "start_time": "2022-11-16T14:56:28.443Z"
   },
   {
    "duration": 449,
    "start_time": "2022-11-16T14:56:40.788Z"
   },
   {
    "duration": 439,
    "start_time": "2022-11-16T14:57:06.930Z"
   },
   {
    "duration": 452,
    "start_time": "2022-11-16T14:57:27.236Z"
   },
   {
    "duration": 451,
    "start_time": "2022-11-16T14:57:40.903Z"
   },
   {
    "duration": 442,
    "start_time": "2022-11-16T14:57:51.043Z"
   },
   {
    "duration": 453,
    "start_time": "2022-11-16T14:58:04.907Z"
   },
   {
    "duration": 10,
    "start_time": "2022-11-16T14:59:11.953Z"
   },
   {
    "duration": 484,
    "start_time": "2022-11-16T14:59:19.987Z"
   },
   {
    "duration": 465,
    "start_time": "2022-11-16T15:03:01.189Z"
   },
   {
    "duration": 460,
    "start_time": "2022-11-16T15:04:30.352Z"
   },
   {
    "duration": 601,
    "start_time": "2022-11-16T15:05:40.026Z"
   },
   {
    "duration": 538,
    "start_time": "2022-11-16T15:05:55.508Z"
   },
   {
    "duration": 434,
    "start_time": "2022-11-16T15:06:09.696Z"
   },
   {
    "duration": 489,
    "start_time": "2022-11-16T15:06:20.232Z"
   },
   {
    "duration": 497,
    "start_time": "2022-11-16T15:06:35.304Z"
   },
   {
    "duration": 16,
    "start_time": "2022-11-16T15:07:13.996Z"
   },
   {
    "duration": 15,
    "start_time": "2022-11-16T15:08:00.931Z"
   },
   {
    "duration": 181,
    "start_time": "2022-11-16T15:08:50.004Z"
   },
   {
    "duration": 177,
    "start_time": "2022-11-16T15:09:38.085Z"
   },
   {
    "duration": 166,
    "start_time": "2022-11-16T15:09:47.147Z"
   },
   {
    "duration": 178,
    "start_time": "2022-11-16T15:09:58.184Z"
   },
   {
    "duration": 188,
    "start_time": "2022-11-16T15:10:50.680Z"
   },
   {
    "duration": 195,
    "start_time": "2022-11-16T15:11:00.689Z"
   },
   {
    "duration": 178,
    "start_time": "2022-11-16T15:13:39.806Z"
   },
   {
    "duration": 179,
    "start_time": "2022-11-16T15:13:53.345Z"
   },
   {
    "duration": 172,
    "start_time": "2022-11-16T15:14:09.438Z"
   },
   {
    "duration": 236,
    "start_time": "2022-11-16T15:14:20.227Z"
   },
   {
    "duration": 3,
    "start_time": "2022-11-16T17:20:41.517Z"
   },
   {
    "duration": 3,
    "start_time": "2022-11-16T17:20:41.713Z"
   },
   {
    "duration": 3,
    "start_time": "2022-11-16T17:20:41.942Z"
   },
   {
    "duration": 47,
    "start_time": "2022-11-16T17:20:42.408Z"
   },
   {
    "duration": 16,
    "start_time": "2022-11-16T17:20:42.817Z"
   },
   {
    "duration": 14,
    "start_time": "2022-11-16T17:20:43.224Z"
   },
   {
    "duration": 4,
    "start_time": "2022-11-16T17:20:45.146Z"
   },
   {
    "duration": 3,
    "start_time": "2022-11-16T17:20:45.705Z"
   },
   {
    "duration": 4,
    "start_time": "2022-11-16T17:20:46.157Z"
   },
   {
    "duration": 9,
    "start_time": "2022-11-16T17:20:46.979Z"
   },
   {
    "duration": 5,
    "start_time": "2022-11-16T17:20:47.141Z"
   },
   {
    "duration": 10,
    "start_time": "2022-11-16T17:20:47.504Z"
   },
   {
    "duration": 11,
    "start_time": "2022-11-16T17:20:47.854Z"
   },
   {
    "duration": 5,
    "start_time": "2022-11-16T17:20:48.207Z"
   },
   {
    "duration": 4,
    "start_time": "2022-11-16T17:20:48.596Z"
   },
   {
    "duration": 8,
    "start_time": "2022-11-16T17:20:48.992Z"
   },
   {
    "duration": 5,
    "start_time": "2022-11-16T17:20:49.818Z"
   },
   {
    "duration": 6,
    "start_time": "2022-11-16T17:20:50.243Z"
   },
   {
    "duration": 5,
    "start_time": "2022-11-16T17:20:51.155Z"
   },
   {
    "duration": 5,
    "start_time": "2022-11-16T17:20:51.428Z"
   },
   {
    "duration": 170,
    "start_time": "2022-11-16T17:20:53.535Z"
   },
   {
    "duration": 180,
    "start_time": "2022-11-16T17:20:54.576Z"
   },
   {
    "duration": 11,
    "start_time": "2022-11-16T17:20:56.224Z"
   },
   {
    "duration": 9,
    "start_time": "2022-11-16T17:20:56.960Z"
   },
   {
    "duration": 4,
    "start_time": "2022-11-16T17:21:00.242Z"
   },
   {
    "duration": 146,
    "start_time": "2022-11-16T17:21:00.720Z"
   },
   {
    "duration": 9,
    "start_time": "2022-11-16T17:21:02.219Z"
   },
   {
    "duration": 13,
    "start_time": "2022-11-16T17:21:02.741Z"
   },
   {
    "duration": 16,
    "start_time": "2022-11-16T17:21:05.325Z"
   },
   {
    "duration": 203,
    "start_time": "2022-11-16T17:21:06.207Z"
   },
   {
    "duration": 6,
    "start_time": "2022-11-16T17:21:12.005Z"
   },
   {
    "duration": 13,
    "start_time": "2022-11-16T17:21:12.976Z"
   },
   {
    "duration": 19,
    "start_time": "2022-11-16T17:21:16.773Z"
   },
   {
    "duration": 248,
    "start_time": "2022-11-16T17:21:18.451Z"
   },
   {
    "duration": 184,
    "start_time": "2022-11-16T17:21:27.544Z"
   },
   {
    "duration": 15,
    "start_time": "2022-11-16T17:29:42.003Z"
   },
   {
    "duration": 9,
    "start_time": "2022-11-16T17:36:04.651Z"
   },
   {
    "duration": 16,
    "start_time": "2022-11-16T17:36:23.269Z"
   },
   {
    "duration": 2,
    "start_time": "2022-11-16T17:36:35.033Z"
   },
   {
    "duration": 3,
    "start_time": "2022-11-16T17:36:35.378Z"
   },
   {
    "duration": 2,
    "start_time": "2022-11-16T17:36:35.654Z"
   },
   {
    "duration": 44,
    "start_time": "2022-11-16T17:36:36.212Z"
   },
   {
    "duration": 14,
    "start_time": "2022-11-16T17:36:36.646Z"
   },
   {
    "duration": 14,
    "start_time": "2022-11-16T17:36:37.357Z"
   },
   {
    "duration": 4,
    "start_time": "2022-11-16T17:36:40.694Z"
   },
   {
    "duration": 3,
    "start_time": "2022-11-16T17:36:41.755Z"
   },
   {
    "duration": 5,
    "start_time": "2022-11-16T17:36:42.315Z"
   },
   {
    "duration": 8,
    "start_time": "2022-11-16T17:36:43.520Z"
   },
   {
    "duration": 4,
    "start_time": "2022-11-16T17:36:43.831Z"
   },
   {
    "duration": 7,
    "start_time": "2022-11-16T17:36:44.452Z"
   },
   {
    "duration": 8,
    "start_time": "2022-11-16T17:36:45.036Z"
   },
   {
    "duration": 4,
    "start_time": "2022-11-16T17:36:46.393Z"
   },
   {
    "duration": 4,
    "start_time": "2022-11-16T17:36:47.144Z"
   },
   {
    "duration": 7,
    "start_time": "2022-11-16T17:36:47.601Z"
   },
   {
    "duration": 5,
    "start_time": "2022-11-16T17:36:48.005Z"
   },
   {
    "duration": 14,
    "start_time": "2022-11-16T17:36:51.630Z"
   },
   {
    "duration": 5,
    "start_time": "2022-11-16T17:36:53.850Z"
   },
   {
    "duration": 5,
    "start_time": "2022-11-16T17:36:54.324Z"
   },
   {
    "duration": 166,
    "start_time": "2022-11-16T17:37:01.386Z"
   },
   {
    "duration": 141,
    "start_time": "2022-11-16T17:37:02.295Z"
   },
   {
    "duration": 12,
    "start_time": "2022-11-16T17:37:04.401Z"
   },
   {
    "duration": 14,
    "start_time": "2022-11-16T17:37:04.682Z"
   },
   {
    "duration": 10,
    "start_time": "2022-11-16T17:37:18.836Z"
   },
   {
    "duration": 10,
    "start_time": "2022-11-16T17:37:19.176Z"
   },
   {
    "duration": 3,
    "start_time": "2022-11-16T17:37:20.176Z"
   },
   {
    "duration": 137,
    "start_time": "2022-11-16T17:37:20.623Z"
   },
   {
    "duration": 7,
    "start_time": "2022-11-16T17:37:21.105Z"
   },
   {
    "duration": 13,
    "start_time": "2022-11-16T17:37:21.460Z"
   },
   {
    "duration": 16,
    "start_time": "2022-11-16T17:37:21.909Z"
   },
   {
    "duration": 189,
    "start_time": "2022-11-16T17:37:22.450Z"
   },
   {
    "duration": 7,
    "start_time": "2022-11-16T17:37:23.729Z"
   },
   {
    "duration": 13,
    "start_time": "2022-11-16T17:37:24.177Z"
   },
   {
    "duration": 13,
    "start_time": "2022-11-16T17:37:24.381Z"
   },
   {
    "duration": 261,
    "start_time": "2022-11-16T17:37:24.602Z"
   },
   {
    "duration": 188,
    "start_time": "2022-11-16T17:37:25.937Z"
   },
   {
    "duration": 13,
    "start_time": "2022-11-16T17:37:27.155Z"
   },
   {
    "duration": 15,
    "start_time": "2022-11-16T17:37:27.678Z"
   },
   {
    "duration": 11,
    "start_time": "2022-11-16T17:37:49.152Z"
   },
   {
    "duration": 26,
    "start_time": "2022-11-16T17:38:50.163Z"
   },
   {
    "duration": 5,
    "start_time": "2022-11-16T17:39:06.109Z"
   },
   {
    "duration": 20,
    "start_time": "2022-11-16T17:39:19.378Z"
   },
   {
    "duration": 11,
    "start_time": "2022-11-16T17:40:38.864Z"
   },
   {
    "duration": 7,
    "start_time": "2022-11-16T17:40:39.512Z"
   },
   {
    "duration": 21,
    "start_time": "2022-11-16T17:40:40.662Z"
   },
   {
    "duration": 154,
    "start_time": "2022-11-16T17:43:46.994Z"
   },
   {
    "duration": 7,
    "start_time": "2022-11-16T17:47:47.719Z"
   },
   {
    "duration": 3,
    "start_time": "2022-11-16T17:48:21.081Z"
   },
   {
    "duration": 4,
    "start_time": "2022-11-16T17:48:30.134Z"
   },
   {
    "duration": 136,
    "start_time": "2022-11-16T17:50:03.620Z"
   },
   {
    "duration": 3,
    "start_time": "2022-11-16T17:50:25.672Z"
   },
   {
    "duration": 3,
    "start_time": "2022-11-16T17:50:31.057Z"
   },
   {
    "duration": 4,
    "start_time": "2022-11-16T17:55:54.068Z"
   },
   {
    "duration": 4,
    "start_time": "2022-11-16T17:55:54.670Z"
   },
   {
    "duration": 9,
    "start_time": "2022-11-16T18:00:35.672Z"
   },
   {
    "duration": 6,
    "start_time": "2022-11-16T18:00:36.573Z"
   },
   {
    "duration": 160,
    "start_time": "2022-11-16T18:00:37.724Z"
   },
   {
    "duration": 4,
    "start_time": "2022-11-16T18:00:41.306Z"
   },
   {
    "duration": 3,
    "start_time": "2022-11-16T18:00:41.775Z"
   },
   {
    "duration": 133,
    "start_time": "2022-11-16T18:00:42.225Z"
   },
   {
    "duration": 3,
    "start_time": "2022-11-16T18:00:42.866Z"
   },
   {
    "duration": 4,
    "start_time": "2022-11-16T18:00:45.071Z"
   },
   {
    "duration": 6,
    "start_time": "2022-11-16T18:02:41.443Z"
   },
   {
    "duration": 4,
    "start_time": "2022-11-16T18:03:31.571Z"
   },
   {
    "duration": 4,
    "start_time": "2022-11-16T18:03:36.745Z"
   },
   {
    "duration": 4,
    "start_time": "2022-11-16T18:05:26.956Z"
   },
   {
    "duration": 4,
    "start_time": "2022-11-16T18:05:27.575Z"
   },
   {
    "duration": 3,
    "start_time": "2022-11-16T18:05:57.029Z"
   },
   {
    "duration": 4,
    "start_time": "2022-11-16T18:06:05.468Z"
   },
   {
    "duration": 66,
    "start_time": "2022-11-16T18:06:55.912Z"
   },
   {
    "duration": 4,
    "start_time": "2022-11-16T18:07:06.199Z"
   },
   {
    "duration": 7,
    "start_time": "2022-11-16T18:07:14.226Z"
   },
   {
    "duration": 6,
    "start_time": "2022-11-16T18:07:51.970Z"
   },
   {
    "duration": 4,
    "start_time": "2022-11-16T18:07:52.375Z"
   },
   {
    "duration": 4,
    "start_time": "2022-11-16T18:07:52.816Z"
   },
   {
    "duration": 4,
    "start_time": "2022-11-16T18:07:53.438Z"
   },
   {
    "duration": 4,
    "start_time": "2022-11-16T18:07:54.213Z"
   },
   {
    "duration": 49,
    "start_time": "2022-11-17T08:00:53.755Z"
   },
   {
    "duration": 6,
    "start_time": "2022-11-17T08:01:06.819Z"
   },
   {
    "duration": 391,
    "start_time": "2022-11-17T08:01:16.418Z"
   },
   {
    "duration": 2,
    "start_time": "2022-11-17T08:01:16.811Z"
   },
   {
    "duration": 434,
    "start_time": "2022-11-17T08:01:16.815Z"
   },
   {
    "duration": 96,
    "start_time": "2022-11-17T08:01:17.251Z"
   },
   {
    "duration": 20,
    "start_time": "2022-11-17T08:01:17.350Z"
   },
   {
    "duration": 17,
    "start_time": "2022-11-17T08:01:17.587Z"
   },
   {
    "duration": 5,
    "start_time": "2022-11-17T08:01:18.588Z"
   },
   {
    "duration": 4,
    "start_time": "2022-11-17T08:01:18.911Z"
   },
   {
    "duration": 5,
    "start_time": "2022-11-17T08:01:19.235Z"
   },
   {
    "duration": 10,
    "start_time": "2022-11-17T08:01:19.801Z"
   },
   {
    "duration": 4,
    "start_time": "2022-11-17T08:01:19.864Z"
   },
   {
    "duration": 8,
    "start_time": "2022-11-17T08:01:20.201Z"
   },
   {
    "duration": 11,
    "start_time": "2022-11-17T08:01:20.552Z"
   },
   {
    "duration": 6,
    "start_time": "2022-11-17T08:01:20.885Z"
   },
   {
    "duration": 5,
    "start_time": "2022-11-17T08:01:21.199Z"
   },
   {
    "duration": 10,
    "start_time": "2022-11-17T08:01:21.515Z"
   },
   {
    "duration": 6,
    "start_time": "2022-11-17T08:01:21.830Z"
   },
   {
    "duration": 6,
    "start_time": "2022-11-17T08:01:22.161Z"
   },
   {
    "duration": 7,
    "start_time": "2022-11-17T08:01:22.849Z"
   },
   {
    "duration": 8,
    "start_time": "2022-11-17T08:01:23.114Z"
   },
   {
    "duration": 212,
    "start_time": "2022-11-17T08:01:24.100Z"
   },
   {
    "duration": 196,
    "start_time": "2022-11-17T08:01:24.601Z"
   },
   {
    "duration": 18,
    "start_time": "2022-11-17T08:01:25.262Z"
   },
   {
    "duration": 12,
    "start_time": "2022-11-17T08:01:25.366Z"
   },
   {
    "duration": 4,
    "start_time": "2022-11-17T08:01:25.694Z"
   },
   {
    "duration": 178,
    "start_time": "2022-11-17T08:01:25.973Z"
   },
   {
    "duration": 12,
    "start_time": "2022-11-17T08:01:26.345Z"
   },
   {
    "duration": 87,
    "start_time": "2022-11-17T08:01:26.406Z"
   },
   {
    "duration": 21,
    "start_time": "2022-11-17T08:01:26.717Z"
   },
   {
    "duration": 233,
    "start_time": "2022-11-17T08:01:26.802Z"
   },
   {
    "duration": 7,
    "start_time": "2022-11-17T08:01:27.515Z"
   },
   {
    "duration": 18,
    "start_time": "2022-11-17T08:01:27.598Z"
   },
   {
    "duration": 20,
    "start_time": "2022-11-17T08:01:28.250Z"
   },
   {
    "duration": 289,
    "start_time": "2022-11-17T08:01:28.640Z"
   },
   {
    "duration": 235,
    "start_time": "2022-11-17T08:01:29.923Z"
   },
   {
    "duration": 80,
    "start_time": "2022-11-17T08:01:35.811Z"
   },
   {
    "duration": 11,
    "start_time": "2022-11-17T08:01:36.948Z"
   },
   {
    "duration": 10,
    "start_time": "2022-11-17T08:01:46.966Z"
   },
   {
    "duration": 6,
    "start_time": "2022-11-17T08:01:47.879Z"
   },
   {
    "duration": 159,
    "start_time": "2022-11-17T08:01:48.411Z"
   },
   {
    "duration": 4,
    "start_time": "2022-11-17T08:01:49.990Z"
   },
   {
    "duration": 4,
    "start_time": "2022-11-17T08:01:53.929Z"
   },
   {
    "duration": 158,
    "start_time": "2022-11-17T08:02:38.021Z"
   },
   {
    "duration": 4,
    "start_time": "2022-11-17T08:02:44.410Z"
   },
   {
    "duration": 5,
    "start_time": "2022-11-17T08:02:44.914Z"
   },
   {
    "duration": 6,
    "start_time": "2022-11-17T08:02:46.978Z"
   },
   {
    "duration": 4,
    "start_time": "2022-11-17T08:02:47.054Z"
   },
   {
    "duration": 5,
    "start_time": "2022-11-17T08:02:47.303Z"
   },
   {
    "duration": 4,
    "start_time": "2022-11-17T08:02:47.382Z"
   },
   {
    "duration": 4,
    "start_time": "2022-11-17T08:02:47.647Z"
   },
   {
    "duration": 6,
    "start_time": "2022-11-17T08:02:49.756Z"
   },
   {
    "duration": 4,
    "start_time": "2022-11-17T08:03:23.789Z"
   },
   {
    "duration": 4,
    "start_time": "2022-11-17T08:03:39.436Z"
   },
   {
    "duration": 4,
    "start_time": "2022-11-17T08:03:47.682Z"
   },
   {
    "duration": 5,
    "start_time": "2022-11-17T08:04:16.442Z"
   },
   {
    "duration": 4,
    "start_time": "2022-11-17T08:04:47.605Z"
   },
   {
    "duration": 51,
    "start_time": "2022-11-17T08:19:33.006Z"
   },
   {
    "duration": 2,
    "start_time": "2022-11-17T08:19:54.721Z"
   },
   {
    "duration": 2,
    "start_time": "2022-11-17T08:19:54.953Z"
   },
   {
    "duration": 4,
    "start_time": "2022-11-17T08:19:55.027Z"
   },
   {
    "duration": 51,
    "start_time": "2022-11-17T08:19:55.355Z"
   },
   {
    "duration": 17,
    "start_time": "2022-11-17T08:19:55.695Z"
   },
   {
    "duration": 14,
    "start_time": "2022-11-17T08:19:56.546Z"
   },
   {
    "duration": 4,
    "start_time": "2022-11-17T08:19:57.909Z"
   },
   {
    "duration": 3,
    "start_time": "2022-11-17T08:19:58.222Z"
   },
   {
    "duration": 5,
    "start_time": "2022-11-17T08:19:58.572Z"
   },
   {
    "duration": 8,
    "start_time": "2022-11-17T08:19:59.729Z"
   },
   {
    "duration": 5,
    "start_time": "2022-11-17T08:19:59.793Z"
   },
   {
    "duration": 9,
    "start_time": "2022-11-17T08:20:00.116Z"
   },
   {
    "duration": 10,
    "start_time": "2022-11-17T08:20:00.434Z"
   },
   {
    "duration": 5,
    "start_time": "2022-11-17T08:20:00.772Z"
   },
   {
    "duration": 4,
    "start_time": "2022-11-17T08:20:01.099Z"
   },
   {
    "duration": 8,
    "start_time": "2022-11-17T08:20:01.575Z"
   },
   {
    "duration": 6,
    "start_time": "2022-11-17T08:20:01.924Z"
   },
   {
    "duration": 5,
    "start_time": "2022-11-17T08:20:02.279Z"
   },
   {
    "duration": 5,
    "start_time": "2022-11-17T08:20:02.984Z"
   },
   {
    "duration": 6,
    "start_time": "2022-11-17T08:20:03.246Z"
   },
   {
    "duration": 190,
    "start_time": "2022-11-17T08:20:04.581Z"
   },
   {
    "duration": 169,
    "start_time": "2022-11-17T08:20:04.778Z"
   },
   {
    "duration": 13,
    "start_time": "2022-11-17T08:20:06.729Z"
   },
   {
    "duration": 9,
    "start_time": "2022-11-17T08:20:14.680Z"
   },
   {
    "duration": 3,
    "start_time": "2022-11-17T08:20:21.389Z"
   },
   {
    "duration": 184,
    "start_time": "2022-11-17T08:20:22.769Z"
   },
   {
    "duration": 8,
    "start_time": "2022-11-17T08:20:38.278Z"
   },
   {
    "duration": 14,
    "start_time": "2022-11-17T08:20:40.369Z"
   },
   {
    "duration": 17,
    "start_time": "2022-11-17T08:20:44.591Z"
   },
   {
    "duration": 224,
    "start_time": "2022-11-17T08:21:17.535Z"
   },
   {
    "duration": 5,
    "start_time": "2022-11-17T08:21:33.187Z"
   },
   {
    "duration": 16,
    "start_time": "2022-11-17T08:21:34.262Z"
   },
   {
    "duration": 14,
    "start_time": "2022-11-17T08:21:35.523Z"
   },
   {
    "duration": 287,
    "start_time": "2022-11-17T08:21:47.247Z"
   },
   {
    "duration": 274,
    "start_time": "2022-11-17T08:21:51.122Z"
   },
   {
    "duration": 10,
    "start_time": "2022-11-17T08:22:16.245Z"
   },
   {
    "duration": 75,
    "start_time": "2022-11-17T08:23:03.995Z"
   },
   {
    "duration": 66,
    "start_time": "2022-11-17T08:23:21.584Z"
   },
   {
    "duration": 593,
    "start_time": "2022-11-17T08:23:30.982Z"
   },
   {
    "duration": 8,
    "start_time": "2022-11-17T08:28:03.514Z"
   },
   {
    "duration": 14,
    "start_time": "2022-11-17T08:28:08.648Z"
   },
   {
    "duration": 8,
    "start_time": "2022-11-17T08:28:09.548Z"
   },
   {
    "duration": 190,
    "start_time": "2022-11-17T08:28:57.704Z"
   },
   {
    "duration": 128,
    "start_time": "2022-11-17T08:29:01.698Z"
   },
   {
    "duration": 8,
    "start_time": "2022-11-17T08:31:53.165Z"
   },
   {
    "duration": 23,
    "start_time": "2022-11-17T08:32:27.793Z"
   },
   {
    "duration": 264,
    "start_time": "2022-11-17T08:33:02.501Z"
   },
   {
    "duration": 7,
    "start_time": "2022-11-17T08:33:38.188Z"
   },
   {
    "duration": 13,
    "start_time": "2022-11-17T08:33:39.291Z"
   },
   {
    "duration": 9,
    "start_time": "2022-11-17T08:33:40.310Z"
   },
   {
    "duration": 204,
    "start_time": "2022-11-17T08:33:58.178Z"
   },
   {
    "duration": 126,
    "start_time": "2022-11-17T08:34:14.837Z"
   },
   {
    "duration": 141,
    "start_time": "2022-11-17T08:35:37.838Z"
   },
   {
    "duration": 123,
    "start_time": "2022-11-17T08:35:49.504Z"
   },
   {
    "duration": 9,
    "start_time": "2022-11-17T08:38:09.698Z"
   },
   {
    "duration": 18,
    "start_time": "2022-11-17T08:39:06.791Z"
   },
   {
    "duration": 11,
    "start_time": "2022-11-17T08:41:35.459Z"
   },
   {
    "duration": 9,
    "start_time": "2022-11-17T08:42:16.492Z"
   },
   {
    "duration": 7,
    "start_time": "2022-11-17T09:07:12.265Z"
   },
   {
    "duration": 168,
    "start_time": "2022-11-17T09:07:16.628Z"
   },
   {
    "duration": 239,
    "start_time": "2022-11-17T09:07:33.994Z"
   },
   {
    "duration": 271,
    "start_time": "2022-11-17T09:07:48.216Z"
   },
   {
    "duration": 78,
    "start_time": "2022-11-17T09:08:29.859Z"
   },
   {
    "duration": 84,
    "start_time": "2022-11-17T09:08:35.732Z"
   },
   {
    "duration": 6,
    "start_time": "2022-11-17T09:08:49.485Z"
   },
   {
    "duration": 158,
    "start_time": "2022-11-17T09:08:51.216Z"
   },
   {
    "duration": 4,
    "start_time": "2022-11-17T09:09:25.187Z"
   },
   {
    "duration": 5,
    "start_time": "2022-11-17T09:09:27.066Z"
   },
   {
    "duration": 3,
    "start_time": "2022-11-17T09:09:35.546Z"
   },
   {
    "duration": 4,
    "start_time": "2022-11-17T09:09:36.456Z"
   },
   {
    "duration": 164,
    "start_time": "2022-11-17T09:09:49.102Z"
   },
   {
    "duration": 8,
    "start_time": "2022-11-17T09:10:31.945Z"
   },
   {
    "duration": 4,
    "start_time": "2022-11-17T09:10:37.584Z"
   },
   {
    "duration": 4,
    "start_time": "2022-11-17T09:10:38.428Z"
   },
   {
    "duration": 152,
    "start_time": "2022-11-17T09:10:39.704Z"
   },
   {
    "duration": 9,
    "start_time": "2022-11-17T09:11:19.243Z"
   },
   {
    "duration": 6,
    "start_time": "2022-11-17T09:11:22.569Z"
   },
   {
    "duration": 4,
    "start_time": "2022-11-17T09:11:23.384Z"
   },
   {
    "duration": 157,
    "start_time": "2022-11-17T09:11:39.114Z"
   },
   {
    "duration": 6,
    "start_time": "2022-11-17T09:11:47.806Z"
   },
   {
    "duration": 150,
    "start_time": "2022-11-17T09:11:48.310Z"
   },
   {
    "duration": 5,
    "start_time": "2022-11-17T09:11:49.470Z"
   },
   {
    "duration": 5,
    "start_time": "2022-11-17T09:11:50.500Z"
   },
   {
    "duration": 154,
    "start_time": "2022-11-17T09:11:51.461Z"
   },
   {
    "duration": 4,
    "start_time": "2022-11-17T09:11:58.827Z"
   },
   {
    "duration": 4,
    "start_time": "2022-11-17T09:11:59.758Z"
   },
   {
    "duration": 7,
    "start_time": "2022-11-17T09:16:00.125Z"
   },
   {
    "duration": 5,
    "start_time": "2022-11-17T09:16:01.051Z"
   },
   {
    "duration": 4,
    "start_time": "2022-11-17T09:16:01.894Z"
   },
   {
    "duration": 6,
    "start_time": "2022-11-17T09:16:04.711Z"
   },
   {
    "duration": 5,
    "start_time": "2022-11-17T09:16:05.585Z"
   },
   {
    "duration": 10,
    "start_time": "2022-11-17T09:16:08.137Z"
   },
   {
    "duration": 5,
    "start_time": "2022-11-17T09:16:09.118Z"
   },
   {
    "duration": 4,
    "start_time": "2022-11-17T09:16:10.269Z"
   },
   {
    "duration": 3,
    "start_time": "2022-11-17T09:16:11.414Z"
   },
   {
    "duration": 5,
    "start_time": "2022-11-17T09:16:12.364Z"
   },
   {
    "duration": 10,
    "start_time": "2022-11-17T09:48:45.951Z"
   },
   {
    "duration": 16,
    "start_time": "2022-11-17T09:49:01.596Z"
   },
   {
    "duration": 22,
    "start_time": "2022-11-17T11:01:52.995Z"
   },
   {
    "duration": 32,
    "start_time": "2022-11-17T11:02:18.329Z"
   },
   {
    "duration": 847,
    "start_time": "2022-11-17T11:03:58.842Z"
   },
   {
    "duration": 13,
    "start_time": "2022-11-17T11:04:18.349Z"
   },
   {
    "duration": 864,
    "start_time": "2022-11-17T11:04:27.956Z"
   },
   {
    "duration": 3708,
    "start_time": "2022-11-17T11:05:55.683Z"
   },
   {
    "duration": 772,
    "start_time": "2022-11-17T11:06:35.562Z"
   },
   {
    "duration": 12,
    "start_time": "2022-11-17T11:08:16.561Z"
   },
   {
    "duration": 175,
    "start_time": "2022-11-17T11:08:18.408Z"
   },
   {
    "duration": 1136,
    "start_time": "2022-11-17T11:09:15.700Z"
   },
   {
    "duration": 1301,
    "start_time": "2022-11-17T11:09:29.584Z"
   },
   {
    "duration": 3,
    "start_time": "2022-11-17T11:13:17.594Z"
   },
   {
    "duration": 15,
    "start_time": "2022-11-17T11:13:18.472Z"
   },
   {
    "duration": 3,
    "start_time": "2022-11-17T11:13:25.878Z"
   },
   {
    "duration": 3,
    "start_time": "2022-11-17T11:13:25.934Z"
   },
   {
    "duration": 3,
    "start_time": "2022-11-17T11:13:26.195Z"
   },
   {
    "duration": 50,
    "start_time": "2022-11-17T11:13:26.515Z"
   },
   {
    "duration": 17,
    "start_time": "2022-11-17T11:13:26.854Z"
   },
   {
    "duration": 15,
    "start_time": "2022-11-17T11:13:27.155Z"
   },
   {
    "duration": 5,
    "start_time": "2022-11-17T11:13:28.190Z"
   },
   {
    "duration": 3,
    "start_time": "2022-11-17T11:13:28.533Z"
   },
   {
    "duration": 5,
    "start_time": "2022-11-17T11:13:28.825Z"
   },
   {
    "duration": 9,
    "start_time": "2022-11-17T11:13:29.421Z"
   },
   {
    "duration": 4,
    "start_time": "2022-11-17T11:13:29.489Z"
   },
   {
    "duration": 9,
    "start_time": "2022-11-17T11:13:29.839Z"
   },
   {
    "duration": 9,
    "start_time": "2022-11-17T11:13:30.191Z"
   },
   {
    "duration": 5,
    "start_time": "2022-11-17T11:13:30.468Z"
   },
   {
    "duration": 5,
    "start_time": "2022-11-17T11:13:30.782Z"
   },
   {
    "duration": 8,
    "start_time": "2022-11-17T11:13:31.124Z"
   },
   {
    "duration": 5,
    "start_time": "2022-11-17T11:13:31.442Z"
   },
   {
    "duration": 6,
    "start_time": "2022-11-17T11:13:31.791Z"
   },
   {
    "duration": 5,
    "start_time": "2022-11-17T11:13:32.463Z"
   },
   {
    "duration": 6,
    "start_time": "2022-11-17T11:13:32.746Z"
   },
   {
    "duration": 207,
    "start_time": "2022-11-17T11:13:33.805Z"
   },
   {
    "duration": 303,
    "start_time": "2022-11-17T11:13:34.408Z"
   },
   {
    "duration": 15,
    "start_time": "2022-11-17T11:13:35.046Z"
   },
   {
    "duration": 9,
    "start_time": "2022-11-17T11:13:35.538Z"
   },
   {
    "duration": 3,
    "start_time": "2022-11-17T11:13:36.812Z"
   },
   {
    "duration": 163,
    "start_time": "2022-11-17T11:13:36.897Z"
   },
   {
    "duration": 7,
    "start_time": "2022-11-17T11:13:37.382Z"
   },
   {
    "duration": 12,
    "start_time": "2022-11-17T11:13:37.622Z"
   },
   {
    "duration": 18,
    "start_time": "2022-11-17T11:13:37.688Z"
   },
   {
    "duration": 224,
    "start_time": "2022-11-17T11:13:37.998Z"
   },
   {
    "duration": 7,
    "start_time": "2022-11-17T11:13:38.449Z"
   },
   {
    "duration": 18,
    "start_time": "2022-11-17T11:13:38.843Z"
   },
   {
    "duration": 9,
    "start_time": "2022-11-17T11:13:38.920Z"
   },
   {
    "duration": 190,
    "start_time": "2022-11-17T11:13:44.537Z"
   },
   {
    "duration": 115,
    "start_time": "2022-11-17T11:13:51.718Z"
   },
   {
    "duration": 22,
    "start_time": "2022-11-17T11:13:52.922Z"
   },
   {
    "duration": 6,
    "start_time": "2022-11-17T11:13:54.771Z"
   },
   {
    "duration": 140,
    "start_time": "2022-11-17T11:13:55.127Z"
   },
   {
    "duration": 4,
    "start_time": "2022-11-17T11:13:55.269Z"
   },
   {
    "duration": 4,
    "start_time": "2022-11-17T11:13:55.719Z"
   },
   {
    "duration": 145,
    "start_time": "2022-11-17T11:13:55.799Z"
   },
   {
    "duration": 4,
    "start_time": "2022-11-17T11:13:56.063Z"
   },
   {
    "duration": 4,
    "start_time": "2022-11-17T11:13:56.118Z"
   },
   {
    "duration": 7,
    "start_time": "2022-11-17T11:13:57.440Z"
   },
   {
    "duration": 4,
    "start_time": "2022-11-17T11:13:58.841Z"
   },
   {
    "duration": 4,
    "start_time": "2022-11-17T11:13:58.889Z"
   },
   {
    "duration": 5,
    "start_time": "2022-11-17T11:13:59.179Z"
   },
   {
    "duration": 4,
    "start_time": "2022-11-17T11:13:59.260Z"
   },
   {
    "duration": 6,
    "start_time": "2022-11-17T11:13:59.702Z"
   },
   {
    "duration": 4,
    "start_time": "2022-11-17T11:13:59.925Z"
   },
   {
    "duration": 5,
    "start_time": "2022-11-17T11:14:00.005Z"
   },
   {
    "duration": 4,
    "start_time": "2022-11-17T11:14:00.297Z"
   },
   {
    "duration": 3,
    "start_time": "2022-11-17T11:14:00.370Z"
   },
   {
    "duration": 3,
    "start_time": "2022-11-17T11:14:01.160Z"
   },
   {
    "duration": 16,
    "start_time": "2022-11-17T11:14:01.218Z"
   },
   {
    "duration": 1694,
    "start_time": "2022-11-17T11:14:02.411Z"
   },
   {
    "duration": 3,
    "start_time": "2022-11-17T11:14:29.153Z"
   },
   {
    "duration": 312,
    "start_time": "2022-11-17T11:14:57.340Z"
   },
   {
    "duration": 12,
    "start_time": "2022-11-17T11:29:51.120Z"
   },
   {
    "duration": 173,
    "start_time": "2022-11-17T11:29:52.481Z"
   },
   {
    "duration": 1207,
    "start_time": "2022-11-17T11:30:58.601Z"
   },
   {
    "duration": 1197,
    "start_time": "2022-11-17T11:32:00.041Z"
   },
   {
    "duration": 8,
    "start_time": "2022-11-17T11:32:34.713Z"
   },
   {
    "duration": 170,
    "start_time": "2022-11-17T11:32:46.334Z"
   },
   {
    "duration": 1152,
    "start_time": "2022-11-17T11:32:47.921Z"
   },
   {
    "duration": 1262,
    "start_time": "2022-11-17T11:36:09.582Z"
   },
   {
    "duration": 158,
    "start_time": "2022-11-17T11:36:22.729Z"
   },
   {
    "duration": 193,
    "start_time": "2022-11-17T11:38:13.828Z"
   },
   {
    "duration": 15,
    "start_time": "2022-11-17T12:18:52.199Z"
   },
   {
    "duration": 41,
    "start_time": "2022-11-17T12:21:04.179Z"
   },
   {
    "duration": 754,
    "start_time": "2022-11-17T12:21:36.659Z"
   },
   {
    "duration": 16,
    "start_time": "2022-11-17T12:22:49.008Z"
   },
   {
    "duration": 49,
    "start_time": "2022-11-17T12:22:50.717Z"
   },
   {
    "duration": 10,
    "start_time": "2022-11-17T12:27:13.274Z"
   },
   {
    "duration": 746,
    "start_time": "2022-11-17T12:27:14.928Z"
   },
   {
    "duration": 172,
    "start_time": "2022-11-17T12:27:25.946Z"
   },
   {
    "duration": 13,
    "start_time": "2022-11-17T12:27:55.258Z"
   },
   {
    "duration": 162,
    "start_time": "2022-11-17T12:27:56.210Z"
   },
   {
    "duration": 15,
    "start_time": "2022-11-17T12:29:03.389Z"
   },
   {
    "duration": 141,
    "start_time": "2022-11-17T12:30:13.825Z"
   },
   {
    "duration": 155,
    "start_time": "2022-11-17T12:30:43.378Z"
   },
   {
    "duration": 143,
    "start_time": "2022-11-17T12:31:15.945Z"
   },
   {
    "duration": 135,
    "start_time": "2022-11-17T12:31:48.017Z"
   },
   {
    "duration": 139,
    "start_time": "2022-11-17T12:31:59.000Z"
   },
   {
    "duration": 4,
    "start_time": "2022-11-17T12:32:00.089Z"
   },
   {
    "duration": 4,
    "start_time": "2022-11-17T12:32:00.990Z"
   },
   {
    "duration": 139,
    "start_time": "2022-11-17T12:32:03.746Z"
   },
   {
    "duration": 4,
    "start_time": "2022-11-17T12:32:10.587Z"
   },
   {
    "duration": 4,
    "start_time": "2022-11-17T12:32:11.377Z"
   },
   {
    "duration": 37,
    "start_time": "2022-11-17T12:32:22.092Z"
   },
   {
    "duration": 3,
    "start_time": "2022-11-17T12:32:35.288Z"
   },
   {
    "duration": 2,
    "start_time": "2022-11-17T12:32:35.375Z"
   },
   {
    "duration": 2,
    "start_time": "2022-11-17T12:32:35.628Z"
   },
   {
    "duration": 57,
    "start_time": "2022-11-17T12:32:35.954Z"
   },
   {
    "duration": 18,
    "start_time": "2022-11-17T12:32:36.312Z"
   },
   {
    "duration": 15,
    "start_time": "2022-11-17T12:32:36.643Z"
   },
   {
    "duration": 5,
    "start_time": "2022-11-17T12:32:37.753Z"
   },
   {
    "duration": 3,
    "start_time": "2022-11-17T12:32:38.094Z"
   },
   {
    "duration": 5,
    "start_time": "2022-11-17T12:32:38.424Z"
   },
   {
    "duration": 11,
    "start_time": "2022-11-17T12:32:39.035Z"
   },
   {
    "duration": 4,
    "start_time": "2022-11-17T12:32:39.113Z"
   },
   {
    "duration": 8,
    "start_time": "2022-11-17T12:32:39.462Z"
   },
   {
    "duration": 10,
    "start_time": "2022-11-17T12:32:39.790Z"
   },
   {
    "duration": 5,
    "start_time": "2022-11-17T12:32:40.131Z"
   },
   {
    "duration": 4,
    "start_time": "2022-11-17T12:32:40.508Z"
   },
   {
    "duration": 8,
    "start_time": "2022-11-17T12:32:41.024Z"
   },
   {
    "duration": 6,
    "start_time": "2022-11-17T12:32:41.393Z"
   },
   {
    "duration": 5,
    "start_time": "2022-11-17T12:32:41.720Z"
   },
   {
    "duration": 6,
    "start_time": "2022-11-17T12:32:42.455Z"
   },
   {
    "duration": 6,
    "start_time": "2022-11-17T12:32:42.734Z"
   },
   {
    "duration": 235,
    "start_time": "2022-11-17T12:32:43.957Z"
   },
   {
    "duration": 180,
    "start_time": "2022-11-17T12:32:45.174Z"
   },
   {
    "duration": 14,
    "start_time": "2022-11-17T12:32:47.637Z"
   },
   {
    "duration": 10,
    "start_time": "2022-11-17T12:32:49.101Z"
   },
   {
    "duration": 2,
    "start_time": "2022-11-17T12:32:51.581Z"
   },
   {
    "duration": 152,
    "start_time": "2022-11-17T12:32:53.128Z"
   },
   {
    "duration": 8,
    "start_time": "2022-11-17T12:32:54.798Z"
   },
   {
    "duration": 14,
    "start_time": "2022-11-17T12:32:55.310Z"
   },
   {
    "duration": 18,
    "start_time": "2022-11-17T12:32:57.757Z"
   },
   {
    "duration": 222,
    "start_time": "2022-11-17T12:32:58.917Z"
   },
   {
    "duration": 8,
    "start_time": "2022-11-17T12:33:03.448Z"
   },
   {
    "duration": 15,
    "start_time": "2022-11-17T12:33:05.046Z"
   },
   {
    "duration": 9,
    "start_time": "2022-11-17T12:33:07.397Z"
   },
   {
    "duration": 199,
    "start_time": "2022-11-17T12:33:08.641Z"
   },
   {
    "duration": 121,
    "start_time": "2022-11-17T12:33:30.118Z"
   },
   {
    "duration": 18,
    "start_time": "2022-11-17T12:33:34.966Z"
   },
   {
    "duration": 40,
    "start_time": "2022-11-17T12:33:58.994Z"
   },
   {
    "duration": 38,
    "start_time": "2022-11-17T12:34:15.678Z"
   },
   {
    "duration": 7,
    "start_time": "2022-11-17T12:34:36.292Z"
   },
   {
    "duration": 396,
    "start_time": "2022-11-17T12:34:39.054Z"
   },
   {
    "duration": 22,
    "start_time": "2022-11-17T12:35:09.640Z"
   },
   {
    "duration": 188,
    "start_time": "2022-11-17T12:35:22.795Z"
   },
   {
    "duration": 6,
    "start_time": "2022-11-17T12:35:24.700Z"
   },
   {
    "duration": 4,
    "start_time": "2022-11-17T12:35:25.379Z"
   },
   {
    "duration": 156,
    "start_time": "2022-11-17T12:35:28.034Z"
   },
   {
    "duration": 75,
    "start_time": "2022-11-17T12:35:39.724Z"
   },
   {
    "duration": 6,
    "start_time": "2022-11-17T12:35:53.137Z"
   },
   {
    "duration": 26,
    "start_time": "2022-11-17T12:35:54.747Z"
   },
   {
    "duration": 147,
    "start_time": "2022-11-17T12:36:41.454Z"
   },
   {
    "duration": 5,
    "start_time": "2022-11-17T12:36:43.241Z"
   },
   {
    "duration": 4,
    "start_time": "2022-11-17T12:36:44.474Z"
   },
   {
    "duration": 185,
    "start_time": "2022-11-17T12:36:45.462Z"
   },
   {
    "duration": 5,
    "start_time": "2022-11-17T12:36:46.640Z"
   },
   {
    "duration": 4,
    "start_time": "2022-11-17T12:36:50.073Z"
   },
   {
    "duration": 7,
    "start_time": "2022-11-17T12:36:51.775Z"
   },
   {
    "duration": 4,
    "start_time": "2022-11-17T12:36:51.853Z"
   },
   {
    "duration": 4,
    "start_time": "2022-11-17T12:36:52.613Z"
   },
   {
    "duration": 5,
    "start_time": "2022-11-17T12:36:52.667Z"
   },
   {
    "duration": 4,
    "start_time": "2022-11-17T12:36:52.939Z"
   },
   {
    "duration": 6,
    "start_time": "2022-11-17T12:36:53.282Z"
   },
   {
    "duration": 4,
    "start_time": "2022-11-17T12:36:53.357Z"
   },
   {
    "duration": 3,
    "start_time": "2022-11-17T12:36:53.626Z"
   },
   {
    "duration": 4,
    "start_time": "2022-11-17T12:36:53.702Z"
   },
   {
    "duration": 5,
    "start_time": "2022-11-17T12:36:53.977Z"
   },
   {
    "duration": 2,
    "start_time": "2022-11-17T12:36:54.398Z"
   },
   {
    "duration": 2,
    "start_time": "2022-11-17T12:36:54.955Z"
   },
   {
    "duration": 2,
    "start_time": "2022-11-17T12:36:55.713Z"
   },
   {
    "duration": 12,
    "start_time": "2022-11-17T12:36:56.075Z"
   },
   {
    "duration": 330,
    "start_time": "2022-11-17T12:37:15.719Z"
   },
   {
    "duration": 310,
    "start_time": "2022-11-17T12:37:56.712Z"
   },
   {
    "duration": 12,
    "start_time": "2022-11-17T12:41:01.653Z"
   },
   {
    "duration": 176,
    "start_time": "2022-11-17T12:41:02.261Z"
   },
   {
    "duration": 11,
    "start_time": "2022-11-17T12:41:38.634Z"
   },
   {
    "duration": 162,
    "start_time": "2022-11-17T12:41:40.238Z"
   },
   {
    "duration": 3,
    "start_time": "2022-11-17T12:41:55.199Z"
   },
   {
    "duration": 3,
    "start_time": "2022-11-17T12:41:55.298Z"
   },
   {
    "duration": 3,
    "start_time": "2022-11-17T12:41:55.510Z"
   },
   {
    "duration": 51,
    "start_time": "2022-11-17T12:41:55.836Z"
   },
   {
    "duration": 17,
    "start_time": "2022-11-17T12:41:56.182Z"
   },
   {
    "duration": 14,
    "start_time": "2022-11-17T12:41:56.488Z"
   },
   {
    "duration": 5,
    "start_time": "2022-11-17T12:41:57.537Z"
   },
   {
    "duration": 4,
    "start_time": "2022-11-17T12:41:57.885Z"
   },
   {
    "duration": 4,
    "start_time": "2022-11-17T12:41:58.237Z"
   },
   {
    "duration": 9,
    "start_time": "2022-11-17T12:41:58.832Z"
   },
   {
    "duration": 5,
    "start_time": "2022-11-17T12:41:58.930Z"
   },
   {
    "duration": 8,
    "start_time": "2022-11-17T12:41:59.254Z"
   },
   {
    "duration": 10,
    "start_time": "2022-11-17T12:41:59.606Z"
   },
   {
    "duration": 6,
    "start_time": "2022-11-17T12:41:59.974Z"
   },
   {
    "duration": 4,
    "start_time": "2022-11-17T12:42:00.301Z"
   },
   {
    "duration": 7,
    "start_time": "2022-11-17T12:42:00.637Z"
   },
   {
    "duration": 6,
    "start_time": "2022-11-17T12:42:01.015Z"
   },
   {
    "duration": 6,
    "start_time": "2022-11-17T12:42:01.373Z"
   },
   {
    "duration": 6,
    "start_time": "2022-11-17T12:42:02.079Z"
   },
   {
    "duration": 7,
    "start_time": "2022-11-17T12:42:02.391Z"
   },
   {
    "duration": 192,
    "start_time": "2022-11-17T12:42:03.492Z"
   },
   {
    "duration": 229,
    "start_time": "2022-11-17T12:42:03.890Z"
   },
   {
    "duration": 18,
    "start_time": "2022-11-17T12:42:04.620Z"
   },
   {
    "duration": 14,
    "start_time": "2022-11-17T12:42:04.685Z"
   },
   {
    "duration": 3,
    "start_time": "2022-11-17T12:42:05.054Z"
   },
   {
    "duration": 156,
    "start_time": "2022-11-17T12:42:05.305Z"
   },
   {
    "duration": 9,
    "start_time": "2022-11-17T12:42:05.690Z"
   },
   {
    "duration": 13,
    "start_time": "2022-11-17T12:42:05.757Z"
   },
   {
    "duration": 17,
    "start_time": "2022-11-17T12:42:06.048Z"
   },
   {
    "duration": 211,
    "start_time": "2022-11-17T12:42:06.146Z"
   },
   {
    "duration": 8,
    "start_time": "2022-11-17T12:42:06.958Z"
   },
   {
    "duration": 13,
    "start_time": "2022-11-17T12:42:07.002Z"
   },
   {
    "duration": 8,
    "start_time": "2022-11-17T12:42:07.744Z"
   },
   {
    "duration": 201,
    "start_time": "2022-11-17T12:42:07.805Z"
   },
   {
    "duration": 116,
    "start_time": "2022-11-17T12:42:08.731Z"
   },
   {
    "duration": 17,
    "start_time": "2022-11-17T12:42:08.849Z"
   },
   {
    "duration": 7,
    "start_time": "2022-11-17T12:42:09.907Z"
   },
   {
    "duration": 154,
    "start_time": "2022-11-17T12:42:09.977Z"
   },
   {
    "duration": 5,
    "start_time": "2022-11-17T12:42:10.300Z"
   },
   {
    "duration": 4,
    "start_time": "2022-11-17T12:42:10.386Z"
   },
   {
    "duration": 154,
    "start_time": "2022-11-17T12:42:10.656Z"
   },
   {
    "duration": 4,
    "start_time": "2022-11-17T12:42:10.812Z"
   },
   {
    "duration": 5,
    "start_time": "2022-11-17T12:42:11.006Z"
   },
   {
    "duration": 7,
    "start_time": "2022-11-17T12:42:11.753Z"
   },
   {
    "duration": 4,
    "start_time": "2022-11-17T12:42:11.813Z"
   },
   {
    "duration": 4,
    "start_time": "2022-11-17T12:42:12.125Z"
   },
   {
    "duration": 3,
    "start_time": "2022-11-17T12:42:12.181Z"
   },
   {
    "duration": 4,
    "start_time": "2022-11-17T12:42:12.473Z"
   },
   {
    "duration": 8,
    "start_time": "2022-11-17T12:42:12.829Z"
   },
   {
    "duration": 4,
    "start_time": "2022-11-17T12:42:12.911Z"
   },
   {
    "duration": 5,
    "start_time": "2022-11-17T12:42:13.189Z"
   },
   {
    "duration": 5,
    "start_time": "2022-11-17T12:42:13.279Z"
   },
   {
    "duration": 4,
    "start_time": "2022-11-17T12:42:13.556Z"
   },
   {
    "duration": 14,
    "start_time": "2022-11-17T12:42:13.992Z"
   },
   {
    "duration": 166,
    "start_time": "2022-11-17T12:42:14.310Z"
   },
   {
    "duration": 16,
    "start_time": "2022-11-17T12:42:14.478Z"
   },
   {
    "duration": 11,
    "start_time": "2022-11-17T12:42:45.450Z"
   },
   {
    "duration": 11,
    "start_time": "2022-11-17T12:42:56.945Z"
   },
   {
    "duration": 168,
    "start_time": "2022-11-17T12:42:57.953Z"
   },
   {
    "duration": 15,
    "start_time": "2022-11-17T12:43:10.273Z"
   },
   {
    "duration": 728,
    "start_time": "2022-11-17T12:43:13.135Z"
   },
   {
    "duration": 16,
    "start_time": "2022-11-17T12:43:46.674Z"
   },
   {
    "duration": 317,
    "start_time": "2022-11-17T12:43:47.661Z"
   },
   {
    "duration": 15,
    "start_time": "2022-11-17T12:44:30.482Z"
   },
   {
    "duration": 317,
    "start_time": "2022-11-17T12:44:31.374Z"
   },
   {
    "duration": 3,
    "start_time": "2022-11-17T12:44:50.090Z"
   },
   {
    "duration": 3,
    "start_time": "2022-11-17T12:44:50.381Z"
   },
   {
    "duration": 3,
    "start_time": "2022-11-17T12:44:50.477Z"
   },
   {
    "duration": 49,
    "start_time": "2022-11-17T12:44:57.136Z"
   },
   {
    "duration": 17,
    "start_time": "2022-11-17T12:45:05.578Z"
   },
   {
    "duration": 15,
    "start_time": "2022-11-17T12:45:05.893Z"
   },
   {
    "duration": 5,
    "start_time": "2022-11-17T12:45:06.880Z"
   },
   {
    "duration": 3,
    "start_time": "2022-11-17T12:45:07.217Z"
   },
   {
    "duration": 5,
    "start_time": "2022-11-17T12:45:07.506Z"
   },
   {
    "duration": 10,
    "start_time": "2022-11-17T12:45:08.640Z"
   },
   {
    "duration": 5,
    "start_time": "2022-11-17T12:45:08.701Z"
   },
   {
    "duration": 9,
    "start_time": "2022-11-17T12:45:09.009Z"
   },
   {
    "duration": 12,
    "start_time": "2022-11-17T12:45:09.337Z"
   },
   {
    "duration": 4,
    "start_time": "2022-11-17T12:45:09.771Z"
   },
   {
    "duration": 5,
    "start_time": "2022-11-17T12:45:10.068Z"
   },
   {
    "duration": 9,
    "start_time": "2022-11-17T12:45:10.357Z"
   },
   {
    "duration": 6,
    "start_time": "2022-11-17T12:45:10.676Z"
   },
   {
    "duration": 5,
    "start_time": "2022-11-17T12:45:11.199Z"
   },
   {
    "duration": 6,
    "start_time": "2022-11-17T12:45:12.097Z"
   },
   {
    "duration": 7,
    "start_time": "2022-11-17T12:45:12.323Z"
   },
   {
    "duration": 193,
    "start_time": "2022-11-17T12:45:13.509Z"
   },
   {
    "duration": 213,
    "start_time": "2022-11-17T12:45:14.000Z"
   },
   {
    "duration": 14,
    "start_time": "2022-11-17T12:45:14.706Z"
   },
   {
    "duration": 10,
    "start_time": "2022-11-17T12:45:14.792Z"
   },
   {
    "duration": 5,
    "start_time": "2022-11-17T12:45:15.123Z"
   },
   {
    "duration": 171,
    "start_time": "2022-11-17T12:45:15.433Z"
   },
   {
    "duration": 8,
    "start_time": "2022-11-17T12:45:15.798Z"
   },
   {
    "duration": 13,
    "start_time": "2022-11-17T12:45:15.875Z"
   },
   {
    "duration": 18,
    "start_time": "2022-11-17T12:45:16.124Z"
   },
   {
    "duration": 220,
    "start_time": "2022-11-17T12:45:16.200Z"
   },
   {
    "duration": 9,
    "start_time": "2022-11-17T12:45:16.818Z"
   },
   {
    "duration": 14,
    "start_time": "2022-11-17T12:45:16.899Z"
   },
   {
    "duration": 9,
    "start_time": "2022-11-17T12:45:17.180Z"
   },
   {
    "duration": 195,
    "start_time": "2022-11-17T12:45:17.228Z"
   },
   {
    "duration": 119,
    "start_time": "2022-11-17T12:45:18.072Z"
   },
   {
    "duration": 18,
    "start_time": "2022-11-17T12:45:18.193Z"
   },
   {
    "duration": 6,
    "start_time": "2022-11-17T12:45:19.419Z"
   },
   {
    "duration": 156,
    "start_time": "2022-11-17T12:45:19.837Z"
   },
   {
    "duration": 5,
    "start_time": "2022-11-17T12:45:19.995Z"
   },
   {
    "duration": 4,
    "start_time": "2022-11-17T12:45:20.181Z"
   },
   {
    "duration": 137,
    "start_time": "2022-11-17T12:45:20.249Z"
   },
   {
    "duration": 5,
    "start_time": "2022-11-17T12:45:20.501Z"
   },
   {
    "duration": 4,
    "start_time": "2022-11-17T12:45:20.564Z"
   },
   {
    "duration": 7,
    "start_time": "2022-11-17T12:45:21.228Z"
   },
   {
    "duration": 4,
    "start_time": "2022-11-17T12:45:21.500Z"
   },
   {
    "duration": 5,
    "start_time": "2022-11-17T12:45:21.555Z"
   },
   {
    "duration": 4,
    "start_time": "2022-11-17T12:45:21.864Z"
   },
   {
    "duration": 4,
    "start_time": "2022-11-17T12:45:21.949Z"
   },
   {
    "duration": 7,
    "start_time": "2022-11-17T12:45:22.404Z"
   },
   {
    "duration": 6,
    "start_time": "2022-11-17T12:45:22.864Z"
   },
   {
    "duration": 4,
    "start_time": "2022-11-17T12:45:22.943Z"
   },
   {
    "duration": 4,
    "start_time": "2022-11-17T12:45:23.368Z"
   },
   {
    "duration": 4,
    "start_time": "2022-11-17T12:45:24.259Z"
   },
   {
    "duration": 20,
    "start_time": "2022-11-17T12:45:41.044Z"
   },
   {
    "duration": 785,
    "start_time": "2022-11-17T12:45:43.281Z"
   },
   {
    "duration": 16,
    "start_time": "2022-11-17T12:46:09.000Z"
   },
   {
    "duration": 175,
    "start_time": "2022-11-17T12:46:09.958Z"
   },
   {
    "duration": 158,
    "start_time": "2022-11-17T12:46:50.513Z"
   },
   {
    "duration": 9,
    "start_time": "2022-11-17T12:49:09.428Z"
   },
   {
    "duration": 8,
    "start_time": "2022-11-17T12:56:03.160Z"
   },
   {
    "duration": 17,
    "start_time": "2022-11-17T12:56:04.131Z"
   },
   {
    "duration": 10,
    "start_time": "2022-11-17T12:56:05.245Z"
   },
   {
    "duration": 7,
    "start_time": "2022-11-17T12:57:41.749Z"
   },
   {
    "duration": 6,
    "start_time": "2022-11-17T12:58:06.905Z"
   },
   {
    "duration": 8,
    "start_time": "2022-11-17T12:58:08.076Z"
   },
   {
    "duration": 13,
    "start_time": "2022-11-17T12:58:08.879Z"
   },
   {
    "duration": 10,
    "start_time": "2022-11-17T12:58:09.816Z"
   },
   {
    "duration": 509,
    "start_time": "2022-11-17T12:58:18.224Z"
   },
   {
    "duration": 131,
    "start_time": "2022-11-17T13:00:28.301Z"
   },
   {
    "duration": 151,
    "start_time": "2022-11-17T13:00:35.705Z"
   },
   {
    "duration": 149,
    "start_time": "2022-11-17T13:00:42.692Z"
   },
   {
    "duration": 129,
    "start_time": "2022-11-17T13:00:49.699Z"
   },
   {
    "duration": 143,
    "start_time": "2022-11-17T13:00:57.985Z"
   },
   {
    "duration": 22,
    "start_time": "2022-11-17T13:01:07.577Z"
   },
   {
    "duration": 6,
    "start_time": "2022-11-17T13:03:32.505Z"
   },
   {
    "duration": 7,
    "start_time": "2022-11-17T13:03:53.400Z"
   },
   {
    "duration": 136,
    "start_time": "2022-11-17T13:03:54.246Z"
   },
   {
    "duration": 5,
    "start_time": "2022-11-17T13:03:58.138Z"
   },
   {
    "duration": 4,
    "start_time": "2022-11-17T13:03:58.868Z"
   },
   {
    "duration": 134,
    "start_time": "2022-11-17T13:04:16.841Z"
   },
   {
    "duration": 4,
    "start_time": "2022-11-17T13:04:23.770Z"
   },
   {
    "duration": 4,
    "start_time": "2022-11-17T13:04:24.604Z"
   },
   {
    "duration": 143,
    "start_time": "2022-11-17T13:06:33.142Z"
   },
   {
    "duration": 4,
    "start_time": "2022-11-17T13:06:33.287Z"
   },
   {
    "duration": 5,
    "start_time": "2022-11-17T13:06:33.665Z"
   },
   {
    "duration": 168,
    "start_time": "2022-11-17T13:06:36.474Z"
   },
   {
    "duration": 4,
    "start_time": "2022-11-17T13:06:36.645Z"
   },
   {
    "duration": 4,
    "start_time": "2022-11-17T13:06:37.412Z"
   },
   {
    "duration": 6,
    "start_time": "2022-11-17T13:06:48.303Z"
   },
   {
    "duration": 5,
    "start_time": "2022-11-17T13:06:49.740Z"
   },
   {
    "duration": 5,
    "start_time": "2022-11-17T13:06:50.675Z"
   },
   {
    "duration": 4,
    "start_time": "2022-11-17T13:07:07.145Z"
   },
   {
    "duration": 4,
    "start_time": "2022-11-17T13:07:08.003Z"
   },
   {
    "duration": 6,
    "start_time": "2022-11-17T13:07:39.728Z"
   },
   {
    "duration": 4,
    "start_time": "2022-11-17T13:07:40.345Z"
   },
   {
    "duration": 6,
    "start_time": "2022-11-17T13:07:48.272Z"
   },
   {
    "duration": 5,
    "start_time": "2022-11-17T13:07:50.650Z"
   },
   {
    "duration": 4,
    "start_time": "2022-11-17T13:07:51.537Z"
   },
   {
    "duration": 5,
    "start_time": "2022-11-17T13:07:52.807Z"
   },
   {
    "duration": 4,
    "start_time": "2022-11-17T13:07:53.773Z"
   },
   {
    "duration": 6,
    "start_time": "2022-11-17T13:09:07.805Z"
   },
   {
    "duration": 5,
    "start_time": "2022-11-17T13:09:14.361Z"
   },
   {
    "duration": 72,
    "start_time": "2022-11-17T13:09:51.901Z"
   },
   {
    "duration": 6,
    "start_time": "2022-11-17T13:09:52.737Z"
   },
   {
    "duration": 6,
    "start_time": "2022-11-17T13:10:03.272Z"
   },
   {
    "duration": 5,
    "start_time": "2022-11-17T13:10:04.257Z"
   },
   {
    "duration": 4,
    "start_time": "2022-11-17T13:10:15.333Z"
   },
   {
    "duration": 4,
    "start_time": "2022-11-17T13:10:17.556Z"
   },
   {
    "duration": 5,
    "start_time": "2022-11-17T13:10:43.691Z"
   },
   {
    "duration": 4,
    "start_time": "2022-11-17T13:10:44.780Z"
   },
   {
    "duration": 4,
    "start_time": "2022-11-17T13:10:46.173Z"
   },
   {
    "duration": 28,
    "start_time": "2022-11-17T13:11:10.194Z"
   },
   {
    "duration": 3,
    "start_time": "2022-11-17T13:11:45.228Z"
   },
   {
    "duration": 3,
    "start_time": "2022-11-17T13:11:45.464Z"
   },
   {
    "duration": 3,
    "start_time": "2022-11-17T13:11:45.546Z"
   },
   {
    "duration": 53,
    "start_time": "2022-11-17T13:11:45.857Z"
   },
   {
    "duration": 19,
    "start_time": "2022-11-17T13:11:46.183Z"
   },
   {
    "duration": 16,
    "start_time": "2022-11-17T13:11:47.473Z"
   },
   {
    "duration": 4,
    "start_time": "2022-11-17T13:11:49.236Z"
   },
   {
    "duration": 4,
    "start_time": "2022-11-17T13:11:49.554Z"
   },
   {
    "duration": 4,
    "start_time": "2022-11-17T13:11:49.918Z"
   },
   {
    "duration": 9,
    "start_time": "2022-11-17T13:11:50.314Z"
   },
   {
    "duration": 5,
    "start_time": "2022-11-17T13:11:50.597Z"
   },
   {
    "duration": 8,
    "start_time": "2022-11-17T13:11:50.928Z"
   },
   {
    "duration": 10,
    "start_time": "2022-11-17T13:11:51.268Z"
   },
   {
    "duration": 5,
    "start_time": "2022-11-17T13:11:51.602Z"
   },
   {
    "duration": 4,
    "start_time": "2022-11-17T13:11:51.927Z"
   },
   {
    "duration": 8,
    "start_time": "2022-11-17T13:11:52.272Z"
   },
   {
    "duration": 6,
    "start_time": "2022-11-17T13:11:52.587Z"
   },
   {
    "duration": 6,
    "start_time": "2022-11-17T13:11:52.919Z"
   },
   {
    "duration": 6,
    "start_time": "2022-11-17T13:11:53.611Z"
   },
   {
    "duration": 6,
    "start_time": "2022-11-17T13:11:53.704Z"
   },
   {
    "duration": 215,
    "start_time": "2022-11-17T13:11:54.781Z"
   },
   {
    "duration": 167,
    "start_time": "2022-11-17T13:11:55.910Z"
   },
   {
    "duration": 13,
    "start_time": "2022-11-17T13:11:58.718Z"
   },
   {
    "duration": 9,
    "start_time": "2022-11-17T13:11:58.816Z"
   },
   {
    "duration": 3,
    "start_time": "2022-11-17T13:11:59.131Z"
   },
   {
    "duration": 157,
    "start_time": "2022-11-17T13:12:01.438Z"
   },
   {
    "duration": 8,
    "start_time": "2022-11-17T13:12:07.385Z"
   },
   {
    "duration": 15,
    "start_time": "2022-11-17T13:12:08.302Z"
   },
   {
    "duration": 16,
    "start_time": "2022-11-17T13:12:09.557Z"
   },
   {
    "duration": 240,
    "start_time": "2022-11-17T13:12:12.818Z"
   },
   {
    "duration": 22,
    "start_time": "2022-11-17T13:12:52.249Z"
   },
   {
    "duration": 8,
    "start_time": "2022-11-17T13:13:17.371Z"
   },
   {
    "duration": 14,
    "start_time": "2022-11-17T13:13:18.352Z"
   },
   {
    "duration": 10,
    "start_time": "2022-11-17T13:13:19.391Z"
   },
   {
    "duration": 242,
    "start_time": "2022-11-17T13:13:20.579Z"
   },
   {
    "duration": 142,
    "start_time": "2022-11-17T13:17:55.096Z"
   },
   {
    "duration": 3,
    "start_time": "2022-11-17T13:20:35.197Z"
   },
   {
    "duration": 152,
    "start_time": "2022-11-17T13:20:36.441Z"
   },
   {
    "duration": 8,
    "start_time": "2022-11-17T13:21:25.372Z"
   },
   {
    "duration": 14,
    "start_time": "2022-11-17T13:21:26.204Z"
   },
   {
    "duration": 14,
    "start_time": "2022-11-17T13:21:27.348Z"
   },
   {
    "duration": 199,
    "start_time": "2022-11-17T13:21:31.272Z"
   },
   {
    "duration": 8,
    "start_time": "2022-11-17T13:22:46.830Z"
   },
   {
    "duration": 10,
    "start_time": "2022-11-17T13:23:09.549Z"
   },
   {
    "duration": 15,
    "start_time": "2022-11-17T13:23:10.994Z"
   },
   {
    "duration": 9,
    "start_time": "2022-11-17T13:23:11.851Z"
   },
   {
    "duration": 261,
    "start_time": "2022-11-17T13:23:13.965Z"
   },
   {
    "duration": 127,
    "start_time": "2022-11-17T13:23:22.135Z"
   },
   {
    "duration": 128,
    "start_time": "2022-11-17T13:24:51.602Z"
   },
   {
    "duration": 21,
    "start_time": "2022-11-17T13:24:52.784Z"
   },
   {
    "duration": 7,
    "start_time": "2022-11-17T13:25:43.325Z"
   },
   {
    "duration": 138,
    "start_time": "2022-11-17T13:25:44.398Z"
   },
   {
    "duration": 4,
    "start_time": "2022-11-17T13:25:46.884Z"
   },
   {
    "duration": 4,
    "start_time": "2022-11-17T13:25:48.191Z"
   },
   {
    "duration": 141,
    "start_time": "2022-11-17T13:25:49.398Z"
   },
   {
    "duration": 4,
    "start_time": "2022-11-17T13:25:50.673Z"
   },
   {
    "duration": 4,
    "start_time": "2022-11-17T13:25:51.898Z"
   },
   {
    "duration": 6,
    "start_time": "2022-11-17T13:25:55.677Z"
   },
   {
    "duration": 4,
    "start_time": "2022-11-17T13:25:57.461Z"
   },
   {
    "duration": 5,
    "start_time": "2022-11-17T13:26:31.878Z"
   },
   {
    "duration": 4,
    "start_time": "2022-11-17T13:26:32.979Z"
   },
   {
    "duration": 6,
    "start_time": "2022-11-17T13:26:33.883Z"
   },
   {
    "duration": 7,
    "start_time": "2022-11-17T13:26:36.024Z"
   },
   {
    "duration": 4,
    "start_time": "2022-11-17T13:26:36.678Z"
   },
   {
    "duration": 4,
    "start_time": "2022-11-17T13:26:37.490Z"
   },
   {
    "duration": 4,
    "start_time": "2022-11-17T13:26:38.594Z"
   },
   {
    "duration": 5,
    "start_time": "2022-11-17T13:26:40.292Z"
   },
   {
    "duration": 12,
    "start_time": "2022-11-17T13:27:13.077Z"
   },
   {
    "duration": 8,
    "start_time": "2022-11-17T13:27:14.296Z"
   },
   {
    "duration": 166,
    "start_time": "2022-11-17T13:27:26.780Z"
   },
   {
    "duration": 9,
    "start_time": "2022-11-17T13:28:30.551Z"
   },
   {
    "duration": 12,
    "start_time": "2022-11-17T13:28:49.115Z"
   },
   {
    "duration": 195,
    "start_time": "2022-11-17T13:29:30.678Z"
   },
   {
    "duration": 8,
    "start_time": "2022-11-17T13:29:54.300Z"
   },
   {
    "duration": 11,
    "start_time": "2022-11-17T13:30:09.893Z"
   },
   {
    "duration": 8,
    "start_time": "2022-11-17T13:30:11.167Z"
   },
   {
    "duration": 12,
    "start_time": "2022-11-17T13:30:33.005Z"
   },
   {
    "duration": 7,
    "start_time": "2022-11-17T13:30:33.808Z"
   },
   {
    "duration": 14,
    "start_time": "2022-11-17T13:33:59.303Z"
   },
   {
    "duration": 9,
    "start_time": "2022-11-17T13:34:00.273Z"
   },
   {
    "duration": 11,
    "start_time": "2022-11-17T13:35:46.552Z"
   },
   {
    "duration": 17,
    "start_time": "2022-11-17T13:36:13.929Z"
   },
   {
    "duration": 9,
    "start_time": "2022-11-17T13:36:15.824Z"
   },
   {
    "duration": 9,
    "start_time": "2022-11-17T13:39:50.497Z"
   },
   {
    "duration": 188,
    "start_time": "2022-11-17T13:39:51.364Z"
   },
   {
    "duration": 11,
    "start_time": "2022-11-17T13:39:56.504Z"
   },
   {
    "duration": 12,
    "start_time": "2022-11-17T13:39:57.475Z"
   },
   {
    "duration": 16,
    "start_time": "2022-11-17T13:41:31.169Z"
   },
   {
    "duration": 12,
    "start_time": "2022-11-17T13:41:32.595Z"
   },
   {
    "duration": 77,
    "start_time": "2022-11-17T13:44:00.966Z"
   },
   {
    "duration": 402,
    "start_time": "2022-11-17T13:54:55.297Z"
   },
   {
    "duration": 18,
    "start_time": "2022-11-17T14:07:44.490Z"
   },
   {
    "duration": 21,
    "start_time": "2022-11-17T14:15:09.994Z"
   },
   {
    "duration": 2,
    "start_time": "2022-11-17T14:15:18.252Z"
   },
   {
    "duration": 2,
    "start_time": "2022-11-17T14:15:18.333Z"
   },
   {
    "duration": 2,
    "start_time": "2022-11-17T14:15:18.579Z"
   },
   {
    "duration": 53,
    "start_time": "2022-11-17T14:15:18.902Z"
   },
   {
    "duration": 20,
    "start_time": "2022-11-17T14:15:19.234Z"
   },
   {
    "duration": 16,
    "start_time": "2022-11-17T14:15:19.581Z"
   },
   {
    "duration": 6,
    "start_time": "2022-11-17T14:15:20.637Z"
   },
   {
    "duration": 5,
    "start_time": "2022-11-17T14:15:20.961Z"
   },
   {
    "duration": 5,
    "start_time": "2022-11-17T14:15:21.287Z"
   },
   {
    "duration": 8,
    "start_time": "2022-11-17T14:15:21.903Z"
   },
   {
    "duration": 4,
    "start_time": "2022-11-17T14:15:21.972Z"
   },
   {
    "duration": 9,
    "start_time": "2022-11-17T14:15:22.323Z"
   },
   {
    "duration": 11,
    "start_time": "2022-11-17T14:15:22.643Z"
   },
   {
    "duration": 5,
    "start_time": "2022-11-17T14:15:22.989Z"
   },
   {
    "duration": 4,
    "start_time": "2022-11-17T14:15:23.330Z"
   },
   {
    "duration": 8,
    "start_time": "2022-11-17T14:15:23.641Z"
   },
   {
    "duration": 7,
    "start_time": "2022-11-17T14:15:24.013Z"
   },
   {
    "duration": 6,
    "start_time": "2022-11-17T14:15:24.753Z"
   },
   {
    "duration": 6,
    "start_time": "2022-11-17T14:15:25.417Z"
   },
   {
    "duration": 6,
    "start_time": "2022-11-17T14:15:25.491Z"
   },
   {
    "duration": 189,
    "start_time": "2022-11-17T14:15:26.499Z"
   },
   {
    "duration": 207,
    "start_time": "2022-11-17T14:15:26.875Z"
   },
   {
    "duration": 13,
    "start_time": "2022-11-17T14:15:27.541Z"
   },
   {
    "duration": 11,
    "start_time": "2022-11-17T14:15:27.824Z"
   },
   {
    "duration": 3,
    "start_time": "2022-11-17T14:15:28.147Z"
   },
   {
    "duration": 164,
    "start_time": "2022-11-17T14:15:28.225Z"
   },
   {
    "duration": 8,
    "start_time": "2022-11-17T14:15:28.556Z"
   },
   {
    "duration": 14,
    "start_time": "2022-11-17T14:15:28.842Z"
   },
   {
    "duration": 21,
    "start_time": "2022-11-17T14:15:28.928Z"
   },
   {
    "duration": 225,
    "start_time": "2022-11-17T14:15:29.186Z"
   },
   {
    "duration": 9,
    "start_time": "2022-11-17T14:15:29.612Z"
   },
   {
    "duration": 13,
    "start_time": "2022-11-17T14:15:29.882Z"
   },
   {
    "duration": 121,
    "start_time": "2022-11-17T14:15:29.934Z"
   },
   {
    "duration": 10,
    "start_time": "2022-11-17T14:15:30.238Z"
   },
   {
    "duration": 210,
    "start_time": "2022-11-17T14:15:30.323Z"
   },
   {
    "duration": 156,
    "start_time": "2022-11-17T14:15:30.905Z"
   },
   {
    "duration": 27,
    "start_time": "2022-11-17T14:15:31.064Z"
   },
   {
    "duration": 8,
    "start_time": "2022-11-17T14:15:31.921Z"
   },
   {
    "duration": 146,
    "start_time": "2022-11-17T14:15:31.994Z"
   },
   {
    "duration": 4,
    "start_time": "2022-11-17T14:15:32.266Z"
   },
   {
    "duration": 5,
    "start_time": "2022-11-17T14:15:32.344Z"
   },
   {
    "duration": 144,
    "start_time": "2022-11-17T14:15:32.620Z"
   },
   {
    "duration": 13,
    "start_time": "2022-11-17T14:15:32.767Z"
   },
   {
    "duration": 5,
    "start_time": "2022-11-17T14:15:32.988Z"
   },
   {
    "duration": 6,
    "start_time": "2022-11-17T14:15:33.707Z"
   },
   {
    "duration": 6,
    "start_time": "2022-11-17T14:15:33.790Z"
   },
   {
    "duration": 5,
    "start_time": "2022-11-17T14:15:34.049Z"
   },
   {
    "duration": 4,
    "start_time": "2022-11-17T14:15:34.330Z"
   },
   {
    "duration": 4,
    "start_time": "2022-11-17T14:15:34.419Z"
   },
   {
    "duration": 6,
    "start_time": "2022-11-17T14:15:34.772Z"
   },
   {
    "duration": 4,
    "start_time": "2022-11-17T14:15:34.850Z"
   },
   {
    "duration": 4,
    "start_time": "2022-11-17T14:15:35.139Z"
   },
   {
    "duration": 4,
    "start_time": "2022-11-17T14:15:35.223Z"
   },
   {
    "duration": 4,
    "start_time": "2022-11-17T14:15:35.511Z"
   },
   {
    "duration": 12,
    "start_time": "2022-11-17T14:15:35.923Z"
   },
   {
    "duration": 9,
    "start_time": "2022-11-17T14:15:36.218Z"
   },
   {
    "duration": 176,
    "start_time": "2022-11-17T14:15:36.305Z"
   },
   {
    "duration": 11,
    "start_time": "2022-11-17T14:15:36.678Z"
   },
   {
    "duration": 9,
    "start_time": "2022-11-17T14:15:37.455Z"
   },
   {
    "duration": 367,
    "start_time": "2022-11-17T14:15:38.209Z"
   },
   {
    "duration": 25,
    "start_time": "2022-11-17T14:15:50.079Z"
   },
   {
    "duration": 17,
    "start_time": "2022-11-17T14:16:06.909Z"
   },
   {
    "duration": 23,
    "start_time": "2022-11-17T14:16:18.547Z"
   },
   {
    "duration": 16,
    "start_time": "2022-11-17T14:16:55.860Z"
   },
   {
    "duration": 9,
    "start_time": "2022-11-17T14:17:11.416Z"
   },
   {
    "duration": 17,
    "start_time": "2022-11-17T14:18:46.595Z"
   },
   {
    "duration": 12,
    "start_time": "2022-11-17T14:20:09.384Z"
   },
   {
    "duration": 18,
    "start_time": "2022-11-17T14:23:52.761Z"
   },
   {
    "duration": 13,
    "start_time": "2022-11-17T14:27:45.509Z"
   },
   {
    "duration": 9,
    "start_time": "2022-11-17T14:28:39.594Z"
   },
   {
    "duration": 11,
    "start_time": "2022-11-17T14:28:47.968Z"
   },
   {
    "duration": 8,
    "start_time": "2022-11-17T14:29:30.662Z"
   },
   {
    "duration": 7,
    "start_time": "2022-11-17T14:29:49.464Z"
   },
   {
    "duration": 12,
    "start_time": "2022-11-17T14:29:57.910Z"
   },
   {
    "duration": 8,
    "start_time": "2022-11-17T14:32:07.283Z"
   },
   {
    "duration": 9,
    "start_time": "2022-11-17T14:32:41.250Z"
   },
   {
    "duration": 8,
    "start_time": "2022-11-17T14:33:01.074Z"
   },
   {
    "duration": 12,
    "start_time": "2022-11-17T14:33:02.410Z"
   },
   {
    "duration": 8,
    "start_time": "2022-11-17T14:33:16.894Z"
   },
   {
    "duration": 7,
    "start_time": "2022-11-17T14:33:17.326Z"
   },
   {
    "duration": 11,
    "start_time": "2022-11-17T14:41:53.392Z"
   },
   {
    "duration": 12,
    "start_time": "2022-11-17T14:42:20.528Z"
   },
   {
    "duration": 9,
    "start_time": "2022-11-17T14:42:33.472Z"
   },
   {
    "duration": 8,
    "start_time": "2022-11-17T14:42:45.656Z"
   },
   {
    "duration": 12,
    "start_time": "2022-11-17T14:43:20.909Z"
   },
   {
    "duration": 8,
    "start_time": "2022-11-17T14:43:31.449Z"
   },
   {
    "duration": 11,
    "start_time": "2022-11-17T14:43:44.168Z"
   },
   {
    "duration": 14,
    "start_time": "2022-11-17T14:44:24.540Z"
   },
   {
    "duration": 9,
    "start_time": "2022-11-17T14:44:40.216Z"
   },
   {
    "duration": 73,
    "start_time": "2022-11-17T14:46:21.009Z"
   },
   {
    "duration": 11,
    "start_time": "2022-11-17T14:46:29.834Z"
   },
   {
    "duration": 8,
    "start_time": "2022-11-17T14:46:30.062Z"
   },
   {
    "duration": 16,
    "start_time": "2022-11-17T14:46:30.141Z"
   },
   {
    "duration": 12,
    "start_time": "2022-11-17T14:46:30.389Z"
   },
   {
    "duration": 16,
    "start_time": "2022-11-17T14:46:30.474Z"
   },
   {
    "duration": 12,
    "start_time": "2022-11-17T14:46:30.680Z"
   },
   {
    "duration": 11,
    "start_time": "2022-11-17T14:46:32.459Z"
   },
   {
    "duration": 8,
    "start_time": "2022-11-17T14:46:33.571Z"
   },
   {
    "duration": 11,
    "start_time": "2022-11-17T14:46:35.258Z"
   },
   {
    "duration": 8,
    "start_time": "2022-11-17T14:46:36.302Z"
   },
   {
    "duration": 15,
    "start_time": "2022-11-17T14:46:37.483Z"
   },
   {
    "duration": 12,
    "start_time": "2022-11-17T14:46:38.338Z"
   },
   {
    "duration": 8,
    "start_time": "2022-11-17T14:46:39.614Z"
   },
   {
    "duration": 73,
    "start_time": "2022-11-17T14:47:15.730Z"
   },
   {
    "duration": 15,
    "start_time": "2022-11-17T14:47:16.771Z"
   },
   {
    "duration": 16,
    "start_time": "2022-11-17T14:47:22.666Z"
   },
   {
    "duration": 11,
    "start_time": "2022-11-17T14:47:22.743Z"
   },
   {
    "duration": 16,
    "start_time": "2022-11-17T14:47:23.010Z"
   },
   {
    "duration": 11,
    "start_time": "2022-11-17T14:47:23.077Z"
   },
   {
    "duration": 15,
    "start_time": "2022-11-17T14:47:23.566Z"
   },
   {
    "duration": 7,
    "start_time": "2022-11-17T14:47:25.251Z"
   },
   {
    "duration": 12,
    "start_time": "2022-11-17T14:59:09.168Z"
   },
   {
    "duration": 8,
    "start_time": "2022-11-17T14:59:09.487Z"
   },
   {
    "duration": 10,
    "start_time": "2022-11-17T14:59:09.550Z"
   },
   {
    "duration": 9,
    "start_time": "2022-11-17T14:59:14.429Z"
   },
   {
    "duration": 12,
    "start_time": "2022-11-17T14:59:31.203Z"
   },
   {
    "duration": 10,
    "start_time": "2022-11-17T14:59:31.763Z"
   },
   {
    "duration": 11,
    "start_time": "2022-11-17T15:16:20.020Z"
   },
   {
    "duration": 9,
    "start_time": "2022-11-17T15:16:28.149Z"
   },
   {
    "duration": 3,
    "start_time": "2022-11-17T15:24:28.902Z"
   },
   {
    "duration": 3,
    "start_time": "2022-11-17T15:32:21.965Z"
   },
   {
    "duration": 4,
    "start_time": "2022-11-17T15:37:43.851Z"
   },
   {
    "duration": 5,
    "start_time": "2022-11-17T15:37:57.464Z"
   },
   {
    "duration": 4,
    "start_time": "2022-11-17T15:40:21.874Z"
   },
   {
    "duration": 8,
    "start_time": "2022-11-17T15:41:21.672Z"
   },
   {
    "duration": 8,
    "start_time": "2022-11-17T15:42:10.569Z"
   },
   {
    "duration": 4,
    "start_time": "2022-11-17T15:43:15.430Z"
   },
   {
    "duration": 5,
    "start_time": "2022-11-17T15:43:16.264Z"
   },
   {
    "duration": 8,
    "start_time": "2022-11-17T15:43:17.659Z"
   },
   {
    "duration": 3,
    "start_time": "2022-11-17T15:44:49.870Z"
   },
   {
    "duration": 9,
    "start_time": "2022-11-17T15:44:49.940Z"
   },
   {
    "duration": 10,
    "start_time": "2022-11-17T15:56:43.091Z"
   },
   {
    "duration": 10,
    "start_time": "2022-11-17T15:58:26.331Z"
   },
   {
    "duration": 68,
    "start_time": "2022-11-17T15:58:48.383Z"
   },
   {
    "duration": 23,
    "start_time": "2022-11-17T16:01:36.494Z"
   },
   {
    "duration": 7,
    "start_time": "2022-11-17T16:02:19.682Z"
   },
   {
    "duration": 9,
    "start_time": "2022-11-17T16:02:41.821Z"
   },
   {
    "duration": 22,
    "start_time": "2022-11-17T16:02:53.304Z"
   },
   {
    "duration": 5,
    "start_time": "2022-11-17T16:06:36.693Z"
   },
   {
    "duration": 4,
    "start_time": "2022-11-17T16:06:43.567Z"
   },
   {
    "duration": 8,
    "start_time": "2022-11-17T16:07:45.181Z"
   },
   {
    "duration": 752,
    "start_time": "2022-11-17T16:08:16.178Z"
   },
   {
    "duration": 3,
    "start_time": "2022-11-17T16:08:20.267Z"
   },
   {
    "duration": 3,
    "start_time": "2022-11-17T16:08:20.354Z"
   },
   {
    "duration": 2,
    "start_time": "2022-11-17T16:08:20.588Z"
   },
   {
    "duration": 2,
    "start_time": "2022-11-17T16:08:21.048Z"
   },
   {
    "duration": 50,
    "start_time": "2022-11-17T16:08:21.372Z"
   },
   {
    "duration": 17,
    "start_time": "2022-11-17T16:08:21.667Z"
   },
   {
    "duration": 17,
    "start_time": "2022-11-17T16:08:21.983Z"
   },
   {
    "duration": 6,
    "start_time": "2022-11-17T16:08:23.027Z"
   },
   {
    "duration": 3,
    "start_time": "2022-11-17T16:08:23.346Z"
   },
   {
    "duration": 4,
    "start_time": "2022-11-17T16:08:23.683Z"
   },
   {
    "duration": 8,
    "start_time": "2022-11-17T16:08:24.233Z"
   },
   {
    "duration": 4,
    "start_time": "2022-11-17T16:08:24.285Z"
   },
   {
    "duration": 8,
    "start_time": "2022-11-17T16:08:24.589Z"
   },
   {
    "duration": 11,
    "start_time": "2022-11-17T16:08:24.890Z"
   },
   {
    "duration": 5,
    "start_time": "2022-11-17T16:08:25.209Z"
   },
   {
    "duration": 4,
    "start_time": "2022-11-17T16:08:25.547Z"
   },
   {
    "duration": 8,
    "start_time": "2022-11-17T16:08:25.868Z"
   },
   {
    "duration": 6,
    "start_time": "2022-11-17T16:08:26.116Z"
   },
   {
    "duration": 5,
    "start_time": "2022-11-17T16:08:26.449Z"
   },
   {
    "duration": 6,
    "start_time": "2022-11-17T16:08:27.072Z"
   },
   {
    "duration": 6,
    "start_time": "2022-11-17T16:08:27.330Z"
   },
   {
    "duration": 186,
    "start_time": "2022-11-17T16:08:28.284Z"
   },
   {
    "duration": 168,
    "start_time": "2022-11-17T16:08:28.617Z"
   },
   {
    "duration": 13,
    "start_time": "2022-11-17T16:08:29.276Z"
   },
   {
    "duration": 10,
    "start_time": "2022-11-17T16:08:29.338Z"
   },
   {
    "duration": 3,
    "start_time": "2022-11-17T16:08:30.169Z"
   },
   {
    "duration": 155,
    "start_time": "2022-11-17T16:08:30.239Z"
   },
   {
    "duration": 8,
    "start_time": "2022-11-17T16:08:30.591Z"
   },
   {
    "duration": 16,
    "start_time": "2022-11-17T16:08:30.855Z"
   },
   {
    "duration": 15,
    "start_time": "2022-11-17T16:08:30.927Z"
   },
   {
    "duration": 207,
    "start_time": "2022-11-17T16:08:31.197Z"
   },
   {
    "duration": 6,
    "start_time": "2022-11-17T16:08:31.612Z"
   },
   {
    "duration": 8,
    "start_time": "2022-11-17T16:08:31.904Z"
   },
   {
    "duration": 14,
    "start_time": "2022-11-17T16:08:31.958Z"
   },
   {
    "duration": 11,
    "start_time": "2022-11-17T16:08:32.247Z"
   },
   {
    "duration": 220,
    "start_time": "2022-11-17T16:08:32.314Z"
   },
   {
    "duration": 130,
    "start_time": "2022-11-17T16:08:32.894Z"
   },
   {
    "duration": 19,
    "start_time": "2022-11-17T16:08:33.026Z"
   },
   {
    "duration": 6,
    "start_time": "2022-11-17T16:08:33.925Z"
   },
   {
    "duration": 140,
    "start_time": "2022-11-17T16:08:34.297Z"
   },
   {
    "duration": 4,
    "start_time": "2022-11-17T16:08:34.439Z"
   },
   {
    "duration": 4,
    "start_time": "2022-11-17T16:08:34.672Z"
   },
   {
    "duration": 143,
    "start_time": "2022-11-17T16:08:34.737Z"
   },
   {
    "duration": 4,
    "start_time": "2022-11-17T16:08:35.022Z"
   },
   {
    "duration": 6,
    "start_time": "2022-11-17T16:08:35.085Z"
   },
   {
    "duration": 5,
    "start_time": "2022-11-17T16:08:35.784Z"
   },
   {
    "duration": 4,
    "start_time": "2022-11-17T16:08:36.086Z"
   },
   {
    "duration": 4,
    "start_time": "2022-11-17T16:08:36.146Z"
   },
   {
    "duration": 4,
    "start_time": "2022-11-17T16:08:36.444Z"
   },
   {
    "duration": 3,
    "start_time": "2022-11-17T16:08:36.518Z"
   },
   {
    "duration": 5,
    "start_time": "2022-11-17T16:08:36.870Z"
   },
   {
    "duration": 4,
    "start_time": "2022-11-17T16:08:37.145Z"
   },
   {
    "duration": 5,
    "start_time": "2022-11-17T16:08:37.206Z"
   },
   {
    "duration": 5,
    "start_time": "2022-11-17T16:08:37.534Z"
   },
   {
    "duration": 4,
    "start_time": "2022-11-17T16:08:37.614Z"
   },
   {
    "duration": 11,
    "start_time": "2022-11-17T16:08:38.226Z"
   },
   {
    "duration": 10,
    "start_time": "2022-11-17T16:08:38.300Z"
   },
   {
    "duration": 158,
    "start_time": "2022-11-17T16:08:38.552Z"
   },
   {
    "duration": 12,
    "start_time": "2022-11-17T16:08:38.907Z"
   },
   {
    "duration": 8,
    "start_time": "2022-11-17T16:08:38.972Z"
   },
   {
    "duration": 362,
    "start_time": "2022-11-17T16:08:39.274Z"
   },
   {
    "duration": 11,
    "start_time": "2022-11-17T16:08:40.554Z"
   },
   {
    "duration": 8,
    "start_time": "2022-11-17T16:08:40.831Z"
   },
   {
    "duration": 11,
    "start_time": "2022-11-17T16:08:40.891Z"
   },
   {
    "duration": 8,
    "start_time": "2022-11-17T16:08:41.180Z"
   },
   {
    "duration": 11,
    "start_time": "2022-11-17T16:08:41.245Z"
   },
   {
    "duration": 8,
    "start_time": "2022-11-17T16:08:41.506Z"
   },
   {
    "duration": 11,
    "start_time": "2022-11-17T16:08:41.925Z"
   },
   {
    "duration": 8,
    "start_time": "2022-11-17T16:08:42.186Z"
   },
   {
    "duration": 11,
    "start_time": "2022-11-17T16:08:42.264Z"
   },
   {
    "duration": 8,
    "start_time": "2022-11-17T16:08:42.525Z"
   },
   {
    "duration": 16,
    "start_time": "2022-11-17T16:08:42.591Z"
   },
   {
    "duration": 10,
    "start_time": "2022-11-17T16:08:42.868Z"
   },
   {
    "duration": 11,
    "start_time": "2022-11-17T16:08:43.292Z"
   },
   {
    "duration": 10,
    "start_time": "2022-11-17T16:08:43.555Z"
   },
   {
    "duration": 23,
    "start_time": "2022-11-17T16:08:46.552Z"
   },
   {
    "duration": 3,
    "start_time": "2022-11-17T16:08:46.626Z"
   },
   {
    "duration": 4,
    "start_time": "2022-11-17T16:08:47.070Z"
   },
   {
    "duration": 5,
    "start_time": "2022-11-17T16:08:47.121Z"
   },
   {
    "duration": 4,
    "start_time": "2022-11-17T16:08:56.315Z"
   },
   {
    "duration": 4,
    "start_time": "2022-11-17T16:08:57.214Z"
   },
   {
    "duration": 6,
    "start_time": "2022-11-17T16:08:58.344Z"
   },
   {
    "duration": 5,
    "start_time": "2022-11-17T16:09:52.406Z"
   },
   {
    "duration": 4,
    "start_time": "2022-11-17T16:09:53.233Z"
   },
   {
    "duration": 6,
    "start_time": "2022-11-17T16:09:54.155Z"
   },
   {
    "duration": 3,
    "start_time": "2022-11-17T16:09:55.015Z"
   },
   {
    "duration": 8,
    "start_time": "2022-11-17T16:09:55.926Z"
   },
   {
    "duration": 5,
    "start_time": "2022-11-17T16:13:36.492Z"
   },
   {
    "duration": 6,
    "start_time": "2022-11-17T16:14:06.745Z"
   },
   {
    "duration": 4,
    "start_time": "2022-11-17T16:14:11.134Z"
   },
   {
    "duration": 6,
    "start_time": "2022-11-17T16:14:12.001Z"
   },
   {
    "duration": 3,
    "start_time": "2022-11-17T16:14:13.044Z"
   },
   {
    "duration": 6,
    "start_time": "2022-11-17T16:14:14.043Z"
   },
   {
    "duration": 4,
    "start_time": "2022-11-17T16:14:33.663Z"
   },
   {
    "duration": 6,
    "start_time": "2022-11-17T16:14:49.122Z"
   },
   {
    "duration": 5,
    "start_time": "2022-11-17T16:14:51.175Z"
   },
   {
    "duration": 5,
    "start_time": "2022-11-17T16:15:26.260Z"
   },
   {
    "duration": 5,
    "start_time": "2022-11-17T16:15:27.197Z"
   },
   {
    "duration": 3,
    "start_time": "2022-11-17T16:15:28.119Z"
   },
   {
    "duration": 3,
    "start_time": "2022-11-17T16:15:30.670Z"
   },
   {
    "duration": 5,
    "start_time": "2022-11-17T16:15:31.676Z"
   },
   {
    "duration": 4,
    "start_time": "2022-11-17T16:16:30.995Z"
   },
   {
    "duration": 4,
    "start_time": "2022-11-17T16:16:35.655Z"
   },
   {
    "duration": 3,
    "start_time": "2022-11-17T17:01:13.167Z"
   },
   {
    "duration": 5,
    "start_time": "2022-11-17T17:19:38.001Z"
   },
   {
    "duration": 5,
    "start_time": "2022-11-17T17:20:08.434Z"
   },
   {
    "duration": 4,
    "start_time": "2022-11-17T17:20:22.445Z"
   },
   {
    "duration": 6,
    "start_time": "2022-11-17T17:20:34.290Z"
   },
   {
    "duration": 7,
    "start_time": "2022-11-17T17:20:44.125Z"
   },
   {
    "duration": 5,
    "start_time": "2022-11-17T17:21:17.210Z"
   },
   {
    "duration": 3,
    "start_time": "2022-11-17T17:24:55.260Z"
   },
   {
    "duration": 3,
    "start_time": "2022-11-17T17:30:28.497Z"
   },
   {
    "duration": 3,
    "start_time": "2022-11-17T17:30:29.009Z"
   },
   {
    "duration": 3,
    "start_time": "2022-11-17T17:30:29.702Z"
   },
   {
    "duration": 2,
    "start_time": "2022-11-17T17:30:30.365Z"
   },
   {
    "duration": 51,
    "start_time": "2022-11-17T17:30:36.897Z"
   },
   {
    "duration": 17,
    "start_time": "2022-11-17T17:30:38.396Z"
   },
   {
    "duration": 15,
    "start_time": "2022-11-17T17:30:40.878Z"
   },
   {
    "duration": 5,
    "start_time": "2022-11-17T17:30:51.766Z"
   },
   {
    "duration": 3,
    "start_time": "2022-11-17T17:30:57.408Z"
   },
   {
    "duration": 6,
    "start_time": "2022-11-17T17:30:59.453Z"
   },
   {
    "duration": 8,
    "start_time": "2022-11-17T17:31:02.344Z"
   },
   {
    "duration": 4,
    "start_time": "2022-11-17T17:31:03.186Z"
   },
   {
    "duration": 9,
    "start_time": "2022-11-17T17:31:04.769Z"
   },
   {
    "duration": 13,
    "start_time": "2022-11-17T17:31:11.008Z"
   },
   {
    "duration": 4,
    "start_time": "2022-11-17T17:31:54.843Z"
   },
   {
    "duration": 5,
    "start_time": "2022-11-17T17:31:55.392Z"
   },
   {
    "duration": 8,
    "start_time": "2022-11-17T17:31:55.815Z"
   },
   {
    "duration": 5,
    "start_time": "2022-11-17T17:31:56.196Z"
   },
   {
    "duration": 6,
    "start_time": "2022-11-17T17:31:56.534Z"
   },
   {
    "duration": 3,
    "start_time": "2022-11-17T18:04:37.801Z"
   },
   {
    "duration": 3,
    "start_time": "2022-11-17T18:04:37.857Z"
   },
   {
    "duration": 4,
    "start_time": "2022-11-17T18:04:38.095Z"
   },
   {
    "duration": 198,
    "start_time": "2022-11-17T18:04:38.155Z"
   },
   {
    "duration": 50,
    "start_time": "2022-11-17T18:04:38.485Z"
   },
   {
    "duration": 17,
    "start_time": "2022-11-17T18:04:38.782Z"
   },
   {
    "duration": 15,
    "start_time": "2022-11-17T18:04:39.084Z"
   },
   {
    "duration": 4,
    "start_time": "2022-11-17T18:04:40.234Z"
   },
   {
    "duration": 3,
    "start_time": "2022-11-17T18:04:40.558Z"
   },
   {
    "duration": 5,
    "start_time": "2022-11-17T18:04:40.882Z"
   },
   {
    "duration": 9,
    "start_time": "2022-11-17T18:04:41.267Z"
   },
   {
    "duration": 4,
    "start_time": "2022-11-17T18:04:41.530Z"
   },
   {
    "duration": 9,
    "start_time": "2022-11-17T18:04:41.871Z"
   },
   {
    "duration": 10,
    "start_time": "2022-11-17T18:04:42.215Z"
   },
   {
    "duration": 5,
    "start_time": "2022-11-17T18:04:42.676Z"
   },
   {
    "duration": 4,
    "start_time": "2022-11-17T18:04:42.930Z"
   },
   {
    "duration": 8,
    "start_time": "2022-11-17T18:04:43.278Z"
   },
   {
    "duration": 5,
    "start_time": "2022-11-17T18:04:43.626Z"
   },
   {
    "duration": 6,
    "start_time": "2022-11-17T18:04:44.001Z"
   },
   {
    "duration": 6,
    "start_time": "2022-11-17T18:04:44.718Z"
   },
   {
    "duration": 6,
    "start_time": "2022-11-17T18:04:44.817Z"
   },
   {
    "duration": 185,
    "start_time": "2022-11-17T18:04:45.804Z"
   },
   {
    "duration": 172,
    "start_time": "2022-11-17T18:04:46.148Z"
   },
   {
    "duration": 13,
    "start_time": "2022-11-17T18:04:47.499Z"
   },
   {
    "duration": 10,
    "start_time": "2022-11-17T18:04:47.566Z"
   },
   {
    "duration": 3,
    "start_time": "2022-11-17T18:04:47.892Z"
   },
   {
    "duration": 168,
    "start_time": "2022-11-17T18:04:48.177Z"
   },
   {
    "duration": 8,
    "start_time": "2022-11-17T18:04:48.548Z"
   },
   {
    "duration": 13,
    "start_time": "2022-11-17T18:04:48.634Z"
   },
   {
    "duration": 14,
    "start_time": "2022-11-17T18:04:48.914Z"
   },
   {
    "duration": 234,
    "start_time": "2022-11-17T18:04:48.989Z"
   },
   {
    "duration": 7,
    "start_time": "2022-11-17T18:04:49.698Z"
   },
   {
    "duration": 10,
    "start_time": "2022-11-17T18:04:49.707Z"
   },
   {
    "duration": 13,
    "start_time": "2022-11-17T18:04:49.980Z"
   },
   {
    "duration": 8,
    "start_time": "2022-11-17T18:04:50.051Z"
   },
   {
    "duration": 200,
    "start_time": "2022-11-17T18:04:50.352Z"
   },
   {
    "duration": 126,
    "start_time": "2022-11-17T18:04:50.776Z"
   },
   {
    "duration": 19,
    "start_time": "2022-11-17T18:04:51.049Z"
   },
   {
    "duration": 6,
    "start_time": "2022-11-17T18:04:51.809Z"
   },
   {
    "duration": 136,
    "start_time": "2022-11-17T18:04:52.127Z"
   },
   {
    "duration": 5,
    "start_time": "2022-11-17T18:04:52.265Z"
   },
   {
    "duration": 4,
    "start_time": "2022-11-17T18:04:52.489Z"
   },
   {
    "duration": 136,
    "start_time": "2022-11-17T18:04:52.550Z"
   },
   {
    "duration": 6,
    "start_time": "2022-11-17T18:04:52.841Z"
   },
   {
    "duration": 4,
    "start_time": "2022-11-17T18:04:52.919Z"
   },
   {
    "duration": 6,
    "start_time": "2022-11-17T18:04:53.601Z"
   },
   {
    "duration": 4,
    "start_time": "2022-11-17T18:04:53.923Z"
   },
   {
    "duration": 6,
    "start_time": "2022-11-17T18:04:54.014Z"
   },
   {
    "duration": 4,
    "start_time": "2022-11-17T18:04:54.285Z"
   },
   {
    "duration": 4,
    "start_time": "2022-11-17T18:04:54.342Z"
   },
   {
    "duration": 7,
    "start_time": "2022-11-17T18:04:54.737Z"
   },
   {
    "duration": 4,
    "start_time": "2022-11-17T18:04:55.028Z"
   },
   {
    "duration": 6,
    "start_time": "2022-11-17T18:04:55.111Z"
   },
   {
    "duration": 4,
    "start_time": "2022-11-17T18:04:55.402Z"
   },
   {
    "duration": 4,
    "start_time": "2022-11-17T18:04:55.478Z"
   },
   {
    "duration": 12,
    "start_time": "2022-11-17T18:04:56.116Z"
   },
   {
    "duration": 8,
    "start_time": "2022-11-17T18:04:56.186Z"
   },
   {
    "duration": 156,
    "start_time": "2022-11-17T18:04:56.494Z"
   },
   {
    "duration": 13,
    "start_time": "2022-11-17T18:04:56.796Z"
   },
   {
    "duration": 8,
    "start_time": "2022-11-17T18:04:56.853Z"
   },
   {
    "duration": 358,
    "start_time": "2022-11-17T18:04:57.139Z"
   },
   {
    "duration": 12,
    "start_time": "2022-11-17T18:04:58.211Z"
   },
   {
    "duration": 8,
    "start_time": "2022-11-17T18:04:58.508Z"
   },
   {
    "duration": 12,
    "start_time": "2022-11-17T18:04:58.572Z"
   },
   {
    "duration": 9,
    "start_time": "2022-11-17T18:04:58.844Z"
   },
   {
    "duration": 22,
    "start_time": "2022-11-17T18:04:58.915Z"
   },
   {
    "duration": 8,
    "start_time": "2022-11-17T18:04:59.197Z"
   },
   {
    "duration": 11,
    "start_time": "2022-11-17T18:04:59.602Z"
   },
   {
    "duration": 8,
    "start_time": "2022-11-17T18:04:59.890Z"
   },
   {
    "duration": 132,
    "start_time": "2022-11-17T18:04:59.967Z"
   },
   {
    "duration": 8,
    "start_time": "2022-11-17T18:05:00.238Z"
   },
   {
    "duration": 12,
    "start_time": "2022-11-17T18:05:00.570Z"
   },
   {
    "duration": 43,
    "start_time": "2022-11-17T18:05:00.584Z"
   },
   {
    "duration": 12,
    "start_time": "2022-11-17T18:05:00.997Z"
   },
   {
    "duration": 9,
    "start_time": "2022-11-17T18:05:01.302Z"
   },
   {
    "duration": 5,
    "start_time": "2022-11-17T18:05:03.218Z"
   },
   {
    "duration": 5,
    "start_time": "2022-11-17T18:05:03.260Z"
   },
   {
    "duration": 4,
    "start_time": "2022-11-17T18:05:03.345Z"
   },
   {
    "duration": 5,
    "start_time": "2022-11-17T18:05:03.611Z"
   },
   {
    "duration": 5,
    "start_time": "2022-11-17T18:05:03.678Z"
   },
   {
    "duration": 6,
    "start_time": "2022-11-17T18:05:04.721Z"
   },
   {
    "duration": 5,
    "start_time": "2022-11-17T18:05:04.804Z"
   },
   {
    "duration": 5,
    "start_time": "2022-11-17T18:05:05.085Z"
   },
   {
    "duration": 4,
    "start_time": "2022-11-17T18:05:05.161Z"
   },
   {
    "duration": 6,
    "start_time": "2022-11-17T18:05:05.476Z"
   },
   {
    "duration": 60,
    "start_time": "2022-11-17T18:30:35.240Z"
   },
   {
    "duration": 45,
    "start_time": "2022-11-17T18:36:52.963Z"
   },
   {
    "duration": 43,
    "start_time": "2022-11-18T05:04:11.187Z"
   },
   {
    "duration": 393,
    "start_time": "2022-11-18T05:04:21.215Z"
   },
   {
    "duration": 2,
    "start_time": "2022-11-18T05:04:21.610Z"
   },
   {
    "duration": 382,
    "start_time": "2022-11-18T05:04:21.613Z"
   },
   {
    "duration": 459,
    "start_time": "2022-11-18T05:04:21.997Z"
   },
   {
    "duration": 83,
    "start_time": "2022-11-18T05:04:22.458Z"
   },
   {
    "duration": 20,
    "start_time": "2022-11-18T05:04:22.557Z"
   },
   {
    "duration": 16,
    "start_time": "2022-11-18T05:04:22.863Z"
   },
   {
    "duration": 3,
    "start_time": "2022-11-18T05:04:24.235Z"
   },
   {
    "duration": 3,
    "start_time": "2022-11-18T05:04:24.594Z"
   },
   {
    "duration": 4,
    "start_time": "2022-11-18T05:04:25.030Z"
   },
   {
    "duration": 9,
    "start_time": "2022-11-18T05:04:25.735Z"
   },
   {
    "duration": 4,
    "start_time": "2022-11-18T05:04:26.083Z"
   },
   {
    "duration": 9,
    "start_time": "2022-11-18T05:04:26.663Z"
   },
   {
    "duration": 9,
    "start_time": "2022-11-18T05:04:27.016Z"
   },
   {
    "duration": 5,
    "start_time": "2022-11-18T05:04:27.546Z"
   },
   {
    "duration": 4,
    "start_time": "2022-11-18T05:04:31.039Z"
   },
   {
    "duration": 7,
    "start_time": "2022-11-18T05:04:31.799Z"
   },
   {
    "duration": 5,
    "start_time": "2022-11-18T05:04:32.177Z"
   },
   {
    "duration": 6,
    "start_time": "2022-11-18T05:04:32.501Z"
   },
   {
    "duration": 6,
    "start_time": "2022-11-18T05:04:33.217Z"
   },
   {
    "duration": 5,
    "start_time": "2022-11-18T05:04:33.597Z"
   },
   {
    "duration": 225,
    "start_time": "2022-11-18T05:04:44.088Z"
   },
   {
    "duration": 148,
    "start_time": "2022-11-18T05:04:47.066Z"
   },
   {
    "duration": 10,
    "start_time": "2022-11-18T05:04:51.462Z"
   },
   {
    "duration": 10,
    "start_time": "2022-11-18T05:04:52.544Z"
   },
   {
    "duration": 232,
    "start_time": "2022-11-18T05:05:00.132Z"
   },
   {
    "duration": 257,
    "start_time": "2022-11-18T05:05:13.003Z"
   },
   {
    "duration": 233,
    "start_time": "2022-11-18T05:05:26.844Z"
   },
   {
    "duration": 235,
    "start_time": "2022-11-18T05:05:40.903Z"
   },
   {
    "duration": 302,
    "start_time": "2022-11-18T05:05:47.369Z"
   },
   {
    "duration": 206,
    "start_time": "2022-11-18T05:05:53.039Z"
   },
   {
    "duration": 251,
    "start_time": "2022-11-18T05:06:19.843Z"
   },
   {
    "duration": 251,
    "start_time": "2022-11-18T05:06:43.792Z"
   },
   {
    "duration": 289,
    "start_time": "2022-11-18T05:06:53.975Z"
   },
   {
    "duration": 225,
    "start_time": "2022-11-18T05:07:01.717Z"
   },
   {
    "duration": 229,
    "start_time": "2022-11-18T05:07:08.151Z"
   },
   {
    "duration": 210,
    "start_time": "2022-11-18T05:07:49.523Z"
   },
   {
    "duration": 296,
    "start_time": "2022-11-18T05:08:11.428Z"
   },
   {
    "duration": 211,
    "start_time": "2022-11-18T05:08:40.647Z"
   },
   {
    "duration": 204,
    "start_time": "2022-11-18T05:08:55.011Z"
   },
   {
    "duration": 56,
    "start_time": "2022-11-18T05:11:45.354Z"
   },
   {
    "duration": 272,
    "start_time": "2022-11-18T05:12:08.590Z"
   },
   {
    "duration": 68,
    "start_time": "2022-11-18T05:13:52.563Z"
   },
   {
    "duration": 85,
    "start_time": "2022-11-18T05:17:49.379Z"
   },
   {
    "duration": 9,
    "start_time": "2022-11-18T05:20:50.330Z"
   },
   {
    "duration": 2,
    "start_time": "2022-11-18T05:21:06.392Z"
   },
   {
    "duration": 2,
    "start_time": "2022-11-18T05:21:06.468Z"
   },
   {
    "duration": 2,
    "start_time": "2022-11-18T05:21:06.940Z"
   },
   {
    "duration": 2,
    "start_time": "2022-11-18T05:21:07.200Z"
   },
   {
    "duration": 46,
    "start_time": "2022-11-18T05:21:07.745Z"
   },
   {
    "duration": 15,
    "start_time": "2022-11-18T05:21:09.005Z"
   },
   {
    "duration": 12,
    "start_time": "2022-11-18T05:21:09.328Z"
   },
   {
    "duration": 5,
    "start_time": "2022-11-18T05:21:16.372Z"
   },
   {
    "duration": 3,
    "start_time": "2022-11-18T05:21:22.921Z"
   },
   {
    "duration": 77,
    "start_time": "2022-11-18T05:22:30.370Z"
   },
   {
    "duration": 3,
    "start_time": "2022-11-18T05:22:59.177Z"
   },
   {
    "duration": 3,
    "start_time": "2022-11-18T05:23:00.088Z"
   },
   {
    "duration": 4,
    "start_time": "2022-11-18T05:23:08.025Z"
   },
   {
    "duration": 5,
    "start_time": "2022-11-18T05:23:17.957Z"
   },
   {
    "duration": 9,
    "start_time": "2022-11-18T05:23:19.019Z"
   },
   {
    "duration": 5,
    "start_time": "2022-11-18T05:23:25.804Z"
   },
   {
    "duration": 7,
    "start_time": "2022-11-18T05:23:26.293Z"
   },
   {
    "duration": 9,
    "start_time": "2022-11-18T05:23:26.615Z"
   },
   {
    "duration": 4,
    "start_time": "2022-11-18T05:23:26.968Z"
   },
   {
    "duration": 4,
    "start_time": "2022-11-18T05:23:34.446Z"
   },
   {
    "duration": 7,
    "start_time": "2022-11-18T05:23:34.855Z"
   },
   {
    "duration": 6,
    "start_time": "2022-11-18T05:23:35.462Z"
   },
   {
    "duration": 5,
    "start_time": "2022-11-18T05:23:36.651Z"
   },
   {
    "duration": 5,
    "start_time": "2022-11-18T05:23:44.591Z"
   },
   {
    "duration": 5,
    "start_time": "2022-11-18T05:23:46.736Z"
   },
   {
    "duration": 180,
    "start_time": "2022-11-18T05:24:05.597Z"
   },
   {
    "duration": 155,
    "start_time": "2022-11-18T05:24:08.198Z"
   },
   {
    "duration": 11,
    "start_time": "2022-11-18T05:24:16.049Z"
   },
   {
    "duration": 9,
    "start_time": "2022-11-18T05:24:17.281Z"
   },
   {
    "duration": 294,
    "start_time": "2022-11-18T05:24:23.837Z"
   },
   {
    "duration": 2,
    "start_time": "2022-11-18T05:24:27.459Z"
   },
   {
    "duration": 148,
    "start_time": "2022-11-18T05:24:28.513Z"
   },
   {
    "duration": 128,
    "start_time": "2022-11-18T05:24:49.882Z"
   },
   {
    "duration": 257,
    "start_time": "2022-11-18T05:53:31.465Z"
   },
   {
    "duration": 169,
    "start_time": "2022-11-18T05:54:33.348Z"
   },
   {
    "duration": 177,
    "start_time": "2022-11-18T05:54:49.036Z"
   },
   {
    "duration": 161,
    "start_time": "2022-11-18T05:55:14.262Z"
   },
   {
    "duration": 11,
    "start_time": "2022-11-18T05:55:15.935Z"
   },
   {
    "duration": 23,
    "start_time": "2022-11-18T05:55:15.948Z"
   },
   {
    "duration": 317,
    "start_time": "2022-11-18T05:55:59.693Z"
   },
   {
    "duration": 3,
    "start_time": "2022-11-18T05:56:13.094Z"
   },
   {
    "duration": 184,
    "start_time": "2022-11-18T05:56:14.033Z"
   },
   {
    "duration": 68,
    "start_time": "2022-11-18T05:57:11.232Z"
   },
   {
    "duration": 8,
    "start_time": "2022-11-18T05:57:36.453Z"
   },
   {
    "duration": 13,
    "start_time": "2022-11-18T05:57:36.710Z"
   },
   {
    "duration": 13,
    "start_time": "2022-11-18T05:57:37.134Z"
   },
   {
    "duration": 205,
    "start_time": "2022-11-18T06:04:08.925Z"
   },
   {
    "duration": 237,
    "start_time": "2022-11-18T06:05:48.011Z"
   },
   {
    "duration": 195,
    "start_time": "2022-11-18T06:06:28.591Z"
   },
   {
    "duration": 197,
    "start_time": "2022-11-18T06:06:36.796Z"
   },
   {
    "duration": 194,
    "start_time": "2022-11-18T06:07:56.811Z"
   },
   {
    "duration": 275,
    "start_time": "2022-11-18T06:09:36.939Z"
   },
   {
    "duration": 204,
    "start_time": "2022-11-18T06:09:47.426Z"
   },
   {
    "duration": 101,
    "start_time": "2022-11-18T06:11:26.920Z"
   },
   {
    "duration": 6,
    "start_time": "2022-11-18T06:11:47.920Z"
   },
   {
    "duration": 7,
    "start_time": "2022-11-18T06:12:27.291Z"
   },
   {
    "duration": 13,
    "start_time": "2022-11-18T06:12:29.096Z"
   },
   {
    "duration": 9,
    "start_time": "2022-11-18T06:12:30.538Z"
   },
   {
    "duration": 65,
    "start_time": "2022-11-18T06:13:16.104Z"
   },
   {
    "duration": 9,
    "start_time": "2022-11-18T06:13:27.771Z"
   },
   {
    "duration": 17,
    "start_time": "2022-11-18T06:13:28.397Z"
   },
   {
    "duration": 10,
    "start_time": "2022-11-18T06:13:28.999Z"
   },
   {
    "duration": 190,
    "start_time": "2022-11-18T06:13:31.228Z"
   },
   {
    "duration": 124,
    "start_time": "2022-11-18T06:14:06.858Z"
   },
   {
    "duration": 20,
    "start_time": "2022-11-18T06:14:13.088Z"
   },
   {
    "duration": 6,
    "start_time": "2022-11-18T06:14:17.461Z"
   },
   {
    "duration": 290,
    "start_time": "2022-11-18T06:14:18.611Z"
   },
   {
    "duration": 4,
    "start_time": "2022-11-18T06:14:24.422Z"
   },
   {
    "duration": 4,
    "start_time": "2022-11-18T06:14:25.512Z"
   },
   {
    "duration": 129,
    "start_time": "2022-11-18T06:14:27.375Z"
   },
   {
    "duration": 4,
    "start_time": "2022-11-18T06:14:32.829Z"
   },
   {
    "duration": 3,
    "start_time": "2022-11-18T06:14:33.773Z"
   },
   {
    "duration": 6,
    "start_time": "2022-11-18T06:14:37.705Z"
   },
   {
    "duration": 4,
    "start_time": "2022-11-18T06:14:37.791Z"
   },
   {
    "duration": 3,
    "start_time": "2022-11-18T06:14:38.148Z"
   },
   {
    "duration": 4,
    "start_time": "2022-11-18T06:14:38.224Z"
   },
   {
    "duration": 4,
    "start_time": "2022-11-18T06:14:39.283Z"
   },
   {
    "duration": 5,
    "start_time": "2022-11-18T06:14:49.853Z"
   },
   {
    "duration": 5,
    "start_time": "2022-11-18T06:14:50.120Z"
   },
   {
    "duration": 4,
    "start_time": "2022-11-18T06:14:50.199Z"
   },
   {
    "duration": 4,
    "start_time": "2022-11-18T06:14:50.438Z"
   },
   {
    "duration": 3,
    "start_time": "2022-11-18T06:14:50.511Z"
   },
   {
    "duration": 11,
    "start_time": "2022-11-18T06:14:59.736Z"
   },
   {
    "duration": 8,
    "start_time": "2022-11-18T06:14:59.811Z"
   },
   {
    "duration": 166,
    "start_time": "2022-11-18T06:15:05.200Z"
   },
   {
    "duration": 164,
    "start_time": "2022-11-18T06:15:47.529Z"
   },
   {
    "duration": 13,
    "start_time": "2022-11-18T06:15:58.744Z"
   },
   {
    "duration": 8,
    "start_time": "2022-11-18T06:15:59.960Z"
   },
   {
    "duration": 392,
    "start_time": "2022-11-18T06:16:33.846Z"
   },
   {
    "duration": 372,
    "start_time": "2022-11-18T06:29:26.714Z"
   },
   {
    "duration": 10,
    "start_time": "2022-11-18T06:32:48.104Z"
   },
   {
    "duration": 12,
    "start_time": "2022-11-18T06:32:49.315Z"
   },
   {
    "duration": 157,
    "start_time": "2022-11-18T06:33:04.963Z"
   },
   {
    "duration": 14,
    "start_time": "2022-11-18T06:38:55.158Z"
   },
   {
    "duration": 10,
    "start_time": "2022-11-18T06:38:56.378Z"
   },
   {
    "duration": 157,
    "start_time": "2022-11-18T06:39:01.959Z"
   },
   {
    "duration": 5,
    "start_time": "2022-11-18T06:46:32.781Z"
   },
   {
    "duration": 9,
    "start_time": "2022-11-18T06:46:39.831Z"
   },
   {
    "duration": 15,
    "start_time": "2022-11-18T06:46:40.813Z"
   },
   {
    "duration": 10,
    "start_time": "2022-11-18T06:46:41.931Z"
   },
   {
    "duration": 191,
    "start_time": "2022-11-18T06:46:57.180Z"
   },
   {
    "duration": 131,
    "start_time": "2022-11-18T06:47:12.994Z"
   },
   {
    "duration": 20,
    "start_time": "2022-11-18T06:47:13.864Z"
   },
   {
    "duration": 6,
    "start_time": "2022-11-18T06:47:20.637Z"
   },
   {
    "duration": 164,
    "start_time": "2022-11-18T06:47:21.689Z"
   },
   {
    "duration": 4,
    "start_time": "2022-11-18T06:47:29.866Z"
   },
   {
    "duration": 4,
    "start_time": "2022-11-18T06:47:30.735Z"
   },
   {
    "duration": 137,
    "start_time": "2022-11-18T06:47:31.898Z"
   },
   {
    "duration": 4,
    "start_time": "2022-11-18T06:47:38.496Z"
   },
   {
    "duration": 5,
    "start_time": "2022-11-18T06:47:39.370Z"
   },
   {
    "duration": 5,
    "start_time": "2022-11-18T06:47:49.500Z"
   },
   {
    "duration": 3,
    "start_time": "2022-11-18T06:47:49.963Z"
   },
   {
    "duration": 4,
    "start_time": "2022-11-18T06:47:50.044Z"
   },
   {
    "duration": 4,
    "start_time": "2022-11-18T06:47:50.375Z"
   },
   {
    "duration": 4,
    "start_time": "2022-11-18T06:47:50.466Z"
   },
   {
    "duration": 2,
    "start_time": "2022-11-18T06:48:28.860Z"
   },
   {
    "duration": 2,
    "start_time": "2022-11-18T06:48:28.927Z"
   },
   {
    "duration": 2,
    "start_time": "2022-11-18T06:48:29.152Z"
   },
   {
    "duration": 2,
    "start_time": "2022-11-18T06:48:29.235Z"
   },
   {
    "duration": 45,
    "start_time": "2022-11-18T06:48:29.710Z"
   },
   {
    "duration": 17,
    "start_time": "2022-11-18T06:48:30.024Z"
   },
   {
    "duration": 14,
    "start_time": "2022-11-18T06:48:30.358Z"
   },
   {
    "duration": 4,
    "start_time": "2022-11-18T06:48:31.735Z"
   },
   {
    "duration": 2,
    "start_time": "2022-11-18T06:48:32.099Z"
   },
   {
    "duration": 4,
    "start_time": "2022-11-18T06:48:32.372Z"
   },
   {
    "duration": 3,
    "start_time": "2022-11-18T06:48:33.081Z"
   },
   {
    "duration": 7,
    "start_time": "2022-11-18T06:48:33.656Z"
   },
   {
    "duration": 5,
    "start_time": "2022-11-18T06:48:34.356Z"
   },
   {
    "duration": 8,
    "start_time": "2022-11-18T06:48:34.708Z"
   },
   {
    "duration": 10,
    "start_time": "2022-11-18T06:48:35.059Z"
   },
   {
    "duration": 4,
    "start_time": "2022-11-18T06:48:35.401Z"
   },
   {
    "duration": 4,
    "start_time": "2022-11-18T06:48:36.088Z"
   },
   {
    "duration": 8,
    "start_time": "2022-11-18T06:48:36.624Z"
   },
   {
    "duration": 5,
    "start_time": "2022-11-18T06:48:36.994Z"
   },
   {
    "duration": 5,
    "start_time": "2022-11-18T06:48:37.369Z"
   },
   {
    "duration": 6,
    "start_time": "2022-11-18T06:48:38.104Z"
   },
   {
    "duration": 6,
    "start_time": "2022-11-18T06:48:38.449Z"
   },
   {
    "duration": 177,
    "start_time": "2022-11-18T06:48:39.535Z"
   },
   {
    "duration": 161,
    "start_time": "2022-11-18T06:48:40.095Z"
   },
   {
    "duration": 13,
    "start_time": "2022-11-18T06:48:42.627Z"
   },
   {
    "duration": 10,
    "start_time": "2022-11-18T06:48:43.339Z"
   },
   {
    "duration": 301,
    "start_time": "2022-11-18T06:48:44.416Z"
   },
   {
    "duration": 2,
    "start_time": "2022-11-18T06:48:47.861Z"
   },
   {
    "duration": 157,
    "start_time": "2022-11-18T06:48:49.006Z"
   },
   {
    "duration": 9,
    "start_time": "2022-11-18T06:48:52.831Z"
   },
   {
    "duration": 14,
    "start_time": "2022-11-18T06:48:53.439Z"
   },
   {
    "duration": 14,
    "start_time": "2022-11-18T06:48:53.514Z"
   },
   {
    "duration": 214,
    "start_time": "2022-11-18T06:49:02.774Z"
   },
   {
    "duration": 6,
    "start_time": "2022-11-18T06:49:10.354Z"
   },
   {
    "duration": 7,
    "start_time": "2022-11-18T06:49:13.377Z"
   },
   {
    "duration": 14,
    "start_time": "2022-11-18T06:49:14.201Z"
   },
   {
    "duration": 8,
    "start_time": "2022-11-18T06:49:15.139Z"
   },
   {
    "duration": 183,
    "start_time": "2022-11-18T06:49:16.534Z"
   },
   {
    "duration": 116,
    "start_time": "2022-11-18T06:49:20.500Z"
   },
   {
    "duration": 16,
    "start_time": "2022-11-18T06:49:21.381Z"
   },
   {
    "duration": 5,
    "start_time": "2022-11-18T06:49:26.299Z"
   },
   {
    "duration": 300,
    "start_time": "2022-11-18T06:49:28.928Z"
   },
   {
    "duration": 4,
    "start_time": "2022-11-18T06:49:30.290Z"
   },
   {
    "duration": 4,
    "start_time": "2022-11-18T06:49:31.420Z"
   },
   {
    "duration": 145,
    "start_time": "2022-11-18T06:49:32.511Z"
   },
   {
    "duration": 4,
    "start_time": "2022-11-18T06:49:37.948Z"
   },
   {
    "duration": 4,
    "start_time": "2022-11-18T06:49:38.702Z"
   },
   {
    "duration": 5,
    "start_time": "2022-11-18T06:49:42.723Z"
   },
   {
    "duration": 3,
    "start_time": "2022-11-18T06:49:43.727Z"
   },
   {
    "duration": 4,
    "start_time": "2022-11-18T06:49:44.615Z"
   },
   {
    "duration": 4,
    "start_time": "2022-11-18T06:49:58.321Z"
   },
   {
    "duration": 5,
    "start_time": "2022-11-18T06:49:59.170Z"
   },
   {
    "duration": 5,
    "start_time": "2022-11-18T06:50:00.145Z"
   },
   {
    "duration": 24,
    "start_time": "2022-11-18T06:50:38.691Z"
   },
   {
    "duration": 3,
    "start_time": "2022-11-18T06:52:43.778Z"
   },
   {
    "duration": 110,
    "start_time": "2022-11-18T06:52:43.847Z"
   },
   {
    "duration": 3,
    "start_time": "2022-11-18T06:52:44.132Z"
   },
   {
    "duration": 4,
    "start_time": "2022-11-18T06:52:44.207Z"
   },
   {
    "duration": 47,
    "start_time": "2022-11-18T06:52:44.522Z"
   },
   {
    "duration": 17,
    "start_time": "2022-11-18T06:52:44.864Z"
   },
   {
    "duration": 15,
    "start_time": "2022-11-18T06:52:45.191Z"
   },
   {
    "duration": 4,
    "start_time": "2022-11-18T06:52:46.565Z"
   },
   {
    "duration": 3,
    "start_time": "2022-11-18T06:52:46.919Z"
   },
   {
    "duration": 5,
    "start_time": "2022-11-18T06:52:47.221Z"
   },
   {
    "duration": 5,
    "start_time": "2022-11-18T06:52:47.911Z"
   },
   {
    "duration": 7,
    "start_time": "2022-11-18T06:52:48.347Z"
   },
   {
    "duration": 6,
    "start_time": "2022-11-18T06:52:48.683Z"
   },
   {
    "duration": 10,
    "start_time": "2022-11-18T06:52:49.018Z"
   },
   {
    "duration": 14,
    "start_time": "2022-11-18T06:52:49.382Z"
   },
   {
    "duration": 6,
    "start_time": "2022-11-18T06:52:49.737Z"
   },
   {
    "duration": 4,
    "start_time": "2022-11-18T06:52:50.363Z"
   },
   {
    "duration": 9,
    "start_time": "2022-11-18T06:52:50.719Z"
   },
   {
    "duration": 5,
    "start_time": "2022-11-18T06:52:51.062Z"
   },
   {
    "duration": 5,
    "start_time": "2022-11-18T06:52:51.434Z"
   },
   {
    "duration": 5,
    "start_time": "2022-11-18T06:52:52.123Z"
   },
   {
    "duration": 6,
    "start_time": "2022-11-18T06:52:52.477Z"
   },
   {
    "duration": 184,
    "start_time": "2022-11-18T06:52:53.748Z"
   },
   {
    "duration": 153,
    "start_time": "2022-11-18T06:52:54.387Z"
   },
   {
    "duration": 12,
    "start_time": "2022-11-18T06:52:55.134Z"
   },
   {
    "duration": 9,
    "start_time": "2022-11-18T06:52:55.211Z"
   },
   {
    "duration": 279,
    "start_time": "2022-11-18T06:52:55.501Z"
   },
   {
    "duration": 3,
    "start_time": "2022-11-18T06:52:56.231Z"
   },
   {
    "duration": 173,
    "start_time": "2022-11-18T06:52:56.308Z"
   },
   {
    "duration": 7,
    "start_time": "2022-11-18T06:52:57.007Z"
   },
   {
    "duration": 12,
    "start_time": "2022-11-18T06:52:57.278Z"
   },
   {
    "duration": 13,
    "start_time": "2022-11-18T06:52:57.350Z"
   },
   {
    "duration": 211,
    "start_time": "2022-11-18T06:52:57.639Z"
   },
   {
    "duration": 7,
    "start_time": "2022-11-18T06:53:00.113Z"
   },
   {
    "duration": 7,
    "start_time": "2022-11-18T06:53:09.778Z"
   },
   {
    "duration": 14,
    "start_time": "2022-11-18T06:53:12.876Z"
   },
   {
    "duration": 9,
    "start_time": "2022-11-18T06:53:13.718Z"
   },
   {
    "duration": 190,
    "start_time": "2022-11-18T06:53:14.590Z"
   },
   {
    "duration": 114,
    "start_time": "2022-11-18T06:53:17.485Z"
   },
   {
    "duration": 18,
    "start_time": "2022-11-18T06:53:18.027Z"
   },
   {
    "duration": 6,
    "start_time": "2022-11-18T06:53:18.842Z"
   },
   {
    "duration": 151,
    "start_time": "2022-11-18T06:53:19.162Z"
   },
   {
    "duration": 3,
    "start_time": "2022-11-18T06:53:19.315Z"
   },
   {
    "duration": 4,
    "start_time": "2022-11-18T06:53:20.975Z"
   },
   {
    "duration": 163,
    "start_time": "2022-11-18T06:53:21.679Z"
   },
   {
    "duration": 5,
    "start_time": "2022-11-18T06:53:26.252Z"
   },
   {
    "duration": 3,
    "start_time": "2022-11-18T06:53:27.385Z"
   },
   {
    "duration": 35,
    "start_time": "2022-11-18T06:53:32.477Z"
   },
   {
    "duration": 5,
    "start_time": "2022-11-18T06:53:33.663Z"
   },
   {
    "duration": 4,
    "start_time": "2022-11-18T06:53:36.088Z"
   },
   {
    "duration": 4,
    "start_time": "2022-11-18T06:53:37.002Z"
   },
   {
    "duration": 8,
    "start_time": "2022-11-18T06:54:55.586Z"
   },
   {
    "duration": 5,
    "start_time": "2022-11-18T06:55:09.714Z"
   },
   {
    "duration": 4,
    "start_time": "2022-11-18T06:55:10.599Z"
   },
   {
    "duration": 5,
    "start_time": "2022-11-18T06:55:11.562Z"
   },
   {
    "duration": 7,
    "start_time": "2022-11-18T06:55:28.896Z"
   },
   {
    "duration": 7,
    "start_time": "2022-11-18T06:55:56.559Z"
   },
   {
    "duration": 4,
    "start_time": "2022-11-18T06:55:57.446Z"
   },
   {
    "duration": 4,
    "start_time": "2022-11-18T06:55:58.650Z"
   },
   {
    "duration": 4,
    "start_time": "2022-11-18T06:55:59.811Z"
   },
   {
    "duration": 5,
    "start_time": "2022-11-18T06:56:00.763Z"
   },
   {
    "duration": 5,
    "start_time": "2022-11-18T07:00:55.901Z"
   },
   {
    "duration": 6,
    "start_time": "2022-11-18T07:01:15.657Z"
   },
   {
    "duration": 4,
    "start_time": "2022-11-18T07:01:16.749Z"
   },
   {
    "duration": 4,
    "start_time": "2022-11-18T07:01:17.950Z"
   },
   {
    "duration": 6,
    "start_time": "2022-11-18T07:01:38.214Z"
   },
   {
    "duration": 6,
    "start_time": "2022-11-18T07:02:12.299Z"
   },
   {
    "duration": 13,
    "start_time": "2022-11-18T07:02:12.391Z"
   },
   {
    "duration": 8,
    "start_time": "2022-11-18T07:02:12.671Z"
   },
   {
    "duration": 185,
    "start_time": "2022-11-18T07:02:12.758Z"
   },
   {
    "duration": 115,
    "start_time": "2022-11-18T07:02:13.446Z"
   },
   {
    "duration": 17,
    "start_time": "2022-11-18T07:02:13.563Z"
   },
   {
    "duration": 5,
    "start_time": "2022-11-18T07:02:15.395Z"
   },
   {
    "duration": 145,
    "start_time": "2022-11-18T07:02:16.071Z"
   },
   {
    "duration": 4,
    "start_time": "2022-11-18T07:02:16.710Z"
   },
   {
    "duration": 4,
    "start_time": "2022-11-18T07:02:17.231Z"
   },
   {
    "duration": 152,
    "start_time": "2022-11-18T07:02:23.934Z"
   },
   {
    "duration": 4,
    "start_time": "2022-11-18T07:02:24.553Z"
   },
   {
    "duration": 4,
    "start_time": "2022-11-18T07:02:29.598Z"
   },
   {
    "duration": 7,
    "start_time": "2022-11-18T07:02:41.033Z"
   },
   {
    "duration": 4,
    "start_time": "2022-11-18T07:02:41.553Z"
   },
   {
    "duration": 4,
    "start_time": "2022-11-18T07:02:41.641Z"
   },
   {
    "duration": 3,
    "start_time": "2022-11-18T07:03:02.936Z"
   },
   {
    "duration": 4,
    "start_time": "2022-11-18T07:03:03.892Z"
   },
   {
    "duration": 7,
    "start_time": "2022-11-18T07:09:34.183Z"
   },
   {
    "duration": 5,
    "start_time": "2022-11-18T07:09:34.266Z"
   },
   {
    "duration": 3,
    "start_time": "2022-11-18T07:09:34.741Z"
   },
   {
    "duration": 4,
    "start_time": "2022-11-18T07:09:35.908Z"
   },
   {
    "duration": 4,
    "start_time": "2022-11-18T07:09:37.234Z"
   },
   {
    "duration": 11,
    "start_time": "2022-11-18T07:11:23.704Z"
   },
   {
    "duration": 9,
    "start_time": "2022-11-18T07:11:25.809Z"
   },
   {
    "duration": 137,
    "start_time": "2022-11-18T07:11:33.034Z"
   },
   {
    "duration": 10,
    "start_time": "2022-11-18T07:11:55.233Z"
   },
   {
    "duration": 10,
    "start_time": "2022-11-18T07:11:56.806Z"
   },
   {
    "duration": 364,
    "start_time": "2022-11-18T07:12:00.668Z"
   },
   {
    "duration": 11,
    "start_time": "2022-11-18T07:30:25.253Z"
   },
   {
    "duration": 2,
    "start_time": "2022-11-18T07:51:37.434Z"
   },
   {
    "duration": 3,
    "start_time": "2022-11-18T07:51:37.538Z"
   },
   {
    "duration": 3,
    "start_time": "2022-11-18T07:51:37.791Z"
   },
   {
    "duration": 3,
    "start_time": "2022-11-18T07:51:37.856Z"
   },
   {
    "duration": 49,
    "start_time": "2022-11-18T07:51:38.211Z"
   },
   {
    "duration": 18,
    "start_time": "2022-11-18T07:51:38.935Z"
   },
   {
    "duration": 15,
    "start_time": "2022-11-18T07:51:39.238Z"
   },
   {
    "duration": 4,
    "start_time": "2022-11-18T07:51:40.784Z"
   },
   {
    "duration": 3,
    "start_time": "2022-11-18T07:51:41.118Z"
   },
   {
    "duration": 3,
    "start_time": "2022-11-18T07:51:41.411Z"
   },
   {
    "duration": 4,
    "start_time": "2022-11-18T07:51:42.086Z"
   },
   {
    "duration": 7,
    "start_time": "2022-11-18T07:51:42.534Z"
   },
   {
    "duration": 4,
    "start_time": "2022-11-18T07:51:42.852Z"
   },
   {
    "duration": 8,
    "start_time": "2022-11-18T07:51:43.590Z"
   },
   {
    "duration": 14,
    "start_time": "2022-11-18T07:51:43.916Z"
   },
   {
    "duration": 5,
    "start_time": "2022-11-18T07:51:44.256Z"
   },
   {
    "duration": 4,
    "start_time": "2022-11-18T07:51:44.671Z"
   },
   {
    "duration": 16,
    "start_time": "2022-11-18T07:51:45.014Z"
   },
   {
    "duration": 6,
    "start_time": "2022-11-18T07:51:45.336Z"
   },
   {
    "duration": 5,
    "start_time": "2022-11-18T07:51:45.673Z"
   },
   {
    "duration": 5,
    "start_time": "2022-11-18T07:51:45.914Z"
   },
   {
    "duration": 10,
    "start_time": "2022-11-18T07:51:46.617Z"
   },
   {
    "duration": 6,
    "start_time": "2022-11-18T07:51:46.980Z"
   },
   {
    "duration": 191,
    "start_time": "2022-11-18T07:51:48.012Z"
   },
   {
    "duration": 163,
    "start_time": "2022-11-18T07:51:48.436Z"
   },
   {
    "duration": 14,
    "start_time": "2022-11-18T07:51:49.143Z"
   },
   {
    "duration": 10,
    "start_time": "2022-11-18T07:51:49.415Z"
   },
   {
    "duration": 327,
    "start_time": "2022-11-18T07:51:49.517Z"
   },
   {
    "duration": 4,
    "start_time": "2022-11-18T07:51:50.611Z"
   },
   {
    "duration": 346,
    "start_time": "2022-11-18T07:51:50.895Z"
   },
   {
    "duration": 8,
    "start_time": "2022-11-18T07:51:52.236Z"
   },
   {
    "duration": 15,
    "start_time": "2022-11-18T07:51:52.308Z"
   },
   {
    "duration": 19,
    "start_time": "2022-11-18T07:51:52.791Z"
   },
   {
    "duration": 223,
    "start_time": "2022-11-18T07:51:52.875Z"
   },
   {
    "duration": 6,
    "start_time": "2022-11-18T07:51:56.169Z"
   },
   {
    "duration": 7,
    "start_time": "2022-11-18T07:51:56.793Z"
   },
   {
    "duration": 13,
    "start_time": "2022-11-18T07:51:56.883Z"
   },
   {
    "duration": 9,
    "start_time": "2022-11-18T07:51:57.169Z"
   },
   {
    "duration": 204,
    "start_time": "2022-11-18T07:51:57.269Z"
   },
   {
    "duration": 122,
    "start_time": "2022-11-18T07:51:57.901Z"
   },
   {
    "duration": 25,
    "start_time": "2022-11-18T07:51:58.027Z"
   },
   {
    "duration": 6,
    "start_time": "2022-11-18T07:51:58.982Z"
   },
   {
    "duration": 167,
    "start_time": "2022-11-18T07:51:59.070Z"
   },
   {
    "duration": 4,
    "start_time": "2022-11-18T07:51:59.335Z"
   },
   {
    "duration": 4,
    "start_time": "2022-11-18T07:51:59.406Z"
   },
   {
    "duration": 156,
    "start_time": "2022-11-18T07:51:59.704Z"
   },
   {
    "duration": 4,
    "start_time": "2022-11-18T07:51:59.861Z"
   },
   {
    "duration": 5,
    "start_time": "2022-11-18T07:52:00.046Z"
   },
   {
    "duration": 2,
    "start_time": "2022-11-18T07:52:00.748Z"
   },
   {
    "duration": 9,
    "start_time": "2022-11-18T07:52:00.817Z"
   },
   {
    "duration": 2,
    "start_time": "2022-11-18T07:52:01.107Z"
   },
   {
    "duration": 3,
    "start_time": "2022-11-18T07:52:01.197Z"
   },
   {
    "duration": 3,
    "start_time": "2022-11-18T07:52:01.468Z"
   },
   {
    "duration": 6,
    "start_time": "2022-11-18T07:52:01.903Z"
   },
   {
    "duration": 5,
    "start_time": "2022-11-18T07:52:02.436Z"
   },
   {
    "duration": 16,
    "start_time": "2022-11-18T07:52:02.520Z"
   },
   {
    "duration": 5,
    "start_time": "2022-11-18T07:52:04.452Z"
   },
   {
    "duration": 5,
    "start_time": "2022-11-18T07:52:05.340Z"
   },
   {
    "duration": 11,
    "start_time": "2022-11-18T07:53:00.955Z"
   },
   {
    "duration": 9,
    "start_time": "2022-11-18T07:53:02.051Z"
   },
   {
    "duration": 156,
    "start_time": "2022-11-18T07:53:09.589Z"
   },
   {
    "duration": 21,
    "start_time": "2022-11-18T07:53:12.518Z"
   },
   {
    "duration": 7,
    "start_time": "2022-11-18T07:53:13.348Z"
   },
   {
    "duration": 377,
    "start_time": "2022-11-18T07:53:14.611Z"
   },
   {
    "duration": 22,
    "start_time": "2022-11-18T07:53:35.716Z"
   },
   {
    "duration": 8,
    "start_time": "2022-11-18T07:53:37.158Z"
   },
   {
    "duration": 11,
    "start_time": "2022-11-18T07:53:37.767Z"
   },
   {
    "duration": 10,
    "start_time": "2022-11-18T07:53:37.844Z"
   },
   {
    "duration": 23,
    "start_time": "2022-11-18T07:53:38.118Z"
   },
   {
    "duration": 7,
    "start_time": "2022-11-18T07:53:38.199Z"
   },
   {
    "duration": 11,
    "start_time": "2022-11-18T07:53:38.863Z"
   },
   {
    "duration": 8,
    "start_time": "2022-11-18T07:53:39.207Z"
   },
   {
    "duration": 11,
    "start_time": "2022-11-18T07:53:39.289Z"
   },
   {
    "duration": 8,
    "start_time": "2022-11-18T07:53:39.563Z"
   },
   {
    "duration": 11,
    "start_time": "2022-11-18T07:53:39.640Z"
   },
   {
    "duration": 11,
    "start_time": "2022-11-18T07:53:39.926Z"
   },
   {
    "duration": 10,
    "start_time": "2022-11-18T07:53:40.639Z"
   },
   {
    "duration": 12,
    "start_time": "2022-11-18T07:53:40.713Z"
   },
   {
    "duration": 3,
    "start_time": "2022-11-18T09:24:12.314Z"
   },
   {
    "duration": 3,
    "start_time": "2022-11-18T09:24:12.392Z"
   },
   {
    "duration": 3,
    "start_time": "2022-11-18T09:24:12.630Z"
   },
   {
    "duration": 3,
    "start_time": "2022-11-18T09:24:12.704Z"
   },
   {
    "duration": 50,
    "start_time": "2022-11-18T09:24:13.038Z"
   },
   {
    "duration": 23,
    "start_time": "2022-11-18T09:24:13.441Z"
   },
   {
    "duration": 22,
    "start_time": "2022-11-18T09:24:13.742Z"
   },
   {
    "duration": 8,
    "start_time": "2022-11-18T09:24:15.532Z"
   },
   {
    "duration": 3,
    "start_time": "2022-11-18T09:24:15.859Z"
   },
   {
    "duration": 4,
    "start_time": "2022-11-18T09:24:16.138Z"
   },
   {
    "duration": 6,
    "start_time": "2022-11-18T09:24:17.228Z"
   },
   {
    "duration": 8,
    "start_time": "2022-11-18T09:24:18.009Z"
   },
   {
    "duration": 5,
    "start_time": "2022-11-18T09:24:19.183Z"
   },
   {
    "duration": 8,
    "start_time": "2022-11-18T09:24:20.157Z"
   },
   {
    "duration": 10,
    "start_time": "2022-11-18T09:24:22.037Z"
   },
   {
    "duration": 6,
    "start_time": "2022-11-18T09:24:24.175Z"
   },
   {
    "duration": 5,
    "start_time": "2022-11-18T09:24:26.615Z"
   },
   {
    "duration": 9,
    "start_time": "2022-11-18T09:24:27.148Z"
   },
   {
    "duration": 5,
    "start_time": "2022-11-18T09:24:27.510Z"
   },
   {
    "duration": 7,
    "start_time": "2022-11-18T09:24:27.863Z"
   },
   {
    "duration": 6,
    "start_time": "2022-11-18T09:24:28.392Z"
   },
   {
    "duration": 6,
    "start_time": "2022-11-18T09:24:29.164Z"
   },
   {
    "duration": 6,
    "start_time": "2022-11-18T09:24:29.479Z"
   },
   {
    "duration": 224,
    "start_time": "2022-11-18T09:24:30.616Z"
   },
   {
    "duration": 240,
    "start_time": "2022-11-18T09:24:31.509Z"
   },
   {
    "duration": 16,
    "start_time": "2022-11-18T09:24:36.040Z"
   },
   {
    "duration": 13,
    "start_time": "2022-11-18T09:24:36.320Z"
   },
   {
    "duration": 321,
    "start_time": "2022-11-18T09:24:36.411Z"
   },
   {
    "duration": 4,
    "start_time": "2022-11-18T09:24:39.353Z"
   },
   {
    "duration": 160,
    "start_time": "2022-11-18T09:24:40.771Z"
   },
   {
    "duration": 9,
    "start_time": "2022-11-18T09:24:50.041Z"
   },
   {
    "duration": 14,
    "start_time": "2022-11-18T09:24:50.942Z"
   },
   {
    "duration": 16,
    "start_time": "2022-11-18T09:24:51.946Z"
   },
   {
    "duration": 223,
    "start_time": "2022-11-18T09:24:53.168Z"
   },
   {
    "duration": 11,
    "start_time": "2022-11-18T09:25:06.916Z"
   },
   {
    "duration": 7,
    "start_time": "2022-11-18T09:25:10.161Z"
   },
   {
    "duration": 14,
    "start_time": "2022-11-18T09:25:11.704Z"
   },
   {
    "duration": 8,
    "start_time": "2022-11-18T09:25:12.856Z"
   },
   {
    "duration": 209,
    "start_time": "2022-11-18T09:25:17.130Z"
   },
   {
    "duration": 132,
    "start_time": "2022-11-18T09:25:23.358Z"
   },
   {
    "duration": 19,
    "start_time": "2022-11-18T09:25:23.886Z"
   },
   {
    "duration": 8,
    "start_time": "2022-11-18T09:25:27.319Z"
   },
   {
    "duration": 161,
    "start_time": "2022-11-18T09:25:28.801Z"
   },
   {
    "duration": 4,
    "start_time": "2022-11-18T09:25:30.276Z"
   },
   {
    "duration": 5,
    "start_time": "2022-11-18T09:26:01.011Z"
   },
   {
    "duration": 220,
    "start_time": "2022-11-18T09:26:02.537Z"
   },
   {
    "duration": 4,
    "start_time": "2022-11-18T09:26:03.406Z"
   },
   {
    "duration": 5,
    "start_time": "2022-11-18T09:26:04.186Z"
   },
   {
    "duration": 4,
    "start_time": "2022-11-18T09:26:07.368Z"
   },
   {
    "duration": 3,
    "start_time": "2022-11-18T09:26:07.442Z"
   },
   {
    "duration": 2,
    "start_time": "2022-11-18T09:26:08.169Z"
   },
   {
    "duration": 2,
    "start_time": "2022-11-18T09:26:08.252Z"
   },
   {
    "duration": 2,
    "start_time": "2022-11-18T09:26:08.755Z"
   },
   {
    "duration": 6,
    "start_time": "2022-11-18T09:26:21.773Z"
   },
   {
    "duration": 4,
    "start_time": "2022-11-18T09:26:22.662Z"
   },
   {
    "duration": 3,
    "start_time": "2022-11-18T09:26:43.340Z"
   },
   {
    "duration": 3,
    "start_time": "2022-11-18T09:26:43.643Z"
   },
   {
    "duration": 3,
    "start_time": "2022-11-18T09:26:43.775Z"
   },
   {
    "duration": 3,
    "start_time": "2022-11-18T09:26:43.978Z"
   },
   {
    "duration": 3,
    "start_time": "2022-11-18T09:26:44.051Z"
   },
   {
    "duration": 7,
    "start_time": "2022-11-18T09:26:45.856Z"
   },
   {
    "duration": 5,
    "start_time": "2022-11-18T09:26:46.313Z"
   },
   {
    "duration": 5,
    "start_time": "2022-11-18T09:26:46.380Z"
   },
   {
    "duration": 4,
    "start_time": "2022-11-18T09:26:47.602Z"
   },
   {
    "duration": 4,
    "start_time": "2022-11-18T09:26:48.475Z"
   },
   {
    "duration": 17,
    "start_time": "2022-11-18T09:26:54.193Z"
   },
   {
    "duration": 9,
    "start_time": "2022-11-18T09:26:54.787Z"
   },
   {
    "duration": 236,
    "start_time": "2022-11-18T09:26:59.740Z"
   },
   {
    "duration": 10,
    "start_time": "2022-11-18T09:27:02.739Z"
   },
   {
    "duration": 12,
    "start_time": "2022-11-18T09:27:07.805Z"
   },
   {
    "duration": 427,
    "start_time": "2022-11-18T09:27:08.959Z"
   },
   {
    "duration": 13,
    "start_time": "2022-11-18T09:29:04.943Z"
   },
   {
    "duration": 9,
    "start_time": "2022-11-18T09:29:05.009Z"
   },
   {
    "duration": 11,
    "start_time": "2022-11-18T09:29:06.164Z"
   },
   {
    "duration": 8,
    "start_time": "2022-11-18T09:29:06.802Z"
   },
   {
    "duration": 14,
    "start_time": "2022-11-18T09:29:07.085Z"
   },
   {
    "duration": 10,
    "start_time": "2022-11-18T09:29:07.157Z"
   },
   {
    "duration": 10,
    "start_time": "2022-11-18T09:42:19.510Z"
   },
   {
    "duration": 8,
    "start_time": "2022-11-18T09:42:20.328Z"
   },
   {
    "duration": 12,
    "start_time": "2022-11-18T09:42:24.844Z"
   },
   {
    "duration": 9,
    "start_time": "2022-11-18T09:42:25.833Z"
   },
   {
    "duration": 11,
    "start_time": "2022-11-18T09:42:27.046Z"
   },
   {
    "duration": 8,
    "start_time": "2022-11-18T09:42:29.000Z"
   },
   {
    "duration": 9,
    "start_time": "2022-11-18T09:42:45.725Z"
   },
   {
    "duration": 8,
    "start_time": "2022-11-18T09:42:46.435Z"
   },
   {
    "duration": 6,
    "start_time": "2022-11-18T09:44:44.399Z"
   },
   {
    "duration": 5,
    "start_time": "2022-11-18T09:44:44.486Z"
   },
   {
    "duration": 5,
    "start_time": "2022-11-18T09:44:44.755Z"
   },
   {
    "duration": 4,
    "start_time": "2022-11-18T09:44:44.840Z"
   },
   {
    "duration": 5,
    "start_time": "2022-11-18T09:44:45.087Z"
   },
   {
    "duration": 6,
    "start_time": "2022-11-18T09:44:46.224Z"
   },
   {
    "duration": 5,
    "start_time": "2022-11-18T09:44:46.480Z"
   },
   {
    "duration": 5,
    "start_time": "2022-11-18T09:44:46.592Z"
   },
   {
    "duration": 5,
    "start_time": "2022-11-18T09:44:46.832Z"
   },
   {
    "duration": 5,
    "start_time": "2022-11-18T09:44:46.912Z"
   }
  ],
  "kernelspec": {
   "display_name": "Python 3 (ipykernel)",
   "language": "python",
   "name": "python3"
  },
  "language_info": {
   "codemirror_mode": {
    "name": "ipython",
    "version": 3
   },
   "file_extension": ".py",
   "mimetype": "text/x-python",
   "name": "python",
   "nbconvert_exporter": "python",
   "pygments_lexer": "ipython3",
   "version": "3.9.5"
  },
  "toc": {
   "base_numbering": 1,
   "nav_menu": {
    "height": "116px",
    "width": "270px"
   },
   "number_sections": true,
   "sideBar": true,
   "skip_h1_title": true,
   "title_cell": "Table of Contents",
   "title_sidebar": "Contents",
   "toc_cell": false,
   "toc_position": {},
   "toc_section_display": true,
   "toc_window_display": true
  }
 },
 "nbformat": 4,
 "nbformat_minor": 2
}
